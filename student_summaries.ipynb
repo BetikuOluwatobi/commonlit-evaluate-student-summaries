{
 "cells": [
  {
   "cell_type": "code",
   "execution_count": 1,
   "id": "1d5ff8b1",
   "metadata": {
    "_cell_guid": "b1076dfc-b9ad-4769-8c92-a6c4dae69d19",
    "_uuid": "8f2839f25d086af736a60e9eeb907d3b93b6e0e5",
    "execution": {
     "iopub.execute_input": "2023-08-22T23:17:56.355400Z",
     "iopub.status.busy": "2023-08-22T23:17:56.355079Z",
     "iopub.status.idle": "2023-08-22T23:17:56.364550Z",
     "shell.execute_reply": "2023-08-22T23:17:56.363979Z"
    },
    "papermill": {
     "duration": 0.026276,
     "end_time": "2023-08-22T23:17:56.366515",
     "exception": false,
     "start_time": "2023-08-22T23:17:56.340239",
     "status": "completed"
    },
    "tags": []
   },
   "outputs": [
    {
     "name": "stdout",
     "output_type": "stream",
     "text": [
      "/kaggle/input/commonlit-evaluate-student-summaries/sample_submission.csv\n",
      "/kaggle/input/commonlit-evaluate-student-summaries/prompts_train.csv\n",
      "/kaggle/input/commonlit-evaluate-student-summaries/summaries_test.csv\n",
      "/kaggle/input/commonlit-evaluate-student-summaries/summaries_train.csv\n",
      "/kaggle/input/commonlit-evaluate-student-summaries/prompts_test.csv\n"
     ]
    }
   ],
   "source": [
    "# This Python 3 environment comes with many helpful analytics libraries installed\n",
    "# It is defined by the kaggle/python Docker image: https://github.com/kaggle/docker-python\n",
    "# For example, here's several helpful packages to load\n",
    "\n",
    "import numpy as np # linear algebra\n",
    "import pandas as pd # data processing, CSV file I/O (e.g. pd.read_csv)\n",
    "\n",
    "# Input data files are available in the read-only \"../input/\" directory\n",
    "# For example, running this (by clicking run or pressing Shift+Enter) will list all files under the input directory\n",
    "\n",
    "import os\n",
    "for dirname, _, filenames in os.walk('/kaggle/input'):\n",
    "    for filename in filenames:\n",
    "        print(os.path.join(dirname, filename))\n",
    "\n",
    "# You can write up to 20GB to the current directory (/kaggle/working/) that gets preserved as output when you create a version using \"Save & Run All\" \n",
    "# You can also write temporary files to /kaggle/temp/, but they won't be saved outside of the current session"
   ]
  },
  {
   "cell_type": "code",
   "execution_count": 2,
   "id": "3630746d",
   "metadata": {
    "execution": {
     "iopub.execute_input": "2023-08-22T23:17:56.394402Z",
     "iopub.status.busy": "2023-08-22T23:17:56.393817Z",
     "iopub.status.idle": "2023-08-22T23:18:16.775700Z",
     "shell.execute_reply": "2023-08-22T23:18:16.775028Z"
    },
    "papermill": {
     "duration": 20.398095,
     "end_time": "2023-08-22T23:18:16.777769",
     "exception": false,
     "start_time": "2023-08-22T23:17:56.379674",
     "status": "completed"
    },
    "tags": []
   },
   "outputs": [
    {
     "name": "stdout",
     "output_type": "stream",
     "text": [
      "Requirement already satisfied: preprocessing in /opt/conda/lib/python3.10/site-packages (0.1.13)\r\n",
      "Requirement already satisfied: nltk==3.2.4 in /opt/conda/lib/python3.10/site-packages (from preprocessing) (3.2.4)\r\n",
      "Requirement already satisfied: sphinx-rtd-theme==0.2.4 in /opt/conda/lib/python3.10/site-packages (from preprocessing) (0.2.4)\r\n",
      "Requirement already satisfied: six in /opt/conda/lib/python3.10/site-packages (from nltk==3.2.4->preprocessing) (1.16.0)\r\n",
      "Requirement already satisfied: nltk in /opt/conda/lib/python3.10/site-packages (3.2.4)\r\n",
      "Collecting nltk\r\n",
      "  Downloading nltk-3.8.1-py3-none-any.whl (1.5 MB)\r\n",
      "\u001b[2K     \u001b[90m━━━━━━━━━━━━━━━━━━━━━━━━━━━━━━━━━━━━━━━━\u001b[0m \u001b[32m1.5/1.5 MB\u001b[0m \u001b[31m19.0 MB/s\u001b[0m eta \u001b[36m0:00:00\u001b[0m\r\n",
      "\u001b[?25hRequirement already satisfied: click in /opt/conda/lib/python3.10/site-packages (from nltk) (8.1.3)\r\n",
      "Requirement already satisfied: joblib in /opt/conda/lib/python3.10/site-packages (from nltk) (1.2.0)\r\n",
      "Requirement already satisfied: regex>=2021.8.3 in /opt/conda/lib/python3.10/site-packages (from nltk) (2023.6.3)\r\n",
      "Requirement already satisfied: tqdm in /opt/conda/lib/python3.10/site-packages (from nltk) (4.65.0)\r\n",
      "Installing collected packages: nltk\r\n",
      "  Attempting uninstall: nltk\r\n",
      "    Found existing installation: nltk 3.2.4\r\n",
      "    Uninstalling nltk-3.2.4:\r\n",
      "      Successfully uninstalled nltk-3.2.4\r\n",
      "\u001b[31mERROR: pip's dependency resolver does not currently take into account all the packages that are installed. This behaviour is the source of the following dependency conflicts.\r\n",
      "preprocessing 0.1.13 requires nltk==3.2.4, but you have nltk 3.8.1 which is incompatible.\u001b[0m\u001b[31m\r\n",
      "\u001b[0mSuccessfully installed nltk-3.8.1\r\n"
     ]
    }
   ],
   "source": [
    "!pip install preprocessing --upgrade\n",
    "!pip install nltk --upgrade"
   ]
  },
  {
   "cell_type": "code",
   "execution_count": 3,
   "id": "c26c94a9",
   "metadata": {
    "execution": {
     "iopub.execute_input": "2023-08-22T23:18:16.805524Z",
     "iopub.status.busy": "2023-08-22T23:18:16.805146Z",
     "iopub.status.idle": "2023-08-22T23:18:16.810023Z",
     "shell.execute_reply": "2023-08-22T23:18:16.808926Z"
    },
    "papermill": {
     "duration": 0.021064,
     "end_time": "2023-08-22T23:18:16.812277",
     "exception": false,
     "start_time": "2023-08-22T23:18:16.791213",
     "status": "completed"
    },
    "tags": []
   },
   "outputs": [],
   "source": [
    "import warnings\n",
    "warnings.simplefilter(\"ignore\", ResourceWarning)"
   ]
  },
  {
   "cell_type": "markdown",
   "id": "b6d3fd7b",
   "metadata": {
    "papermill": {
     "duration": 0.012714,
     "end_time": "2023-08-22T23:18:16.838593",
     "exception": false,
     "start_time": "2023-08-22T23:18:16.825879",
     "status": "completed"
    },
    "tags": []
   },
   "source": [
    "## Let's load the training data"
   ]
  },
  {
   "cell_type": "code",
   "execution_count": 4,
   "id": "6b925923",
   "metadata": {
    "execution": {
     "iopub.execute_input": "2023-08-22T23:18:16.865921Z",
     "iopub.status.busy": "2023-08-22T23:18:16.865597Z",
     "iopub.status.idle": "2023-08-22T23:18:17.014045Z",
     "shell.execute_reply": "2023-08-22T23:18:17.012771Z"
    },
    "papermill": {
     "duration": 0.164724,
     "end_time": "2023-08-22T23:18:17.016405",
     "exception": false,
     "start_time": "2023-08-22T23:18:16.851681",
     "status": "completed"
    },
    "tags": []
   },
   "outputs": [],
   "source": [
    "summary_df = pd.read_csv('/kaggle/input/commonlit-evaluate-student-summaries/summaries_train.csv')\n",
    "prompt_df = pd.read_csv('/kaggle/input/commonlit-evaluate-student-summaries/prompts_train.csv')"
   ]
  },
  {
   "cell_type": "markdown",
   "id": "f42f6fb1",
   "metadata": {
    "papermill": {
     "duration": 0.01273,
     "end_time": "2023-08-22T23:18:17.042508",
     "exception": false,
     "start_time": "2023-08-22T23:18:17.029778",
     "status": "completed"
    },
    "tags": []
   },
   "source": [
    "## Check dataframe description"
   ]
  },
  {
   "cell_type": "code",
   "execution_count": 5,
   "id": "750521d0",
   "metadata": {
    "execution": {
     "iopub.execute_input": "2023-08-22T23:18:17.070831Z",
     "iopub.status.busy": "2023-08-22T23:18:17.070463Z",
     "iopub.status.idle": "2023-08-22T23:18:17.108425Z",
     "shell.execute_reply": "2023-08-22T23:18:17.106906Z"
    },
    "papermill": {
     "duration": 0.05369,
     "end_time": "2023-08-22T23:18:17.110191",
     "exception": false,
     "start_time": "2023-08-22T23:18:17.056501",
     "status": "completed"
    },
    "tags": []
   },
   "outputs": [
    {
     "name": "stdout",
     "output_type": "stream",
     "text": [
      "<class 'pandas.core.frame.DataFrame'>\n",
      "RangeIndex: 7165 entries, 0 to 7164\n",
      "Data columns (total 5 columns):\n",
      " #   Column      Non-Null Count  Dtype  \n",
      "---  ------      --------------  -----  \n",
      " 0   student_id  7165 non-null   object \n",
      " 1   prompt_id   7165 non-null   object \n",
      " 2   text        7165 non-null   object \n",
      " 3   content     7165 non-null   float64\n",
      " 4   wording     7165 non-null   float64\n",
      "dtypes: float64(2), object(3)\n",
      "memory usage: 280.0+ KB\n"
     ]
    }
   ],
   "source": [
    "summary_df.info()"
   ]
  },
  {
   "cell_type": "code",
   "execution_count": 6,
   "id": "c51aad23",
   "metadata": {
    "execution": {
     "iopub.execute_input": "2023-08-22T23:18:17.137725Z",
     "iopub.status.busy": "2023-08-22T23:18:17.137123Z",
     "iopub.status.idle": "2023-08-22T23:18:17.146325Z",
     "shell.execute_reply": "2023-08-22T23:18:17.144907Z"
    },
    "papermill": {
     "duration": 0.025094,
     "end_time": "2023-08-22T23:18:17.148469",
     "exception": false,
     "start_time": "2023-08-22T23:18:17.123375",
     "status": "completed"
    },
    "tags": []
   },
   "outputs": [
    {
     "name": "stdout",
     "output_type": "stream",
     "text": [
      "<class 'pandas.core.frame.DataFrame'>\n",
      "RangeIndex: 4 entries, 0 to 3\n",
      "Data columns (total 4 columns):\n",
      " #   Column           Non-Null Count  Dtype \n",
      "---  ------           --------------  ----- \n",
      " 0   prompt_id        4 non-null      object\n",
      " 1   prompt_question  4 non-null      object\n",
      " 2   prompt_title     4 non-null      object\n",
      " 3   prompt_text      4 non-null      object\n",
      "dtypes: object(4)\n",
      "memory usage: 256.0+ bytes\n"
     ]
    }
   ],
   "source": [
    "prompt_df.info()"
   ]
  },
  {
   "cell_type": "markdown",
   "id": "739f3609",
   "metadata": {
    "papermill": {
     "duration": 0.013241,
     "end_time": "2023-08-22T23:18:17.175779",
     "exception": false,
     "start_time": "2023-08-22T23:18:17.162538",
     "status": "completed"
    },
    "tags": []
   },
   "source": [
    "## Primary key to combine dataframe on"
   ]
  },
  {
   "cell_type": "code",
   "execution_count": 7,
   "id": "a614e27a",
   "metadata": {
    "execution": {
     "iopub.execute_input": "2023-08-22T23:18:17.204876Z",
     "iopub.status.busy": "2023-08-22T23:18:17.204044Z",
     "iopub.status.idle": "2023-08-22T23:18:17.211245Z",
     "shell.execute_reply": "2023-08-22T23:18:17.210302Z"
    },
    "papermill": {
     "duration": 0.023595,
     "end_time": "2023-08-22T23:18:17.212962",
     "exception": false,
     "start_time": "2023-08-22T23:18:17.189367",
     "status": "completed"
    },
    "tags": []
   },
   "outputs": [
    {
     "data": {
      "text/plain": [
       "array(['39c16e', '3b9047', '814d6b', 'ebad26'], dtype=object)"
      ]
     },
     "execution_count": 7,
     "metadata": {},
     "output_type": "execute_result"
    }
   ],
   "source": [
    "prompt_df['prompt_id'].unique()"
   ]
  },
  {
   "cell_type": "code",
   "execution_count": 8,
   "id": "1a660926",
   "metadata": {
    "execution": {
     "iopub.execute_input": "2023-08-22T23:18:17.241388Z",
     "iopub.status.busy": "2023-08-22T23:18:17.241046Z",
     "iopub.status.idle": "2023-08-22T23:18:17.247353Z",
     "shell.execute_reply": "2023-08-22T23:18:17.246532Z"
    },
    "papermill": {
     "duration": 0.022789,
     "end_time": "2023-08-22T23:18:17.249244",
     "exception": false,
     "start_time": "2023-08-22T23:18:17.226455",
     "status": "completed"
    },
    "tags": []
   },
   "outputs": [
    {
     "data": {
      "text/plain": [
       "array(['814d6b', 'ebad26', '3b9047', '39c16e'], dtype=object)"
      ]
     },
     "execution_count": 8,
     "metadata": {},
     "output_type": "execute_result"
    }
   ],
   "source": [
    "summary_df['prompt_id'].unique()"
   ]
  },
  {
   "cell_type": "markdown",
   "id": "582a2070",
   "metadata": {
    "papermill": {
     "duration": 0.013663,
     "end_time": "2023-08-22T23:18:17.277286",
     "exception": false,
     "start_time": "2023-08-22T23:18:17.263623",
     "status": "completed"
    },
    "tags": []
   },
   "source": [
    "## Merge dataframe based on primary key into one"
   ]
  },
  {
   "cell_type": "code",
   "execution_count": 9,
   "id": "ca4eab7e",
   "metadata": {
    "execution": {
     "iopub.execute_input": "2023-08-22T23:18:17.305116Z",
     "iopub.status.busy": "2023-08-22T23:18:17.304795Z",
     "iopub.status.idle": "2023-08-22T23:18:17.318133Z",
     "shell.execute_reply": "2023-08-22T23:18:17.317545Z"
    },
    "papermill": {
     "duration": 0.029275,
     "end_time": "2023-08-22T23:18:17.319948",
     "exception": false,
     "start_time": "2023-08-22T23:18:17.290673",
     "status": "completed"
    },
    "tags": []
   },
   "outputs": [],
   "source": [
    "train_df = summary_df.merge(right=prompt_df,how='inner', on='prompt_id')"
   ]
  },
  {
   "cell_type": "code",
   "execution_count": 10,
   "id": "93eec8af",
   "metadata": {
    "execution": {
     "iopub.execute_input": "2023-08-22T23:18:17.347939Z",
     "iopub.status.busy": "2023-08-22T23:18:17.347644Z",
     "iopub.status.idle": "2023-08-22T23:18:17.364202Z",
     "shell.execute_reply": "2023-08-22T23:18:17.363363Z"
    },
    "papermill": {
     "duration": 0.033028,
     "end_time": "2023-08-22T23:18:17.366395",
     "exception": false,
     "start_time": "2023-08-22T23:18:17.333367",
     "status": "completed"
    },
    "tags": []
   },
   "outputs": [
    {
     "name": "stdout",
     "output_type": "stream",
     "text": [
      "<class 'pandas.core.frame.DataFrame'>\n",
      "Int64Index: 7165 entries, 0 to 7164\n",
      "Data columns (total 8 columns):\n",
      " #   Column           Non-Null Count  Dtype  \n",
      "---  ------           --------------  -----  \n",
      " 0   student_id       7165 non-null   object \n",
      " 1   prompt_id        7165 non-null   object \n",
      " 2   text             7165 non-null   object \n",
      " 3   content          7165 non-null   float64\n",
      " 4   wording          7165 non-null   float64\n",
      " 5   prompt_question  7165 non-null   object \n",
      " 6   prompt_title     7165 non-null   object \n",
      " 7   prompt_text      7165 non-null   object \n",
      "dtypes: float64(2), object(6)\n",
      "memory usage: 503.8+ KB\n"
     ]
    }
   ],
   "source": [
    "train_df.info()"
   ]
  },
  {
   "cell_type": "markdown",
   "id": "38e1b0bc",
   "metadata": {
    "papermill": {
     "duration": 0.013967,
     "end_time": "2023-08-22T23:18:17.394029",
     "exception": false,
     "start_time": "2023-08-22T23:18:17.380062",
     "status": "completed"
    },
    "tags": []
   },
   "source": [
    "### Let's perform a little exploratory analysis on the data to see what samples looks like"
   ]
  },
  {
   "cell_type": "code",
   "execution_count": 11,
   "id": "c32d9a72",
   "metadata": {
    "execution": {
     "iopub.execute_input": "2023-08-22T23:18:17.422617Z",
     "iopub.status.busy": "2023-08-22T23:18:17.422242Z",
     "iopub.status.idle": "2023-08-22T23:18:17.428450Z",
     "shell.execute_reply": "2023-08-22T23:18:17.427143Z"
    },
    "papermill": {
     "duration": 0.022329,
     "end_time": "2023-08-22T23:18:17.430164",
     "exception": false,
     "start_time": "2023-08-22T23:18:17.407835",
     "status": "completed"
    },
    "tags": []
   },
   "outputs": [
    {
     "name": "stdout",
     "output_type": "stream",
     "text": [
      "Question: Summarize how the Third Wave developed over such a short period of time and why the experiment was ended. \n",
      " \n",
      "Title: The Third Wave \n",
      "\n",
      "Text: Background \r\n",
      "The Third Wave experiment took place at Cubberley High School in Palo Alto, California during the first week of April 1967. History teacher Ron Jones, finding himself unable to explain to his students how people throughout history followed the crowd even when terrible things were happening, decided to demonstrate it to his students through an experiment. Jones announced that he was starting a movement aimed to eliminate democracy. Jones named the movement “The Third Wave” as a symbol of strength, referring to the mythical belief that the third in a series of waves is the strongest. One of the central points of this movement was that democracy’s main weakness is that it favors the individual over the whole community. Jones emphasized this main point of the movement when he created this catchy motto: “Strength through discipline, strength through community, strength through action, strength through pride.” \r\n",
      "The Experiment \r\n",
      "Jones started the first day of the experiment emphasizing simple things like proper seating, and drilled the students extensively until they got it right. He then proceeded to enforce strict classroom discipline by emerging as an authoritarian figure. This resulted in dramatic improvements to the efficiency, or orderliness, of the class.  The first day’s session ended with only a few rules. Jones intended it to be a one-day experiment. Students had to be sitting at attention before the second bell, had to stand up to ask or answer questions and had to do it in three words or fewer, and were required to preface each remark with “Mr. Jones.” As the week went on, Jones’ class transformed into a group with a supreme sense of discipline and community. Jones made up a salute resembling that of the Nazi regime and ordered class members to salute each other even outside the class. They all obeyed this command. \r\n",
      "After only three days, the experiment took on a life of its own, with students from all over the school joining in. The class expanded from initial 30 students to 43 attendees. All of the students showed drastic improvement in their academic skills and tremendous motivation. All of the students were issued a member card and each of them received a special assignment, like designing a Third Wave Banner, stopping non-members from entering the class, or other tasks to bring honor to the movement. Jones instructed the students on how to initiate new members, and by the end of the day the movement had over 200 participants. Jones was surprised that some of the students started reporting to him when other members of the movement failed to abide by the rules. \r\n",
      "By the fourth day of the experiment, the students became increasingly involved in the project and their discipline and loyalty to the project was so outstanding that Jones felt it was slipping out of control. He decided to terminate the movement, so he lied to students by announcing that the Third Wave was a part of a nationwide movement and that on the next day a presidential candidate of the movement would publicly announce its existence on television. Jones ordered students to attend a noon rally on Friday to witness the announcement. \r\n",
      "At the end of the week, instead of a televised address of their leader, the students were presented with a blank channel. After a few minutes of waiting, Jones announced that they had been a part of an experiment to demonstrate how people willingly create a sense of superiority over others, and how this can lead people to justify doing horrible things in the name of the state’s honor.\n"
     ]
    }
   ],
   "source": [
    "print('''Question: %s \\n \n",
    "Title: %s \\n\n",
    "Text: %s'''%(train_df.iloc[1]['prompt_question'],train_df.iloc[1]['prompt_title'],train_df.iloc[1]['prompt_text']))"
   ]
  },
  {
   "cell_type": "markdown",
   "id": "00af4019",
   "metadata": {
    "papermill": {
     "duration": 0.012686,
     "end_time": "2023-08-22T23:18:17.456064",
     "exception": false,
     "start_time": "2023-08-22T23:18:17.443378",
     "status": "completed"
    },
    "tags": []
   },
   "source": [
    "### Let's check what the student summary looks like"
   ]
  },
  {
   "cell_type": "code",
   "execution_count": 12,
   "id": "efc3feee",
   "metadata": {
    "execution": {
     "iopub.execute_input": "2023-08-22T23:18:17.484296Z",
     "iopub.status.busy": "2023-08-22T23:18:17.483362Z",
     "iopub.status.idle": "2023-08-22T23:18:17.490156Z",
     "shell.execute_reply": "2023-08-22T23:18:17.489248Z"
    },
    "papermill": {
     "duration": 0.022811,
     "end_time": "2023-08-22T23:18:17.491781",
     "exception": false,
     "start_time": "2023-08-22T23:18:17.468970",
     "status": "completed"
    },
    "tags": []
   },
   "outputs": [
    {
     "name": "stdout",
     "output_type": "stream",
     "text": [
      "('Question: Summarize how the Third Wave developed over such a short period of '\n",
      " 'time and why the experiment was ended.\\n'\n",
      " 'Summary: The third wave was an experimentto see how people reacted to a new '\n",
      " 'one leader government. It gained popularity as people wanted to try new '\n",
      " 'things. The students follow anything that is said and start turning on '\n",
      " 'eachother to gain higher power. They had to stop the experement as too many '\n",
      " 'people got to radical with it blindly following there leader\\n'\n",
      " 'Content Score: 0.205682506482641\\n'\n",
      " 'Wording Score: 0.380537638762288')\n"
     ]
    }
   ],
   "source": [
    "from pprint import pformat\n",
    "print(pformat('''Question: %s\n",
    "Summary: %s\n",
    "Content Score: %s\n",
    "Wording Score: %s'''%(train_df.iloc[0]['prompt_question'],train_df.iloc[0]['text'], train_df.iloc[0]['content'],\n",
    "                           train_df.iloc[0]['wording'])))"
   ]
  },
  {
   "cell_type": "markdown",
   "id": "1b1a9074",
   "metadata": {
    "papermill": {
     "duration": 0.012797,
     "end_time": "2023-08-22T23:18:17.517524",
     "exception": false,
     "start_time": "2023-08-22T23:18:17.504727",
     "status": "completed"
    },
    "tags": []
   },
   "source": [
    "## Let's build a helper function that displays N text in a pretty format"
   ]
  },
  {
   "cell_type": "code",
   "execution_count": 13,
   "id": "eb92594b",
   "metadata": {
    "execution": {
     "iopub.execute_input": "2023-08-22T23:18:17.545249Z",
     "iopub.status.busy": "2023-08-22T23:18:17.544836Z",
     "iopub.status.idle": "2023-08-22T23:18:17.550835Z",
     "shell.execute_reply": "2023-08-22T23:18:17.549863Z"
    },
    "papermill": {
     "duration": 0.021906,
     "end_time": "2023-08-22T23:18:17.552457",
     "exception": false,
     "start_time": "2023-08-22T23:18:17.530551",
     "status": "completed"
    },
    "tags": []
   },
   "outputs": [],
   "source": [
    "def display_text(s=1,n=10,df=train_df):\n",
    "    \"\"\"\n",
    "    This function takes n as input and displays n section of text\n",
    "    \"\"\"\n",
    "    for i in range(s,n):\n",
    "        p_sum = pformat('''Question: %s \\nSummary: %s \\nContent Score: %s \\nWording Score: %s'''%(df.iloc[i]['prompt_question'],df.iloc[i]['text'], df.iloc[i]['content'],\n",
    "                           df.iloc[i]['wording']))\n",
    "        print(p_sum,end='\\n\\n')"
   ]
  },
  {
   "cell_type": "code",
   "execution_count": 14,
   "id": "dcad9f64",
   "metadata": {
    "execution": {
     "iopub.execute_input": "2023-08-22T23:18:17.580382Z",
     "iopub.status.busy": "2023-08-22T23:18:17.580003Z",
     "iopub.status.idle": "2023-08-22T23:18:17.595141Z",
     "shell.execute_reply": "2023-08-22T23:18:17.594420Z"
    },
    "papermill": {
     "duration": 0.031637,
     "end_time": "2023-08-22T23:18:17.597373",
     "exception": false,
     "start_time": "2023-08-22T23:18:17.565736",
     "status": "completed"
    },
    "tags": []
   },
   "outputs": [
    {
     "name": "stdout",
     "output_type": "stream",
     "text": [
      "('Question: Summarize how the Third Wave developed over such a short period of '\n",
      " 'time and why the experiment was ended. \\n'\n",
      " 'Summary: The Third Wave developed over such a short period of time. Jones '\n",
      " 'emphasized many simple rules and made sure the students did it right. '\n",
      " 'Students also had to salute each other in a specific way that the teacher '\n",
      " 'had made. On the fourth day, Jones claimed that things started getting out '\n",
      " 'of control because the students became increasingly involved in the project, '\n",
      " 'so their discipline and loyalty to the project was overly outstanding. So '\n",
      " 'Jones decided to terminate the movement and lied to the students by '\n",
      " 'announcing that the Third Wave was a part of a nationwide movement.  \\n'\n",
      " 'Content Score: 1.46743085810556 \\n'\n",
      " 'Wording Score: 1.84017156306968')\n",
      "\n",
      "('Question: Summarize how the Third Wave developed over such a short period of '\n",
      " 'time and why the experiment was ended. \\n'\n",
      " 'Summary: It happened so fastly because the orig nail kids in the experiment '\n",
      " 'were getting other kids ro joined it ended so fast because john relized that '\n",
      " \"what he was doing was bennidificial but he wasn't teaching it in a proper \"\n",
      " 'way  \\n'\n",
      " 'Content Score: -1.54716321678788 \\n'\n",
      " 'Wording Score: -1.46124482282529')\n",
      "\n",
      "('Question: Summarize how the Third Wave developed over such a short period of '\n",
      " 'time and why the experiment was ended. \\n'\n",
      " 'Summary: Beacuse it was planned out by the state as an experiment on the '\n",
      " 'kids that the teacher mr. jones announced, and it was based on things that '\n",
      " 'happened in the past. This eneded because it was just an experiment to see '\n",
      " 'how people willingly create sence of superiority over others and how this '\n",
      " \"can lead people to doing horriblw things in the name of the state's \"\n",
      " 'honor.  \\n'\n",
      " 'Content Score: -0.564001535126031 \\n'\n",
      " 'Wording Score: 0.544047268581291')\n",
      "\n",
      "('Question: Summarize how the Third Wave developed over such a short period of '\n",
      " 'time and why the experiment was ended. \\n'\n",
      " 'Summary: The third wave wasan experiment  to show dictatorship.Ron did this '\n",
      " 'to prepare the class for the election. It shows how easily people will join '\n",
      " 'a group even if its terrible \\n'\n",
      " 'Content Score: -0.917082380091026 \\n'\n",
      " 'Wording Score: -0.111454939107718')\n",
      "\n",
      "('Question: Summarize how the Third Wave developed over such a short period of '\n",
      " 'time and why the experiment was ended. \\n'\n",
      " 'Summary: With the Third Wave, Ron emphasized many simple rules and made sure '\n",
      " 'the students were doing things right. He developed this authoritative '\n",
      " 'dictatorship in the classroom for the knowledge of students. The experiment '\n",
      " 'came to an end because it was slipping out of control and the students '\n",
      " 'became very involved in the project.  \\n'\n",
      " 'Content Score: -0.376762983040429 \\n'\n",
      " 'Wording Score: 0.547660629074304')\n",
      "\n",
      "('Question: Summarize how the Third Wave developed over such a short period of '\n",
      " 'time and why the experiment was ended. \\n'\n",
      " 'Summary:     It rapidly gained followers due to the simple fact of herd '\n",
      " 'behavior.   We see students being discriminated against and students all '\n",
      " 'these other students joining that the individual student may feel like the '\n",
      " 'odd one out for not joining.   The experiment was ended due to the fact that '\n",
      " 'it was spiralling out of control, and it was shown to the students just how '\n",
      " 'easily they followed the crowd. \\n'\n",
      " 'Content Score: 0.265322724198843 \\n'\n",
      " 'Wording Score: 0.715826497971815')\n",
      "\n",
      "('Question: Summarize how the Third Wave developed over such a short period of '\n",
      " 'time and why the experiment was ended. \\n'\n",
      " 'Summary: Ron Jones was a history teacher that created the third wave '\n",
      " 'movement  because he  aimed to eliminate democracy. So that what he did he '\n",
      " 'also created a moto  “Strength through discipline, strength through '\n",
      " 'community, strength through action, strength through pride.”At the end of '\n",
      " 'the week, instead of a televised address of their leader, the students were '\n",
      " 'presented with a blank channel.  \\n'\n",
      " 'Content Score: -0.0621059315581789 \\n'\n",
      " 'Wording Score: -0.380727453312108')\n",
      "\n",
      "('Question: Summarize how the Third Wave developed over such a short period of '\n",
      " 'time and why the experiment was ended. \\n'\n",
      " 'Summary: It was developed over such a short time because the teacher had '\n",
      " 'perfect conditions for conducting the experiment and had more than enough '\n",
      " 'willing participants. It ended so quickly because his point had been proven, '\n",
      " 'and he felt it was getting out of control. \\n'\n",
      " 'Content Score: -0.0938138317174397 \\n'\n",
      " 'Wording Score: 0.503832933489619')\n",
      "\n",
      "('Question: Summarize how the Third Wave developed over such a short period of '\n",
      " 'time and why the experiment was ended. \\n'\n",
      " 'Summary: The experimen devolved so quickly over such a small amount of time '\n",
      " 'bec the children were really into it and all about doing something that they '\n",
      " 'thought was good for their country, eventually it got to be too much and it '\n",
      " 'had to end because it became uncontrollabl. \\n'\n",
      " 'Content Score: -0.99326978468432 \\n'\n",
      " 'Wording Score: -0.367276199174599')\n",
      "\n",
      "('Question: Summarize how the Third Wave developed over such a short period of '\n",
      " 'time and why the experiment was ended. \\n'\n",
      " 'Summary: The Third Wave experiment spread so quickly beacuse of exclusivity. '\n",
      " 'People always want to be included so when they saw other students included '\n",
      " 'in something that they werent, they wanted to join. Soon, there were over '\n",
      " '200 perticipants despite only starting with 30. This shows that people just '\n",
      " 'follow what other people are doing. I assume that this became kind of a '\n",
      " '\"trend\" around the school so nobody wanted to be excluded. They didn\\'t want '\n",
      " 'to seem like the odd ones out. Because of this, the experiment got too out '\n",
      " 'of control so it had to be stopped.  \\n'\n",
      " 'Content Score: 1.78783686454465 \\n'\n",
      " 'Wording Score: 2.1392391407142')\n",
      "\n",
      "('Question: Summarize how the Third Wave developed over such a short period of '\n",
      " 'time and why the experiment was ended. \\n'\n",
      " 'Summary: The Third wave was developed over a short period of time because '\n",
      " 'people naturallt follow the crowd.  It was almost like a trend on social '\n",
      " 'media, everyone was participating so it gained popularity.  As stated in the '\n",
      " \"text, ''He then proceeded to enforce strict classroom discipline by emerging \"\n",
      " \"as an authoritarian figure.''  This experiment had to end because it was \"\n",
      " 'growing out of control.  In conclusion the experiment only ran for a shrt '\n",
      " 'period of time because Jones proved his point and ended up teaching more '\n",
      " 'than just his classes. \\n'\n",
      " 'Content Score: 0.643625564868572 \\n'\n",
      " 'Wording Score: 0.45708281784602')\n",
      "\n",
      "('Question: Summarize how the Third Wave developed over such a short period of '\n",
      " 'time and why the experiment was ended. \\n'\n",
      " 'Summary: The thrid wave was developed as a way to teach students why people '\n",
      " 'conform to crowds, the experiment ended as it was getting out of control, '\n",
      " 'the students learned that they were brainwashed the whole time. \\n'\n",
      " 'Content Score: -0.933629566968118 \\n'\n",
      " 'Wording Score: -0.0319873399650709')\n",
      "\n",
      "('Question: Summarize how the Third Wave developed over such a short period of '\n",
      " 'time and why the experiment was ended. \\n'\n",
      " 'Summary:     The third wave developed so quick in a matter of days, crazy '\n",
      " 'right? Mr. Jones intended to only do this experiment in one day but took '\n",
      " 'four days for the students to do this because many students were actually '\n",
      " 'intrested in doing this experiment. This  class took off so quick because '\n",
      " 'Mr. jones was teaching students ¨strength through dicipline, strength '\n",
      " 'through community, strength through action, strength through pride¨ (1) just '\n",
      " 'how his motto says. In the matter of the next day, his class had gained 13 '\n",
      " 'students because many sudents wanted to perhaps haave the skill Mr. Joness '\n",
      " 'was teaching. Mr. Jones had to cut the eperiment after the fourth day '\n",
      " 'because first of all, his experiment was intended to be only a day '\n",
      " 'experiment and second of all because He thought it was already slipping out '\n",
      " 'of hand. All what Mr. jones wanted to test these students were  on their '\n",
      " 'superiorty.  \\n'\n",
      " 'Content Score: 1.59939167383688 \\n'\n",
      " 'Wording Score: 2.01032653586767')\n",
      "\n",
      "('Question: Summarize how the Third Wave developed over such a short period of '\n",
      " 'time and why the experiment was ended. \\n'\n",
      " 'Summary: People wanted to be involved in something. The rules made everybody '\n",
      " 'the same and they felt like they belonged. It also gave them pride in what '\n",
      " 'they were doing.  it was well recognized and orderly and attractive people. '\n",
      " 'And the experiment ended because the students were too involved. They really '\n",
      " 'believed it and he was losing control of it. \\n'\n",
      " 'Content Score: 0.205682506482641 \\n'\n",
      " 'Wording Score: 0.380537638762288')\n",
      "\n",
      "('Question: Summarize how the Third Wave developed over such a short period of '\n",
      " 'time and why the experiment was ended. \\n'\n",
      " 'Summary: It was developed as an experiment but after it became repetitive '\n",
      " 'the students got more involved. Mr. Jones had to end it because it was '\n",
      " 'getting out of control. \\n'\n",
      " 'Content Score: -0.974242264823977 \\n'\n",
      " 'Wording Score: -0.751413840355257')\n",
      "\n",
      "('Question: Summarize how the Third Wave developed over such a short period of '\n",
      " 'time and why the experiment was ended. \\n'\n",
      " 'Summary: The third wave gained fame through the school quickly, in under a '\n",
      " 'couple days, but Jones felt that it was slipping out of control and lied to '\n",
      " 'the students to end it. \\n'\n",
      " 'Content Score: -1.07261303201737 \\n'\n",
      " 'Wording Score: -0.999628686402458')\n",
      "\n",
      "('Question: Summarize how the Third Wave developed over such a short period of '\n",
      " 'time and why the experiment was ended. \\n'\n",
      " 'Summary: The third wave developed by having meeting during school like a '\n",
      " 'club. And only let certain kids in. They made the kids tell them if anyone '\n",
      " 'was talking about them so they wrote it down and would know. It ended '\n",
      " 'because it got out of control. \\n'\n",
      " 'Content Score: -0.0938138317174397 \\n'\n",
      " 'Wording Score: 0.503832933489619')\n",
      "\n",
      "('Question: Summarize how the Third Wave developed over such a short period of '\n",
      " 'time and why the experiment was ended. \\n'\n",
      " 'Summary: The Third Wage developed with starting out with this teacher '\n",
      " 'announcing new rules. Soon after, that students complied. With the more '\n",
      " 'complying, the more other joined. This got bogged, and bigger. Students '\n",
      " 'became loyal the the obedience in which they had surrendered to. They then '\n",
      " 'went as far as believing it was going to be their new society. Eventually it '\n",
      " 'got so big he had to tell the students it was a hoax, and expirement on them '\n",
      " 'about conformity. \\n'\n",
      " 'Content Score: 1.52004842650383 \\n'\n",
      " 'Wording Score: 1.37797404863981')\n",
      "\n",
      "('Question: Summarize how the Third Wave developed over such a short period of '\n",
      " 'time and why the experiment was ended. \\n'\n",
      " \"Summary: It developed pretty quickly because the student's were so many \"\n",
      " 'students were so divulgued in this experiment many people started to join '\n",
      " 'and it got to the point were the students were taking it too serisouly so '\n",
      " 'Mr. Jones decided to shut it down. \\n'\n",
      " 'Content Score: -0.99326978468432 \\n'\n",
      " 'Wording Score: -0.367276199174599')\n",
      "\n",
      "('Question: Summarize how the Third Wave developed over such a short period of '\n",
      " 'time and why the experiment was ended. \\n'\n",
      " 'Summary: It developed quickly because the students thought that being a part '\n",
      " 'of a community strengthened the school.  Mr. Jones ended the experiment '\n",
      " 'because it was getting out of control. \\n'\n",
      " 'Content Score: -0.910596475636499 \\n'\n",
      " 'Wording Score: -0.0817694380946405')\n",
      "\n"
     ]
    }
   ],
   "source": [
    "display_text(s=200,n=220,df=train_df)"
   ]
  },
  {
   "cell_type": "markdown",
   "id": "c9935cf8",
   "metadata": {
    "papermill": {
     "duration": 0.013418,
     "end_time": "2023-08-22T23:18:17.624797",
     "exception": false,
     "start_time": "2023-08-22T23:18:17.611379",
     "status": "completed"
    },
    "tags": []
   },
   "source": [
    "#### Combine the Title, Question, Context and Summary text into one large block of text"
   ]
  },
  {
   "cell_type": "code",
   "execution_count": 15,
   "id": "753aa7bc",
   "metadata": {
    "execution": {
     "iopub.execute_input": "2023-08-22T23:18:17.654357Z",
     "iopub.status.busy": "2023-08-22T23:18:17.653851Z",
     "iopub.status.idle": "2023-08-22T23:18:17.659687Z",
     "shell.execute_reply": "2023-08-22T23:18:17.658620Z"
    },
    "papermill": {
     "duration": 0.023146,
     "end_time": "2023-08-22T23:18:17.661580",
     "exception": false,
     "start_time": "2023-08-22T23:18:17.638434",
     "status": "completed"
    },
    "tags": []
   },
   "outputs": [],
   "source": [
    "sample = 'Title:\\n'+train_df.iloc[0]['prompt_title']+'\\nQuestion:\\n'+train_df.iloc[0]['prompt_question']+'\\nText:\\n'+train_df.iloc[0]['prompt_text']+'\\nAnswer:\\n'+train_df.iloc[0]['text']"
   ]
  },
  {
   "cell_type": "code",
   "execution_count": 16,
   "id": "aa96d7cd",
   "metadata": {
    "execution": {
     "iopub.execute_input": "2023-08-22T23:18:17.690992Z",
     "iopub.status.busy": "2023-08-22T23:18:17.690705Z",
     "iopub.status.idle": "2023-08-22T23:18:17.695791Z",
     "shell.execute_reply": "2023-08-22T23:18:17.694562Z"
    },
    "papermill": {
     "duration": 0.021936,
     "end_time": "2023-08-22T23:18:17.697728",
     "exception": false,
     "start_time": "2023-08-22T23:18:17.675792",
     "status": "completed"
    },
    "tags": []
   },
   "outputs": [
    {
     "name": "stdout",
     "output_type": "stream",
     "text": [
      "Title:\n",
      "The Third Wave\n",
      "Question:\n",
      "Summarize how the Third Wave developed over such a short period of time and why the experiment was ended.\n",
      "Text:\n",
      "Background \r\n",
      "The Third Wave experiment took place at Cubberley High School in Palo Alto, California during the first week of April 1967. History teacher Ron Jones, finding himself unable to explain to his students how people throughout history followed the crowd even when terrible things were happening, decided to demonstrate it to his students through an experiment. Jones announced that he was starting a movement aimed to eliminate democracy. Jones named the movement “The Third Wave” as a symbol of strength, referring to the mythical belief that the third in a series of waves is the strongest. One of the central points of this movement was that democracy’s main weakness is that it favors the individual over the whole community. Jones emphasized this main point of the movement when he created this catchy motto: “Strength through discipline, strength through community, strength through action, strength through pride.” \r\n",
      "The Experiment \r\n",
      "Jones started the first day of the experiment emphasizing simple things like proper seating, and drilled the students extensively until they got it right. He then proceeded to enforce strict classroom discipline by emerging as an authoritarian figure. This resulted in dramatic improvements to the efficiency, or orderliness, of the class.  The first day’s session ended with only a few rules. Jones intended it to be a one-day experiment. Students had to be sitting at attention before the second bell, had to stand up to ask or answer questions and had to do it in three words or fewer, and were required to preface each remark with “Mr. Jones.” As the week went on, Jones’ class transformed into a group with a supreme sense of discipline and community. Jones made up a salute resembling that of the Nazi regime and ordered class members to salute each other even outside the class. They all obeyed this command. \r\n",
      "After only three days, the experiment took on a life of its own, with students from all over the school joining in. The class expanded from initial 30 students to 43 attendees. All of the students showed drastic improvement in their academic skills and tremendous motivation. All of the students were issued a member card and each of them received a special assignment, like designing a Third Wave Banner, stopping non-members from entering the class, or other tasks to bring honor to the movement. Jones instructed the students on how to initiate new members, and by the end of the day the movement had over 200 participants. Jones was surprised that some of the students started reporting to him when other members of the movement failed to abide by the rules. \r\n",
      "By the fourth day of the experiment, the students became increasingly involved in the project and their discipline and loyalty to the project was so outstanding that Jones felt it was slipping out of control. He decided to terminate the movement, so he lied to students by announcing that the Third Wave was a part of a nationwide movement and that on the next day a presidential candidate of the movement would publicly announce its existence on television. Jones ordered students to attend a noon rally on Friday to witness the announcement. \r\n",
      "At the end of the week, instead of a televised address of their leader, the students were presented with a blank channel. After a few minutes of waiting, Jones announced that they had been a part of an experiment to demonstrate how people willingly create a sense of superiority over others, and how this can lead people to justify doing horrible things in the name of the state’s honor.\n",
      "Answer:\n",
      "The third wave was an experimentto see how people reacted to a new one leader government. It gained popularity as people wanted to try new things. The students follow anything that is said and start turning on eachother to gain higher power. They had to stop the experement as too many people got to radical with it blindly following there leader\n"
     ]
    }
   ],
   "source": [
    "print(sample)"
   ]
  },
  {
   "cell_type": "code",
   "execution_count": 17,
   "id": "769ef87a",
   "metadata": {
    "execution": {
     "iopub.execute_input": "2023-08-22T23:18:17.726249Z",
     "iopub.status.busy": "2023-08-22T23:18:17.725896Z",
     "iopub.status.idle": "2023-08-22T23:18:17.875502Z",
     "shell.execute_reply": "2023-08-22T23:18:17.874171Z"
    },
    "papermill": {
     "duration": 0.166427,
     "end_time": "2023-08-22T23:18:17.877681",
     "exception": false,
     "start_time": "2023-08-22T23:18:17.711254",
     "status": "completed"
    },
    "tags": []
   },
   "outputs": [],
   "source": [
    "train_df['full_text'] = train_df.apply(lambda x: 'Title:\\n'+x['prompt_title']+\n",
    "               '\\nQuestion:\\n'+x['prompt_question']+\n",
    "               '\\nText:\\n'+x['prompt_text']+\n",
    "               '\\nAnswer:\\n'+x['text'],axis=1)"
   ]
  },
  {
   "cell_type": "markdown",
   "id": "f5dba6b6",
   "metadata": {
    "papermill": {
     "duration": 0.013495,
     "end_time": "2023-08-22T23:18:17.905391",
     "exception": false,
     "start_time": "2023-08-22T23:18:17.891896",
     "status": "completed"
    },
    "tags": []
   },
   "source": [
    "### Make a copy of the dataframe"
   ]
  },
  {
   "cell_type": "code",
   "execution_count": 18,
   "id": "53e0af4d",
   "metadata": {
    "execution": {
     "iopub.execute_input": "2023-08-22T23:18:17.934081Z",
     "iopub.status.busy": "2023-08-22T23:18:17.933795Z",
     "iopub.status.idle": "2023-08-22T23:18:17.941731Z",
     "shell.execute_reply": "2023-08-22T23:18:17.940631Z"
    },
    "papermill": {
     "duration": 0.024803,
     "end_time": "2023-08-22T23:18:17.943684",
     "exception": false,
     "start_time": "2023-08-22T23:18:17.918881",
     "status": "completed"
    },
    "tags": []
   },
   "outputs": [],
   "source": [
    "df = train_df[['student_id','full_text','content','wording']].copy()"
   ]
  },
  {
   "cell_type": "markdown",
   "id": "7e158350",
   "metadata": {
    "papermill": {
     "duration": 0.013668,
     "end_time": "2023-08-22T23:18:17.973067",
     "exception": false,
     "start_time": "2023-08-22T23:18:17.959399",
     "status": "completed"
    },
    "tags": []
   },
   "source": [
    "### Let's perform text preprocessing on our df full_text column"
   ]
  },
  {
   "cell_type": "code",
   "execution_count": 19,
   "id": "033baed7",
   "metadata": {
    "execution": {
     "iopub.execute_input": "2023-08-22T23:18:18.002060Z",
     "iopub.status.busy": "2023-08-22T23:18:18.001747Z",
     "iopub.status.idle": "2023-08-22T23:18:18.006381Z",
     "shell.execute_reply": "2023-08-22T23:18:18.005371Z"
    },
    "papermill": {
     "duration": 0.021617,
     "end_time": "2023-08-22T23:18:18.008636",
     "exception": false,
     "start_time": "2023-08-22T23:18:17.987019",
     "status": "completed"
    },
    "tags": []
   },
   "outputs": [],
   "source": [
    "import warnings\n",
    "warnings.simplefilter(\"ignore\", UserWarning)"
   ]
  },
  {
   "cell_type": "code",
   "execution_count": 20,
   "id": "7ebbd1c6",
   "metadata": {
    "execution": {
     "iopub.execute_input": "2023-08-22T23:18:18.039841Z",
     "iopub.status.busy": "2023-08-22T23:18:18.039492Z",
     "iopub.status.idle": "2023-08-22T23:18:19.624934Z",
     "shell.execute_reply": "2023-08-22T23:18:19.623474Z"
    },
    "papermill": {
     "duration": 1.603484,
     "end_time": "2023-08-22T23:18:19.626840",
     "exception": false,
     "start_time": "2023-08-22T23:18:18.023356",
     "status": "completed"
    },
    "tags": []
   },
   "outputs": [
    {
     "name": "stderr",
     "output_type": "stream",
     "text": [
      "[nltk_data] Downloading package wordnet to /usr/share/nltk_data...\n",
      "[nltk_data]   Package wordnet is already up-to-date!\n",
      "[nltk_data] Downloading package stopwords to /usr/share/nltk_data...\n",
      "[nltk_data]   Package stopwords is already up-to-date!\n"
     ]
    },
    {
     "data": {
      "text/plain": [
       "True"
      ]
     },
     "execution_count": 20,
     "metadata": {},
     "output_type": "execute_result"
    }
   ],
   "source": [
    "import nltk\n",
    "nltk.download('wordnet')\n",
    "nltk.download('stopwords')"
   ]
  },
  {
   "cell_type": "markdown",
   "id": "8d76b6e2",
   "metadata": {
    "papermill": {
     "duration": 0.014204,
     "end_time": "2023-08-22T23:18:19.655754",
     "exception": false,
     "start_time": "2023-08-22T23:18:19.641550",
     "status": "completed"
    },
    "tags": []
   },
   "source": [
    "### Remove Stopwords"
   ]
  },
  {
   "cell_type": "code",
   "execution_count": 21,
   "id": "f2136b19",
   "metadata": {
    "execution": {
     "iopub.execute_input": "2023-08-22T23:18:19.686463Z",
     "iopub.status.busy": "2023-08-22T23:18:19.686107Z",
     "iopub.status.idle": "2023-08-22T23:18:19.691112Z",
     "shell.execute_reply": "2023-08-22T23:18:19.690279Z"
    },
    "papermill": {
     "duration": 0.022678,
     "end_time": "2023-08-22T23:18:19.692930",
     "exception": false,
     "start_time": "2023-08-22T23:18:19.670252",
     "status": "completed"
    },
    "tags": []
   },
   "outputs": [],
   "source": [
    "from nltk.corpus import stopwords\n",
    "from nltk.stem import LancasterStemmer #,PorterStemmer, WordNetLemmatizer"
   ]
  },
  {
   "cell_type": "code",
   "execution_count": 22,
   "id": "5424c4db",
   "metadata": {
    "execution": {
     "iopub.execute_input": "2023-08-22T23:18:19.723781Z",
     "iopub.status.busy": "2023-08-22T23:18:19.723480Z",
     "iopub.status.idle": "2023-08-22T23:18:19.729168Z",
     "shell.execute_reply": "2023-08-22T23:18:19.727968Z"
    },
    "papermill": {
     "duration": 0.024244,
     "end_time": "2023-08-22T23:18:19.731483",
     "exception": false,
     "start_time": "2023-08-22T23:18:19.707239",
     "status": "completed"
    },
    "tags": []
   },
   "outputs": [],
   "source": [
    "def clean_text(text):\n",
    "    stops = stopwords.words('english')\n",
    "    processed_text = []\n",
    "    for word in text.split():\n",
    "        if word not in stops:\n",
    "            processed_text.append(word)\n",
    "    return ' '.join(processed_text)"
   ]
  },
  {
   "cell_type": "markdown",
   "id": "a42b523b",
   "metadata": {
    "papermill": {
     "duration": 0.013621,
     "end_time": "2023-08-22T23:18:19.759613",
     "exception": false,
     "start_time": "2023-08-22T23:18:19.745992",
     "status": "completed"
    },
    "tags": []
   },
   "source": [
    "### Convert words to stem"
   ]
  },
  {
   "cell_type": "code",
   "execution_count": 23,
   "id": "8e57eb03",
   "metadata": {
    "execution": {
     "iopub.execute_input": "2023-08-22T23:18:19.789085Z",
     "iopub.status.busy": "2023-08-22T23:18:19.788754Z",
     "iopub.status.idle": "2023-08-22T23:18:19.794028Z",
     "shell.execute_reply": "2023-08-22T23:18:19.793073Z"
    },
    "papermill": {
     "duration": 0.022535,
     "end_time": "2023-08-22T23:18:19.796391",
     "exception": false,
     "start_time": "2023-08-22T23:18:19.773856",
     "status": "completed"
    },
    "tags": []
   },
   "outputs": [],
   "source": [
    "def stem_word(text):\n",
    "    stem = LancasterStemmer()\n",
    "    stemmed_data = []\n",
    "    for word in text.split():\n",
    "        stemmed_data.append(stem.stem(word.lower()))\n",
    "    return ' '.join(stemmed_data)"
   ]
  },
  {
   "cell_type": "markdown",
   "id": "9454a18d",
   "metadata": {
    "papermill": {
     "duration": 0.014643,
     "end_time": "2023-08-22T23:18:19.826204",
     "exception": false,
     "start_time": "2023-08-22T23:18:19.811561",
     "status": "completed"
    },
    "tags": []
   },
   "source": [
    "### Create Bag of Words for data"
   ]
  },
  {
   "cell_type": "code",
   "execution_count": 24,
   "id": "883a6dff",
   "metadata": {
    "execution": {
     "iopub.execute_input": "2023-08-22T23:18:19.856475Z",
     "iopub.status.busy": "2023-08-22T23:18:19.856122Z",
     "iopub.status.idle": "2023-08-22T23:18:19.861285Z",
     "shell.execute_reply": "2023-08-22T23:18:19.860078Z"
    },
    "papermill": {
     "duration": 0.022178,
     "end_time": "2023-08-22T23:18:19.863163",
     "exception": false,
     "start_time": "2023-08-22T23:18:19.840985",
     "status": "completed"
    },
    "tags": []
   },
   "outputs": [],
   "source": [
    "from sklearn.feature_extraction.text import CountVectorizer, TfidfTransformer"
   ]
  },
  {
   "cell_type": "markdown",
   "id": "b0c63aab",
   "metadata": {
    "papermill": {
     "duration": 0.013584,
     "end_time": "2023-08-22T23:18:19.890338",
     "exception": false,
     "start_time": "2023-08-22T23:18:19.876754",
     "status": "completed"
    },
    "tags": []
   },
   "source": [
    "### Input all libraries"
   ]
  },
  {
   "cell_type": "code",
   "execution_count": 25,
   "id": "f01bd86d",
   "metadata": {
    "execution": {
     "iopub.execute_input": "2023-08-22T23:18:19.922324Z",
     "iopub.status.busy": "2023-08-22T23:18:19.921193Z",
     "iopub.status.idle": "2023-08-22T23:18:20.168998Z",
     "shell.execute_reply": "2023-08-22T23:18:20.168051Z"
    },
    "papermill": {
     "duration": 0.266057,
     "end_time": "2023-08-22T23:18:20.171133",
     "exception": false,
     "start_time": "2023-08-22T23:18:19.905076",
     "status": "completed"
    },
    "tags": []
   },
   "outputs": [
    {
     "name": "stderr",
     "output_type": "stream",
     "text": [
      "[nltk_data] Downloading package wordnet to /usr/share/nltk_data...\n",
      "[nltk_data]   Package wordnet is already up-to-date!\n",
      "[nltk_data] Downloading package stopwords to /usr/share/nltk_data...\n",
      "[nltk_data]   Package stopwords is already up-to-date!\n"
     ]
    },
    {
     "data": {
      "text/plain": [
       "True"
      ]
     },
     "execution_count": 25,
     "metadata": {},
     "output_type": "execute_result"
    }
   ],
   "source": [
    "import numpy as np # linear algebra\n",
    "import pandas as pd # data processing, CSV file I/O (e.g. pd.read_csv)\n",
    "import nltk\n",
    "from nltk.corpus import stopwords\n",
    "from nltk.stem import LancasterStemmer,WordNetLemmatizer\n",
    "from sklearn.feature_extraction.text import CountVectorizer, TfidfTransformer\n",
    "from sklearn.ensemble import RandomForestRegressor\n",
    "from sklearn.multioutput import MultiOutputRegressor\n",
    "from sklearn.metrics import make_scorer\n",
    "from sklearn.model_selection import train_test_split, GridSearchCV\n",
    "from sklearn.decomposition import PCA\n",
    "from sklearn.preprocessing import StandardScaler\n",
    "\n",
    "nltk.download('wordnet')\n",
    "nltk.download('stopwords')"
   ]
  },
  {
   "cell_type": "code",
   "execution_count": 26,
   "id": "c314148a",
   "metadata": {
    "execution": {
     "iopub.execute_input": "2023-08-22T23:18:20.202140Z",
     "iopub.status.busy": "2023-08-22T23:18:20.200910Z",
     "iopub.status.idle": "2023-08-22T23:18:20.211439Z",
     "shell.execute_reply": "2023-08-22T23:18:20.210366Z"
    },
    "papermill": {
     "duration": 0.027884,
     "end_time": "2023-08-22T23:18:20.213625",
     "exception": false,
     "start_time": "2023-08-22T23:18:20.185741",
     "status": "completed"
    },
    "tags": []
   },
   "outputs": [],
   "source": [
    "def preprocess_data(summary_df,prompt_df,ngram_range=(1,1)):\n",
    "    train_df = summary_df.merge(right=prompt_df,how='inner', on='prompt_id')\n",
    "    train_df['full_text'] = train_df.apply(lambda x: 'Title:\\n'+x['prompt_title']+\n",
    "                   '\\nQuestion:\\n'+x['prompt_question']+\n",
    "                   '\\nText:\\n'+x['prompt_text']+\n",
    "                   '\\nAnswer:\\n'+x['text'],axis=1)\n",
    "    train_df['full_text'] = train_df['full_text'].apply(clean_text)\n",
    "    train_df['full_text'] = train_df['full_text'].apply(stem_word)\n",
    "    train_df['length_of_summary'] = train_df['text'].apply(lambda x: len(x))\n",
    "    train_df['summary_text'] = train_df.apply(lambda x: 'Question:\\n'+x['prompt_question']+'\\nAnswer:\\n'+x['text'],axis=1)\n",
    "    train_df['summary_text'] = train_df['summary_text'].apply(clean_text)\n",
    "    train_df['summary_text'] = train_df['summary_text'].apply(stem_word)\n",
    "    df = train_df[['student_id','full_text','summary_text','length_of_summary','content','wording']].copy()\n",
    "    global transformer, vectorizer\n",
    "    vectorizer = CountVectorizer(ngram_range=ngram_range)\n",
    "    transformer = TfidfTransformer()\n",
    "    transformed_df = transformer.fit_transform(vectorizer.fit_transform(df['full_text']))\n",
    "    summary_transformed_df = transformer.transform(vectorizer.transform(df['summary_text']))\n",
    "    scaler = StandardScaler(with_mean=True, with_std=True,)\n",
    "    X_sample_scaled = scaler.fit_transform(transformed_df.toarray())\n",
    "    X_summary_scaled = scaler.fit_transform(summary_transformed_df.toarray())\n",
    "    pca = PCA(n_components=2207)\n",
    "    pca_bag = pca.fit_transform(X_sample_scaled)\n",
    "    summary_bag = pca.transform(X_summary_scaled)\n",
    "    stacked_bag = np.hstack((pca_bag,summary_bag,df[['length_of_summary','content','wording']].values))\n",
    "    student_ids = df['student_id'].values\n",
    "    return stacked_bag, student_ids"
   ]
  },
  {
   "cell_type": "code",
   "execution_count": 27,
   "id": "1890ca81",
   "metadata": {
    "execution": {
     "iopub.execute_input": "2023-08-22T23:18:20.243014Z",
     "iopub.status.busy": "2023-08-22T23:18:20.242663Z",
     "iopub.status.idle": "2023-08-22T23:20:24.141445Z",
     "shell.execute_reply": "2023-08-22T23:20:24.140688Z"
    },
    "papermill": {
     "duration": 123.916038,
     "end_time": "2023-08-22T23:20:24.143640",
     "exception": false,
     "start_time": "2023-08-22T23:18:20.227602",
     "status": "completed"
    },
    "tags": []
   },
   "outputs": [],
   "source": [
    "bag_of_words, ids = preprocess_data(summary_df,prompt_df,ngram_range=(1,1))"
   ]
  },
  {
   "cell_type": "code",
   "execution_count": 28,
   "id": "0de31e25",
   "metadata": {
    "execution": {
     "iopub.execute_input": "2023-08-22T23:20:24.182337Z",
     "iopub.status.busy": "2023-08-22T23:20:24.182009Z",
     "iopub.status.idle": "2023-08-22T23:20:24.187104Z",
     "shell.execute_reply": "2023-08-22T23:20:24.186443Z"
    },
    "papermill": {
     "duration": 0.028923,
     "end_time": "2023-08-22T23:20:24.191429",
     "exception": false,
     "start_time": "2023-08-22T23:20:24.162506",
     "status": "completed"
    },
    "tags": []
   },
   "outputs": [
    {
     "data": {
      "text/plain": [
       "(7165, 4417)"
      ]
     },
     "execution_count": 28,
     "metadata": {},
     "output_type": "execute_result"
    }
   ],
   "source": [
    "bag_of_words.shape"
   ]
  },
  {
   "cell_type": "code",
   "execution_count": 29,
   "id": "df4b9c07",
   "metadata": {
    "execution": {
     "iopub.execute_input": "2023-08-22T23:20:24.224963Z",
     "iopub.status.busy": "2023-08-22T23:20:24.224676Z",
     "iopub.status.idle": "2023-08-22T23:20:24.228205Z",
     "shell.execute_reply": "2023-08-22T23:20:24.227580Z"
    },
    "papermill": {
     "duration": 0.020253,
     "end_time": "2023-08-22T23:20:24.230248",
     "exception": false,
     "start_time": "2023-08-22T23:20:24.209995",
     "status": "completed"
    },
    "tags": []
   },
   "outputs": [],
   "source": [
    "import matplotlib.pyplot as plt\n",
    "plt.rcParams['figure.figsize'] = (7,5)"
   ]
  },
  {
   "cell_type": "code",
   "execution_count": 30,
   "id": "052af7cf",
   "metadata": {
    "execution": {
     "iopub.execute_input": "2023-08-22T23:20:24.261542Z",
     "iopub.status.busy": "2023-08-22T23:20:24.260697Z",
     "iopub.status.idle": "2023-08-22T23:20:24.267958Z",
     "shell.execute_reply": "2023-08-22T23:20:24.267008Z"
    },
    "papermill": {
     "duration": 0.02437,
     "end_time": "2023-08-22T23:20:24.269627",
     "exception": false,
     "start_time": "2023-08-22T23:20:24.245257",
     "status": "completed"
    },
    "tags": []
   },
   "outputs": [],
   "source": [
    "def get_plot(d_lower,d_higher,cumsum):\n",
    "    fig, axis = plt.subplots()\n",
    "    axis.step(range(len(cumsum)),cumsum, where='mid', c='b', label='Explained Ration')\n",
    "    axis.vlines(d_higher, 0, cumsum[d_higher], colors='orange', linestyles='--',label=f'{d_higher} components')\n",
    "    axis.vlines(d_lower, 0, cumsum[d_lower],colors='red', linestyles='--', label=f'{d_lower} components')\n",
    "    axis.hlines(cumsum[d_higher], -200, d_higher, colors='orange', linestyles='--', label=f'{cumsum[d_higher]:.2f} cumsum')\n",
    "    axis.hlines(cumsum[d_lower], -200, d_lower,colors='red', linestyles='--', label=f'{cumsum[d_lower]:.2f} cumsum')\n",
    "    axis.set_xlim([-200, 5000])\n",
    "    axis.set_xlabel('Principal Components Index')\n",
    "    axis.set_ylabel('Explained Variance Ratio')\n",
    "    axis.grid(True)\n",
    "    plt.legend(loc='best')\n",
    "    plt.show()"
   ]
  },
  {
   "cell_type": "code",
   "execution_count": 31,
   "id": "70657a59",
   "metadata": {
    "execution": {
     "iopub.execute_input": "2023-08-22T23:20:24.300257Z",
     "iopub.status.busy": "2023-08-22T23:20:24.299904Z",
     "iopub.status.idle": "2023-08-22T23:20:24.303754Z",
     "shell.execute_reply": "2023-08-22T23:20:24.302885Z"
    },
    "papermill": {
     "duration": 0.020992,
     "end_time": "2023-08-22T23:20:24.305434",
     "exception": false,
     "start_time": "2023-08-22T23:20:24.284442",
     "status": "completed"
    },
    "tags": []
   },
   "outputs": [],
   "source": [
    "# get_plot(d_lower=d_95,d_higher=d_99,cumsum=cumsum)"
   ]
  },
  {
   "cell_type": "code",
   "execution_count": 32,
   "id": "15c5ad4a",
   "metadata": {
    "execution": {
     "iopub.execute_input": "2023-08-22T23:20:24.336125Z",
     "iopub.status.busy": "2023-08-22T23:20:24.335613Z",
     "iopub.status.idle": "2023-08-22T23:20:24.372718Z",
     "shell.execute_reply": "2023-08-22T23:20:24.372021Z"
    },
    "papermill": {
     "duration": 0.054805,
     "end_time": "2023-08-22T23:20:24.374882",
     "exception": false,
     "start_time": "2023-08-22T23:20:24.320077",
     "status": "completed"
    },
    "tags": []
   },
   "outputs": [],
   "source": [
    "X_train,X_test,y_train,y_test = train_test_split(bag_of_words[:,:-2] ,bag_of_words[:,-2:],test_size=0.1,shuffle=True,random_state=11)"
   ]
  },
  {
   "cell_type": "code",
   "execution_count": 33,
   "id": "26c61568",
   "metadata": {
    "execution": {
     "iopub.execute_input": "2023-08-22T23:20:24.406247Z",
     "iopub.status.busy": "2023-08-22T23:20:24.405727Z",
     "iopub.status.idle": "2023-08-22T23:20:24.409504Z",
     "shell.execute_reply": "2023-08-22T23:20:24.408537Z"
    },
    "papermill": {
     "duration": 0.021433,
     "end_time": "2023-08-22T23:20:24.411331",
     "exception": false,
     "start_time": "2023-08-22T23:20:24.389898",
     "status": "completed"
    },
    "tags": []
   },
   "outputs": [],
   "source": [
    "from warnings import filterwarnings\n",
    "filterwarnings(action='always')"
   ]
  },
  {
   "cell_type": "code",
   "execution_count": 34,
   "id": "a234dfd0",
   "metadata": {
    "execution": {
     "iopub.execute_input": "2023-08-22T23:20:24.442401Z",
     "iopub.status.busy": "2023-08-22T23:20:24.442051Z",
     "iopub.status.idle": "2023-08-22T23:20:32.481092Z",
     "shell.execute_reply": "2023-08-22T23:20:32.479689Z"
    },
    "papermill": {
     "duration": 8.057179,
     "end_time": "2023-08-22T23:20:32.483333",
     "exception": false,
     "start_time": "2023-08-22T23:20:24.426154",
     "status": "completed"
    },
    "tags": []
   },
   "outputs": [
    {
     "name": "stderr",
     "output_type": "stream",
     "text": [
      "/opt/conda/lib/python3.10/site-packages/tensorflow_io/python/ops/__init__.py:98: UserWarning: unable to load libtensorflow_io_plugins.so: unable to open file: libtensorflow_io_plugins.so, from paths: ['/opt/conda/lib/python3.10/site-packages/tensorflow_io/python/ops/libtensorflow_io_plugins.so']\n",
      "caused by: ['/opt/conda/lib/python3.10/site-packages/tensorflow_io/python/ops/libtensorflow_io_plugins.so: undefined symbol: _ZN3tsl6StatusC1EN10tensorflow5error4CodeESt17basic_string_viewIcSt11char_traitsIcEENS_14SourceLocationE']\n",
      "  warnings.warn(f\"unable to load libtensorflow_io_plugins.so: {e}\")\n",
      "/opt/conda/lib/python3.10/site-packages/tensorflow_io/python/ops/__init__.py:104: UserWarning: file system plugins are not loaded: unable to open file: libtensorflow_io.so, from paths: ['/opt/conda/lib/python3.10/site-packages/tensorflow_io/python/ops/libtensorflow_io.so']\n",
      "caused by: ['/opt/conda/lib/python3.10/site-packages/tensorflow_io/python/ops/libtensorflow_io.so: undefined symbol: _ZTVN10tensorflow13GcsFileSystemE']\n",
      "  warnings.warn(f\"file system plugins are not loaded: {e}\")\n"
     ]
    }
   ],
   "source": [
    "# import tensorflow_decision_forests as tfds\n",
    "import tensorflow as tf\n",
    "from tensorflow.keras.layers import Dense,LSTM, Input\n",
    "from tensorflow.keras.models import Sequential"
   ]
  },
  {
   "cell_type": "code",
   "execution_count": 35,
   "id": "24ee9312",
   "metadata": {
    "execution": {
     "iopub.execute_input": "2023-08-22T23:20:32.513651Z",
     "iopub.status.busy": "2023-08-22T23:20:32.512982Z",
     "iopub.status.idle": "2023-08-22T23:20:32.517946Z",
     "shell.execute_reply": "2023-08-22T23:20:32.516873Z"
    },
    "papermill": {
     "duration": 0.022444,
     "end_time": "2023-08-22T23:20:32.520362",
     "exception": false,
     "start_time": "2023-08-22T23:20:32.497918",
     "status": "completed"
    },
    "tags": []
   },
   "outputs": [],
   "source": [
    "f_shape = X_train.shape[1]\n",
    "batch_size = 64"
   ]
  },
  {
   "cell_type": "code",
   "execution_count": 36,
   "id": "52f62812",
   "metadata": {
    "execution": {
     "iopub.execute_input": "2023-08-22T23:20:32.552342Z",
     "iopub.status.busy": "2023-08-22T23:20:32.552002Z",
     "iopub.status.idle": "2023-08-22T23:20:32.557235Z",
     "shell.execute_reply": "2023-08-22T23:20:32.556085Z"
    },
    "papermill": {
     "duration": 0.02362,
     "end_time": "2023-08-22T23:20:32.559284",
     "exception": false,
     "start_time": "2023-08-22T23:20:32.535664",
     "status": "completed"
    },
    "tags": []
   },
   "outputs": [],
   "source": [
    "def expand_dims(features, labels):\n",
    "    features = tf.expand_dims(features, axis=0)\n",
    "    features = tf.cast(features, tf.float64, name='input_features')\n",
    "    labels = tf.cast(labels, tf.float64, name='labels')\n",
    "    return {'input_features':features}, labels"
   ]
  },
  {
   "cell_type": "code",
   "execution_count": 37,
   "id": "5ae980e7",
   "metadata": {
    "execution": {
     "iopub.execute_input": "2023-08-22T23:20:32.591060Z",
     "iopub.status.busy": "2023-08-22T23:20:32.590160Z",
     "iopub.status.idle": "2023-08-22T23:20:32.837678Z",
     "shell.execute_reply": "2023-08-22T23:20:32.836918Z"
    },
    "papermill": {
     "duration": 0.265065,
     "end_time": "2023-08-22T23:20:32.839827",
     "exception": false,
     "start_time": "2023-08-22T23:20:32.574762",
     "status": "completed"
    },
    "tags": []
   },
   "outputs": [],
   "source": [
    "dataset = tf.data.Dataset.from_tensor_slices((X_train,y_train))\n",
    "dataset = dataset.map(expand_dims,num_parallel_calls=tf.data.AUTOTUNE,deterministic=False)\n",
    "dataset = dataset.cache()\n",
    "dataset = dataset.batch(batch_size=batch_size, drop_remainder=True, num_parallel_calls=tf.data.AUTOTUNE).shuffle(X_train.shape[0])\n",
    "dataset = dataset.prefetch(tf.data.AUTOTUNE)"
   ]
  },
  {
   "cell_type": "code",
   "execution_count": 38,
   "id": "0b1e7897",
   "metadata": {
    "execution": {
     "iopub.execute_input": "2023-08-22T23:20:32.870180Z",
     "iopub.status.busy": "2023-08-22T23:20:32.869188Z",
     "iopub.status.idle": "2023-08-22T23:20:32.875842Z",
     "shell.execute_reply": "2023-08-22T23:20:32.874849Z"
    },
    "papermill": {
     "duration": 0.023515,
     "end_time": "2023-08-22T23:20:32.877913",
     "exception": false,
     "start_time": "2023-08-22T23:20:32.854398",
     "status": "completed"
    },
    "tags": []
   },
   "outputs": [
    {
     "data": {
      "text/plain": [
       "({'input_features': TensorSpec(shape=(64, 1, 4415), dtype=tf.float64, name=None)},\n",
       " TensorSpec(shape=(64, 2), dtype=tf.float64, name=None))"
      ]
     },
     "execution_count": 38,
     "metadata": {},
     "output_type": "execute_result"
    }
   ],
   "source": [
    "dataset.element_spec"
   ]
  },
  {
   "cell_type": "code",
   "execution_count": 39,
   "id": "f417bf97",
   "metadata": {
    "execution": {
     "iopub.execute_input": "2023-08-22T23:20:32.909812Z",
     "iopub.status.busy": "2023-08-22T23:20:32.909493Z",
     "iopub.status.idle": "2023-08-22T23:20:32.915164Z",
     "shell.execute_reply": "2023-08-22T23:20:32.914388Z"
    },
    "papermill": {
     "duration": 0.023512,
     "end_time": "2023-08-22T23:20:32.916728",
     "exception": false,
     "start_time": "2023-08-22T23:20:32.893216",
     "status": "completed"
    },
    "tags": []
   },
   "outputs": [],
   "source": [
    "def build_model():\n",
    "    model = Sequential([\n",
    "        Input(shape=(None,f_shape),batch_size=batch_size,name='input_features',dtype=tf.float32),\n",
    "        tf.keras.layers.LSTM(128,activation='relu'),\n",
    "        tf.keras.layers.Dropout(0.2),\n",
    "        Dense(64,activation='relu'),\n",
    "        Dense(16, activation='relu'),\n",
    "        Dense(2, activation='relu')\n",
    "    ])\n",
    "    \n",
    "    model.compile(optimizer=tf.keras.optimizers.Adam(learning_rate=0.01),\n",
    "                 loss=tf.keras.losses.Huber(), metrics=['mse'])\n",
    "    return model"
   ]
  },
  {
   "cell_type": "code",
   "execution_count": 40,
   "id": "b84c48b7",
   "metadata": {
    "execution": {
     "iopub.execute_input": "2023-08-22T23:20:32.949226Z",
     "iopub.status.busy": "2023-08-22T23:20:32.948107Z",
     "iopub.status.idle": "2023-08-22T23:20:33.184683Z",
     "shell.execute_reply": "2023-08-22T23:20:33.183741Z"
    },
    "papermill": {
     "duration": 0.255004,
     "end_time": "2023-08-22T23:20:33.186901",
     "exception": false,
     "start_time": "2023-08-22T23:20:32.931897",
     "status": "completed"
    },
    "tags": []
   },
   "outputs": [],
   "source": [
    "model = build_model()"
   ]
  },
  {
   "cell_type": "code",
   "execution_count": 41,
   "id": "cb6a7887",
   "metadata": {
    "execution": {
     "iopub.execute_input": "2023-08-22T23:20:33.217848Z",
     "iopub.status.busy": "2023-08-22T23:20:33.217493Z",
     "iopub.status.idle": "2023-08-22T23:20:33.238305Z",
     "shell.execute_reply": "2023-08-22T23:20:33.237482Z"
    },
    "papermill": {
     "duration": 0.038648,
     "end_time": "2023-08-22T23:20:33.240464",
     "exception": false,
     "start_time": "2023-08-22T23:20:33.201816",
     "status": "completed"
    },
    "tags": []
   },
   "outputs": [
    {
     "name": "stdout",
     "output_type": "stream",
     "text": [
      "Model: \"sequential\"\n",
      "_________________________________________________________________\n",
      " Layer (type)                Output Shape              Param #   \n",
      "=================================================================\n",
      " lstm (LSTM)                 (64, 128)                 2326528   \n",
      "                                                                 \n",
      " dropout (Dropout)           (64, 128)                 0         \n",
      "                                                                 \n",
      " dense (Dense)               (64, 64)                  8256      \n",
      "                                                                 \n",
      " dense_1 (Dense)             (64, 16)                  1040      \n",
      "                                                                 \n",
      " dense_2 (Dense)             (64, 2)                   34        \n",
      "                                                                 \n",
      "=================================================================\n",
      "Total params: 2,335,858\n",
      "Trainable params: 2,335,858\n",
      "Non-trainable params: 0\n",
      "_________________________________________________________________\n"
     ]
    }
   ],
   "source": [
    "model.summary()"
   ]
  },
  {
   "cell_type": "code",
   "execution_count": 42,
   "id": "824f5487",
   "metadata": {
    "execution": {
     "iopub.execute_input": "2023-08-22T23:20:33.274950Z",
     "iopub.status.busy": "2023-08-22T23:20:33.274612Z",
     "iopub.status.idle": "2023-08-22T23:20:33.280344Z",
     "shell.execute_reply": "2023-08-22T23:20:33.279355Z"
    },
    "papermill": {
     "duration": 0.024897,
     "end_time": "2023-08-22T23:20:33.281983",
     "exception": false,
     "start_time": "2023-08-22T23:20:33.257086",
     "status": "completed"
    },
    "tags": []
   },
   "outputs": [],
   "source": [
    "from tensorflow.keras.callbacks import LearningRateScheduler\n",
    "from tensorflow.keras.callbacks import EarlyStopping\n",
    "\n",
    "early_stopping = EarlyStopping(monitor='val_loss', patience=10, restore_best_weights=True)\n",
    "lr_schedule = tf.keras.callbacks.LearningRateScheduler(\n",
    "    lambda epoch: 2e-8 * 10**(epoch / 10))"
   ]
  },
  {
   "cell_type": "code",
   "execution_count": 43,
   "id": "7e3f529e",
   "metadata": {
    "execution": {
     "iopub.execute_input": "2023-08-22T23:20:33.314792Z",
     "iopub.status.busy": "2023-08-22T23:20:33.314416Z",
     "iopub.status.idle": "2023-08-22T23:24:26.666784Z",
     "shell.execute_reply": "2023-08-22T23:24:26.665954Z"
    },
    "papermill": {
     "duration": 233.370396,
     "end_time": "2023-08-22T23:24:26.668569",
     "exception": false,
     "start_time": "2023-08-22T23:20:33.298173",
     "status": "completed"
    },
    "tags": []
   },
   "outputs": [
    {
     "name": "stdout",
     "output_type": "stream",
     "text": [
      "Epoch 1/100\n",
      "100/100 [==============================] - 3s 15ms/step - loss: 3.4418 - mse: 26.4280 - lr: 2.0000e-08\n",
      "Epoch 2/100\n",
      "100/100 [==============================] - 2s 15ms/step - loss: 3.4101 - mse: 26.2648 - lr: 2.5179e-08\n",
      "Epoch 3/100\n",
      "100/100 [==============================] - 2s 15ms/step - loss: 3.4051 - mse: 25.9916 - lr: 3.1698e-08\n",
      "Epoch 4/100\n",
      "100/100 [==============================] - 1s 14ms/step - loss: 3.3958 - mse: 25.4629 - lr: 3.9905e-08\n",
      "Epoch 5/100\n",
      "100/100 [==============================] - 2s 15ms/step - loss: 3.4167 - mse: 26.1333 - lr: 5.0238e-08\n",
      "Epoch 6/100\n",
      "100/100 [==============================] - 2s 15ms/step - loss: 3.4036 - mse: 25.8173 - lr: 6.3246e-08\n",
      "Epoch 7/100\n",
      "100/100 [==============================] - 2s 15ms/step - loss: 3.3887 - mse: 25.6235 - lr: 7.9621e-08\n",
      "Epoch 8/100\n",
      "100/100 [==============================] - 1s 14ms/step - loss: 3.4244 - mse: 26.6957 - lr: 1.0024e-07\n",
      "Epoch 9/100\n",
      "100/100 [==============================] - 1s 14ms/step - loss: 3.4043 - mse: 26.2464 - lr: 1.2619e-07\n",
      "Epoch 10/100\n",
      "100/100 [==============================] - 2s 15ms/step - loss: 3.3599 - mse: 25.1546 - lr: 1.5887e-07\n",
      "Epoch 11/100\n",
      "100/100 [==============================] - 1s 14ms/step - loss: 3.3395 - mse: 25.3365 - lr: 2.0000e-07\n",
      "Epoch 12/100\n",
      "100/100 [==============================] - 1s 13ms/step - loss: 3.3627 - mse: 25.6261 - lr: 2.5179e-07\n",
      "Epoch 13/100\n",
      "100/100 [==============================] - 1s 14ms/step - loss: 3.3197 - mse: 25.2533 - lr: 3.1698e-07\n",
      "Epoch 14/100\n",
      "100/100 [==============================] - 1s 14ms/step - loss: 3.2685 - mse: 24.1411 - lr: 3.9905e-07\n",
      "Epoch 15/100\n",
      "100/100 [==============================] - 1s 13ms/step - loss: 3.2165 - mse: 23.5723 - lr: 5.0238e-07\n",
      "Epoch 16/100\n",
      "100/100 [==============================] - 1s 13ms/step - loss: 3.1349 - mse: 22.3330 - lr: 6.3246e-07\n",
      "Epoch 17/100\n",
      "100/100 [==============================] - 1s 13ms/step - loss: 3.0984 - mse: 22.9541 - lr: 7.9621e-07\n",
      "Epoch 18/100\n",
      "100/100 [==============================] - 1s 13ms/step - loss: 3.0019 - mse: 21.4688 - lr: 1.0024e-06\n",
      "Epoch 19/100\n",
      "100/100 [==============================] - 1s 13ms/step - loss: 2.8812 - mse: 20.1626 - lr: 1.2619e-06\n",
      "Epoch 20/100\n",
      "100/100 [==============================] - 1s 13ms/step - loss: 2.7616 - mse: 18.8742 - lr: 1.5887e-06\n",
      "Epoch 21/100\n",
      "100/100 [==============================] - 1s 14ms/step - loss: 2.6121 - mse: 17.0409 - lr: 2.0000e-06\n",
      "Epoch 22/100\n",
      "100/100 [==============================] - 1s 14ms/step - loss: 2.4406 - mse: 15.4899 - lr: 2.5179e-06\n",
      "Epoch 23/100\n",
      "100/100 [==============================] - 1s 13ms/step - loss: 2.2285 - mse: 13.4079 - lr: 3.1698e-06\n",
      "Epoch 24/100\n",
      "100/100 [==============================] - 1s 13ms/step - loss: 2.0109 - mse: 11.4325 - lr: 3.9905e-06\n",
      "Epoch 25/100\n",
      "100/100 [==============================] - 1s 14ms/step - loss: 1.7167 - mse: 8.9898 - lr: 5.0238e-06\n",
      "Epoch 26/100\n",
      "100/100 [==============================] - 1s 14ms/step - loss: 1.4494 - mse: 6.7596 - lr: 6.3246e-06\n",
      "Epoch 27/100\n",
      "100/100 [==============================] - 1s 14ms/step - loss: 1.1917 - mse: 5.1036 - lr: 7.9621e-06\n",
      "Epoch 28/100\n",
      "100/100 [==============================] - 1s 14ms/step - loss: 0.9678 - mse: 3.5613 - lr: 1.0024e-05\n",
      "Epoch 29/100\n",
      "100/100 [==============================] - 1s 14ms/step - loss: 0.7657 - mse: 2.4171 - lr: 1.2619e-05\n",
      "Epoch 30/100\n",
      "100/100 [==============================] - 1s 14ms/step - loss: 0.6318 - mse: 1.7838 - lr: 1.5887e-05\n",
      "Epoch 31/100\n",
      "100/100 [==============================] - 1s 14ms/step - loss: 0.5356 - mse: 1.3859 - lr: 2.0000e-05\n",
      "Epoch 32/100\n",
      "100/100 [==============================] - 1s 14ms/step - loss: 0.4903 - mse: 1.2074 - lr: 2.5179e-05\n",
      "Epoch 33/100\n",
      "100/100 [==============================] - 1s 14ms/step - loss: 0.4608 - mse: 1.1048 - lr: 3.1698e-05\n",
      "Epoch 34/100\n",
      "100/100 [==============================] - 2s 15ms/step - loss: 0.4492 - mse: 1.0898 - lr: 3.9905e-05\n",
      "Epoch 35/100\n",
      "100/100 [==============================] - 1s 14ms/step - loss: 0.4378 - mse: 1.0440 - lr: 5.0238e-05\n",
      "Epoch 36/100\n",
      "100/100 [==============================] - 1s 14ms/step - loss: 0.4290 - mse: 1.0351 - lr: 6.3246e-05\n",
      "Epoch 37/100\n",
      "100/100 [==============================] - 1s 14ms/step - loss: 0.4140 - mse: 0.9726 - lr: 7.9621e-05\n",
      "Epoch 38/100\n",
      "100/100 [==============================] - 1s 15ms/step - loss: 0.4103 - mse: 0.9647 - lr: 1.0024e-04\n",
      "Epoch 39/100\n",
      "100/100 [==============================] - 1s 15ms/step - loss: 0.4048 - mse: 0.9569 - lr: 1.2619e-04\n",
      "Epoch 40/100\n",
      "100/100 [==============================] - 2s 15ms/step - loss: 0.3945 - mse: 0.9231 - lr: 1.5887e-04\n",
      "Epoch 41/100\n",
      "100/100 [==============================] - 2s 15ms/step - loss: 0.3876 - mse: 0.9030 - lr: 2.0000e-04\n",
      "Epoch 42/100\n",
      "100/100 [==============================] - 1s 14ms/step - loss: 0.3857 - mse: 0.8991 - lr: 2.5179e-04\n",
      "Epoch 43/100\n",
      "100/100 [==============================] - 1s 14ms/step - loss: 0.3776 - mse: 0.8760 - lr: 3.1698e-04\n",
      "Epoch 44/100\n",
      "100/100 [==============================] - 2s 15ms/step - loss: 0.3770 - mse: 0.8748 - lr: 3.9905e-04\n",
      "Epoch 45/100\n",
      "100/100 [==============================] - 2s 15ms/step - loss: 0.3664 - mse: 0.8417 - lr: 5.0238e-04\n",
      "Epoch 46/100\n",
      "100/100 [==============================] - 1s 14ms/step - loss: 0.3602 - mse: 0.8236 - lr: 6.3246e-04\n",
      "Epoch 47/100\n",
      "100/100 [==============================] - 1s 14ms/step - loss: 0.3502 - mse: 0.7916 - lr: 7.9621e-04\n",
      "Epoch 48/100\n",
      "100/100 [==============================] - 1s 14ms/step - loss: 0.3390 - mse: 0.7566 - lr: 0.0010\n",
      "Epoch 49/100\n",
      "100/100 [==============================] - 2s 16ms/step - loss: 0.3248 - mse: 0.7167 - lr: 0.0013\n",
      "Epoch 50/100\n",
      "100/100 [==============================] - 1s 14ms/step - loss: 0.3221 - mse: 0.7201 - lr: 0.0016\n",
      "Epoch 51/100\n",
      "100/100 [==============================] - 1s 14ms/step - loss: 0.3139 - mse: 0.6871 - lr: 0.0020\n",
      "Epoch 52/100\n",
      "100/100 [==============================] - 1s 14ms/step - loss: 0.3157 - mse: 0.6929 - lr: 0.0025\n",
      "Epoch 53/100\n",
      "100/100 [==============================] - 1s 14ms/step - loss: 0.3225 - mse: 0.7046 - lr: 0.0032\n",
      "Epoch 54/100\n",
      "100/100 [==============================] - 1s 14ms/step - loss: 0.3192 - mse: 0.7014 - lr: 0.0040\n",
      "Epoch 55/100\n",
      "100/100 [==============================] - 1s 14ms/step - loss: 0.3129 - mse: 0.7029 - lr: 0.0050\n",
      "Epoch 56/100\n",
      "100/100 [==============================] - 1s 14ms/step - loss: 0.3082 - mse: 0.6765 - lr: 0.0063\n",
      "Epoch 57/100\n",
      "100/100 [==============================] - 1s 14ms/step - loss: 0.3094 - mse: 0.6760 - lr: 0.0080\n",
      "Epoch 58/100\n",
      "100/100 [==============================] - 1s 15ms/step - loss: 0.3005 - mse: 0.6547 - lr: 0.0100\n",
      "Epoch 59/100\n",
      "100/100 [==============================] - 1s 14ms/step - loss: 0.3046 - mse: 0.6665 - lr: 0.0126\n",
      "Epoch 60/100\n",
      "100/100 [==============================] - 1s 14ms/step - loss: 0.3101 - mse: 0.6768 - lr: 0.0159\n",
      "Epoch 61/100\n",
      "100/100 [==============================] - 2s 15ms/step - loss: 0.3106 - mse: 0.6794 - lr: 0.0200\n",
      "Epoch 62/100\n",
      "100/100 [==============================] - 1s 15ms/step - loss: 0.3281 - mse: 0.7422 - lr: 0.0252\n",
      "Epoch 63/100\n",
      "100/100 [==============================] - 2s 15ms/step - loss: 0.3214 - mse: 0.7074 - lr: 0.0317\n",
      "Epoch 64/100\n",
      "100/100 [==============================] - 1s 15ms/step - loss: 0.3424 - mse: 0.7662 - lr: 0.0399\n",
      "Epoch 65/100\n",
      "100/100 [==============================] - 1s 14ms/step - loss: 0.3771 - mse: 0.8606 - lr: 0.0502\n",
      "Epoch 66/100\n",
      "100/100 [==============================] - 1s 14ms/step - loss: 0.3724 - mse: 0.8477 - lr: 0.0632\n",
      "Epoch 67/100\n",
      "100/100 [==============================] - 1s 14ms/step - loss: 0.3694 - mse: 0.8413 - lr: 0.0796\n",
      "Epoch 68/100\n",
      "100/100 [==============================] - 1s 15ms/step - loss: 0.4272 - mse: 1.0247 - lr: 0.1002\n",
      "Epoch 69/100\n",
      "100/100 [==============================] - 1s 14ms/step - loss: 0.4499 - mse: 1.0843 - lr: 0.1262\n",
      "Epoch 70/100\n",
      "100/100 [==============================] - 1s 15ms/step - loss: 0.4499 - mse: 1.0843 - lr: 0.1589\n",
      "Epoch 71/100\n",
      "100/100 [==============================] - 1s 14ms/step - loss: 0.4498 - mse: 1.0840 - lr: 0.2000\n",
      "Epoch 72/100\n",
      "100/100 [==============================] - 1s 14ms/step - loss: 0.4499 - mse: 1.0842 - lr: 0.2518\n",
      "Epoch 73/100\n",
      "100/100 [==============================] - 1s 14ms/step - loss: 0.4498 - mse: 1.0841 - lr: 0.3170\n",
      "Epoch 74/100\n",
      "100/100 [==============================] - 1s 14ms/step - loss: 0.4499 - mse: 1.0839 - lr: 0.3991\n",
      "Epoch 75/100\n",
      "100/100 [==============================] - 1s 14ms/step - loss: 0.4500 - mse: 1.0845 - lr: 0.5024\n",
      "Epoch 76/100\n",
      "100/100 [==============================] - 2s 15ms/step - loss: 0.4498 - mse: 1.0839 - lr: 0.6325\n",
      "Epoch 77/100\n",
      "100/100 [==============================] - 2s 15ms/step - loss: 0.4500 - mse: 1.0845 - lr: 0.7962\n",
      "Epoch 78/100\n",
      "100/100 [==============================] - 1s 14ms/step - loss: 0.4500 - mse: 1.0845 - lr: 1.0024\n",
      "Epoch 79/100\n",
      "100/100 [==============================] - 2s 15ms/step - loss: 0.4500 - mse: 1.0845 - lr: 1.2619\n",
      "Epoch 80/100\n",
      "100/100 [==============================] - 2s 15ms/step - loss: 0.4501 - mse: 1.0848 - lr: 1.5887\n",
      "Epoch 81/100\n",
      "100/100 [==============================] - 1s 14ms/step - loss: 0.4500 - mse: 1.0845 - lr: 2.0000\n",
      "Epoch 82/100\n",
      "100/100 [==============================] - 1s 14ms/step - loss: 0.4500 - mse: 1.0845 - lr: 2.5179\n",
      "Epoch 83/100\n",
      "100/100 [==============================] - 1s 15ms/step - loss: 0.4500 - mse: 1.0845 - lr: 3.1698\n",
      "Epoch 84/100\n",
      "100/100 [==============================] - 2s 15ms/step - loss: 0.4500 - mse: 1.0845 - lr: 3.9905\n",
      "Epoch 85/100\n",
      "100/100 [==============================] - 2s 15ms/step - loss: 0.4500 - mse: 1.0845 - lr: 5.0238\n",
      "Epoch 86/100\n",
      "100/100 [==============================] - 1s 15ms/step - loss: 0.4500 - mse: 1.0845 - lr: 6.3246\n",
      "Epoch 87/100\n",
      "100/100 [==============================] - 1s 14ms/step - loss: 0.4500 - mse: 1.0845 - lr: 7.9621\n",
      "Epoch 88/100\n",
      "100/100 [==============================] - 1s 14ms/step - loss: 0.4500 - mse: 1.0845 - lr: 10.0237\n",
      "Epoch 89/100\n",
      "100/100 [==============================] - 1s 15ms/step - loss: 0.4500 - mse: 1.0845 - lr: 12.6191\n",
      "Epoch 90/100\n",
      "100/100 [==============================] - 1s 14ms/step - loss: 0.4500 - mse: 1.0845 - lr: 15.8866\n",
      "Epoch 91/100\n",
      "100/100 [==============================] - 1s 14ms/step - loss: 0.4500 - mse: 1.0845 - lr: 20.0000\n",
      "Epoch 92/100\n",
      "100/100 [==============================] - 2s 15ms/step - loss: 0.4500 - mse: 1.0845 - lr: 25.1785\n",
      "Epoch 93/100\n",
      "100/100 [==============================] - 1s 14ms/step - loss: 0.4500 - mse: 1.0845 - lr: 31.6979\n",
      "Epoch 94/100\n",
      "100/100 [==============================] - 1s 14ms/step - loss: 0.4500 - mse: 1.0845 - lr: 39.9052\n",
      "Epoch 95/100\n",
      "100/100 [==============================] - 1s 14ms/step - loss: 0.4500 - mse: 1.0845 - lr: 50.2377\n",
      "Epoch 96/100\n",
      "100/100 [==============================] - 1s 13ms/step - loss: 0.4500 - mse: 1.0845 - lr: 63.2456\n",
      "Epoch 97/100\n",
      "100/100 [==============================] - 1s 13ms/step - loss: 0.4500 - mse: 1.0845 - lr: 79.6214\n",
      "Epoch 98/100\n",
      "100/100 [==============================] - 1s 13ms/step - loss: 0.4500 - mse: 1.0845 - lr: 100.2374\n",
      "Epoch 99/100\n",
      "100/100 [==============================] - 1s 14ms/step - loss: 0.4500 - mse: 1.0845 - lr: 126.1915\n",
      "Epoch 100/100\n",
      "100/100 [==============================] - 1s 14ms/step - loss: 0.4500 - mse: 1.0845 - lr: 158.8656\n"
     ]
    }
   ],
   "source": [
    "history = model.fit(dataset,batch_size=batch_size,epochs=100,callbacks=[lr_schedule,early_stopping])"
   ]
  },
  {
   "cell_type": "code",
   "execution_count": 44,
   "id": "1b3c4156",
   "metadata": {
    "execution": {
     "iopub.execute_input": "2023-08-22T23:24:27.002635Z",
     "iopub.status.busy": "2023-08-22T23:24:27.001790Z",
     "iopub.status.idle": "2023-08-22T23:24:27.353538Z",
     "shell.execute_reply": "2023-08-22T23:24:27.352453Z"
    },
    "papermill": {
     "duration": 0.519353,
     "end_time": "2023-08-22T23:24:27.355744",
     "exception": false,
     "start_time": "2023-08-22T23:24:26.836391",
     "status": "completed"
    },
    "tags": []
   },
   "outputs": [
    {
     "data": {
      "image/png": "[encoded data removed]",
      "text/plain": [
       "<Figure size 1000x600 with 1 Axes>"
      ]
     },
     "metadata": {},
     "output_type": "display_data"
    }
   ],
   "source": [
    "import matplotlib.pyplot as plt\n",
    "\n",
    "# Extract learning rates and losses from the training history\n",
    "lrs = history.history['lr']\n",
    "losses = history.history['loss']\n",
    "\n",
    "plt.figure(figsize=(10, 6))\n",
    "plt.semilogx(lrs, losses)\n",
    "plt.xlabel('Learning Rate')\n",
    "plt.ylabel('Loss')\n",
    "plt.title('Loss vs Learning Rate')\n",
    "plt.grid(True)\n",
    "plt.show()\n"
   ]
  },
  {
   "cell_type": "code",
   "execution_count": 45,
   "id": "71e2d1d0",
   "metadata": {
    "execution": {
     "iopub.execute_input": "2023-08-22T23:24:27.751889Z",
     "iopub.status.busy": "2023-08-22T23:24:27.751574Z",
     "iopub.status.idle": "2023-08-22T23:24:27.757286Z",
     "shell.execute_reply": "2023-08-22T23:24:27.756372Z"
    },
    "papermill": {
     "duration": 0.177415,
     "end_time": "2023-08-22T23:24:27.758927",
     "exception": false,
     "start_time": "2023-08-22T23:24:27.581512",
     "status": "completed"
    },
    "tags": []
   },
   "outputs": [],
   "source": [
    "def build_model():\n",
    "    model = Sequential([\n",
    "        Input(shape=(None,f_shape),batch_size=batch_size,name='input_features',dtype=tf.float32),\n",
    "        tf.keras.layers.LSTM(128,activation='relu'),\n",
    "        tf.keras.layers.Dropout(0.2),\n",
    "        Dense(64,activation='relu'),\n",
    "        Dense(16, activation='relu'),\n",
    "        Dense(2, activation='relu')\n",
    "    ])\n",
    "    \n",
    "    model.compile(optimizer=tf.keras.optimizers.Adam(learning_rate=1e-3),\n",
    "                 loss=tf.keras.losses.Huber(), metrics=['mse'])\n",
    "    return model"
   ]
  },
  {
   "cell_type": "code",
   "execution_count": 46,
   "id": "a6400dce",
   "metadata": {
    "execution": {
     "iopub.execute_input": "2023-08-22T23:24:28.108274Z",
     "iopub.status.busy": "2023-08-22T23:24:28.107873Z",
     "iopub.status.idle": "2023-08-22T23:24:28.231616Z",
     "shell.execute_reply": "2023-08-22T23:24:28.230662Z"
    },
    "papermill": {
     "duration": 0.306994,
     "end_time": "2023-08-22T23:24:28.233754",
     "exception": false,
     "start_time": "2023-08-22T23:24:27.926760",
     "status": "completed"
    },
    "tags": []
   },
   "outputs": [],
   "source": [
    "model = build_model()"
   ]
  },
  {
   "cell_type": "code",
   "execution_count": 47,
   "id": "c80f2686",
   "metadata": {
    "execution": {
     "iopub.execute_input": "2023-08-22T23:24:28.572145Z",
     "iopub.status.busy": "2023-08-22T23:24:28.571404Z",
     "iopub.status.idle": "2023-08-22T23:24:28.584159Z",
     "shell.execute_reply": "2023-08-22T23:24:28.583457Z"
    },
    "papermill": {
     "duration": 0.183875,
     "end_time": "2023-08-22T23:24:28.586163",
     "exception": false,
     "start_time": "2023-08-22T23:24:28.402288",
     "status": "completed"
    },
    "tags": []
   },
   "outputs": [],
   "source": [
    "# Assuming your original dataset has 1000 examples\n",
    "dataset_size = X_train.shape[0]\n",
    "val_size = int(dataset_size * 0.05)  # 5% for validation\n",
    "train_size = dataset_size - val_size\n",
    "\n",
    "train_dataset = dataset.take(train_size)\n",
    "val_dataset = dataset.skip(train_size)"
   ]
  },
  {
   "cell_type": "code",
   "execution_count": 48,
   "id": "fdfe1b50",
   "metadata": {
    "execution": {
     "iopub.execute_input": "2023-08-22T23:24:28.926053Z",
     "iopub.status.busy": "2023-08-22T23:24:28.925524Z",
     "iopub.status.idle": "2023-08-22T23:28:10.742386Z",
     "shell.execute_reply": "2023-08-22T23:28:10.741766Z"
    },
    "papermill": {
     "duration": 221.988804,
     "end_time": "2023-08-22T23:28:10.744065",
     "exception": false,
     "start_time": "2023-08-22T23:24:28.755261",
     "status": "completed"
    },
    "tags": []
   },
   "outputs": [
    {
     "name": "stdout",
     "output_type": "stream",
     "text": [
      "Epoch 1/100\n",
      "100/100 [==============================] - 3s 14ms/step - loss: 0.4540 - mse: 1.1052\n",
      "Epoch 2/100\n",
      "100/100 [==============================] - 1s 14ms/step - loss: 0.4502 - mse: 1.0856\n",
      "Epoch 3/100\n",
      "100/100 [==============================] - 1s 13ms/step - loss: 0.4500 - mse: 1.0845\n",
      "Epoch 4/100\n",
      "100/100 [==============================] - 1s 14ms/step - loss: 0.4500 - mse: 1.0845\n",
      "Epoch 5/100\n",
      "100/100 [==============================] - 1s 14ms/step - loss: 0.4505 - mse: 1.0885\n",
      "Epoch 6/100\n",
      "100/100 [==============================] - 1s 14ms/step - loss: 0.4500 - mse: 1.0845\n",
      "Epoch 7/100\n",
      "100/100 [==============================] - 1s 13ms/step - loss: 0.4500 - mse: 1.0845\n",
      "Epoch 8/100\n",
      "100/100 [==============================] - 1s 14ms/step - loss: 0.4500 - mse: 1.0845\n",
      "Epoch 9/100\n",
      "100/100 [==============================] - 1s 14ms/step - loss: 0.4500 - mse: 1.0845\n",
      "Epoch 10/100\n",
      "100/100 [==============================] - 2s 15ms/step - loss: 0.4500 - mse: 1.0845\n",
      "Epoch 11/100\n",
      "100/100 [==============================] - 1s 14ms/step - loss: 0.4500 - mse: 1.0845\n",
      "Epoch 12/100\n",
      "100/100 [==============================] - 1s 14ms/step - loss: 0.4500 - mse: 1.0845\n",
      "Epoch 13/100\n",
      "100/100 [==============================] - 1s 15ms/step - loss: 0.4500 - mse: 1.0845\n",
      "Epoch 14/100\n",
      "100/100 [==============================] - 1s 14ms/step - loss: 0.4500 - mse: 1.0845\n",
      "Epoch 15/100\n",
      "100/100 [==============================] - 1s 15ms/step - loss: 0.4500 - mse: 1.0845\n",
      "Epoch 16/100\n",
      "100/100 [==============================] - 1s 14ms/step - loss: 0.4500 - mse: 1.0845\n",
      "Epoch 17/100\n",
      "100/100 [==============================] - 2s 15ms/step - loss: 0.4500 - mse: 1.0845\n",
      "Epoch 18/100\n",
      "100/100 [==============================] - 1s 14ms/step - loss: 0.4500 - mse: 1.0845\n",
      "Epoch 19/100\n",
      "100/100 [==============================] - 2s 15ms/step - loss: 0.4500 - mse: 1.0845\n",
      "Epoch 20/100\n",
      "100/100 [==============================] - 1s 15ms/step - loss: 0.4500 - mse: 1.0845\n",
      "Epoch 21/100\n",
      "100/100 [==============================] - 2s 15ms/step - loss: 0.4500 - mse: 1.0845\n",
      "Epoch 22/100\n",
      "100/100 [==============================] - 2s 15ms/step - loss: 0.4500 - mse: 1.0845\n",
      "Epoch 23/100\n",
      "100/100 [==============================] - 1s 14ms/step - loss: 0.4500 - mse: 1.0845\n",
      "Epoch 24/100\n",
      "100/100 [==============================] - 2s 15ms/step - loss: 0.4500 - mse: 1.0845\n",
      "Epoch 25/100\n",
      "100/100 [==============================] - 1s 14ms/step - loss: 0.4500 - mse: 1.0845\n",
      "Epoch 26/100\n",
      "100/100 [==============================] - 2s 15ms/step - loss: 0.4500 - mse: 1.0845\n",
      "Epoch 27/100\n",
      "100/100 [==============================] - 2s 15ms/step - loss: 0.4500 - mse: 1.0845\n",
      "Epoch 28/100\n",
      "100/100 [==============================] - 2s 15ms/step - loss: 0.4500 - mse: 1.0845\n",
      "Epoch 29/100\n",
      "100/100 [==============================] - 2s 16ms/step - loss: 0.4500 - mse: 1.0845\n",
      "Epoch 30/100\n",
      "100/100 [==============================] - 2s 15ms/step - loss: 0.4500 - mse: 1.0845\n",
      "Epoch 31/100\n",
      "100/100 [==============================] - 1s 14ms/step - loss: 0.4500 - mse: 1.0845\n",
      "Epoch 32/100\n",
      "100/100 [==============================] - 1s 15ms/step - loss: 0.4500 - mse: 1.0845\n",
      "Epoch 33/100\n",
      "100/100 [==============================] - 2s 15ms/step - loss: 0.4500 - mse: 1.0845\n",
      "Epoch 34/100\n",
      "100/100 [==============================] - 1s 14ms/step - loss: 0.4500 - mse: 1.0845\n",
      "Epoch 35/100\n",
      "100/100 [==============================] - 2s 15ms/step - loss: 0.4500 - mse: 1.0845\n",
      "Epoch 36/100\n",
      "100/100 [==============================] - 1s 14ms/step - loss: 0.4500 - mse: 1.0845\n",
      "Epoch 37/100\n",
      "100/100 [==============================] - 1s 15ms/step - loss: 0.4500 - mse: 1.0845\n",
      "Epoch 38/100\n",
      "100/100 [==============================] - 1s 14ms/step - loss: 0.4500 - mse: 1.0845\n",
      "Epoch 39/100\n",
      "100/100 [==============================] - 1s 14ms/step - loss: 0.4500 - mse: 1.0845\n",
      "Epoch 40/100\n",
      "100/100 [==============================] - 1s 15ms/step - loss: 0.4500 - mse: 1.0845\n",
      "Epoch 41/100\n",
      "100/100 [==============================] - 2s 15ms/step - loss: 0.4500 - mse: 1.0845\n",
      "Epoch 42/100\n",
      "100/100 [==============================] - 1s 14ms/step - loss: 0.4500 - mse: 1.0845\n",
      "Epoch 43/100\n",
      "100/100 [==============================] - 2s 15ms/step - loss: 0.4500 - mse: 1.0845\n",
      "Epoch 44/100\n",
      "100/100 [==============================] - 2s 16ms/step - loss: 0.4500 - mse: 1.0845\n",
      "Epoch 45/100\n",
      "100/100 [==============================] - 2s 15ms/step - loss: 0.4500 - mse: 1.0845\n",
      "Epoch 46/100\n",
      "100/100 [==============================] - 2s 15ms/step - loss: 0.4500 - mse: 1.0845\n",
      "Epoch 47/100\n",
      "100/100 [==============================] - 1s 14ms/step - loss: 0.4500 - mse: 1.0845\n",
      "Epoch 48/100\n",
      "100/100 [==============================] - 2s 15ms/step - loss: 0.4500 - mse: 1.0845\n",
      "Epoch 49/100\n",
      "100/100 [==============================] - 1s 14ms/step - loss: 0.4500 - mse: 1.0845\n",
      "Epoch 50/100\n",
      "100/100 [==============================] - 1s 15ms/step - loss: 0.4500 - mse: 1.0845\n",
      "Epoch 51/100\n",
      "100/100 [==============================] - 1s 15ms/step - loss: 0.4500 - mse: 1.0845\n",
      "Epoch 52/100\n",
      "100/100 [==============================] - 1s 14ms/step - loss: 0.4500 - mse: 1.0845\n",
      "Epoch 53/100\n",
      "100/100 [==============================] - 1s 14ms/step - loss: 0.4500 - mse: 1.0845\n",
      "Epoch 54/100\n",
      "100/100 [==============================] - 1s 14ms/step - loss: 0.4500 - mse: 1.0845\n",
      "Epoch 55/100\n",
      "100/100 [==============================] - 2s 15ms/step - loss: 0.4500 - mse: 1.0845\n",
      "Epoch 56/100\n",
      "100/100 [==============================] - 2s 15ms/step - loss: 0.4501 - mse: 1.0846\n",
      "Epoch 57/100\n",
      "100/100 [==============================] - 2s 15ms/step - loss: 0.4500 - mse: 1.0845\n",
      "Epoch 58/100\n",
      "100/100 [==============================] - 2s 15ms/step - loss: 0.4500 - mse: 1.0845\n",
      "Epoch 59/100\n",
      "100/100 [==============================] - 1s 15ms/step - loss: 0.4500 - mse: 1.0845\n",
      "Epoch 60/100\n",
      "100/100 [==============================] - 2s 15ms/step - loss: 0.4500 - mse: 1.0845\n",
      "Epoch 61/100\n",
      "100/100 [==============================] - 1s 14ms/step - loss: 0.4500 - mse: 1.0845\n",
      "Epoch 62/100\n",
      "100/100 [==============================] - 2s 15ms/step - loss: 0.4500 - mse: 1.0845\n",
      "Epoch 63/100\n",
      "100/100 [==============================] - 1s 14ms/step - loss: 0.4500 - mse: 1.0845\n",
      "Epoch 64/100\n",
      "100/100 [==============================] - 1s 13ms/step - loss: 0.4500 - mse: 1.0845\n",
      "Epoch 65/100\n",
      "100/100 [==============================] - 1s 14ms/step - loss: 0.4500 - mse: 1.0845\n",
      "Epoch 66/100\n",
      "100/100 [==============================] - 1s 14ms/step - loss: 0.4500 - mse: 1.0845\n",
      "Epoch 67/100\n",
      "100/100 [==============================] - 1s 14ms/step - loss: 0.4500 - mse: 1.0845\n",
      "Epoch 68/100\n",
      "100/100 [==============================] - 1s 14ms/step - loss: 0.4500 - mse: 1.0845\n",
      "Epoch 69/100\n",
      "100/100 [==============================] - 1s 14ms/step - loss: 0.4500 - mse: 1.0845\n",
      "Epoch 70/100\n",
      "100/100 [==============================] - 1s 14ms/step - loss: 0.4500 - mse: 1.0845\n",
      "Epoch 71/100\n",
      "100/100 [==============================] - 1s 13ms/step - loss: 0.4500 - mse: 1.0845\n",
      "Epoch 72/100\n",
      "100/100 [==============================] - 2s 16ms/step - loss: 0.4500 - mse: 1.0845\n",
      "Epoch 73/100\n",
      "100/100 [==============================] - 1s 14ms/step - loss: 0.4500 - mse: 1.0845\n",
      "Epoch 74/100\n",
      "100/100 [==============================] - 1s 14ms/step - loss: 0.4500 - mse: 1.0845\n",
      "Epoch 75/100\n",
      "100/100 [==============================] - 1s 14ms/step - loss: 0.4500 - mse: 1.0845\n",
      "Epoch 76/100\n",
      "100/100 [==============================] - 1s 14ms/step - loss: 0.4500 - mse: 1.0845\n",
      "Epoch 77/100\n",
      "100/100 [==============================] - 1s 13ms/step - loss: 0.4500 - mse: 1.0845\n",
      "Epoch 78/100\n",
      "100/100 [==============================] - 1s 13ms/step - loss: 0.4500 - mse: 1.0845\n",
      "Epoch 79/100\n",
      "100/100 [==============================] - 1s 14ms/step - loss: 0.4500 - mse: 1.0845\n",
      "Epoch 80/100\n",
      "100/100 [==============================] - 1s 14ms/step - loss: 0.4500 - mse: 1.0845\n",
      "Epoch 81/100\n",
      "100/100 [==============================] - 1s 13ms/step - loss: 0.4500 - mse: 1.0845\n",
      "Epoch 82/100\n",
      "100/100 [==============================] - 2s 15ms/step - loss: 0.4500 - mse: 1.0845\n",
      "Epoch 83/100\n",
      "100/100 [==============================] - 1s 14ms/step - loss: 0.4500 - mse: 1.0845\n",
      "Epoch 84/100\n",
      "100/100 [==============================] - 1s 13ms/step - loss: 0.4500 - mse: 1.0845\n",
      "Epoch 85/100\n",
      "100/100 [==============================] - 1s 15ms/step - loss: 0.4500 - mse: 1.0845\n",
      "Epoch 86/100\n",
      "100/100 [==============================] - 1s 15ms/step - loss: 0.4500 - mse: 1.0845\n",
      "Epoch 87/100\n",
      "100/100 [==============================] - 1s 14ms/step - loss: 0.4500 - mse: 1.0845\n",
      "Epoch 88/100\n",
      "100/100 [==============================] - 2s 15ms/step - loss: 0.4500 - mse: 1.0845\n",
      "Epoch 89/100\n",
      "100/100 [==============================] - 1s 15ms/step - loss: 0.4500 - mse: 1.0845\n",
      "Epoch 90/100\n",
      "100/100 [==============================] - 2s 15ms/step - loss: 0.4500 - mse: 1.0845\n",
      "Epoch 91/100\n",
      "100/100 [==============================] - 2s 15ms/step - loss: 0.4500 - mse: 1.0845\n",
      "Epoch 92/100\n",
      "100/100 [==============================] - 2s 16ms/step - loss: 0.4500 - mse: 1.0845\n",
      "Epoch 93/100\n",
      "100/100 [==============================] - 1s 15ms/step - loss: 0.4500 - mse: 1.0845\n",
      "Epoch 94/100\n",
      "100/100 [==============================] - 2s 15ms/step - loss: 0.4500 - mse: 1.0845\n",
      "Epoch 95/100\n",
      "100/100 [==============================] - 2s 15ms/step - loss: 0.4500 - mse: 1.0845\n",
      "Epoch 96/100\n",
      "100/100 [==============================] - 2s 15ms/step - loss: 0.4500 - mse: 1.0845\n",
      "Epoch 97/100\n",
      "100/100 [==============================] - 2s 15ms/step - loss: 0.4500 - mse: 1.0845\n",
      "Epoch 98/100\n",
      "100/100 [==============================] - 1s 15ms/step - loss: 0.4500 - mse: 1.0845\n",
      "Epoch 99/100\n",
      "100/100 [==============================] - 2s 16ms/step - loss: 0.4500 - mse: 1.0845\n",
      "Epoch 100/100\n",
      "100/100 [==============================] - 1s 15ms/step - loss: 0.4500 - mse: 1.0845\n"
     ]
    }
   ],
   "source": [
    "history = model.fit(train_dataset,batch_size=batch_size,validation_data=val_dataset,epochs=100,callbacks=[early_stopping])"
   ]
  },
  {
   "cell_type": "code",
   "execution_count": 49,
   "id": "b1f905d4",
   "metadata": {
    "execution": {
     "iopub.execute_input": "2023-08-22T23:28:11.491869Z",
     "iopub.status.busy": "2023-08-22T23:28:11.491558Z",
     "iopub.status.idle": "2023-08-22T23:28:11.716990Z",
     "shell.execute_reply": "2023-08-22T23:28:11.715683Z"
    },
    "papermill": {
     "duration": 0.622656,
     "end_time": "2023-08-22T23:28:11.719168",
     "exception": false,
     "start_time": "2023-08-22T23:28:11.096512",
     "status": "completed"
    },
    "tags": []
   },
   "outputs": [
    {
     "data": {
      "image/png": "[encoded data removed]",
      "text/plain": [
       "<Figure size 1000x600 with 1 Axes>"
      ]
     },
     "metadata": {},
     "output_type": "display_data"
    }
   ],
   "source": [
    "import matplotlib.pyplot as plt\n",
    "\n",
    "# Extract learning rates and losses from the training history\n",
    "epochs = range(len(history.history['loss']))\n",
    "losses = history.history['loss']\n",
    "\n",
    "plt.figure(figsize=(10, 6))\n",
    "plt.plot(epochs, losses)\n",
    "plt.xlabel('Epoch')\n",
    "plt.ylabel('Loss')\n",
    "plt.title('Loss vs epochs')\n",
    "plt.grid(True)\n",
    "plt.show()"
   ]
  },
  {
   "cell_type": "code",
   "execution_count": 50,
   "id": "d044faa2",
   "metadata": {
    "execution": {
     "iopub.execute_input": "2023-08-22T23:28:12.365037Z",
     "iopub.status.busy": "2023-08-22T23:28:12.364682Z",
     "iopub.status.idle": "2023-08-22T23:28:12.391801Z",
     "shell.execute_reply": "2023-08-22T23:28:12.390803Z"
    },
    "papermill": {
     "duration": 0.352385,
     "end_time": "2023-08-22T23:28:12.393636",
     "exception": false,
     "start_time": "2023-08-22T23:28:12.041251",
     "status": "completed"
    },
    "tags": []
   },
   "outputs": [],
   "source": [
    "val_dataset = tf.data.Dataset.from_tensor_slices((X_test,y_test))\n",
    "val_dataset = val_dataset.map(expand_dims,num_parallel_calls=tf.data.AUTOTUNE,deterministic=False)\n",
    "val_dataset = val_dataset.cache()\n",
    "val_dataset = val_dataset.batch(batch_size=1, drop_remainder=True, num_parallel_calls=tf.data.AUTOTUNE).shuffle(X_test.shape[0])\n",
    "val_dataset = val_dataset.prefetch(tf.data.AUTOTUNE)"
   ]
  },
  {
   "cell_type": "code",
   "execution_count": 51,
   "id": "dbe219b4",
   "metadata": {
    "execution": {
     "iopub.execute_input": "2023-08-22T23:28:13.038056Z",
     "iopub.status.busy": "2023-08-22T23:28:13.037689Z",
     "iopub.status.idle": "2023-08-22T23:28:13.042769Z",
     "shell.execute_reply": "2023-08-22T23:28:13.042159Z"
    },
    "papermill": {
     "duration": 0.329078,
     "end_time": "2023-08-22T23:28:13.044224",
     "exception": false,
     "start_time": "2023-08-22T23:28:12.715146",
     "status": "completed"
    },
    "tags": []
   },
   "outputs": [
    {
     "data": {
      "text/plain": [
       "({'input_features': TensorSpec(shape=(1, 1, 4415), dtype=tf.float64, name=None)},\n",
       " TensorSpec(shape=(1, 2), dtype=tf.float64, name=None))"
      ]
     },
     "execution_count": 51,
     "metadata": {},
     "output_type": "execute_result"
    }
   ],
   "source": [
    "val_dataset.element_spec"
   ]
  },
  {
   "cell_type": "code",
   "execution_count": 52,
   "id": "164272fc",
   "metadata": {
    "execution": {
     "iopub.execute_input": "2023-08-22T23:28:13.749249Z",
     "iopub.status.busy": "2023-08-22T23:28:13.748725Z",
     "iopub.status.idle": "2023-08-22T23:28:15.641488Z",
     "shell.execute_reply": "2023-08-22T23:28:15.640380Z"
    },
    "papermill": {
     "duration": 2.223734,
     "end_time": "2023-08-22T23:28:15.644158",
     "exception": false,
     "start_time": "2023-08-22T23:28:13.420424",
     "status": "completed"
    },
    "tags": []
   },
   "outputs": [
    {
     "name": "stdout",
     "output_type": "stream",
     "text": [
      "717/717 [==============================] - 2s 2ms/step\n"
     ]
    }
   ],
   "source": [
    "preds = model.predict(val_dataset)"
   ]
  },
  {
   "cell_type": "code",
   "execution_count": 53,
   "id": "0af50e42",
   "metadata": {
    "execution": {
     "iopub.execute_input": "2023-08-22T23:28:16.292111Z",
     "iopub.status.busy": "2023-08-22T23:28:16.290822Z",
     "iopub.status.idle": "2023-08-22T23:28:16.301612Z",
     "shell.execute_reply": "2023-08-22T23:28:16.300637Z"
    },
    "papermill": {
     "duration": 0.334529,
     "end_time": "2023-08-22T23:28:16.304120",
     "exception": false,
     "start_time": "2023-08-22T23:28:15.969591",
     "status": "completed"
    },
    "tags": []
   },
   "outputs": [
    {
     "data": {
      "text/plain": [
       "((717, 2), (717, 2))"
      ]
     },
     "execution_count": 53,
     "metadata": {},
     "output_type": "execute_result"
    }
   ],
   "source": [
    "preds.shape, y_test.shape"
   ]
  },
  {
   "cell_type": "code",
   "execution_count": 54,
   "id": "e0af579b",
   "metadata": {
    "execution": {
     "iopub.execute_input": "2023-08-22T23:28:17.023639Z",
     "iopub.status.busy": "2023-08-22T23:28:17.023266Z",
     "iopub.status.idle": "2023-08-22T23:28:17.028660Z",
     "shell.execute_reply": "2023-08-22T23:28:17.027366Z"
    },
    "papermill": {
     "duration": 0.3973,
     "end_time": "2023-08-22T23:28:17.030726",
     "exception": false,
     "start_time": "2023-08-22T23:28:16.633426",
     "status": "completed"
    },
    "tags": []
   },
   "outputs": [],
   "source": [
    "def mcrmse(y_true, y_pred):\n",
    "    return np.mean(np.sqrt(np.mean((y_true - y_pred)**2, axis=0)))"
   ]
  },
  {
   "cell_type": "code",
   "execution_count": 55,
   "id": "80002d58",
   "metadata": {
    "execution": {
     "iopub.execute_input": "2023-08-22T23:28:17.683603Z",
     "iopub.status.busy": "2023-08-22T23:28:17.683268Z",
     "iopub.status.idle": "2023-08-22T23:28:17.690281Z",
     "shell.execute_reply": "2023-08-22T23:28:17.689017Z"
    },
    "papermill": {
     "duration": 0.33683,
     "end_time": "2023-08-22T23:28:17.692180",
     "exception": false,
     "start_time": "2023-08-22T23:28:17.355350",
     "status": "completed"
    },
    "tags": []
   },
   "outputs": [
    {
     "data": {
      "text/plain": [
       "1.0308988352180275"
      ]
     },
     "execution_count": 55,
     "metadata": {},
     "output_type": "execute_result"
    }
   ],
   "source": [
    "mcrmse(y_test,preds)"
   ]
  },
  {
   "cell_type": "code",
   "execution_count": 56,
   "id": "f672b731",
   "metadata": {
    "execution": {
     "iopub.execute_input": "2023-08-22T23:28:18.360462Z",
     "iopub.status.busy": "2023-08-22T23:28:18.360004Z",
     "iopub.status.idle": "2023-08-22T23:28:18.366582Z",
     "shell.execute_reply": "2023-08-22T23:28:18.365611Z"
    },
    "papermill": {
     "duration": 0.348191,
     "end_time": "2023-08-22T23:28:18.368076",
     "exception": false,
     "start_time": "2023-08-22T23:28:18.019885",
     "status": "completed"
    },
    "tags": []
   },
   "outputs": [
    {
     "data": {
      "text/plain": [
       "({'input_features': TensorSpec(shape=(64, 1, 4415), dtype=tf.float64, name=None)},\n",
       " TensorSpec(shape=(64, 2), dtype=tf.float64, name=None))"
      ]
     },
     "execution_count": 56,
     "metadata": {},
     "output_type": "execute_result"
    }
   ],
   "source": [
    "train_dataset.element_spec"
   ]
  },
  {
   "cell_type": "code",
   "execution_count": null,
   "id": "64cec5ba",
   "metadata": {
    "papermill": {
     "duration": 0.326247,
     "end_time": "2023-08-22T23:28:19.074832",
     "exception": false,
     "start_time": "2023-08-22T23:28:18.748585",
     "status": "completed"
    },
    "tags": []
   },
   "outputs": [],
   "source": []
  }
 ],
 "metadata": {
  "kernelspec": {
   "display_name": "Python 3",
   "language": "python",
   "name": "python3"
  },
  "language_info": {
   "codemirror_mode": {
    "name": "ipython",
    "version": 3
   },
   "file_extension": ".py",
   "mimetype": "text/x-python",
   "name": "python",
   "nbconvert_exporter": "python",
   "pygments_lexer": "ipython3",
   "version": "3.10.12"
  },
  "papermill": {
   "default_parameters": {},
   "duration": 633.599122,
   "end_time": "2023-08-22T23:28:22.367212",
   "environment_variables": {},
   "exception": null,
   "input_path": "__notebook__.ipynb",
   "output_path": "__notebook__.ipynb",
   "parameters": {},
   "start_time": "2023-08-22T23:17:48.768090",
   "version": "2.4.0"
  }
 },
 "nbformat": 4,
 "nbformat_minor": 5
}
