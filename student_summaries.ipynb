{
 "cells": [
  {
   "cell_type": "code",
   "execution_count": 1,
   "id": "b2a31dbd",
   "metadata": {
    "_cell_guid": "b1076dfc-b9ad-4769-8c92-a6c4dae69d19",
    "_uuid": "8f2839f25d086af736a60e9eeb907d3b93b6e0e5",
    "execution": {
     "iopub.execute_input": "2023-08-26T08:49:38.753288Z",
     "iopub.status.busy": "2023-08-26T08:49:38.752870Z",
     "iopub.status.idle": "2023-08-26T08:49:38.828278Z",
     "shell.execute_reply": "2023-08-26T08:49:38.826694Z"
    },
    "papermill": {
     "duration": 0.090582,
     "end_time": "2023-08-26T08:49:38.830782",
     "exception": false,
     "start_time": "2023-08-26T08:49:38.740200",
     "status": "completed"
    },
    "tags": []
   },
   "outputs": [
    {
     "name": "stdout",
     "output_type": "stream",
     "text": [
      "/kaggle/input/commonlit-evaluate-student-summaries/sample_submission.csv\n",
      "/kaggle/input/commonlit-evaluate-student-summaries/prompts_train.csv\n",
      "/kaggle/input/commonlit-evaluate-student-summaries/summaries_test.csv\n",
      "/kaggle/input/commonlit-evaluate-student-summaries/summaries_train.csv\n",
      "/kaggle/input/commonlit-evaluate-student-summaries/prompts_test.csv\n",
      "/kaggle/input/en-core-web-md/en_core_web_md/meta.json\n",
      "/kaggle/input/en-core-web-md/en_core_web_md/__init__.py\n",
      "/kaggle/input/en-core-web-md/en_core_web_md/en_core_web_md-3.4.1/tokenizer\n",
      "/kaggle/input/en-core-web-md/en_core_web_md/en_core_web_md-3.4.1/LICENSES_SOURCES\n",
      "/kaggle/input/en-core-web-md/en_core_web_md/en_core_web_md-3.4.1/LICENSE\n",
      "/kaggle/input/en-core-web-md/en_core_web_md/en_core_web_md-3.4.1/README.md\n",
      "/kaggle/input/en-core-web-md/en_core_web_md/en_core_web_md-3.4.1/meta.json\n",
      "/kaggle/input/en-core-web-md/en_core_web_md/en_core_web_md-3.4.1/accuracy.json\n",
      "/kaggle/input/en-core-web-md/en_core_web_md/en_core_web_md-3.4.1/config.cfg\n",
      "/kaggle/input/en-core-web-md/en_core_web_md/en_core_web_md-3.4.1/attribute_ruler/patterns\n",
      "/kaggle/input/en-core-web-md/en_core_web_md/en_core_web_md-3.4.1/vocab/vectors\n",
      "/kaggle/input/en-core-web-md/en_core_web_md/en_core_web_md-3.4.1/vocab/key2row\n",
      "/kaggle/input/en-core-web-md/en_core_web_md/en_core_web_md-3.4.1/vocab/vectors.cfg\n",
      "/kaggle/input/en-core-web-md/en_core_web_md/en_core_web_md-3.4.1/vocab/strings.json\n",
      "/kaggle/input/en-core-web-md/en_core_web_md/en_core_web_md-3.4.1/vocab/lookups.bin\n",
      "/kaggle/input/en-core-web-md/en_core_web_md/en_core_web_md-3.4.1/parser/model\n",
      "/kaggle/input/en-core-web-md/en_core_web_md/en_core_web_md-3.4.1/parser/moves\n",
      "/kaggle/input/en-core-web-md/en_core_web_md/en_core_web_md-3.4.1/parser/cfg\n",
      "/kaggle/input/en-core-web-md/en_core_web_md/en_core_web_md-3.4.1/senter/model\n",
      "/kaggle/input/en-core-web-md/en_core_web_md/en_core_web_md-3.4.1/senter/cfg\n",
      "/kaggle/input/en-core-web-md/en_core_web_md/en_core_web_md-3.4.1/ner/model\n",
      "/kaggle/input/en-core-web-md/en_core_web_md/en_core_web_md-3.4.1/ner/moves\n",
      "/kaggle/input/en-core-web-md/en_core_web_md/en_core_web_md-3.4.1/ner/cfg\n",
      "/kaggle/input/en-core-web-md/en_core_web_md/en_core_web_md-3.4.1/lemmatizer/lookups/lookups.bin\n",
      "/kaggle/input/en-core-web-md/en_core_web_md/en_core_web_md-3.4.1/tagger/model\n",
      "/kaggle/input/en-core-web-md/en_core_web_md/en_core_web_md-3.4.1/tagger/cfg\n",
      "/kaggle/input/en-core-web-md/en_core_web_md/en_core_web_md-3.4.1/tok2vec/model\n",
      "/kaggle/input/en-core-web-md/en_core_web_md/en_core_web_md-3.4.1/tok2vec/cfg\n"
     ]
    }
   ],
   "source": [
    "# This Python 3 environment comes with many helpful analytics libraries installed\n",
    "# It is defined by the kaggle/python Docker image: https://github.com/kaggle/docker-python\n",
    "# For example, here's several helpful packages to load\n",
    "\n",
    "import numpy as np # linear algebra\n",
    "import pandas as pd # data processing, CSV file I/O (e.g. pd.read_csv)\n",
    "\n",
    "# Input data files are available in the read-only \"../input/\" directory\n",
    "# For example, running this (by clicking run or pressing Shift+Enter) will list all files under the input directory\n",
    "\n",
    "import os\n",
    "for dirname, _, filenames in os.walk('/kaggle/input'):\n",
    "    for filename in filenames:\n",
    "        print(os.path.join(dirname, filename))\n",
    "\n",
    "# You can write up to 20GB to the current directory (/kaggle/working/) that gets preserved as output when you create a version using \"Save & Run All\" \n",
    "# You can also write temporary files to /kaggle/temp/, but they won't be saved outside of the current session"
   ]
  },
  {
   "cell_type": "code",
   "execution_count": 2,
   "id": "0089f7de",
   "metadata": {
    "execution": {
     "iopub.execute_input": "2023-08-26T08:49:38.852415Z",
     "iopub.status.busy": "2023-08-26T08:49:38.852091Z",
     "iopub.status.idle": "2023-08-26T08:49:38.856732Z",
     "shell.execute_reply": "2023-08-26T08:49:38.855401Z"
    },
    "papermill": {
     "duration": 0.018276,
     "end_time": "2023-08-26T08:49:38.859183",
     "exception": false,
     "start_time": "2023-08-26T08:49:38.840907",
     "status": "completed"
    },
    "tags": []
   },
   "outputs": [],
   "source": [
    "import warnings\n",
    "warnings.simplefilter(\"ignore\", ResourceWarning)"
   ]
  },
  {
   "cell_type": "markdown",
   "id": "7e9c979e",
   "metadata": {
    "papermill": {
     "duration": 0.009905,
     "end_time": "2023-08-26T08:49:38.879694",
     "exception": false,
     "start_time": "2023-08-26T08:49:38.869789",
     "status": "completed"
    },
    "tags": []
   },
   "source": [
    "## Let's load the training data"
   ]
  },
  {
   "cell_type": "code",
   "execution_count": 3,
   "id": "fa8aee38",
   "metadata": {
    "execution": {
     "iopub.execute_input": "2023-08-26T08:49:38.902705Z",
     "iopub.status.busy": "2023-08-26T08:49:38.901205Z",
     "iopub.status.idle": "2023-08-26T08:49:39.046912Z",
     "shell.execute_reply": "2023-08-26T08:49:39.045748Z"
    },
    "papermill": {
     "duration": 0.159765,
     "end_time": "2023-08-26T08:49:39.049291",
     "exception": false,
     "start_time": "2023-08-26T08:49:38.889526",
     "status": "completed"
    },
    "tags": []
   },
   "outputs": [],
   "source": [
    "summary_df = pd.read_csv('/kaggle/input/commonlit-evaluate-student-summaries/summaries_train.csv')\n",
    "prompt_df = pd.read_csv('/kaggle/input/commonlit-evaluate-student-summaries/prompts_train.csv')"
   ]
  },
  {
   "cell_type": "markdown",
   "id": "8b45c868",
   "metadata": {
    "papermill": {
     "duration": 0.009412,
     "end_time": "2023-08-26T08:49:39.068704",
     "exception": false,
     "start_time": "2023-08-26T08:49:39.059292",
     "status": "completed"
    },
    "tags": []
   },
   "source": [
    "## Check dataframe description"
   ]
  },
  {
   "cell_type": "code",
   "execution_count": 4,
   "id": "97c96924",
   "metadata": {
    "execution": {
     "iopub.execute_input": "2023-08-26T08:49:39.089475Z",
     "iopub.status.busy": "2023-08-26T08:49:39.089122Z",
     "iopub.status.idle": "2023-08-26T08:49:39.122956Z",
     "shell.execute_reply": "2023-08-26T08:49:39.122028Z"
    },
    "papermill": {
     "duration": 0.046621,
     "end_time": "2023-08-26T08:49:39.124821",
     "exception": false,
     "start_time": "2023-08-26T08:49:39.078200",
     "status": "completed"
    },
    "tags": []
   },
   "outputs": [
    {
     "name": "stdout",
     "output_type": "stream",
     "text": [
      "<class 'pandas.core.frame.DataFrame'>\n",
      "RangeIndex: 7165 entries, 0 to 7164\n",
      "Data columns (total 5 columns):\n",
      " #   Column      Non-Null Count  Dtype  \n",
      "---  ------      --------------  -----  \n",
      " 0   student_id  7165 non-null   object \n",
      " 1   prompt_id   7165 non-null   object \n",
      " 2   text        7165 non-null   object \n",
      " 3   content     7165 non-null   float64\n",
      " 4   wording     7165 non-null   float64\n",
      "dtypes: float64(2), object(3)\n",
      "memory usage: 280.0+ KB\n"
     ]
    }
   ],
   "source": [
    "summary_df.info()"
   ]
  },
  {
   "cell_type": "code",
   "execution_count": 5,
   "id": "db7c9157",
   "metadata": {
    "execution": {
     "iopub.execute_input": "2023-08-26T08:49:39.147078Z",
     "iopub.status.busy": "2023-08-26T08:49:39.146559Z",
     "iopub.status.idle": "2023-08-26T08:49:39.155877Z",
     "shell.execute_reply": "2023-08-26T08:49:39.155000Z"
    },
    "papermill": {
     "duration": 0.02287,
     "end_time": "2023-08-26T08:49:39.157645",
     "exception": false,
     "start_time": "2023-08-26T08:49:39.134775",
     "status": "completed"
    },
    "tags": []
   },
   "outputs": [
    {
     "name": "stdout",
     "output_type": "stream",
     "text": [
      "<class 'pandas.core.frame.DataFrame'>\n",
      "RangeIndex: 4 entries, 0 to 3\n",
      "Data columns (total 4 columns):\n",
      " #   Column           Non-Null Count  Dtype \n",
      "---  ------           --------------  ----- \n",
      " 0   prompt_id        4 non-null      object\n",
      " 1   prompt_question  4 non-null      object\n",
      " 2   prompt_title     4 non-null      object\n",
      " 3   prompt_text      4 non-null      object\n",
      "dtypes: object(4)\n",
      "memory usage: 256.0+ bytes\n"
     ]
    }
   ],
   "source": [
    "prompt_df.info()"
   ]
  },
  {
   "cell_type": "markdown",
   "id": "c26d64e7",
   "metadata": {
    "papermill": {
     "duration": 0.009486,
     "end_time": "2023-08-26T08:49:39.177037",
     "exception": false,
     "start_time": "2023-08-26T08:49:39.167551",
     "status": "completed"
    },
    "tags": []
   },
   "source": [
    "## Primary key to combine dataframe on"
   ]
  },
  {
   "cell_type": "code",
   "execution_count": 6,
   "id": "64d1ac06",
   "metadata": {
    "execution": {
     "iopub.execute_input": "2023-08-26T08:49:39.198700Z",
     "iopub.status.busy": "2023-08-26T08:49:39.197928Z",
     "iopub.status.idle": "2023-08-26T08:49:39.205689Z",
     "shell.execute_reply": "2023-08-26T08:49:39.204778Z"
    },
    "papermill": {
     "duration": 0.020578,
     "end_time": "2023-08-26T08:49:39.207440",
     "exception": false,
     "start_time": "2023-08-26T08:49:39.186862",
     "status": "completed"
    },
    "tags": []
   },
   "outputs": [
    {
     "data": {
      "text/plain": [
       "array(['39c16e', '3b9047', '814d6b', 'ebad26'], dtype=object)"
      ]
     },
     "execution_count": 6,
     "metadata": {},
     "output_type": "execute_result"
    }
   ],
   "source": [
    "prompt_df['prompt_id'].unique()"
   ]
  },
  {
   "cell_type": "code",
   "execution_count": 7,
   "id": "0c0b6df1",
   "metadata": {
    "execution": {
     "iopub.execute_input": "2023-08-26T08:49:39.229527Z",
     "iopub.status.busy": "2023-08-26T08:49:39.229002Z",
     "iopub.status.idle": "2023-08-26T08:49:39.235581Z",
     "shell.execute_reply": "2023-08-26T08:49:39.234643Z"
    },
    "papermill": {
     "duration": 0.019761,
     "end_time": "2023-08-26T08:49:39.237371",
     "exception": false,
     "start_time": "2023-08-26T08:49:39.217610",
     "status": "completed"
    },
    "tags": []
   },
   "outputs": [
    {
     "data": {
      "text/plain": [
       "array(['814d6b', 'ebad26', '3b9047', '39c16e'], dtype=object)"
      ]
     },
     "execution_count": 7,
     "metadata": {},
     "output_type": "execute_result"
    }
   ],
   "source": [
    "summary_df['prompt_id'].unique()"
   ]
  },
  {
   "cell_type": "markdown",
   "id": "0451c901",
   "metadata": {
    "papermill": {
     "duration": 0.01045,
     "end_time": "2023-08-26T08:49:39.258151",
     "exception": false,
     "start_time": "2023-08-26T08:49:39.247701",
     "status": "completed"
    },
    "tags": []
   },
   "source": [
    "## Merge dataframe based on primary key into one"
   ]
  },
  {
   "cell_type": "code",
   "execution_count": 8,
   "id": "6b13e999",
   "metadata": {
    "execution": {
     "iopub.execute_input": "2023-08-26T08:49:39.280407Z",
     "iopub.status.busy": "2023-08-26T08:49:39.279897Z",
     "iopub.status.idle": "2023-08-26T08:49:39.296737Z",
     "shell.execute_reply": "2023-08-26T08:49:39.295602Z"
    },
    "papermill": {
     "duration": 0.030728,
     "end_time": "2023-08-26T08:49:39.299223",
     "exception": false,
     "start_time": "2023-08-26T08:49:39.268495",
     "status": "completed"
    },
    "tags": []
   },
   "outputs": [],
   "source": [
    "train_df = summary_df.merge(right=prompt_df,how='inner', on='prompt_id')"
   ]
  },
  {
   "cell_type": "code",
   "execution_count": 9,
   "id": "ebea1a64",
   "metadata": {
    "execution": {
     "iopub.execute_input": "2023-08-26T08:49:39.321232Z",
     "iopub.status.busy": "2023-08-26T08:49:39.320882Z",
     "iopub.status.idle": "2023-08-26T08:49:39.340503Z",
     "shell.execute_reply": "2023-08-26T08:49:39.339184Z"
    },
    "papermill": {
     "duration": 0.032938,
     "end_time": "2023-08-26T08:49:39.342446",
     "exception": false,
     "start_time": "2023-08-26T08:49:39.309508",
     "status": "completed"
    },
    "tags": []
   },
   "outputs": [
    {
     "name": "stdout",
     "output_type": "stream",
     "text": [
      "<class 'pandas.core.frame.DataFrame'>\n",
      "Int64Index: 7165 entries, 0 to 7164\n",
      "Data columns (total 8 columns):\n",
      " #   Column           Non-Null Count  Dtype  \n",
      "---  ------           --------------  -----  \n",
      " 0   student_id       7165 non-null   object \n",
      " 1   prompt_id        7165 non-null   object \n",
      " 2   text             7165 non-null   object \n",
      " 3   content          7165 non-null   float64\n",
      " 4   wording          7165 non-null   float64\n",
      " 5   prompt_question  7165 non-null   object \n",
      " 6   prompt_title     7165 non-null   object \n",
      " 7   prompt_text      7165 non-null   object \n",
      "dtypes: float64(2), object(6)\n",
      "memory usage: 503.8+ KB\n"
     ]
    }
   ],
   "source": [
    "train_df.info()"
   ]
  },
  {
   "cell_type": "markdown",
   "id": "31269e1c",
   "metadata": {
    "papermill": {
     "duration": 0.010007,
     "end_time": "2023-08-26T08:49:39.362739",
     "exception": false,
     "start_time": "2023-08-26T08:49:39.352732",
     "status": "completed"
    },
    "tags": []
   },
   "source": [
    "### Let's perform a little exploratory analysis on the data to see what samples looks like"
   ]
  },
  {
   "cell_type": "code",
   "execution_count": 10,
   "id": "916fbd15",
   "metadata": {
    "execution": {
     "iopub.execute_input": "2023-08-26T08:49:39.384640Z",
     "iopub.status.busy": "2023-08-26T08:49:39.384028Z",
     "iopub.status.idle": "2023-08-26T08:49:39.390132Z",
     "shell.execute_reply": "2023-08-26T08:49:39.389090Z"
    },
    "papermill": {
     "duration": 0.019208,
     "end_time": "2023-08-26T08:49:39.392052",
     "exception": false,
     "start_time": "2023-08-26T08:49:39.372844",
     "status": "completed"
    },
    "tags": []
   },
   "outputs": [
    {
     "name": "stdout",
     "output_type": "stream",
     "text": [
      "Question: Summarize how the Third Wave developed over such a short period of time and why the experiment was ended. \n",
      " \n",
      "Title: The Third Wave \n",
      "\n",
      "Text: Background \r\n",
      "The Third Wave experiment took place at Cubberley High School in Palo Alto, California during the first week of April 1967. History teacher Ron Jones, finding himself unable to explain to his students how people throughout history followed the crowd even when terrible things were happening, decided to demonstrate it to his students through an experiment. Jones announced that he was starting a movement aimed to eliminate democracy. Jones named the movement “The Third Wave” as a symbol of strength, referring to the mythical belief that the third in a series of waves is the strongest. One of the central points of this movement was that democracy’s main weakness is that it favors the individual over the whole community. Jones emphasized this main point of the movement when he created this catchy motto: “Strength through discipline, strength through community, strength through action, strength through pride.” \r\n",
      "The Experiment \r\n",
      "Jones started the first day of the experiment emphasizing simple things like proper seating, and drilled the students extensively until they got it right. He then proceeded to enforce strict classroom discipline by emerging as an authoritarian figure. This resulted in dramatic improvements to the efficiency, or orderliness, of the class.  The first day’s session ended with only a few rules. Jones intended it to be a one-day experiment. Students had to be sitting at attention before the second bell, had to stand up to ask or answer questions and had to do it in three words or fewer, and were required to preface each remark with “Mr. Jones.” As the week went on, Jones’ class transformed into a group with a supreme sense of discipline and community. Jones made up a salute resembling that of the Nazi regime and ordered class members to salute each other even outside the class. They all obeyed this command. \r\n",
      "After only three days, the experiment took on a life of its own, with students from all over the school joining in. The class expanded from initial 30 students to 43 attendees. All of the students showed drastic improvement in their academic skills and tremendous motivation. All of the students were issued a member card and each of them received a special assignment, like designing a Third Wave Banner, stopping non-members from entering the class, or other tasks to bring honor to the movement. Jones instructed the students on how to initiate new members, and by the end of the day the movement had over 200 participants. Jones was surprised that some of the students started reporting to him when other members of the movement failed to abide by the rules. \r\n",
      "By the fourth day of the experiment, the students became increasingly involved in the project and their discipline and loyalty to the project was so outstanding that Jones felt it was slipping out of control. He decided to terminate the movement, so he lied to students by announcing that the Third Wave was a part of a nationwide movement and that on the next day a presidential candidate of the movement would publicly announce its existence on television. Jones ordered students to attend a noon rally on Friday to witness the announcement. \r\n",
      "At the end of the week, instead of a televised address of their leader, the students were presented with a blank channel. After a few minutes of waiting, Jones announced that they had been a part of an experiment to demonstrate how people willingly create a sense of superiority over others, and how this can lead people to justify doing horrible things in the name of the state’s honor.\n"
     ]
    }
   ],
   "source": [
    "print('''Question: %s \\n \n",
    "Title: %s \\n\n",
    "Text: %s'''%(train_df.iloc[1]['prompt_question'],train_df.iloc[1]['prompt_title'],train_df.iloc[1]['prompt_text']))"
   ]
  },
  {
   "cell_type": "markdown",
   "id": "6358c8ee",
   "metadata": {
    "papermill": {
     "duration": 0.009846,
     "end_time": "2023-08-26T08:49:39.412291",
     "exception": false,
     "start_time": "2023-08-26T08:49:39.402445",
     "status": "completed"
    },
    "tags": []
   },
   "source": [
    "### Let's check what the student summary looks like"
   ]
  },
  {
   "cell_type": "code",
   "execution_count": 11,
   "id": "a979510e",
   "metadata": {
    "execution": {
     "iopub.execute_input": "2023-08-26T08:49:39.438102Z",
     "iopub.status.busy": "2023-08-26T08:49:39.437459Z",
     "iopub.status.idle": "2023-08-26T08:49:39.445923Z",
     "shell.execute_reply": "2023-08-26T08:49:39.444313Z"
    },
    "papermill": {
     "duration": 0.025735,
     "end_time": "2023-08-26T08:49:39.448859",
     "exception": false,
     "start_time": "2023-08-26T08:49:39.423124",
     "status": "completed"
    },
    "tags": []
   },
   "outputs": [
    {
     "name": "stdout",
     "output_type": "stream",
     "text": [
      "('Question: Summarize how the Third Wave developed over such a short period of '\n",
      " 'time and why the experiment was ended.\\n'\n",
      " 'Summary: The third wave was an experimentto see how people reacted to a new '\n",
      " 'one leader government. It gained popularity as people wanted to try new '\n",
      " 'things. The students follow anything that is said and start turning on '\n",
      " 'eachother to gain higher power. They had to stop the experement as too many '\n",
      " 'people got to radical with it blindly following there leader\\n'\n",
      " 'Content Score: 0.205682506482641\\n'\n",
      " 'Wording Score: 0.380537638762288')\n"
     ]
    }
   ],
   "source": [
    "from pprint import pformat\n",
    "print(pformat('''Question: %s\n",
    "Summary: %s\n",
    "Content Score: %s\n",
    "Wording Score: %s'''%(train_df.iloc[0]['prompt_question'],train_df.iloc[0]['text'], train_df.iloc[0]['content'],\n",
    "                           train_df.iloc[0]['wording'])))"
   ]
  },
  {
   "cell_type": "markdown",
   "id": "153366e7",
   "metadata": {
    "papermill": {
     "duration": 0.015115,
     "end_time": "2023-08-26T08:49:39.475592",
     "exception": false,
     "start_time": "2023-08-26T08:49:39.460477",
     "status": "completed"
    },
    "tags": []
   },
   "source": [
    "## Let's build a helper function that displays N text in a pretty format"
   ]
  },
  {
   "cell_type": "code",
   "execution_count": 12,
   "id": "1b683184",
   "metadata": {
    "execution": {
     "iopub.execute_input": "2023-08-26T08:49:39.497391Z",
     "iopub.status.busy": "2023-08-26T08:49:39.497082Z",
     "iopub.status.idle": "2023-08-26T08:49:39.503234Z",
     "shell.execute_reply": "2023-08-26T08:49:39.502144Z"
    },
    "papermill": {
     "duration": 0.019007,
     "end_time": "2023-08-26T08:49:39.504999",
     "exception": false,
     "start_time": "2023-08-26T08:49:39.485992",
     "status": "completed"
    },
    "tags": []
   },
   "outputs": [],
   "source": [
    "def display_text(s=1,n=10,df=train_df):\n",
    "    \"\"\"\n",
    "    This function takes n as input and displays n section of text\n",
    "    \"\"\"\n",
    "    for i in range(s,n):\n",
    "        p_sum = pformat('''Question: %s \\nSummary: %s \\nContent Score: %s \\nWording Score: %s'''%(df.iloc[i]['prompt_question'],df.iloc[i]['text'], df.iloc[i]['content'],\n",
    "                           df.iloc[i]['wording']))\n",
    "        print(p_sum,end='\\n\\n')"
   ]
  },
  {
   "cell_type": "code",
   "execution_count": 13,
   "id": "858355fb",
   "metadata": {
    "execution": {
     "iopub.execute_input": "2023-08-26T08:49:39.526962Z",
     "iopub.status.busy": "2023-08-26T08:49:39.526617Z",
     "iopub.status.idle": "2023-08-26T08:49:39.545034Z",
     "shell.execute_reply": "2023-08-26T08:49:39.543308Z"
    },
    "papermill": {
     "duration": 0.032712,
     "end_time": "2023-08-26T08:49:39.548348",
     "exception": false,
     "start_time": "2023-08-26T08:49:39.515636",
     "status": "completed"
    },
    "tags": []
   },
   "outputs": [
    {
     "name": "stdout",
     "output_type": "stream",
     "text": [
      "('Question: Summarize how the Third Wave developed over such a short period of '\n",
      " 'time and why the experiment was ended. \\n'\n",
      " 'Summary: The Third Wave developed over such a short period of time. Jones '\n",
      " 'emphasized many simple rules and made sure the students did it right. '\n",
      " 'Students also had to salute each other in a specific way that the teacher '\n",
      " 'had made. On the fourth day, Jones claimed that things started getting out '\n",
      " 'of control because the students became increasingly involved in the project, '\n",
      " 'so their discipline and loyalty to the project was overly outstanding. So '\n",
      " 'Jones decided to terminate the movement and lied to the students by '\n",
      " 'announcing that the Third Wave was a part of a nationwide movement.  \\n'\n",
      " 'Content Score: 1.46743085810556 \\n'\n",
      " 'Wording Score: 1.84017156306968')\n",
      "\n",
      "('Question: Summarize how the Third Wave developed over such a short period of '\n",
      " 'time and why the experiment was ended. \\n'\n",
      " 'Summary: It happened so fastly because the orig nail kids in the experiment '\n",
      " 'were getting other kids ro joined it ended so fast because john relized that '\n",
      " \"what he was doing was bennidificial but he wasn't teaching it in a proper \"\n",
      " 'way  \\n'\n",
      " 'Content Score: -1.54716321678788 \\n'\n",
      " 'Wording Score: -1.46124482282529')\n",
      "\n",
      "('Question: Summarize how the Third Wave developed over such a short period of '\n",
      " 'time and why the experiment was ended. \\n'\n",
      " 'Summary: Beacuse it was planned out by the state as an experiment on the '\n",
      " 'kids that the teacher mr. jones announced, and it was based on things that '\n",
      " 'happened in the past. This eneded because it was just an experiment to see '\n",
      " 'how people willingly create sence of superiority over others and how this '\n",
      " \"can lead people to doing horriblw things in the name of the state's \"\n",
      " 'honor.  \\n'\n",
      " 'Content Score: -0.564001535126031 \\n'\n",
      " 'Wording Score: 0.544047268581291')\n",
      "\n",
      "('Question: Summarize how the Third Wave developed over such a short period of '\n",
      " 'time and why the experiment was ended. \\n'\n",
      " 'Summary: The third wave wasan experiment  to show dictatorship.Ron did this '\n",
      " 'to prepare the class for the election. It shows how easily people will join '\n",
      " 'a group even if its terrible \\n'\n",
      " 'Content Score: -0.917082380091026 \\n'\n",
      " 'Wording Score: -0.111454939107718')\n",
      "\n",
      "('Question: Summarize how the Third Wave developed over such a short period of '\n",
      " 'time and why the experiment was ended. \\n'\n",
      " 'Summary: With the Third Wave, Ron emphasized many simple rules and made sure '\n",
      " 'the students were doing things right. He developed this authoritative '\n",
      " 'dictatorship in the classroom for the knowledge of students. The experiment '\n",
      " 'came to an end because it was slipping out of control and the students '\n",
      " 'became very involved in the project.  \\n'\n",
      " 'Content Score: -0.376762983040429 \\n'\n",
      " 'Wording Score: 0.547660629074304')\n",
      "\n",
      "('Question: Summarize how the Third Wave developed over such a short period of '\n",
      " 'time and why the experiment was ended. \\n'\n",
      " 'Summary:     It rapidly gained followers due to the simple fact of herd '\n",
      " 'behavior.   We see students being discriminated against and students all '\n",
      " 'these other students joining that the individual student may feel like the '\n",
      " 'odd one out for not joining.   The experiment was ended due to the fact that '\n",
      " 'it was spiralling out of control, and it was shown to the students just how '\n",
      " 'easily they followed the crowd. \\n'\n",
      " 'Content Score: 0.265322724198843 \\n'\n",
      " 'Wording Score: 0.715826497971815')\n",
      "\n",
      "('Question: Summarize how the Third Wave developed over such a short period of '\n",
      " 'time and why the experiment was ended. \\n'\n",
      " 'Summary: Ron Jones was a history teacher that created the third wave '\n",
      " 'movement  because he  aimed to eliminate democracy. So that what he did he '\n",
      " 'also created a moto  “Strength through discipline, strength through '\n",
      " 'community, strength through action, strength through pride.”At the end of '\n",
      " 'the week, instead of a televised address of their leader, the students were '\n",
      " 'presented with a blank channel.  \\n'\n",
      " 'Content Score: -0.0621059315581789 \\n'\n",
      " 'Wording Score: -0.380727453312108')\n",
      "\n",
      "('Question: Summarize how the Third Wave developed over such a short period of '\n",
      " 'time and why the experiment was ended. \\n'\n",
      " 'Summary: It was developed over such a short time because the teacher had '\n",
      " 'perfect conditions for conducting the experiment and had more than enough '\n",
      " 'willing participants. It ended so quickly because his point had been proven, '\n",
      " 'and he felt it was getting out of control. \\n'\n",
      " 'Content Score: -0.0938138317174397 \\n'\n",
      " 'Wording Score: 0.503832933489619')\n",
      "\n",
      "('Question: Summarize how the Third Wave developed over such a short period of '\n",
      " 'time and why the experiment was ended. \\n'\n",
      " 'Summary: The experimen devolved so quickly over such a small amount of time '\n",
      " 'bec the children were really into it and all about doing something that they '\n",
      " 'thought was good for their country, eventually it got to be too much and it '\n",
      " 'had to end because it became uncontrollabl. \\n'\n",
      " 'Content Score: -0.99326978468432 \\n'\n",
      " 'Wording Score: -0.367276199174599')\n",
      "\n",
      "('Question: Summarize how the Third Wave developed over such a short period of '\n",
      " 'time and why the experiment was ended. \\n'\n",
      " 'Summary: The Third Wave experiment spread so quickly beacuse of exclusivity. '\n",
      " 'People always want to be included so when they saw other students included '\n",
      " 'in something that they werent, they wanted to join. Soon, there were over '\n",
      " '200 perticipants despite only starting with 30. This shows that people just '\n",
      " 'follow what other people are doing. I assume that this became kind of a '\n",
      " '\"trend\" around the school so nobody wanted to be excluded. They didn\\'t want '\n",
      " 'to seem like the odd ones out. Because of this, the experiment got too out '\n",
      " 'of control so it had to be stopped.  \\n'\n",
      " 'Content Score: 1.78783686454465 \\n'\n",
      " 'Wording Score: 2.1392391407142')\n",
      "\n",
      "('Question: Summarize how the Third Wave developed over such a short period of '\n",
      " 'time and why the experiment was ended. \\n'\n",
      " 'Summary: The Third wave was developed over a short period of time because '\n",
      " 'people naturallt follow the crowd.  It was almost like a trend on social '\n",
      " 'media, everyone was participating so it gained popularity.  As stated in the '\n",
      " \"text, ''He then proceeded to enforce strict classroom discipline by emerging \"\n",
      " \"as an authoritarian figure.''  This experiment had to end because it was \"\n",
      " 'growing out of control.  In conclusion the experiment only ran for a shrt '\n",
      " 'period of time because Jones proved his point and ended up teaching more '\n",
      " 'than just his classes. \\n'\n",
      " 'Content Score: 0.643625564868572 \\n'\n",
      " 'Wording Score: 0.45708281784602')\n",
      "\n",
      "('Question: Summarize how the Third Wave developed over such a short period of '\n",
      " 'time and why the experiment was ended. \\n'\n",
      " 'Summary: The thrid wave was developed as a way to teach students why people '\n",
      " 'conform to crowds, the experiment ended as it was getting out of control, '\n",
      " 'the students learned that they were brainwashed the whole time. \\n'\n",
      " 'Content Score: -0.933629566968118 \\n'\n",
      " 'Wording Score: -0.0319873399650709')\n",
      "\n",
      "('Question: Summarize how the Third Wave developed over such a short period of '\n",
      " 'time and why the experiment was ended. \\n'\n",
      " 'Summary:     The third wave developed so quick in a matter of days, crazy '\n",
      " 'right? Mr. Jones intended to only do this experiment in one day but took '\n",
      " 'four days for the students to do this because many students were actually '\n",
      " 'intrested in doing this experiment. This  class took off so quick because '\n",
      " 'Mr. jones was teaching students ¨strength through dicipline, strength '\n",
      " 'through community, strength through action, strength through pride¨ (1) just '\n",
      " 'how his motto says. In the matter of the next day, his class had gained 13 '\n",
      " 'students because many sudents wanted to perhaps haave the skill Mr. Joness '\n",
      " 'was teaching. Mr. Jones had to cut the eperiment after the fourth day '\n",
      " 'because first of all, his experiment was intended to be only a day '\n",
      " 'experiment and second of all because He thought it was already slipping out '\n",
      " 'of hand. All what Mr. jones wanted to test these students were  on their '\n",
      " 'superiorty.  \\n'\n",
      " 'Content Score: 1.59939167383688 \\n'\n",
      " 'Wording Score: 2.01032653586767')\n",
      "\n",
      "('Question: Summarize how the Third Wave developed over such a short period of '\n",
      " 'time and why the experiment was ended. \\n'\n",
      " 'Summary: People wanted to be involved in something. The rules made everybody '\n",
      " 'the same and they felt like they belonged. It also gave them pride in what '\n",
      " 'they were doing.  it was well recognized and orderly and attractive people. '\n",
      " 'And the experiment ended because the students were too involved. They really '\n",
      " 'believed it and he was losing control of it. \\n'\n",
      " 'Content Score: 0.205682506482641 \\n'\n",
      " 'Wording Score: 0.380537638762288')\n",
      "\n",
      "('Question: Summarize how the Third Wave developed over such a short period of '\n",
      " 'time and why the experiment was ended. \\n'\n",
      " 'Summary: It was developed as an experiment but after it became repetitive '\n",
      " 'the students got more involved. Mr. Jones had to end it because it was '\n",
      " 'getting out of control. \\n'\n",
      " 'Content Score: -0.974242264823977 \\n'\n",
      " 'Wording Score: -0.751413840355257')\n",
      "\n",
      "('Question: Summarize how the Third Wave developed over such a short period of '\n",
      " 'time and why the experiment was ended. \\n'\n",
      " 'Summary: The third wave gained fame through the school quickly, in under a '\n",
      " 'couple days, but Jones felt that it was slipping out of control and lied to '\n",
      " 'the students to end it. \\n'\n",
      " 'Content Score: -1.07261303201737 \\n'\n",
      " 'Wording Score: -0.999628686402458')\n",
      "\n",
      "('Question: Summarize how the Third Wave developed over such a short period of '\n",
      " 'time and why the experiment was ended. \\n'\n",
      " 'Summary: The third wave developed by having meeting during school like a '\n",
      " 'club. And only let certain kids in. They made the kids tell them if anyone '\n",
      " 'was talking about them so they wrote it down and would know. It ended '\n",
      " 'because it got out of control. \\n'\n",
      " 'Content Score: -0.0938138317174397 \\n'\n",
      " 'Wording Score: 0.503832933489619')\n",
      "\n",
      "('Question: Summarize how the Third Wave developed over such a short period of '\n",
      " 'time and why the experiment was ended. \\n'\n",
      " 'Summary: The Third Wage developed with starting out with this teacher '\n",
      " 'announcing new rules. Soon after, that students complied. With the more '\n",
      " 'complying, the more other joined. This got bogged, and bigger. Students '\n",
      " 'became loyal the the obedience in which they had surrendered to. They then '\n",
      " 'went as far as believing it was going to be their new society. Eventually it '\n",
      " 'got so big he had to tell the students it was a hoax, and expirement on them '\n",
      " 'about conformity. \\n'\n",
      " 'Content Score: 1.52004842650383 \\n'\n",
      " 'Wording Score: 1.37797404863981')\n",
      "\n",
      "('Question: Summarize how the Third Wave developed over such a short period of '\n",
      " 'time and why the experiment was ended. \\n'\n",
      " \"Summary: It developed pretty quickly because the student's were so many \"\n",
      " 'students were so divulgued in this experiment many people started to join '\n",
      " 'and it got to the point were the students were taking it too serisouly so '\n",
      " 'Mr. Jones decided to shut it down. \\n'\n",
      " 'Content Score: -0.99326978468432 \\n'\n",
      " 'Wording Score: -0.367276199174599')\n",
      "\n",
      "('Question: Summarize how the Third Wave developed over such a short period of '\n",
      " 'time and why the experiment was ended. \\n'\n",
      " 'Summary: It developed quickly because the students thought that being a part '\n",
      " 'of a community strengthened the school.  Mr. Jones ended the experiment '\n",
      " 'because it was getting out of control. \\n'\n",
      " 'Content Score: -0.910596475636499 \\n'\n",
      " 'Wording Score: -0.0817694380946405')\n",
      "\n"
     ]
    }
   ],
   "source": [
    "display_text(s=200,n=220,df=train_df)"
   ]
  },
  {
   "cell_type": "markdown",
   "id": "1078a999",
   "metadata": {
    "papermill": {
     "duration": 0.014244,
     "end_time": "2023-08-26T08:49:39.575635",
     "exception": false,
     "start_time": "2023-08-26T08:49:39.561391",
     "status": "completed"
    },
    "tags": []
   },
   "source": [
    "#### Combine the Title, Question, Context and Summary text into one large block of text"
   ]
  },
  {
   "cell_type": "code",
   "execution_count": 14,
   "id": "6da205e3",
   "metadata": {
    "execution": {
     "iopub.execute_input": "2023-08-26T08:49:39.602111Z",
     "iopub.status.busy": "2023-08-26T08:49:39.601731Z",
     "iopub.status.idle": "2023-08-26T08:49:39.608078Z",
     "shell.execute_reply": "2023-08-26T08:49:39.607131Z"
    },
    "papermill": {
     "duration": 0.022096,
     "end_time": "2023-08-26T08:49:39.610404",
     "exception": false,
     "start_time": "2023-08-26T08:49:39.588308",
     "status": "completed"
    },
    "tags": []
   },
   "outputs": [],
   "source": [
    "sample = 'Title:\\n'+train_df.iloc[0]['prompt_title']+'\\nQuestion:\\n'+train_df.iloc[0]['prompt_question']+'\\nText:\\n'+train_df.iloc[0]['prompt_text']+'\\nAnswer:\\n'+train_df.iloc[0]['text']"
   ]
  },
  {
   "cell_type": "code",
   "execution_count": 15,
   "id": "e55d2413",
   "metadata": {
    "execution": {
     "iopub.execute_input": "2023-08-26T08:49:39.637682Z",
     "iopub.status.busy": "2023-08-26T08:49:39.637302Z",
     "iopub.status.idle": "2023-08-26T08:49:39.644029Z",
     "shell.execute_reply": "2023-08-26T08:49:39.642915Z"
    },
    "papermill": {
     "duration": 0.022571,
     "end_time": "2023-08-26T08:49:39.646230",
     "exception": false,
     "start_time": "2023-08-26T08:49:39.623659",
     "status": "completed"
    },
    "tags": []
   },
   "outputs": [
    {
     "name": "stdout",
     "output_type": "stream",
     "text": [
      "Title:\n",
      "The Third Wave\n",
      "Question:\n",
      "Summarize how the Third Wave developed over such a short period of time and why the experiment was ended.\n",
      "Text:\n",
      "Background \r\n",
      "The Third Wave experiment took place at Cubberley High School in Palo Alto, California during the first week of April 1967. History teacher Ron Jones, finding himself unable to explain to his students how people throughout history followed the crowd even when terrible things were happening, decided to demonstrate it to his students through an experiment. Jones announced that he was starting a movement aimed to eliminate democracy. Jones named the movement “The Third Wave” as a symbol of strength, referring to the mythical belief that the third in a series of waves is the strongest. One of the central points of this movement was that democracy’s main weakness is that it favors the individual over the whole community. Jones emphasized this main point of the movement when he created this catchy motto: “Strength through discipline, strength through community, strength through action, strength through pride.” \r\n",
      "The Experiment \r\n",
      "Jones started the first day of the experiment emphasizing simple things like proper seating, and drilled the students extensively until they got it right. He then proceeded to enforce strict classroom discipline by emerging as an authoritarian figure. This resulted in dramatic improvements to the efficiency, or orderliness, of the class.  The first day’s session ended with only a few rules. Jones intended it to be a one-day experiment. Students had to be sitting at attention before the second bell, had to stand up to ask or answer questions and had to do it in three words or fewer, and were required to preface each remark with “Mr. Jones.” As the week went on, Jones’ class transformed into a group with a supreme sense of discipline and community. Jones made up a salute resembling that of the Nazi regime and ordered class members to salute each other even outside the class. They all obeyed this command. \r\n",
      "After only three days, the experiment took on a life of its own, with students from all over the school joining in. The class expanded from initial 30 students to 43 attendees. All of the students showed drastic improvement in their academic skills and tremendous motivation. All of the students were issued a member card and each of them received a special assignment, like designing a Third Wave Banner, stopping non-members from entering the class, or other tasks to bring honor to the movement. Jones instructed the students on how to initiate new members, and by the end of the day the movement had over 200 participants. Jones was surprised that some of the students started reporting to him when other members of the movement failed to abide by the rules. \r\n",
      "By the fourth day of the experiment, the students became increasingly involved in the project and their discipline and loyalty to the project was so outstanding that Jones felt it was slipping out of control. He decided to terminate the movement, so he lied to students by announcing that the Third Wave was a part of a nationwide movement and that on the next day a presidential candidate of the movement would publicly announce its existence on television. Jones ordered students to attend a noon rally on Friday to witness the announcement. \r\n",
      "At the end of the week, instead of a televised address of their leader, the students were presented with a blank channel. After a few minutes of waiting, Jones announced that they had been a part of an experiment to demonstrate how people willingly create a sense of superiority over others, and how this can lead people to justify doing horrible things in the name of the state’s honor.\n",
      "Answer:\n",
      "The third wave was an experimentto see how people reacted to a new one leader government. It gained popularity as people wanted to try new things. The students follow anything that is said and start turning on eachother to gain higher power. They had to stop the experement as too many people got to radical with it blindly following there leader\n"
     ]
    }
   ],
   "source": [
    "print(sample)"
   ]
  },
  {
   "cell_type": "code",
   "execution_count": 16,
   "id": "c870ab8f",
   "metadata": {
    "execution": {
     "iopub.execute_input": "2023-08-26T08:49:39.669171Z",
     "iopub.status.busy": "2023-08-26T08:49:39.668848Z",
     "iopub.status.idle": "2023-08-26T08:49:39.834640Z",
     "shell.execute_reply": "2023-08-26T08:49:39.833322Z"
    },
    "papermill": {
     "duration": 0.179877,
     "end_time": "2023-08-26T08:49:39.837125",
     "exception": false,
     "start_time": "2023-08-26T08:49:39.657248",
     "status": "completed"
    },
    "tags": []
   },
   "outputs": [],
   "source": [
    "train_df['full_text'] = train_df.apply(lambda x: 'Title:\\n'+x['prompt_title']+\n",
    "               '\\nQuestion:\\n'+x['prompt_question']+\n",
    "               '\\nText:\\n'+x['prompt_text']+\n",
    "               '\\nAnswer:\\n'+x['text'],axis=1)"
   ]
  },
  {
   "cell_type": "markdown",
   "id": "155183df",
   "metadata": {
    "papermill": {
     "duration": 0.010647,
     "end_time": "2023-08-26T08:49:39.860128",
     "exception": false,
     "start_time": "2023-08-26T08:49:39.849481",
     "status": "completed"
    },
    "tags": []
   },
   "source": [
    "### Let's perform text preprocessing on our df full_text column"
   ]
  },
  {
   "cell_type": "code",
   "execution_count": 17,
   "id": "2e4aecaa",
   "metadata": {
    "execution": {
     "iopub.execute_input": "2023-08-26T08:49:39.883735Z",
     "iopub.status.busy": "2023-08-26T08:49:39.883382Z",
     "iopub.status.idle": "2023-08-26T08:49:39.888093Z",
     "shell.execute_reply": "2023-08-26T08:49:39.887036Z"
    },
    "papermill": {
     "duration": 0.018878,
     "end_time": "2023-08-26T08:49:39.889998",
     "exception": false,
     "start_time": "2023-08-26T08:49:39.871120",
     "status": "completed"
    },
    "tags": []
   },
   "outputs": [],
   "source": [
    "import warnings\n",
    "warnings.simplefilter(\"ignore\", UserWarning)"
   ]
  },
  {
   "cell_type": "markdown",
   "id": "019823be",
   "metadata": {
    "papermill": {
     "duration": 0.013046,
     "end_time": "2023-08-26T08:49:39.914111",
     "exception": false,
     "start_time": "2023-08-26T08:49:39.901065",
     "status": "completed"
    },
    "tags": []
   },
   "source": [
    "### Input all libraries"
   ]
  },
  {
   "cell_type": "code",
   "execution_count": 18,
   "id": "d1c4d5e7",
   "metadata": {
    "execution": {
     "iopub.execute_input": "2023-08-26T08:49:39.937824Z",
     "iopub.status.busy": "2023-08-26T08:49:39.937469Z",
     "iopub.status.idle": "2023-08-26T08:49:54.783231Z",
     "shell.execute_reply": "2023-08-26T08:49:54.781888Z"
    },
    "papermill": {
     "duration": 14.860257,
     "end_time": "2023-08-26T08:49:54.785728",
     "exception": false,
     "start_time": "2023-08-26T08:49:39.925471",
     "status": "completed"
    },
    "tags": []
   },
   "outputs": [],
   "source": [
    "import spacy\n",
    "import numpy as np # linear algebra\n",
    "import pandas as pd # data processing, CSV file I/O (e.g. pd.read_csv)\n",
    "from sklearn.feature_extraction.text import CountVectorizer, TfidfTransformer\n",
    "from sklearn.ensemble import RandomForestRegressor\n",
    "from sklearn.multioutput import MultiOutputRegressor\n",
    "from sklearn.metrics import make_scorer\n",
    "from sklearn.model_selection import train_test_split, GridSearchCV"
   ]
  },
  {
   "cell_type": "code",
   "execution_count": 19,
   "id": "d3380e4b",
   "metadata": {
    "execution": {
     "iopub.execute_input": "2023-08-26T08:49:54.811055Z",
     "iopub.status.busy": "2023-08-26T08:49:54.810329Z",
     "iopub.status.idle": "2023-08-26T08:49:57.495203Z",
     "shell.execute_reply": "2023-08-26T08:49:57.493733Z"
    },
    "papermill": {
     "duration": 2.700041,
     "end_time": "2023-08-26T08:49:57.497517",
     "exception": false,
     "start_time": "2023-08-26T08:49:54.797476",
     "status": "completed"
    },
    "tags": []
   },
   "outputs": [],
   "source": [
    "from string import punctuation as punc\n",
    "from collections import defaultdict\n",
    "import spacy\n",
    "from string import punctuation as punc\n",
    "from tqdm import tqdm\n",
    "\n",
    "nlp = spacy.load(\"/kaggle/input/en-core-web-md/en_core_web_md/en_core_web_md-3.4.1/\")\n",
    "\n",
    "def process_text(text):\n",
    "    doc = nlp(text)\n",
    "    lemmas = []\n",
    "    stops = 0\n",
    "    pos = defaultdict(int,{'VERB': 0, \"NOUN\": 0})\n",
    "    answer_length = len(text)\n",
    "\n",
    "    for token in doc:\n",
    "        if token.is_stop:\n",
    "            stops += 1\n",
    "        else:\n",
    "            if token.pos_ == \"VERB\":\n",
    "                pos[token.pos_] += 1\n",
    "            elif token.pos_ == \"NOUN\":\n",
    "                pos[token.pos_] += 1\n",
    "        lemmas.append(token.lemma_.lower())\n",
    "    pos = dict(pos)\n",
    "    return ' '.join(lemmas), stops, pos['VERB'], pos['NOUN'], answer_length\n",
    "\n",
    "def count_punc(text):\n",
    "    return len([p for p in text if p in punc])\n",
    "\n",
    "# Overlap Score\n",
    "def overlap(sample):\n",
    "    answer = set(sample['text'].lower().split())\n",
    "    context = set(sample['prompt_text'].lower().split())\n",
    "    intersection = len(context.intersection(answer))\n",
    "    difference = len(context.difference(answer))\n",
    "    union = len(context.union(answer))\n",
    "    overlap_score = intersection/float(len(context))\n",
    "    jaccard_similarity = intersection/union\n",
    "    return intersection, difference, union, overlap_score, jaccard_similarity\n"
   ]
  },
  {
   "cell_type": "code",
   "execution_count": 20,
   "id": "8a841b20",
   "metadata": {
    "execution": {
     "iopub.execute_input": "2023-08-26T08:49:57.521351Z",
     "iopub.status.busy": "2023-08-26T08:49:57.520970Z",
     "iopub.status.idle": "2023-08-26T08:49:57.536157Z",
     "shell.execute_reply": "2023-08-26T08:49:57.535050Z"
    },
    "papermill": {
     "duration": 0.030184,
     "end_time": "2023-08-26T08:49:57.538867",
     "exception": false,
     "start_time": "2023-08-26T08:49:57.508683",
     "status": "completed"
    },
    "tags": []
   },
   "outputs": [],
   "source": [
    "from sklearn.feature_extraction.text import CountVectorizer, TfidfTransformer\n",
    "from sklearn.preprocessing import StandardScaler\n",
    "from sklearn.decomposition import PCA, TruncatedSVD\n",
    "from sklearn.metrics.pairwise import cosine_similarity, euclidean_distances\n",
    "\n",
    "\n",
    "def preprocess_data(summary_df, prompt_df, ngram_range=(1,1)):\n",
    "    train_df = summary_df.merge(right=prompt_df, how='inner', on='prompt_id')\n",
    "\n",
    "    train_df = train_df.assign(\n",
    "    full_text='Title:\\n' + train_df['prompt_title'] +\n",
    "            '\\nQuestion:\\n' + train_df['prompt_question'] +\n",
    "            '\\nText:\\n' + train_df['prompt_text']\n",
    "    )\n",
    "\n",
    "    print('processing text data')\n",
    "\n",
    "    # Refactored text processing\n",
    "    def process_texts(column_name):\n",
    "        return zip(*train_df[column_name].apply(process_text).tolist())\n",
    "\n",
    "    train_df['intersection'], train_df['difference'], train_df['union'], train_df['overlap_score'], train_df['jaccard_similarity'] = zip(*train_df.apply(overlap, axis=1).tolist())\n",
    "\n",
    "    train_df['lemmas'],train_df['summary_stopwords'],train_df['summary_verbs'], train_df['summary_nouns'], train_df['length_of_summary'] = process_texts('text')\n",
    "    train_df['full_text'], train_df['full_text_stopwords'],train_df['full_text_verbs'], train_df['full_text_nouns'], train_df['length_of_full_text'] = process_texts('full_text')\n",
    "\n",
    "    print('processing features.....')\n",
    "    # Process other columns\n",
    "    train_df['summary_punctuation'] = train_df['text'].apply(count_punc)\n",
    "\n",
    "    cols = ['length_of_summary', 'summary_punctuation','summary_stopwords','summary_verbs','summary_nouns',\n",
    "      'intersection','difference','union', 'overlap_score', 'jaccard_similarity',\n",
    "      'full_text_stopwords','full_text_verbs','full_text_nouns','length_of_full_text','content', 'wording']\n",
    "\n",
    "    print('applying vectorizer.....')\n",
    "    global vectorizer, pca\n",
    "    vectorizer = CountVectorizer(ngram_range=ngram_range)\n",
    "    transformer = TfidfTransformer(sublinear_tf=True)\n",
    "    transformed_df = transformer.fit_transform(vectorizer.fit_transform(train_df['full_text']))\n",
    "    summary_transformed_df = transformer.fit_transform(vectorizer.transform(train_df['lemmas']))\n",
    "\n",
    "    print('scaling features.....')\n",
    "    scaler = StandardScaler(with_mean=True, with_std=True,)\n",
    "    X_sample_scaled = scaler.fit_transform(transformed_df.toarray())\n",
    "    X_summary_scaled = scaler.fit_transform(summary_transformed_df.toarray())\n",
    "\n",
    "    print('decomposing features.......')\n",
    "    components = round(summary_transformed_df.shape[1] * (43.6/100))\n",
    "    pca = TruncatedSVD(n_components=components,algorithm='arpack', random_state=42)\n",
    "    pca_bag = pca.fit_transform(X_sample_scaled)\n",
    "    summary_bag = pca.fit_transform(X_summary_scaled)\n",
    "    similarity = np.zeros((train_df.shape[0], 2))\n",
    "    for i, data in train_df.iterrows():\n",
    "        full_bags = transformer.transform(vectorizer.transform([data['full_text']]))\n",
    "        summary_bags = transformer.transform(vectorizer.transform([data['lemmas']]))\n",
    "        similarity[i, 0] = cosine_similarity(full_bags, summary_bags)[0][0]\n",
    "        similarity[i, 1] = euclidean_distances(full_bags, summary_bags)[0][0]\n",
    "\n",
    "    stacked_bag = np.hstack((pca_bag, summary_bag,similarity,train_df[cols].values))\n",
    "\n",
    "    print('collecting outputs.........')\n",
    "    student_ids = train_df['student_id'].values\n",
    "\n",
    "    return stacked_bag, student_ids"
   ]
  },
  {
   "cell_type": "code",
   "execution_count": 21,
   "id": "777fbe8a",
   "metadata": {
    "execution": {
     "iopub.execute_input": "2023-08-26T08:49:57.562971Z",
     "iopub.status.busy": "2023-08-26T08:49:57.562529Z",
     "iopub.status.idle": "2023-08-26T09:03:28.382785Z",
     "shell.execute_reply": "2023-08-26T09:03:28.381785Z"
    },
    "papermill": {
     "duration": 810.844491,
     "end_time": "2023-08-26T09:03:28.395268",
     "exception": false,
     "start_time": "2023-08-26T08:49:57.550777",
     "status": "completed"
    },
    "tags": []
   },
   "outputs": [
    {
     "name": "stdout",
     "output_type": "stream",
     "text": [
      "processing text data\n",
      "processing features.....\n",
      "applying vectorizer.....\n",
      "scaling features.....\n",
      "decomposing features.......\n",
      "collecting outputs.........\n",
      "Preprocessed function executed in: 810.81 seconds\n"
     ]
    }
   ],
   "source": [
    "import time\n",
    "\n",
    "start_time = time.time()\n",
    "\n",
    "bag_of_words, student_ids = preprocess_data(summary_df,prompt_df,ngram_range=(1,1))\n",
    "\n",
    "end_time = time.time()\n",
    "elapsed_time = end_time - start_time\n",
    "\n",
    "print(f\"Preprocessed function executed in: {elapsed_time:.2f} seconds\")"
   ]
  },
  {
   "cell_type": "markdown",
   "id": "3a1729ce",
   "metadata": {
    "papermill": {
     "duration": 0.012154,
     "end_time": "2023-08-26T09:03:28.420888",
     "exception": false,
     "start_time": "2023-08-26T09:03:28.408734",
     "status": "completed"
    },
    "tags": []
   },
   "source": [
    "### processed summary - \n",
    "```\n",
    "similarity, euclidean,full_text, summary_text length_of_summary summary_punctuation summary_stopwords summary_verbs','summary_nouns','intersection',\n",
    "'difference','union'overlap_score','jaccard_similarity','full_text_stopwords','full_text_verbs','full_text_nouns','length_of_full_text'          \n",
    "```"
   ]
  },
  {
   "cell_type": "code",
   "execution_count": 22,
   "id": "dd1a54db",
   "metadata": {
    "execution": {
     "iopub.execute_input": "2023-08-26T09:03:28.444787Z",
     "iopub.status.busy": "2023-08-26T09:03:28.444092Z",
     "iopub.status.idle": "2023-08-26T09:03:28.451223Z",
     "shell.execute_reply": "2023-08-26T09:03:28.450178Z"
    },
    "papermill": {
     "duration": 0.022113,
     "end_time": "2023-08-26T09:03:28.453988",
     "exception": false,
     "start_time": "2023-08-26T09:03:28.431875",
     "status": "completed"
    },
    "tags": []
   },
   "outputs": [
    {
     "data": {
      "text/plain": [
       "(7165, 764)"
      ]
     },
     "execution_count": 22,
     "metadata": {},
     "output_type": "execute_result"
    }
   ],
   "source": [
    "bag_of_words.shape"
   ]
  },
  {
   "cell_type": "code",
   "execution_count": 23,
   "id": "635e50e3",
   "metadata": {
    "execution": {
     "iopub.execute_input": "2023-08-26T09:03:28.479348Z",
     "iopub.status.busy": "2023-08-26T09:03:28.479029Z",
     "iopub.status.idle": "2023-08-26T09:03:28.484365Z",
     "shell.execute_reply": "2023-08-26T09:03:28.482792Z"
    },
    "papermill": {
     "duration": 0.02104,
     "end_time": "2023-08-26T09:03:28.486948",
     "exception": false,
     "start_time": "2023-08-26T09:03:28.465908",
     "status": "completed"
    },
    "tags": []
   },
   "outputs": [],
   "source": [
    "import matplotlib.pyplot as plt\n",
    "plt.rcParams['figure.figsize'] = (7,5)"
   ]
  },
  {
   "cell_type": "code",
   "execution_count": 24,
   "id": "af552868",
   "metadata": {
    "execution": {
     "iopub.execute_input": "2023-08-26T09:03:28.511619Z",
     "iopub.status.busy": "2023-08-26T09:03:28.510449Z",
     "iopub.status.idle": "2023-08-26T09:03:28.517484Z",
     "shell.execute_reply": "2023-08-26T09:03:28.516799Z"
    },
    "papermill": {
     "duration": 0.021319,
     "end_time": "2023-08-26T09:03:28.519595",
     "exception": false,
     "start_time": "2023-08-26T09:03:28.498276",
     "status": "completed"
    },
    "tags": []
   },
   "outputs": [],
   "source": [
    "def get_plot(d_lower,d_higher,cumsum):\n",
    "    fig, axis = plt.subplots()\n",
    "    axis.step(range(len(cumsum)),cumsum, where='mid', c='b', label='Explained Ration')\n",
    "    axis.vlines(d_higher, 0, cumsum[d_higher], colors='orange', linestyles='--',label=f'{d_higher} components')\n",
    "    axis.vlines(d_lower, 0, cumsum[d_lower],colors='red', linestyles='--', label=f'{d_lower} components')\n",
    "    axis.hlines(cumsum[d_higher], -200, d_higher, colors='orange', linestyles='--', label=f'{cumsum[d_higher]:.2f} cumsum')\n",
    "    axis.hlines(cumsum[d_lower], -200, d_lower,colors='red', linestyles='--', label=f'{cumsum[d_lower]:.2f} cumsum')\n",
    "    axis.set_xlim([-200, 5000])\n",
    "    axis.set_xlabel('Principal Components Index')\n",
    "    axis.set_ylabel('Explained Variance Ratio')\n",
    "    axis.grid(True)\n",
    "    plt.legend(loc='best')\n",
    "    plt.show()"
   ]
  },
  {
   "cell_type": "code",
   "execution_count": 25,
   "id": "f318c0f5",
   "metadata": {
    "execution": {
     "iopub.execute_input": "2023-08-26T09:03:28.544311Z",
     "iopub.status.busy": "2023-08-26T09:03:28.543203Z",
     "iopub.status.idle": "2023-08-26T09:03:28.548292Z",
     "shell.execute_reply": "2023-08-26T09:03:28.547076Z"
    },
    "papermill": {
     "duration": 0.01979,
     "end_time": "2023-08-26T09:03:28.550689",
     "exception": false,
     "start_time": "2023-08-26T09:03:28.530899",
     "status": "completed"
    },
    "tags": []
   },
   "outputs": [],
   "source": [
    "# get_plot(d_lower=d_95,d_higher=d_99,cumsum=cumsum)"
   ]
  },
  {
   "cell_type": "code",
   "execution_count": 26,
   "id": "ceca132d",
   "metadata": {
    "execution": {
     "iopub.execute_input": "2023-08-26T09:03:28.575209Z",
     "iopub.status.busy": "2023-08-26T09:03:28.574667Z",
     "iopub.status.idle": "2023-08-26T09:03:28.589050Z",
     "shell.execute_reply": "2023-08-26T09:03:28.588130Z"
    },
    "papermill": {
     "duration": 0.029653,
     "end_time": "2023-08-26T09:03:28.591698",
     "exception": false,
     "start_time": "2023-08-26T09:03:28.562045",
     "status": "completed"
    },
    "tags": []
   },
   "outputs": [],
   "source": [
    "X_train,X_test,y_train,y_test = train_test_split(bag_of_words[:,:-2] ,bag_of_words[:,-2:],test_size=0.1,shuffle=True,random_state=11)"
   ]
  },
  {
   "cell_type": "code",
   "execution_count": 27,
   "id": "c650ff55",
   "metadata": {
    "execution": {
     "iopub.execute_input": "2023-08-26T09:03:28.616437Z",
     "iopub.status.busy": "2023-08-26T09:03:28.616052Z",
     "iopub.status.idle": "2023-08-26T09:03:28.621393Z",
     "shell.execute_reply": "2023-08-26T09:03:28.619844Z"
    },
    "papermill": {
     "duration": 0.0205,
     "end_time": "2023-08-26T09:03:28.623877",
     "exception": false,
     "start_time": "2023-08-26T09:03:28.603377",
     "status": "completed"
    },
    "tags": []
   },
   "outputs": [],
   "source": [
    "from warnings import filterwarnings\n",
    "filterwarnings(action='always')"
   ]
  },
  {
   "cell_type": "code",
   "execution_count": 28,
   "id": "5184a2f0",
   "metadata": {
    "execution": {
     "iopub.execute_input": "2023-08-26T09:03:28.648751Z",
     "iopub.status.busy": "2023-08-26T09:03:28.648148Z",
     "iopub.status.idle": "2023-08-26T09:03:28.653854Z",
     "shell.execute_reply": "2023-08-26T09:03:28.652532Z"
    },
    "papermill": {
     "duration": 0.020614,
     "end_time": "2023-08-26T09:03:28.655863",
     "exception": false,
     "start_time": "2023-08-26T09:03:28.635249",
     "status": "completed"
    },
    "tags": []
   },
   "outputs": [],
   "source": [
    "def mcrmse(y_true, y_pred):\n",
    "    return np.mean(np.sqrt(np.mean((y_true - y_pred)**2, axis=0)))"
   ]
  },
  {
   "cell_type": "code",
   "execution_count": 29,
   "id": "1badcd83",
   "metadata": {
    "execution": {
     "iopub.execute_input": "2023-08-26T09:03:28.680326Z",
     "iopub.status.busy": "2023-08-26T09:03:28.679990Z",
     "iopub.status.idle": "2023-08-26T09:03:28.685715Z",
     "shell.execute_reply": "2023-08-26T09:03:28.684084Z"
    },
    "papermill": {
     "duration": 0.020631,
     "end_time": "2023-08-26T09:03:28.687979",
     "exception": false,
     "start_time": "2023-08-26T09:03:28.667348",
     "status": "completed"
    },
    "tags": []
   },
   "outputs": [],
   "source": [
    "model_rf = MultiOutputRegressor(estimator=RandomForestRegressor(max_depth=11,\n",
    "                                                     max_features=0.6,\n",
    "                                                     min_samples_split=10,\n",
    "                                                     n_estimators=400,\n",
    "                                                     n_jobs=-1,\n",
    "                                                     random_state=42))"
   ]
  },
  {
   "cell_type": "code",
   "execution_count": 30,
   "id": "008369a8",
   "metadata": {
    "execution": {
     "iopub.execute_input": "2023-08-26T09:03:28.713239Z",
     "iopub.status.busy": "2023-08-26T09:03:28.712496Z",
     "iopub.status.idle": "2023-08-26T09:07:02.812543Z",
     "shell.execute_reply": "2023-08-26T09:07:02.811536Z"
    },
    "papermill": {
     "duration": 214.125218,
     "end_time": "2023-08-26T09:07:02.824942",
     "exception": false,
     "start_time": "2023-08-26T09:03:28.699724",
     "status": "completed"
    },
    "tags": []
   },
   "outputs": [
    {
     "name": "stderr",
     "output_type": "stream",
     "text": [
      "/opt/conda/lib/python3.10/site-packages/scipy/__init__.py:146: UserWarning: A NumPy version >=1.16.5 and <1.23.0 is required for this version of SciPy (detected version 1.23.5\n",
      "  warnings.warn(f\"A NumPy version >={np_minversion} and <{np_maxversion}\"\n",
      "/opt/conda/lib/python3.10/site-packages/scipy/__init__.py:146: UserWarning: A NumPy version >=1.16.5 and <1.23.0 is required for this version of SciPy (detected version 1.23.5\n",
      "  warnings.warn(f\"A NumPy version >={np_minversion} and <{np_maxversion}\"\n",
      "/opt/conda/lib/python3.10/site-packages/scipy/__init__.py:146: UserWarning: A NumPy version >=1.16.5 and <1.23.0 is required for this version of SciPy (detected version 1.23.5\n",
      "  warnings.warn(f\"A NumPy version >={np_minversion} and <{np_maxversion}\"\n",
      "/opt/conda/lib/python3.10/site-packages/scipy/__init__.py:146: UserWarning: A NumPy version >=1.16.5 and <1.23.0 is required for this version of SciPy (detected version 1.23.5\n",
      "  warnings.warn(f\"A NumPy version >={np_minversion} and <{np_maxversion}\"\n"
     ]
    },
    {
     "data": {
      "text/html": [
       "<style>#sk-container-id-1 {color: black;background-color: white;}#sk-container-id-1 pre{padding: 0;}#sk-container-id-1 div.sk-toggleable {background-color: white;}#sk-container-id-1 label.sk-toggleable__label {cursor: pointer;display: block;width: 100%;margin-bottom: 0;padding: 0.3em;box-sizing: border-box;text-align: center;}#sk-container-id-1 label.sk-toggleable__label-arrow:before {content: \"▸\";float: left;margin-right: 0.25em;color: #696969;}#sk-container-id-1 label.sk-toggleable__label-arrow:hover:before {color: black;}#sk-container-id-1 div.sk-estimator:hover label.sk-toggleable__label-arrow:before {color: black;}#sk-container-id-1 div.sk-toggleable__content {max-height: 0;max-width: 0;overflow: hidden;text-align: left;background-color: #f0f8ff;}#sk-container-id-1 div.sk-toggleable__content pre {margin: 0.2em;color: black;border-radius: 0.25em;background-color: #f0f8ff;}#sk-container-id-1 input.sk-toggleable__control:checked~div.sk-toggleable__content {max-height: 200px;max-width: 100%;overflow: auto;}#sk-container-id-1 input.sk-toggleable__control:checked~label.sk-toggleable__label-arrow:before {content: \"▾\";}#sk-container-id-1 div.sk-estimator input.sk-toggleable__control:checked~label.sk-toggleable__label {background-color: #d4ebff;}#sk-container-id-1 div.sk-label input.sk-toggleable__control:checked~label.sk-toggleable__label {background-color: #d4ebff;}#sk-container-id-1 input.sk-hidden--visually {border: 0;clip: rect(1px 1px 1px 1px);clip: rect(1px, 1px, 1px, 1px);height: 1px;margin: -1px;overflow: hidden;padding: 0;position: absolute;width: 1px;}#sk-container-id-1 div.sk-estimator {font-family: monospace;background-color: #f0f8ff;border: 1px dotted black;border-radius: 0.25em;box-sizing: border-box;margin-bottom: 0.5em;}#sk-container-id-1 div.sk-estimator:hover {background-color: #d4ebff;}#sk-container-id-1 div.sk-parallel-item::after {content: \"\";width: 100%;border-bottom: 1px solid gray;flex-grow: 1;}#sk-container-id-1 div.sk-label:hover label.sk-toggleable__label {background-color: #d4ebff;}#sk-container-id-1 div.sk-serial::before {content: \"\";position: absolute;border-left: 1px solid gray;box-sizing: border-box;top: 0;bottom: 0;left: 50%;z-index: 0;}#sk-container-id-1 div.sk-serial {display: flex;flex-direction: column;align-items: center;background-color: white;padding-right: 0.2em;padding-left: 0.2em;position: relative;}#sk-container-id-1 div.sk-item {position: relative;z-index: 1;}#sk-container-id-1 div.sk-parallel {display: flex;align-items: stretch;justify-content: center;background-color: white;position: relative;}#sk-container-id-1 div.sk-item::before, #sk-container-id-1 div.sk-parallel-item::before {content: \"\";position: absolute;border-left: 1px solid gray;box-sizing: border-box;top: 0;bottom: 0;left: 50%;z-index: -1;}#sk-container-id-1 div.sk-parallel-item {display: flex;flex-direction: column;z-index: 1;position: relative;background-color: white;}#sk-container-id-1 div.sk-parallel-item:first-child::after {align-self: flex-end;width: 50%;}#sk-container-id-1 div.sk-parallel-item:last-child::after {align-self: flex-start;width: 50%;}#sk-container-id-1 div.sk-parallel-item:only-child::after {width: 0;}#sk-container-id-1 div.sk-dashed-wrapped {border: 1px dashed gray;margin: 0 0.4em 0.5em 0.4em;box-sizing: border-box;padding-bottom: 0.4em;background-color: white;}#sk-container-id-1 div.sk-label label {font-family: monospace;font-weight: bold;display: inline-block;line-height: 1.2em;}#sk-container-id-1 div.sk-label-container {text-align: center;}#sk-container-id-1 div.sk-container {/* jupyter's `normalize.less` sets `[hidden] { display: none; }` but bootstrap.min.css set `[hidden] { display: none !important; }` so we also need the `!important` here to be able to override the default hidden behavior on the sphinx rendered scikit-learn.org. See: https://github.com/scikit-learn/scikit-learn/issues/21755 */display: inline-block !important;position: relative;}#sk-container-id-1 div.sk-text-repr-fallback {display: none;}</style><div id=\"sk-container-id-1\" class=\"sk-top-container\"><div class=\"sk-text-repr-fallback\"><pre>MultiOutputRegressor(estimator=RandomForestRegressor(max_depth=11,\n",
       "                                                     max_features=0.6,\n",
       "                                                     min_samples_split=10,\n",
       "                                                     n_estimators=400,\n",
       "                                                     n_jobs=-1,\n",
       "                                                     random_state=42))</pre><b>In a Jupyter environment, please rerun this cell to show the HTML representation or trust the notebook. <br />On GitHub, the HTML representation is unable to render, please try loading this page with nbviewer.org.</b></div><div class=\"sk-container\" hidden><div class=\"sk-item sk-dashed-wrapped\"><div class=\"sk-label-container\"><div class=\"sk-label sk-toggleable\"><input class=\"sk-toggleable__control sk-hidden--visually\" id=\"sk-estimator-id-1\" type=\"checkbox\" ><label for=\"sk-estimator-id-1\" class=\"sk-toggleable__label sk-toggleable__label-arrow\">MultiOutputRegressor</label><div class=\"sk-toggleable__content\"><pre>MultiOutputRegressor(estimator=RandomForestRegressor(max_depth=11,\n",
       "                                                     max_features=0.6,\n",
       "                                                     min_samples_split=10,\n",
       "                                                     n_estimators=400,\n",
       "                                                     n_jobs=-1,\n",
       "                                                     random_state=42))</pre></div></div></div><div class=\"sk-parallel\"><div class=\"sk-parallel-item\"><div class=\"sk-item\"><div class=\"sk-label-container\"><div class=\"sk-label sk-toggleable\"><input class=\"sk-toggleable__control sk-hidden--visually\" id=\"sk-estimator-id-2\" type=\"checkbox\" ><label for=\"sk-estimator-id-2\" class=\"sk-toggleable__label sk-toggleable__label-arrow\">estimator: RandomForestRegressor</label><div class=\"sk-toggleable__content\"><pre>RandomForestRegressor(max_depth=11, max_features=0.6, min_samples_split=10,\n",
       "                      n_estimators=400, n_jobs=-1, random_state=42)</pre></div></div></div><div class=\"sk-serial\"><div class=\"sk-item\"><div class=\"sk-estimator sk-toggleable\"><input class=\"sk-toggleable__control sk-hidden--visually\" id=\"sk-estimator-id-3\" type=\"checkbox\" ><label for=\"sk-estimator-id-3\" class=\"sk-toggleable__label sk-toggleable__label-arrow\">RandomForestRegressor</label><div class=\"sk-toggleable__content\"><pre>RandomForestRegressor(max_depth=11, max_features=0.6, min_samples_split=10,\n",
       "                      n_estimators=400, n_jobs=-1, random_state=42)</pre></div></div></div></div></div></div></div></div></div></div>"
      ],
      "text/plain": [
       "MultiOutputRegressor(estimator=RandomForestRegressor(max_depth=11,\n",
       "                                                     max_features=0.6,\n",
       "                                                     min_samples_split=10,\n",
       "                                                     n_estimators=400,\n",
       "                                                     n_jobs=-1,\n",
       "                                                     random_state=42))"
      ]
     },
     "execution_count": 30,
     "metadata": {},
     "output_type": "execute_result"
    }
   ],
   "source": [
    "model_rf.fit(X_train,y_train)"
   ]
  },
  {
   "cell_type": "code",
   "execution_count": 31,
   "id": "f81f7993",
   "metadata": {
    "execution": {
     "iopub.execute_input": "2023-08-26T09:07:02.849716Z",
     "iopub.status.busy": "2023-08-26T09:07:02.849294Z",
     "iopub.status.idle": "2023-08-26T09:07:03.035319Z",
     "shell.execute_reply": "2023-08-26T09:07:03.034425Z"
    },
    "papermill": {
     "duration": 0.200757,
     "end_time": "2023-08-26T09:07:03.037287",
     "exception": false,
     "start_time": "2023-08-26T09:07:02.836530",
     "status": "completed"
    },
    "tags": []
   },
   "outputs": [
    {
     "data": {
      "text/plain": [
       "0.51641961787614"
      ]
     },
     "execution_count": 31,
     "metadata": {},
     "output_type": "execute_result"
    }
   ],
   "source": [
    "y_preds = model_rf.predict(X_test)\n",
    "mcrmse(y_test,y_preds)"
   ]
  },
  {
   "cell_type": "code",
   "execution_count": 32,
   "id": "0085bb82",
   "metadata": {
    "execution": {
     "iopub.execute_input": "2023-08-26T09:07:03.064214Z",
     "iopub.status.busy": "2023-08-26T09:07:03.063814Z",
     "iopub.status.idle": "2023-08-26T09:07:03.069881Z",
     "shell.execute_reply": "2023-08-26T09:07:03.068939Z"
    },
    "papermill": {
     "duration": 0.02107,
     "end_time": "2023-08-26T09:07:03.071564",
     "exception": false,
     "start_time": "2023-08-26T09:07:03.050494",
     "status": "completed"
    },
    "tags": []
   },
   "outputs": [
    {
     "data": {
      "text/plain": [
       "(6448, 762)"
      ]
     },
     "execution_count": 32,
     "metadata": {},
     "output_type": "execute_result"
    }
   ],
   "source": [
    "X_train.shape"
   ]
  },
  {
   "cell_type": "code",
   "execution_count": 33,
   "id": "aaf628b0",
   "metadata": {
    "execution": {
     "iopub.execute_input": "2023-08-26T09:07:03.096934Z",
     "iopub.status.busy": "2023-08-26T09:07:03.096495Z",
     "iopub.status.idle": "2023-08-26T09:07:03.470007Z",
     "shell.execute_reply": "2023-08-26T09:07:03.468458Z"
    },
    "papermill": {
     "duration": 0.389647,
     "end_time": "2023-08-26T09:07:03.472954",
     "exception": false,
     "start_time": "2023-08-26T09:07:03.083307",
     "status": "completed"
    },
    "tags": []
   },
   "outputs": [
    {
     "data": {
      "text/plain": [
       "0.899528369403503"
      ]
     },
     "execution_count": 33,
     "metadata": {},
     "output_type": "execute_result"
    }
   ],
   "source": [
    "model_rf.score(X_train, y_train)"
   ]
  },
  {
   "cell_type": "code",
   "execution_count": 34,
   "id": "b1cda3f1",
   "metadata": {
    "execution": {
     "iopub.execute_input": "2023-08-26T09:07:03.498250Z",
     "iopub.status.busy": "2023-08-26T09:07:03.497907Z",
     "iopub.status.idle": "2023-08-26T09:11:00.816258Z",
     "shell.execute_reply": "2023-08-26T09:11:00.815264Z"
    },
    "papermill": {
     "duration": 237.344699,
     "end_time": "2023-08-26T09:11:00.829703",
     "exception": false,
     "start_time": "2023-08-26T09:07:03.485004",
     "status": "completed"
    },
    "tags": []
   },
   "outputs": [
    {
     "data": {
      "text/html": [
       "<style>#sk-container-id-2 {color: black;background-color: white;}#sk-container-id-2 pre{padding: 0;}#sk-container-id-2 div.sk-toggleable {background-color: white;}#sk-container-id-2 label.sk-toggleable__label {cursor: pointer;display: block;width: 100%;margin-bottom: 0;padding: 0.3em;box-sizing: border-box;text-align: center;}#sk-container-id-2 label.sk-toggleable__label-arrow:before {content: \"▸\";float: left;margin-right: 0.25em;color: #696969;}#sk-container-id-2 label.sk-toggleable__label-arrow:hover:before {color: black;}#sk-container-id-2 div.sk-estimator:hover label.sk-toggleable__label-arrow:before {color: black;}#sk-container-id-2 div.sk-toggleable__content {max-height: 0;max-width: 0;overflow: hidden;text-align: left;background-color: #f0f8ff;}#sk-container-id-2 div.sk-toggleable__content pre {margin: 0.2em;color: black;border-radius: 0.25em;background-color: #f0f8ff;}#sk-container-id-2 input.sk-toggleable__control:checked~div.sk-toggleable__content {max-height: 200px;max-width: 100%;overflow: auto;}#sk-container-id-2 input.sk-toggleable__control:checked~label.sk-toggleable__label-arrow:before {content: \"▾\";}#sk-container-id-2 div.sk-estimator input.sk-toggleable__control:checked~label.sk-toggleable__label {background-color: #d4ebff;}#sk-container-id-2 div.sk-label input.sk-toggleable__control:checked~label.sk-toggleable__label {background-color: #d4ebff;}#sk-container-id-2 input.sk-hidden--visually {border: 0;clip: rect(1px 1px 1px 1px);clip: rect(1px, 1px, 1px, 1px);height: 1px;margin: -1px;overflow: hidden;padding: 0;position: absolute;width: 1px;}#sk-container-id-2 div.sk-estimator {font-family: monospace;background-color: #f0f8ff;border: 1px dotted black;border-radius: 0.25em;box-sizing: border-box;margin-bottom: 0.5em;}#sk-container-id-2 div.sk-estimator:hover {background-color: #d4ebff;}#sk-container-id-2 div.sk-parallel-item::after {content: \"\";width: 100%;border-bottom: 1px solid gray;flex-grow: 1;}#sk-container-id-2 div.sk-label:hover label.sk-toggleable__label {background-color: #d4ebff;}#sk-container-id-2 div.sk-serial::before {content: \"\";position: absolute;border-left: 1px solid gray;box-sizing: border-box;top: 0;bottom: 0;left: 50%;z-index: 0;}#sk-container-id-2 div.sk-serial {display: flex;flex-direction: column;align-items: center;background-color: white;padding-right: 0.2em;padding-left: 0.2em;position: relative;}#sk-container-id-2 div.sk-item {position: relative;z-index: 1;}#sk-container-id-2 div.sk-parallel {display: flex;align-items: stretch;justify-content: center;background-color: white;position: relative;}#sk-container-id-2 div.sk-item::before, #sk-container-id-2 div.sk-parallel-item::before {content: \"\";position: absolute;border-left: 1px solid gray;box-sizing: border-box;top: 0;bottom: 0;left: 50%;z-index: -1;}#sk-container-id-2 div.sk-parallel-item {display: flex;flex-direction: column;z-index: 1;position: relative;background-color: white;}#sk-container-id-2 div.sk-parallel-item:first-child::after {align-self: flex-end;width: 50%;}#sk-container-id-2 div.sk-parallel-item:last-child::after {align-self: flex-start;width: 50%;}#sk-container-id-2 div.sk-parallel-item:only-child::after {width: 0;}#sk-container-id-2 div.sk-dashed-wrapped {border: 1px dashed gray;margin: 0 0.4em 0.5em 0.4em;box-sizing: border-box;padding-bottom: 0.4em;background-color: white;}#sk-container-id-2 div.sk-label label {font-family: monospace;font-weight: bold;display: inline-block;line-height: 1.2em;}#sk-container-id-2 div.sk-label-container {text-align: center;}#sk-container-id-2 div.sk-container {/* jupyter's `normalize.less` sets `[hidden] { display: none; }` but bootstrap.min.css set `[hidden] { display: none !important; }` so we also need the `!important` here to be able to override the default hidden behavior on the sphinx rendered scikit-learn.org. See: https://github.com/scikit-learn/scikit-learn/issues/21755 */display: inline-block !important;position: relative;}#sk-container-id-2 div.sk-text-repr-fallback {display: none;}</style><div id=\"sk-container-id-2\" class=\"sk-top-container\"><div class=\"sk-text-repr-fallback\"><pre>MultiOutputRegressor(estimator=RandomForestRegressor(max_depth=11,\n",
       "                                                     max_features=0.6,\n",
       "                                                     min_samples_split=10,\n",
       "                                                     n_estimators=400,\n",
       "                                                     n_jobs=-1,\n",
       "                                                     random_state=42))</pre><b>In a Jupyter environment, please rerun this cell to show the HTML representation or trust the notebook. <br />On GitHub, the HTML representation is unable to render, please try loading this page with nbviewer.org.</b></div><div class=\"sk-container\" hidden><div class=\"sk-item sk-dashed-wrapped\"><div class=\"sk-label-container\"><div class=\"sk-label sk-toggleable\"><input class=\"sk-toggleable__control sk-hidden--visually\" id=\"sk-estimator-id-4\" type=\"checkbox\" ><label for=\"sk-estimator-id-4\" class=\"sk-toggleable__label sk-toggleable__label-arrow\">MultiOutputRegressor</label><div class=\"sk-toggleable__content\"><pre>MultiOutputRegressor(estimator=RandomForestRegressor(max_depth=11,\n",
       "                                                     max_features=0.6,\n",
       "                                                     min_samples_split=10,\n",
       "                                                     n_estimators=400,\n",
       "                                                     n_jobs=-1,\n",
       "                                                     random_state=42))</pre></div></div></div><div class=\"sk-parallel\"><div class=\"sk-parallel-item\"><div class=\"sk-item\"><div class=\"sk-label-container\"><div class=\"sk-label sk-toggleable\"><input class=\"sk-toggleable__control sk-hidden--visually\" id=\"sk-estimator-id-5\" type=\"checkbox\" ><label for=\"sk-estimator-id-5\" class=\"sk-toggleable__label sk-toggleable__label-arrow\">estimator: RandomForestRegressor</label><div class=\"sk-toggleable__content\"><pre>RandomForestRegressor(max_depth=11, max_features=0.6, min_samples_split=10,\n",
       "                      n_estimators=400, n_jobs=-1, random_state=42)</pre></div></div></div><div class=\"sk-serial\"><div class=\"sk-item\"><div class=\"sk-estimator sk-toggleable\"><input class=\"sk-toggleable__control sk-hidden--visually\" id=\"sk-estimator-id-6\" type=\"checkbox\" ><label for=\"sk-estimator-id-6\" class=\"sk-toggleable__label sk-toggleable__label-arrow\">RandomForestRegressor</label><div class=\"sk-toggleable__content\"><pre>RandomForestRegressor(max_depth=11, max_features=0.6, min_samples_split=10,\n",
       "                      n_estimators=400, n_jobs=-1, random_state=42)</pre></div></div></div></div></div></div></div></div></div></div>"
      ],
      "text/plain": [
       "MultiOutputRegressor(estimator=RandomForestRegressor(max_depth=11,\n",
       "                                                     max_features=0.6,\n",
       "                                                     min_samples_split=10,\n",
       "                                                     n_estimators=400,\n",
       "                                                     n_jobs=-1,\n",
       "                                                     random_state=42))"
      ]
     },
     "execution_count": 34,
     "metadata": {},
     "output_type": "execute_result"
    }
   ],
   "source": [
    "model_rf = MultiOutputRegressor(estimator=RandomForestRegressor(max_depth=11,\n",
    "                                                     max_features=0.6,\n",
    "                                                     min_samples_split=10,\n",
    "                                                     n_estimators=400,\n",
    "                                                     n_jobs=-1,\n",
    "                                                     random_state=42))\n",
    "model_rf.fit(bag_of_words[:,:-2] ,bag_of_words[:,-2:])"
   ]
  },
  {
   "cell_type": "code",
   "execution_count": 35,
   "id": "20325299",
   "metadata": {
    "execution": {
     "iopub.execute_input": "2023-08-26T09:11:00.855387Z",
     "iopub.status.busy": "2023-08-26T09:11:00.854862Z",
     "iopub.status.idle": "2023-08-26T09:11:01.307837Z",
     "shell.execute_reply": "2023-08-26T09:11:01.306562Z"
    },
    "papermill": {
     "duration": 0.468672,
     "end_time": "2023-08-26T09:11:01.310469",
     "exception": false,
     "start_time": "2023-08-26T09:11:00.841797",
     "status": "completed"
    },
    "tags": []
   },
   "outputs": [
    {
     "data": {
      "text/plain": [
       "0.896217387141427"
      ]
     },
     "execution_count": 35,
     "metadata": {},
     "output_type": "execute_result"
    }
   ],
   "source": [
    "model_rf.score(bag_of_words[:,:-2], bag_of_words[:,-2:])"
   ]
  },
  {
   "cell_type": "code",
   "execution_count": 36,
   "id": "2d2e15a1",
   "metadata": {
    "execution": {
     "iopub.execute_input": "2023-08-26T09:11:01.336560Z",
     "iopub.status.busy": "2023-08-26T09:11:01.336160Z",
     "iopub.status.idle": "2023-08-26T09:11:01.350193Z",
     "shell.execute_reply": "2023-08-26T09:11:01.348856Z"
    },
    "papermill": {
     "duration": 0.02969,
     "end_time": "2023-08-26T09:11:01.352726",
     "exception": false,
     "start_time": "2023-08-26T09:11:01.323036",
     "status": "completed"
    },
    "tags": []
   },
   "outputs": [],
   "source": [
    "from sklearn.feature_extraction.text import CountVectorizer, TfidfTransformer\n",
    "from sklearn.preprocessing import StandardScaler\n",
    "from sklearn.decomposition import PCA\n",
    "\n",
    "def preprocess_data(test_summary, test_prompts, vectorizer=vectorizer):\n",
    "    train_df = test_summary.merge(right=test_prompts, how='inner', on='prompt_id')\n",
    "\n",
    "    train_df = train_df.assign(\n",
    "    full_text='Title:\\n' + train_df['prompt_title'] +\n",
    "            '\\nQuestion:\\n' + train_df['prompt_question'] +\n",
    "            '\\nText:\\n' + train_df['prompt_text']\n",
    "    )\n",
    "\n",
    "    print('processing text data')\n",
    "\n",
    "    # Refactored text processing\n",
    "    def process_texts(column_name):\n",
    "        return zip(*train_df[column_name].apply(process_text).tolist())\n",
    "\n",
    "    train_df['intersection'], train_df['difference'], train_df['union'], train_df['overlap_score'], train_df['jaccard_similarity'] = zip(*train_df.apply(overlap, axis=1).tolist())\n",
    "\n",
    "    train_df['lemmas'],train_df['summary_stopwords'],train_df['summary_verbs'], train_df['summary_nouns'], train_df['length_of_summary'] = process_texts('text')\n",
    "    train_df['full_text'], train_df['full_text_stopwords'],train_df['full_text_verbs'], train_df['full_text_nouns'], train_df['length_of_full_text'] = process_texts('full_text')\n",
    "\n",
    "    print('processing features.....')\n",
    "    # Process other columns\n",
    "    train_df['summary_punctuation'] = train_df['text'].apply(count_punc)\n",
    "\n",
    "    cols = ['length_of_summary', 'summary_punctuation','summary_stopwords','summary_verbs','summary_nouns',\n",
    "      'intersection','difference','union', 'overlap_score', 'jaccard_similarity',\n",
    "      'full_text_stopwords','full_text_verbs','full_text_nouns','length_of_full_text']\n",
    "\n",
    "    print('applying vectorizer.....')\n",
    "    transformer = TfidfTransformer(sublinear_tf=True)\n",
    "    transformed_df = transformer.fit_transform(vectorizer.transform(train_df['full_text']))\n",
    "    summary_transformed_df = transformer.fit_transform(vectorizer.transform(train_df['lemmas']))\n",
    "\n",
    "    print('scaling features.....')\n",
    "    scaler = StandardScaler(with_mean=True, with_std=True,)\n",
    "    X_sample_scaled = scaler.fit_transform(transformed_df.toarray())\n",
    "    X_summary_scaled = scaler.fit_transform(summary_transformed_df.toarray())\n",
    "\n",
    "    print('decomposing features.......')\n",
    "    pca_bag = pca.transform(X_sample_scaled)\n",
    "    summary_bag = pca.transform(X_summary_scaled)\n",
    "    similarity = np.zeros((train_df.shape[0], 2))\n",
    "    for i, data in train_df.iterrows():\n",
    "        full_bags = transformer.transform(vectorizer.transform([data['full_text']]))\n",
    "        summary_bags = transformer.transform(vectorizer.transform([data['lemmas']]))\n",
    "        similarity[i, 0] = cosine_similarity(full_bags, summary_bags)[0][0]\n",
    "        similarity[i, 1] = euclidean_distances(full_bags, summary_bags)[0][0]\n",
    "\n",
    "    stacked_bag = np.hstack((pca_bag, summary_bag,similarity,train_df[cols].values))\n",
    "\n",
    "    print('collecting outputs.........')\n",
    "    student_ids = train_df['student_id'].values\n",
    "\n",
    "    return stacked_bag, student_ids"
   ]
  },
  {
   "cell_type": "code",
   "execution_count": 37,
   "id": "6ba1e10a",
   "metadata": {
    "execution": {
     "iopub.execute_input": "2023-08-26T09:11:01.378504Z",
     "iopub.status.busy": "2023-08-26T09:11:01.378158Z",
     "iopub.status.idle": "2023-08-26T09:11:01.418829Z",
     "shell.execute_reply": "2023-08-26T09:11:01.417760Z"
    },
    "papermill": {
     "duration": 0.056018,
     "end_time": "2023-08-26T09:11:01.421089",
     "exception": false,
     "start_time": "2023-08-26T09:11:01.365071",
     "status": "completed"
    },
    "tags": []
   },
   "outputs": [],
   "source": [
    "test_summary = pd.read_csv('/kaggle/input/commonlit-evaluate-student-summaries/summaries_test.csv')\n",
    "test_prompts = pd.read_csv('/kaggle/input/commonlit-evaluate-student-summaries/prompts_test.csv')"
   ]
  },
  {
   "cell_type": "code",
   "execution_count": 38,
   "id": "95aba332",
   "metadata": {
    "execution": {
     "iopub.execute_input": "2023-08-26T09:11:01.447126Z",
     "iopub.status.busy": "2023-08-26T09:11:01.446766Z",
     "iopub.status.idle": "2023-08-26T09:11:01.540310Z",
     "shell.execute_reply": "2023-08-26T09:11:01.538627Z"
    },
    "papermill": {
     "duration": 0.109212,
     "end_time": "2023-08-26T09:11:01.542771",
     "exception": false,
     "start_time": "2023-08-26T09:11:01.433559",
     "status": "completed"
    },
    "tags": []
   },
   "outputs": [
    {
     "name": "stdout",
     "output_type": "stream",
     "text": [
      "processing text data\n",
      "processing features.....\n",
      "applying vectorizer.....\n",
      "scaling features.....\n",
      "decomposing features.......\n",
      "collecting outputs.........\n"
     ]
    }
   ],
   "source": [
    "test_df,ids = preprocess_data(test_summary, test_prompts, vectorizer=vectorizer)"
   ]
  },
  {
   "cell_type": "code",
   "execution_count": 39,
   "id": "5a49b92a",
   "metadata": {
    "execution": {
     "iopub.execute_input": "2023-08-26T09:11:01.568972Z",
     "iopub.status.busy": "2023-08-26T09:11:01.568548Z",
     "iopub.status.idle": "2023-08-26T09:11:01.685079Z",
     "shell.execute_reply": "2023-08-26T09:11:01.683935Z"
    },
    "papermill": {
     "duration": 0.133057,
     "end_time": "2023-08-26T09:11:01.688124",
     "exception": false,
     "start_time": "2023-08-26T09:11:01.555067",
     "status": "completed"
    },
    "tags": []
   },
   "outputs": [],
   "source": [
    "y_preds = model_rf.predict(test_df)"
   ]
  },
  {
   "cell_type": "code",
   "execution_count": 40,
   "id": "082a4db3",
   "metadata": {
    "execution": {
     "iopub.execute_input": "2023-08-26T09:11:01.715506Z",
     "iopub.status.busy": "2023-08-26T09:11:01.715158Z",
     "iopub.status.idle": "2023-08-26T09:11:01.724050Z",
     "shell.execute_reply": "2023-08-26T09:11:01.722444Z"
    },
    "papermill": {
     "duration": 0.024962,
     "end_time": "2023-08-26T09:11:01.726634",
     "exception": false,
     "start_time": "2023-08-26T09:11:01.701672",
     "status": "completed"
    },
    "tags": []
   },
   "outputs": [],
   "source": [
    "df_test = pd.DataFrame(y_preds,columns=['content','wording'],index=ids).reset_index()\n",
    "df_test = df_test.rename({'index':'student_id'},axis=1)"
   ]
  },
  {
   "cell_type": "code",
   "execution_count": 41,
   "id": "8885c645",
   "metadata": {
    "execution": {
     "iopub.execute_input": "2023-08-26T09:11:01.754356Z",
     "iopub.status.busy": "2023-08-26T09:11:01.753637Z",
     "iopub.status.idle": "2023-08-26T09:11:01.762561Z",
     "shell.execute_reply": "2023-08-26T09:11:01.761108Z"
    },
    "papermill": {
     "duration": 0.025105,
     "end_time": "2023-08-26T09:11:01.765156",
     "exception": false,
     "start_time": "2023-08-26T09:11:01.740051",
     "status": "completed"
    },
    "tags": []
   },
   "outputs": [],
   "source": [
    "df_test.to_csv(\"submission.csv\", index=False)"
   ]
  },
  {
   "cell_type": "code",
   "execution_count": null,
   "id": "1969b482",
   "metadata": {
    "papermill": {
     "duration": 0.0123,
     "end_time": "2023-08-26T09:11:01.790250",
     "exception": false,
     "start_time": "2023-08-26T09:11:01.777950",
     "status": "completed"
    },
    "tags": []
   },
   "outputs": [],
   "source": []
  }
 ],
 "metadata": {
  "kernelspec": {
   "display_name": "Python 3",
   "language": "python",
   "name": "python3"
  },
  "language_info": {
   "codemirror_mode": {
    "name": "ipython",
    "version": 3
   },
   "file_extension": ".py",
   "mimetype": "text/x-python",
   "name": "python",
   "nbconvert_exporter": "python",
   "pygments_lexer": "ipython3",
   "version": "3.10.12"
  },
  "papermill": {
   "default_parameters": {},
   "duration": 1294.065533,
   "end_time": "2023-08-26T09:11:04.426149",
   "environment_variables": {},
   "exception": null,
   "input_path": "__notebook__.ipynb",
   "output_path": "__notebook__.ipynb",
   "parameters": {},
   "start_time": "2023-08-26T08:49:30.360616",
   "version": "2.4.0"
  }
 },
 "nbformat": 4,
 "nbformat_minor": 5
}
