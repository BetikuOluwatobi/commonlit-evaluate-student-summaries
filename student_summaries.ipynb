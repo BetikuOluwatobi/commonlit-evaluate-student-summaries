{
 "cells": [
  {
   "cell_type": "code",
   "execution_count": 1,
   "id": "c86c7495",
   "metadata": {
    "_cell_guid": "b1076dfc-b9ad-4769-8c92-a6c4dae69d19",
    "_uuid": "8f2839f25d086af736a60e9eeb907d3b93b6e0e5",
    "execution": {
     "iopub.execute_input": "2023-08-23T21:17:14.264307Z",
     "iopub.status.busy": "2023-08-23T21:17:14.263816Z",
     "iopub.status.idle": "2023-08-23T21:17:14.280048Z",
     "shell.execute_reply": "2023-08-23T21:17:14.279017Z"
    },
    "papermill": {
     "duration": 0.038835,
     "end_time": "2023-08-23T21:17:14.283033",
     "exception": false,
     "start_time": "2023-08-23T21:17:14.244198",
     "status": "completed"
    },
    "tags": []
   },
   "outputs": [
    {
     "name": "stdout",
     "output_type": "stream",
     "text": [
      "/kaggle/input/commonlit-evaluate-student-summaries/sample_submission.csv\n",
      "/kaggle/input/commonlit-evaluate-student-summaries/prompts_train.csv\n",
      "/kaggle/input/commonlit-evaluate-student-summaries/summaries_test.csv\n",
      "/kaggle/input/commonlit-evaluate-student-summaries/summaries_train.csv\n",
      "/kaggle/input/commonlit-evaluate-student-summaries/prompts_test.csv\n"
     ]
    }
   ],
   "source": [
    "# This Python 3 environment comes with many helpful analytics libraries installed\n",
    "# It is defined by the kaggle/python Docker image: https://github.com/kaggle/docker-python\n",
    "# For example, here's several helpful packages to load\n",
    "\n",
    "import numpy as np # linear algebra\n",
    "import pandas as pd # data processing, CSV file I/O (e.g. pd.read_csv)\n",
    "\n",
    "# Input data files are available in the read-only \"../input/\" directory\n",
    "# For example, running this (by clicking run or pressing Shift+Enter) will list all files under the input directory\n",
    "\n",
    "import os\n",
    "for dirname, _, filenames in os.walk('/kaggle/input'):\n",
    "    for filename in filenames:\n",
    "        print(os.path.join(dirname, filename))\n",
    "\n",
    "# You can write up to 20GB to the current directory (/kaggle/working/) that gets preserved as output when you create a version using \"Save & Run All\" \n",
    "# You can also write temporary files to /kaggle/temp/, but they won't be saved outside of the current session"
   ]
  },
  {
   "cell_type": "code",
   "execution_count": 2,
   "id": "1d29a2ff",
   "metadata": {
    "execution": {
     "iopub.execute_input": "2023-08-23T21:17:14.320330Z",
     "iopub.status.busy": "2023-08-23T21:17:14.319286Z",
     "iopub.status.idle": "2023-08-23T21:17:44.200237Z",
     "shell.execute_reply": "2023-08-23T21:17:44.198984Z"
    },
    "papermill": {
     "duration": 29.902597,
     "end_time": "2023-08-23T21:17:44.202981",
     "exception": false,
     "start_time": "2023-08-23T21:17:14.300384",
     "status": "completed"
    },
    "tags": []
   },
   "outputs": [
    {
     "name": "stdout",
     "output_type": "stream",
     "text": [
      "Requirement already satisfied: preprocessing in /opt/conda/lib/python3.10/site-packages (0.1.13)\r\n",
      "Requirement already satisfied: nltk==3.2.4 in /opt/conda/lib/python3.10/site-packages (from preprocessing) (3.2.4)\r\n",
      "Requirement already satisfied: sphinx-rtd-theme==0.2.4 in /opt/conda/lib/python3.10/site-packages (from preprocessing) (0.2.4)\r\n",
      "Requirement already satisfied: six in /opt/conda/lib/python3.10/site-packages (from nltk==3.2.4->preprocessing) (1.16.0)\r\n",
      "Requirement already satisfied: spacy in /opt/conda/lib/python3.10/site-packages (3.5.4)\r\n",
      "Collecting spacy\r\n",
      "  Downloading spacy-3.6.1-cp310-cp310-manylinux_2_17_x86_64.manylinux2014_x86_64.whl (6.6 MB)\r\n",
      "\u001b[2K     \u001b[90m━━━━━━━━━━━━━━━━━━━━━━━━━━━━━━━━━━━━━━━━\u001b[0m \u001b[32m6.6/6.6 MB\u001b[0m \u001b[31m46.6 MB/s\u001b[0m eta \u001b[36m0:00:00\u001b[0m\r\n",
      "\u001b[?25hRequirement already satisfied: spacy-legacy<3.1.0,>=3.0.11 in /opt/conda/lib/python3.10/site-packages (from spacy) (3.0.12)\r\n",
      "Requirement already satisfied: spacy-loggers<2.0.0,>=1.0.0 in /opt/conda/lib/python3.10/site-packages (from spacy) (1.0.4)\r\n",
      "Requirement already satisfied: murmurhash<1.1.0,>=0.28.0 in /opt/conda/lib/python3.10/site-packages (from spacy) (1.0.9)\r\n",
      "Requirement already satisfied: cymem<2.1.0,>=2.0.2 in /opt/conda/lib/python3.10/site-packages (from spacy) (2.0.7)\r\n",
      "Requirement already satisfied: preshed<3.1.0,>=3.0.2 in /opt/conda/lib/python3.10/site-packages (from spacy) (3.0.8)\r\n",
      "Requirement already satisfied: thinc<8.2.0,>=8.1.8 in /opt/conda/lib/python3.10/site-packages (from spacy) (8.1.10)\r\n",
      "Requirement already satisfied: wasabi<1.2.0,>=0.9.1 in /opt/conda/lib/python3.10/site-packages (from spacy) (1.1.2)\r\n",
      "Requirement already satisfied: srsly<3.0.0,>=2.4.3 in /opt/conda/lib/python3.10/site-packages (from spacy) (2.4.6)\r\n",
      "Requirement already satisfied: catalogue<2.1.0,>=2.0.6 in /opt/conda/lib/python3.10/site-packages (from spacy) (2.0.8)\r\n",
      "Requirement already satisfied: typer<0.10.0,>=0.3.0 in /opt/conda/lib/python3.10/site-packages (from spacy) (0.9.0)\r\n",
      "Requirement already satisfied: pathy>=0.10.0 in /opt/conda/lib/python3.10/site-packages (from spacy) (0.10.1)\r\n",
      "Requirement already satisfied: smart-open<7.0.0,>=5.2.1 in /opt/conda/lib/python3.10/site-packages (from spacy) (6.3.0)\r\n",
      "Requirement already satisfied: tqdm<5.0.0,>=4.38.0 in /opt/conda/lib/python3.10/site-packages (from spacy) (4.65.0)\r\n",
      "Requirement already satisfied: numpy>=1.15.0 in /opt/conda/lib/python3.10/site-packages (from spacy) (1.23.5)\r\n",
      "Requirement already satisfied: requests<3.0.0,>=2.13.0 in /opt/conda/lib/python3.10/site-packages (from spacy) (2.31.0)\r\n",
      "Requirement already satisfied: pydantic!=1.8,!=1.8.1,<3.0.0,>=1.7.4 in /opt/conda/lib/python3.10/site-packages (from spacy) (1.10.10)\r\n",
      "Requirement already satisfied: jinja2 in /opt/conda/lib/python3.10/site-packages (from spacy) (3.1.2)\r\n",
      "Requirement already satisfied: setuptools in /opt/conda/lib/python3.10/site-packages (from spacy) (59.8.0)\r\n",
      "Requirement already satisfied: packaging>=20.0 in /opt/conda/lib/python3.10/site-packages (from spacy) (21.3)\r\n",
      "Requirement already satisfied: langcodes<4.0.0,>=3.2.0 in /opt/conda/lib/python3.10/site-packages (from spacy) (3.3.0)\r\n",
      "Requirement already satisfied: pyparsing!=3.0.5,>=2.0.2 in /opt/conda/lib/python3.10/site-packages (from packaging>=20.0->spacy) (3.0.9)\r\n",
      "Requirement already satisfied: typing-extensions>=4.2.0 in /opt/conda/lib/python3.10/site-packages (from pydantic!=1.8,!=1.8.1,<3.0.0,>=1.7.4->spacy) (4.6.3)\r\n",
      "Requirement already satisfied: charset-normalizer<4,>=2 in /opt/conda/lib/python3.10/site-packages (from requests<3.0.0,>=2.13.0->spacy) (3.1.0)\r\n",
      "Requirement already satisfied: idna<4,>=2.5 in /opt/conda/lib/python3.10/site-packages (from requests<3.0.0,>=2.13.0->spacy) (3.4)\r\n",
      "Requirement already satisfied: urllib3<3,>=1.21.1 in /opt/conda/lib/python3.10/site-packages (from requests<3.0.0,>=2.13.0->spacy) (1.26.15)\r\n",
      "Requirement already satisfied: certifi>=2017.4.17 in /opt/conda/lib/python3.10/site-packages (from requests<3.0.0,>=2.13.0->spacy) (2023.5.7)\r\n",
      "Requirement already satisfied: blis<0.8.0,>=0.7.8 in /opt/conda/lib/python3.10/site-packages (from thinc<8.2.0,>=8.1.8->spacy) (0.7.9)\r\n",
      "Requirement already satisfied: confection<1.0.0,>=0.0.1 in /opt/conda/lib/python3.10/site-packages (from thinc<8.2.0,>=8.1.8->spacy) (0.1.0)\r\n",
      "Requirement already satisfied: click<9.0.0,>=7.1.1 in /opt/conda/lib/python3.10/site-packages (from typer<0.10.0,>=0.3.0->spacy) (8.1.3)\r\n",
      "Requirement already satisfied: MarkupSafe>=2.0 in /opt/conda/lib/python3.10/site-packages (from jinja2->spacy) (2.1.3)\r\n",
      "Installing collected packages: spacy\r\n",
      "  Attempting uninstall: spacy\r\n",
      "    Found existing installation: spacy 3.5.4\r\n",
      "    Uninstalling spacy-3.5.4:\r\n",
      "      Successfully uninstalled spacy-3.5.4\r\n",
      "\u001b[31mERROR: pip's dependency resolver does not currently take into account all the packages that are installed. This behaviour is the source of the following dependency conflicts.\r\n",
      "en-core-web-lg 3.5.0 requires spacy<3.6.0,>=3.5.0, but you have spacy 3.6.1 which is incompatible.\r\n",
      "en-core-web-sm 3.5.0 requires spacy<3.6.0,>=3.5.0, but you have spacy 3.6.1 which is incompatible.\u001b[0m\u001b[31m\r\n",
      "\u001b[0mSuccessfully installed spacy-3.6.1\r\n"
     ]
    }
   ],
   "source": [
    "!pip install preprocessing --upgrade\n",
    "!pip install spacy --upgrade"
   ]
  },
  {
   "cell_type": "code",
   "execution_count": 3,
   "id": "92a0a08f",
   "metadata": {
    "execution": {
     "iopub.execute_input": "2023-08-23T21:17:44.242601Z",
     "iopub.status.busy": "2023-08-23T21:17:44.242227Z",
     "iopub.status.idle": "2023-08-23T21:18:16.216600Z",
     "shell.execute_reply": "2023-08-23T21:18:16.215253Z"
    },
    "papermill": {
     "duration": 31.997531,
     "end_time": "2023-08-23T21:18:16.219405",
     "exception": false,
     "start_time": "2023-08-23T21:17:44.221874",
     "status": "completed"
    },
    "tags": []
   },
   "outputs": [
    {
     "name": "stdout",
     "output_type": "stream",
     "text": [
      "/opt/conda/lib/python3.10/site-packages/scipy/__init__.py:146: UserWarning: A NumPy version >=1.16.5 and <1.23.0 is required for this version of SciPy (detected version 1.23.5\r\n",
      "  warnings.warn(f\"A NumPy version >={np_minversion} and <{np_maxversion}\"\r\n",
      "/opt/conda/lib/python3.10/site-packages/tensorflow_io/python/ops/__init__.py:98: UserWarning: unable to load libtensorflow_io_plugins.so: unable to open file: libtensorflow_io_plugins.so, from paths: ['/opt/conda/lib/python3.10/site-packages/tensorflow_io/python/ops/libtensorflow_io_plugins.so']\r\n",
      "caused by: ['/opt/conda/lib/python3.10/site-packages/tensorflow_io/python/ops/libtensorflow_io_plugins.so: undefined symbol: _ZN3tsl6StatusC1EN10tensorflow5error4CodeESt17basic_string_viewIcSt11char_traitsIcEENS_14SourceLocationE']\r\n",
      "  warnings.warn(f\"unable to load libtensorflow_io_plugins.so: {e}\")\r\n",
      "/opt/conda/lib/python3.10/site-packages/tensorflow_io/python/ops/__init__.py:104: UserWarning: file system plugins are not loaded: unable to open file: libtensorflow_io.so, from paths: ['/opt/conda/lib/python3.10/site-packages/tensorflow_io/python/ops/libtensorflow_io.so']\r\n",
      "caused by: ['/opt/conda/lib/python3.10/site-packages/tensorflow_io/python/ops/libtensorflow_io.so: undefined symbol: _ZTVN10tensorflow13GcsFileSystemE']\r\n",
      "  warnings.warn(f\"file system plugins are not loaded: {e}\")\r\n",
      "Collecting en-core-web-md==3.6.0\r\n",
      "  Downloading https://github.com/explosion/spacy-models/releases/download/en_core_web_md-3.6.0/en_core_web_md-3.6.0-py3-none-any.whl (42.8 MB)\r\n",
      "\u001b[2K     \u001b[90m━━━━━━━━━━━━━━━━━━━━━━━━━━━━━━━━━━━━━━━━\u001b[0m \u001b[32m42.8/42.8 MB\u001b[0m \u001b[31m19.7 MB/s\u001b[0m eta \u001b[36m0:00:00\u001b[0m\r\n",
      "\u001b[?25hRequirement already satisfied: spacy<3.7.0,>=3.6.0 in /opt/conda/lib/python3.10/site-packages (from en-core-web-md==3.6.0) (3.6.1)\r\n",
      "Requirement already satisfied: spacy-legacy<3.1.0,>=3.0.11 in /opt/conda/lib/python3.10/site-packages (from spacy<3.7.0,>=3.6.0->en-core-web-md==3.6.0) (3.0.12)\r\n",
      "Requirement already satisfied: spacy-loggers<2.0.0,>=1.0.0 in /opt/conda/lib/python3.10/site-packages (from spacy<3.7.0,>=3.6.0->en-core-web-md==3.6.0) (1.0.4)\r\n",
      "Requirement already satisfied: murmurhash<1.1.0,>=0.28.0 in /opt/conda/lib/python3.10/site-packages (from spacy<3.7.0,>=3.6.0->en-core-web-md==3.6.0) (1.0.9)\r\n",
      "Requirement already satisfied: cymem<2.1.0,>=2.0.2 in /opt/conda/lib/python3.10/site-packages (from spacy<3.7.0,>=3.6.0->en-core-web-md==3.6.0) (2.0.7)\r\n",
      "Requirement already satisfied: preshed<3.1.0,>=3.0.2 in /opt/conda/lib/python3.10/site-packages (from spacy<3.7.0,>=3.6.0->en-core-web-md==3.6.0) (3.0.8)\r\n",
      "Requirement already satisfied: thinc<8.2.0,>=8.1.8 in /opt/conda/lib/python3.10/site-packages (from spacy<3.7.0,>=3.6.0->en-core-web-md==3.6.0) (8.1.10)\r\n",
      "Requirement already satisfied: wasabi<1.2.0,>=0.9.1 in /opt/conda/lib/python3.10/site-packages (from spacy<3.7.0,>=3.6.0->en-core-web-md==3.6.0) (1.1.2)\r\n",
      "Requirement already satisfied: srsly<3.0.0,>=2.4.3 in /opt/conda/lib/python3.10/site-packages (from spacy<3.7.0,>=3.6.0->en-core-web-md==3.6.0) (2.4.6)\r\n",
      "Requirement already satisfied: catalogue<2.1.0,>=2.0.6 in /opt/conda/lib/python3.10/site-packages (from spacy<3.7.0,>=3.6.0->en-core-web-md==3.6.0) (2.0.8)\r\n",
      "Requirement already satisfied: typer<0.10.0,>=0.3.0 in /opt/conda/lib/python3.10/site-packages (from spacy<3.7.0,>=3.6.0->en-core-web-md==3.6.0) (0.9.0)\r\n",
      "Requirement already satisfied: pathy>=0.10.0 in /opt/conda/lib/python3.10/site-packages (from spacy<3.7.0,>=3.6.0->en-core-web-md==3.6.0) (0.10.1)\r\n",
      "Requirement already satisfied: smart-open<7.0.0,>=5.2.1 in /opt/conda/lib/python3.10/site-packages (from spacy<3.7.0,>=3.6.0->en-core-web-md==3.6.0) (6.3.0)\r\n",
      "Requirement already satisfied: tqdm<5.0.0,>=4.38.0 in /opt/conda/lib/python3.10/site-packages (from spacy<3.7.0,>=3.6.0->en-core-web-md==3.6.0) (4.65.0)\r\n",
      "Requirement already satisfied: numpy>=1.15.0 in /opt/conda/lib/python3.10/site-packages (from spacy<3.7.0,>=3.6.0->en-core-web-md==3.6.0) (1.23.5)\r\n",
      "Requirement already satisfied: requests<3.0.0,>=2.13.0 in /opt/conda/lib/python3.10/site-packages (from spacy<3.7.0,>=3.6.0->en-core-web-md==3.6.0) (2.31.0)\r\n",
      "Requirement already satisfied: pydantic!=1.8,!=1.8.1,<3.0.0,>=1.7.4 in /opt/conda/lib/python3.10/site-packages (from spacy<3.7.0,>=3.6.0->en-core-web-md==3.6.0) (1.10.10)\r\n",
      "Requirement already satisfied: jinja2 in /opt/conda/lib/python3.10/site-packages (from spacy<3.7.0,>=3.6.0->en-core-web-md==3.6.0) (3.1.2)\r\n",
      "Requirement already satisfied: setuptools in /opt/conda/lib/python3.10/site-packages (from spacy<3.7.0,>=3.6.0->en-core-web-md==3.6.0) (59.8.0)\r\n",
      "Requirement already satisfied: packaging>=20.0 in /opt/conda/lib/python3.10/site-packages (from spacy<3.7.0,>=3.6.0->en-core-web-md==3.6.0) (21.3)\r\n",
      "Requirement already satisfied: langcodes<4.0.0,>=3.2.0 in /opt/conda/lib/python3.10/site-packages (from spacy<3.7.0,>=3.6.0->en-core-web-md==3.6.0) (3.3.0)\r\n",
      "Requirement already satisfied: pyparsing!=3.0.5,>=2.0.2 in /opt/conda/lib/python3.10/site-packages (from packaging>=20.0->spacy<3.7.0,>=3.6.0->en-core-web-md==3.6.0) (3.0.9)\r\n",
      "Requirement already satisfied: typing-extensions>=4.2.0 in /opt/conda/lib/python3.10/site-packages (from pydantic!=1.8,!=1.8.1,<3.0.0,>=1.7.4->spacy<3.7.0,>=3.6.0->en-core-web-md==3.6.0) (4.6.3)\r\n",
      "Requirement already satisfied: charset-normalizer<4,>=2 in /opt/conda/lib/python3.10/site-packages (from requests<3.0.0,>=2.13.0->spacy<3.7.0,>=3.6.0->en-core-web-md==3.6.0) (3.1.0)\r\n",
      "Requirement already satisfied: idna<4,>=2.5 in /opt/conda/lib/python3.10/site-packages (from requests<3.0.0,>=2.13.0->spacy<3.7.0,>=3.6.0->en-core-web-md==3.6.0) (3.4)\r\n",
      "Requirement already satisfied: urllib3<3,>=1.21.1 in /opt/conda/lib/python3.10/site-packages (from requests<3.0.0,>=2.13.0->spacy<3.7.0,>=3.6.0->en-core-web-md==3.6.0) (1.26.15)\r\n",
      "Requirement already satisfied: certifi>=2017.4.17 in /opt/conda/lib/python3.10/site-packages (from requests<3.0.0,>=2.13.0->spacy<3.7.0,>=3.6.0->en-core-web-md==3.6.0) (2023.5.7)\r\n",
      "Requirement already satisfied: blis<0.8.0,>=0.7.8 in /opt/conda/lib/python3.10/site-packages (from thinc<8.2.0,>=8.1.8->spacy<3.7.0,>=3.6.0->en-core-web-md==3.6.0) (0.7.9)\r\n",
      "Requirement already satisfied: confection<1.0.0,>=0.0.1 in /opt/conda/lib/python3.10/site-packages (from thinc<8.2.0,>=8.1.8->spacy<3.7.0,>=3.6.0->en-core-web-md==3.6.0) (0.1.0)\r\n",
      "Requirement already satisfied: click<9.0.0,>=7.1.1 in /opt/conda/lib/python3.10/site-packages (from typer<0.10.0,>=0.3.0->spacy<3.7.0,>=3.6.0->en-core-web-md==3.6.0) (8.1.3)\r\n",
      "Requirement already satisfied: MarkupSafe>=2.0 in /opt/conda/lib/python3.10/site-packages (from jinja2->spacy<3.7.0,>=3.6.0->en-core-web-md==3.6.0) (2.1.3)\r\n",
      "Installing collected packages: en-core-web-md\r\n",
      "Successfully installed en-core-web-md-3.6.0\r\n",
      "\u001b[38;5;2m✔ Download and installation successful\u001b[0m\r\n",
      "You can now load the package via spacy.load('en_core_web_md')\r\n"
     ]
    }
   ],
   "source": [
    "!python -m spacy download en_core_web_md"
   ]
  },
  {
   "cell_type": "code",
   "execution_count": 4,
   "id": "3773747b",
   "metadata": {
    "execution": {
     "iopub.execute_input": "2023-08-23T21:18:16.267843Z",
     "iopub.status.busy": "2023-08-23T21:18:16.267415Z",
     "iopub.status.idle": "2023-08-23T21:18:16.272794Z",
     "shell.execute_reply": "2023-08-23T21:18:16.271752Z"
    },
    "papermill": {
     "duration": 0.031144,
     "end_time": "2023-08-23T21:18:16.274788",
     "exception": false,
     "start_time": "2023-08-23T21:18:16.243644",
     "status": "completed"
    },
    "tags": []
   },
   "outputs": [],
   "source": [
    "import warnings\n",
    "warnings.simplefilter(\"ignore\", ResourceWarning)"
   ]
  },
  {
   "cell_type": "markdown",
   "id": "52faae3e",
   "metadata": {
    "papermill": {
     "duration": 0.021867,
     "end_time": "2023-08-23T21:18:16.318607",
     "exception": false,
     "start_time": "2023-08-23T21:18:16.296740",
     "status": "completed"
    },
    "tags": []
   },
   "source": [
    "## Let's load the training data"
   ]
  },
  {
   "cell_type": "code",
   "execution_count": 5,
   "id": "13afdc5a",
   "metadata": {
    "execution": {
     "iopub.execute_input": "2023-08-23T21:18:16.363838Z",
     "iopub.status.busy": "2023-08-23T21:18:16.363428Z",
     "iopub.status.idle": "2023-08-23T21:18:16.543564Z",
     "shell.execute_reply": "2023-08-23T21:18:16.542533Z"
    },
    "papermill": {
     "duration": 0.205744,
     "end_time": "2023-08-23T21:18:16.546238",
     "exception": false,
     "start_time": "2023-08-23T21:18:16.340494",
     "status": "completed"
    },
    "tags": []
   },
   "outputs": [],
   "source": [
    "summary_df = pd.read_csv('/kaggle/input/commonlit-evaluate-student-summaries/summaries_train.csv')\n",
    "prompt_df = pd.read_csv('/kaggle/input/commonlit-evaluate-student-summaries/prompts_train.csv')"
   ]
  },
  {
   "cell_type": "markdown",
   "id": "80a80faf",
   "metadata": {
    "papermill": {
     "duration": 0.021819,
     "end_time": "2023-08-23T21:18:16.590338",
     "exception": false,
     "start_time": "2023-08-23T21:18:16.568519",
     "status": "completed"
    },
    "tags": []
   },
   "source": [
    "## Check dataframe description"
   ]
  },
  {
   "cell_type": "code",
   "execution_count": 6,
   "id": "1b9a78de",
   "metadata": {
    "execution": {
     "iopub.execute_input": "2023-08-23T21:18:16.636805Z",
     "iopub.status.busy": "2023-08-23T21:18:16.635818Z",
     "iopub.status.idle": "2023-08-23T21:18:16.670352Z",
     "shell.execute_reply": "2023-08-23T21:18:16.668889Z"
    },
    "papermill": {
     "duration": 0.060278,
     "end_time": "2023-08-23T21:18:16.672834",
     "exception": false,
     "start_time": "2023-08-23T21:18:16.612556",
     "status": "completed"
    },
    "tags": []
   },
   "outputs": [
    {
     "name": "stdout",
     "output_type": "stream",
     "text": [
      "<class 'pandas.core.frame.DataFrame'>\n",
      "RangeIndex: 7165 entries, 0 to 7164\n",
      "Data columns (total 5 columns):\n",
      " #   Column      Non-Null Count  Dtype  \n",
      "---  ------      --------------  -----  \n",
      " 0   student_id  7165 non-null   object \n",
      " 1   prompt_id   7165 non-null   object \n",
      " 2   text        7165 non-null   object \n",
      " 3   content     7165 non-null   float64\n",
      " 4   wording     7165 non-null   float64\n",
      "dtypes: float64(2), object(3)\n",
      "memory usage: 280.0+ KB\n"
     ]
    }
   ],
   "source": [
    "summary_df.info()"
   ]
  },
  {
   "cell_type": "code",
   "execution_count": 7,
   "id": "d6a39f94",
   "metadata": {
    "execution": {
     "iopub.execute_input": "2023-08-23T21:18:16.718555Z",
     "iopub.status.busy": "2023-08-23T21:18:16.717652Z",
     "iopub.status.idle": "2023-08-23T21:18:16.729485Z",
     "shell.execute_reply": "2023-08-23T21:18:16.728400Z"
    },
    "papermill": {
     "duration": 0.038393,
     "end_time": "2023-08-23T21:18:16.732772",
     "exception": false,
     "start_time": "2023-08-23T21:18:16.694379",
     "status": "completed"
    },
    "tags": []
   },
   "outputs": [
    {
     "name": "stdout",
     "output_type": "stream",
     "text": [
      "<class 'pandas.core.frame.DataFrame'>\n",
      "RangeIndex: 4 entries, 0 to 3\n",
      "Data columns (total 4 columns):\n",
      " #   Column           Non-Null Count  Dtype \n",
      "---  ------           --------------  ----- \n",
      " 0   prompt_id        4 non-null      object\n",
      " 1   prompt_question  4 non-null      object\n",
      " 2   prompt_title     4 non-null      object\n",
      " 3   prompt_text      4 non-null      object\n",
      "dtypes: object(4)\n",
      "memory usage: 256.0+ bytes\n"
     ]
    }
   ],
   "source": [
    "prompt_df.info()"
   ]
  },
  {
   "cell_type": "markdown",
   "id": "fdec12a6",
   "metadata": {
    "papermill": {
     "duration": 0.021691,
     "end_time": "2023-08-23T21:18:16.776171",
     "exception": false,
     "start_time": "2023-08-23T21:18:16.754480",
     "status": "completed"
    },
    "tags": []
   },
   "source": [
    "## Primary key to combine dataframe on"
   ]
  },
  {
   "cell_type": "code",
   "execution_count": 8,
   "id": "18fdfbb6",
   "metadata": {
    "execution": {
     "iopub.execute_input": "2023-08-23T21:18:16.822279Z",
     "iopub.status.busy": "2023-08-23T21:18:16.821210Z",
     "iopub.status.idle": "2023-08-23T21:18:16.829964Z",
     "shell.execute_reply": "2023-08-23T21:18:16.829033Z"
    },
    "papermill": {
     "duration": 0.034545,
     "end_time": "2023-08-23T21:18:16.832302",
     "exception": false,
     "start_time": "2023-08-23T21:18:16.797757",
     "status": "completed"
    },
    "tags": []
   },
   "outputs": [
    {
     "data": {
      "text/plain": [
       "array(['39c16e', '3b9047', '814d6b', 'ebad26'], dtype=object)"
      ]
     },
     "execution_count": 8,
     "metadata": {},
     "output_type": "execute_result"
    }
   ],
   "source": [
    "prompt_df['prompt_id'].unique()"
   ]
  },
  {
   "cell_type": "code",
   "execution_count": 9,
   "id": "ece6ede5",
   "metadata": {
    "execution": {
     "iopub.execute_input": "2023-08-23T21:18:16.879031Z",
     "iopub.status.busy": "2023-08-23T21:18:16.877899Z",
     "iopub.status.idle": "2023-08-23T21:18:16.885813Z",
     "shell.execute_reply": "2023-08-23T21:18:16.884833Z"
    },
    "papermill": {
     "duration": 0.033585,
     "end_time": "2023-08-23T21:18:16.888054",
     "exception": false,
     "start_time": "2023-08-23T21:18:16.854469",
     "status": "completed"
    },
    "tags": []
   },
   "outputs": [
    {
     "data": {
      "text/plain": [
       "array(['814d6b', 'ebad26', '3b9047', '39c16e'], dtype=object)"
      ]
     },
     "execution_count": 9,
     "metadata": {},
     "output_type": "execute_result"
    }
   ],
   "source": [
    "summary_df['prompt_id'].unique()"
   ]
  },
  {
   "cell_type": "markdown",
   "id": "9fe9794c",
   "metadata": {
    "papermill": {
     "duration": 0.023239,
     "end_time": "2023-08-23T21:18:16.933095",
     "exception": false,
     "start_time": "2023-08-23T21:18:16.909856",
     "status": "completed"
    },
    "tags": []
   },
   "source": [
    "## Merge dataframe based on primary key into one"
   ]
  },
  {
   "cell_type": "code",
   "execution_count": 10,
   "id": "09cf2178",
   "metadata": {
    "execution": {
     "iopub.execute_input": "2023-08-23T21:18:16.984697Z",
     "iopub.status.busy": "2023-08-23T21:18:16.983541Z",
     "iopub.status.idle": "2023-08-23T21:18:16.999935Z",
     "shell.execute_reply": "2023-08-23T21:18:16.998871Z"
    },
    "papermill": {
     "duration": 0.045585,
     "end_time": "2023-08-23T21:18:17.002620",
     "exception": false,
     "start_time": "2023-08-23T21:18:16.957035",
     "status": "completed"
    },
    "tags": []
   },
   "outputs": [],
   "source": [
    "train_df = summary_df.merge(right=prompt_df,how='inner', on='prompt_id')"
   ]
  },
  {
   "cell_type": "code",
   "execution_count": 11,
   "id": "ebebda10",
   "metadata": {
    "execution": {
     "iopub.execute_input": "2023-08-23T21:18:17.051183Z",
     "iopub.status.busy": "2023-08-23T21:18:17.050127Z",
     "iopub.status.idle": "2023-08-23T21:18:17.076788Z",
     "shell.execute_reply": "2023-08-23T21:18:17.075746Z"
    },
    "papermill": {
     "duration": 0.052191,
     "end_time": "2023-08-23T21:18:17.078973",
     "exception": false,
     "start_time": "2023-08-23T21:18:17.026782",
     "status": "completed"
    },
    "tags": []
   },
   "outputs": [
    {
     "name": "stdout",
     "output_type": "stream",
     "text": [
      "<class 'pandas.core.frame.DataFrame'>\n",
      "Int64Index: 7165 entries, 0 to 7164\n",
      "Data columns (total 8 columns):\n",
      " #   Column           Non-Null Count  Dtype  \n",
      "---  ------           --------------  -----  \n",
      " 0   student_id       7165 non-null   object \n",
      " 1   prompt_id        7165 non-null   object \n",
      " 2   text             7165 non-null   object \n",
      " 3   content          7165 non-null   float64\n",
      " 4   wording          7165 non-null   float64\n",
      " 5   prompt_question  7165 non-null   object \n",
      " 6   prompt_title     7165 non-null   object \n",
      " 7   prompt_text      7165 non-null   object \n",
      "dtypes: float64(2), object(6)\n",
      "memory usage: 503.8+ KB\n"
     ]
    }
   ],
   "source": [
    "train_df.info()"
   ]
  },
  {
   "cell_type": "markdown",
   "id": "6f848e7f",
   "metadata": {
    "papermill": {
     "duration": 0.02181,
     "end_time": "2023-08-23T21:18:17.123162",
     "exception": false,
     "start_time": "2023-08-23T21:18:17.101352",
     "status": "completed"
    },
    "tags": []
   },
   "source": [
    "### Let's perform a little exploratory analysis on the data to see what samples looks like"
   ]
  },
  {
   "cell_type": "code",
   "execution_count": 12,
   "id": "ebd7d5e3",
   "metadata": {
    "execution": {
     "iopub.execute_input": "2023-08-23T21:18:17.170322Z",
     "iopub.status.busy": "2023-08-23T21:18:17.169284Z",
     "iopub.status.idle": "2023-08-23T21:18:17.177174Z",
     "shell.execute_reply": "2023-08-23T21:18:17.175900Z"
    },
    "papermill": {
     "duration": 0.033643,
     "end_time": "2023-08-23T21:18:17.179426",
     "exception": false,
     "start_time": "2023-08-23T21:18:17.145783",
     "status": "completed"
    },
    "tags": []
   },
   "outputs": [
    {
     "name": "stdout",
     "output_type": "stream",
     "text": [
      "Question: Summarize how the Third Wave developed over such a short period of time and why the experiment was ended. \n",
      " \n",
      "Title: The Third Wave \n",
      "\n",
      "Text: Background \r\n",
      "The Third Wave experiment took place at Cubberley High School in Palo Alto, California during the first week of April 1967. History teacher Ron Jones, finding himself unable to explain to his students how people throughout history followed the crowd even when terrible things were happening, decided to demonstrate it to his students through an experiment. Jones announced that he was starting a movement aimed to eliminate democracy. Jones named the movement “The Third Wave” as a symbol of strength, referring to the mythical belief that the third in a series of waves is the strongest. One of the central points of this movement was that democracy’s main weakness is that it favors the individual over the whole community. Jones emphasized this main point of the movement when he created this catchy motto: “Strength through discipline, strength through community, strength through action, strength through pride.” \r\n",
      "The Experiment \r\n",
      "Jones started the first day of the experiment emphasizing simple things like proper seating, and drilled the students extensively until they got it right. He then proceeded to enforce strict classroom discipline by emerging as an authoritarian figure. This resulted in dramatic improvements to the efficiency, or orderliness, of the class.  The first day’s session ended with only a few rules. Jones intended it to be a one-day experiment. Students had to be sitting at attention before the second bell, had to stand up to ask or answer questions and had to do it in three words or fewer, and were required to preface each remark with “Mr. Jones.” As the week went on, Jones’ class transformed into a group with a supreme sense of discipline and community. Jones made up a salute resembling that of the Nazi regime and ordered class members to salute each other even outside the class. They all obeyed this command. \r\n",
      "After only three days, the experiment took on a life of its own, with students from all over the school joining in. The class expanded from initial 30 students to 43 attendees. All of the students showed drastic improvement in their academic skills and tremendous motivation. All of the students were issued a member card and each of them received a special assignment, like designing a Third Wave Banner, stopping non-members from entering the class, or other tasks to bring honor to the movement. Jones instructed the students on how to initiate new members, and by the end of the day the movement had over 200 participants. Jones was surprised that some of the students started reporting to him when other members of the movement failed to abide by the rules. \r\n",
      "By the fourth day of the experiment, the students became increasingly involved in the project and their discipline and loyalty to the project was so outstanding that Jones felt it was slipping out of control. He decided to terminate the movement, so he lied to students by announcing that the Third Wave was a part of a nationwide movement and that on the next day a presidential candidate of the movement would publicly announce its existence on television. Jones ordered students to attend a noon rally on Friday to witness the announcement. \r\n",
      "At the end of the week, instead of a televised address of their leader, the students were presented with a blank channel. After a few minutes of waiting, Jones announced that they had been a part of an experiment to demonstrate how people willingly create a sense of superiority over others, and how this can lead people to justify doing horrible things in the name of the state’s honor.\n"
     ]
    }
   ],
   "source": [
    "print('''Question: %s \\n \n",
    "Title: %s \\n\n",
    "Text: %s'''%(train_df.iloc[1]['prompt_question'],train_df.iloc[1]['prompt_title'],train_df.iloc[1]['prompt_text']))"
   ]
  },
  {
   "cell_type": "markdown",
   "id": "33bb1fc0",
   "metadata": {
    "papermill": {
     "duration": 0.022195,
     "end_time": "2023-08-23T21:18:17.225272",
     "exception": false,
     "start_time": "2023-08-23T21:18:17.203077",
     "status": "completed"
    },
    "tags": []
   },
   "source": [
    "### Let's check what the student summary looks like"
   ]
  },
  {
   "cell_type": "code",
   "execution_count": 13,
   "id": "a629bd1e",
   "metadata": {
    "execution": {
     "iopub.execute_input": "2023-08-23T21:18:17.273803Z",
     "iopub.status.busy": "2023-08-23T21:18:17.273365Z",
     "iopub.status.idle": "2023-08-23T21:18:17.280902Z",
     "shell.execute_reply": "2023-08-23T21:18:17.279930Z"
    },
    "papermill": {
     "duration": 0.03503,
     "end_time": "2023-08-23T21:18:17.283909",
     "exception": false,
     "start_time": "2023-08-23T21:18:17.248879",
     "status": "completed"
    },
    "tags": []
   },
   "outputs": [
    {
     "name": "stdout",
     "output_type": "stream",
     "text": [
      "('Question: Summarize how the Third Wave developed over such a short period of '\n",
      " 'time and why the experiment was ended.\\n'\n",
      " 'Summary: The third wave was an experimentto see how people reacted to a new '\n",
      " 'one leader government. It gained popularity as people wanted to try new '\n",
      " 'things. The students follow anything that is said and start turning on '\n",
      " 'eachother to gain higher power. They had to stop the experement as too many '\n",
      " 'people got to radical with it blindly following there leader\\n'\n",
      " 'Content Score: 0.205682506482641\\n'\n",
      " 'Wording Score: 0.380537638762288')\n"
     ]
    }
   ],
   "source": [
    "from pprint import pformat\n",
    "print(pformat('''Question: %s\n",
    "Summary: %s\n",
    "Content Score: %s\n",
    "Wording Score: %s'''%(train_df.iloc[0]['prompt_question'],train_df.iloc[0]['text'], train_df.iloc[0]['content'],\n",
    "                           train_df.iloc[0]['wording'])))"
   ]
  },
  {
   "cell_type": "markdown",
   "id": "3b9ddbe9",
   "metadata": {
    "papermill": {
     "duration": 0.022944,
     "end_time": "2023-08-23T21:18:17.329946",
     "exception": false,
     "start_time": "2023-08-23T21:18:17.307002",
     "status": "completed"
    },
    "tags": []
   },
   "source": [
    "## Let's build a helper function that displays N text in a pretty format"
   ]
  },
  {
   "cell_type": "code",
   "execution_count": 14,
   "id": "90d8621a",
   "metadata": {
    "execution": {
     "iopub.execute_input": "2023-08-23T21:18:17.376960Z",
     "iopub.status.busy": "2023-08-23T21:18:17.376562Z",
     "iopub.status.idle": "2023-08-23T21:18:17.383542Z",
     "shell.execute_reply": "2023-08-23T21:18:17.382499Z"
    },
    "papermill": {
     "duration": 0.032976,
     "end_time": "2023-08-23T21:18:17.385863",
     "exception": false,
     "start_time": "2023-08-23T21:18:17.352887",
     "status": "completed"
    },
    "tags": []
   },
   "outputs": [],
   "source": [
    "def display_text(s=1,n=10,df=train_df):\n",
    "    \"\"\"\n",
    "    This function takes n as input and displays n section of text\n",
    "    \"\"\"\n",
    "    for i in range(s,n):\n",
    "        p_sum = pformat('''Question: %s \\nSummary: %s \\nContent Score: %s \\nWording Score: %s'''%(df.iloc[i]['prompt_question'],df.iloc[i]['text'], df.iloc[i]['content'],\n",
    "                           df.iloc[i]['wording']))\n",
    "        print(p_sum,end='\\n\\n')"
   ]
  },
  {
   "cell_type": "code",
   "execution_count": 15,
   "id": "38efe7dc",
   "metadata": {
    "execution": {
     "iopub.execute_input": "2023-08-23T21:18:17.432847Z",
     "iopub.status.busy": "2023-08-23T21:18:17.431806Z",
     "iopub.status.idle": "2023-08-23T21:18:17.450992Z",
     "shell.execute_reply": "2023-08-23T21:18:17.449969Z"
    },
    "papermill": {
     "duration": 0.046554,
     "end_time": "2023-08-23T21:18:17.454563",
     "exception": false,
     "start_time": "2023-08-23T21:18:17.408009",
     "status": "completed"
    },
    "tags": []
   },
   "outputs": [
    {
     "name": "stdout",
     "output_type": "stream",
     "text": [
      "('Question: Summarize how the Third Wave developed over such a short period of '\n",
      " 'time and why the experiment was ended. \\n'\n",
      " 'Summary: The Third Wave developed over such a short period of time. Jones '\n",
      " 'emphasized many simple rules and made sure the students did it right. '\n",
      " 'Students also had to salute each other in a specific way that the teacher '\n",
      " 'had made. On the fourth day, Jones claimed that things started getting out '\n",
      " 'of control because the students became increasingly involved in the project, '\n",
      " 'so their discipline and loyalty to the project was overly outstanding. So '\n",
      " 'Jones decided to terminate the movement and lied to the students by '\n",
      " 'announcing that the Third Wave was a part of a nationwide movement.  \\n'\n",
      " 'Content Score: 1.46743085810556 \\n'\n",
      " 'Wording Score: 1.84017156306968')\n",
      "\n",
      "('Question: Summarize how the Third Wave developed over such a short period of '\n",
      " 'time and why the experiment was ended. \\n'\n",
      " 'Summary: It happened so fastly because the orig nail kids in the experiment '\n",
      " 'were getting other kids ro joined it ended so fast because john relized that '\n",
      " \"what he was doing was bennidificial but he wasn't teaching it in a proper \"\n",
      " 'way  \\n'\n",
      " 'Content Score: -1.54716321678788 \\n'\n",
      " 'Wording Score: -1.46124482282529')\n",
      "\n",
      "('Question: Summarize how the Third Wave developed over such a short period of '\n",
      " 'time and why the experiment was ended. \\n'\n",
      " 'Summary: Beacuse it was planned out by the state as an experiment on the '\n",
      " 'kids that the teacher mr. jones announced, and it was based on things that '\n",
      " 'happened in the past. This eneded because it was just an experiment to see '\n",
      " 'how people willingly create sence of superiority over others and how this '\n",
      " \"can lead people to doing horriblw things in the name of the state's \"\n",
      " 'honor.  \\n'\n",
      " 'Content Score: -0.564001535126031 \\n'\n",
      " 'Wording Score: 0.544047268581291')\n",
      "\n",
      "('Question: Summarize how the Third Wave developed over such a short period of '\n",
      " 'time and why the experiment was ended. \\n'\n",
      " 'Summary: The third wave wasan experiment  to show dictatorship.Ron did this '\n",
      " 'to prepare the class for the election. It shows how easily people will join '\n",
      " 'a group even if its terrible \\n'\n",
      " 'Content Score: -0.917082380091026 \\n'\n",
      " 'Wording Score: -0.111454939107718')\n",
      "\n",
      "('Question: Summarize how the Third Wave developed over such a short period of '\n",
      " 'time and why the experiment was ended. \\n'\n",
      " 'Summary: With the Third Wave, Ron emphasized many simple rules and made sure '\n",
      " 'the students were doing things right. He developed this authoritative '\n",
      " 'dictatorship in the classroom for the knowledge of students. The experiment '\n",
      " 'came to an end because it was slipping out of control and the students '\n",
      " 'became very involved in the project.  \\n'\n",
      " 'Content Score: -0.376762983040429 \\n'\n",
      " 'Wording Score: 0.547660629074304')\n",
      "\n",
      "('Question: Summarize how the Third Wave developed over such a short period of '\n",
      " 'time and why the experiment was ended. \\n'\n",
      " 'Summary:     It rapidly gained followers due to the simple fact of herd '\n",
      " 'behavior.   We see students being discriminated against and students all '\n",
      " 'these other students joining that the individual student may feel like the '\n",
      " 'odd one out for not joining.   The experiment was ended due to the fact that '\n",
      " 'it was spiralling out of control, and it was shown to the students just how '\n",
      " 'easily they followed the crowd. \\n'\n",
      " 'Content Score: 0.265322724198843 \\n'\n",
      " 'Wording Score: 0.715826497971815')\n",
      "\n",
      "('Question: Summarize how the Third Wave developed over such a short period of '\n",
      " 'time and why the experiment was ended. \\n'\n",
      " 'Summary: Ron Jones was a history teacher that created the third wave '\n",
      " 'movement  because he  aimed to eliminate democracy. So that what he did he '\n",
      " 'also created a moto  “Strength through discipline, strength through '\n",
      " 'community, strength through action, strength through pride.”At the end of '\n",
      " 'the week, instead of a televised address of their leader, the students were '\n",
      " 'presented with a blank channel.  \\n'\n",
      " 'Content Score: -0.0621059315581789 \\n'\n",
      " 'Wording Score: -0.380727453312108')\n",
      "\n",
      "('Question: Summarize how the Third Wave developed over such a short period of '\n",
      " 'time and why the experiment was ended. \\n'\n",
      " 'Summary: It was developed over such a short time because the teacher had '\n",
      " 'perfect conditions for conducting the experiment and had more than enough '\n",
      " 'willing participants. It ended so quickly because his point had been proven, '\n",
      " 'and he felt it was getting out of control. \\n'\n",
      " 'Content Score: -0.0938138317174397 \\n'\n",
      " 'Wording Score: 0.503832933489619')\n",
      "\n",
      "('Question: Summarize how the Third Wave developed over such a short period of '\n",
      " 'time and why the experiment was ended. \\n'\n",
      " 'Summary: The experimen devolved so quickly over such a small amount of time '\n",
      " 'bec the children were really into it and all about doing something that they '\n",
      " 'thought was good for their country, eventually it got to be too much and it '\n",
      " 'had to end because it became uncontrollabl. \\n'\n",
      " 'Content Score: -0.99326978468432 \\n'\n",
      " 'Wording Score: -0.367276199174599')\n",
      "\n",
      "('Question: Summarize how the Third Wave developed over such a short period of '\n",
      " 'time and why the experiment was ended. \\n'\n",
      " 'Summary: The Third Wave experiment spread so quickly beacuse of exclusivity. '\n",
      " 'People always want to be included so when they saw other students included '\n",
      " 'in something that they werent, they wanted to join. Soon, there were over '\n",
      " '200 perticipants despite only starting with 30. This shows that people just '\n",
      " 'follow what other people are doing. I assume that this became kind of a '\n",
      " '\"trend\" around the school so nobody wanted to be excluded. They didn\\'t want '\n",
      " 'to seem like the odd ones out. Because of this, the experiment got too out '\n",
      " 'of control so it had to be stopped.  \\n'\n",
      " 'Content Score: 1.78783686454465 \\n'\n",
      " 'Wording Score: 2.1392391407142')\n",
      "\n",
      "('Question: Summarize how the Third Wave developed over such a short period of '\n",
      " 'time and why the experiment was ended. \\n'\n",
      " 'Summary: The Third wave was developed over a short period of time because '\n",
      " 'people naturallt follow the crowd.  It was almost like a trend on social '\n",
      " 'media, everyone was participating so it gained popularity.  As stated in the '\n",
      " \"text, ''He then proceeded to enforce strict classroom discipline by emerging \"\n",
      " \"as an authoritarian figure.''  This experiment had to end because it was \"\n",
      " 'growing out of control.  In conclusion the experiment only ran for a shrt '\n",
      " 'period of time because Jones proved his point and ended up teaching more '\n",
      " 'than just his classes. \\n'\n",
      " 'Content Score: 0.643625564868572 \\n'\n",
      " 'Wording Score: 0.45708281784602')\n",
      "\n",
      "('Question: Summarize how the Third Wave developed over such a short period of '\n",
      " 'time and why the experiment was ended. \\n'\n",
      " 'Summary: The thrid wave was developed as a way to teach students why people '\n",
      " 'conform to crowds, the experiment ended as it was getting out of control, '\n",
      " 'the students learned that they were brainwashed the whole time. \\n'\n",
      " 'Content Score: -0.933629566968118 \\n'\n",
      " 'Wording Score: -0.0319873399650709')\n",
      "\n",
      "('Question: Summarize how the Third Wave developed over such a short period of '\n",
      " 'time and why the experiment was ended. \\n'\n",
      " 'Summary:     The third wave developed so quick in a matter of days, crazy '\n",
      " 'right? Mr. Jones intended to only do this experiment in one day but took '\n",
      " 'four days for the students to do this because many students were actually '\n",
      " 'intrested in doing this experiment. This  class took off so quick because '\n",
      " 'Mr. jones was teaching students ¨strength through dicipline, strength '\n",
      " 'through community, strength through action, strength through pride¨ (1) just '\n",
      " 'how his motto says. In the matter of the next day, his class had gained 13 '\n",
      " 'students because many sudents wanted to perhaps haave the skill Mr. Joness '\n",
      " 'was teaching. Mr. Jones had to cut the eperiment after the fourth day '\n",
      " 'because first of all, his experiment was intended to be only a day '\n",
      " 'experiment and second of all because He thought it was already slipping out '\n",
      " 'of hand. All what Mr. jones wanted to test these students were  on their '\n",
      " 'superiorty.  \\n'\n",
      " 'Content Score: 1.59939167383688 \\n'\n",
      " 'Wording Score: 2.01032653586767')\n",
      "\n",
      "('Question: Summarize how the Third Wave developed over such a short period of '\n",
      " 'time and why the experiment was ended. \\n'\n",
      " 'Summary: People wanted to be involved in something. The rules made everybody '\n",
      " 'the same and they felt like they belonged. It also gave them pride in what '\n",
      " 'they were doing.  it was well recognized and orderly and attractive people. '\n",
      " 'And the experiment ended because the students were too involved. They really '\n",
      " 'believed it and he was losing control of it. \\n'\n",
      " 'Content Score: 0.205682506482641 \\n'\n",
      " 'Wording Score: 0.380537638762288')\n",
      "\n",
      "('Question: Summarize how the Third Wave developed over such a short period of '\n",
      " 'time and why the experiment was ended. \\n'\n",
      " 'Summary: It was developed as an experiment but after it became repetitive '\n",
      " 'the students got more involved. Mr. Jones had to end it because it was '\n",
      " 'getting out of control. \\n'\n",
      " 'Content Score: -0.974242264823977 \\n'\n",
      " 'Wording Score: -0.751413840355257')\n",
      "\n",
      "('Question: Summarize how the Third Wave developed over such a short period of '\n",
      " 'time and why the experiment was ended. \\n'\n",
      " 'Summary: The third wave gained fame through the school quickly, in under a '\n",
      " 'couple days, but Jones felt that it was slipping out of control and lied to '\n",
      " 'the students to end it. \\n'\n",
      " 'Content Score: -1.07261303201737 \\n'\n",
      " 'Wording Score: -0.999628686402458')\n",
      "\n",
      "('Question: Summarize how the Third Wave developed over such a short period of '\n",
      " 'time and why the experiment was ended. \\n'\n",
      " 'Summary: The third wave developed by having meeting during school like a '\n",
      " 'club. And only let certain kids in. They made the kids tell them if anyone '\n",
      " 'was talking about them so they wrote it down and would know. It ended '\n",
      " 'because it got out of control. \\n'\n",
      " 'Content Score: -0.0938138317174397 \\n'\n",
      " 'Wording Score: 0.503832933489619')\n",
      "\n",
      "('Question: Summarize how the Third Wave developed over such a short period of '\n",
      " 'time and why the experiment was ended. \\n'\n",
      " 'Summary: The Third Wage developed with starting out with this teacher '\n",
      " 'announcing new rules. Soon after, that students complied. With the more '\n",
      " 'complying, the more other joined. This got bogged, and bigger. Students '\n",
      " 'became loyal the the obedience in which they had surrendered to. They then '\n",
      " 'went as far as believing it was going to be their new society. Eventually it '\n",
      " 'got so big he had to tell the students it was a hoax, and expirement on them '\n",
      " 'about conformity. \\n'\n",
      " 'Content Score: 1.52004842650383 \\n'\n",
      " 'Wording Score: 1.37797404863981')\n",
      "\n",
      "('Question: Summarize how the Third Wave developed over such a short period of '\n",
      " 'time and why the experiment was ended. \\n'\n",
      " \"Summary: It developed pretty quickly because the student's were so many \"\n",
      " 'students were so divulgued in this experiment many people started to join '\n",
      " 'and it got to the point were the students were taking it too serisouly so '\n",
      " 'Mr. Jones decided to shut it down. \\n'\n",
      " 'Content Score: -0.99326978468432 \\n'\n",
      " 'Wording Score: -0.367276199174599')\n",
      "\n",
      "('Question: Summarize how the Third Wave developed over such a short period of '\n",
      " 'time and why the experiment was ended. \\n'\n",
      " 'Summary: It developed quickly because the students thought that being a part '\n",
      " 'of a community strengthened the school.  Mr. Jones ended the experiment '\n",
      " 'because it was getting out of control. \\n'\n",
      " 'Content Score: -0.910596475636499 \\n'\n",
      " 'Wording Score: -0.0817694380946405')\n",
      "\n"
     ]
    }
   ],
   "source": [
    "display_text(s=200,n=220,df=train_df)"
   ]
  },
  {
   "cell_type": "markdown",
   "id": "b21ee665",
   "metadata": {
    "papermill": {
     "duration": 0.025732,
     "end_time": "2023-08-23T21:18:17.503657",
     "exception": false,
     "start_time": "2023-08-23T21:18:17.477925",
     "status": "completed"
    },
    "tags": []
   },
   "source": [
    "#### Combine the Title, Question, Context and Summary text into one large block of text"
   ]
  },
  {
   "cell_type": "code",
   "execution_count": 16,
   "id": "51045bec",
   "metadata": {
    "execution": {
     "iopub.execute_input": "2023-08-23T21:18:17.552901Z",
     "iopub.status.busy": "2023-08-23T21:18:17.551846Z",
     "iopub.status.idle": "2023-08-23T21:18:17.558879Z",
     "shell.execute_reply": "2023-08-23T21:18:17.557912Z"
    },
    "papermill": {
     "duration": 0.034454,
     "end_time": "2023-08-23T21:18:17.561138",
     "exception": false,
     "start_time": "2023-08-23T21:18:17.526684",
     "status": "completed"
    },
    "tags": []
   },
   "outputs": [],
   "source": [
    "sample = 'Title:\\n'+train_df.iloc[0]['prompt_title']+'\\nQuestion:\\n'+train_df.iloc[0]['prompt_question']+'\\nText:\\n'+train_df.iloc[0]['prompt_text']+'\\nAnswer:\\n'+train_df.iloc[0]['text']"
   ]
  },
  {
   "cell_type": "code",
   "execution_count": 17,
   "id": "2f8f3e39",
   "metadata": {
    "execution": {
     "iopub.execute_input": "2023-08-23T21:18:17.610148Z",
     "iopub.status.busy": "2023-08-23T21:18:17.609037Z",
     "iopub.status.idle": "2023-08-23T21:18:17.615675Z",
     "shell.execute_reply": "2023-08-23T21:18:17.614008Z"
    },
    "papermill": {
     "duration": 0.032917,
     "end_time": "2023-08-23T21:18:17.617848",
     "exception": false,
     "start_time": "2023-08-23T21:18:17.584931",
     "status": "completed"
    },
    "tags": []
   },
   "outputs": [
    {
     "name": "stdout",
     "output_type": "stream",
     "text": [
      "Title:\n",
      "The Third Wave\n",
      "Question:\n",
      "Summarize how the Third Wave developed over such a short period of time and why the experiment was ended.\n",
      "Text:\n",
      "Background \r\n",
      "The Third Wave experiment took place at Cubberley High School in Palo Alto, California during the first week of April 1967. History teacher Ron Jones, finding himself unable to explain to his students how people throughout history followed the crowd even when terrible things were happening, decided to demonstrate it to his students through an experiment. Jones announced that he was starting a movement aimed to eliminate democracy. Jones named the movement “The Third Wave” as a symbol of strength, referring to the mythical belief that the third in a series of waves is the strongest. One of the central points of this movement was that democracy’s main weakness is that it favors the individual over the whole community. Jones emphasized this main point of the movement when he created this catchy motto: “Strength through discipline, strength through community, strength through action, strength through pride.” \r\n",
      "The Experiment \r\n",
      "Jones started the first day of the experiment emphasizing simple things like proper seating, and drilled the students extensively until they got it right. He then proceeded to enforce strict classroom discipline by emerging as an authoritarian figure. This resulted in dramatic improvements to the efficiency, or orderliness, of the class.  The first day’s session ended with only a few rules. Jones intended it to be a one-day experiment. Students had to be sitting at attention before the second bell, had to stand up to ask or answer questions and had to do it in three words or fewer, and were required to preface each remark with “Mr. Jones.” As the week went on, Jones’ class transformed into a group with a supreme sense of discipline and community. Jones made up a salute resembling that of the Nazi regime and ordered class members to salute each other even outside the class. They all obeyed this command. \r\n",
      "After only three days, the experiment took on a life of its own, with students from all over the school joining in. The class expanded from initial 30 students to 43 attendees. All of the students showed drastic improvement in their academic skills and tremendous motivation. All of the students were issued a member card and each of them received a special assignment, like designing a Third Wave Banner, stopping non-members from entering the class, or other tasks to bring honor to the movement. Jones instructed the students on how to initiate new members, and by the end of the day the movement had over 200 participants. Jones was surprised that some of the students started reporting to him when other members of the movement failed to abide by the rules. \r\n",
      "By the fourth day of the experiment, the students became increasingly involved in the project and their discipline and loyalty to the project was so outstanding that Jones felt it was slipping out of control. He decided to terminate the movement, so he lied to students by announcing that the Third Wave was a part of a nationwide movement and that on the next day a presidential candidate of the movement would publicly announce its existence on television. Jones ordered students to attend a noon rally on Friday to witness the announcement. \r\n",
      "At the end of the week, instead of a televised address of their leader, the students were presented with a blank channel. After a few minutes of waiting, Jones announced that they had been a part of an experiment to demonstrate how people willingly create a sense of superiority over others, and how this can lead people to justify doing horrible things in the name of the state’s honor.\n",
      "Answer:\n",
      "The third wave was an experimentto see how people reacted to a new one leader government. It gained popularity as people wanted to try new things. The students follow anything that is said and start turning on eachother to gain higher power. They had to stop the experement as too many people got to radical with it blindly following there leader\n"
     ]
    }
   ],
   "source": [
    "print(sample)"
   ]
  },
  {
   "cell_type": "code",
   "execution_count": 18,
   "id": "3adbbc71",
   "metadata": {
    "execution": {
     "iopub.execute_input": "2023-08-23T21:18:17.668411Z",
     "iopub.status.busy": "2023-08-23T21:18:17.666135Z",
     "iopub.status.idle": "2023-08-23T21:18:17.918049Z",
     "shell.execute_reply": "2023-08-23T21:18:17.917005Z"
    },
    "papermill": {
     "duration": 0.279668,
     "end_time": "2023-08-23T21:18:17.920995",
     "exception": false,
     "start_time": "2023-08-23T21:18:17.641327",
     "status": "completed"
    },
    "tags": []
   },
   "outputs": [],
   "source": [
    "train_df['full_text'] = train_df.apply(lambda x: 'Title:\\n'+x['prompt_title']+\n",
    "               '\\nQuestion:\\n'+x['prompt_question']+\n",
    "               '\\nText:\\n'+x['prompt_text']+\n",
    "               '\\nAnswer:\\n'+x['text'],axis=1)"
   ]
  },
  {
   "cell_type": "markdown",
   "id": "426600bb",
   "metadata": {
    "papermill": {
     "duration": 0.022815,
     "end_time": "2023-08-23T21:18:17.968335",
     "exception": false,
     "start_time": "2023-08-23T21:18:17.945520",
     "status": "completed"
    },
    "tags": []
   },
   "source": [
    "### Make a copy of the dataframe"
   ]
  },
  {
   "cell_type": "code",
   "execution_count": 19,
   "id": "f019255c",
   "metadata": {
    "execution": {
     "iopub.execute_input": "2023-08-23T21:18:18.016877Z",
     "iopub.status.busy": "2023-08-23T21:18:18.015897Z",
     "iopub.status.idle": "2023-08-23T21:18:18.026034Z",
     "shell.execute_reply": "2023-08-23T21:18:18.024989Z"
    },
    "papermill": {
     "duration": 0.036885,
     "end_time": "2023-08-23T21:18:18.028448",
     "exception": false,
     "start_time": "2023-08-23T21:18:17.991563",
     "status": "completed"
    },
    "tags": []
   },
   "outputs": [],
   "source": [
    "df = train_df[['student_id','full_text','content','wording']].copy()"
   ]
  },
  {
   "cell_type": "markdown",
   "id": "a5d54486",
   "metadata": {
    "papermill": {
     "duration": 0.023281,
     "end_time": "2023-08-23T21:18:18.077044",
     "exception": false,
     "start_time": "2023-08-23T21:18:18.053763",
     "status": "completed"
    },
    "tags": []
   },
   "source": [
    "### Let's perform text preprocessing on our df full_text column"
   ]
  },
  {
   "cell_type": "code",
   "execution_count": 20,
   "id": "96333d27",
   "metadata": {
    "execution": {
     "iopub.execute_input": "2023-08-23T21:18:18.125779Z",
     "iopub.status.busy": "2023-08-23T21:18:18.124773Z",
     "iopub.status.idle": "2023-08-23T21:18:18.129913Z",
     "shell.execute_reply": "2023-08-23T21:18:18.129034Z"
    },
    "papermill": {
     "duration": 0.031711,
     "end_time": "2023-08-23T21:18:18.132171",
     "exception": false,
     "start_time": "2023-08-23T21:18:18.100460",
     "status": "completed"
    },
    "tags": []
   },
   "outputs": [],
   "source": [
    "import warnings\n",
    "warnings.simplefilter(\"ignore\", UserWarning)"
   ]
  },
  {
   "cell_type": "markdown",
   "id": "f8f91487",
   "metadata": {
    "papermill": {
     "duration": 0.023323,
     "end_time": "2023-08-23T21:18:18.178258",
     "exception": false,
     "start_time": "2023-08-23T21:18:18.154935",
     "status": "completed"
    },
    "tags": []
   },
   "source": [
    "### Input all libraries"
   ]
  },
  {
   "cell_type": "code",
   "execution_count": 21,
   "id": "e3c4be23",
   "metadata": {
    "execution": {
     "iopub.execute_input": "2023-08-23T21:18:18.228916Z",
     "iopub.status.busy": "2023-08-23T21:18:18.227865Z",
     "iopub.status.idle": "2023-08-23T21:18:26.438108Z",
     "shell.execute_reply": "2023-08-23T21:18:26.437065Z"
    },
    "papermill": {
     "duration": 8.237567,
     "end_time": "2023-08-23T21:18:26.440772",
     "exception": false,
     "start_time": "2023-08-23T21:18:18.203205",
     "status": "completed"
    },
    "tags": []
   },
   "outputs": [],
   "source": [
    "import spacy\n",
    "import numpy as np # linear algebra\n",
    "import pandas as pd # data processing, CSV file I/O (e.g. pd.read_csv)\n",
    "import nltk\n",
    "from nltk.corpus import stopwords\n",
    "from nltk.stem import LancasterStemmer,WordNetLemmatizer\n",
    "from sklearn.feature_extraction.text import CountVectorizer, TfidfTransformer\n",
    "from sklearn.ensemble import RandomForestRegressor\n",
    "from sklearn.multioutput import MultiOutputRegressor\n",
    "from sklearn.metrics import make_scorer\n",
    "from sklearn.model_selection import train_test_split, GridSearchCV"
   ]
  },
  {
   "cell_type": "code",
   "execution_count": 22,
   "id": "aadaa3ac",
   "metadata": {
    "execution": {
     "iopub.execute_input": "2023-08-23T21:18:26.490495Z",
     "iopub.status.busy": "2023-08-23T21:18:26.488862Z",
     "iopub.status.idle": "2023-08-23T21:18:29.044026Z",
     "shell.execute_reply": "2023-08-23T21:18:29.042906Z"
    },
    "papermill": {
     "duration": 2.582338,
     "end_time": "2023-08-23T21:18:29.046707",
     "exception": false,
     "start_time": "2023-08-23T21:18:26.464369",
     "status": "completed"
    },
    "tags": []
   },
   "outputs": [],
   "source": [
    "from string import punctuation as punc\n",
    "from collections import defaultdict\n",
    "import spacy\n",
    "from string import punctuation as punc\n",
    "from tqdm import tqdm\n",
    "\n",
    "nlp = spacy.load(\"en_core_web_md\")\n",
    "\n",
    "def process_text(text):\n",
    "    doc = nlp(text)\n",
    "    lemmas = []\n",
    "    stops = 0\n",
    "    non_stops = 0\n",
    "\n",
    "    for token in doc:\n",
    "        if token.is_stop:\n",
    "            stops += 1\n",
    "        else:\n",
    "            lemmas.append(token.lemma_.lower())\n",
    "            non_stops += 1\n",
    "\n",
    "    return ' '.join(lemmas), stops, non_stops\n",
    "\n",
    "def count_punc(text):\n",
    "    return len([p for p in text if p in punc])\n",
    "\n",
    "def get_pos_counts(text):\n",
    "    doc = nlp(text)\n",
    "    pos = defaultdict(int)\n",
    "    for token in doc:\n",
    "        if not token.is_stop:\n",
    "            pos[token.pos_] += 1\n",
    "    return dict(pos)  # Convert back to a regular dictionary for consistency with the original code"
   ]
  },
  {
   "cell_type": "code",
   "execution_count": 23,
   "id": "6b46ce92",
   "metadata": {
    "execution": {
     "iopub.execute_input": "2023-08-23T21:18:29.096115Z",
     "iopub.status.busy": "2023-08-23T21:18:29.095030Z",
     "iopub.status.idle": "2023-08-23T21:18:29.111124Z",
     "shell.execute_reply": "2023-08-23T21:18:29.110028Z"
    },
    "papermill": {
     "duration": 0.043055,
     "end_time": "2023-08-23T21:18:29.113450",
     "exception": false,
     "start_time": "2023-08-23T21:18:29.070395",
     "status": "completed"
    },
    "tags": []
   },
   "outputs": [],
   "source": [
    "from sklearn.feature_extraction.text import CountVectorizer, TfidfTransformer\n",
    "from sklearn.preprocessing import StandardScaler\n",
    "from sklearn.decomposition import PCA\n",
    "\n",
    "def preprocess_data(summary_df, prompt_df, ngram_range=(1,1)):\n",
    "    train_df = summary_df.merge(right=prompt_df, how='inner', on='prompt_id')\n",
    "\n",
    "    train_df = train_df.assign(\n",
    "        summary_text='Context:\\n' + train_df['prompt_text'] +\n",
    "                     '\\nAnswer:\\n' + train_df['text']\n",
    "    )\n",
    "    \n",
    "    print('processing summary text......')\n",
    "    # Process the texts using tqdm for a progress bar\n",
    "    processed_data = []\n",
    "    for text in tqdm(train_df['text'],desc='processing summary text'):\n",
    "        lemmas, stops, non_stops = process_text(text)\n",
    "        processed_data.append((lemmas, stops, non_stops))\n",
    "        \n",
    "    print('processing full text......')\n",
    "    full_processed_data = []\n",
    "    for text in tqdm(train_df['summary_text'],desc='processing full text'):\n",
    "        lemmas, stops, non_stops = process_text(text)\n",
    "        full_processed_data.append((lemmas, stops, non_stops))\n",
    "        \n",
    "\n",
    "    _, train_df['summary_stopwords'], train_df['summary_length_without_stops'] = zip(*processed_data)\n",
    "    train_df['full_text'], _, _ = zip(*full_processed_data)\n",
    "\n",
    "    print('processing features.....')\n",
    "    # Process other columns\n",
    "    data = [get_pos_counts(text) for text in summary_df['text']]\n",
    "    pos = pd.DataFrame(data).fillna(0).values\n",
    "    train_df['length_of_summary'] = train_df['text'].str.count(' ') + 1\n",
    "    train_df['context_stopwords'] = train_df['prompt_text'].apply(lambda x: process_text(x)[1])\n",
    "    train_df['length_of_context'] = train_df['prompt_text'].str.count(' ') + 1\n",
    "    train_df['summary_punctuation'] = train_df['text'].apply(count_punc)\n",
    "\n",
    "    cols = ['student_id', 'full_text', 'summary_text', 'length_of_summary', 'summary_length_without_stops',\n",
    "            'context_stopwords', 'length_of_context', 'summary_stopwords', 'summary_punctuation',\n",
    "            'content', 'wording']\n",
    "\n",
    "    print('applying vectorizer.....')\n",
    "    global transformer, vectorizer\n",
    "    vectorizer = CountVectorizer(ngram_range=ngram_range)\n",
    "    transformer = TfidfTransformer()\n",
    "    transformed_df = transformer.fit_transform(vectorizer.fit_transform(train_df['full_text']))\n",
    "\n",
    "    print('scaling features.....')\n",
    "    scaler = StandardScaler(with_mean=True, with_std=True)\n",
    "    X_summary_scaled = scaler.fit_transform(transformed_df.toarray())\n",
    "\n",
    "    print('decomposing features.......')\n",
    "    pca = PCA(n_components=2208)\n",
    "    summary_bag = pca.fit_transform(X_summary_scaled)\n",
    "    stacked_bag = np.hstack((summary_bag,pos,train_df[cols[3:]].values))\n",
    "\n",
    "    print('collecting outputs.........')\n",
    "    student_ids = train_df['student_id'].values\n",
    "\n",
    "    return stacked_bag, student_ids"
   ]
  },
  {
   "cell_type": "code",
   "execution_count": 24,
   "id": "2c71cd7a",
   "metadata": {
    "execution": {
     "iopub.execute_input": "2023-08-23T21:18:29.161873Z",
     "iopub.status.busy": "2023-08-23T21:18:29.160811Z",
     "iopub.status.idle": "2023-08-23T21:59:55.905477Z",
     "shell.execute_reply": "2023-08-23T21:59:55.904408Z"
    },
    "papermill": {
     "duration": 2487.553402,
     "end_time": "2023-08-23T21:59:56.689745",
     "exception": false,
     "start_time": "2023-08-23T21:18:29.136343",
     "status": "completed"
    },
    "tags": []
   },
   "outputs": [
    {
     "name": "stdout",
     "output_type": "stream",
     "text": [
      "processing summary text......\n"
     ]
    },
    {
     "name": "stderr",
     "output_type": "stream",
     "text": [
      "processing summary text: 100%|██████████| 7165/7165 [02:41<00:00, 44.36it/s]\n"
     ]
    },
    {
     "name": "stdout",
     "output_type": "stream",
     "text": [
      "processing full text......\n"
     ]
    },
    {
     "name": "stderr",
     "output_type": "stream",
     "text": [
      "processing full text: 100%|██████████| 7165/7165 [18:19<00:00,  6.51it/s]\n"
     ]
    },
    {
     "name": "stdout",
     "output_type": "stream",
     "text": [
      "processing features.....\n",
      "applying vectorizer.....\n",
      "scaling features.....\n",
      "decomposing features.......\n",
      "collecting outputs.........\n",
      "Code executed in: 2486.74 seconds\n"
     ]
    }
   ],
   "source": [
    "import time\n",
    "\n",
    "start_time = time.time()\n",
    "bag_of_words, ids = preprocess_data(summary_df,prompt_df,ngram_range=(1,1))\n",
    "\n",
    "end_time = time.time()\n",
    "elapsed_time = end_time - start_time\n",
    "\n",
    "print(f\"Code executed in: {elapsed_time:.2f} seconds\")"
   ]
  },
  {
   "cell_type": "code",
   "execution_count": 25,
   "id": "ca7308de",
   "metadata": {
    "execution": {
     "iopub.execute_input": "2023-08-23T21:59:58.112622Z",
     "iopub.status.busy": "2023-08-23T21:59:58.112225Z",
     "iopub.status.idle": "2023-08-23T21:59:58.119015Z",
     "shell.execute_reply": "2023-08-23T21:59:58.118053Z"
    },
    "papermill": {
     "duration": 0.720439,
     "end_time": "2023-08-23T21:59:58.122085",
     "exception": false,
     "start_time": "2023-08-23T21:59:57.401646",
     "status": "completed"
    },
    "tags": []
   },
   "outputs": [
    {
     "data": {
      "text/plain": [
       "(7165, 2234)"
      ]
     },
     "execution_count": 25,
     "metadata": {},
     "output_type": "execute_result"
    }
   ],
   "source": [
    "bag_of_words.shape"
   ]
  },
  {
   "cell_type": "code",
   "execution_count": 26,
   "id": "e100f5f8",
   "metadata": {
    "execution": {
     "iopub.execute_input": "2023-08-23T21:59:59.603588Z",
     "iopub.status.busy": "2023-08-23T21:59:59.603190Z",
     "iopub.status.idle": "2023-08-23T21:59:59.608574Z",
     "shell.execute_reply": "2023-08-23T21:59:59.607389Z"
    },
    "papermill": {
     "duration": 0.782008,
     "end_time": "2023-08-23T21:59:59.611055",
     "exception": false,
     "start_time": "2023-08-23T21:59:58.829047",
     "status": "completed"
    },
    "tags": []
   },
   "outputs": [],
   "source": [
    "import matplotlib.pyplot as plt\n",
    "plt.rcParams['figure.figsize'] = (7,5)"
   ]
  },
  {
   "cell_type": "code",
   "execution_count": 27,
   "id": "fe8b1755",
   "metadata": {
    "execution": {
     "iopub.execute_input": "2023-08-23T22:00:01.053358Z",
     "iopub.status.busy": "2023-08-23T22:00:01.052890Z",
     "iopub.status.idle": "2023-08-23T22:00:01.072838Z",
     "shell.execute_reply": "2023-08-23T22:00:01.069829Z"
    },
    "papermill": {
     "duration": 0.739332,
     "end_time": "2023-08-23T22:00:01.077112",
     "exception": false,
     "start_time": "2023-08-23T22:00:00.337780",
     "status": "completed"
    },
    "tags": []
   },
   "outputs": [],
   "source": [
    "def get_plot(d_lower,d_higher,cumsum):\n",
    "    fig, axis = plt.subplots()\n",
    "    axis.step(range(len(cumsum)),cumsum, where='mid', c='b', label='Explained Ration')\n",
    "    axis.vlines(d_higher, 0, cumsum[d_higher], colors='orange', linestyles='--',label=f'{d_higher} components')\n",
    "    axis.vlines(d_lower, 0, cumsum[d_lower],colors='red', linestyles='--', label=f'{d_lower} components')\n",
    "    axis.hlines(cumsum[d_higher], -200, d_higher, colors='orange', linestyles='--', label=f'{cumsum[d_higher]:.2f} cumsum')\n",
    "    axis.hlines(cumsum[d_lower], -200, d_lower,colors='red', linestyles='--', label=f'{cumsum[d_lower]:.2f} cumsum')\n",
    "    axis.set_xlim([-200, 5000])\n",
    "    axis.set_xlabel('Principal Components Index')\n",
    "    axis.set_ylabel('Explained Variance Ratio')\n",
    "    axis.grid(True)\n",
    "    plt.legend(loc='best')\n",
    "    plt.show()"
   ]
  },
  {
   "cell_type": "code",
   "execution_count": 28,
   "id": "4022ce0d",
   "metadata": {
    "execution": {
     "iopub.execute_input": "2023-08-23T22:00:02.636135Z",
     "iopub.status.busy": "2023-08-23T22:00:02.635753Z",
     "iopub.status.idle": "2023-08-23T22:00:02.640258Z",
     "shell.execute_reply": "2023-08-23T22:00:02.639197Z"
    },
    "papermill": {
     "duration": 0.715705,
     "end_time": "2023-08-23T22:00:02.642617",
     "exception": false,
     "start_time": "2023-08-23T22:00:01.926912",
     "status": "completed"
    },
    "tags": []
   },
   "outputs": [],
   "source": [
    "# get_plot(d_lower=d_95,d_higher=d_99,cumsum=cumsum)"
   ]
  },
  {
   "cell_type": "code",
   "execution_count": 29,
   "id": "c62ae030",
   "metadata": {
    "execution": {
     "iopub.execute_input": "2023-08-23T22:00:04.120857Z",
     "iopub.status.busy": "2023-08-23T22:00:04.120460Z",
     "iopub.status.idle": "2023-08-23T22:00:04.168384Z",
     "shell.execute_reply": "2023-08-23T22:00:04.167314Z"
    },
    "papermill": {
     "duration": 0.751901,
     "end_time": "2023-08-23T22:00:04.171174",
     "exception": false,
     "start_time": "2023-08-23T22:00:03.419273",
     "status": "completed"
    },
    "tags": []
   },
   "outputs": [],
   "source": [
    "X_train,X_test,y_train,y_test = train_test_split(bag_of_words[:,:-2] ,bag_of_words[:,-2:],test_size=0.1,shuffle=True,random_state=11)"
   ]
  },
  {
   "cell_type": "code",
   "execution_count": 30,
   "id": "8df2b319",
   "metadata": {
    "execution": {
     "iopub.execute_input": "2023-08-23T22:00:05.574662Z",
     "iopub.status.busy": "2023-08-23T22:00:05.574253Z",
     "iopub.status.idle": "2023-08-23T22:00:05.579176Z",
     "shell.execute_reply": "2023-08-23T22:00:05.578091Z"
    },
    "papermill": {
     "duration": 0.711124,
     "end_time": "2023-08-23T22:00:05.581520",
     "exception": false,
     "start_time": "2023-08-23T22:00:04.870396",
     "status": "completed"
    },
    "tags": []
   },
   "outputs": [],
   "source": [
    "from warnings import filterwarnings\n",
    "filterwarnings(action='always')"
   ]
  },
  {
   "cell_type": "code",
   "execution_count": 31,
   "id": "9ab840d9",
   "metadata": {
    "execution": {
     "iopub.execute_input": "2023-08-23T22:00:07.062368Z",
     "iopub.status.busy": "2023-08-23T22:00:07.061252Z",
     "iopub.status.idle": "2023-08-23T22:00:07.068551Z",
     "shell.execute_reply": "2023-08-23T22:00:07.067604Z"
    },
    "papermill": {
     "duration": 0.715542,
     "end_time": "2023-08-23T22:00:07.070835",
     "exception": false,
     "start_time": "2023-08-23T22:00:06.355293",
     "status": "completed"
    },
    "tags": []
   },
   "outputs": [],
   "source": [
    "# import tensorflow_decision_forests as tfds\n",
    "import tensorflow as tf\n",
    "from tensorflow.keras.layers import Dense,LSTM, Input\n",
    "from tensorflow.keras.models import Sequential"
   ]
  },
  {
   "cell_type": "code",
   "execution_count": 32,
   "id": "acaf1747",
   "metadata": {
    "execution": {
     "iopub.execute_input": "2023-08-23T22:00:08.823373Z",
     "iopub.status.busy": "2023-08-23T22:00:08.822920Z",
     "iopub.status.idle": "2023-08-23T22:00:08.832495Z",
     "shell.execute_reply": "2023-08-23T22:00:08.831371Z"
    },
    "papermill": {
     "duration": 1.063936,
     "end_time": "2023-08-23T22:00:08.837533",
     "exception": false,
     "start_time": "2023-08-23T22:00:07.773597",
     "status": "completed"
    },
    "tags": []
   },
   "outputs": [],
   "source": [
    "f_shape = X_train.shape[1]\n",
    "batch_size = 32"
   ]
  },
  {
   "cell_type": "code",
   "execution_count": 33,
   "id": "4d672e92",
   "metadata": {
    "execution": {
     "iopub.execute_input": "2023-08-23T22:00:10.653704Z",
     "iopub.status.busy": "2023-08-23T22:00:10.653290Z",
     "iopub.status.idle": "2023-08-23T22:00:10.660533Z",
     "shell.execute_reply": "2023-08-23T22:00:10.659485Z"
    },
    "papermill": {
     "duration": 0.778131,
     "end_time": "2023-08-23T22:00:10.662852",
     "exception": false,
     "start_time": "2023-08-23T22:00:09.884721",
     "status": "completed"
    },
    "tags": []
   },
   "outputs": [],
   "source": [
    "def expand_dims(features, labels):\n",
    "    features = tf.expand_dims(features, axis=0)\n",
    "    features = tf.cast(features, tf.float32, name='input_features')\n",
    "    labels = tf.cast(labels, tf.float32, name='labels')\n",
    "    return {'input_features':features}, labels"
   ]
  },
  {
   "cell_type": "code",
   "execution_count": 34,
   "id": "3bea3ea5",
   "metadata": {
    "execution": {
     "iopub.execute_input": "2023-08-23T22:00:12.125636Z",
     "iopub.status.busy": "2023-08-23T22:00:12.125145Z",
     "iopub.status.idle": "2023-08-23T22:00:17.894101Z",
     "shell.execute_reply": "2023-08-23T22:00:17.893019Z"
    },
    "papermill": {
     "duration": 6.472955,
     "end_time": "2023-08-23T22:00:17.896759",
     "exception": false,
     "start_time": "2023-08-23T22:00:11.423804",
     "status": "completed"
    },
    "tags": []
   },
   "outputs": [],
   "source": [
    "dataset = tf.data.Dataset.from_tensor_slices((X_train,y_train))\n",
    "dataset = dataset.map(expand_dims,num_parallel_calls=tf.data.AUTOTUNE,deterministic=False)\n",
    "dataset = dataset.cache()\n",
    "dataset = dataset.batch(batch_size=batch_size, drop_remainder=True, num_parallel_calls=tf.data.AUTOTUNE).shuffle(X_train.shape[0])\n",
    "dataset = dataset.prefetch(tf.data.AUTOTUNE)"
   ]
  },
  {
   "cell_type": "code",
   "execution_count": 35,
   "id": "23412df0",
   "metadata": {
    "execution": {
     "iopub.execute_input": "2023-08-23T22:00:19.380148Z",
     "iopub.status.busy": "2023-08-23T22:00:19.379765Z",
     "iopub.status.idle": "2023-08-23T22:00:19.386552Z",
     "shell.execute_reply": "2023-08-23T22:00:19.385576Z"
    },
    "papermill": {
     "duration": 0.785685,
     "end_time": "2023-08-23T22:00:19.388621",
     "exception": false,
     "start_time": "2023-08-23T22:00:18.602936",
     "status": "completed"
    },
    "tags": []
   },
   "outputs": [
    {
     "data": {
      "text/plain": [
       "({'input_features': TensorSpec(shape=(32, 1, 2232), dtype=tf.float32, name=None)},\n",
       " TensorSpec(shape=(32, 2), dtype=tf.float32, name=None))"
      ]
     },
     "execution_count": 35,
     "metadata": {},
     "output_type": "execute_result"
    }
   ],
   "source": [
    "dataset.element_spec"
   ]
  },
  {
   "cell_type": "code",
   "execution_count": 36,
   "id": "b2ff07f9",
   "metadata": {
    "execution": {
     "iopub.execute_input": "2023-08-23T22:00:20.764427Z",
     "iopub.status.busy": "2023-08-23T22:00:20.764037Z",
     "iopub.status.idle": "2023-08-23T22:00:20.772210Z",
     "shell.execute_reply": "2023-08-23T22:00:20.771093Z"
    },
    "papermill": {
     "duration": 0.699538,
     "end_time": "2023-08-23T22:00:20.774468",
     "exception": false,
     "start_time": "2023-08-23T22:00:20.074930",
     "status": "completed"
    },
    "tags": []
   },
   "outputs": [],
   "source": [
    "def build_model():\n",
    "    model = Sequential([\n",
    "        Input(shape=(None,f_shape),batch_size=batch_size,name='input_features',dtype=tf.float32),\n",
    "        tf.keras.layers.Bidirectional(tf.keras.layers.LSTM(128,activation='relu',return_sequences=True)),\n",
    "        tf.keras.layers.Bidirectional(tf.keras.layers.LSTM(64,activation='relu')),\n",
    "        tf.keras.layers.Dropout(0.2),\n",
    "        Dense(32,activation='relu'),\n",
    "        Dense(16, activation='relu'),\n",
    "        Dense(2, activation='relu')\n",
    "    ])\n",
    "    \n",
    "    model.compile(optimizer=tf.keras.optimizers.Adam(learning_rate=8e-4),\n",
    "                 loss=tf.keras.losses.MeanSquaredError(), metrics=['mse'])\n",
    "    return model"
   ]
  },
  {
   "cell_type": "code",
   "execution_count": 37,
   "id": "c10ab220",
   "metadata": {
    "execution": {
     "iopub.execute_input": "2023-08-23T22:00:22.284859Z",
     "iopub.status.busy": "2023-08-23T22:00:22.284482Z",
     "iopub.status.idle": "2023-08-23T22:00:22.784656Z",
     "shell.execute_reply": "2023-08-23T22:00:22.783609Z"
    },
    "papermill": {
     "duration": 1.202794,
     "end_time": "2023-08-23T22:00:22.787335",
     "exception": false,
     "start_time": "2023-08-23T22:00:21.584541",
     "status": "completed"
    },
    "tags": []
   },
   "outputs": [],
   "source": [
    "model = build_model()"
   ]
  },
  {
   "cell_type": "code",
   "execution_count": 38,
   "id": "db3ab43f",
   "metadata": {
    "execution": {
     "iopub.execute_input": "2023-08-23T22:00:24.256182Z",
     "iopub.status.busy": "2023-08-23T22:00:24.255812Z",
     "iopub.status.idle": "2023-08-23T22:00:24.288498Z",
     "shell.execute_reply": "2023-08-23T22:00:24.287660Z"
    },
    "papermill": {
     "duration": 0.746724,
     "end_time": "2023-08-23T22:00:24.300276",
     "exception": false,
     "start_time": "2023-08-23T22:00:23.553552",
     "status": "completed"
    },
    "tags": []
   },
   "outputs": [
    {
     "name": "stdout",
     "output_type": "stream",
     "text": [
      "Model: \"sequential\"\n",
      "_________________________________________________________________\n",
      " Layer (type)                Output Shape              Param #   \n",
      "=================================================================\n",
      " bidirectional (Bidirectiona  (32, None, 256)          2417664   \n",
      " l)                                                              \n",
      "                                                                 \n",
      " bidirectional_1 (Bidirectio  (32, 128)                164352    \n",
      " nal)                                                            \n",
      "                                                                 \n",
      " dropout (Dropout)           (32, 128)                 0         \n",
      "                                                                 \n",
      " dense (Dense)               (32, 32)                  4128      \n",
      "                                                                 \n",
      " dense_1 (Dense)             (32, 16)                  528       \n",
      "                                                                 \n",
      " dense_2 (Dense)             (32, 2)                   34        \n",
      "                                                                 \n",
      "=================================================================\n",
      "Total params: 2,586,706\n",
      "Trainable params: 2,586,706\n",
      "Non-trainable params: 0\n",
      "_________________________________________________________________\n"
     ]
    }
   ],
   "source": [
    "model.summary()"
   ]
  },
  {
   "cell_type": "code",
   "execution_count": 39,
   "id": "f3e4629d",
   "metadata": {
    "execution": {
     "iopub.execute_input": "2023-08-23T22:00:25.708287Z",
     "iopub.status.busy": "2023-08-23T22:00:25.707875Z",
     "iopub.status.idle": "2023-08-23T22:00:25.745861Z",
     "shell.execute_reply": "2023-08-23T22:00:25.744671Z"
    },
    "papermill": {
     "duration": 0.742988,
     "end_time": "2023-08-23T22:00:25.748646",
     "exception": false,
     "start_time": "2023-08-23T22:00:25.005658",
     "status": "completed"
    },
    "tags": []
   },
   "outputs": [],
   "source": [
    "val_dataset = tf.data.Dataset.from_tensor_slices((X_test,y_test))\n",
    "val_dataset = val_dataset.map(expand_dims,num_parallel_calls=tf.data.AUTOTUNE,deterministic=False)\n",
    "val_dataset = val_dataset.cache()\n",
    "val_dataset = val_dataset.batch(batch_size=batch_size, drop_remainder=True, num_parallel_calls=tf.data.AUTOTUNE).shuffle(100000)\n",
    "val_dataset = val_dataset.prefetch(tf.data.AUTOTUNE)"
   ]
  },
  {
   "cell_type": "code",
   "execution_count": 40,
   "id": "6f444a7f",
   "metadata": {
    "execution": {
     "iopub.execute_input": "2023-08-23T22:00:27.233916Z",
     "iopub.status.busy": "2023-08-23T22:00:27.233379Z",
     "iopub.status.idle": "2023-08-23T22:00:27.240465Z",
     "shell.execute_reply": "2023-08-23T22:00:27.239488Z"
    },
    "papermill": {
     "duration": 0.712271,
     "end_time": "2023-08-23T22:00:27.242801",
     "exception": false,
     "start_time": "2023-08-23T22:00:26.530530",
     "status": "completed"
    },
    "tags": []
   },
   "outputs": [],
   "source": [
    "from tensorflow.keras.callbacks import LearningRateScheduler\n",
    "from tensorflow.keras.callbacks import EarlyStopping\n",
    "\n",
    "early_stopping = EarlyStopping(monitor='val_loss', patience=10, restore_best_weights=True)\n",
    "lr_schedule = tf.keras.callbacks.LearningRateScheduler(\n",
    "    lambda epoch: 2e-8 * 10**(epoch / 10))"
   ]
  },
  {
   "cell_type": "code",
   "execution_count": 41,
   "id": "20e3f19a",
   "metadata": {
    "execution": {
     "iopub.execute_input": "2023-08-23T22:00:28.729895Z",
     "iopub.status.busy": "2023-08-23T22:00:28.729490Z",
     "iopub.status.idle": "2023-08-23T22:03:09.699140Z",
     "shell.execute_reply": "2023-08-23T22:03:09.698012Z"
    },
    "papermill": {
     "duration": 161.750791,
     "end_time": "2023-08-23T22:03:09.701900",
     "exception": false,
     "start_time": "2023-08-23T22:00:27.951109",
     "status": "completed"
    },
    "tags": []
   },
   "outputs": [
    {
     "name": "stdout",
     "output_type": "stream",
     "text": [
      "Epoch 1/100\n",
      "201/201 [==============================] - 13s 19ms/step - loss: 1.3568 - mse: 1.3568 - val_loss: 1.3649 - val_mse: 1.3649 - lr: 2.0000e-08\n",
      "Epoch 2/100\n",
      "201/201 [==============================] - 2s 12ms/step - loss: 1.3557 - mse: 1.3557 - val_loss: 1.3618 - val_mse: 1.3618 - lr: 2.5179e-08\n",
      "Epoch 3/100\n",
      "201/201 [==============================] - 2s 12ms/step - loss: 1.3600 - mse: 1.3600 - val_loss: 1.3580 - val_mse: 1.3580 - lr: 3.1698e-08\n",
      "Epoch 4/100\n",
      "201/201 [==============================] - 2s 12ms/step - loss: 1.3528 - mse: 1.3528 - val_loss: 1.3533 - val_mse: 1.3533 - lr: 3.9905e-08\n",
      "Epoch 5/100\n",
      "201/201 [==============================] - 3s 12ms/step - loss: 1.3513 - mse: 1.3513 - val_loss: 1.3474 - val_mse: 1.3474 - lr: 5.0238e-08\n",
      "Epoch 6/100\n",
      "201/201 [==============================] - 3s 12ms/step - loss: 1.3377 - mse: 1.3377 - val_loss: 1.3400 - val_mse: 1.3400 - lr: 6.3246e-08\n",
      "Epoch 7/100\n",
      "201/201 [==============================] - 2s 12ms/step - loss: 1.3397 - mse: 1.3397 - val_loss: 1.3311 - val_mse: 1.3311 - lr: 7.9621e-08\n",
      "Epoch 8/100\n",
      "201/201 [==============================] - 3s 14ms/step - loss: 1.3116 - mse: 1.3116 - val_loss: 1.3199 - val_mse: 1.3199 - lr: 1.0024e-07\n",
      "Epoch 9/100\n",
      "201/201 [==============================] - 3s 12ms/step - loss: 1.3181 - mse: 1.3181 - val_loss: 1.3063 - val_mse: 1.3063 - lr: 1.2619e-07\n",
      "Epoch 10/100\n",
      "201/201 [==============================] - 2s 12ms/step - loss: 1.2785 - mse: 1.2785 - val_loss: 1.2902 - val_mse: 1.2902 - lr: 1.5887e-07\n",
      "Epoch 11/100\n",
      "201/201 [==============================] - 2s 12ms/step - loss: 1.2783 - mse: 1.2783 - val_loss: 1.2706 - val_mse: 1.2706 - lr: 2.0000e-07\n",
      "Epoch 12/100\n",
      "201/201 [==============================] - 3s 12ms/step - loss: 1.2644 - mse: 1.2644 - val_loss: 1.2476 - val_mse: 1.2476 - lr: 2.5179e-07\n",
      "Epoch 13/100\n",
      "201/201 [==============================] - 3s 15ms/step - loss: 1.2448 - mse: 1.2448 - val_loss: 1.2195 - val_mse: 1.2195 - lr: 3.1698e-07\n",
      "Epoch 14/100\n",
      "201/201 [==============================] - 2s 12ms/step - loss: 1.2083 - mse: 1.2083 - val_loss: 1.1896 - val_mse: 1.1896 - lr: 3.9905e-07\n",
      "Epoch 15/100\n",
      "201/201 [==============================] - 2s 12ms/step - loss: 1.1888 - mse: 1.1888 - val_loss: 1.1546 - val_mse: 1.1546 - lr: 5.0238e-07\n",
      "Epoch 16/100\n",
      "201/201 [==============================] - 2s 12ms/step - loss: 1.1625 - mse: 1.1625 - val_loss: 1.1183 - val_mse: 1.1183 - lr: 6.3246e-07\n",
      "Epoch 17/100\n",
      "201/201 [==============================] - 2s 12ms/step - loss: 1.1517 - mse: 1.1517 - val_loss: 1.0808 - val_mse: 1.0808 - lr: 7.9621e-07\n",
      "Epoch 18/100\n",
      "201/201 [==============================] - 2s 12ms/step - loss: 1.1300 - mse: 1.1300 - val_loss: 1.0515 - val_mse: 1.0515 - lr: 1.0024e-06\n",
      "Epoch 19/100\n",
      "201/201 [==============================] - 3s 15ms/step - loss: 1.0989 - mse: 1.0989 - val_loss: 1.0278 - val_mse: 1.0278 - lr: 1.2619e-06\n",
      "Epoch 20/100\n",
      "201/201 [==============================] - 2s 12ms/step - loss: 1.0856 - mse: 1.0856 - val_loss: 1.0128 - val_mse: 1.0128 - lr: 1.5887e-06\n",
      "Epoch 21/100\n",
      "201/201 [==============================] - 2s 12ms/step - loss: 1.0751 - mse: 1.0751 - val_loss: 1.0071 - val_mse: 1.0071 - lr: 2.0000e-06\n",
      "Epoch 22/100\n",
      "201/201 [==============================] - 2s 12ms/step - loss: 1.0522 - mse: 1.0522 - val_loss: 0.9982 - val_mse: 0.9982 - lr: 2.5179e-06\n",
      "Epoch 23/100\n",
      "201/201 [==============================] - 3s 13ms/step - loss: 1.0428 - mse: 1.0428 - val_loss: 0.9863 - val_mse: 0.9863 - lr: 3.1698e-06\n",
      "Epoch 24/100\n",
      "201/201 [==============================] - 3s 15ms/step - loss: 1.0322 - mse: 1.0322 - val_loss: 0.9787 - val_mse: 0.9787 - lr: 3.9905e-06\n",
      "Epoch 25/100\n",
      "201/201 [==============================] - 2s 12ms/step - loss: 1.0074 - mse: 1.0074 - val_loss: 0.9724 - val_mse: 0.9724 - lr: 5.0238e-06\n",
      "Epoch 26/100\n",
      "201/201 [==============================] - 2s 12ms/step - loss: 0.9964 - mse: 0.9964 - val_loss: 0.9725 - val_mse: 0.9725 - lr: 6.3246e-06\n",
      "Epoch 27/100\n",
      "201/201 [==============================] - 2s 12ms/step - loss: 0.9715 - mse: 0.9715 - val_loss: 0.9619 - val_mse: 0.9619 - lr: 7.9621e-06\n",
      "Epoch 28/100\n",
      "201/201 [==============================] - 2s 12ms/step - loss: 0.9634 - mse: 0.9634 - val_loss: 0.9582 - val_mse: 0.9582 - lr: 1.0024e-05\n",
      "Epoch 29/100\n",
      "201/201 [==============================] - 2s 12ms/step - loss: 0.9426 - mse: 0.9426 - val_loss: 0.9551 - val_mse: 0.9551 - lr: 1.2619e-05\n",
      "Epoch 30/100\n",
      "201/201 [==============================] - 3s 14ms/step - loss: 0.9346 - mse: 0.9346 - val_loss: 0.9329 - val_mse: 0.9329 - lr: 1.5887e-05\n",
      "Epoch 31/100\n",
      "201/201 [==============================] - 2s 12ms/step - loss: 0.9067 - mse: 0.9067 - val_loss: 0.9298 - val_mse: 0.9298 - lr: 2.0000e-05\n",
      "Epoch 32/100\n",
      "201/201 [==============================] - 2s 12ms/step - loss: 0.8798 - mse: 0.8798 - val_loss: 0.8943 - val_mse: 0.8943 - lr: 2.5179e-05\n",
      "Epoch 33/100\n",
      "201/201 [==============================] - 3s 12ms/step - loss: 0.8382 - mse: 0.8382 - val_loss: 0.8723 - val_mse: 0.8723 - lr: 3.1698e-05\n",
      "Epoch 34/100\n",
      "201/201 [==============================] - 3s 13ms/step - loss: 0.8081 - mse: 0.8081 - val_loss: 0.8528 - val_mse: 0.8528 - lr: 3.9905e-05\n",
      "Epoch 35/100\n",
      "201/201 [==============================] - 2s 11ms/step - loss: 0.7721 - mse: 0.7721 - val_loss: 0.8300 - val_mse: 0.8300 - lr: 5.0238e-05\n",
      "Epoch 36/100\n",
      "201/201 [==============================] - 3s 16ms/step - loss: 0.7467 - mse: 0.7467 - val_loss: 0.8328 - val_mse: 0.8328 - lr: 6.3246e-05\n",
      "Epoch 37/100\n",
      "201/201 [==============================] - 2s 12ms/step - loss: 0.7249 - mse: 0.7249 - val_loss: 0.8165 - val_mse: 0.8165 - lr: 7.9621e-05\n",
      "Epoch 38/100\n",
      "201/201 [==============================] - 2s 12ms/step - loss: 0.6978 - mse: 0.6978 - val_loss: 0.8004 - val_mse: 0.8004 - lr: 1.0024e-04\n",
      "Epoch 39/100\n",
      "201/201 [==============================] - 2s 12ms/step - loss: 0.6778 - mse: 0.6778 - val_loss: 0.8001 - val_mse: 0.8001 - lr: 1.2619e-04\n",
      "Epoch 40/100\n",
      "201/201 [==============================] - 2s 12ms/step - loss: 0.6639 - mse: 0.6639 - val_loss: 0.7985 - val_mse: 0.7985 - lr: 1.5887e-04\n",
      "Epoch 41/100\n",
      "201/201 [==============================] - 2s 12ms/step - loss: 0.6482 - mse: 0.6482 - val_loss: 0.7936 - val_mse: 0.7936 - lr: 2.0000e-04\n",
      "Epoch 42/100\n",
      "201/201 [==============================] - 2s 12ms/step - loss: 0.6371 - mse: 0.6371 - val_loss: 0.7650 - val_mse: 0.7650 - lr: 2.5179e-04\n",
      "Epoch 43/100\n",
      "201/201 [==============================] - 3s 14ms/step - loss: 0.6382 - mse: 0.6382 - val_loss: 0.7568 - val_mse: 0.7568 - lr: 3.1698e-04\n",
      "Epoch 44/100\n",
      "201/201 [==============================] - 2s 11ms/step - loss: 0.6300 - mse: 0.6300 - val_loss: 0.7637 - val_mse: 0.7637 - lr: 3.9905e-04\n",
      "Epoch 45/100\n",
      "201/201 [==============================] - 2s 12ms/step - loss: 0.6267 - mse: 0.6267 - val_loss: 0.7509 - val_mse: 0.7509 - lr: 5.0238e-04\n",
      "Epoch 46/100\n",
      "201/201 [==============================] - 2s 12ms/step - loss: 0.6267 - mse: 0.6267 - val_loss: 0.7655 - val_mse: 0.7655 - lr: 6.3246e-04\n",
      "Epoch 47/100\n",
      "201/201 [==============================] - 2s 12ms/step - loss: 0.6316 - mse: 0.6316 - val_loss: 0.7598 - val_mse: 0.7598 - lr: 7.9621e-04\n",
      "Epoch 48/100\n",
      "201/201 [==============================] - 3s 15ms/step - loss: 0.6372 - mse: 0.6372 - val_loss: 0.7550 - val_mse: 0.7550 - lr: 0.0010\n",
      "Epoch 49/100\n",
      "201/201 [==============================] - 2s 12ms/step - loss: 0.6281 - mse: 0.6281 - val_loss: 0.7525 - val_mse: 0.7525 - lr: 0.0013\n",
      "Epoch 50/100\n",
      "201/201 [==============================] - 2s 12ms/step - loss: 0.6437 - mse: 0.6437 - val_loss: 0.7732 - val_mse: 0.7732 - lr: 0.0016\n",
      "Epoch 51/100\n",
      "201/201 [==============================] - 2s 12ms/step - loss: 0.6550 - mse: 0.6550 - val_loss: 0.7586 - val_mse: 0.7586 - lr: 0.0020\n",
      "Epoch 52/100\n",
      "201/201 [==============================] - 3s 13ms/step - loss: 0.6491 - mse: 0.6491 - val_loss: 0.7843 - val_mse: 0.7843 - lr: 0.0025\n",
      "Epoch 53/100\n",
      "201/201 [==============================] - 2s 12ms/step - loss: 0.6509 - mse: 0.6509 - val_loss: 0.8685 - val_mse: 0.8685 - lr: 0.0032\n",
      "Epoch 54/100\n",
      "201/201 [==============================] - 3s 15ms/step - loss: 0.6957 - mse: 0.6957 - val_loss: 0.8379 - val_mse: 0.8379 - lr: 0.0040\n",
      "Epoch 55/100\n",
      "201/201 [==============================] - 2s 12ms/step - loss: 0.6788 - mse: 0.6788 - val_loss: 0.8574 - val_mse: 0.8574 - lr: 0.0050\n"
     ]
    }
   ],
   "source": [
    "history = model.fit(dataset,validation_data=val_dataset,epochs=100,callbacks=[lr_schedule,early_stopping])"
   ]
  },
  {
   "cell_type": "code",
   "execution_count": 42,
   "id": "974a41b8",
   "metadata": {
    "execution": {
     "iopub.execute_input": "2023-08-23T22:03:11.649584Z",
     "iopub.status.busy": "2023-08-23T22:03:11.648498Z",
     "iopub.status.idle": "2023-08-23T22:03:12.496750Z",
     "shell.execute_reply": "2023-08-23T22:03:12.495686Z"
    },
    "papermill": {
     "duration": 1.89101,
     "end_time": "2023-08-23T22:03:12.499255",
     "exception": false,
     "start_time": "2023-08-23T22:03:10.608245",
     "status": "completed"
    },
    "tags": []
   },
   "outputs": [
    {
     "data": {
      "image/png": "[encoded data removed]",
      "text/plain": [
       "<Figure size 1000x600 with 1 Axes>"
      ]
     },
     "metadata": {},
     "output_type": "display_data"
    }
   ],
   "source": [
    "import matplotlib.pyplot as plt\n",
    "\n",
    "# Extract learning rates and losses from the training history\n",
    "lrs = history.history['lr']\n",
    "losses = history.history['loss']\n",
    "\n",
    "plt.figure(figsize=(10, 6))\n",
    "plt.semilogx(lrs, losses)\n",
    "plt.xlabel('Learning Rate')\n",
    "plt.ylabel('Loss')\n",
    "plt.title('Loss vs Learning Rate')\n",
    "plt.grid(True)\n",
    "plt.show()\n"
   ]
  },
  {
   "cell_type": "code",
   "execution_count": 43,
   "id": "d005e54e",
   "metadata": {
    "execution": {
     "iopub.execute_input": "2023-08-23T22:03:14.431044Z",
     "iopub.status.busy": "2023-08-23T22:03:14.429755Z",
     "iopub.status.idle": "2023-08-23T22:03:14.439141Z",
     "shell.execute_reply": "2023-08-23T22:03:14.437927Z"
    },
    "papermill": {
     "duration": 1.002913,
     "end_time": "2023-08-23T22:03:14.441552",
     "exception": false,
     "start_time": "2023-08-23T22:03:13.438639",
     "status": "completed"
    },
    "tags": []
   },
   "outputs": [],
   "source": [
    "def build_model():\n",
    "    model = Sequential([\n",
    "        Input(shape=(None,f_shape),batch_size=batch_size,name='input_features',dtype=tf.float32),\n",
    "        tf.keras.layers.Bidirectional(tf.keras.layers.LSTM(256,activation='relu',return_sequences=True)),\n",
    "        tf.keras.layers.Dropout(0.2),\n",
    "        tf.keras.layers.Bidirectional(tf.keras.layers.LSTM(128,activation='relu',return_sequences=True)),\n",
    "        tf.keras.layers.Bidirectional(tf.keras.layers.LSTM(64,activation='relu')),\n",
    "        Dense(64,activation='relu'),\n",
    "        Dense(16, activation='relu'),\n",
    "        Dense(2, activation='tanh')\n",
    "    ])\n",
    "    \n",
    "    model.compile(optimizer=tf.keras.optimizers.Adam(learning_rate=8e-4),\n",
    "                 loss=tf.keras.losses.MeanSquaredError(), metrics=['mse'])\n",
    "    return model"
   ]
  },
  {
   "cell_type": "code",
   "execution_count": 44,
   "id": "38c7020b",
   "metadata": {
    "execution": {
     "iopub.execute_input": "2023-08-23T22:03:16.347084Z",
     "iopub.status.busy": "2023-08-23T22:03:16.346653Z",
     "iopub.status.idle": "2023-08-23T22:03:16.972615Z",
     "shell.execute_reply": "2023-08-23T22:03:16.971445Z"
    },
    "papermill": {
     "duration": 1.620424,
     "end_time": "2023-08-23T22:03:16.975609",
     "exception": false,
     "start_time": "2023-08-23T22:03:15.355185",
     "status": "completed"
    },
    "tags": []
   },
   "outputs": [],
   "source": [
    "model = build_model()"
   ]
  },
  {
   "cell_type": "code",
   "execution_count": 45,
   "id": "0c990585",
   "metadata": {
    "execution": {
     "iopub.execute_input": "2023-08-23T22:03:18.845934Z",
     "iopub.status.busy": "2023-08-23T22:03:18.845463Z",
     "iopub.status.idle": "2023-08-23T22:04:45.726725Z",
     "shell.execute_reply": "2023-08-23T22:04:45.725530Z"
    },
    "papermill": {
     "duration": 87.818278,
     "end_time": "2023-08-23T22:04:45.729437",
     "exception": false,
     "start_time": "2023-08-23T22:03:17.911159",
     "status": "completed"
    },
    "tags": []
   },
   "outputs": [
    {
     "name": "stdout",
     "output_type": "stream",
     "text": [
      "Epoch 1/100\n",
      "201/201 [==============================] - 14s 22ms/step - loss: 0.6202 - mse: 0.6202 - val_loss: 0.4783 - val_mse: 0.4783\n",
      "Epoch 2/100\n",
      "201/201 [==============================] - 3s 17ms/step - loss: 0.4813 - mse: 0.4813 - val_loss: 0.4748 - val_mse: 0.4748\n",
      "Epoch 3/100\n",
      "201/201 [==============================] - 3s 17ms/step - loss: 0.4422 - mse: 0.4422 - val_loss: 0.4499 - val_mse: 0.4499\n",
      "Epoch 4/100\n",
      "201/201 [==============================] - 3s 16ms/step - loss: 0.4193 - mse: 0.4193 - val_loss: 0.4837 - val_mse: 0.4837\n",
      "Epoch 5/100\n",
      "201/201 [==============================] - 4s 17ms/step - loss: 0.4063 - mse: 0.4063 - val_loss: 0.4514 - val_mse: 0.4514\n",
      "Epoch 6/100\n",
      "201/201 [==============================] - 4s 21ms/step - loss: 0.3791 - mse: 0.3791 - val_loss: 0.4441 - val_mse: 0.4441\n",
      "Epoch 7/100\n",
      "201/201 [==============================] - 3s 16ms/step - loss: 0.3659 - mse: 0.3659 - val_loss: 0.4434 - val_mse: 0.4434\n",
      "Epoch 8/100\n",
      "201/201 [==============================] - 3s 17ms/step - loss: 0.3619 - mse: 0.3619 - val_loss: 0.4254 - val_mse: 0.4254\n",
      "Epoch 9/100\n",
      "201/201 [==============================] - 3s 16ms/step - loss: 0.3474 - mse: 0.3474 - val_loss: 0.4299 - val_mse: 0.4299\n",
      "Epoch 10/100\n",
      "201/201 [==============================] - 3s 16ms/step - loss: 0.3421 - mse: 0.3421 - val_loss: 0.4236 - val_mse: 0.4236\n",
      "Epoch 11/100\n",
      "201/201 [==============================] - 3s 16ms/step - loss: 0.3383 - mse: 0.3383 - val_loss: 0.4407 - val_mse: 0.4407\n",
      "Epoch 12/100\n",
      "201/201 [==============================] - 3s 16ms/step - loss: 0.3275 - mse: 0.3275 - val_loss: 0.4276 - val_mse: 0.4276\n",
      "Epoch 13/100\n",
      "201/201 [==============================] - 3s 16ms/step - loss: 0.3191 - mse: 0.3191 - val_loss: 0.4333 - val_mse: 0.4333\n",
      "Epoch 14/100\n",
      "201/201 [==============================] - 4s 20ms/step - loss: 0.3113 - mse: 0.3113 - val_loss: 0.4371 - val_mse: 0.4371\n",
      "Epoch 15/100\n",
      "201/201 [==============================] - 4s 19ms/step - loss: 0.3143 - mse: 0.3143 - val_loss: 0.4434 - val_mse: 0.4434\n",
      "Epoch 16/100\n",
      "201/201 [==============================] - 3s 16ms/step - loss: 0.3069 - mse: 0.3069 - val_loss: 0.4459 - val_mse: 0.4459\n",
      "Epoch 17/100\n",
      "201/201 [==============================] - 3s 17ms/step - loss: 0.3066 - mse: 0.3066 - val_loss: 0.4524 - val_mse: 0.4524\n",
      "Epoch 18/100\n",
      "201/201 [==============================] - 3s 16ms/step - loss: 0.3002 - mse: 0.3002 - val_loss: 0.4679 - val_mse: 0.4679\n",
      "Epoch 19/100\n",
      "201/201 [==============================] - 3s 16ms/step - loss: 0.3021 - mse: 0.3021 - val_loss: 0.4508 - val_mse: 0.4508\n",
      "Epoch 20/100\n",
      "201/201 [==============================] - 3s 16ms/step - loss: 0.2997 - mse: 0.2997 - val_loss: 0.4832 - val_mse: 0.4832\n"
     ]
    }
   ],
   "source": [
    "history = model.fit(dataset,validation_data=val_dataset,batch_size=batch_size,epochs=100,callbacks=[early_stopping])"
   ]
  },
  {
   "cell_type": "code",
   "execution_count": 46,
   "id": "9ab71f98",
   "metadata": {
    "execution": {
     "iopub.execute_input": "2023-08-23T22:04:48.017282Z",
     "iopub.status.busy": "2023-08-23T22:04:48.016166Z",
     "iopub.status.idle": "2023-08-23T22:04:48.359294Z",
     "shell.execute_reply": "2023-08-23T22:04:48.358275Z"
    },
    "papermill": {
     "duration": 1.452861,
     "end_time": "2023-08-23T22:04:48.361725",
     "exception": false,
     "start_time": "2023-08-23T22:04:46.908864",
     "status": "completed"
    },
    "tags": []
   },
   "outputs": [
    {
     "data": {
      "image/png": "[encoded data removed]",
      "text/plain": [
       "<Figure size 1000x600 with 1 Axes>"
      ]
     },
     "metadata": {},
     "output_type": "display_data"
    }
   ],
   "source": [
    "import matplotlib.pyplot as plt\n",
    "\n",
    "# Extract learning rates and losses from the training history\n",
    "epochs = range(len(history.history['loss']))\n",
    "losses = history.history['loss']\n",
    "val_losses = history.history['val_loss']\n",
    "\n",
    "plt.figure(figsize=(10, 6))\n",
    "plt.plot(epochs, losses)\n",
    "plt.plot(epochs, val_losses)\n",
    "plt.xlabel('Epoch')\n",
    "plt.ylabel('Loss')\n",
    "plt.title('Loss vs epochs')\n",
    "plt.grid(True)\n",
    "plt.show()"
   ]
  },
  {
   "cell_type": "code",
   "execution_count": 47,
   "id": "da2fa1bb",
   "metadata": {
    "execution": {
     "iopub.execute_input": "2023-08-23T22:04:50.457645Z",
     "iopub.status.busy": "2023-08-23T22:04:50.457237Z",
     "iopub.status.idle": "2023-08-23T22:04:50.497167Z",
     "shell.execute_reply": "2023-08-23T22:04:50.496073Z"
    },
    "papermill": {
     "duration": 1.04384,
     "end_time": "2023-08-23T22:04:50.499850",
     "exception": false,
     "start_time": "2023-08-23T22:04:49.456010",
     "status": "completed"
    },
    "tags": []
   },
   "outputs": [],
   "source": [
    "val_dataset = tf.data.Dataset.from_tensor_slices((X_test,y_test))\n",
    "val_dataset = val_dataset.map(expand_dims,num_parallel_calls=tf.data.AUTOTUNE,deterministic=False)\n",
    "val_dataset = val_dataset.cache()\n",
    "val_dataset = val_dataset.batch(batch_size=1, drop_remainder=True, num_parallel_calls=tf.data.AUTOTUNE)\n",
    "val_dataset = val_dataset.prefetch(tf.data.AUTOTUNE)"
   ]
  },
  {
   "cell_type": "code",
   "execution_count": 48,
   "id": "04267280",
   "metadata": {
    "execution": {
     "iopub.execute_input": "2023-08-23T22:04:52.641090Z",
     "iopub.status.busy": "2023-08-23T22:04:52.640550Z",
     "iopub.status.idle": "2023-08-23T22:04:52.648468Z",
     "shell.execute_reply": "2023-08-23T22:04:52.646791Z"
    },
    "papermill": {
     "duration": 1.017139,
     "end_time": "2023-08-23T22:04:52.650976",
     "exception": false,
     "start_time": "2023-08-23T22:04:51.633837",
     "status": "completed"
    },
    "tags": []
   },
   "outputs": [
    {
     "data": {
      "text/plain": [
       "({'input_features': TensorSpec(shape=(1, 1, 2232), dtype=tf.float32, name=None)},\n",
       " TensorSpec(shape=(1, 2), dtype=tf.float32, name=None))"
      ]
     },
     "execution_count": 48,
     "metadata": {},
     "output_type": "execute_result"
    }
   ],
   "source": [
    "val_dataset.element_spec"
   ]
  },
  {
   "cell_type": "code",
   "execution_count": 49,
   "id": "7ab074ff",
   "metadata": {
    "execution": {
     "iopub.execute_input": "2023-08-23T22:04:54.738733Z",
     "iopub.status.busy": "2023-08-23T22:04:54.738296Z",
     "iopub.status.idle": "2023-08-23T22:04:59.550457Z",
     "shell.execute_reply": "2023-08-23T22:04:59.549311Z"
    },
    "papermill": {
     "duration": 5.813215,
     "end_time": "2023-08-23T22:04:59.553223",
     "exception": false,
     "start_time": "2023-08-23T22:04:53.740008",
     "status": "completed"
    },
    "tags": []
   },
   "outputs": [
    {
     "name": "stdout",
     "output_type": "stream",
     "text": [
      "717/717 [==============================] - 4s 5ms/step\n"
     ]
    }
   ],
   "source": [
    "preds = model.predict(val_dataset)"
   ]
  },
  {
   "cell_type": "code",
   "execution_count": 50,
   "id": "a36b7feb",
   "metadata": {
    "execution": {
     "iopub.execute_input": "2023-08-23T22:05:01.745080Z",
     "iopub.status.busy": "2023-08-23T22:05:01.744691Z",
     "iopub.status.idle": "2023-08-23T22:05:01.751933Z",
     "shell.execute_reply": "2023-08-23T22:05:01.750747Z"
    },
    "papermill": {
     "duration": 1.085334,
     "end_time": "2023-08-23T22:05:01.755730",
     "exception": false,
     "start_time": "2023-08-23T22:05:00.670396",
     "status": "completed"
    },
    "tags": []
   },
   "outputs": [
    {
     "data": {
      "text/plain": [
       "((717, 2), (717, 2))"
      ]
     },
     "execution_count": 50,
     "metadata": {},
     "output_type": "execute_result"
    }
   ],
   "source": [
    "preds.shape, y_test.shape"
   ]
  },
  {
   "cell_type": "code",
   "execution_count": 51,
   "id": "0487ed2c",
   "metadata": {
    "execution": {
     "iopub.execute_input": "2023-08-23T22:05:03.827150Z",
     "iopub.status.busy": "2023-08-23T22:05:03.826774Z",
     "iopub.status.idle": "2023-08-23T22:05:03.832241Z",
     "shell.execute_reply": "2023-08-23T22:05:03.831176Z"
    },
    "papermill": {
     "duration": 1.005801,
     "end_time": "2023-08-23T22:05:03.834404",
     "exception": false,
     "start_time": "2023-08-23T22:05:02.828603",
     "status": "completed"
    },
    "tags": []
   },
   "outputs": [],
   "source": [
    "def mcrmse(y_true, y_pred):\n",
    "    return np.mean(np.sqrt(np.mean((y_true - y_pred)**2, axis=0)))"
   ]
  },
  {
   "cell_type": "code",
   "execution_count": 52,
   "id": "ce771c2f",
   "metadata": {
    "execution": {
     "iopub.execute_input": "2023-08-23T22:05:05.912190Z",
     "iopub.status.busy": "2023-08-23T22:05:05.911649Z",
     "iopub.status.idle": "2023-08-23T22:05:05.921172Z",
     "shell.execute_reply": "2023-08-23T22:05:05.919712Z"
    },
    "papermill": {
     "duration": 1.016002,
     "end_time": "2023-08-23T22:05:05.923424",
     "exception": false,
     "start_time": "2023-08-23T22:05:04.907422",
     "status": "completed"
    },
    "tags": []
   },
   "outputs": [
    {
     "data": {
      "text/plain": [
       "0.6477989762828649"
      ]
     },
     "execution_count": 52,
     "metadata": {},
     "output_type": "execute_result"
    }
   ],
   "source": [
    "mcrmse(y_test,preds)"
   ]
  },
  {
   "cell_type": "code",
   "execution_count": 53,
   "id": "e0bb012b",
   "metadata": {
    "execution": {
     "iopub.execute_input": "2023-08-23T22:05:08.014549Z",
     "iopub.status.busy": "2023-08-23T22:05:08.014166Z",
     "iopub.status.idle": "2023-08-23T22:05:08.021356Z",
     "shell.execute_reply": "2023-08-23T22:05:08.020285Z"
    },
    "papermill": {
     "duration": 1.032943,
     "end_time": "2023-08-23T22:05:08.023852",
     "exception": false,
     "start_time": "2023-08-23T22:05:06.990909",
     "status": "completed"
    },
    "tags": []
   },
   "outputs": [
    {
     "data": {
      "text/plain": [
       "array([[-1.54716322, -1.46124482],\n",
       "       [-0.67625932,  0.67095592],\n",
       "       [ 0.0506886 ,  0.26016476],\n",
       "       ...,\n",
       "       [ 2.01708873,  0.16101947],\n",
       "       [ 0.37637387,  0.4636186 ],\n",
       "       [ 1.23709928,  1.42180174]])"
      ]
     },
     "execution_count": 53,
     "metadata": {},
     "output_type": "execute_result"
    }
   ],
   "source": [
    "y_test"
   ]
  },
  {
   "cell_type": "code",
   "execution_count": 54,
   "id": "7239a973",
   "metadata": {
    "execution": {
     "iopub.execute_input": "2023-08-23T22:05:10.137863Z",
     "iopub.status.busy": "2023-08-23T22:05:10.137461Z",
     "iopub.status.idle": "2023-08-23T22:05:10.142968Z",
     "shell.execute_reply": "2023-08-23T22:05:10.141927Z"
    },
    "papermill": {
     "duration": 0.995515,
     "end_time": "2023-08-23T22:05:10.145231",
     "exception": false,
     "start_time": "2023-08-23T22:05:09.149716",
     "status": "completed"
    },
    "tags": []
   },
   "outputs": [],
   "source": [
    "mcrmse_scorer = make_scorer(mcrmse, greater_is_better=False)\n",
    "model_rf = MultiOutputRegressor(RandomForestRegressor(n_estimators=500,criterion='squared_error',max_features=0.8,max_depth=8,random_state=11),n_jobs=-1)"
   ]
  },
  {
   "cell_type": "code",
   "execution_count": 55,
   "id": "27e3eb63",
   "metadata": {
    "execution": {
     "iopub.execute_input": "2023-08-23T22:05:12.294524Z",
     "iopub.status.busy": "2023-08-23T22:05:12.294154Z",
     "iopub.status.idle": "2023-08-23T23:10:49.434769Z",
     "shell.execute_reply": "2023-08-23T23:10:49.433617Z"
    },
    "papermill": {
     "duration": 3939.145788,
     "end_time": "2023-08-23T23:10:50.377709",
     "exception": false,
     "start_time": "2023-08-23T22:05:11.231921",
     "status": "completed"
    },
    "tags": []
   },
   "outputs": [
    {
     "name": "stderr",
     "output_type": "stream",
     "text": [
      "/opt/conda/lib/python3.10/site-packages/scipy/__init__.py:146: UserWarning: A NumPy version >=1.16.5 and <1.23.0 is required for this version of SciPy (detected version 1.23.5\n",
      "  warnings.warn(f\"A NumPy version >={np_minversion} and <{np_maxversion}\"\n",
      "/opt/conda/lib/python3.10/site-packages/scipy/__init__.py:146: UserWarning: A NumPy version >=1.16.5 and <1.23.0 is required for this version of SciPy (detected version 1.23.5\n",
      "  warnings.warn(f\"A NumPy version >={np_minversion} and <{np_maxversion}\"\n"
     ]
    },
    {
     "data": {
      "text/html": [
       "<style>#sk-container-id-1 {color: black;background-color: white;}#sk-container-id-1 pre{padding: 0;}#sk-container-id-1 div.sk-toggleable {background-color: white;}#sk-container-id-1 label.sk-toggleable__label {cursor: pointer;display: block;width: 100%;margin-bottom: 0;padding: 0.3em;box-sizing: border-box;text-align: center;}#sk-container-id-1 label.sk-toggleable__label-arrow:before {content: \"▸\";float: left;margin-right: 0.25em;color: #696969;}#sk-container-id-1 label.sk-toggleable__label-arrow:hover:before {color: black;}#sk-container-id-1 div.sk-estimator:hover label.sk-toggleable__label-arrow:before {color: black;}#sk-container-id-1 div.sk-toggleable__content {max-height: 0;max-width: 0;overflow: hidden;text-align: left;background-color: #f0f8ff;}#sk-container-id-1 div.sk-toggleable__content pre {margin: 0.2em;color: black;border-radius: 0.25em;background-color: #f0f8ff;}#sk-container-id-1 input.sk-toggleable__control:checked~div.sk-toggleable__content {max-height: 200px;max-width: 100%;overflow: auto;}#sk-container-id-1 input.sk-toggleable__control:checked~label.sk-toggleable__label-arrow:before {content: \"▾\";}#sk-container-id-1 div.sk-estimator input.sk-toggleable__control:checked~label.sk-toggleable__label {background-color: #d4ebff;}#sk-container-id-1 div.sk-label input.sk-toggleable__control:checked~label.sk-toggleable__label {background-color: #d4ebff;}#sk-container-id-1 input.sk-hidden--visually {border: 0;clip: rect(1px 1px 1px 1px);clip: rect(1px, 1px, 1px, 1px);height: 1px;margin: -1px;overflow: hidden;padding: 0;position: absolute;width: 1px;}#sk-container-id-1 div.sk-estimator {font-family: monospace;background-color: #f0f8ff;border: 1px dotted black;border-radius: 0.25em;box-sizing: border-box;margin-bottom: 0.5em;}#sk-container-id-1 div.sk-estimator:hover {background-color: #d4ebff;}#sk-container-id-1 div.sk-parallel-item::after {content: \"\";width: 100%;border-bottom: 1px solid gray;flex-grow: 1;}#sk-container-id-1 div.sk-label:hover label.sk-toggleable__label {background-color: #d4ebff;}#sk-container-id-1 div.sk-serial::before {content: \"\";position: absolute;border-left: 1px solid gray;box-sizing: border-box;top: 0;bottom: 0;left: 50%;z-index: 0;}#sk-container-id-1 div.sk-serial {display: flex;flex-direction: column;align-items: center;background-color: white;padding-right: 0.2em;padding-left: 0.2em;position: relative;}#sk-container-id-1 div.sk-item {position: relative;z-index: 1;}#sk-container-id-1 div.sk-parallel {display: flex;align-items: stretch;justify-content: center;background-color: white;position: relative;}#sk-container-id-1 div.sk-item::before, #sk-container-id-1 div.sk-parallel-item::before {content: \"\";position: absolute;border-left: 1px solid gray;box-sizing: border-box;top: 0;bottom: 0;left: 50%;z-index: -1;}#sk-container-id-1 div.sk-parallel-item {display: flex;flex-direction: column;z-index: 1;position: relative;background-color: white;}#sk-container-id-1 div.sk-parallel-item:first-child::after {align-self: flex-end;width: 50%;}#sk-container-id-1 div.sk-parallel-item:last-child::after {align-self: flex-start;width: 50%;}#sk-container-id-1 div.sk-parallel-item:only-child::after {width: 0;}#sk-container-id-1 div.sk-dashed-wrapped {border: 1px dashed gray;margin: 0 0.4em 0.5em 0.4em;box-sizing: border-box;padding-bottom: 0.4em;background-color: white;}#sk-container-id-1 div.sk-label label {font-family: monospace;font-weight: bold;display: inline-block;line-height: 1.2em;}#sk-container-id-1 div.sk-label-container {text-align: center;}#sk-container-id-1 div.sk-container {/* jupyter's `normalize.less` sets `[hidden] { display: none; }` but bootstrap.min.css set `[hidden] { display: none !important; }` so we also need the `!important` here to be able to override the default hidden behavior on the sphinx rendered scikit-learn.org. See: https://github.com/scikit-learn/scikit-learn/issues/21755 */display: inline-block !important;position: relative;}#sk-container-id-1 div.sk-text-repr-fallback {display: none;}</style><div id=\"sk-container-id-1\" class=\"sk-top-container\"><div class=\"sk-text-repr-fallback\"><pre>MultiOutputRegressor(estimator=RandomForestRegressor(max_depth=8,\n",
       "                                                     max_features=0.8,\n",
       "                                                     n_estimators=500,\n",
       "                                                     random_state=11),\n",
       "                     n_jobs=-1)</pre><b>In a Jupyter environment, please rerun this cell to show the HTML representation or trust the notebook. <br />On GitHub, the HTML representation is unable to render, please try loading this page with nbviewer.org.</b></div><div class=\"sk-container\" hidden><div class=\"sk-item sk-dashed-wrapped\"><div class=\"sk-label-container\"><div class=\"sk-label sk-toggleable\"><input class=\"sk-toggleable__control sk-hidden--visually\" id=\"sk-estimator-id-1\" type=\"checkbox\" ><label for=\"sk-estimator-id-1\" class=\"sk-toggleable__label sk-toggleable__label-arrow\">MultiOutputRegressor</label><div class=\"sk-toggleable__content\"><pre>MultiOutputRegressor(estimator=RandomForestRegressor(max_depth=8,\n",
       "                                                     max_features=0.8,\n",
       "                                                     n_estimators=500,\n",
       "                                                     random_state=11),\n",
       "                     n_jobs=-1)</pre></div></div></div><div class=\"sk-parallel\"><div class=\"sk-parallel-item\"><div class=\"sk-item\"><div class=\"sk-label-container\"><div class=\"sk-label sk-toggleable\"><input class=\"sk-toggleable__control sk-hidden--visually\" id=\"sk-estimator-id-2\" type=\"checkbox\" ><label for=\"sk-estimator-id-2\" class=\"sk-toggleable__label sk-toggleable__label-arrow\">estimator: RandomForestRegressor</label><div class=\"sk-toggleable__content\"><pre>RandomForestRegressor(max_depth=8, max_features=0.8, n_estimators=500,\n",
       "                      random_state=11)</pre></div></div></div><div class=\"sk-serial\"><div class=\"sk-item\"><div class=\"sk-estimator sk-toggleable\"><input class=\"sk-toggleable__control sk-hidden--visually\" id=\"sk-estimator-id-3\" type=\"checkbox\" ><label for=\"sk-estimator-id-3\" class=\"sk-toggleable__label sk-toggleable__label-arrow\">RandomForestRegressor</label><div class=\"sk-toggleable__content\"><pre>RandomForestRegressor(max_depth=8, max_features=0.8, n_estimators=500,\n",
       "                      random_state=11)</pre></div></div></div></div></div></div></div></div></div></div>"
      ],
      "text/plain": [
       "MultiOutputRegressor(estimator=RandomForestRegressor(max_depth=8,\n",
       "                                                     max_features=0.8,\n",
       "                                                     n_estimators=500,\n",
       "                                                     random_state=11),\n",
       "                     n_jobs=-1)"
      ]
     },
     "execution_count": 55,
     "metadata": {},
     "output_type": "execute_result"
    }
   ],
   "source": [
    "model_rf.fit(X_train,y_train)"
   ]
  },
  {
   "cell_type": "code",
   "execution_count": 56,
   "id": "951be935",
   "metadata": {
    "execution": {
     "iopub.execute_input": "2023-08-23T23:10:52.387498Z",
     "iopub.status.busy": "2023-08-23T23:10:52.387096Z",
     "iopub.status.idle": "2023-08-23T23:10:52.394068Z",
     "shell.execute_reply": "2023-08-23T23:10:52.393156Z"
    },
    "papermill": {
     "duration": 0.955918,
     "end_time": "2023-08-23T23:10:52.396707",
     "exception": false,
     "start_time": "2023-08-23T23:10:51.440789",
     "status": "completed"
    },
    "tags": []
   },
   "outputs": [
    {
     "data": {
      "text/plain": [
       "<keras.engine.sequential.Sequential at 0x7e932a5ea770>"
      ]
     },
     "execution_count": 56,
     "metadata": {},
     "output_type": "execute_result"
    }
   ],
   "source": [
    "model"
   ]
  },
  {
   "cell_type": "code",
   "execution_count": 57,
   "id": "fbbf3d38",
   "metadata": {
    "execution": {
     "iopub.execute_input": "2023-08-23T23:10:54.408841Z",
     "iopub.status.busy": "2023-08-23T23:10:54.408442Z",
     "iopub.status.idle": "2023-08-23T23:10:54.413799Z",
     "shell.execute_reply": "2023-08-23T23:10:54.412849Z"
    },
    "papermill": {
     "duration": 0.99591,
     "end_time": "2023-08-23T23:10:54.416190",
     "exception": false,
     "start_time": "2023-08-23T23:10:53.420280",
     "status": "completed"
    },
    "tags": []
   },
   "outputs": [
    {
     "name": "stdout",
     "output_type": "stream",
     "text": [
      "hello\n"
     ]
    }
   ],
   "source": [
    "print('hello')"
   ]
  },
  {
   "cell_type": "code",
   "execution_count": null,
   "id": "d9681ad0",
   "metadata": {
    "papermill": {
     "duration": 1.025065,
     "end_time": "2023-08-23T23:10:56.406416",
     "exception": false,
     "start_time": "2023-08-23T23:10:55.381351",
     "status": "completed"
    },
    "tags": []
   },
   "outputs": [],
   "source": []
  }
 ],
 "metadata": {
  "kernelspec": {
   "display_name": "Python 3",
   "language": "python",
   "name": "python3"
  },
  "language_info": {
   "codemirror_mode": {
    "name": "ipython",
    "version": 3
   },
   "file_extension": ".py",
   "mimetype": "text/x-python",
   "name": "python",
   "nbconvert_exporter": "python",
   "pygments_lexer": "ipython3",
   "version": "3.10.12"
  },
  "papermill": {
   "default_parameters": {},
   "duration": 6837.031142,
   "end_time": "2023-08-23T23:11:00.286992",
   "environment_variables": {},
   "exception": null,
   "input_path": "__notebook__.ipynb",
   "output_path": "__notebook__.ipynb",
   "parameters": {},
   "start_time": "2023-08-23T21:17:03.255850",
   "version": "2.4.0"
  }
 },
 "nbformat": 4,
 "nbformat_minor": 5
}
