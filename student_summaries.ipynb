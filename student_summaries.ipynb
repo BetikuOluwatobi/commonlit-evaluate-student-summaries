{
 "cells": [
  {
   "cell_type": "code",
   "execution_count": 1,
   "id": "99f3453b",
   "metadata": {
    "_cell_guid": "b1076dfc-b9ad-4769-8c92-a6c4dae69d19",
    "_uuid": "8f2839f25d086af736a60e9eeb907d3b93b6e0e5",
    "execution": {
     "iopub.execute_input": "2023-08-21T17:29:52.797238Z",
     "iopub.status.busy": "2023-08-21T17:29:52.796760Z",
     "iopub.status.idle": "2023-08-21T17:29:52.814345Z",
     "shell.execute_reply": "2023-08-21T17:29:52.813100Z"
    },
    "papermill": {
     "duration": 0.04237,
     "end_time": "2023-08-21T17:29:52.817521",
     "exception": false,
     "start_time": "2023-08-21T17:29:52.775151",
     "status": "completed"
    },
    "tags": []
   },
   "outputs": [
    {
     "name": "stdout",
     "output_type": "stream",
     "text": [
      "/kaggle/input/commonlit-evaluate-student-summaries/sample_submission.csv\n",
      "/kaggle/input/commonlit-evaluate-student-summaries/prompts_train.csv\n",
      "/kaggle/input/commonlit-evaluate-student-summaries/summaries_test.csv\n",
      "/kaggle/input/commonlit-evaluate-student-summaries/summaries_train.csv\n",
      "/kaggle/input/commonlit-evaluate-student-summaries/prompts_test.csv\n"
     ]
    }
   ],
   "source": [
    "# This Python 3 environment comes with many helpful analytics libraries installed\n",
    "# It is defined by the kaggle/python Docker image: https://github.com/kaggle/docker-python\n",
    "# For example, here's several helpful packages to load\n",
    "\n",
    "import numpy as np # linear algebra\n",
    "import pandas as pd # data processing, CSV file I/O (e.g. pd.read_csv)\n",
    "\n",
    "# Input data files are available in the read-only \"../input/\" directory\n",
    "# For example, running this (by clicking run or pressing Shift+Enter) will list all files under the input directory\n",
    "\n",
    "import os\n",
    "for dirname, _, filenames in os.walk('/kaggle/input'):\n",
    "    for filename in filenames:\n",
    "        print(os.path.join(dirname, filename))\n",
    "\n",
    "# You can write up to 20GB to the current directory (/kaggle/working/) that gets preserved as output when you create a version using \"Save & Run All\" \n",
    "# You can also write temporary files to /kaggle/temp/, but they won't be saved outside of the current session"
   ]
  },
  {
   "cell_type": "markdown",
   "id": "b4eba630",
   "metadata": {
    "papermill": {
     "duration": 0.018442,
     "end_time": "2023-08-21T17:29:52.855136",
     "exception": false,
     "start_time": "2023-08-21T17:29:52.836694",
     "status": "completed"
    },
    "tags": []
   },
   "source": [
    "## Let's load the training data"
   ]
  },
  {
   "cell_type": "code",
   "execution_count": 2,
   "id": "72426304",
   "metadata": {
    "execution": {
     "iopub.execute_input": "2023-08-21T17:29:52.898805Z",
     "iopub.status.busy": "2023-08-21T17:29:52.897289Z",
     "iopub.status.idle": "2023-08-21T17:29:53.098500Z",
     "shell.execute_reply": "2023-08-21T17:29:53.096929Z"
    },
    "papermill": {
     "duration": 0.225768,
     "end_time": "2023-08-21T17:29:53.101904",
     "exception": false,
     "start_time": "2023-08-21T17:29:52.876136",
     "status": "completed"
    },
    "tags": []
   },
   "outputs": [],
   "source": [
    "summary_df = pd.read_csv('/kaggle/input/commonlit-evaluate-student-summaries/summaries_train.csv')\n",
    "prompt_df = pd.read_csv('/kaggle/input/commonlit-evaluate-student-summaries/prompts_train.csv')"
   ]
  },
  {
   "cell_type": "markdown",
   "id": "20236224",
   "metadata": {
    "papermill": {
     "duration": 0.01875,
     "end_time": "2023-08-21T17:29:53.139944",
     "exception": false,
     "start_time": "2023-08-21T17:29:53.121194",
     "status": "completed"
    },
    "tags": []
   },
   "source": [
    "## Check dataframe description"
   ]
  },
  {
   "cell_type": "code",
   "execution_count": 3,
   "id": "e30cf8e8",
   "metadata": {
    "execution": {
     "iopub.execute_input": "2023-08-21T17:29:53.181220Z",
     "iopub.status.busy": "2023-08-21T17:29:53.180730Z",
     "iopub.status.idle": "2023-08-21T17:29:53.229321Z",
     "shell.execute_reply": "2023-08-21T17:29:53.227892Z"
    },
    "papermill": {
     "duration": 0.073219,
     "end_time": "2023-08-21T17:29:53.232497",
     "exception": false,
     "start_time": "2023-08-21T17:29:53.159278",
     "status": "completed"
    },
    "tags": []
   },
   "outputs": [
    {
     "name": "stdout",
     "output_type": "stream",
     "text": [
      "<class 'pandas.core.frame.DataFrame'>\n",
      "RangeIndex: 7165 entries, 0 to 7164\n",
      "Data columns (total 5 columns):\n",
      " #   Column      Non-Null Count  Dtype  \n",
      "---  ------      --------------  -----  \n",
      " 0   student_id  7165 non-null   object \n",
      " 1   prompt_id   7165 non-null   object \n",
      " 2   text        7165 non-null   object \n",
      " 3   content     7165 non-null   float64\n",
      " 4   wording     7165 non-null   float64\n",
      "dtypes: float64(2), object(3)\n",
      "memory usage: 280.0+ KB\n"
     ]
    }
   ],
   "source": [
    "summary_df.info()"
   ]
  },
  {
   "cell_type": "code",
   "execution_count": 4,
   "id": "89a80996",
   "metadata": {
    "execution": {
     "iopub.execute_input": "2023-08-21T17:29:53.277070Z",
     "iopub.status.busy": "2023-08-21T17:29:53.276600Z",
     "iopub.status.idle": "2023-08-21T17:29:53.291435Z",
     "shell.execute_reply": "2023-08-21T17:29:53.289851Z"
    },
    "papermill": {
     "duration": 0.041769,
     "end_time": "2023-08-21T17:29:53.295222",
     "exception": false,
     "start_time": "2023-08-21T17:29:53.253453",
     "status": "completed"
    },
    "tags": []
   },
   "outputs": [
    {
     "name": "stdout",
     "output_type": "stream",
     "text": [
      "<class 'pandas.core.frame.DataFrame'>\n",
      "RangeIndex: 4 entries, 0 to 3\n",
      "Data columns (total 4 columns):\n",
      " #   Column           Non-Null Count  Dtype \n",
      "---  ------           --------------  ----- \n",
      " 0   prompt_id        4 non-null      object\n",
      " 1   prompt_question  4 non-null      object\n",
      " 2   prompt_title     4 non-null      object\n",
      " 3   prompt_text      4 non-null      object\n",
      "dtypes: object(4)\n",
      "memory usage: 256.0+ bytes\n"
     ]
    }
   ],
   "source": [
    "prompt_df.info()"
   ]
  },
  {
   "cell_type": "markdown",
   "id": "3b72b874",
   "metadata": {
    "papermill": {
     "duration": 0.019619,
     "end_time": "2023-08-21T17:29:53.335218",
     "exception": false,
     "start_time": "2023-08-21T17:29:53.315599",
     "status": "completed"
    },
    "tags": []
   },
   "source": [
    "## Primary key to combine dataframe on"
   ]
  },
  {
   "cell_type": "code",
   "execution_count": 5,
   "id": "f371724e",
   "metadata": {
    "execution": {
     "iopub.execute_input": "2023-08-21T17:29:53.377064Z",
     "iopub.status.busy": "2023-08-21T17:29:53.376484Z",
     "iopub.status.idle": "2023-08-21T17:29:53.387304Z",
     "shell.execute_reply": "2023-08-21T17:29:53.385736Z"
    },
    "papermill": {
     "duration": 0.035636,
     "end_time": "2023-08-21T17:29:53.390186",
     "exception": false,
     "start_time": "2023-08-21T17:29:53.354550",
     "status": "completed"
    },
    "tags": []
   },
   "outputs": [
    {
     "data": {
      "text/plain": [
       "array(['39c16e', '3b9047', '814d6b', 'ebad26'], dtype=object)"
      ]
     },
     "execution_count": 5,
     "metadata": {},
     "output_type": "execute_result"
    }
   ],
   "source": [
    "prompt_df['prompt_id'].unique()"
   ]
  },
  {
   "cell_type": "code",
   "execution_count": 6,
   "id": "bcd3e206",
   "metadata": {
    "execution": {
     "iopub.execute_input": "2023-08-21T17:29:53.431716Z",
     "iopub.status.busy": "2023-08-21T17:29:53.431203Z",
     "iopub.status.idle": "2023-08-21T17:29:53.441373Z",
     "shell.execute_reply": "2023-08-21T17:29:53.439991Z"
    },
    "papermill": {
     "duration": 0.034266,
     "end_time": "2023-08-21T17:29:53.443893",
     "exception": false,
     "start_time": "2023-08-21T17:29:53.409627",
     "status": "completed"
    },
    "tags": []
   },
   "outputs": [
    {
     "data": {
      "text/plain": [
       "array(['814d6b', 'ebad26', '3b9047', '39c16e'], dtype=object)"
      ]
     },
     "execution_count": 6,
     "metadata": {},
     "output_type": "execute_result"
    }
   ],
   "source": [
    "summary_df['prompt_id'].unique()"
   ]
  },
  {
   "cell_type": "markdown",
   "id": "a8074ca1",
   "metadata": {
    "papermill": {
     "duration": 0.019249,
     "end_time": "2023-08-21T17:29:53.482729",
     "exception": false,
     "start_time": "2023-08-21T17:29:53.463480",
     "status": "completed"
    },
    "tags": []
   },
   "source": [
    "## Merge dataframe based on primary key into one"
   ]
  },
  {
   "cell_type": "code",
   "execution_count": 7,
   "id": "b39ac622",
   "metadata": {
    "execution": {
     "iopub.execute_input": "2023-08-21T17:29:53.525221Z",
     "iopub.status.busy": "2023-08-21T17:29:53.524269Z",
     "iopub.status.idle": "2023-08-21T17:29:53.545601Z",
     "shell.execute_reply": "2023-08-21T17:29:53.544080Z"
    },
    "papermill": {
     "duration": 0.046356,
     "end_time": "2023-08-21T17:29:53.548879",
     "exception": false,
     "start_time": "2023-08-21T17:29:53.502523",
     "status": "completed"
    },
    "tags": []
   },
   "outputs": [],
   "source": [
    "train_df = summary_df.merge(right=prompt_df,how='inner', on='prompt_id')"
   ]
  },
  {
   "cell_type": "code",
   "execution_count": 8,
   "id": "910c13b0",
   "metadata": {
    "execution": {
     "iopub.execute_input": "2023-08-21T17:29:53.590402Z",
     "iopub.status.busy": "2023-08-21T17:29:53.589868Z",
     "iopub.status.idle": "2023-08-21T17:29:53.625483Z",
     "shell.execute_reply": "2023-08-21T17:29:53.623774Z"
    },
    "papermill": {
     "duration": 0.060462,
     "end_time": "2023-08-21T17:29:53.628956",
     "exception": false,
     "start_time": "2023-08-21T17:29:53.568494",
     "status": "completed"
    },
    "tags": []
   },
   "outputs": [
    {
     "name": "stdout",
     "output_type": "stream",
     "text": [
      "<class 'pandas.core.frame.DataFrame'>\n",
      "Int64Index: 7165 entries, 0 to 7164\n",
      "Data columns (total 8 columns):\n",
      " #   Column           Non-Null Count  Dtype  \n",
      "---  ------           --------------  -----  \n",
      " 0   student_id       7165 non-null   object \n",
      " 1   prompt_id        7165 non-null   object \n",
      " 2   text             7165 non-null   object \n",
      " 3   content          7165 non-null   float64\n",
      " 4   wording          7165 non-null   float64\n",
      " 5   prompt_question  7165 non-null   object \n",
      " 6   prompt_title     7165 non-null   object \n",
      " 7   prompt_text      7165 non-null   object \n",
      "dtypes: float64(2), object(6)\n",
      "memory usage: 503.8+ KB\n"
     ]
    }
   ],
   "source": [
    "train_df.info()"
   ]
  },
  {
   "cell_type": "markdown",
   "id": "9c338aad",
   "metadata": {
    "papermill": {
     "duration": 0.019982,
     "end_time": "2023-08-21T17:29:53.669088",
     "exception": false,
     "start_time": "2023-08-21T17:29:53.649106",
     "status": "completed"
    },
    "tags": []
   },
   "source": [
    "### Let's perform a little exploratory analysis on the data to see what samples looks like"
   ]
  },
  {
   "cell_type": "code",
   "execution_count": 9,
   "id": "3f99a38a",
   "metadata": {
    "execution": {
     "iopub.execute_input": "2023-08-21T17:29:53.712330Z",
     "iopub.status.busy": "2023-08-21T17:29:53.711762Z",
     "iopub.status.idle": "2023-08-21T17:29:53.720549Z",
     "shell.execute_reply": "2023-08-21T17:29:53.719269Z"
    },
    "papermill": {
     "duration": 0.033217,
     "end_time": "2023-08-21T17:29:53.723466",
     "exception": false,
     "start_time": "2023-08-21T17:29:53.690249",
     "status": "completed"
    },
    "tags": []
   },
   "outputs": [
    {
     "name": "stdout",
     "output_type": "stream",
     "text": [
      "Question: Summarize how the Third Wave developed over such a short period of time and why the experiment was ended. \n",
      " \n",
      "Title: The Third Wave \n",
      "\n",
      "Text: Background \r\n",
      "The Third Wave experiment took place at Cubberley High School in Palo Alto, California during the first week of April 1967. History teacher Ron Jones, finding himself unable to explain to his students how people throughout history followed the crowd even when terrible things were happening, decided to demonstrate it to his students through an experiment. Jones announced that he was starting a movement aimed to eliminate democracy. Jones named the movement “The Third Wave” as a symbol of strength, referring to the mythical belief that the third in a series of waves is the strongest. One of the central points of this movement was that democracy’s main weakness is that it favors the individual over the whole community. Jones emphasized this main point of the movement when he created this catchy motto: “Strength through discipline, strength through community, strength through action, strength through pride.” \r\n",
      "The Experiment \r\n",
      "Jones started the first day of the experiment emphasizing simple things like proper seating, and drilled the students extensively until they got it right. He then proceeded to enforce strict classroom discipline by emerging as an authoritarian figure. This resulted in dramatic improvements to the efficiency, or orderliness, of the class.  The first day’s session ended with only a few rules. Jones intended it to be a one-day experiment. Students had to be sitting at attention before the second bell, had to stand up to ask or answer questions and had to do it in three words or fewer, and were required to preface each remark with “Mr. Jones.” As the week went on, Jones’ class transformed into a group with a supreme sense of discipline and community. Jones made up a salute resembling that of the Nazi regime and ordered class members to salute each other even outside the class. They all obeyed this command. \r\n",
      "After only three days, the experiment took on a life of its own, with students from all over the school joining in. The class expanded from initial 30 students to 43 attendees. All of the students showed drastic improvement in their academic skills and tremendous motivation. All of the students were issued a member card and each of them received a special assignment, like designing a Third Wave Banner, stopping non-members from entering the class, or other tasks to bring honor to the movement. Jones instructed the students on how to initiate new members, and by the end of the day the movement had over 200 participants. Jones was surprised that some of the students started reporting to him when other members of the movement failed to abide by the rules. \r\n",
      "By the fourth day of the experiment, the students became increasingly involved in the project and their discipline and loyalty to the project was so outstanding that Jones felt it was slipping out of control. He decided to terminate the movement, so he lied to students by announcing that the Third Wave was a part of a nationwide movement and that on the next day a presidential candidate of the movement would publicly announce its existence on television. Jones ordered students to attend a noon rally on Friday to witness the announcement. \r\n",
      "At the end of the week, instead of a televised address of their leader, the students were presented with a blank channel. After a few minutes of waiting, Jones announced that they had been a part of an experiment to demonstrate how people willingly create a sense of superiority over others, and how this can lead people to justify doing horrible things in the name of the state’s honor.\n"
     ]
    }
   ],
   "source": [
    "print('''Question: %s \\n \n",
    "Title: %s \\n\n",
    "Text: %s'''%(train_df.iloc[1]['prompt_question'],train_df.iloc[1]['prompt_title'],train_df.iloc[1]['prompt_text']))"
   ]
  },
  {
   "cell_type": "markdown",
   "id": "a7fcb025",
   "metadata": {
    "papermill": {
     "duration": 0.019763,
     "end_time": "2023-08-21T17:29:53.763476",
     "exception": false,
     "start_time": "2023-08-21T17:29:53.743713",
     "status": "completed"
    },
    "tags": []
   },
   "source": [
    "### Let's check what the student summary looks like"
   ]
  },
  {
   "cell_type": "code",
   "execution_count": 10,
   "id": "a8ca77f3",
   "metadata": {
    "execution": {
     "iopub.execute_input": "2023-08-21T17:29:53.806724Z",
     "iopub.status.busy": "2023-08-21T17:29:53.806111Z",
     "iopub.status.idle": "2023-08-21T17:29:53.816218Z",
     "shell.execute_reply": "2023-08-21T17:29:53.814402Z"
    },
    "papermill": {
     "duration": 0.035948,
     "end_time": "2023-08-21T17:29:53.819409",
     "exception": false,
     "start_time": "2023-08-21T17:29:53.783461",
     "status": "completed"
    },
    "tags": []
   },
   "outputs": [
    {
     "name": "stdout",
     "output_type": "stream",
     "text": [
      "('Question: Summarize how the Third Wave developed over such a short period of '\n",
      " 'time and why the experiment was ended.\\n'\n",
      " 'Summary: The third wave was an experimentto see how people reacted to a new '\n",
      " 'one leader government. It gained popularity as people wanted to try new '\n",
      " 'things. The students follow anything that is said and start turning on '\n",
      " 'eachother to gain higher power. They had to stop the experement as too many '\n",
      " 'people got to radical with it blindly following there leader\\n'\n",
      " 'Content Score: 0.205682506482641\\n'\n",
      " 'Wording Score: 0.380537638762288')\n"
     ]
    }
   ],
   "source": [
    "from pprint import pformat\n",
    "print(pformat('''Question: %s\n",
    "Summary: %s\n",
    "Content Score: %s\n",
    "Wording Score: %s'''%(train_df.iloc[0]['prompt_question'],train_df.iloc[0]['text'], train_df.iloc[0]['content'],\n",
    "                           train_df.iloc[0]['wording'])))"
   ]
  },
  {
   "cell_type": "markdown",
   "id": "20133f5f",
   "metadata": {
    "papermill": {
     "duration": 0.019772,
     "end_time": "2023-08-21T17:29:53.860226",
     "exception": false,
     "start_time": "2023-08-21T17:29:53.840454",
     "status": "completed"
    },
    "tags": []
   },
   "source": [
    "## Let's build a helper function that displays N text in a pretty format"
   ]
  },
  {
   "cell_type": "code",
   "execution_count": 11,
   "id": "c150592a",
   "metadata": {
    "execution": {
     "iopub.execute_input": "2023-08-21T17:29:53.902489Z",
     "iopub.status.busy": "2023-08-21T17:29:53.901954Z",
     "iopub.status.idle": "2023-08-21T17:29:53.910916Z",
     "shell.execute_reply": "2023-08-21T17:29:53.909278Z"
    },
    "papermill": {
     "duration": 0.033808,
     "end_time": "2023-08-21T17:29:53.913842",
     "exception": false,
     "start_time": "2023-08-21T17:29:53.880034",
     "status": "completed"
    },
    "tags": []
   },
   "outputs": [],
   "source": [
    "def display_text(s=1,n=10,df=train_df):\n",
    "    \"\"\"\n",
    "    This function takes n as input and displays n section of text\n",
    "    \"\"\"\n",
    "    for i in range(s,n):\n",
    "        p_sum = pformat('''Question: %s \\nSummary: %s \\nContent Score: %s \\nWording Score: %s'''%(df.iloc[i]['prompt_question'],df.iloc[i]['text'], df.iloc[i]['content'],\n",
    "                           df.iloc[i]['wording']))\n",
    "        print(p_sum,end='\\n\\n')"
   ]
  },
  {
   "cell_type": "code",
   "execution_count": 12,
   "id": "22fcee05",
   "metadata": {
    "execution": {
     "iopub.execute_input": "2023-08-21T17:29:53.957098Z",
     "iopub.status.busy": "2023-08-21T17:29:53.956625Z",
     "iopub.status.idle": "2023-08-21T17:29:53.979900Z",
     "shell.execute_reply": "2023-08-21T17:29:53.978451Z"
    },
    "papermill": {
     "duration": 0.049469,
     "end_time": "2023-08-21T17:29:53.984202",
     "exception": false,
     "start_time": "2023-08-21T17:29:53.934733",
     "status": "completed"
    },
    "tags": []
   },
   "outputs": [
    {
     "name": "stdout",
     "output_type": "stream",
     "text": [
      "('Question: Summarize how the Third Wave developed over such a short period of '\n",
      " 'time and why the experiment was ended. \\n'\n",
      " 'Summary: The Third Wave developed over such a short period of time. Jones '\n",
      " 'emphasized many simple rules and made sure the students did it right. '\n",
      " 'Students also had to salute each other in a specific way that the teacher '\n",
      " 'had made. On the fourth day, Jones claimed that things started getting out '\n",
      " 'of control because the students became increasingly involved in the project, '\n",
      " 'so their discipline and loyalty to the project was overly outstanding. So '\n",
      " 'Jones decided to terminate the movement and lied to the students by '\n",
      " 'announcing that the Third Wave was a part of a nationwide movement.  \\n'\n",
      " 'Content Score: 1.46743085810556 \\n'\n",
      " 'Wording Score: 1.84017156306968')\n",
      "\n",
      "('Question: Summarize how the Third Wave developed over such a short period of '\n",
      " 'time and why the experiment was ended. \\n'\n",
      " 'Summary: It happened so fastly because the orig nail kids in the experiment '\n",
      " 'were getting other kids ro joined it ended so fast because john relized that '\n",
      " \"what he was doing was bennidificial but he wasn't teaching it in a proper \"\n",
      " 'way  \\n'\n",
      " 'Content Score: -1.54716321678788 \\n'\n",
      " 'Wording Score: -1.46124482282529')\n",
      "\n",
      "('Question: Summarize how the Third Wave developed over such a short period of '\n",
      " 'time and why the experiment was ended. \\n'\n",
      " 'Summary: Beacuse it was planned out by the state as an experiment on the '\n",
      " 'kids that the teacher mr. jones announced, and it was based on things that '\n",
      " 'happened in the past. This eneded because it was just an experiment to see '\n",
      " 'how people willingly create sence of superiority over others and how this '\n",
      " \"can lead people to doing horriblw things in the name of the state's \"\n",
      " 'honor.  \\n'\n",
      " 'Content Score: -0.564001535126031 \\n'\n",
      " 'Wording Score: 0.544047268581291')\n",
      "\n",
      "('Question: Summarize how the Third Wave developed over such a short period of '\n",
      " 'time and why the experiment was ended. \\n'\n",
      " 'Summary: The third wave wasan experiment  to show dictatorship.Ron did this '\n",
      " 'to prepare the class for the election. It shows how easily people will join '\n",
      " 'a group even if its terrible \\n'\n",
      " 'Content Score: -0.917082380091026 \\n'\n",
      " 'Wording Score: -0.111454939107718')\n",
      "\n",
      "('Question: Summarize how the Third Wave developed over such a short period of '\n",
      " 'time and why the experiment was ended. \\n'\n",
      " 'Summary: With the Third Wave, Ron emphasized many simple rules and made sure '\n",
      " 'the students were doing things right. He developed this authoritative '\n",
      " 'dictatorship in the classroom for the knowledge of students. The experiment '\n",
      " 'came to an end because it was slipping out of control and the students '\n",
      " 'became very involved in the project.  \\n'\n",
      " 'Content Score: -0.376762983040429 \\n'\n",
      " 'Wording Score: 0.547660629074304')\n",
      "\n",
      "('Question: Summarize how the Third Wave developed over such a short period of '\n",
      " 'time and why the experiment was ended. \\n'\n",
      " 'Summary:     It rapidly gained followers due to the simple fact of herd '\n",
      " 'behavior.   We see students being discriminated against and students all '\n",
      " 'these other students joining that the individual student may feel like the '\n",
      " 'odd one out for not joining.   The experiment was ended due to the fact that '\n",
      " 'it was spiralling out of control, and it was shown to the students just how '\n",
      " 'easily they followed the crowd. \\n'\n",
      " 'Content Score: 0.265322724198843 \\n'\n",
      " 'Wording Score: 0.715826497971815')\n",
      "\n",
      "('Question: Summarize how the Third Wave developed over such a short period of '\n",
      " 'time and why the experiment was ended. \\n'\n",
      " 'Summary: Ron Jones was a history teacher that created the third wave '\n",
      " 'movement  because he  aimed to eliminate democracy. So that what he did he '\n",
      " 'also created a moto  “Strength through discipline, strength through '\n",
      " 'community, strength through action, strength through pride.”At the end of '\n",
      " 'the week, instead of a televised address of their leader, the students were '\n",
      " 'presented with a blank channel.  \\n'\n",
      " 'Content Score: -0.0621059315581789 \\n'\n",
      " 'Wording Score: -0.380727453312108')\n",
      "\n",
      "('Question: Summarize how the Third Wave developed over such a short period of '\n",
      " 'time and why the experiment was ended. \\n'\n",
      " 'Summary: It was developed over such a short time because the teacher had '\n",
      " 'perfect conditions for conducting the experiment and had more than enough '\n",
      " 'willing participants. It ended so quickly because his point had been proven, '\n",
      " 'and he felt it was getting out of control. \\n'\n",
      " 'Content Score: -0.0938138317174397 \\n'\n",
      " 'Wording Score: 0.503832933489619')\n",
      "\n",
      "('Question: Summarize how the Third Wave developed over such a short period of '\n",
      " 'time and why the experiment was ended. \\n'\n",
      " 'Summary: The experimen devolved so quickly over such a small amount of time '\n",
      " 'bec the children were really into it and all about doing something that they '\n",
      " 'thought was good for their country, eventually it got to be too much and it '\n",
      " 'had to end because it became uncontrollabl. \\n'\n",
      " 'Content Score: -0.99326978468432 \\n'\n",
      " 'Wording Score: -0.367276199174599')\n",
      "\n",
      "('Question: Summarize how the Third Wave developed over such a short period of '\n",
      " 'time and why the experiment was ended. \\n'\n",
      " 'Summary: The Third Wave experiment spread so quickly beacuse of exclusivity. '\n",
      " 'People always want to be included so when they saw other students included '\n",
      " 'in something that they werent, they wanted to join. Soon, there were over '\n",
      " '200 perticipants despite only starting with 30. This shows that people just '\n",
      " 'follow what other people are doing. I assume that this became kind of a '\n",
      " '\"trend\" around the school so nobody wanted to be excluded. They didn\\'t want '\n",
      " 'to seem like the odd ones out. Because of this, the experiment got too out '\n",
      " 'of control so it had to be stopped.  \\n'\n",
      " 'Content Score: 1.78783686454465 \\n'\n",
      " 'Wording Score: 2.1392391407142')\n",
      "\n",
      "('Question: Summarize how the Third Wave developed over such a short period of '\n",
      " 'time and why the experiment was ended. \\n'\n",
      " 'Summary: The Third wave was developed over a short period of time because '\n",
      " 'people naturallt follow the crowd.  It was almost like a trend on social '\n",
      " 'media, everyone was participating so it gained popularity.  As stated in the '\n",
      " \"text, ''He then proceeded to enforce strict classroom discipline by emerging \"\n",
      " \"as an authoritarian figure.''  This experiment had to end because it was \"\n",
      " 'growing out of control.  In conclusion the experiment only ran for a shrt '\n",
      " 'period of time because Jones proved his point and ended up teaching more '\n",
      " 'than just his classes. \\n'\n",
      " 'Content Score: 0.643625564868572 \\n'\n",
      " 'Wording Score: 0.45708281784602')\n",
      "\n",
      "('Question: Summarize how the Third Wave developed over such a short period of '\n",
      " 'time and why the experiment was ended. \\n'\n",
      " 'Summary: The thrid wave was developed as a way to teach students why people '\n",
      " 'conform to crowds, the experiment ended as it was getting out of control, '\n",
      " 'the students learned that they were brainwashed the whole time. \\n'\n",
      " 'Content Score: -0.933629566968118 \\n'\n",
      " 'Wording Score: -0.0319873399650709')\n",
      "\n",
      "('Question: Summarize how the Third Wave developed over such a short period of '\n",
      " 'time and why the experiment was ended. \\n'\n",
      " 'Summary:     The third wave developed so quick in a matter of days, crazy '\n",
      " 'right? Mr. Jones intended to only do this experiment in one day but took '\n",
      " 'four days for the students to do this because many students were actually '\n",
      " 'intrested in doing this experiment. This  class took off so quick because '\n",
      " 'Mr. jones was teaching students ¨strength through dicipline, strength '\n",
      " 'through community, strength through action, strength through pride¨ (1) just '\n",
      " 'how his motto says. In the matter of the next day, his class had gained 13 '\n",
      " 'students because many sudents wanted to perhaps haave the skill Mr. Joness '\n",
      " 'was teaching. Mr. Jones had to cut the eperiment after the fourth day '\n",
      " 'because first of all, his experiment was intended to be only a day '\n",
      " 'experiment and second of all because He thought it was already slipping out '\n",
      " 'of hand. All what Mr. jones wanted to test these students were  on their '\n",
      " 'superiorty.  \\n'\n",
      " 'Content Score: 1.59939167383688 \\n'\n",
      " 'Wording Score: 2.01032653586767')\n",
      "\n",
      "('Question: Summarize how the Third Wave developed over such a short period of '\n",
      " 'time and why the experiment was ended. \\n'\n",
      " 'Summary: People wanted to be involved in something. The rules made everybody '\n",
      " 'the same and they felt like they belonged. It also gave them pride in what '\n",
      " 'they were doing.  it was well recognized and orderly and attractive people. '\n",
      " 'And the experiment ended because the students were too involved. They really '\n",
      " 'believed it and he was losing control of it. \\n'\n",
      " 'Content Score: 0.205682506482641 \\n'\n",
      " 'Wording Score: 0.380537638762288')\n",
      "\n",
      "('Question: Summarize how the Third Wave developed over such a short period of '\n",
      " 'time and why the experiment was ended. \\n'\n",
      " 'Summary: It was developed as an experiment but after it became repetitive '\n",
      " 'the students got more involved. Mr. Jones had to end it because it was '\n",
      " 'getting out of control. \\n'\n",
      " 'Content Score: -0.974242264823977 \\n'\n",
      " 'Wording Score: -0.751413840355257')\n",
      "\n",
      "('Question: Summarize how the Third Wave developed over such a short period of '\n",
      " 'time and why the experiment was ended. \\n'\n",
      " 'Summary: The third wave gained fame through the school quickly, in under a '\n",
      " 'couple days, but Jones felt that it was slipping out of control and lied to '\n",
      " 'the students to end it. \\n'\n",
      " 'Content Score: -1.07261303201737 \\n'\n",
      " 'Wording Score: -0.999628686402458')\n",
      "\n",
      "('Question: Summarize how the Third Wave developed over such a short period of '\n",
      " 'time and why the experiment was ended. \\n'\n",
      " 'Summary: The third wave developed by having meeting during school like a '\n",
      " 'club. And only let certain kids in. They made the kids tell them if anyone '\n",
      " 'was talking about them so they wrote it down and would know. It ended '\n",
      " 'because it got out of control. \\n'\n",
      " 'Content Score: -0.0938138317174397 \\n'\n",
      " 'Wording Score: 0.503832933489619')\n",
      "\n",
      "('Question: Summarize how the Third Wave developed over such a short period of '\n",
      " 'time and why the experiment was ended. \\n'\n",
      " 'Summary: The Third Wage developed with starting out with this teacher '\n",
      " 'announcing new rules. Soon after, that students complied. With the more '\n",
      " 'complying, the more other joined. This got bogged, and bigger. Students '\n",
      " 'became loyal the the obedience in which they had surrendered to. They then '\n",
      " 'went as far as believing it was going to be their new society. Eventually it '\n",
      " 'got so big he had to tell the students it was a hoax, and expirement on them '\n",
      " 'about conformity. \\n'\n",
      " 'Content Score: 1.52004842650383 \\n'\n",
      " 'Wording Score: 1.37797404863981')\n",
      "\n",
      "('Question: Summarize how the Third Wave developed over such a short period of '\n",
      " 'time and why the experiment was ended. \\n'\n",
      " \"Summary: It developed pretty quickly because the student's were so many \"\n",
      " 'students were so divulgued in this experiment many people started to join '\n",
      " 'and it got to the point were the students were taking it too serisouly so '\n",
      " 'Mr. Jones decided to shut it down. \\n'\n",
      " 'Content Score: -0.99326978468432 \\n'\n",
      " 'Wording Score: -0.367276199174599')\n",
      "\n",
      "('Question: Summarize how the Third Wave developed over such a short period of '\n",
      " 'time and why the experiment was ended. \\n'\n",
      " 'Summary: It developed quickly because the students thought that being a part '\n",
      " 'of a community strengthened the school.  Mr. Jones ended the experiment '\n",
      " 'because it was getting out of control. \\n'\n",
      " 'Content Score: -0.910596475636499 \\n'\n",
      " 'Wording Score: -0.0817694380946405')\n",
      "\n"
     ]
    }
   ],
   "source": [
    "display_text(s=200,n=220,df=train_df)"
   ]
  },
  {
   "cell_type": "markdown",
   "id": "7c86aa1c",
   "metadata": {
    "papermill": {
     "duration": 0.02213,
     "end_time": "2023-08-21T17:29:54.028143",
     "exception": false,
     "start_time": "2023-08-21T17:29:54.006013",
     "status": "completed"
    },
    "tags": []
   },
   "source": [
    "#### Combine the Title, Question, Context and Summary text into one large block of text"
   ]
  },
  {
   "cell_type": "code",
   "execution_count": 13,
   "id": "02f08d24",
   "metadata": {
    "execution": {
     "iopub.execute_input": "2023-08-21T17:29:54.072666Z",
     "iopub.status.busy": "2023-08-21T17:29:54.071841Z",
     "iopub.status.idle": "2023-08-21T17:29:54.078950Z",
     "shell.execute_reply": "2023-08-21T17:29:54.077799Z"
    },
    "papermill": {
     "duration": 0.033087,
     "end_time": "2023-08-21T17:29:54.082067",
     "exception": false,
     "start_time": "2023-08-21T17:29:54.048980",
     "status": "completed"
    },
    "tags": []
   },
   "outputs": [],
   "source": [
    "sample = 'Title:\\n'+train_df.iloc[0]['prompt_title']+'\\nQuestion:\\n'+train_df.iloc[0]['prompt_question']+'\\nText:\\n'+train_df.iloc[0]['prompt_text']+'\\nAnswer:\\n'+train_df.iloc[0]['text']"
   ]
  },
  {
   "cell_type": "code",
   "execution_count": 14,
   "id": "dfe43c67",
   "metadata": {
    "execution": {
     "iopub.execute_input": "2023-08-21T17:29:54.127561Z",
     "iopub.status.busy": "2023-08-21T17:29:54.126767Z",
     "iopub.status.idle": "2023-08-21T17:29:54.132688Z",
     "shell.execute_reply": "2023-08-21T17:29:54.131711Z"
    },
    "papermill": {
     "duration": 0.032209,
     "end_time": "2023-08-21T17:29:54.135410",
     "exception": false,
     "start_time": "2023-08-21T17:29:54.103201",
     "status": "completed"
    },
    "tags": []
   },
   "outputs": [
    {
     "name": "stdout",
     "output_type": "stream",
     "text": [
      "Title:\n",
      "The Third Wave\n",
      "Question:\n",
      "Summarize how the Third Wave developed over such a short period of time and why the experiment was ended.\n",
      "Text:\n",
      "Background \r\n",
      "The Third Wave experiment took place at Cubberley High School in Palo Alto, California during the first week of April 1967. History teacher Ron Jones, finding himself unable to explain to his students how people throughout history followed the crowd even when terrible things were happening, decided to demonstrate it to his students through an experiment. Jones announced that he was starting a movement aimed to eliminate democracy. Jones named the movement “The Third Wave” as a symbol of strength, referring to the mythical belief that the third in a series of waves is the strongest. One of the central points of this movement was that democracy’s main weakness is that it favors the individual over the whole community. Jones emphasized this main point of the movement when he created this catchy motto: “Strength through discipline, strength through community, strength through action, strength through pride.” \r\n",
      "The Experiment \r\n",
      "Jones started the first day of the experiment emphasizing simple things like proper seating, and drilled the students extensively until they got it right. He then proceeded to enforce strict classroom discipline by emerging as an authoritarian figure. This resulted in dramatic improvements to the efficiency, or orderliness, of the class.  The first day’s session ended with only a few rules. Jones intended it to be a one-day experiment. Students had to be sitting at attention before the second bell, had to stand up to ask or answer questions and had to do it in three words or fewer, and were required to preface each remark with “Mr. Jones.” As the week went on, Jones’ class transformed into a group with a supreme sense of discipline and community. Jones made up a salute resembling that of the Nazi regime and ordered class members to salute each other even outside the class. They all obeyed this command. \r\n",
      "After only three days, the experiment took on a life of its own, with students from all over the school joining in. The class expanded from initial 30 students to 43 attendees. All of the students showed drastic improvement in their academic skills and tremendous motivation. All of the students were issued a member card and each of them received a special assignment, like designing a Third Wave Banner, stopping non-members from entering the class, or other tasks to bring honor to the movement. Jones instructed the students on how to initiate new members, and by the end of the day the movement had over 200 participants. Jones was surprised that some of the students started reporting to him when other members of the movement failed to abide by the rules. \r\n",
      "By the fourth day of the experiment, the students became increasingly involved in the project and their discipline and loyalty to the project was so outstanding that Jones felt it was slipping out of control. He decided to terminate the movement, so he lied to students by announcing that the Third Wave was a part of a nationwide movement and that on the next day a presidential candidate of the movement would publicly announce its existence on television. Jones ordered students to attend a noon rally on Friday to witness the announcement. \r\n",
      "At the end of the week, instead of a televised address of their leader, the students were presented with a blank channel. After a few minutes of waiting, Jones announced that they had been a part of an experiment to demonstrate how people willingly create a sense of superiority over others, and how this can lead people to justify doing horrible things in the name of the state’s honor.\n",
      "Answer:\n",
      "The third wave was an experimentto see how people reacted to a new one leader government. It gained popularity as people wanted to try new things. The students follow anything that is said and start turning on eachother to gain higher power. They had to stop the experement as too many people got to radical with it blindly following there leader\n"
     ]
    }
   ],
   "source": [
    "print(sample)"
   ]
  },
  {
   "cell_type": "code",
   "execution_count": 15,
   "id": "e128026f",
   "metadata": {
    "execution": {
     "iopub.execute_input": "2023-08-21T17:29:54.181032Z",
     "iopub.status.busy": "2023-08-21T17:29:54.180531Z",
     "iopub.status.idle": "2023-08-21T17:29:54.495314Z",
     "shell.execute_reply": "2023-08-21T17:29:54.493755Z"
    },
    "papermill": {
     "duration": 0.340902,
     "end_time": "2023-08-21T17:29:54.498650",
     "exception": false,
     "start_time": "2023-08-21T17:29:54.157748",
     "status": "completed"
    },
    "tags": []
   },
   "outputs": [],
   "source": [
    "train_df['full_text'] = train_df.apply(lambda x: 'Title:\\n'+x['prompt_title']+\n",
    "               '\\nQuestion:\\n'+x['prompt_question']+\n",
    "               '\\nText:\\n'+x['prompt_text']+\n",
    "               '\\nAnswer:\\n'+x['text'],axis=1)"
   ]
  },
  {
   "cell_type": "markdown",
   "id": "d1c3bbda",
   "metadata": {
    "papermill": {
     "duration": 0.020126,
     "end_time": "2023-08-21T17:29:54.540019",
     "exception": false,
     "start_time": "2023-08-21T17:29:54.519893",
     "status": "completed"
    },
    "tags": []
   },
   "source": [
    "### Make a copy of the dataframe"
   ]
  },
  {
   "cell_type": "code",
   "execution_count": 16,
   "id": "d3a5383d",
   "metadata": {
    "execution": {
     "iopub.execute_input": "2023-08-21T17:29:54.584117Z",
     "iopub.status.busy": "2023-08-21T17:29:54.583019Z",
     "iopub.status.idle": "2023-08-21T17:29:54.594273Z",
     "shell.execute_reply": "2023-08-21T17:29:54.592706Z"
    },
    "papermill": {
     "duration": 0.036901,
     "end_time": "2023-08-21T17:29:54.597505",
     "exception": false,
     "start_time": "2023-08-21T17:29:54.560604",
     "status": "completed"
    },
    "tags": []
   },
   "outputs": [],
   "source": [
    "df = train_df[['student_id','full_text','content','wording']].copy()"
   ]
  },
  {
   "cell_type": "code",
   "execution_count": 17,
   "id": "ef33d430",
   "metadata": {
    "execution": {
     "iopub.execute_input": "2023-08-21T17:29:54.643255Z",
     "iopub.status.busy": "2023-08-21T17:29:54.642061Z",
     "iopub.status.idle": "2023-08-21T17:29:54.660996Z",
     "shell.execute_reply": "2023-08-21T17:29:54.659364Z"
    },
    "papermill": {
     "duration": 0.045443,
     "end_time": "2023-08-21T17:29:54.664324",
     "exception": false,
     "start_time": "2023-08-21T17:29:54.618881",
     "status": "completed"
    },
    "tags": []
   },
   "outputs": [
    {
     "data": {
      "text/html": [
       "<div>\n",
       "<style scoped>\n",
       "    .dataframe tbody tr th:only-of-type {\n",
       "        vertical-align: middle;\n",
       "    }\n",
       "\n",
       "    .dataframe tbody tr th {\n",
       "        vertical-align: top;\n",
       "    }\n",
       "\n",
       "    .dataframe thead th {\n",
       "        text-align: right;\n",
       "    }\n",
       "</style>\n",
       "<table border=\"1\" class=\"dataframe\">\n",
       "  <thead>\n",
       "    <tr style=\"text-align: right;\">\n",
       "      <th></th>\n",
       "      <th>student_id</th>\n",
       "      <th>full_text</th>\n",
       "      <th>content</th>\n",
       "      <th>wording</th>\n",
       "    </tr>\n",
       "  </thead>\n",
       "  <tbody>\n",
       "    <tr>\n",
       "      <th>0</th>\n",
       "      <td>000e8c3c7ddb</td>\n",
       "      <td>Title:\\nThe Third Wave\\nQuestion:\\nSummarize h...</td>\n",
       "      <td>0.205683</td>\n",
       "      <td>0.380538</td>\n",
       "    </tr>\n",
       "    <tr>\n",
       "      <th>1</th>\n",
       "      <td>0070c9e7af47</td>\n",
       "      <td>Title:\\nThe Third Wave\\nQuestion:\\nSummarize h...</td>\n",
       "      <td>3.272894</td>\n",
       "      <td>3.219757</td>\n",
       "    </tr>\n",
       "  </tbody>\n",
       "</table>\n",
       "</div>"
      ],
      "text/plain": [
       "     student_id                                          full_text   content  \\\n",
       "0  000e8c3c7ddb  Title:\\nThe Third Wave\\nQuestion:\\nSummarize h...  0.205683   \n",
       "1  0070c9e7af47  Title:\\nThe Third Wave\\nQuestion:\\nSummarize h...  3.272894   \n",
       "\n",
       "    wording  \n",
       "0  0.380538  \n",
       "1  3.219757  "
      ]
     },
     "execution_count": 17,
     "metadata": {},
     "output_type": "execute_result"
    }
   ],
   "source": [
    "df.head(2)"
   ]
  },
  {
   "cell_type": "markdown",
   "id": "7be36ca5",
   "metadata": {
    "papermill": {
     "duration": 0.021406,
     "end_time": "2023-08-21T17:29:54.707393",
     "exception": false,
     "start_time": "2023-08-21T17:29:54.685987",
     "status": "completed"
    },
    "tags": []
   },
   "source": [
    "### Let's perform text preprocessing on our df full_text column"
   ]
  },
  {
   "cell_type": "code",
   "execution_count": 18,
   "id": "9fcf2879",
   "metadata": {
    "execution": {
     "iopub.execute_input": "2023-08-21T17:29:54.751528Z",
     "iopub.status.busy": "2023-08-21T17:29:54.750963Z",
     "iopub.status.idle": "2023-08-21T17:29:57.248385Z",
     "shell.execute_reply": "2023-08-21T17:29:57.246644Z"
    },
    "papermill": {
     "duration": 2.524159,
     "end_time": "2023-08-21T17:29:57.252400",
     "exception": false,
     "start_time": "2023-08-21T17:29:54.728241",
     "status": "completed"
    },
    "tags": []
   },
   "outputs": [
    {
     "name": "stderr",
     "output_type": "stream",
     "text": [
      "/opt/conda/lib/python3.10/site-packages/scipy/__init__.py:146: UserWarning: A NumPy version >=1.16.5 and <1.23.0 is required for this version of SciPy (detected version 1.23.5\n",
      "  warnings.warn(f\"A NumPy version >={np_minversion} and <{np_maxversion}\"\n"
     ]
    },
    {
     "name": "stdout",
     "output_type": "stream",
     "text": [
      "[nltk_data] Downloading package wordnet to /usr/share/nltk_data...\n",
      "[nltk_data]   Package wordnet is already up-to-date!\n",
      "[nltk_data] Downloading package stopwords to /usr/share/nltk_data...\n",
      "[nltk_data]   Package stopwords is already up-to-date!\n"
     ]
    },
    {
     "data": {
      "text/plain": [
       "True"
      ]
     },
     "execution_count": 18,
     "metadata": {},
     "output_type": "execute_result"
    }
   ],
   "source": [
    "import nltk\n",
    "nltk.download('wordnet')\n",
    "nltk.download('stopwords')"
   ]
  },
  {
   "cell_type": "markdown",
   "id": "f0050902",
   "metadata": {
    "papermill": {
     "duration": 0.022502,
     "end_time": "2023-08-21T17:29:57.297146",
     "exception": false,
     "start_time": "2023-08-21T17:29:57.274644",
     "status": "completed"
    },
    "tags": []
   },
   "source": [
    "### Remove Stopwords"
   ]
  },
  {
   "cell_type": "code",
   "execution_count": 19,
   "id": "ee81163b",
   "metadata": {
    "execution": {
     "iopub.execute_input": "2023-08-21T17:29:57.344025Z",
     "iopub.status.busy": "2023-08-21T17:29:57.343452Z",
     "iopub.status.idle": "2023-08-21T17:29:57.350166Z",
     "shell.execute_reply": "2023-08-21T17:29:57.348693Z"
    },
    "papermill": {
     "duration": 0.034775,
     "end_time": "2023-08-21T17:29:57.353400",
     "exception": false,
     "start_time": "2023-08-21T17:29:57.318625",
     "status": "completed"
    },
    "tags": []
   },
   "outputs": [],
   "source": [
    "from nltk.corpus import stopwords\n",
    "from nltk.stem import LancasterStemmer #,PorterStemmer, WordNetLemmatizer"
   ]
  },
  {
   "cell_type": "code",
   "execution_count": 20,
   "id": "edd8b969",
   "metadata": {
    "execution": {
     "iopub.execute_input": "2023-08-21T17:29:57.400487Z",
     "iopub.status.busy": "2023-08-21T17:29:57.399952Z",
     "iopub.status.idle": "2023-08-21T17:29:57.407535Z",
     "shell.execute_reply": "2023-08-21T17:29:57.405915Z"
    },
    "papermill": {
     "duration": 0.034829,
     "end_time": "2023-08-21T17:29:57.410379",
     "exception": false,
     "start_time": "2023-08-21T17:29:57.375550",
     "status": "completed"
    },
    "tags": []
   },
   "outputs": [],
   "source": [
    "def clean_text(text):\n",
    "    stops = stopwords.words('english')\n",
    "    processed_text = []\n",
    "    for word in text.split():\n",
    "        if word not in stops:\n",
    "            processed_text.append(word)\n",
    "    return ' '.join(processed_text)"
   ]
  },
  {
   "cell_type": "code",
   "execution_count": 21,
   "id": "46bae1e3",
   "metadata": {
    "execution": {
     "iopub.execute_input": "2023-08-21T17:29:57.455620Z",
     "iopub.status.busy": "2023-08-21T17:29:57.454702Z",
     "iopub.status.idle": "2023-08-21T17:30:12.194151Z",
     "shell.execute_reply": "2023-08-21T17:30:12.192859Z"
    },
    "papermill": {
     "duration": 14.765792,
     "end_time": "2023-08-21T17:30:12.197582",
     "exception": false,
     "start_time": "2023-08-21T17:29:57.431790",
     "status": "completed"
    },
    "tags": []
   },
   "outputs": [],
   "source": [
    "df['full_text'] = df['full_text'].apply(clean_text)"
   ]
  },
  {
   "cell_type": "markdown",
   "id": "2611ba50",
   "metadata": {
    "papermill": {
     "duration": 0.022777,
     "end_time": "2023-08-21T17:30:12.242020",
     "exception": false,
     "start_time": "2023-08-21T17:30:12.219243",
     "status": "completed"
    },
    "tags": []
   },
   "source": [
    "### Convert words to stem"
   ]
  },
  {
   "cell_type": "code",
   "execution_count": 22,
   "id": "955332f7",
   "metadata": {
    "execution": {
     "iopub.execute_input": "2023-08-21T17:30:12.290352Z",
     "iopub.status.busy": "2023-08-21T17:30:12.289073Z",
     "iopub.status.idle": "2023-08-21T17:30:12.298035Z",
     "shell.execute_reply": "2023-08-21T17:30:12.296746Z"
    },
    "papermill": {
     "duration": 0.036524,
     "end_time": "2023-08-21T17:30:12.301588",
     "exception": false,
     "start_time": "2023-08-21T17:30:12.265064",
     "status": "completed"
    },
    "tags": []
   },
   "outputs": [],
   "source": [
    "def stem_word(text):\n",
    "    stem = LancasterStemmer()\n",
    "    stemmed_data = []\n",
    "    for word in text.split():\n",
    "        stemmed_data.append(stem.stem(word.lower()))\n",
    "    return ' '.join(stemmed_data)"
   ]
  },
  {
   "cell_type": "code",
   "execution_count": 23,
   "id": "60b288c9",
   "metadata": {
    "execution": {
     "iopub.execute_input": "2023-08-21T17:30:12.350500Z",
     "iopub.status.busy": "2023-08-21T17:30:12.349616Z",
     "iopub.status.idle": "2023-08-21T17:31:38.888041Z",
     "shell.execute_reply": "2023-08-21T17:31:38.886146Z"
    },
    "papermill": {
     "duration": 86.567691,
     "end_time": "2023-08-21T17:31:38.891768",
     "exception": false,
     "start_time": "2023-08-21T17:30:12.324077",
     "status": "completed"
    },
    "tags": []
   },
   "outputs": [],
   "source": [
    "df['full_text'] = df['full_text'].apply(stem_word)"
   ]
  },
  {
   "cell_type": "markdown",
   "id": "2140223c",
   "metadata": {
    "papermill": {
     "duration": 0.021456,
     "end_time": "2023-08-21T17:31:38.936131",
     "exception": false,
     "start_time": "2023-08-21T17:31:38.914675",
     "status": "completed"
    },
    "tags": []
   },
   "source": [
    "### Create Bag of Words for data"
   ]
  },
  {
   "cell_type": "code",
   "execution_count": 24,
   "id": "92dace56",
   "metadata": {
    "execution": {
     "iopub.execute_input": "2023-08-21T17:31:38.981677Z",
     "iopub.status.busy": "2023-08-21T17:31:38.981116Z",
     "iopub.status.idle": "2023-08-21T17:31:38.987319Z",
     "shell.execute_reply": "2023-08-21T17:31:38.986157Z"
    },
    "papermill": {
     "duration": 0.032624,
     "end_time": "2023-08-21T17:31:38.989871",
     "exception": false,
     "start_time": "2023-08-21T17:31:38.957247",
     "status": "completed"
    },
    "tags": []
   },
   "outputs": [],
   "source": [
    "from sklearn.feature_extraction.text import CountVectorizer, TfidfTransformer"
   ]
  },
  {
   "cell_type": "code",
   "execution_count": 25,
   "id": "132bc305",
   "metadata": {
    "execution": {
     "iopub.execute_input": "2023-08-21T17:31:39.037694Z",
     "iopub.status.busy": "2023-08-21T17:31:39.037014Z",
     "iopub.status.idle": "2023-08-21T17:31:39.044041Z",
     "shell.execute_reply": "2023-08-21T17:31:39.042567Z"
    },
    "papermill": {
     "duration": 0.035617,
     "end_time": "2023-08-21T17:31:39.047503",
     "exception": false,
     "start_time": "2023-08-21T17:31:39.011886",
     "status": "completed"
    },
    "tags": []
   },
   "outputs": [],
   "source": [
    "vectorizer = CountVectorizer(ngram_range=(1,1))\n",
    "transformer = TfidfTransformer()"
   ]
  },
  {
   "cell_type": "code",
   "execution_count": 26,
   "id": "b0646c45",
   "metadata": {
    "execution": {
     "iopub.execute_input": "2023-08-21T17:31:39.094532Z",
     "iopub.status.busy": "2023-08-21T17:31:39.093950Z",
     "iopub.status.idle": "2023-08-21T17:31:43.069893Z",
     "shell.execute_reply": "2023-08-21T17:31:43.067891Z"
    },
    "papermill": {
     "duration": 4.003447,
     "end_time": "2023-08-21T17:31:43.073585",
     "exception": false,
     "start_time": "2023-08-21T17:31:39.070138",
     "status": "completed"
    },
    "tags": []
   },
   "outputs": [],
   "source": [
    "transformed_df = vectorizer.fit_transform(df['full_text'])"
   ]
  },
  {
   "cell_type": "code",
   "execution_count": 27,
   "id": "42c9545a",
   "metadata": {
    "execution": {
     "iopub.execute_input": "2023-08-21T17:31:43.119737Z",
     "iopub.status.busy": "2023-08-21T17:31:43.119138Z",
     "iopub.status.idle": "2023-08-21T17:31:43.126456Z",
     "shell.execute_reply": "2023-08-21T17:31:43.124945Z"
    },
    "papermill": {
     "duration": 0.03434,
     "end_time": "2023-08-21T17:31:43.129421",
     "exception": false,
     "start_time": "2023-08-21T17:31:43.095081",
     "status": "completed"
    },
    "tags": []
   },
   "outputs": [],
   "source": [
    "vocab = list(vectorizer.vocabulary_.keys())"
   ]
  },
  {
   "cell_type": "code",
   "execution_count": 28,
   "id": "eec041fa",
   "metadata": {
    "execution": {
     "iopub.execute_input": "2023-08-21T17:31:43.175842Z",
     "iopub.status.busy": "2023-08-21T17:31:43.174724Z",
     "iopub.status.idle": "2023-08-21T17:31:43.797017Z",
     "shell.execute_reply": "2023-08-21T17:31:43.795413Z"
    },
    "papermill": {
     "duration": 0.649343,
     "end_time": "2023-08-21T17:31:43.800613",
     "exception": false,
     "start_time": "2023-08-21T17:31:43.151270",
     "status": "completed"
    },
    "tags": []
   },
   "outputs": [],
   "source": [
    "bags = pd.DataFrame(transformed_df.toarray(), columns=vocab,index=df['student_id'])"
   ]
  },
  {
   "cell_type": "code",
   "execution_count": 29,
   "id": "75215b19",
   "metadata": {
    "execution": {
     "iopub.execute_input": "2023-08-21T17:31:43.846914Z",
     "iopub.status.busy": "2023-08-21T17:31:43.846419Z",
     "iopub.status.idle": "2023-08-21T17:31:45.192157Z",
     "shell.execute_reply": "2023-08-21T17:31:45.190614Z"
    },
    "papermill": {
     "duration": 1.373014,
     "end_time": "2023-08-21T17:31:45.195708",
     "exception": false,
     "start_time": "2023-08-21T17:31:43.822694",
     "status": "completed"
    },
    "tags": []
   },
   "outputs": [],
   "source": [
    "df_bag = bags.merge(df.set_index(keys='student_id')[['content','wording']], on='student_id').values"
   ]
  },
  {
   "cell_type": "markdown",
   "id": "5bf6847b",
   "metadata": {
    "papermill": {
     "duration": 0.020933,
     "end_time": "2023-08-21T17:31:45.240345",
     "exception": false,
     "start_time": "2023-08-21T17:31:45.219412",
     "status": "completed"
    },
    "tags": []
   },
   "source": [
    "### Split train data into train and val data"
   ]
  },
  {
   "cell_type": "code",
   "execution_count": 30,
   "id": "2ad3363d",
   "metadata": {
    "execution": {
     "iopub.execute_input": "2023-08-21T17:31:45.288400Z",
     "iopub.status.busy": "2023-08-21T17:31:45.287860Z",
     "iopub.status.idle": "2023-08-21T17:31:45.293972Z",
     "shell.execute_reply": "2023-08-21T17:31:45.292558Z"
    },
    "papermill": {
     "duration": 0.034448,
     "end_time": "2023-08-21T17:31:45.296985",
     "exception": false,
     "start_time": "2023-08-21T17:31:45.262537",
     "status": "completed"
    },
    "tags": []
   },
   "outputs": [],
   "source": [
    "from sklearn.model_selection import train_test_split"
   ]
  },
  {
   "cell_type": "code",
   "execution_count": 31,
   "id": "a1d842dc",
   "metadata": {
    "execution": {
     "iopub.execute_input": "2023-08-21T17:31:45.344976Z",
     "iopub.status.busy": "2023-08-21T17:31:45.343814Z",
     "iopub.status.idle": "2023-08-21T17:31:46.875044Z",
     "shell.execute_reply": "2023-08-21T17:31:46.873768Z"
    },
    "papermill": {
     "duration": 1.559067,
     "end_time": "2023-08-21T17:31:46.878098",
     "exception": false,
     "start_time": "2023-08-21T17:31:45.319031",
     "status": "completed"
    },
    "tags": []
   },
   "outputs": [],
   "source": [
    "X_train,X_test,y_train,y_test = train_test_split(df_bag[:,:-2] ,df_bag[:,-2:],test_size=0.1,shuffle=True,random_state=11) "
   ]
  },
  {
   "cell_type": "markdown",
   "id": "1bed053e",
   "metadata": {
    "papermill": {
     "duration": 0.021848,
     "end_time": "2023-08-21T17:31:46.921905",
     "exception": false,
     "start_time": "2023-08-21T17:31:46.900057",
     "status": "completed"
    },
    "tags": []
   },
   "source": [
    "### Train multi-output algorithm with scikit learn multi-regressor"
   ]
  },
  {
   "cell_type": "code",
   "execution_count": 32,
   "id": "0630d461",
   "metadata": {
    "execution": {
     "iopub.execute_input": "2023-08-21T17:31:46.967818Z",
     "iopub.status.busy": "2023-08-21T17:31:46.967019Z",
     "iopub.status.idle": "2023-08-21T17:31:47.357640Z",
     "shell.execute_reply": "2023-08-21T17:31:47.356278Z"
    },
    "papermill": {
     "duration": 0.417217,
     "end_time": "2023-08-21T17:31:47.361099",
     "exception": false,
     "start_time": "2023-08-21T17:31:46.943882",
     "status": "completed"
    },
    "tags": []
   },
   "outputs": [],
   "source": [
    "from sklearn.ensemble import RandomForestRegressor\n",
    "from sklearn.multioutput import MultiOutputRegressor\n",
    "from sklearn.metrics import make_scorer\n",
    "from sklearn.model_selection import train_test_split, GridSearchCV"
   ]
  },
  {
   "cell_type": "code",
   "execution_count": 33,
   "id": "192df51c",
   "metadata": {
    "execution": {
     "iopub.execute_input": "2023-08-21T17:31:47.407736Z",
     "iopub.status.busy": "2023-08-21T17:31:47.406856Z",
     "iopub.status.idle": "2023-08-21T17:31:47.414219Z",
     "shell.execute_reply": "2023-08-21T17:31:47.413124Z"
    },
    "papermill": {
     "duration": 0.033724,
     "end_time": "2023-08-21T17:31:47.417194",
     "exception": false,
     "start_time": "2023-08-21T17:31:47.383470",
     "status": "completed"
    },
    "tags": []
   },
   "outputs": [],
   "source": [
    "def mcrmse(y_true, y_pred):\n",
    "    return np.mean(np.sqrt(np.mean((y_true - y_pred)**2, axis=0)))\n",
    "\n",
    "mcrmse_scorer = make_scorer(mcrmse, greater_is_better=False)"
   ]
  },
  {
   "cell_type": "code",
   "execution_count": 34,
   "id": "722b1438",
   "metadata": {
    "execution": {
     "iopub.execute_input": "2023-08-21T17:31:47.462441Z",
     "iopub.status.busy": "2023-08-21T17:31:47.461575Z",
     "iopub.status.idle": "2023-08-21T17:31:47.468268Z",
     "shell.execute_reply": "2023-08-21T17:31:47.466918Z"
    },
    "papermill": {
     "duration": 0.032937,
     "end_time": "2023-08-21T17:31:47.471374",
     "exception": false,
     "start_time": "2023-08-21T17:31:47.438437",
     "status": "completed"
    },
    "tags": []
   },
   "outputs": [],
   "source": [
    "model_rf = MultiOutputRegressor(RandomForestRegressor(n_estimators=100,criterion='squared_error',max_depth=5,random_state=11),n_jobs=-1)"
   ]
  },
  {
   "cell_type": "code",
   "execution_count": 35,
   "id": "47fe280b",
   "metadata": {
    "execution": {
     "iopub.execute_input": "2023-08-21T17:31:47.518841Z",
     "iopub.status.busy": "2023-08-21T17:31:47.517950Z",
     "iopub.status.idle": "2023-08-21T17:36:05.756050Z",
     "shell.execute_reply": "2023-08-21T17:36:05.754097Z"
    },
    "papermill": {
     "duration": 258.288116,
     "end_time": "2023-08-21T17:36:05.780852",
     "exception": false,
     "start_time": "2023-08-21T17:31:47.492736",
     "status": "completed"
    },
    "tags": []
   },
   "outputs": [
    {
     "name": "stderr",
     "output_type": "stream",
     "text": [
      "/opt/conda/lib/python3.10/site-packages/scipy/__init__.py:146: UserWarning: A NumPy version >=1.16.5 and <1.23.0 is required for this version of SciPy (detected version 1.23.5\n",
      "  warnings.warn(f\"A NumPy version >={np_minversion} and <{np_maxversion}\"\n",
      "/opt/conda/lib/python3.10/site-packages/scipy/__init__.py:146: UserWarning: A NumPy version >=1.16.5 and <1.23.0 is required for this version of SciPy (detected version 1.23.5\n",
      "  warnings.warn(f\"A NumPy version >={np_minversion} and <{np_maxversion}\"\n"
     ]
    },
    {
     "data": {
      "text/html": [
       "<style>#sk-container-id-1 {color: black;background-color: white;}#sk-container-id-1 pre{padding: 0;}#sk-container-id-1 div.sk-toggleable {background-color: white;}#sk-container-id-1 label.sk-toggleable__label {cursor: pointer;display: block;width: 100%;margin-bottom: 0;padding: 0.3em;box-sizing: border-box;text-align: center;}#sk-container-id-1 label.sk-toggleable__label-arrow:before {content: \"▸\";float: left;margin-right: 0.25em;color: #696969;}#sk-container-id-1 label.sk-toggleable__label-arrow:hover:before {color: black;}#sk-container-id-1 div.sk-estimator:hover label.sk-toggleable__label-arrow:before {color: black;}#sk-container-id-1 div.sk-toggleable__content {max-height: 0;max-width: 0;overflow: hidden;text-align: left;background-color: #f0f8ff;}#sk-container-id-1 div.sk-toggleable__content pre {margin: 0.2em;color: black;border-radius: 0.25em;background-color: #f0f8ff;}#sk-container-id-1 input.sk-toggleable__control:checked~div.sk-toggleable__content {max-height: 200px;max-width: 100%;overflow: auto;}#sk-container-id-1 input.sk-toggleable__control:checked~label.sk-toggleable__label-arrow:before {content: \"▾\";}#sk-container-id-1 div.sk-estimator input.sk-toggleable__control:checked~label.sk-toggleable__label {background-color: #d4ebff;}#sk-container-id-1 div.sk-label input.sk-toggleable__control:checked~label.sk-toggleable__label {background-color: #d4ebff;}#sk-container-id-1 input.sk-hidden--visually {border: 0;clip: rect(1px 1px 1px 1px);clip: rect(1px, 1px, 1px, 1px);height: 1px;margin: -1px;overflow: hidden;padding: 0;position: absolute;width: 1px;}#sk-container-id-1 div.sk-estimator {font-family: monospace;background-color: #f0f8ff;border: 1px dotted black;border-radius: 0.25em;box-sizing: border-box;margin-bottom: 0.5em;}#sk-container-id-1 div.sk-estimator:hover {background-color: #d4ebff;}#sk-container-id-1 div.sk-parallel-item::after {content: \"\";width: 100%;border-bottom: 1px solid gray;flex-grow: 1;}#sk-container-id-1 div.sk-label:hover label.sk-toggleable__label {background-color: #d4ebff;}#sk-container-id-1 div.sk-serial::before {content: \"\";position: absolute;border-left: 1px solid gray;box-sizing: border-box;top: 0;bottom: 0;left: 50%;z-index: 0;}#sk-container-id-1 div.sk-serial {display: flex;flex-direction: column;align-items: center;background-color: white;padding-right: 0.2em;padding-left: 0.2em;position: relative;}#sk-container-id-1 div.sk-item {position: relative;z-index: 1;}#sk-container-id-1 div.sk-parallel {display: flex;align-items: stretch;justify-content: center;background-color: white;position: relative;}#sk-container-id-1 div.sk-item::before, #sk-container-id-1 div.sk-parallel-item::before {content: \"\";position: absolute;border-left: 1px solid gray;box-sizing: border-box;top: 0;bottom: 0;left: 50%;z-index: -1;}#sk-container-id-1 div.sk-parallel-item {display: flex;flex-direction: column;z-index: 1;position: relative;background-color: white;}#sk-container-id-1 div.sk-parallel-item:first-child::after {align-self: flex-end;width: 50%;}#sk-container-id-1 div.sk-parallel-item:last-child::after {align-self: flex-start;width: 50%;}#sk-container-id-1 div.sk-parallel-item:only-child::after {width: 0;}#sk-container-id-1 div.sk-dashed-wrapped {border: 1px dashed gray;margin: 0 0.4em 0.5em 0.4em;box-sizing: border-box;padding-bottom: 0.4em;background-color: white;}#sk-container-id-1 div.sk-label label {font-family: monospace;font-weight: bold;display: inline-block;line-height: 1.2em;}#sk-container-id-1 div.sk-label-container {text-align: center;}#sk-container-id-1 div.sk-container {/* jupyter's `normalize.less` sets `[hidden] { display: none; }` but bootstrap.min.css set `[hidden] { display: none !important; }` so we also need the `!important` here to be able to override the default hidden behavior on the sphinx rendered scikit-learn.org. See: https://github.com/scikit-learn/scikit-learn/issues/21755 */display: inline-block !important;position: relative;}#sk-container-id-1 div.sk-text-repr-fallback {display: none;}</style><div id=\"sk-container-id-1\" class=\"sk-top-container\"><div class=\"sk-text-repr-fallback\"><pre>MultiOutputRegressor(estimator=RandomForestRegressor(max_depth=5,\n",
       "                                                     random_state=11),\n",
       "                     n_jobs=-1)</pre><b>In a Jupyter environment, please rerun this cell to show the HTML representation or trust the notebook. <br />On GitHub, the HTML representation is unable to render, please try loading this page with nbviewer.org.</b></div><div class=\"sk-container\" hidden><div class=\"sk-item sk-dashed-wrapped\"><div class=\"sk-label-container\"><div class=\"sk-label sk-toggleable\"><input class=\"sk-toggleable__control sk-hidden--visually\" id=\"sk-estimator-id-1\" type=\"checkbox\" ><label for=\"sk-estimator-id-1\" class=\"sk-toggleable__label sk-toggleable__label-arrow\">MultiOutputRegressor</label><div class=\"sk-toggleable__content\"><pre>MultiOutputRegressor(estimator=RandomForestRegressor(max_depth=5,\n",
       "                                                     random_state=11),\n",
       "                     n_jobs=-1)</pre></div></div></div><div class=\"sk-parallel\"><div class=\"sk-parallel-item\"><div class=\"sk-item\"><div class=\"sk-label-container\"><div class=\"sk-label sk-toggleable\"><input class=\"sk-toggleable__control sk-hidden--visually\" id=\"sk-estimator-id-2\" type=\"checkbox\" ><label for=\"sk-estimator-id-2\" class=\"sk-toggleable__label sk-toggleable__label-arrow\">estimator: RandomForestRegressor</label><div class=\"sk-toggleable__content\"><pre>RandomForestRegressor(max_depth=5, random_state=11)</pre></div></div></div><div class=\"sk-serial\"><div class=\"sk-item\"><div class=\"sk-estimator sk-toggleable\"><input class=\"sk-toggleable__control sk-hidden--visually\" id=\"sk-estimator-id-3\" type=\"checkbox\" ><label for=\"sk-estimator-id-3\" class=\"sk-toggleable__label sk-toggleable__label-arrow\">RandomForestRegressor</label><div class=\"sk-toggleable__content\"><pre>RandomForestRegressor(max_depth=5, random_state=11)</pre></div></div></div></div></div></div></div></div></div></div>"
      ],
      "text/plain": [
       "MultiOutputRegressor(estimator=RandomForestRegressor(max_depth=5,\n",
       "                                                     random_state=11),\n",
       "                     n_jobs=-1)"
      ]
     },
     "execution_count": 35,
     "metadata": {},
     "output_type": "execute_result"
    }
   ],
   "source": [
    "model_rf.fit(X_train,y_train)"
   ]
  },
  {
   "cell_type": "code",
   "execution_count": 36,
   "id": "0bf344e6",
   "metadata": {
    "execution": {
     "iopub.execute_input": "2023-08-21T17:36:05.830885Z",
     "iopub.status.busy": "2023-08-21T17:36:05.830341Z",
     "iopub.status.idle": "2023-08-21T17:36:06.581711Z",
     "shell.execute_reply": "2023-08-21T17:36:06.580684Z"
    },
    "papermill": {
     "duration": 0.778429,
     "end_time": "2023-08-21T17:36:06.585145",
     "exception": false,
     "start_time": "2023-08-21T17:36:05.806716",
     "status": "completed"
    },
    "tags": []
   },
   "outputs": [
    {
     "name": "stderr",
     "output_type": "stream",
     "text": [
      "/opt/conda/lib/python3.10/site-packages/scipy/__init__.py:146: UserWarning: A NumPy version >=1.16.5 and <1.23.0 is required for this version of SciPy (detected version 1.23.5\n",
      "  warnings.warn(f\"A NumPy version >={np_minversion} and <{np_maxversion}\"\n",
      "/opt/conda/lib/python3.10/site-packages/scipy/__init__.py:146: UserWarning: A NumPy version >=1.16.5 and <1.23.0 is required for this version of SciPy (detected version 1.23.5\n",
      "  warnings.warn(f\"A NumPy version >={np_minversion} and <{np_maxversion}\"\n"
     ]
    }
   ],
   "source": [
    "y_preds = model_rf.predict(X_test)"
   ]
  },
  {
   "cell_type": "code",
   "execution_count": 37,
   "id": "7773d006",
   "metadata": {
    "execution": {
     "iopub.execute_input": "2023-08-21T17:36:06.634335Z",
     "iopub.status.busy": "2023-08-21T17:36:06.632880Z",
     "iopub.status.idle": "2023-08-21T17:36:06.795500Z",
     "shell.execute_reply": "2023-08-21T17:36:06.794456Z"
    },
    "papermill": {
     "duration": 0.191248,
     "end_time": "2023-08-21T17:36:06.798264",
     "exception": false,
     "start_time": "2023-08-21T17:36:06.607016",
     "status": "completed"
    },
    "tags": []
   },
   "outputs": [
    {
     "data": {
      "text/plain": [
       "-0.8241141260612206"
      ]
     },
     "execution_count": 37,
     "metadata": {},
     "output_type": "execute_result"
    }
   ],
   "source": [
    "mcrmse_scorer(model_rf,X_test,y_test)"
   ]
  },
  {
   "cell_type": "code",
   "execution_count": 38,
   "id": "def7be8a",
   "metadata": {
    "execution": {
     "iopub.execute_input": "2023-08-21T17:36:06.848929Z",
     "iopub.status.busy": "2023-08-21T17:36:06.848391Z",
     "iopub.status.idle": "2023-08-21T17:36:06.857286Z",
     "shell.execute_reply": "2023-08-21T17:36:06.856193Z"
    },
    "papermill": {
     "duration": 0.035412,
     "end_time": "2023-08-21T17:36:06.859832",
     "exception": false,
     "start_time": "2023-08-21T17:36:06.824420",
     "status": "completed"
    },
    "tags": []
   },
   "outputs": [
    {
     "data": {
      "text/plain": [
       "0.8241141260612206"
      ]
     },
     "execution_count": 38,
     "metadata": {},
     "output_type": "execute_result"
    }
   ],
   "source": [
    "mcrmse(y_test,y_preds)"
   ]
  },
  {
   "cell_type": "code",
   "execution_count": 39,
   "id": "dbd3ed8f",
   "metadata": {
    "execution": {
     "iopub.execute_input": "2023-08-21T17:36:06.906477Z",
     "iopub.status.busy": "2023-08-21T17:36:06.905615Z",
     "iopub.status.idle": "2023-08-21T17:36:06.926972Z",
     "shell.execute_reply": "2023-08-21T17:36:06.925688Z"
    },
    "papermill": {
     "duration": 0.048205,
     "end_time": "2023-08-21T17:36:06.929914",
     "exception": false,
     "start_time": "2023-08-21T17:36:06.881709",
     "status": "completed"
    },
    "tags": []
   },
   "outputs": [],
   "source": [
    "test_summary = pd.read_csv('/kaggle/input/commonlit-evaluate-student-summaries/summaries_test.csv')\n",
    "test_prompts = pd.read_csv('/kaggle/input/commonlit-evaluate-student-summaries/prompts_test.csv')"
   ]
  },
  {
   "cell_type": "markdown",
   "id": "38461224",
   "metadata": {
    "papermill": {
     "duration": 0.022421,
     "end_time": "2023-08-21T17:36:06.974246",
     "exception": false,
     "start_time": "2023-08-21T17:36:06.951825",
     "status": "completed"
    },
    "tags": []
   },
   "source": [
    "### Combine all text preprocessing into a function"
   ]
  },
  {
   "cell_type": "code",
   "execution_count": 40,
   "id": "3f926dda",
   "metadata": {
    "execution": {
     "iopub.execute_input": "2023-08-21T17:36:07.021377Z",
     "iopub.status.busy": "2023-08-21T17:36:07.020485Z",
     "iopub.status.idle": "2023-08-21T17:36:07.030523Z",
     "shell.execute_reply": "2023-08-21T17:36:07.029046Z"
    },
    "papermill": {
     "duration": 0.037524,
     "end_time": "2023-08-21T17:36:07.033797",
     "exception": false,
     "start_time": "2023-08-21T17:36:06.996273",
     "status": "completed"
    },
    "tags": []
   },
   "outputs": [],
   "source": [
    "def preprocess_data(summary_df, prompt_df, vectorizer=vectorizer):\n",
    "    test_df = summary_df.merge(right=prompt_df,how='inner', on='prompt_id')\n",
    "    test_df['full_text'] = test_df.apply(lambda x: 'Title:\\n'+x['prompt_title']+\n",
    "               '\\nQuestion:\\n'+x['prompt_question']+\n",
    "               '\\nText:\\n'+x['prompt_text']+\n",
    "               '\\nAnswer:\\n'+x['text'],axis=1)\n",
    "    df = test_df[['student_id','full_text']].copy()\n",
    "    df['full_text'] = df['full_text'].apply(clean_text)\n",
    "    df['full_text'] = df['full_text'].apply(stem_word)\n",
    "    transformed_df = vectorizer.transform(df['full_text'])\n",
    "    vocab = list(vectorizer.vocabulary_.keys())\n",
    "    bags = pd.DataFrame(transformed_df.toarray(), columns=vocab,index=df['student_id'])\n",
    "    return bags"
   ]
  },
  {
   "cell_type": "code",
   "execution_count": 41,
   "id": "dfaf8d76",
   "metadata": {
    "execution": {
     "iopub.execute_input": "2023-08-21T17:36:07.082740Z",
     "iopub.status.busy": "2023-08-21T17:36:07.081076Z",
     "iopub.status.idle": "2023-08-21T17:36:07.103777Z",
     "shell.execute_reply": "2023-08-21T17:36:07.102625Z"
    },
    "papermill": {
     "duration": 0.050367,
     "end_time": "2023-08-21T17:36:07.107106",
     "exception": false,
     "start_time": "2023-08-21T17:36:07.056739",
     "status": "completed"
    },
    "tags": []
   },
   "outputs": [],
   "source": [
    "test_df = preprocess_data(test_summary, test_prompts)"
   ]
  },
  {
   "cell_type": "code",
   "execution_count": 42,
   "id": "e5e4225a",
   "metadata": {
    "execution": {
     "iopub.execute_input": "2023-08-21T17:36:07.153246Z",
     "iopub.status.busy": "2023-08-21T17:36:07.152706Z",
     "iopub.status.idle": "2023-08-21T17:36:07.233919Z",
     "shell.execute_reply": "2023-08-21T17:36:07.232617Z"
    },
    "papermill": {
     "duration": 0.108346,
     "end_time": "2023-08-21T17:36:07.237472",
     "exception": false,
     "start_time": "2023-08-21T17:36:07.129126",
     "status": "completed"
    },
    "tags": []
   },
   "outputs": [],
   "source": [
    "y_preds = model_rf.predict(test_df.values)"
   ]
  },
  {
   "cell_type": "code",
   "execution_count": 43,
   "id": "1ebd56c4",
   "metadata": {
    "execution": {
     "iopub.execute_input": "2023-08-21T17:36:07.284185Z",
     "iopub.status.busy": "2023-08-21T17:36:07.283685Z",
     "iopub.status.idle": "2023-08-21T17:36:07.291515Z",
     "shell.execute_reply": "2023-08-21T17:36:07.289907Z"
    },
    "papermill": {
     "duration": 0.034996,
     "end_time": "2023-08-21T17:36:07.294674",
     "exception": false,
     "start_time": "2023-08-21T17:36:07.259678",
     "status": "completed"
    },
    "tags": []
   },
   "outputs": [],
   "source": [
    "df_test = pd.DataFrame(y_preds,columns=['content','wording'],index=test_df.index).reset_index()"
   ]
  },
  {
   "cell_type": "code",
   "execution_count": 44,
   "id": "1fe88e68",
   "metadata": {
    "execution": {
     "iopub.execute_input": "2023-08-21T17:36:07.343326Z",
     "iopub.status.busy": "2023-08-21T17:36:07.342766Z",
     "iopub.status.idle": "2023-08-21T17:36:07.354370Z",
     "shell.execute_reply": "2023-08-21T17:36:07.352640Z"
    },
    "papermill": {
     "duration": 0.040937,
     "end_time": "2023-08-21T17:36:07.357589",
     "exception": false,
     "start_time": "2023-08-21T17:36:07.316652",
     "status": "completed"
    },
    "tags": []
   },
   "outputs": [],
   "source": [
    "df_test.to_csv(\"submission.csv\", index=False)"
   ]
  },
  {
   "cell_type": "code",
   "execution_count": null,
   "id": "7f671b32",
   "metadata": {
    "execution": {
     "iopub.execute_input": "2023-08-21T16:32:31.727081Z",
     "iopub.status.busy": "2023-08-21T16:32:31.726587Z",
     "iopub.status.idle": "2023-08-21T16:32:31.774750Z",
     "shell.execute_reply": "2023-08-21T16:32:31.773292Z",
     "shell.execute_reply.started": "2023-08-21T16:32:31.727042Z"
    },
    "papermill": {
     "duration": 0.021489,
     "end_time": "2023-08-21T17:36:07.401363",
     "exception": false,
     "start_time": "2023-08-21T17:36:07.379874",
     "status": "completed"
    },
    "tags": []
   },
   "outputs": [],
   "source": []
  },
  {
   "cell_type": "code",
   "execution_count": null,
   "id": "419e7669",
   "metadata": {
    "papermill": {
     "duration": 0.021679,
     "end_time": "2023-08-21T17:36:07.445108",
     "exception": false,
     "start_time": "2023-08-21T17:36:07.423429",
     "status": "completed"
    },
    "tags": []
   },
   "outputs": [],
   "source": []
  },
  {
   "cell_type": "code",
   "execution_count": null,
   "id": "3f39d26d",
   "metadata": {
    "papermill": {
     "duration": 0.021756,
     "end_time": "2023-08-21T17:36:07.488638",
     "exception": false,
     "start_time": "2023-08-21T17:36:07.466882",
     "status": "completed"
    },
    "tags": []
   },
   "outputs": [],
   "source": []
  },
  {
   "cell_type": "code",
   "execution_count": null,
   "id": "f50fa71f",
   "metadata": {
    "papermill": {
     "duration": 0.0224,
     "end_time": "2023-08-21T17:36:07.533915",
     "exception": false,
     "start_time": "2023-08-21T17:36:07.511515",
     "status": "completed"
    },
    "tags": []
   },
   "outputs": [],
   "source": []
  },
  {
   "cell_type": "code",
   "execution_count": null,
   "id": "9b2896be",
   "metadata": {
    "papermill": {
     "duration": 0.022351,
     "end_time": "2023-08-21T17:36:07.578470",
     "exception": false,
     "start_time": "2023-08-21T17:36:07.556119",
     "status": "completed"
    },
    "tags": []
   },
   "outputs": [],
   "source": []
  },
  {
   "cell_type": "code",
   "execution_count": null,
   "id": "0cb0263a",
   "metadata": {
    "papermill": {
     "duration": 0.022209,
     "end_time": "2023-08-21T17:36:07.623065",
     "exception": false,
     "start_time": "2023-08-21T17:36:07.600856",
     "status": "completed"
    },
    "tags": []
   },
   "outputs": [],
   "source": []
  }
 ],
 "metadata": {
  "kernelspec": {
   "display_name": "Python 3",
   "language": "python",
   "name": "python3"
  },
  "language_info": {
   "codemirror_mode": {
    "name": "ipython",
    "version": 3
   },
   "file_extension": ".py",
   "mimetype": "text/x-python",
   "name": "python",
   "nbconvert_exporter": "python",
   "pygments_lexer": "ipython3",
   "version": "3.10.12"
  },
  "papermill": {
   "default_parameters": {},
   "duration": 393.17915,
   "end_time": "2023-08-21T17:36:10.271514",
   "environment_variables": {},
   "exception": null,
   "input_path": "__notebook__.ipynb",
   "output_path": "__notebook__.ipynb",
   "parameters": {},
   "start_time": "2023-08-21T17:29:37.092364",
   "version": "2.4.0"
  }
 },
 "nbformat": 4,
 "nbformat_minor": 5
}
