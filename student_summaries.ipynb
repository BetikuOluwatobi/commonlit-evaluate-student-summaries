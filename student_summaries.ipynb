{
 "cells": [
  {
   "cell_type": "code",
   "execution_count": 1,
   "id": "a4ba376a",
   "metadata": {
    "_cell_guid": "b1076dfc-b9ad-4769-8c92-a6c4dae69d19",
    "_uuid": "8f2839f25d086af736a60e9eeb907d3b93b6e0e5",
    "execution": {
     "iopub.execute_input": "2023-08-20T19:51:56.335703Z",
     "iopub.status.busy": "2023-08-20T19:51:56.335304Z",
     "iopub.status.idle": "2023-08-20T19:51:56.347777Z",
     "shell.execute_reply": "2023-08-20T19:51:56.346664Z"
    },
    "papermill": {
     "duration": 0.022619,
     "end_time": "2023-08-20T19:51:56.350319",
     "exception": false,
     "start_time": "2023-08-20T19:51:56.327700",
     "status": "completed"
    },
    "tags": []
   },
   "outputs": [
    {
     "name": "stdout",
     "output_type": "stream",
     "text": [
      "/kaggle/input/commonlit-evaluate-student-summaries/sample_submission.csv\n",
      "/kaggle/input/commonlit-evaluate-student-summaries/prompts_train.csv\n",
      "/kaggle/input/commonlit-evaluate-student-summaries/summaries_test.csv\n",
      "/kaggle/input/commonlit-evaluate-student-summaries/summaries_train.csv\n",
      "/kaggle/input/commonlit-evaluate-student-summaries/prompts_test.csv\n"
     ]
    }
   ],
   "source": [
    "# This Python 3 environment comes with many helpful analytics libraries installed\n",
    "# It is defined by the kaggle/python Docker image: https://github.com/kaggle/docker-python\n",
    "# For example, here's several helpful packages to load\n",
    "\n",
    "import numpy as np # linear algebra\n",
    "import pandas as pd # data processing, CSV file I/O (e.g. pd.read_csv)\n",
    "\n",
    "# Input data files are available in the read-only \"../input/\" directory\n",
    "# For example, running this (by clicking run or pressing Shift+Enter) will list all files under the input directory\n",
    "\n",
    "import os\n",
    "for dirname, _, filenames in os.walk('/kaggle/input'):\n",
    "    for filename in filenames:\n",
    "        print(os.path.join(dirname, filename))\n",
    "\n",
    "# You can write up to 20GB to the current directory (/kaggle/working/) that gets preserved as output when you create a version using \"Save & Run All\" \n",
    "# You can also write temporary files to /kaggle/temp/, but they won't be saved outside of the current session"
   ]
  },
  {
   "cell_type": "markdown",
   "id": "1015e79c",
   "metadata": {
    "papermill": {
     "duration": 0.004836,
     "end_time": "2023-08-20T19:51:56.360447",
     "exception": false,
     "start_time": "2023-08-20T19:51:56.355611",
     "status": "completed"
    },
    "tags": []
   },
   "source": [
    "## Let's load the training data"
   ]
  },
  {
   "cell_type": "code",
   "execution_count": 2,
   "id": "d1eb770a",
   "metadata": {
    "execution": {
     "iopub.execute_input": "2023-08-20T19:51:56.373114Z",
     "iopub.status.busy": "2023-08-20T19:51:56.372014Z",
     "iopub.status.idle": "2023-08-20T19:51:56.528625Z",
     "shell.execute_reply": "2023-08-20T19:51:56.527390Z"
    },
    "papermill": {
     "duration": 0.166092,
     "end_time": "2023-08-20T19:51:56.531891",
     "exception": false,
     "start_time": "2023-08-20T19:51:56.365799",
     "status": "completed"
    },
    "tags": []
   },
   "outputs": [],
   "source": [
    "summary_df = pd.read_csv('/kaggle/input/commonlit-evaluate-student-summaries/summaries_train.csv')\n",
    "prompt_df = pd.read_csv('/kaggle/input/commonlit-evaluate-student-summaries/prompts_train.csv')"
   ]
  },
  {
   "cell_type": "markdown",
   "id": "e8b565b3",
   "metadata": {
    "papermill": {
     "duration": 0.004838,
     "end_time": "2023-08-20T19:51:56.542097",
     "exception": false,
     "start_time": "2023-08-20T19:51:56.537259",
     "status": "completed"
    },
    "tags": []
   },
   "source": [
    "## Check dataframe description"
   ]
  },
  {
   "cell_type": "code",
   "execution_count": 3,
   "id": "24a78a5e",
   "metadata": {
    "execution": {
     "iopub.execute_input": "2023-08-20T19:51:56.556412Z",
     "iopub.status.busy": "2023-08-20T19:51:56.555709Z",
     "iopub.status.idle": "2023-08-20T19:51:56.590072Z",
     "shell.execute_reply": "2023-08-20T19:51:56.588772Z"
    },
    "papermill": {
     "duration": 0.045307,
     "end_time": "2023-08-20T19:51:56.592619",
     "exception": false,
     "start_time": "2023-08-20T19:51:56.547312",
     "status": "completed"
    },
    "tags": []
   },
   "outputs": [
    {
     "name": "stdout",
     "output_type": "stream",
     "text": [
      "<class 'pandas.core.frame.DataFrame'>\n",
      "RangeIndex: 7165 entries, 0 to 7164\n",
      "Data columns (total 5 columns):\n",
      " #   Column      Non-Null Count  Dtype  \n",
      "---  ------      --------------  -----  \n",
      " 0   student_id  7165 non-null   object \n",
      " 1   prompt_id   7165 non-null   object \n",
      " 2   text        7165 non-null   object \n",
      " 3   content     7165 non-null   float64\n",
      " 4   wording     7165 non-null   float64\n",
      "dtypes: float64(2), object(3)\n",
      "memory usage: 280.0+ KB\n"
     ]
    }
   ],
   "source": [
    "summary_df.info()"
   ]
  },
  {
   "cell_type": "code",
   "execution_count": 4,
   "id": "502dd0a0",
   "metadata": {
    "execution": {
     "iopub.execute_input": "2023-08-20T19:51:56.604835Z",
     "iopub.status.busy": "2023-08-20T19:51:56.604436Z",
     "iopub.status.idle": "2023-08-20T19:51:56.618044Z",
     "shell.execute_reply": "2023-08-20T19:51:56.616381Z"
    },
    "papermill": {
     "duration": 0.023219,
     "end_time": "2023-08-20T19:51:56.620987",
     "exception": false,
     "start_time": "2023-08-20T19:51:56.597768",
     "status": "completed"
    },
    "tags": []
   },
   "outputs": [
    {
     "name": "stdout",
     "output_type": "stream",
     "text": [
      "<class 'pandas.core.frame.DataFrame'>\n",
      "RangeIndex: 4 entries, 0 to 3\n",
      "Data columns (total 4 columns):\n",
      " #   Column           Non-Null Count  Dtype \n",
      "---  ------           --------------  ----- \n",
      " 0   prompt_id        4 non-null      object\n",
      " 1   prompt_question  4 non-null      object\n",
      " 2   prompt_title     4 non-null      object\n",
      " 3   prompt_text      4 non-null      object\n",
      "dtypes: object(4)\n",
      "memory usage: 256.0+ bytes\n"
     ]
    }
   ],
   "source": [
    "prompt_df.info()"
   ]
  },
  {
   "cell_type": "markdown",
   "id": "3f296905",
   "metadata": {
    "papermill": {
     "duration": 0.004949,
     "end_time": "2023-08-20T19:51:56.631458",
     "exception": false,
     "start_time": "2023-08-20T19:51:56.626509",
     "status": "completed"
    },
    "tags": []
   },
   "source": [
    "## Primary key to combine dataframe on"
   ]
  },
  {
   "cell_type": "code",
   "execution_count": 5,
   "id": "7f639b66",
   "metadata": {
    "execution": {
     "iopub.execute_input": "2023-08-20T19:51:56.643553Z",
     "iopub.status.busy": "2023-08-20T19:51:56.643148Z",
     "iopub.status.idle": "2023-08-20T19:51:56.651814Z",
     "shell.execute_reply": "2023-08-20T19:51:56.650633Z"
    },
    "papermill": {
     "duration": 0.017466,
     "end_time": "2023-08-20T19:51:56.654100",
     "exception": false,
     "start_time": "2023-08-20T19:51:56.636634",
     "status": "completed"
    },
    "tags": []
   },
   "outputs": [
    {
     "data": {
      "text/plain": [
       "array(['39c16e', '3b9047', '814d6b', 'ebad26'], dtype=object)"
      ]
     },
     "execution_count": 5,
     "metadata": {},
     "output_type": "execute_result"
    }
   ],
   "source": [
    "prompt_df['prompt_id'].unique()"
   ]
  },
  {
   "cell_type": "code",
   "execution_count": 6,
   "id": "1a808d00",
   "metadata": {
    "execution": {
     "iopub.execute_input": "2023-08-20T19:51:56.667099Z",
     "iopub.status.busy": "2023-08-20T19:51:56.666683Z",
     "iopub.status.idle": "2023-08-20T19:51:56.674305Z",
     "shell.execute_reply": "2023-08-20T19:51:56.673226Z"
    },
    "papermill": {
     "duration": 0.016461,
     "end_time": "2023-08-20T19:51:56.676272",
     "exception": false,
     "start_time": "2023-08-20T19:51:56.659811",
     "status": "completed"
    },
    "tags": []
   },
   "outputs": [
    {
     "data": {
      "text/plain": [
       "array(['814d6b', 'ebad26', '3b9047', '39c16e'], dtype=object)"
      ]
     },
     "execution_count": 6,
     "metadata": {},
     "output_type": "execute_result"
    }
   ],
   "source": [
    "summary_df['prompt_id'].unique()"
   ]
  },
  {
   "cell_type": "markdown",
   "id": "977c21b7",
   "metadata": {
    "papermill": {
     "duration": 0.005244,
     "end_time": "2023-08-20T19:51:56.687047",
     "exception": false,
     "start_time": "2023-08-20T19:51:56.681803",
     "status": "completed"
    },
    "tags": []
   },
   "source": [
    "## Merge dataframe based on primary key into one"
   ]
  },
  {
   "cell_type": "code",
   "execution_count": 7,
   "id": "ba356b0c",
   "metadata": {
    "execution": {
     "iopub.execute_input": "2023-08-20T19:51:56.699920Z",
     "iopub.status.busy": "2023-08-20T19:51:56.699502Z",
     "iopub.status.idle": "2023-08-20T19:51:56.716125Z",
     "shell.execute_reply": "2023-08-20T19:51:56.714945Z"
    },
    "papermill": {
     "duration": 0.026441,
     "end_time": "2023-08-20T19:51:56.718969",
     "exception": false,
     "start_time": "2023-08-20T19:51:56.692528",
     "status": "completed"
    },
    "tags": []
   },
   "outputs": [],
   "source": [
    "train_df = summary_df.merge(right=prompt_df,how='inner', on='prompt_id')"
   ]
  },
  {
   "cell_type": "code",
   "execution_count": 8,
   "id": "bdfc2f4b",
   "metadata": {
    "execution": {
     "iopub.execute_input": "2023-08-20T19:51:56.732302Z",
     "iopub.status.busy": "2023-08-20T19:51:56.731895Z",
     "iopub.status.idle": "2023-08-20T19:51:56.751811Z",
     "shell.execute_reply": "2023-08-20T19:51:56.751017Z"
    },
    "papermill": {
     "duration": 0.029578,
     "end_time": "2023-08-20T19:51:56.754149",
     "exception": false,
     "start_time": "2023-08-20T19:51:56.724571",
     "status": "completed"
    },
    "tags": []
   },
   "outputs": [
    {
     "name": "stdout",
     "output_type": "stream",
     "text": [
      "<class 'pandas.core.frame.DataFrame'>\n",
      "Int64Index: 7165 entries, 0 to 7164\n",
      "Data columns (total 8 columns):\n",
      " #   Column           Non-Null Count  Dtype  \n",
      "---  ------           --------------  -----  \n",
      " 0   student_id       7165 non-null   object \n",
      " 1   prompt_id        7165 non-null   object \n",
      " 2   text             7165 non-null   object \n",
      " 3   content          7165 non-null   float64\n",
      " 4   wording          7165 non-null   float64\n",
      " 5   prompt_question  7165 non-null   object \n",
      " 6   prompt_title     7165 non-null   object \n",
      " 7   prompt_text      7165 non-null   object \n",
      "dtypes: float64(2), object(6)\n",
      "memory usage: 503.8+ KB\n"
     ]
    }
   ],
   "source": [
    "train_df.info()"
   ]
  },
  {
   "cell_type": "markdown",
   "id": "1e891f58",
   "metadata": {
    "papermill": {
     "duration": 0.005228,
     "end_time": "2023-08-20T19:51:56.765764",
     "exception": false,
     "start_time": "2023-08-20T19:51:56.760536",
     "status": "completed"
    },
    "tags": []
   },
   "source": [
    "### Let's perform a little exploratory analysis on the data to see what samples looks like"
   ]
  },
  {
   "cell_type": "code",
   "execution_count": 9,
   "id": "6da0a2df",
   "metadata": {
    "execution": {
     "iopub.execute_input": "2023-08-20T19:51:56.779635Z",
     "iopub.status.busy": "2023-08-20T19:51:56.778685Z",
     "iopub.status.idle": "2023-08-20T19:51:56.786614Z",
     "shell.execute_reply": "2023-08-20T19:51:56.785113Z"
    },
    "papermill": {
     "duration": 0.016959,
     "end_time": "2023-08-20T19:51:56.788822",
     "exception": false,
     "start_time": "2023-08-20T19:51:56.771863",
     "status": "completed"
    },
    "tags": []
   },
   "outputs": [
    {
     "name": "stdout",
     "output_type": "stream",
     "text": [
      "Question: Summarize how the Third Wave developed over such a short period of time and why the experiment was ended. \n",
      " \n",
      "Title: The Third Wave \n",
      "\n",
      "Text: Background \r\n",
      "The Third Wave experiment took place at Cubberley High School in Palo Alto, California during the first week of April 1967. History teacher Ron Jones, finding himself unable to explain to his students how people throughout history followed the crowd even when terrible things were happening, decided to demonstrate it to his students through an experiment. Jones announced that he was starting a movement aimed to eliminate democracy. Jones named the movement “The Third Wave” as a symbol of strength, referring to the mythical belief that the third in a series of waves is the strongest. One of the central points of this movement was that democracy’s main weakness is that it favors the individual over the whole community. Jones emphasized this main point of the movement when he created this catchy motto: “Strength through discipline, strength through community, strength through action, strength through pride.” \r\n",
      "The Experiment \r\n",
      "Jones started the first day of the experiment emphasizing simple things like proper seating, and drilled the students extensively until they got it right. He then proceeded to enforce strict classroom discipline by emerging as an authoritarian figure. This resulted in dramatic improvements to the efficiency, or orderliness, of the class.  The first day’s session ended with only a few rules. Jones intended it to be a one-day experiment. Students had to be sitting at attention before the second bell, had to stand up to ask or answer questions and had to do it in three words or fewer, and were required to preface each remark with “Mr. Jones.” As the week went on, Jones’ class transformed into a group with a supreme sense of discipline and community. Jones made up a salute resembling that of the Nazi regime and ordered class members to salute each other even outside the class. They all obeyed this command. \r\n",
      "After only three days, the experiment took on a life of its own, with students from all over the school joining in. The class expanded from initial 30 students to 43 attendees. All of the students showed drastic improvement in their academic skills and tremendous motivation. All of the students were issued a member card and each of them received a special assignment, like designing a Third Wave Banner, stopping non-members from entering the class, or other tasks to bring honor to the movement. Jones instructed the students on how to initiate new members, and by the end of the day the movement had over 200 participants. Jones was surprised that some of the students started reporting to him when other members of the movement failed to abide by the rules. \r\n",
      "By the fourth day of the experiment, the students became increasingly involved in the project and their discipline and loyalty to the project was so outstanding that Jones felt it was slipping out of control. He decided to terminate the movement, so he lied to students by announcing that the Third Wave was a part of a nationwide movement and that on the next day a presidential candidate of the movement would publicly announce its existence on television. Jones ordered students to attend a noon rally on Friday to witness the announcement. \r\n",
      "At the end of the week, instead of a televised address of their leader, the students were presented with a blank channel. After a few minutes of waiting, Jones announced that they had been a part of an experiment to demonstrate how people willingly create a sense of superiority over others, and how this can lead people to justify doing horrible things in the name of the state’s honor.\n"
     ]
    }
   ],
   "source": [
    "print('''Question: %s \\n \n",
    "Title: %s \\n\n",
    "Text: %s'''%(train_df.iloc[0]['prompt_question'],train_df.iloc[0]['prompt_title'],train_df.iloc[0]['prompt_text']))"
   ]
  },
  {
   "cell_type": "markdown",
   "id": "398227a6",
   "metadata": {
    "papermill": {
     "duration": 0.005579,
     "end_time": "2023-08-20T19:51:56.800814",
     "exception": false,
     "start_time": "2023-08-20T19:51:56.795235",
     "status": "completed"
    },
    "tags": []
   },
   "source": [
    "### Let's check what the student summary looks like"
   ]
  },
  {
   "cell_type": "code",
   "execution_count": 10,
   "id": "c6ca6a0b",
   "metadata": {
    "execution": {
     "iopub.execute_input": "2023-08-20T19:51:56.814399Z",
     "iopub.status.busy": "2023-08-20T19:51:56.814025Z",
     "iopub.status.idle": "2023-08-20T19:51:56.820941Z",
     "shell.execute_reply": "2023-08-20T19:51:56.819528Z"
    },
    "papermill": {
     "duration": 0.016449,
     "end_time": "2023-08-20T19:51:56.823084",
     "exception": false,
     "start_time": "2023-08-20T19:51:56.806635",
     "status": "completed"
    },
    "tags": []
   },
   "outputs": [
    {
     "name": "stdout",
     "output_type": "stream",
     "text": [
      "Summary: The third wave was an experimentto see how people reacted to a new one leader government. It gained popularity as people wanted to try new things. The students follow anything that is said and start turning on eachother to gain higher power. They had to stop the experement as too many people got to radical with it blindly following there leader \n",
      "\n",
      "Content Score: 0.205682506482641 \n",
      "\n",
      "Wording Score: 0.380537638762288\n"
     ]
    }
   ],
   "source": [
    "print('''Summary: %s \\n\n",
    "Content Score: %s \\n\n",
    "Wording Score: %s'''%(train_df.iloc[0]['text'], train_df.iloc[0]['content'],\n",
    "                           train_df.iloc[0]['wording']))"
   ]
  },
  {
   "cell_type": "markdown",
   "id": "68b04631",
   "metadata": {
    "papermill": {
     "duration": 0.005656,
     "end_time": "2023-08-20T19:51:56.834567",
     "exception": false,
     "start_time": "2023-08-20T19:51:56.828911",
     "status": "completed"
    },
    "tags": []
   },
   "source": [
    "### Let's build a helper function that displays N text in a pretty format"
   ]
  },
  {
   "cell_type": "code",
   "execution_count": 11,
   "id": "728e40bd",
   "metadata": {
    "execution": {
     "iopub.execute_input": "2023-08-20T19:51:56.847843Z",
     "iopub.status.busy": "2023-08-20T19:51:56.847472Z",
     "iopub.status.idle": "2023-08-20T19:51:56.853135Z",
     "shell.execute_reply": "2023-08-20T19:51:56.852116Z"
    },
    "papermill": {
     "duration": 0.014773,
     "end_time": "2023-08-20T19:51:56.855169",
     "exception": false,
     "start_time": "2023-08-20T19:51:56.840396",
     "status": "completed"
    },
    "tags": []
   },
   "outputs": [],
   "source": [
    "def display_text(n=10):\n",
    "    \"\"\"\n",
    "    This function takes n as input and displays n section of text\n",
    "    \"\"\"\n",
    "    pass"
   ]
  },
  {
   "cell_type": "code",
   "execution_count": null,
   "id": "7e715ba9",
   "metadata": {
    "papermill": {
     "duration": 0.005842,
     "end_time": "2023-08-20T19:51:56.867398",
     "exception": false,
     "start_time": "2023-08-20T19:51:56.861556",
     "status": "completed"
    },
    "tags": []
   },
   "outputs": [],
   "source": []
  },
  {
   "cell_type": "code",
   "execution_count": null,
   "id": "d53b0ab8",
   "metadata": {
    "papermill": {
     "duration": 0.005793,
     "end_time": "2023-08-20T19:51:56.879242",
     "exception": false,
     "start_time": "2023-08-20T19:51:56.873449",
     "status": "completed"
    },
    "tags": []
   },
   "outputs": [],
   "source": []
  },
  {
   "cell_type": "code",
   "execution_count": null,
   "id": "790664c0",
   "metadata": {
    "papermill": {
     "duration": 0.006019,
     "end_time": "2023-08-20T19:51:56.891295",
     "exception": false,
     "start_time": "2023-08-20T19:51:56.885276",
     "status": "completed"
    },
    "tags": []
   },
   "outputs": [],
   "source": []
  },
  {
   "cell_type": "markdown",
   "id": "5869c0fd",
   "metadata": {
    "papermill": {
     "duration": 0.005483,
     "end_time": "2023-08-20T19:51:56.902580",
     "exception": false,
     "start_time": "2023-08-20T19:51:56.897097",
     "status": "completed"
    },
    "tags": []
   },
   "source": []
  },
  {
   "cell_type": "markdown",
   "id": "fffee751",
   "metadata": {
    "papermill": {
     "duration": 0.005452,
     "end_time": "2023-08-20T19:51:56.913722",
     "exception": false,
     "start_time": "2023-08-20T19:51:56.908270",
     "status": "completed"
    },
    "tags": []
   },
   "source": []
  },
  {
   "cell_type": "code",
   "execution_count": null,
   "id": "2ff63806",
   "metadata": {
    "papermill": {
     "duration": 0.005909,
     "end_time": "2023-08-20T19:51:56.925505",
     "exception": false,
     "start_time": "2023-08-20T19:51:56.919596",
     "status": "completed"
    },
    "tags": []
   },
   "outputs": [],
   "source": []
  }
 ],
 "metadata": {
  "kernelspec": {
   "display_name": "Python 3",
   "language": "python",
   "name": "python3"
  },
  "language_info": {
   "codemirror_mode": {
    "name": "ipython",
    "version": 3
   },
   "file_extension": ".py",
   "mimetype": "text/x-python",
   "name": "python",
   "nbconvert_exporter": "python",
   "pygments_lexer": "ipython3",
   "version": "3.10.12"
  },
  "papermill": {
   "default_parameters": {},
   "duration": 11.525636,
   "end_time": "2023-08-20T19:51:57.753628",
   "environment_variables": {},
   "exception": null,
   "input_path": "__notebook__.ipynb",
   "output_path": "__notebook__.ipynb",
   "parameters": {},
   "start_time": "2023-08-20T19:51:46.227992",
   "version": "2.4.0"
  }
 },
 "nbformat": 4,
 "nbformat_minor": 5
}
