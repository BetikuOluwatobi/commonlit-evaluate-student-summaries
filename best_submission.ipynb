{
 "cells": [
  {
   "cell_type": "code",
   "execution_count": 1,
   "id": "7f614246",
   "metadata": {
    "_cell_guid": "b1076dfc-b9ad-4769-8c92-a6c4dae69d19",
    "_uuid": "8f2839f25d086af736a60e9eeb907d3b93b6e0e5",
    "execution": {
     "iopub.execute_input": "2023-08-24T10:23:05.361270Z",
     "iopub.status.busy": "2023-08-24T10:23:05.360714Z",
     "iopub.status.idle": "2023-08-24T10:23:05.379096Z",
     "shell.execute_reply": "2023-08-24T10:23:05.377980Z"
    },
    "papermill": {
     "duration": 0.03149,
     "end_time": "2023-08-24T10:23:05.381811",
     "exception": false,
     "start_time": "2023-08-24T10:23:05.350321",
     "status": "completed"
    },
    "tags": []
   },
   "outputs": [
    {
     "name": "stdout",
     "output_type": "stream",
     "text": [
      "/kaggle/input/commonlit-evaluate-student-summaries/sample_submission.csv\n",
      "/kaggle/input/commonlit-evaluate-student-summaries/prompts_train.csv\n",
      "/kaggle/input/commonlit-evaluate-student-summaries/summaries_test.csv\n",
      "/kaggle/input/commonlit-evaluate-student-summaries/summaries_train.csv\n",
      "/kaggle/input/commonlit-evaluate-student-summaries/prompts_test.csv\n"
     ]
    }
   ],
   "source": [
    "# This Python 3 environment comes with many helpful analytics libraries installed\n",
    "# It is defined by the kaggle/python Docker image: https://github.com/kaggle/docker-python\n",
    "# For example, here's several helpful packages to load\n",
    "\n",
    "import numpy as np # linear algebra\n",
    "import pandas as pd # data processing, CSV file I/O (e.g. pd.read_csv)\n",
    "\n",
    "# Input data files are available in the read-only \"../input/\" directory\n",
    "# For example, running this (by clicking run or pressing Shift+Enter) will list all files under the input directory\n",
    "\n",
    "import os\n",
    "for dirname, _, filenames in os.walk('/kaggle/input'):\n",
    "    for filename in filenames:\n",
    "        print(os.path.join(dirname, filename))\n",
    "\n",
    "# You can write up to 20GB to the current directory (/kaggle/working/) that gets preserved as output when you create a version using \"Save & Run All\" \n",
    "# You can also write temporary files to /kaggle/temp/, but they won't be saved outside of the current session"
   ]
  },
  {
   "cell_type": "code",
   "execution_count": 2,
   "id": "abf722bf",
   "metadata": {
    "execution": {
     "iopub.execute_input": "2023-08-24T10:23:05.399679Z",
     "iopub.status.busy": "2023-08-24T10:23:05.399024Z",
     "iopub.status.idle": "2023-08-24T10:23:48.229899Z",
     "shell.execute_reply": "2023-08-24T10:23:48.228665Z"
    },
    "papermill": {
     "duration": 42.849617,
     "end_time": "2023-08-24T10:23:48.239210",
     "exception": false,
     "start_time": "2023-08-24T10:23:05.389593",
     "status": "completed"
    },
    "tags": []
   },
   "outputs": [
    {
     "name": "stderr",
     "output_type": "stream",
     "text": [
      "/opt/conda/lib/python3.10/site-packages/scipy/__init__.py:146: UserWarning: A NumPy version >=1.16.5 and <1.23.0 is required for this version of SciPy (detected version 1.23.5\n",
      "  warnings.warn(f\"A NumPy version >={np_minversion} and <{np_maxversion}\"\n"
     ]
    },
    {
     "name": "stdout",
     "output_type": "stream",
     "text": [
      "[nltk_data] Error loading wordnet: <urlopen error [Errno -3] Temporary\n",
      "[nltk_data]     failure in name resolution>\n",
      "[nltk_data] Error loading stopwords: <urlopen error [Errno -3]\n",
      "[nltk_data]     Temporary failure in name resolution>\n"
     ]
    },
    {
     "data": {
      "text/plain": [
       "False"
      ]
     },
     "execution_count": 2,
     "metadata": {},
     "output_type": "execute_result"
    }
   ],
   "source": [
    "import numpy as np # linear algebra\n",
    "import pandas as pd # data processing, CSV file I/O (e.g. pd.read_csv)\n",
    "import nltk\n",
    "from nltk.corpus import stopwords\n",
    "from nltk.stem import LancasterStemmer,WordNetLemmatizer\n",
    "from sklearn.feature_extraction.text import CountVectorizer, TfidfTransformer\n",
    "from sklearn.ensemble import RandomForestRegressor\n",
    "from sklearn.multioutput import MultiOutputRegressor\n",
    "from sklearn.metrics import make_scorer\n",
    "from sklearn.preprocessing import StandardScaler\n",
    "from sklearn.model_selection import train_test_split, GridSearchCV\n",
    "from sklearn.decomposition import SparsePCA,PCA,KernelPCA\n",
    "\n",
    "nltk.download('wordnet')\n",
    "nltk.download('stopwords')"
   ]
  },
  {
   "cell_type": "code",
   "execution_count": 3,
   "id": "a6a9b7a5",
   "metadata": {
    "execution": {
     "iopub.execute_input": "2023-08-24T10:23:48.258365Z",
     "iopub.status.busy": "2023-08-24T10:23:48.257272Z",
     "iopub.status.idle": "2023-08-24T10:23:48.422052Z",
     "shell.execute_reply": "2023-08-24T10:23:48.420608Z"
    },
    "papermill": {
     "duration": 0.177737,
     "end_time": "2023-08-24T10:23:48.425060",
     "exception": false,
     "start_time": "2023-08-24T10:23:48.247323",
     "status": "completed"
    },
    "tags": []
   },
   "outputs": [],
   "source": [
    "summary_df = pd.read_csv('/kaggle/input/commonlit-evaluate-student-summaries/summaries_train.csv')\n",
    "prompt_df = pd.read_csv('/kaggle/input/commonlit-evaluate-student-summaries/prompts_train.csv')"
   ]
  },
  {
   "cell_type": "code",
   "execution_count": 4,
   "id": "e3f4d161",
   "metadata": {
    "execution": {
     "iopub.execute_input": "2023-08-24T10:23:48.445283Z",
     "iopub.status.busy": "2023-08-24T10:23:48.444855Z",
     "iopub.status.idle": "2023-08-24T10:23:48.452902Z",
     "shell.execute_reply": "2023-08-24T10:23:48.451719Z"
    },
    "papermill": {
     "duration": 0.02222,
     "end_time": "2023-08-24T10:23:48.455553",
     "exception": false,
     "start_time": "2023-08-24T10:23:48.433333",
     "status": "completed"
    },
    "tags": []
   },
   "outputs": [],
   "source": [
    "def clean_text(text):\n",
    "    stops = stopwords.words('english')\n",
    "    processed_text = []\n",
    "    for word in text.split():\n",
    "        if word not in stops:\n",
    "            processed_text.append(word)\n",
    "    return ' '.join(processed_text)\n",
    "\n",
    "def stem_word(text):\n",
    "    stem = LancasterStemmer()\n",
    "    stemmed_data = []\n",
    "    for word in text.split():\n",
    "        stemmed_data.append(stem.stem(word.lower()))\n",
    "    return ' '.join(stemmed_data)"
   ]
  },
  {
   "cell_type": "code",
   "execution_count": 5,
   "id": "d8a922a5",
   "metadata": {
    "execution": {
     "iopub.execute_input": "2023-08-24T10:23:48.473906Z",
     "iopub.status.busy": "2023-08-24T10:23:48.473448Z",
     "iopub.status.idle": "2023-08-24T10:23:48.487869Z",
     "shell.execute_reply": "2023-08-24T10:23:48.486291Z"
    },
    "papermill": {
     "duration": 0.026789,
     "end_time": "2023-08-24T10:23:48.490698",
     "exception": false,
     "start_time": "2023-08-24T10:23:48.463909",
     "status": "completed"
    },
    "tags": []
   },
   "outputs": [],
   "source": [
    "def preprocess_data(summary_df,prompt_df,ngram_range=(1,1)):\n",
    "    train_df = summary_df.merge(right=prompt_df,how='inner', on='prompt_id')\n",
    "    train_df['full_text'] = train_df.apply(lambda x: 'Title:\\n'+x['prompt_title']+\n",
    "                   '\\nQuestion:\\n'+x['prompt_question']+\n",
    "                   '\\nText:\\n'+x['prompt_text']+\n",
    "                   '\\nAnswer:\\n'+x['text'],axis=1)\n",
    "    train_df['full_text'] = train_df['full_text'].apply(clean_text)\n",
    "    train_df['full_text'] = train_df['full_text'].apply(stem_word)\n",
    "    train_df['length_of_summary'] = train_df['text'].apply(lambda x: len(x))\n",
    "    train_df['summary_text'] = train_df.apply(lambda x: 'Question:\\n'+x['prompt_question']+'\\nAnswer:\\n'+x['text'],axis=1)\n",
    "    df = train_df[['student_id','full_text','summary_text','length_of_summary','content','wording']].copy()\n",
    "    global transformer, vectorizer, scaler, pca\n",
    "    vectorizer = CountVectorizer(ngram_range=ngram_range)\n",
    "    transformer = TfidfTransformer()\n",
    "    transformed_df = transformer.fit_transform(vectorizer.fit_transform(df['full_text']))\n",
    "    summary_transformed_df = transformer.transform(vectorizer.transform(df['summary_text']))\n",
    "    scaler = StandardScaler(with_mean=True, with_std=True,)\n",
    "    X_sample_scaled = scaler.fit_transform(transformed_df.toarray())\n",
    "    X_summary_scaled = scaler.fit_transform(summary_transformed_df.toarray())\n",
    "    pca = PCA(n_components=2207)\n",
    "    pca_bag = pca.fit_transform(X_sample_scaled)\n",
    "    summary_bag = pca.transform(X_summary_scaled)\n",
    "    stacked_bag = np.hstack((pca_bag,summary_bag,df[['length_of_summary','content','wording']].values))\n",
    "    student_ids = df['student_id'].values\n",
    "    return stacked_bag, student_ids"
   ]
  },
  {
   "cell_type": "code",
   "execution_count": 6,
   "id": "629baee9",
   "metadata": {
    "execution": {
     "iopub.execute_input": "2023-08-24T10:23:48.509394Z",
     "iopub.status.busy": "2023-08-24T10:23:48.508961Z",
     "iopub.status.idle": "2023-08-24T10:27:07.345442Z",
     "shell.execute_reply": "2023-08-24T10:27:07.344341Z"
    },
    "papermill": {
     "duration": 198.849178,
     "end_time": "2023-08-24T10:27:07.348429",
     "exception": false,
     "start_time": "2023-08-24T10:23:48.499251",
     "status": "completed"
    },
    "tags": []
   },
   "outputs": [],
   "source": [
    "stacked_bag, student_ids = preprocess_data(summary_df,prompt_df,ngram_range=(1,1))"
   ]
  },
  {
   "cell_type": "code",
   "execution_count": 7,
   "id": "c66f95e4",
   "metadata": {
    "execution": {
     "iopub.execute_input": "2023-08-24T10:27:07.367924Z",
     "iopub.status.busy": "2023-08-24T10:27:07.367462Z",
     "iopub.status.idle": "2023-08-24T10:27:07.458271Z",
     "shell.execute_reply": "2023-08-24T10:27:07.456983Z"
    },
    "papermill": {
     "duration": 0.103834,
     "end_time": "2023-08-24T10:27:07.461443",
     "exception": false,
     "start_time": "2023-08-24T10:27:07.357609",
     "status": "completed"
    },
    "tags": []
   },
   "outputs": [],
   "source": [
    "X_train,X_test,y_train,y_test = train_test_split(stacked_bag[:,:-2] ,stacked_bag[:,-2:],test_size=0.1,shuffle=True,random_state=11)"
   ]
  },
  {
   "cell_type": "code",
   "execution_count": 8,
   "id": "6db4feef",
   "metadata": {
    "execution": {
     "iopub.execute_input": "2023-08-24T10:27:07.479542Z",
     "iopub.status.busy": "2023-08-24T10:27:07.479148Z",
     "iopub.status.idle": "2023-08-24T10:27:07.486133Z",
     "shell.execute_reply": "2023-08-24T10:27:07.484707Z"
    },
    "papermill": {
     "duration": 0.019201,
     "end_time": "2023-08-24T10:27:07.488752",
     "exception": false,
     "start_time": "2023-08-24T10:27:07.469551",
     "status": "completed"
    },
    "tags": []
   },
   "outputs": [],
   "source": [
    "def mcrmse(y_true, y_pred):\n",
    "    return np.mean(np.sqrt(np.mean((y_true - y_pred)**2, axis=0)))\n",
    "\n",
    "mcrmse_scorer = make_scorer(mcrmse, greater_is_better=False)\n",
    "model_rf = MultiOutputRegressor(RandomForestRegressor(n_estimators=100,criterion='squared_error',max_depth=5,random_state=11),n_jobs=-1)"
   ]
  },
  {
   "cell_type": "code",
   "execution_count": 9,
   "id": "a44d462b",
   "metadata": {
    "execution": {
     "iopub.execute_input": "2023-08-24T10:27:07.507371Z",
     "iopub.status.busy": "2023-08-24T10:27:07.506533Z",
     "iopub.status.idle": "2023-08-24T10:27:07.512655Z",
     "shell.execute_reply": "2023-08-24T10:27:07.511406Z"
    },
    "papermill": {
     "duration": 0.018127,
     "end_time": "2023-08-24T10:27:07.515197",
     "exception": false,
     "start_time": "2023-08-24T10:27:07.497070",
     "status": "completed"
    },
    "tags": []
   },
   "outputs": [],
   "source": [
    "model_rf = MultiOutputRegressor(RandomForestRegressor(n_estimators=100,criterion='squared_error',max_depth=5,random_state=11),n_jobs=-1)"
   ]
  },
  {
   "cell_type": "code",
   "execution_count": 10,
   "id": "25cede54",
   "metadata": {
    "execution": {
     "iopub.execute_input": "2023-08-24T10:27:07.534119Z",
     "iopub.status.busy": "2023-08-24T10:27:07.533351Z",
     "iopub.status.idle": "2023-08-24T10:45:44.891598Z",
     "shell.execute_reply": "2023-08-24T10:45:44.890242Z"
    },
    "papermill": {
     "duration": 1117.379115,
     "end_time": "2023-08-24T10:45:44.902692",
     "exception": false,
     "start_time": "2023-08-24T10:27:07.523577",
     "status": "completed"
    },
    "tags": []
   },
   "outputs": [
    {
     "name": "stderr",
     "output_type": "stream",
     "text": [
      "/opt/conda/lib/python3.10/site-packages/scipy/__init__.py:146: UserWarning: A NumPy version >=1.16.5 and <1.23.0 is required for this version of SciPy (detected version 1.23.5\n",
      "  warnings.warn(f\"A NumPy version >={np_minversion} and <{np_maxversion}\"\n",
      "/opt/conda/lib/python3.10/site-packages/scipy/__init__.py:146: UserWarning: A NumPy version >=1.16.5 and <1.23.0 is required for this version of SciPy (detected version 1.23.5\n",
      "  warnings.warn(f\"A NumPy version >={np_minversion} and <{np_maxversion}\"\n"
     ]
    },
    {
     "data": {
      "text/html": [
       "<style>#sk-container-id-1 {color: black;background-color: white;}#sk-container-id-1 pre{padding: 0;}#sk-container-id-1 div.sk-toggleable {background-color: white;}#sk-container-id-1 label.sk-toggleable__label {cursor: pointer;display: block;width: 100%;margin-bottom: 0;padding: 0.3em;box-sizing: border-box;text-align: center;}#sk-container-id-1 label.sk-toggleable__label-arrow:before {content: \"▸\";float: left;margin-right: 0.25em;color: #696969;}#sk-container-id-1 label.sk-toggleable__label-arrow:hover:before {color: black;}#sk-container-id-1 div.sk-estimator:hover label.sk-toggleable__label-arrow:before {color: black;}#sk-container-id-1 div.sk-toggleable__content {max-height: 0;max-width: 0;overflow: hidden;text-align: left;background-color: #f0f8ff;}#sk-container-id-1 div.sk-toggleable__content pre {margin: 0.2em;color: black;border-radius: 0.25em;background-color: #f0f8ff;}#sk-container-id-1 input.sk-toggleable__control:checked~div.sk-toggleable__content {max-height: 200px;max-width: 100%;overflow: auto;}#sk-container-id-1 input.sk-toggleable__control:checked~label.sk-toggleable__label-arrow:before {content: \"▾\";}#sk-container-id-1 div.sk-estimator input.sk-toggleable__control:checked~label.sk-toggleable__label {background-color: #d4ebff;}#sk-container-id-1 div.sk-label input.sk-toggleable__control:checked~label.sk-toggleable__label {background-color: #d4ebff;}#sk-container-id-1 input.sk-hidden--visually {border: 0;clip: rect(1px 1px 1px 1px);clip: rect(1px, 1px, 1px, 1px);height: 1px;margin: -1px;overflow: hidden;padding: 0;position: absolute;width: 1px;}#sk-container-id-1 div.sk-estimator {font-family: monospace;background-color: #f0f8ff;border: 1px dotted black;border-radius: 0.25em;box-sizing: border-box;margin-bottom: 0.5em;}#sk-container-id-1 div.sk-estimator:hover {background-color: #d4ebff;}#sk-container-id-1 div.sk-parallel-item::after {content: \"\";width: 100%;border-bottom: 1px solid gray;flex-grow: 1;}#sk-container-id-1 div.sk-label:hover label.sk-toggleable__label {background-color: #d4ebff;}#sk-container-id-1 div.sk-serial::before {content: \"\";position: absolute;border-left: 1px solid gray;box-sizing: border-box;top: 0;bottom: 0;left: 50%;z-index: 0;}#sk-container-id-1 div.sk-serial {display: flex;flex-direction: column;align-items: center;background-color: white;padding-right: 0.2em;padding-left: 0.2em;position: relative;}#sk-container-id-1 div.sk-item {position: relative;z-index: 1;}#sk-container-id-1 div.sk-parallel {display: flex;align-items: stretch;justify-content: center;background-color: white;position: relative;}#sk-container-id-1 div.sk-item::before, #sk-container-id-1 div.sk-parallel-item::before {content: \"\";position: absolute;border-left: 1px solid gray;box-sizing: border-box;top: 0;bottom: 0;left: 50%;z-index: -1;}#sk-container-id-1 div.sk-parallel-item {display: flex;flex-direction: column;z-index: 1;position: relative;background-color: white;}#sk-container-id-1 div.sk-parallel-item:first-child::after {align-self: flex-end;width: 50%;}#sk-container-id-1 div.sk-parallel-item:last-child::after {align-self: flex-start;width: 50%;}#sk-container-id-1 div.sk-parallel-item:only-child::after {width: 0;}#sk-container-id-1 div.sk-dashed-wrapped {border: 1px dashed gray;margin: 0 0.4em 0.5em 0.4em;box-sizing: border-box;padding-bottom: 0.4em;background-color: white;}#sk-container-id-1 div.sk-label label {font-family: monospace;font-weight: bold;display: inline-block;line-height: 1.2em;}#sk-container-id-1 div.sk-label-container {text-align: center;}#sk-container-id-1 div.sk-container {/* jupyter's `normalize.less` sets `[hidden] { display: none; }` but bootstrap.min.css set `[hidden] { display: none !important; }` so we also need the `!important` here to be able to override the default hidden behavior on the sphinx rendered scikit-learn.org. See: https://github.com/scikit-learn/scikit-learn/issues/21755 */display: inline-block !important;position: relative;}#sk-container-id-1 div.sk-text-repr-fallback {display: none;}</style><div id=\"sk-container-id-1\" class=\"sk-top-container\"><div class=\"sk-text-repr-fallback\"><pre>MultiOutputRegressor(estimator=RandomForestRegressor(max_depth=5,\n",
       "                                                     random_state=11),\n",
       "                     n_jobs=-1)</pre><b>In a Jupyter environment, please rerun this cell to show the HTML representation or trust the notebook. <br />On GitHub, the HTML representation is unable to render, please try loading this page with nbviewer.org.</b></div><div class=\"sk-container\" hidden><div class=\"sk-item sk-dashed-wrapped\"><div class=\"sk-label-container\"><div class=\"sk-label sk-toggleable\"><input class=\"sk-toggleable__control sk-hidden--visually\" id=\"sk-estimator-id-1\" type=\"checkbox\" ><label for=\"sk-estimator-id-1\" class=\"sk-toggleable__label sk-toggleable__label-arrow\">MultiOutputRegressor</label><div class=\"sk-toggleable__content\"><pre>MultiOutputRegressor(estimator=RandomForestRegressor(max_depth=5,\n",
       "                                                     random_state=11),\n",
       "                     n_jobs=-1)</pre></div></div></div><div class=\"sk-parallel\"><div class=\"sk-parallel-item\"><div class=\"sk-item\"><div class=\"sk-label-container\"><div class=\"sk-label sk-toggleable\"><input class=\"sk-toggleable__control sk-hidden--visually\" id=\"sk-estimator-id-2\" type=\"checkbox\" ><label for=\"sk-estimator-id-2\" class=\"sk-toggleable__label sk-toggleable__label-arrow\">estimator: RandomForestRegressor</label><div class=\"sk-toggleable__content\"><pre>RandomForestRegressor(max_depth=5, random_state=11)</pre></div></div></div><div class=\"sk-serial\"><div class=\"sk-item\"><div class=\"sk-estimator sk-toggleable\"><input class=\"sk-toggleable__control sk-hidden--visually\" id=\"sk-estimator-id-3\" type=\"checkbox\" ><label for=\"sk-estimator-id-3\" class=\"sk-toggleable__label sk-toggleable__label-arrow\">RandomForestRegressor</label><div class=\"sk-toggleable__content\"><pre>RandomForestRegressor(max_depth=5, random_state=11)</pre></div></div></div></div></div></div></div></div></div></div>"
      ],
      "text/plain": [
       "MultiOutputRegressor(estimator=RandomForestRegressor(max_depth=5,\n",
       "                                                     random_state=11),\n",
       "                     n_jobs=-1)"
      ]
     },
     "execution_count": 10,
     "metadata": {},
     "output_type": "execute_result"
    }
   ],
   "source": [
    "model_rf.fit(X_train,y_train)"
   ]
  },
  {
   "cell_type": "code",
   "execution_count": 11,
   "id": "052fd8b5",
   "metadata": {
    "execution": {
     "iopub.execute_input": "2023-08-24T10:45:44.922729Z",
     "iopub.status.busy": "2023-08-24T10:45:44.921689Z",
     "iopub.status.idle": "2023-08-24T10:45:45.201036Z",
     "shell.execute_reply": "2023-08-24T10:45:45.199320Z"
    },
    "papermill": {
     "duration": 0.293059,
     "end_time": "2023-08-24T10:45:45.204249",
     "exception": false,
     "start_time": "2023-08-24T10:45:44.911190",
     "status": "completed"
    },
    "tags": []
   },
   "outputs": [],
   "source": [
    "y_preds = model_rf.predict(X_test)"
   ]
  },
  {
   "cell_type": "code",
   "execution_count": 12,
   "id": "9a1eede8",
   "metadata": {
    "execution": {
     "iopub.execute_input": "2023-08-24T10:45:45.232881Z",
     "iopub.status.busy": "2023-08-24T10:45:45.231486Z",
     "iopub.status.idle": "2023-08-24T10:45:45.241702Z",
     "shell.execute_reply": "2023-08-24T10:45:45.240587Z"
    },
    "papermill": {
     "duration": 0.028134,
     "end_time": "2023-08-24T10:45:45.244997",
     "exception": false,
     "start_time": "2023-08-24T10:45:45.216863",
     "status": "completed"
    },
    "tags": []
   },
   "outputs": [
    {
     "data": {
      "text/plain": [
       "0.558861869185053"
      ]
     },
     "execution_count": 12,
     "metadata": {},
     "output_type": "execute_result"
    }
   ],
   "source": [
    "mcrmse(y_test,y_preds)"
   ]
  },
  {
   "cell_type": "code",
   "execution_count": 13,
   "id": "9bb57069",
   "metadata": {
    "execution": {
     "iopub.execute_input": "2023-08-24T10:45:45.274282Z",
     "iopub.status.busy": "2023-08-24T10:45:45.273255Z",
     "iopub.status.idle": "2023-08-24T11:06:57.379166Z",
     "shell.execute_reply": "2023-08-24T11:06:57.377910Z"
    },
    "papermill": {
     "duration": 1272.133028,
     "end_time": "2023-08-24T11:06:57.390988",
     "exception": false,
     "start_time": "2023-08-24T10:45:45.257960",
     "status": "completed"
    },
    "tags": []
   },
   "outputs": [
    {
     "data": {
      "text/html": [
       "<style>#sk-container-id-2 {color: black;background-color: white;}#sk-container-id-2 pre{padding: 0;}#sk-container-id-2 div.sk-toggleable {background-color: white;}#sk-container-id-2 label.sk-toggleable__label {cursor: pointer;display: block;width: 100%;margin-bottom: 0;padding: 0.3em;box-sizing: border-box;text-align: center;}#sk-container-id-2 label.sk-toggleable__label-arrow:before {content: \"▸\";float: left;margin-right: 0.25em;color: #696969;}#sk-container-id-2 label.sk-toggleable__label-arrow:hover:before {color: black;}#sk-container-id-2 div.sk-estimator:hover label.sk-toggleable__label-arrow:before {color: black;}#sk-container-id-2 div.sk-toggleable__content {max-height: 0;max-width: 0;overflow: hidden;text-align: left;background-color: #f0f8ff;}#sk-container-id-2 div.sk-toggleable__content pre {margin: 0.2em;color: black;border-radius: 0.25em;background-color: #f0f8ff;}#sk-container-id-2 input.sk-toggleable__control:checked~div.sk-toggleable__content {max-height: 200px;max-width: 100%;overflow: auto;}#sk-container-id-2 input.sk-toggleable__control:checked~label.sk-toggleable__label-arrow:before {content: \"▾\";}#sk-container-id-2 div.sk-estimator input.sk-toggleable__control:checked~label.sk-toggleable__label {background-color: #d4ebff;}#sk-container-id-2 div.sk-label input.sk-toggleable__control:checked~label.sk-toggleable__label {background-color: #d4ebff;}#sk-container-id-2 input.sk-hidden--visually {border: 0;clip: rect(1px 1px 1px 1px);clip: rect(1px, 1px, 1px, 1px);height: 1px;margin: -1px;overflow: hidden;padding: 0;position: absolute;width: 1px;}#sk-container-id-2 div.sk-estimator {font-family: monospace;background-color: #f0f8ff;border: 1px dotted black;border-radius: 0.25em;box-sizing: border-box;margin-bottom: 0.5em;}#sk-container-id-2 div.sk-estimator:hover {background-color: #d4ebff;}#sk-container-id-2 div.sk-parallel-item::after {content: \"\";width: 100%;border-bottom: 1px solid gray;flex-grow: 1;}#sk-container-id-2 div.sk-label:hover label.sk-toggleable__label {background-color: #d4ebff;}#sk-container-id-2 div.sk-serial::before {content: \"\";position: absolute;border-left: 1px solid gray;box-sizing: border-box;top: 0;bottom: 0;left: 50%;z-index: 0;}#sk-container-id-2 div.sk-serial {display: flex;flex-direction: column;align-items: center;background-color: white;padding-right: 0.2em;padding-left: 0.2em;position: relative;}#sk-container-id-2 div.sk-item {position: relative;z-index: 1;}#sk-container-id-2 div.sk-parallel {display: flex;align-items: stretch;justify-content: center;background-color: white;position: relative;}#sk-container-id-2 div.sk-item::before, #sk-container-id-2 div.sk-parallel-item::before {content: \"\";position: absolute;border-left: 1px solid gray;box-sizing: border-box;top: 0;bottom: 0;left: 50%;z-index: -1;}#sk-container-id-2 div.sk-parallel-item {display: flex;flex-direction: column;z-index: 1;position: relative;background-color: white;}#sk-container-id-2 div.sk-parallel-item:first-child::after {align-self: flex-end;width: 50%;}#sk-container-id-2 div.sk-parallel-item:last-child::after {align-self: flex-start;width: 50%;}#sk-container-id-2 div.sk-parallel-item:only-child::after {width: 0;}#sk-container-id-2 div.sk-dashed-wrapped {border: 1px dashed gray;margin: 0 0.4em 0.5em 0.4em;box-sizing: border-box;padding-bottom: 0.4em;background-color: white;}#sk-container-id-2 div.sk-label label {font-family: monospace;font-weight: bold;display: inline-block;line-height: 1.2em;}#sk-container-id-2 div.sk-label-container {text-align: center;}#sk-container-id-2 div.sk-container {/* jupyter's `normalize.less` sets `[hidden] { display: none; }` but bootstrap.min.css set `[hidden] { display: none !important; }` so we also need the `!important` here to be able to override the default hidden behavior on the sphinx rendered scikit-learn.org. See: https://github.com/scikit-learn/scikit-learn/issues/21755 */display: inline-block !important;position: relative;}#sk-container-id-2 div.sk-text-repr-fallback {display: none;}</style><div id=\"sk-container-id-2\" class=\"sk-top-container\"><div class=\"sk-text-repr-fallback\"><pre>MultiOutputRegressor(estimator=RandomForestRegressor(max_depth=5,\n",
       "                                                     random_state=11),\n",
       "                     n_jobs=-1)</pre><b>In a Jupyter environment, please rerun this cell to show the HTML representation or trust the notebook. <br />On GitHub, the HTML representation is unable to render, please try loading this page with nbviewer.org.</b></div><div class=\"sk-container\" hidden><div class=\"sk-item sk-dashed-wrapped\"><div class=\"sk-label-container\"><div class=\"sk-label sk-toggleable\"><input class=\"sk-toggleable__control sk-hidden--visually\" id=\"sk-estimator-id-4\" type=\"checkbox\" ><label for=\"sk-estimator-id-4\" class=\"sk-toggleable__label sk-toggleable__label-arrow\">MultiOutputRegressor</label><div class=\"sk-toggleable__content\"><pre>MultiOutputRegressor(estimator=RandomForestRegressor(max_depth=5,\n",
       "                                                     random_state=11),\n",
       "                     n_jobs=-1)</pre></div></div></div><div class=\"sk-parallel\"><div class=\"sk-parallel-item\"><div class=\"sk-item\"><div class=\"sk-label-container\"><div class=\"sk-label sk-toggleable\"><input class=\"sk-toggleable__control sk-hidden--visually\" id=\"sk-estimator-id-5\" type=\"checkbox\" ><label for=\"sk-estimator-id-5\" class=\"sk-toggleable__label sk-toggleable__label-arrow\">estimator: RandomForestRegressor</label><div class=\"sk-toggleable__content\"><pre>RandomForestRegressor(max_depth=5, random_state=11)</pre></div></div></div><div class=\"sk-serial\"><div class=\"sk-item\"><div class=\"sk-estimator sk-toggleable\"><input class=\"sk-toggleable__control sk-hidden--visually\" id=\"sk-estimator-id-6\" type=\"checkbox\" ><label for=\"sk-estimator-id-6\" class=\"sk-toggleable__label sk-toggleable__label-arrow\">RandomForestRegressor</label><div class=\"sk-toggleable__content\"><pre>RandomForestRegressor(max_depth=5, random_state=11)</pre></div></div></div></div></div></div></div></div></div></div>"
      ],
      "text/plain": [
       "MultiOutputRegressor(estimator=RandomForestRegressor(max_depth=5,\n",
       "                                                     random_state=11),\n",
       "                     n_jobs=-1)"
      ]
     },
     "execution_count": 13,
     "metadata": {},
     "output_type": "execute_result"
    }
   ],
   "source": [
    "model_rf.fit(stacked_bag[:,:-2], stacked_bag[:,-2:])"
   ]
  },
  {
   "cell_type": "code",
   "execution_count": 14,
   "id": "fd42ea7a",
   "metadata": {
    "execution": {
     "iopub.execute_input": "2023-08-24T11:06:57.411771Z",
     "iopub.status.busy": "2023-08-24T11:06:57.411351Z",
     "iopub.status.idle": "2023-08-24T11:06:57.419948Z",
     "shell.execute_reply": "2023-08-24T11:06:57.418544Z"
    },
    "papermill": {
     "duration": 0.023284,
     "end_time": "2023-08-24T11:06:57.423390",
     "exception": false,
     "start_time": "2023-08-24T11:06:57.400106",
     "status": "completed"
    },
    "tags": []
   },
   "outputs": [
    {
     "data": {
      "text/html": [
       "<style>#sk-container-id-3 {color: black;background-color: white;}#sk-container-id-3 pre{padding: 0;}#sk-container-id-3 div.sk-toggleable {background-color: white;}#sk-container-id-3 label.sk-toggleable__label {cursor: pointer;display: block;width: 100%;margin-bottom: 0;padding: 0.3em;box-sizing: border-box;text-align: center;}#sk-container-id-3 label.sk-toggleable__label-arrow:before {content: \"▸\";float: left;margin-right: 0.25em;color: #696969;}#sk-container-id-3 label.sk-toggleable__label-arrow:hover:before {color: black;}#sk-container-id-3 div.sk-estimator:hover label.sk-toggleable__label-arrow:before {color: black;}#sk-container-id-3 div.sk-toggleable__content {max-height: 0;max-width: 0;overflow: hidden;text-align: left;background-color: #f0f8ff;}#sk-container-id-3 div.sk-toggleable__content pre {margin: 0.2em;color: black;border-radius: 0.25em;background-color: #f0f8ff;}#sk-container-id-3 input.sk-toggleable__control:checked~div.sk-toggleable__content {max-height: 200px;max-width: 100%;overflow: auto;}#sk-container-id-3 input.sk-toggleable__control:checked~label.sk-toggleable__label-arrow:before {content: \"▾\";}#sk-container-id-3 div.sk-estimator input.sk-toggleable__control:checked~label.sk-toggleable__label {background-color: #d4ebff;}#sk-container-id-3 div.sk-label input.sk-toggleable__control:checked~label.sk-toggleable__label {background-color: #d4ebff;}#sk-container-id-3 input.sk-hidden--visually {border: 0;clip: rect(1px 1px 1px 1px);clip: rect(1px, 1px, 1px, 1px);height: 1px;margin: -1px;overflow: hidden;padding: 0;position: absolute;width: 1px;}#sk-container-id-3 div.sk-estimator {font-family: monospace;background-color: #f0f8ff;border: 1px dotted black;border-radius: 0.25em;box-sizing: border-box;margin-bottom: 0.5em;}#sk-container-id-3 div.sk-estimator:hover {background-color: #d4ebff;}#sk-container-id-3 div.sk-parallel-item::after {content: \"\";width: 100%;border-bottom: 1px solid gray;flex-grow: 1;}#sk-container-id-3 div.sk-label:hover label.sk-toggleable__label {background-color: #d4ebff;}#sk-container-id-3 div.sk-serial::before {content: \"\";position: absolute;border-left: 1px solid gray;box-sizing: border-box;top: 0;bottom: 0;left: 50%;z-index: 0;}#sk-container-id-3 div.sk-serial {display: flex;flex-direction: column;align-items: center;background-color: white;padding-right: 0.2em;padding-left: 0.2em;position: relative;}#sk-container-id-3 div.sk-item {position: relative;z-index: 1;}#sk-container-id-3 div.sk-parallel {display: flex;align-items: stretch;justify-content: center;background-color: white;position: relative;}#sk-container-id-3 div.sk-item::before, #sk-container-id-3 div.sk-parallel-item::before {content: \"\";position: absolute;border-left: 1px solid gray;box-sizing: border-box;top: 0;bottom: 0;left: 50%;z-index: -1;}#sk-container-id-3 div.sk-parallel-item {display: flex;flex-direction: column;z-index: 1;position: relative;background-color: white;}#sk-container-id-3 div.sk-parallel-item:first-child::after {align-self: flex-end;width: 50%;}#sk-container-id-3 div.sk-parallel-item:last-child::after {align-self: flex-start;width: 50%;}#sk-container-id-3 div.sk-parallel-item:only-child::after {width: 0;}#sk-container-id-3 div.sk-dashed-wrapped {border: 1px dashed gray;margin: 0 0.4em 0.5em 0.4em;box-sizing: border-box;padding-bottom: 0.4em;background-color: white;}#sk-container-id-3 div.sk-label label {font-family: monospace;font-weight: bold;display: inline-block;line-height: 1.2em;}#sk-container-id-3 div.sk-label-container {text-align: center;}#sk-container-id-3 div.sk-container {/* jupyter's `normalize.less` sets `[hidden] { display: none; }` but bootstrap.min.css set `[hidden] { display: none !important; }` so we also need the `!important` here to be able to override the default hidden behavior on the sphinx rendered scikit-learn.org. See: https://github.com/scikit-learn/scikit-learn/issues/21755 */display: inline-block !important;position: relative;}#sk-container-id-3 div.sk-text-repr-fallback {display: none;}</style><div id=\"sk-container-id-3\" class=\"sk-top-container\"><div class=\"sk-text-repr-fallback\"><pre>CountVectorizer()</pre><b>In a Jupyter environment, please rerun this cell to show the HTML representation or trust the notebook. <br />On GitHub, the HTML representation is unable to render, please try loading this page with nbviewer.org.</b></div><div class=\"sk-container\" hidden><div class=\"sk-item\"><div class=\"sk-estimator sk-toggleable\"><input class=\"sk-toggleable__control sk-hidden--visually\" id=\"sk-estimator-id-7\" type=\"checkbox\" checked><label for=\"sk-estimator-id-7\" class=\"sk-toggleable__label sk-toggleable__label-arrow\">CountVectorizer</label><div class=\"sk-toggleable__content\"><pre>CountVectorizer()</pre></div></div></div></div></div>"
      ],
      "text/plain": [
       "CountVectorizer()"
      ]
     },
     "execution_count": 14,
     "metadata": {},
     "output_type": "execute_result"
    }
   ],
   "source": [
    "vectorizer"
   ]
  },
  {
   "cell_type": "code",
   "execution_count": 15,
   "id": "fcd6c5c0",
   "metadata": {
    "execution": {
     "iopub.execute_input": "2023-08-24T11:06:57.451216Z",
     "iopub.status.busy": "2023-08-24T11:06:57.450764Z",
     "iopub.status.idle": "2023-08-24T11:06:57.461209Z",
     "shell.execute_reply": "2023-08-24T11:06:57.459913Z"
    },
    "papermill": {
     "duration": 0.028573,
     "end_time": "2023-08-24T11:06:57.464174",
     "exception": false,
     "start_time": "2023-08-24T11:06:57.435601",
     "status": "completed"
    },
    "tags": []
   },
   "outputs": [
    {
     "data": {
      "text/html": [
       "<style>#sk-container-id-4 {color: black;background-color: white;}#sk-container-id-4 pre{padding: 0;}#sk-container-id-4 div.sk-toggleable {background-color: white;}#sk-container-id-4 label.sk-toggleable__label {cursor: pointer;display: block;width: 100%;margin-bottom: 0;padding: 0.3em;box-sizing: border-box;text-align: center;}#sk-container-id-4 label.sk-toggleable__label-arrow:before {content: \"▸\";float: left;margin-right: 0.25em;color: #696969;}#sk-container-id-4 label.sk-toggleable__label-arrow:hover:before {color: black;}#sk-container-id-4 div.sk-estimator:hover label.sk-toggleable__label-arrow:before {color: black;}#sk-container-id-4 div.sk-toggleable__content {max-height: 0;max-width: 0;overflow: hidden;text-align: left;background-color: #f0f8ff;}#sk-container-id-4 div.sk-toggleable__content pre {margin: 0.2em;color: black;border-radius: 0.25em;background-color: #f0f8ff;}#sk-container-id-4 input.sk-toggleable__control:checked~div.sk-toggleable__content {max-height: 200px;max-width: 100%;overflow: auto;}#sk-container-id-4 input.sk-toggleable__control:checked~label.sk-toggleable__label-arrow:before {content: \"▾\";}#sk-container-id-4 div.sk-estimator input.sk-toggleable__control:checked~label.sk-toggleable__label {background-color: #d4ebff;}#sk-container-id-4 div.sk-label input.sk-toggleable__control:checked~label.sk-toggleable__label {background-color: #d4ebff;}#sk-container-id-4 input.sk-hidden--visually {border: 0;clip: rect(1px 1px 1px 1px);clip: rect(1px, 1px, 1px, 1px);height: 1px;margin: -1px;overflow: hidden;padding: 0;position: absolute;width: 1px;}#sk-container-id-4 div.sk-estimator {font-family: monospace;background-color: #f0f8ff;border: 1px dotted black;border-radius: 0.25em;box-sizing: border-box;margin-bottom: 0.5em;}#sk-container-id-4 div.sk-estimator:hover {background-color: #d4ebff;}#sk-container-id-4 div.sk-parallel-item::after {content: \"\";width: 100%;border-bottom: 1px solid gray;flex-grow: 1;}#sk-container-id-4 div.sk-label:hover label.sk-toggleable__label {background-color: #d4ebff;}#sk-container-id-4 div.sk-serial::before {content: \"\";position: absolute;border-left: 1px solid gray;box-sizing: border-box;top: 0;bottom: 0;left: 50%;z-index: 0;}#sk-container-id-4 div.sk-serial {display: flex;flex-direction: column;align-items: center;background-color: white;padding-right: 0.2em;padding-left: 0.2em;position: relative;}#sk-container-id-4 div.sk-item {position: relative;z-index: 1;}#sk-container-id-4 div.sk-parallel {display: flex;align-items: stretch;justify-content: center;background-color: white;position: relative;}#sk-container-id-4 div.sk-item::before, #sk-container-id-4 div.sk-parallel-item::before {content: \"\";position: absolute;border-left: 1px solid gray;box-sizing: border-box;top: 0;bottom: 0;left: 50%;z-index: -1;}#sk-container-id-4 div.sk-parallel-item {display: flex;flex-direction: column;z-index: 1;position: relative;background-color: white;}#sk-container-id-4 div.sk-parallel-item:first-child::after {align-self: flex-end;width: 50%;}#sk-container-id-4 div.sk-parallel-item:last-child::after {align-self: flex-start;width: 50%;}#sk-container-id-4 div.sk-parallel-item:only-child::after {width: 0;}#sk-container-id-4 div.sk-dashed-wrapped {border: 1px dashed gray;margin: 0 0.4em 0.5em 0.4em;box-sizing: border-box;padding-bottom: 0.4em;background-color: white;}#sk-container-id-4 div.sk-label label {font-family: monospace;font-weight: bold;display: inline-block;line-height: 1.2em;}#sk-container-id-4 div.sk-label-container {text-align: center;}#sk-container-id-4 div.sk-container {/* jupyter's `normalize.less` sets `[hidden] { display: none; }` but bootstrap.min.css set `[hidden] { display: none !important; }` so we also need the `!important` here to be able to override the default hidden behavior on the sphinx rendered scikit-learn.org. See: https://github.com/scikit-learn/scikit-learn/issues/21755 */display: inline-block !important;position: relative;}#sk-container-id-4 div.sk-text-repr-fallback {display: none;}</style><div id=\"sk-container-id-4\" class=\"sk-top-container\"><div class=\"sk-text-repr-fallback\"><pre>StandardScaler()</pre><b>In a Jupyter environment, please rerun this cell to show the HTML representation or trust the notebook. <br />On GitHub, the HTML representation is unable to render, please try loading this page with nbviewer.org.</b></div><div class=\"sk-container\" hidden><div class=\"sk-item\"><div class=\"sk-estimator sk-toggleable\"><input class=\"sk-toggleable__control sk-hidden--visually\" id=\"sk-estimator-id-8\" type=\"checkbox\" checked><label for=\"sk-estimator-id-8\" class=\"sk-toggleable__label sk-toggleable__label-arrow\">StandardScaler</label><div class=\"sk-toggleable__content\"><pre>StandardScaler()</pre></div></div></div></div></div>"
      ],
      "text/plain": [
       "StandardScaler()"
      ]
     },
     "execution_count": 15,
     "metadata": {},
     "output_type": "execute_result"
    }
   ],
   "source": [
    "scaler"
   ]
  },
  {
   "cell_type": "code",
   "execution_count": 16,
   "id": "1f37264e",
   "metadata": {
    "execution": {
     "iopub.execute_input": "2023-08-24T11:06:57.487272Z",
     "iopub.status.busy": "2023-08-24T11:06:57.486771Z",
     "iopub.status.idle": "2023-08-24T11:06:57.500471Z",
     "shell.execute_reply": "2023-08-24T11:06:57.498902Z"
    },
    "papermill": {
     "duration": 0.027762,
     "end_time": "2023-08-24T11:06:57.503236",
     "exception": false,
     "start_time": "2023-08-24T11:06:57.475474",
     "status": "completed"
    },
    "tags": []
   },
   "outputs": [],
   "source": [
    "def preprocess_data(summary_df, prompt_df, vectorizer=vectorizer,scaler=scaler,transformer=transformer,pca=pca):\n",
    "    train_df = summary_df.merge(right=prompt_df,how='inner', on='prompt_id')\n",
    "    train_df['full_text'] = train_df.apply(lambda x: 'Title:\\n'+x['prompt_title']+\n",
    "                   '\\nQuestion:\\n'+x['prompt_question']+\n",
    "                   '\\nText:\\n'+x['prompt_text']+\n",
    "                   '\\nAnswer:\\n'+x['text'],axis=1)\n",
    "    train_df['full_text'] = train_df['full_text'].apply(clean_text)\n",
    "    train_df['full_text'] = train_df['full_text'].apply(stem_word)\n",
    "    train_df['length_of_summary'] = train_df['text'].apply(lambda x: len(x))\n",
    "    train_df['summary_text'] = train_df.apply(lambda x: 'Question:\\n'+x['prompt_question']+'\\nAnswer:\\n'+x['text'],axis=1)\n",
    "    df = train_df[['student_id','full_text','summary_text','length_of_summary']].copy()\n",
    "    transformed_df = transformer.transform(vectorizer.transform(df['full_text']))\n",
    "    summary_transformed_df = transformer.transform(vectorizer.transform(df['summary_text']))\n",
    "    X_sample_scaled = scaler.transform(transformed_df.toarray())\n",
    "    X_summary_scaled = scaler.transform(summary_transformed_df.toarray())\n",
    "    pca_bag = pca.transform(X_sample_scaled)\n",
    "    summary_bag = pca.transform(X_summary_scaled)\n",
    "    stacked_bag = np.hstack((pca_bag,summary_bag,df['length_of_summary'].values.reshape(-1,1)))\n",
    "    student_ids = df['student_id'].values\n",
    "    return stacked_bag, student_ids"
   ]
  },
  {
   "cell_type": "code",
   "execution_count": 17,
   "id": "ee890590",
   "metadata": {
    "execution": {
     "iopub.execute_input": "2023-08-24T11:06:57.525003Z",
     "iopub.status.busy": "2023-08-24T11:06:57.524568Z",
     "iopub.status.idle": "2023-08-24T11:06:57.560704Z",
     "shell.execute_reply": "2023-08-24T11:06:57.559361Z"
    },
    "papermill": {
     "duration": 0.050376,
     "end_time": "2023-08-24T11:06:57.563665",
     "exception": false,
     "start_time": "2023-08-24T11:06:57.513289",
     "status": "completed"
    },
    "tags": []
   },
   "outputs": [],
   "source": [
    "test_summary = pd.read_csv('/kaggle/input/commonlit-evaluate-student-summaries/summaries_test.csv')\n",
    "test_prompts = pd.read_csv('/kaggle/input/commonlit-evaluate-student-summaries/prompts_test.csv')"
   ]
  },
  {
   "cell_type": "code",
   "execution_count": 18,
   "id": "12f46724",
   "metadata": {
    "execution": {
     "iopub.execute_input": "2023-08-24T11:06:57.586570Z",
     "iopub.status.busy": "2023-08-24T11:06:57.585365Z",
     "iopub.status.idle": "2023-08-24T11:06:57.846729Z",
     "shell.execute_reply": "2023-08-24T11:06:57.844297Z"
    },
    "papermill": {
     "duration": 0.278656,
     "end_time": "2023-08-24T11:06:57.852628",
     "exception": false,
     "start_time": "2023-08-24T11:06:57.573972",
     "status": "completed"
    },
    "tags": []
   },
   "outputs": [],
   "source": [
    "test_df,ids = preprocess_data(test_summary, test_prompts, vectorizer=vectorizer,scaler=scaler,transformer=transformer,pca=pca)"
   ]
  },
  {
   "cell_type": "code",
   "execution_count": 19,
   "id": "e8be57a4",
   "metadata": {
    "execution": {
     "iopub.execute_input": "2023-08-24T11:06:57.900991Z",
     "iopub.status.busy": "2023-08-24T11:06:57.900168Z",
     "iopub.status.idle": "2023-08-24T11:06:58.079169Z",
     "shell.execute_reply": "2023-08-24T11:06:58.076933Z"
    },
    "papermill": {
     "duration": 0.209496,
     "end_time": "2023-08-24T11:06:58.083073",
     "exception": false,
     "start_time": "2023-08-24T11:06:57.873577",
     "status": "completed"
    },
    "tags": []
   },
   "outputs": [],
   "source": [
    "y_preds = model_rf.predict(test_df)"
   ]
  },
  {
   "cell_type": "code",
   "execution_count": 20,
   "id": "8cdb71c9",
   "metadata": {
    "execution": {
     "iopub.execute_input": "2023-08-24T11:06:58.120048Z",
     "iopub.status.busy": "2023-08-24T11:06:58.118139Z",
     "iopub.status.idle": "2023-08-24T11:06:58.133918Z",
     "shell.execute_reply": "2023-08-24T11:06:58.132396Z"
    },
    "papermill": {
     "duration": 0.039018,
     "end_time": "2023-08-24T11:06:58.138333",
     "exception": false,
     "start_time": "2023-08-24T11:06:58.099315",
     "status": "completed"
    },
    "tags": []
   },
   "outputs": [],
   "source": [
    "df_test = pd.DataFrame(y_preds,columns=['content','wording'],index=ids).reset_index()\n",
    "df_test = df_test.rename({'index':'student_id'},axis=1)"
   ]
  },
  {
   "cell_type": "code",
   "execution_count": 21,
   "id": "31490c85",
   "metadata": {
    "execution": {
     "iopub.execute_input": "2023-08-24T11:06:58.173994Z",
     "iopub.status.busy": "2023-08-24T11:06:58.172061Z",
     "iopub.status.idle": "2023-08-24T11:06:58.187758Z",
     "shell.execute_reply": "2023-08-24T11:06:58.185916Z"
    },
    "papermill": {
     "duration": 0.036421,
     "end_time": "2023-08-24T11:06:58.191590",
     "exception": false,
     "start_time": "2023-08-24T11:06:58.155169",
     "status": "completed"
    },
    "tags": []
   },
   "outputs": [],
   "source": [
    "df_test.to_csv(\"submission.csv\", index=False)"
   ]
  },
  {
   "cell_type": "code",
   "execution_count": null,
   "id": "16b1ce27",
   "metadata": {
    "papermill": {
     "duration": 0.015214,
     "end_time": "2023-08-24T11:06:58.222893",
     "exception": false,
     "start_time": "2023-08-24T11:06:58.207679",
     "status": "completed"
    },
    "tags": []
   },
   "outputs": [],
   "source": []
  }
 ],
 "metadata": {
  "kernelspec": {
   "display_name": "Python 3",
   "language": "python",
   "name": "python3"
  },
  "language_info": {
   "codemirror_mode": {
    "name": "ipython",
    "version": 3
   },
   "file_extension": ".py",
   "mimetype": "text/x-python",
   "name": "python",
   "nbconvert_exporter": "python",
   "pygments_lexer": "ipython3",
   "version": "3.10.12"
  },
  "papermill": {
   "default_parameters": {},
   "duration": 2648.670405,
   "end_time": "2023-08-24T11:07:00.869541",
   "environment_variables": {},
   "exception": null,
   "input_path": "__notebook__.ipynb",
   "output_path": "__notebook__.ipynb",
   "parameters": {},
   "start_time": "2023-08-24T10:22:52.199136",
   "version": "2.4.0"
  }
 },
 "nbformat": 4,
 "nbformat_minor": 5
}
