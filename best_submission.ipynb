{
 "cells": [
  {
   "cell_type": "code",
   "execution_count": 1,
   "id": "4f2619d6",
   "metadata": {
    "_cell_guid": "b1076dfc-b9ad-4769-8c92-a6c4dae69d19",
    "_uuid": "8f2839f25d086af736a60e9eeb907d3b93b6e0e5",
    "execution": {
     "iopub.execute_input": "2023-08-27T19:13:33.933219Z",
     "iopub.status.busy": "2023-08-27T19:13:33.932714Z",
     "iopub.status.idle": "2023-08-27T19:13:33.996732Z",
     "shell.execute_reply": "2023-08-27T19:13:33.995599Z"
    },
    "papermill": {
     "duration": 0.075491,
     "end_time": "2023-08-27T19:13:34.000051",
     "exception": false,
     "start_time": "2023-08-27T19:13:33.924560",
     "status": "completed"
    },
    "tags": []
   },
   "outputs": [
    {
     "name": "stdout",
     "output_type": "stream",
     "text": [
      "/kaggle/input/en-core-web-md/en_core_web_md/meta.json\n",
      "/kaggle/input/en-core-web-md/en_core_web_md/__init__.py\n",
      "/kaggle/input/en-core-web-md/en_core_web_md/en_core_web_md-3.4.1/tokenizer\n",
      "/kaggle/input/en-core-web-md/en_core_web_md/en_core_web_md-3.4.1/LICENSES_SOURCES\n",
      "/kaggle/input/en-core-web-md/en_core_web_md/en_core_web_md-3.4.1/LICENSE\n",
      "/kaggle/input/en-core-web-md/en_core_web_md/en_core_web_md-3.4.1/README.md\n",
      "/kaggle/input/en-core-web-md/en_core_web_md/en_core_web_md-3.4.1/meta.json\n",
      "/kaggle/input/en-core-web-md/en_core_web_md/en_core_web_md-3.4.1/accuracy.json\n",
      "/kaggle/input/en-core-web-md/en_core_web_md/en_core_web_md-3.4.1/config.cfg\n",
      "/kaggle/input/en-core-web-md/en_core_web_md/en_core_web_md-3.4.1/attribute_ruler/patterns\n",
      "/kaggle/input/en-core-web-md/en_core_web_md/en_core_web_md-3.4.1/vocab/vectors\n",
      "/kaggle/input/en-core-web-md/en_core_web_md/en_core_web_md-3.4.1/vocab/key2row\n",
      "/kaggle/input/en-core-web-md/en_core_web_md/en_core_web_md-3.4.1/vocab/vectors.cfg\n",
      "/kaggle/input/en-core-web-md/en_core_web_md/en_core_web_md-3.4.1/vocab/strings.json\n",
      "/kaggle/input/en-core-web-md/en_core_web_md/en_core_web_md-3.4.1/vocab/lookups.bin\n",
      "/kaggle/input/en-core-web-md/en_core_web_md/en_core_web_md-3.4.1/parser/model\n",
      "/kaggle/input/en-core-web-md/en_core_web_md/en_core_web_md-3.4.1/parser/moves\n",
      "/kaggle/input/en-core-web-md/en_core_web_md/en_core_web_md-3.4.1/parser/cfg\n",
      "/kaggle/input/en-core-web-md/en_core_web_md/en_core_web_md-3.4.1/senter/model\n",
      "/kaggle/input/en-core-web-md/en_core_web_md/en_core_web_md-3.4.1/senter/cfg\n",
      "/kaggle/input/en-core-web-md/en_core_web_md/en_core_web_md-3.4.1/ner/model\n",
      "/kaggle/input/en-core-web-md/en_core_web_md/en_core_web_md-3.4.1/ner/moves\n",
      "/kaggle/input/en-core-web-md/en_core_web_md/en_core_web_md-3.4.1/ner/cfg\n",
      "/kaggle/input/en-core-web-md/en_core_web_md/en_core_web_md-3.4.1/lemmatizer/lookups/lookups.bin\n",
      "/kaggle/input/en-core-web-md/en_core_web_md/en_core_web_md-3.4.1/tagger/model\n",
      "/kaggle/input/en-core-web-md/en_core_web_md/en_core_web_md-3.4.1/tagger/cfg\n",
      "/kaggle/input/en-core-web-md/en_core_web_md/en_core_web_md-3.4.1/tok2vec/model\n",
      "/kaggle/input/en-core-web-md/en_core_web_md/en_core_web_md-3.4.1/tok2vec/cfg\n",
      "/kaggle/input/commonlit-evaluate-student-summaries/sample_submission.csv\n",
      "/kaggle/input/commonlit-evaluate-student-summaries/prompts_train.csv\n",
      "/kaggle/input/commonlit-evaluate-student-summaries/summaries_test.csv\n",
      "/kaggle/input/commonlit-evaluate-student-summaries/summaries_train.csv\n",
      "/kaggle/input/commonlit-evaluate-student-summaries/prompts_test.csv\n"
     ]
    }
   ],
   "source": [
    "# This Python 3 environment comes with many helpful analytics libraries installed\n",
    "# It is defined by the kaggle/python Docker image: https://github.com/kaggle/docker-python\n",
    "# For example, here's several helpful packages to load\n",
    "\n",
    "import numpy as np # linear algebra\n",
    "import pandas as pd # data processing, CSV file I/O (e.g. pd.read_csv)\n",
    "\n",
    "# Input data files are available in the read-only \"../input/\" directory\n",
    "# For example, running this (by clicking run or pressing Shift+Enter) will list all files under the input directory\n",
    "\n",
    "import os\n",
    "for dirname, _, filenames in os.walk('/kaggle/input'):\n",
    "    for filename in filenames:\n",
    "        print(os.path.join(dirname, filename))\n",
    "\n",
    "# You can write up to 20GB to the current directory (/kaggle/working/) that gets preserved as output when you create a version using \"Save & Run All\" \n",
    "# You can also write temporary files to /kaggle/temp/, but they won't be saved outside of the current session"
   ]
  },
  {
   "cell_type": "code",
   "execution_count": 2,
   "id": "96b87cf1",
   "metadata": {
    "execution": {
     "iopub.execute_input": "2023-08-27T19:13:34.013342Z",
     "iopub.status.busy": "2023-08-27T19:13:34.012990Z",
     "iopub.status.idle": "2023-08-27T19:13:53.033555Z",
     "shell.execute_reply": "2023-08-27T19:13:53.032694Z"
    },
    "papermill": {
     "duration": 19.029874,
     "end_time": "2023-08-27T19:13:53.036118",
     "exception": false,
     "start_time": "2023-08-27T19:13:34.006244",
     "status": "completed"
    },
    "tags": []
   },
   "outputs": [
    {
     "name": "stderr",
     "output_type": "stream",
     "text": [
      "/opt/conda/lib/python3.10/site-packages/scipy/__init__.py:146: UserWarning: A NumPy version >=1.16.5 and <1.23.0 is required for this version of SciPy (detected version 1.23.5\n",
      "  warnings.warn(f\"A NumPy version >={np_minversion} and <{np_maxversion}\"\n",
      "/opt/conda/lib/python3.10/site-packages/tensorflow_io/python/ops/__init__.py:98: UserWarning: unable to load libtensorflow_io_plugins.so: unable to open file: libtensorflow_io_plugins.so, from paths: ['/opt/conda/lib/python3.10/site-packages/tensorflow_io/python/ops/libtensorflow_io_plugins.so']\n",
      "caused by: ['/opt/conda/lib/python3.10/site-packages/tensorflow_io/python/ops/libtensorflow_io_plugins.so: undefined symbol: _ZN3tsl6StatusC1EN10tensorflow5error4CodeESt17basic_string_viewIcSt11char_traitsIcEENS_14SourceLocationE']\n",
      "  warnings.warn(f\"unable to load libtensorflow_io_plugins.so: {e}\")\n",
      "/opt/conda/lib/python3.10/site-packages/tensorflow_io/python/ops/__init__.py:104: UserWarning: file system plugins are not loaded: unable to open file: libtensorflow_io.so, from paths: ['/opt/conda/lib/python3.10/site-packages/tensorflow_io/python/ops/libtensorflow_io.so']\n",
      "caused by: ['/opt/conda/lib/python3.10/site-packages/tensorflow_io/python/ops/libtensorflow_io.so: undefined symbol: _ZTVN10tensorflow13GcsFileSystemE']\n",
      "  warnings.warn(f\"file system plugins are not loaded: {e}\")\n",
      "/opt/conda/lib/python3.10/site-packages/spacy/util.py:910: UserWarning: [W095] Model 'en_core_web_md' (3.4.1) was trained with spaCy v3.4 and may not be 100% compatible with the current version (3.6.0). If you see errors or degraded performance, download a newer compatible model or retrain your custom model with the current spaCy version. For more details and available updates, run: python -m spacy validate\n",
      "  warnings.warn(warn_msg)\n"
     ]
    }
   ],
   "source": [
    "import numpy as np # linear algebra\n",
    "import pandas as pd # data processing, CSV file I/O (e.g. pd.read_csv)\n",
    "from sklearn.feature_extraction.text import CountVectorizer, TfidfTransformer\n",
    "from sklearn.ensemble import RandomForestRegressor\n",
    "from sklearn.multioutput import MultiOutputRegressor\n",
    "from sklearn.metrics import make_scorer\n",
    "from sklearn.model_selection import train_test_split, GridSearchCV\n",
    "import spacy\n",
    "\n",
    "nlp = spacy.load(\"../input/en-core-web-md/en_core_web_md/en_core_web_md-3.4.1\")"
   ]
  },
  {
   "cell_type": "code",
   "execution_count": 3,
   "id": "43983dfd",
   "metadata": {
    "execution": {
     "iopub.execute_input": "2023-08-27T19:13:53.051812Z",
     "iopub.status.busy": "2023-08-27T19:13:53.049452Z",
     "iopub.status.idle": "2023-08-27T19:13:53.156516Z",
     "shell.execute_reply": "2023-08-27T19:13:53.155586Z"
    },
    "papermill": {
     "duration": 0.117279,
     "end_time": "2023-08-27T19:13:53.159173",
     "exception": false,
     "start_time": "2023-08-27T19:13:53.041894",
     "status": "completed"
    },
    "tags": []
   },
   "outputs": [],
   "source": [
    "summary_df = pd.read_csv('/kaggle/input/commonlit-evaluate-student-summaries/summaries_train.csv')\n",
    "prompt_df = pd.read_csv('/kaggle/input/commonlit-evaluate-student-summaries/prompts_train.csv')"
   ]
  },
  {
   "cell_type": "code",
   "execution_count": 4,
   "id": "b1b7adba",
   "metadata": {
    "execution": {
     "iopub.execute_input": "2023-08-27T19:13:53.172825Z",
     "iopub.status.busy": "2023-08-27T19:13:53.172209Z",
     "iopub.status.idle": "2023-08-27T19:13:53.353091Z",
     "shell.execute_reply": "2023-08-27T19:13:53.352122Z"
    },
    "papermill": {
     "duration": 0.190221,
     "end_time": "2023-08-27T19:13:53.355493",
     "exception": false,
     "start_time": "2023-08-27T19:13:53.165272",
     "status": "completed"
    },
    "tags": []
   },
   "outputs": [],
   "source": [
    "from string import punctuation as punc\n",
    "from collections import defaultdict\n",
    "import spacy\n",
    "from string import punctuation as punc\n",
    "from tqdm import tqdm\n",
    "from gensim.models import Word2Vec\n",
    "from sklearn.metrics.pairwise import cosine_similarity, euclidean_distances\n",
    "\n",
    "\n",
    "def process_text(text):\n",
    "    doc = nlp(text)\n",
    "    lemmas = []\n",
    "    stops = 0\n",
    "    pos = defaultdict(int,{'VERB': 0, \"NOUN\": 0})\n",
    "    char_length = len(text)\n",
    "    word_vec = []\n",
    "\n",
    "    for token in doc:\n",
    "        if token.is_stop:\n",
    "            stops += 1\n",
    "        else:\n",
    "            if token.pos_ == \"VERB\":\n",
    "                pos[token.pos_] += 1\n",
    "            elif token.pos_ == \"NOUN\":\n",
    "                pos[token.pos_] += 1\n",
    "            lemmas.append(token.lemma_.lower())\n",
    "            word_vec.append(token.vector)\n",
    "\n",
    "    word_vec = np.mean(word_vec, axis=0)\n",
    "    pos = dict(pos)\n",
    "    return ' '.join(lemmas), stops, pos['VERB'], pos['NOUN'], char_length, word_vec\n",
    "\n",
    "def count_punc(text):\n",
    "    return len([p for p in text if p in punc])\n",
    "\n",
    "# Overlap Score\n",
    "def overlap(sample):\n",
    "    answer = set(sample['text'].lower().split())\n",
    "    context = set(sample['prompt_text'].lower().split())\n",
    "    intersection = len(context.intersection(answer))\n",
    "    difference = len(context.difference(answer))\n",
    "    union = len(context.union(answer))\n",
    "    overlap_score = intersection/float(len(context))\n",
    "    jaccard_similarity = intersection/union\n",
    "    return intersection, difference, union, overlap_score, jaccard_similarity\n",
    "\n",
    "def word2vec_similarity(sample, model):\n",
    "    vector1 = np.mean([model.wv[word] for word in sample['context'].split() if word in model.wv.index_to_key], axis=0)\n",
    "    vector2 = np.mean([model.wv[word] for word in sample['lemmas'].split() if word in model.wv.index_to_key], axis=0)\n",
    "    dot_product = vector1.dot(vector2)\n",
    "    similarity = cosine_similarity([vector1], [vector2])[0][0]\n",
    "    distance = euclidean_distances([vector1], [vector2])[0][0]\n",
    "    coef = np.corrcoef([vector1], [vector2])[0][1]\n",
    "    return similarity, distance, dot_product, coef"
   ]
  },
  {
   "cell_type": "code",
   "execution_count": 5,
   "id": "6be48f47",
   "metadata": {
    "execution": {
     "iopub.execute_input": "2023-08-27T19:13:53.370439Z",
     "iopub.status.busy": "2023-08-27T19:13:53.370043Z",
     "iopub.status.idle": "2023-08-27T19:13:53.385625Z",
     "shell.execute_reply": "2023-08-27T19:13:53.384346Z"
    },
    "papermill": {
     "duration": 0.026584,
     "end_time": "2023-08-27T19:13:53.387797",
     "exception": false,
     "start_time": "2023-08-27T19:13:53.361213",
     "status": "completed"
    },
    "tags": []
   },
   "outputs": [],
   "source": [
    "#@title Best Score yet using spacy text vector on the summary text and context.\n",
    "###@title Features: [context_word_vec, word_vec, similarity, word2vec, cols]\n",
    "\n",
    "from sklearn.feature_extraction.text import TfidfVectorizer\n",
    "from sklearn.preprocessing import StandardScaler, MinMaxScaler\n",
    "from sklearn.decomposition import TruncatedSVD,PCA\n",
    "from scipy.sparse import csr_matrix\n",
    "\n",
    "def preprocess_data(summary_df, prompt_df, ngram_range=(1,1)):\n",
    "    train_df = summary_df.merge(right=prompt_df, how='inner', on='prompt_id')\n",
    "\n",
    "    print('processing text data')\n",
    "\n",
    "    # Refactored text processing\n",
    "    def process_texts(column_name):\n",
    "        return zip(*train_df[column_name].apply(process_text).tolist())\n",
    "\n",
    "    word_vec = np.zeros((train_df.shape[0], 300))\n",
    "    context_word_vec = np.zeros((train_df.shape[0], 300))\n",
    "    train_df['intersection'], train_df['difference'], train_df['union'], train_df['overlap_score'], train_df['jaccard_similarity'] = zip(*train_df.apply(overlap, axis=1).tolist())\n",
    "\n",
    "    train_df['lemmas'],train_df['summary_stopwords'],train_df['summary_verbs'], train_df['summary_nouns'], train_df['length_of_summary'], word_vec[:] = process_texts('text')\n",
    "    train_df['context'], train_df['context_stopwords'],train_df['context_verbs'], train_df['context_nouns'], train_df['length_of_context'], context_word_vec[:] = process_texts('prompt_text')\n",
    "    train_df['length_of_summary'] = train_df['text'].str.count(' ')\n",
    "\n",
    "    print('loading word2vec model......')\n",
    "    sentences = train_df.apply(lambda x: x['context'].split() + x['lemmas'].split(), axis=1)\n",
    "    model = Word2Vec(sentences, vector_size=512, window=5, min_count=1, workers=4)\n",
    "\n",
    "    print('processing features.....')\n",
    "    # Process other columns\n",
    "    train_df['summary_punctuation'] = train_df['text'].apply(count_punc)\n",
    "\n",
    "    cols = ['length_of_summary', 'summary_punctuation','summary_stopwords','summary_verbs','summary_nouns',\n",
    "        'intersection','difference','union', 'overlap_score', 'jaccard_similarity',\n",
    "        'context_stopwords','context_verbs','context_nouns','length_of_context','content', 'wording']\n",
    "\n",
    "    print('applying vectorizer.....')\n",
    "    # Vectorization\n",
    "    global vectorizer\n",
    "    vectorizer = TfidfVectorizer(sublinear_tf=True,lowercase=True,dtype=np.float32,stop_words='english',ngram_range=ngram_range)\n",
    "    summary_transformed = vectorizer.fit_transform(train_df['lemmas'])\n",
    "\n",
    "    print('scaling features.....')\n",
    "\n",
    "    print('decomposing features.......')\n",
    "    word2vec = np.asarray(train_df.apply(word2vec_similarity, axis=1, args=(model,)).to_list(),dtype=np.float32)\n",
    "    similarity = np.zeros((train_df.shape[0], 3))\n",
    "    for i, data in tqdm(train_df.iterrows(), 'processing similarity'):\n",
    "        full_bags = vectorizer.transform([data['context']])\n",
    "        summary_bags = vectorizer.transform([data['lemmas']])\n",
    "        similarity[i, 0] = cosine_similarity(full_bags, summary_bags)[0][0]\n",
    "        similarity[i, 1] = euclidean_distances(full_bags, summary_bags)[0][0]\n",
    "        similarity[i, 2] = np.corrcoef(full_bags.toarray(), summary_bags.toarray())[0, 1]\n",
    "\n",
    "    stacked_bag = np.hstack((context_word_vec, word_vec, similarity, word2vec, train_df[cols].values))\n",
    "\n",
    "    print('collecting outputs.........')\n",
    "    student_ids = train_df['student_id'].values\n",
    "\n",
    "    return stacked_bag, student_ids"
   ]
  },
  {
   "cell_type": "code",
   "execution_count": 6,
   "id": "83196fd6",
   "metadata": {
    "execution": {
     "iopub.execute_input": "2023-08-27T19:13:53.400964Z",
     "iopub.status.busy": "2023-08-27T19:13:53.400593Z",
     "iopub.status.idle": "2023-08-27T19:31:10.629726Z",
     "shell.execute_reply": "2023-08-27T19:31:10.628281Z"
    },
    "papermill": {
     "duration": 1037.239482,
     "end_time": "2023-08-27T19:31:10.633070",
     "exception": false,
     "start_time": "2023-08-27T19:13:53.393588",
     "status": "completed"
    },
    "tags": []
   },
   "outputs": [
    {
     "name": "stdout",
     "output_type": "stream",
     "text": [
      "processing text data\n",
      "loading word2vec model......\n",
      "processing features.....\n",
      "applying vectorizer.....\n",
      "scaling features.....\n",
      "decomposing features.......\n"
     ]
    },
    {
     "name": "stderr",
     "output_type": "stream",
     "text": [
      "processing similarity: 7165it [00:28, 247.55it/s]"
     ]
    },
    {
     "name": "stdout",
     "output_type": "stream",
     "text": [
      "collecting outputs.........\n",
      "Preprocessed function executed in: 1037.22 seconds\n"
     ]
    },
    {
     "name": "stderr",
     "output_type": "stream",
     "text": [
      "\n"
     ]
    }
   ],
   "source": [
    "from sklearn.preprocessing import StandardScaler\n",
    "from sklearn.decomposition import PCA\n",
    "import time\n",
    "\n",
    "start_time = time.time()\n",
    "\n",
    "stacked_bag, student_ids = preprocess_data(summary_df,prompt_df,ngram_range=(1,1))\n",
    "\n",
    "end_time = time.time()\n",
    "elapsed_time = end_time - start_time\n",
    "\n",
    "print(f\"Preprocessed function executed in: {elapsed_time:.2f} seconds\")"
   ]
  },
  {
   "cell_type": "code",
   "execution_count": 7,
   "id": "63d2421e",
   "metadata": {
    "execution": {
     "iopub.execute_input": "2023-08-27T19:31:10.683981Z",
     "iopub.status.busy": "2023-08-27T19:31:10.682784Z",
     "iopub.status.idle": "2023-08-27T19:31:10.699767Z",
     "shell.execute_reply": "2023-08-27T19:31:10.698643Z"
    },
    "papermill": {
     "duration": 0.044472,
     "end_time": "2023-08-27T19:31:10.702601",
     "exception": false,
     "start_time": "2023-08-27T19:31:10.658129",
     "status": "completed"
    },
    "tags": []
   },
   "outputs": [],
   "source": [
    "X_train,X_test,y_train,y_test = train_test_split(stacked_bag[:,:-2] ,stacked_bag[:,-2:],test_size=0.1,shuffle=True,random_state=11)"
   ]
  },
  {
   "cell_type": "code",
   "execution_count": 8,
   "id": "94638057",
   "metadata": {
    "execution": {
     "iopub.execute_input": "2023-08-27T19:31:10.751619Z",
     "iopub.status.busy": "2023-08-27T19:31:10.751240Z",
     "iopub.status.idle": "2023-08-27T19:31:10.758089Z",
     "shell.execute_reply": "2023-08-27T19:31:10.756773Z"
    },
    "papermill": {
     "duration": 0.034615,
     "end_time": "2023-08-27T19:31:10.760494",
     "exception": false,
     "start_time": "2023-08-27T19:31:10.725879",
     "status": "completed"
    },
    "tags": []
   },
   "outputs": [],
   "source": [
    "def mcrmse(y_true, y_pred):\n",
    "    return np.mean(np.sqrt(np.mean((y_true - y_pred)**2, axis=0)))\n",
    "\n",
    "mcrmse_scorer = make_scorer(mcrmse, greater_is_better=False)\n",
    "best_params = {'max_depth': 11,'max_features': 0.6,'min_samples_split': 10,'n_estimators': 400}\n",
    "model_rf = MultiOutputRegressor(RandomForestRegressor(**best_params,n_jobs=-1, random_state=42),n_jobs=-1)"
   ]
  },
  {
   "cell_type": "code",
   "execution_count": 9,
   "id": "d0a1d7ca",
   "metadata": {
    "execution": {
     "iopub.execute_input": "2023-08-27T19:31:10.808669Z",
     "iopub.status.busy": "2023-08-27T19:31:10.807313Z",
     "iopub.status.idle": "2023-08-27T19:35:46.920970Z",
     "shell.execute_reply": "2023-08-27T19:35:46.919581Z"
    },
    "papermill": {
     "duration": 276.16282,
     "end_time": "2023-08-27T19:35:46.946344",
     "exception": false,
     "start_time": "2023-08-27T19:31:10.783524",
     "status": "completed"
    },
    "tags": []
   },
   "outputs": [
    {
     "name": "stderr",
     "output_type": "stream",
     "text": [
      "/opt/conda/lib/python3.10/site-packages/scipy/__init__.py:146: UserWarning: A NumPy version >=1.16.5 and <1.23.0 is required for this version of SciPy (detected version 1.23.5\n",
      "  warnings.warn(f\"A NumPy version >={np_minversion} and <{np_maxversion}\"\n",
      "/opt/conda/lib/python3.10/site-packages/scipy/__init__.py:146: UserWarning: A NumPy version >=1.16.5 and <1.23.0 is required for this version of SciPy (detected version 1.23.5\n",
      "  warnings.warn(f\"A NumPy version >={np_minversion} and <{np_maxversion}\"\n"
     ]
    },
    {
     "data": {
      "text/html": [
       "<style>#sk-container-id-1 {color: black;background-color: white;}#sk-container-id-1 pre{padding: 0;}#sk-container-id-1 div.sk-toggleable {background-color: white;}#sk-container-id-1 label.sk-toggleable__label {cursor: pointer;display: block;width: 100%;margin-bottom: 0;padding: 0.3em;box-sizing: border-box;text-align: center;}#sk-container-id-1 label.sk-toggleable__label-arrow:before {content: \"▸\";float: left;margin-right: 0.25em;color: #696969;}#sk-container-id-1 label.sk-toggleable__label-arrow:hover:before {color: black;}#sk-container-id-1 div.sk-estimator:hover label.sk-toggleable__label-arrow:before {color: black;}#sk-container-id-1 div.sk-toggleable__content {max-height: 0;max-width: 0;overflow: hidden;text-align: left;background-color: #f0f8ff;}#sk-container-id-1 div.sk-toggleable__content pre {margin: 0.2em;color: black;border-radius: 0.25em;background-color: #f0f8ff;}#sk-container-id-1 input.sk-toggleable__control:checked~div.sk-toggleable__content {max-height: 200px;max-width: 100%;overflow: auto;}#sk-container-id-1 input.sk-toggleable__control:checked~label.sk-toggleable__label-arrow:before {content: \"▾\";}#sk-container-id-1 div.sk-estimator input.sk-toggleable__control:checked~label.sk-toggleable__label {background-color: #d4ebff;}#sk-container-id-1 div.sk-label input.sk-toggleable__control:checked~label.sk-toggleable__label {background-color: #d4ebff;}#sk-container-id-1 input.sk-hidden--visually {border: 0;clip: rect(1px 1px 1px 1px);clip: rect(1px, 1px, 1px, 1px);height: 1px;margin: -1px;overflow: hidden;padding: 0;position: absolute;width: 1px;}#sk-container-id-1 div.sk-estimator {font-family: monospace;background-color: #f0f8ff;border: 1px dotted black;border-radius: 0.25em;box-sizing: border-box;margin-bottom: 0.5em;}#sk-container-id-1 div.sk-estimator:hover {background-color: #d4ebff;}#sk-container-id-1 div.sk-parallel-item::after {content: \"\";width: 100%;border-bottom: 1px solid gray;flex-grow: 1;}#sk-container-id-1 div.sk-label:hover label.sk-toggleable__label {background-color: #d4ebff;}#sk-container-id-1 div.sk-serial::before {content: \"\";position: absolute;border-left: 1px solid gray;box-sizing: border-box;top: 0;bottom: 0;left: 50%;z-index: 0;}#sk-container-id-1 div.sk-serial {display: flex;flex-direction: column;align-items: center;background-color: white;padding-right: 0.2em;padding-left: 0.2em;position: relative;}#sk-container-id-1 div.sk-item {position: relative;z-index: 1;}#sk-container-id-1 div.sk-parallel {display: flex;align-items: stretch;justify-content: center;background-color: white;position: relative;}#sk-container-id-1 div.sk-item::before, #sk-container-id-1 div.sk-parallel-item::before {content: \"\";position: absolute;border-left: 1px solid gray;box-sizing: border-box;top: 0;bottom: 0;left: 50%;z-index: -1;}#sk-container-id-1 div.sk-parallel-item {display: flex;flex-direction: column;z-index: 1;position: relative;background-color: white;}#sk-container-id-1 div.sk-parallel-item:first-child::after {align-self: flex-end;width: 50%;}#sk-container-id-1 div.sk-parallel-item:last-child::after {align-self: flex-start;width: 50%;}#sk-container-id-1 div.sk-parallel-item:only-child::after {width: 0;}#sk-container-id-1 div.sk-dashed-wrapped {border: 1px dashed gray;margin: 0 0.4em 0.5em 0.4em;box-sizing: border-box;padding-bottom: 0.4em;background-color: white;}#sk-container-id-1 div.sk-label label {font-family: monospace;font-weight: bold;display: inline-block;line-height: 1.2em;}#sk-container-id-1 div.sk-label-container {text-align: center;}#sk-container-id-1 div.sk-container {/* jupyter's `normalize.less` sets `[hidden] { display: none; }` but bootstrap.min.css set `[hidden] { display: none !important; }` so we also need the `!important` here to be able to override the default hidden behavior on the sphinx rendered scikit-learn.org. See: https://github.com/scikit-learn/scikit-learn/issues/21755 */display: inline-block !important;position: relative;}#sk-container-id-1 div.sk-text-repr-fallback {display: none;}</style><div id=\"sk-container-id-1\" class=\"sk-top-container\"><div class=\"sk-text-repr-fallback\"><pre>MultiOutputRegressor(estimator=RandomForestRegressor(max_depth=11,\n",
       "                                                     max_features=0.6,\n",
       "                                                     min_samples_split=10,\n",
       "                                                     n_estimators=400,\n",
       "                                                     n_jobs=-1,\n",
       "                                                     random_state=42),\n",
       "                     n_jobs=-1)</pre><b>In a Jupyter environment, please rerun this cell to show the HTML representation or trust the notebook. <br />On GitHub, the HTML representation is unable to render, please try loading this page with nbviewer.org.</b></div><div class=\"sk-container\" hidden><div class=\"sk-item sk-dashed-wrapped\"><div class=\"sk-label-container\"><div class=\"sk-label sk-toggleable\"><input class=\"sk-toggleable__control sk-hidden--visually\" id=\"sk-estimator-id-1\" type=\"checkbox\" ><label for=\"sk-estimator-id-1\" class=\"sk-toggleable__label sk-toggleable__label-arrow\">MultiOutputRegressor</label><div class=\"sk-toggleable__content\"><pre>MultiOutputRegressor(estimator=RandomForestRegressor(max_depth=11,\n",
       "                                                     max_features=0.6,\n",
       "                                                     min_samples_split=10,\n",
       "                                                     n_estimators=400,\n",
       "                                                     n_jobs=-1,\n",
       "                                                     random_state=42),\n",
       "                     n_jobs=-1)</pre></div></div></div><div class=\"sk-parallel\"><div class=\"sk-parallel-item\"><div class=\"sk-item\"><div class=\"sk-label-container\"><div class=\"sk-label sk-toggleable\"><input class=\"sk-toggleable__control sk-hidden--visually\" id=\"sk-estimator-id-2\" type=\"checkbox\" ><label for=\"sk-estimator-id-2\" class=\"sk-toggleable__label sk-toggleable__label-arrow\">estimator: RandomForestRegressor</label><div class=\"sk-toggleable__content\"><pre>RandomForestRegressor(max_depth=11, max_features=0.6, min_samples_split=10,\n",
       "                      n_estimators=400, n_jobs=-1, random_state=42)</pre></div></div></div><div class=\"sk-serial\"><div class=\"sk-item\"><div class=\"sk-estimator sk-toggleable\"><input class=\"sk-toggleable__control sk-hidden--visually\" id=\"sk-estimator-id-3\" type=\"checkbox\" ><label for=\"sk-estimator-id-3\" class=\"sk-toggleable__label sk-toggleable__label-arrow\">RandomForestRegressor</label><div class=\"sk-toggleable__content\"><pre>RandomForestRegressor(max_depth=11, max_features=0.6, min_samples_split=10,\n",
       "                      n_estimators=400, n_jobs=-1, random_state=42)</pre></div></div></div></div></div></div></div></div></div></div>"
      ],
      "text/plain": [
       "MultiOutputRegressor(estimator=RandomForestRegressor(max_depth=11,\n",
       "                                                     max_features=0.6,\n",
       "                                                     min_samples_split=10,\n",
       "                                                     n_estimators=400,\n",
       "                                                     n_jobs=-1,\n",
       "                                                     random_state=42),\n",
       "                     n_jobs=-1)"
      ]
     },
     "execution_count": 9,
     "metadata": {},
     "output_type": "execute_result"
    }
   ],
   "source": [
    "model_rf.fit(X_train,y_train)"
   ]
  },
  {
   "cell_type": "code",
   "execution_count": 10,
   "id": "7fa46bf8",
   "metadata": {
    "execution": {
     "iopub.execute_input": "2023-08-27T19:35:46.995489Z",
     "iopub.status.busy": "2023-08-27T19:35:46.995044Z",
     "iopub.status.idle": "2023-08-27T19:35:48.000717Z",
     "shell.execute_reply": "2023-08-27T19:35:47.999472Z"
    },
    "papermill": {
     "duration": 1.03386,
     "end_time": "2023-08-27T19:35:48.003444",
     "exception": false,
     "start_time": "2023-08-27T19:35:46.969584",
     "status": "completed"
    },
    "tags": []
   },
   "outputs": [
    {
     "name": "stderr",
     "output_type": "stream",
     "text": [
      "/opt/conda/lib/python3.10/site-packages/scipy/__init__.py:146: UserWarning: A NumPy version >=1.16.5 and <1.23.0 is required for this version of SciPy (detected version 1.23.5\n",
      "  warnings.warn(f\"A NumPy version >={np_minversion} and <{np_maxversion}\"\n",
      "/opt/conda/lib/python3.10/site-packages/scipy/__init__.py:146: UserWarning: A NumPy version >=1.16.5 and <1.23.0 is required for this version of SciPy (detected version 1.23.5\n",
      "  warnings.warn(f\"A NumPy version >={np_minversion} and <{np_maxversion}\"\n"
     ]
    }
   ],
   "source": [
    "y_preds = model_rf.predict(X_test)"
   ]
  },
  {
   "cell_type": "code",
   "execution_count": 11,
   "id": "1225b4d6",
   "metadata": {
    "execution": {
     "iopub.execute_input": "2023-08-27T19:35:48.053455Z",
     "iopub.status.busy": "2023-08-27T19:35:48.052572Z",
     "iopub.status.idle": "2023-08-27T19:35:48.060327Z",
     "shell.execute_reply": "2023-08-27T19:35:48.059494Z"
    },
    "papermill": {
     "duration": 0.035215,
     "end_time": "2023-08-27T19:35:48.062578",
     "exception": false,
     "start_time": "2023-08-27T19:35:48.027363",
     "status": "completed"
    },
    "tags": []
   },
   "outputs": [
    {
     "data": {
      "text/plain": [
       "0.5101984542171801"
      ]
     },
     "execution_count": 11,
     "metadata": {},
     "output_type": "execute_result"
    }
   ],
   "source": [
    "mcrmse(y_test,y_preds)"
   ]
  },
  {
   "cell_type": "code",
   "execution_count": 12,
   "id": "98b8176c",
   "metadata": {
    "execution": {
     "iopub.execute_input": "2023-08-27T19:35:48.111535Z",
     "iopub.status.busy": "2023-08-27T19:35:48.110549Z",
     "iopub.status.idle": "2023-08-27T19:35:48.589072Z",
     "shell.execute_reply": "2023-08-27T19:35:48.587823Z"
    },
    "papermill": {
     "duration": 0.505266,
     "end_time": "2023-08-27T19:35:48.591374",
     "exception": false,
     "start_time": "2023-08-27T19:35:48.086108",
     "status": "completed"
    },
    "tags": []
   },
   "outputs": [
    {
     "data": {
      "text/plain": [
       "['/kaggle/working/model_rf.pkl']"
      ]
     },
     "execution_count": 12,
     "metadata": {},
     "output_type": "execute_result"
    }
   ],
   "source": [
    "from joblib import dump\n",
    "\n",
    "dump(vectorizer, '/kaggle/working/vectorizer.pkl')\n",
    "dump(model_rf, '/kaggle/working/model_rf.pkl')"
   ]
  },
  {
   "cell_type": "code",
   "execution_count": 13,
   "id": "97286353",
   "metadata": {
    "execution": {
     "iopub.execute_input": "2023-08-27T19:35:48.640727Z",
     "iopub.status.busy": "2023-08-27T19:35:48.639807Z",
     "iopub.status.idle": "2023-08-27T19:35:49.026571Z",
     "shell.execute_reply": "2023-08-27T19:35:49.025190Z"
    },
    "papermill": {
     "duration": 0.414205,
     "end_time": "2023-08-27T19:35:49.029502",
     "exception": false,
     "start_time": "2023-08-27T19:35:48.615297",
     "status": "completed"
    },
    "tags": []
   },
   "outputs": [],
   "source": [
    "from joblib import load\n",
    "\n",
    "model_rf = load('/kaggle/working/model_rf.pkl')\n",
    "vectorizer = load('/kaggle/working/vectorizer.pkl')"
   ]
  },
  {
   "cell_type": "code",
   "execution_count": 14,
   "id": "6b0c7a47",
   "metadata": {
    "execution": {
     "iopub.execute_input": "2023-08-27T19:35:49.079639Z",
     "iopub.status.busy": "2023-08-27T19:35:49.079240Z",
     "iopub.status.idle": "2023-08-27T19:35:49.093845Z",
     "shell.execute_reply": "2023-08-27T19:35:49.092641Z"
    },
    "papermill": {
     "duration": 0.042992,
     "end_time": "2023-08-27T19:35:49.096130",
     "exception": false,
     "start_time": "2023-08-27T19:35:49.053138",
     "status": "completed"
    },
    "tags": []
   },
   "outputs": [],
   "source": [
    "def preprocess_data(summary_df, prompt_df, ngram_range=(1,1), vectorizer=vectorizer):\n",
    "    train_df = summary_df.merge(right=prompt_df, how='inner', on='prompt_id')\n",
    "\n",
    "    print('processing text data')\n",
    "\n",
    "    # Refactored text processing\n",
    "    def process_texts(column_name):\n",
    "        return zip(*train_df[column_name].apply(process_text).tolist())\n",
    "\n",
    "    word_vec = np.zeros((train_df.shape[0], 300))\n",
    "    context_word_vec = np.zeros((train_df.shape[0], 300))\n",
    "    train_df['intersection'], train_df['difference'], train_df['union'], train_df['overlap_score'], train_df['jaccard_similarity'] = zip(*train_df.apply(overlap, axis=1).tolist())\n",
    "\n",
    "    train_df['lemmas'],train_df['summary_stopwords'],train_df['summary_verbs'], train_df['summary_nouns'], train_df['length_of_summary'], word_vec[:] = process_texts('text')\n",
    "    train_df['context'], train_df['context_stopwords'],train_df['context_verbs'], train_df['context_nouns'], train_df['length_of_context'], context_word_vec[:] = process_texts('prompt_text')\n",
    "    train_df['length_of_summary'] = train_df['text'].str.count(' ')\n",
    "\n",
    "    print('loading word2vec model......')\n",
    "    sentences = train_df.apply(lambda x: x['context'].split() + x['lemmas'].split(), axis=1)\n",
    "    model = Word2Vec(sentences, vector_size=512, window=5, min_count=1, workers=4)\n",
    "\n",
    "    print('processing features.....')\n",
    "    # Process other columns\n",
    "    train_df['summary_punctuation'] = train_df['text'].apply(count_punc)\n",
    "\n",
    "    cols = ['length_of_summary', 'summary_punctuation','summary_stopwords','summary_verbs','summary_nouns',\n",
    "        'intersection','difference','union', 'overlap_score', 'jaccard_similarity',\n",
    "        'context_stopwords','context_verbs','context_nouns','length_of_context']\n",
    "\n",
    "    print('applying vectorizer.....')\n",
    "    # Vectorization\n",
    "    summary_transformed = vectorizer.transform(train_df['lemmas'])\n",
    "\n",
    "    print('scaling features.....')\n",
    "\n",
    "    print('decomposing features.......')\n",
    "    word2vec = np.asarray(train_df.apply(word2vec_similarity, axis=1, args=(model,)).to_list(),dtype=np.float32)\n",
    "    similarity = np.zeros((train_df.shape[0], 3))\n",
    "    for i, data in tqdm(train_df.iterrows(), 'processing similarity'):\n",
    "        full_bags = vectorizer.transform([data['context']])\n",
    "        summary_bags = vectorizer.transform([data['lemmas']])\n",
    "        similarity[i, 0] = cosine_similarity(full_bags, summary_bags)[0][0]\n",
    "        similarity[i, 1] = euclidean_distances(full_bags, summary_bags)[0][0]\n",
    "        similarity[i, 2] = np.corrcoef(full_bags.toarray(), summary_bags.toarray())[0, 1]\n",
    "\n",
    "    stacked_bag = np.hstack((context_word_vec, word_vec, similarity, word2vec, train_df[cols].values))\n",
    "\n",
    "    print('collecting outputs.........')\n",
    "    student_ids = train_df['student_id'].values\n",
    "\n",
    "    return stacked_bag, student_ids"
   ]
  },
  {
   "cell_type": "code",
   "execution_count": 15,
   "id": "39be126f",
   "metadata": {
    "execution": {
     "iopub.execute_input": "2023-08-27T19:35:49.145197Z",
     "iopub.status.busy": "2023-08-27T19:35:49.144759Z",
     "iopub.status.idle": "2023-08-27T19:35:49.162946Z",
     "shell.execute_reply": "2023-08-27T19:35:49.161670Z"
    },
    "papermill": {
     "duration": 0.045741,
     "end_time": "2023-08-27T19:35:49.165547",
     "exception": false,
     "start_time": "2023-08-27T19:35:49.119806",
     "status": "completed"
    },
    "tags": []
   },
   "outputs": [],
   "source": [
    "test_summary = pd.read_csv('/kaggle/input/commonlit-evaluate-student-summaries/summaries_test.csv')\n",
    "test_prompts = pd.read_csv('/kaggle/input/commonlit-evaluate-student-summaries/prompts_test.csv')"
   ]
  },
  {
   "cell_type": "code",
   "execution_count": 16,
   "id": "5b2fbcd7",
   "metadata": {
    "execution": {
     "iopub.execute_input": "2023-08-27T19:35:49.215610Z",
     "iopub.status.busy": "2023-08-27T19:35:49.215237Z",
     "iopub.status.idle": "2023-08-27T19:35:49.327767Z",
     "shell.execute_reply": "2023-08-27T19:35:49.326504Z"
    },
    "papermill": {
     "duration": 0.140768,
     "end_time": "2023-08-27T19:35:49.330085",
     "exception": false,
     "start_time": "2023-08-27T19:35:49.189317",
     "status": "completed"
    },
    "tags": []
   },
   "outputs": [
    {
     "name": "stdout",
     "output_type": "stream",
     "text": [
      "processing text data\n",
      "loading word2vec model......\n",
      "processing features.....\n",
      "applying vectorizer.....\n",
      "scaling features.....\n",
      "decomposing features.......\n"
     ]
    },
    {
     "name": "stderr",
     "output_type": "stream",
     "text": [
      "processing similarity: 4it [00:00, 233.08it/s]"
     ]
    },
    {
     "name": "stdout",
     "output_type": "stream",
     "text": [
      "collecting outputs.........\n"
     ]
    },
    {
     "name": "stderr",
     "output_type": "stream",
     "text": [
      "\n"
     ]
    }
   ],
   "source": [
    "test_df,ids = preprocess_data(test_summary, test_prompts)"
   ]
  },
  {
   "cell_type": "code",
   "execution_count": 17,
   "id": "7febc884",
   "metadata": {
    "execution": {
     "iopub.execute_input": "2023-08-27T19:35:49.379185Z",
     "iopub.status.busy": "2023-08-27T19:35:49.378759Z",
     "iopub.status.idle": "2023-08-27T19:35:49.757212Z",
     "shell.execute_reply": "2023-08-27T19:35:49.756178Z"
    },
    "papermill": {
     "duration": 0.405913,
     "end_time": "2023-08-27T19:35:49.759688",
     "exception": false,
     "start_time": "2023-08-27T19:35:49.353775",
     "status": "completed"
    },
    "tags": []
   },
   "outputs": [],
   "source": [
    "y_preds = model_rf.predict(test_df)"
   ]
  },
  {
   "cell_type": "code",
   "execution_count": 18,
   "id": "800fee70",
   "metadata": {
    "execution": {
     "iopub.execute_input": "2023-08-27T19:35:49.810846Z",
     "iopub.status.busy": "2023-08-27T19:35:49.809745Z",
     "iopub.status.idle": "2023-08-27T19:35:49.816474Z",
     "shell.execute_reply": "2023-08-27T19:35:49.815680Z"
    },
    "papermill": {
     "duration": 0.034384,
     "end_time": "2023-08-27T19:35:49.818650",
     "exception": false,
     "start_time": "2023-08-27T19:35:49.784266",
     "status": "completed"
    },
    "tags": []
   },
   "outputs": [],
   "source": [
    "df_test = pd.DataFrame(y_preds,columns=['content','wording'],index=ids).reset_index()\n",
    "df_test = df_test.rename({'index':'student_id'},axis=1)"
   ]
  },
  {
   "cell_type": "code",
   "execution_count": 19,
   "id": "c97c77d6",
   "metadata": {
    "execution": {
     "iopub.execute_input": "2023-08-27T19:35:49.868933Z",
     "iopub.status.busy": "2023-08-27T19:35:49.868245Z",
     "iopub.status.idle": "2023-08-27T19:35:49.883672Z",
     "shell.execute_reply": "2023-08-27T19:35:49.882564Z"
    },
    "papermill": {
     "duration": 0.042538,
     "end_time": "2023-08-27T19:35:49.886076",
     "exception": false,
     "start_time": "2023-08-27T19:35:49.843538",
     "status": "completed"
    },
    "tags": []
   },
   "outputs": [
    {
     "data": {
      "text/html": [
       "<div>\n",
       "<style scoped>\n",
       "    .dataframe tbody tr th:only-of-type {\n",
       "        vertical-align: middle;\n",
       "    }\n",
       "\n",
       "    .dataframe tbody tr th {\n",
       "        vertical-align: top;\n",
       "    }\n",
       "\n",
       "    .dataframe thead th {\n",
       "        text-align: right;\n",
       "    }\n",
       "</style>\n",
       "<table border=\"1\" class=\"dataframe\">\n",
       "  <thead>\n",
       "    <tr style=\"text-align: right;\">\n",
       "      <th></th>\n",
       "      <th>student_id</th>\n",
       "      <th>content</th>\n",
       "      <th>wording</th>\n",
       "    </tr>\n",
       "  </thead>\n",
       "  <tbody>\n",
       "    <tr>\n",
       "      <th>0</th>\n",
       "      <td>000000ffffff</td>\n",
       "      <td>-1.163273</td>\n",
       "      <td>-0.796001</td>\n",
       "    </tr>\n",
       "    <tr>\n",
       "      <th>1</th>\n",
       "      <td>222222cccccc</td>\n",
       "      <td>-1.207142</td>\n",
       "      <td>-0.789528</td>\n",
       "    </tr>\n",
       "    <tr>\n",
       "      <th>2</th>\n",
       "      <td>111111eeeeee</td>\n",
       "      <td>-1.192468</td>\n",
       "      <td>-0.796646</td>\n",
       "    </tr>\n",
       "    <tr>\n",
       "      <th>3</th>\n",
       "      <td>333333dddddd</td>\n",
       "      <td>-1.179875</td>\n",
       "      <td>-0.806766</td>\n",
       "    </tr>\n",
       "  </tbody>\n",
       "</table>\n",
       "</div>"
      ],
      "text/plain": [
       "     student_id   content   wording\n",
       "0  000000ffffff -1.163273 -0.796001\n",
       "1  222222cccccc -1.207142 -0.789528\n",
       "2  111111eeeeee -1.192468 -0.796646\n",
       "3  333333dddddd -1.179875 -0.806766"
      ]
     },
     "execution_count": 19,
     "metadata": {},
     "output_type": "execute_result"
    }
   ],
   "source": [
    "df_test"
   ]
  },
  {
   "cell_type": "code",
   "execution_count": 20,
   "id": "000952b7",
   "metadata": {
    "execution": {
     "iopub.execute_input": "2023-08-27T19:35:49.935896Z",
     "iopub.status.busy": "2023-08-27T19:35:49.935479Z",
     "iopub.status.idle": "2023-08-27T19:35:49.943511Z",
     "shell.execute_reply": "2023-08-27T19:35:49.942423Z"
    },
    "papermill": {
     "duration": 0.035413,
     "end_time": "2023-08-27T19:35:49.945657",
     "exception": false,
     "start_time": "2023-08-27T19:35:49.910244",
     "status": "completed"
    },
    "tags": []
   },
   "outputs": [],
   "source": [
    "df_test.to_csv(\"submission.csv\", index=False)"
   ]
  },
  {
   "cell_type": "code",
   "execution_count": null,
   "id": "3a407467",
   "metadata": {
    "papermill": {
     "duration": 0.023293,
     "end_time": "2023-08-27T19:35:49.992908",
     "exception": false,
     "start_time": "2023-08-27T19:35:49.969615",
     "status": "completed"
    },
    "tags": []
   },
   "outputs": [],
   "source": []
  }
 ],
 "metadata": {
  "kernelspec": {
   "display_name": "Python 3",
   "language": "python",
   "name": "python3"
  },
  "language_info": {
   "codemirror_mode": {
    "name": "ipython",
    "version": 3
   },
   "file_extension": ".py",
   "mimetype": "text/x-python",
   "name": "python",
   "nbconvert_exporter": "python",
   "pygments_lexer": "ipython3",
   "version": "3.10.12"
  },
  "papermill": {
   "default_parameters": {},
   "duration": 1348.449235,
   "end_time": "2023-08-27T19:35:52.643260",
   "environment_variables": {},
   "exception": null,
   "input_path": "__notebook__.ipynb",
   "output_path": "__notebook__.ipynb",
   "parameters": {},
   "start_time": "2023-08-27T19:13:24.194025",
   "version": "2.4.0"
  }
 },
 "nbformat": 4,
 "nbformat_minor": 5
}
