{
 "cells": [
  {
   "cell_type": "code",
   "execution_count": 1,
   "id": "a5390bcc",
   "metadata": {
    "_cell_guid": "b1076dfc-b9ad-4769-8c92-a6c4dae69d19",
    "_uuid": "8f2839f25d086af736a60e9eeb907d3b93b6e0e5",
    "execution": {
     "iopub.execute_input": "2023-09-07T13:17:48.799301Z",
     "iopub.status.busy": "2023-09-07T13:17:48.798526Z",
     "iopub.status.idle": "2023-09-07T13:17:48.903522Z",
     "shell.execute_reply": "2023-09-07T13:17:48.902583Z"
    },
    "papermill": {
     "duration": 0.119127,
     "end_time": "2023-09-07T13:17:48.906525",
     "exception": false,
     "start_time": "2023-09-07T13:17:48.787398",
     "status": "completed"
    },
    "tags": []
   },
   "outputs": [
    {
     "name": "stdout",
     "output_type": "stream",
     "text": [
      "/kaggle/input/universal-sentence-encoder/tensorflow2/universal-sentence-encoder/2/saved_model.pb\n",
      "/kaggle/input/universal-sentence-encoder/tensorflow2/universal-sentence-encoder/2/variables/variables.index\n",
      "/kaggle/input/universal-sentence-encoder/tensorflow2/universal-sentence-encoder/2/variables/variables.data-00000-of-00001\n",
      "/kaggle/input/commonlit-evaluate-student-summaries/sample_submission.csv\n",
      "/kaggle/input/commonlit-evaluate-student-summaries/prompts_train.csv\n",
      "/kaggle/input/commonlit-evaluate-student-summaries/summaries_test.csv\n",
      "/kaggle/input/commonlit-evaluate-student-summaries/summaries_train.csv\n",
      "/kaggle/input/commonlit-evaluate-student-summaries/prompts_test.csv\n",
      "/kaggle/input/en-core-web-md/en_core_web_md/meta.json\n",
      "/kaggle/input/en-core-web-md/en_core_web_md/__init__.py\n",
      "/kaggle/input/en-core-web-md/en_core_web_md/en_core_web_md-3.4.1/tokenizer\n",
      "/kaggle/input/en-core-web-md/en_core_web_md/en_core_web_md-3.4.1/LICENSES_SOURCES\n",
      "/kaggle/input/en-core-web-md/en_core_web_md/en_core_web_md-3.4.1/LICENSE\n",
      "/kaggle/input/en-core-web-md/en_core_web_md/en_core_web_md-3.4.1/README.md\n",
      "/kaggle/input/en-core-web-md/en_core_web_md/en_core_web_md-3.4.1/meta.json\n",
      "/kaggle/input/en-core-web-md/en_core_web_md/en_core_web_md-3.4.1/accuracy.json\n",
      "/kaggle/input/en-core-web-md/en_core_web_md/en_core_web_md-3.4.1/config.cfg\n",
      "/kaggle/input/en-core-web-md/en_core_web_md/en_core_web_md-3.4.1/attribute_ruler/patterns\n",
      "/kaggle/input/en-core-web-md/en_core_web_md/en_core_web_md-3.4.1/vocab/vectors\n",
      "/kaggle/input/en-core-web-md/en_core_web_md/en_core_web_md-3.4.1/vocab/key2row\n",
      "/kaggle/input/en-core-web-md/en_core_web_md/en_core_web_md-3.4.1/vocab/vectors.cfg\n",
      "/kaggle/input/en-core-web-md/en_core_web_md/en_core_web_md-3.4.1/vocab/strings.json\n",
      "/kaggle/input/en-core-web-md/en_core_web_md/en_core_web_md-3.4.1/vocab/lookups.bin\n",
      "/kaggle/input/en-core-web-md/en_core_web_md/en_core_web_md-3.4.1/parser/model\n",
      "/kaggle/input/en-core-web-md/en_core_web_md/en_core_web_md-3.4.1/parser/moves\n",
      "/kaggle/input/en-core-web-md/en_core_web_md/en_core_web_md-3.4.1/parser/cfg\n",
      "/kaggle/input/en-core-web-md/en_core_web_md/en_core_web_md-3.4.1/senter/model\n",
      "/kaggle/input/en-core-web-md/en_core_web_md/en_core_web_md-3.4.1/senter/cfg\n",
      "/kaggle/input/en-core-web-md/en_core_web_md/en_core_web_md-3.4.1/ner/model\n",
      "/kaggle/input/en-core-web-md/en_core_web_md/en_core_web_md-3.4.1/ner/moves\n",
      "/kaggle/input/en-core-web-md/en_core_web_md/en_core_web_md-3.4.1/ner/cfg\n",
      "/kaggle/input/en-core-web-md/en_core_web_md/en_core_web_md-3.4.1/lemmatizer/lookups/lookups.bin\n",
      "/kaggle/input/en-core-web-md/en_core_web_md/en_core_web_md-3.4.1/tagger/model\n",
      "/kaggle/input/en-core-web-md/en_core_web_md/en_core_web_md-3.4.1/tagger/cfg\n",
      "/kaggle/input/en-core-web-md/en_core_web_md/en_core_web_md-3.4.1/tok2vec/model\n",
      "/kaggle/input/en-core-web-md/en_core_web_md/en_core_web_md-3.4.1/tok2vec/cfg\n"
     ]
    }
   ],
   "source": [
    "# This Python 3 environment comes with many helpful analytics libraries installed\n",
    "# It is defined by the kaggle/python Docker image: https://github.com/kaggle/docker-python\n",
    "# For example, here's several helpful packages to load\n",
    "\n",
    "import numpy as np # linear algebra\n",
    "import pandas as pd # data processing, CSV file I/O (e.g. pd.read_csv)\n",
    "\n",
    "# Input data files are available in the read-only \"../input/\" directory\n",
    "# For example, running this (by clicking run or pressing Shift+Enter) will list all files under the input directory\n",
    "\n",
    "import os\n",
    "for dirname, _, filenames in os.walk('/kaggle/input'):\n",
    "    for filename in filenames:\n",
    "        print(os.path.join(dirname, filename))\n",
    "\n",
    "# You can write up to 20GB to the current directory (/kaggle/working/) that gets preserved as output when you create a version using \"Save & Run All\" \n",
    "# You can also write temporary files to /kaggle/temp/, but they won't be saved outside of the current session"
   ]
  },
  {
   "cell_type": "code",
   "execution_count": 2,
   "id": "8ec6d31a",
   "metadata": {
    "execution": {
     "iopub.execute_input": "2023-09-07T13:17:48.926314Z",
     "iopub.status.busy": "2023-09-07T13:17:48.925966Z",
     "iopub.status.idle": "2023-09-07T13:18:09.179610Z",
     "shell.execute_reply": "2023-09-07T13:18:09.178377Z"
    },
    "papermill": {
     "duration": 20.266279,
     "end_time": "2023-09-07T13:18:09.182222",
     "exception": false,
     "start_time": "2023-09-07T13:17:48.915943",
     "status": "completed"
    },
    "tags": []
   },
   "outputs": [
    {
     "name": "stderr",
     "output_type": "stream",
     "text": [
      "/opt/conda/lib/python3.10/site-packages/scipy/__init__.py:146: UserWarning: A NumPy version >=1.16.5 and <1.23.0 is required for this version of SciPy (detected version 1.23.5\n",
      "  warnings.warn(f\"A NumPy version >={np_minversion} and <{np_maxversion}\"\n",
      "/opt/conda/lib/python3.10/site-packages/tensorflow_io/python/ops/__init__.py:98: UserWarning: unable to load libtensorflow_io_plugins.so: unable to open file: libtensorflow_io_plugins.so, from paths: ['/opt/conda/lib/python3.10/site-packages/tensorflow_io/python/ops/libtensorflow_io_plugins.so']\n",
      "caused by: ['/opt/conda/lib/python3.10/site-packages/tensorflow_io/python/ops/libtensorflow_io_plugins.so: undefined symbol: _ZN3tsl6StatusC1EN10tensorflow5error4CodeESt17basic_string_viewIcSt11char_traitsIcEENS_14SourceLocationE']\n",
      "  warnings.warn(f\"unable to load libtensorflow_io_plugins.so: {e}\")\n",
      "/opt/conda/lib/python3.10/site-packages/tensorflow_io/python/ops/__init__.py:104: UserWarning: file system plugins are not loaded: unable to open file: libtensorflow_io.so, from paths: ['/opt/conda/lib/python3.10/site-packages/tensorflow_io/python/ops/libtensorflow_io.so']\n",
      "caused by: ['/opt/conda/lib/python3.10/site-packages/tensorflow_io/python/ops/libtensorflow_io.so: undefined symbol: _ZTVN10tensorflow13GcsFileSystemE']\n",
      "  warnings.warn(f\"file system plugins are not loaded: {e}\")\n"
     ]
    }
   ],
   "source": [
    "import numpy as np # linear algebra\n",
    "import pandas as pd # data processing, CSV file I/O (e.g. pd.read_csv)\n",
    "from sklearn.feature_extraction.text import CountVectorizer, TfidfTransformer\n",
    "from sklearn.multioutput import MultiOutputRegressor\n",
    "from sklearn.model_selection import train_test_split\n",
    "import spacy\n",
    "\n",
    "nlp = spacy.load(\"en_core_web_lg\")"
   ]
  },
  {
   "cell_type": "code",
   "execution_count": 3,
   "id": "48994482",
   "metadata": {
    "execution": {
     "iopub.execute_input": "2023-09-07T13:18:09.202429Z",
     "iopub.status.busy": "2023-09-07T13:18:09.201758Z",
     "iopub.status.idle": "2023-09-07T13:18:09.330969Z",
     "shell.execute_reply": "2023-09-07T13:18:09.329963Z"
    },
    "papermill": {
     "duration": 0.14179,
     "end_time": "2023-09-07T13:18:09.333605",
     "exception": false,
     "start_time": "2023-09-07T13:18:09.191815",
     "status": "completed"
    },
    "tags": []
   },
   "outputs": [],
   "source": [
    "summary_df = pd.read_csv('/kaggle/input/commonlit-evaluate-student-summaries/summaries_train.csv')\n",
    "prompt_df = pd.read_csv('/kaggle/input/commonlit-evaluate-student-summaries/prompts_train.csv')\n",
    "test_summary = pd.read_csv('/kaggle/input/commonlit-evaluate-student-summaries/summaries_test.csv')\n",
    "test_prompts = pd.read_csv('/kaggle/input/commonlit-evaluate-student-summaries/prompts_test.csv')"
   ]
  },
  {
   "cell_type": "code",
   "execution_count": 4,
   "id": "66168670",
   "metadata": {
    "execution": {
     "iopub.execute_input": "2023-09-07T13:18:09.354261Z",
     "iopub.status.busy": "2023-09-07T13:18:09.353542Z",
     "iopub.status.idle": "2023-09-07T13:18:33.028678Z",
     "shell.execute_reply": "2023-09-07T13:18:33.027549Z"
    },
    "papermill": {
     "duration": 23.688499,
     "end_time": "2023-09-07T13:18:33.031282",
     "exception": false,
     "start_time": "2023-09-07T13:18:09.342783",
     "status": "completed"
    },
    "tags": []
   },
   "outputs": [],
   "source": [
    "from string import punctuation as punc\n",
    "from collections import defaultdict\n",
    "import spacy\n",
    "from string import punctuation as punc\n",
    "from tqdm import tqdm\n",
    "from gensim.models import Word2Vec\n",
    "from sklearn.metrics.pairwise import cosine_similarity, euclidean_distances\n",
    "import spacy\n",
    "from textblob import TextBlob\n",
    "import math\n",
    "from collections import Counter\n",
    "from nltk.util import ngrams\n",
    "import tensorflow_hub as hub\n",
    "import tensorflow as tf\n",
    "\n",
    "\n",
    "embed = hub.load(\"/kaggle/input/universal-sentence-encoder/tensorflow2/universal-sentence-encoder/2\")\n",
    "\n",
    "def extract_lemmas(text):\n",
    "    doc = nlp(text)\n",
    "    lemmas = []\n",
    "\n",
    "    for token in doc:\n",
    "        if not token.is_stop:\n",
    "            lemmas.append(token.lemma_.lower())\n",
    "    return ' '.join(lemmas)\n",
    "\n",
    "# Overlap Score\n",
    "\n",
    "def tree_depth_from_token(token):\n",
    "    \"\"\"Calculate the depth of a subtree rooted at a token.\"\"\"\n",
    "    if not list(token.children):\n",
    "        return 1\n",
    "    else:\n",
    "        return 1 + max(tree_depth_from_token(child) for child in token.children)\n",
    "\n",
    "def average_dependency_tree_depth(doc):\n",
    "    \"\"\"Compute the average depth of the dependency tree.\"\"\"\n",
    "    root_tokens = [tok for tok in doc if tok.dep_ == 'ROOT']\n",
    "    if not root_tokens:\n",
    "        return 0\n",
    "    depths = [tree_depth_from_token(token) for token in root_tokens]\n",
    "    return sum(depths) / len(depths)\n",
    "\n",
    "def process_text(doc):\n",
    "    stops = 0\n",
    "    num_nouns = 0\n",
    "    num_verbs = 0\n",
    "    num_adverbs = 0\n",
    "    \n",
    "    for token in doc:\n",
    "        if token.is_stop:\n",
    "            stops += 1\n",
    "        else:\n",
    "            if token.pos_ == \"VERB\":\n",
    "                num_verbs += 1\n",
    "            elif token.pos_ == \"NOUN\":\n",
    "                num_nouns += 1\n",
    "            elif token.pos_ == \"ADV\":\n",
    "                num_adverbs += 1\n",
    "                \n",
    "    return stops, num_nouns, num_verbs, num_adverbs\n",
    "\n",
    "def syllable_count(word):\n",
    "    word = word.lower()\n",
    "    count = 0\n",
    "    vowels = \"aeiouy\"\n",
    "    if word[0] in vowels:\n",
    "        count += 1\n",
    "    for index in range(1, len(word)):\n",
    "        if word[index] in vowels and word[index - 1] not in vowels:\n",
    "            count += 1\n",
    "    if word.endswith(\"e\"):\n",
    "        count -= 1\n",
    "    if count == 0:\n",
    "        count += 1\n",
    "    return count\n",
    "\n",
    "def extract_features(row):\n",
    "    text = row['text']\n",
    "    doc = nlp(text)\n",
    "    context = nlp(row['prompt_text'])\n",
    "    text_blob = TextBlob(text)\n",
    "    context_blob = TextBlob(row['prompt_text'])\n",
    "    capital_error = sum(1 for sent in doc.sents if not sent.text[0].isupper())\n",
    "    \n",
    "    \n",
    "    # Subjectivity\n",
    "    subjectivity = text_blob.subjectivity\n",
    "    context_subjectivity = context_blob.subjectivity\n",
    "    \n",
    "    # 2. Number of unique words\n",
    "    tokens = [token.text.lower() for token in doc if token.is_alpha]\n",
    "    context_tokens = [token.text.lower() for token in context if token.is_alpha]\n",
    "    unique_words = len(set(tokens))\n",
    "    \n",
    "    # 1. Length of the summary\n",
    "    length = len(tokens)\n",
    "    \n",
    "    #3. counter\n",
    "    total_tokens = len(tokens) + 1e-9\n",
    "    word_counts = dict(text_blob.word_counts)\n",
    "    once = sum(1 for word, count in word_counts.items() if count == 1)\n",
    "    twice = sum(1 for word, count in word_counts.items() if count == 2)\n",
    "    \n",
    "    # 4. Named entities\n",
    "    num_entities = len(doc.ents)\n",
    "    context_num_entities = len(context.ents)\n",
    "    \n",
    "    # 5. Average word length\n",
    "    avg_word_len = round(sum([len(token) for token in tokens])/(length + 1e-9), ndigits=4)\n",
    "    \n",
    "    # 6. Summary Polarity\n",
    "    sentiment_polarity = text_blob.sentiment.polarity\n",
    "    error = sum(1 for token in doc if token.text.lower() not in english)\n",
    "    \n",
    "    # 7. Stopwords verbs and nouns\n",
    "    stops,num_nouns, num_verbs, num_adverbs = process_text(doc)\n",
    "    context_stops,_, context_verbs, _ = process_text(context)\n",
    "    \n",
    "    # 8. Numerical entities\n",
    "    num_numerical_entities = len([ent for ent in doc.ents if ent.label_ == \"CARDINAL\"])\n",
    "    \n",
    "    # 9. Sentece count\n",
    "    sentence = len([sent for sent in doc.sents])\n",
    "    avg_sentence = float(sentence / total_tokens)\n",
    "    avg_unique_sentence = float(sentence / (unique_words + 1e-9))\n",
    "    context_unique_words = len(set(context_tokens))\n",
    "    \n",
    "    # 10 Tree Depth/ Probabilities /  complex words(Morphemes)\n",
    "    average_tree_depth = average_dependency_tree_depth(doc)\n",
    "    prob_word = [count/(total_tokens + 1e-9) for word, count in word_counts.items()]\n",
    "    results = {\n",
    "        \"nsubj\": 0,\n",
    "        \"amod\": 0,\n",
    "        \"advmod\": 0,\n",
    "        \"xcomp\": 0,\n",
    "        \"acomp\": 0,\n",
    "        \"past\": 0,\n",
    "        \"present\": 0\n",
    "    }\n",
    "    \n",
    "    num_syllables = 0\n",
    "    poly_syllables = 0\n",
    "    summary_punctuation = 0\n",
    "    \n",
    "    for token in doc:\n",
    "        if \"VERB\" in token.pos_:\n",
    "            if \"VBD\" in token.tag_ or \"VBN\" in token.tag_:\n",
    "                results[\"past\"] += 1\n",
    "            elif \"VBG\" in token.tag_ or \"VBP\" in token.tag_ or \"VBZ\" in token.tag_:\n",
    "                results[\"present\"] += 1\n",
    "        # Check if the token's dependency is one of the desired dependencies\n",
    "        if token.dep_ in results:\n",
    "            results[token.dep_] += 1\n",
    "            \n",
    "        if token.is_punct:\n",
    "            summary_punctuation += 1\n",
    "        \n",
    "        if token.is_alpha:\n",
    "            num_syllables += syllable_count(token.text.lower())\n",
    "            if num_syllables >= 3:\n",
    "                poly_syllables += 1\n",
    "        \n",
    "    \n",
    "    avg_use_complex = float(poly_syllables / total_tokens)\n",
    "    pearson = np.corrcoef(context.vector.ravel(), doc.vector.ravel())[0, 1]\n",
    "    embedding_similarity = cosine_similarity([context.vector], [doc.vector])[0][0]\n",
    "    euclidean = euclidean_distances([context.vector], [doc.vector])[0][0]\n",
    "    \n",
    "    # Readability\n",
    "    ASL = float(total_tokens / (sentence + 1e-9))\n",
    "    ASW = float(num_syllables / total_tokens)\n",
    "\n",
    "    flesch_reading_ease = 206.835 - (1.015 * ASL) - (84.6 * ASW)\n",
    "    flesch_kincaid = (0.39 * ASL) + (11.8 * ASW) - 15.59\n",
    "    smog_grade = (1.0430 * np.sqrt(poly_syllables * (30 / (sentence + 1e-9)))) + 3.1291\n",
    "    gunning_fog = 0.4 * (ASL + (100 * avg_use_complex))\n",
    "        \n",
    "    # Unigram similarity\n",
    "    summary_set = set(tokens)\n",
    "    context_set = set(context_tokens)\n",
    "    intersection = len(context_set.intersection(summary_set))\n",
    "    difference = len(context_set.difference(summary_set))\n",
    "    union = len(context_set.union(summary_set))\n",
    "    precision = float(intersection / len(summary_set))\n",
    "    recall = float(intersection / len(context_set))\n",
    "    jaccard_similarity = float(intersection/union)\n",
    "    overlap_score = intersection/float(min(len(context_set), len(summary_set)) + 1e-9)\n",
    "    # Dice's Coefficient\n",
    "    dice_coefficient = (2 * jaccard_similarity)/(1 + jaccard_similarity)\n",
    "    f1_score = float(2 * ((precision * recall)/(precision + recall + 1e-8)))\n",
    "    \n",
    "    # Bigram Similarity\n",
    "    answer_bigrams = set(list(ngrams(row['text'].lower().split(), 2)))\n",
    "    context_bigrams = set(list(ngrams(row['prompt_text'].lower().split(), 2)))\n",
    "    intersection_bigram = len(answer_bigrams.intersection(context_bigrams))\n",
    "    union_bigram = len(answer_bigrams.union(context_bigrams))\n",
    "    precision_bigram = intersection_bigram / (len(answer_bigrams) + 1e-9)\n",
    "    recall_bigram = intersection_bigram / (len(context_bigrams) + 1e-9)\n",
    "    jaccard_bigram = intersection_bigram/(union_bigram + 1e-9)\n",
    "    f1_bigram = 2 * ((precision_bigram * jaccard_bigram)/(precision_bigram + jaccard_bigram + 1e-8))\n",
    "    \n",
    "    \n",
    "    # Organizing features in a dictionary\n",
    "    features = {\n",
    "        'length': length,\n",
    "        \"summary_punctuation\":summary_punctuation,\n",
    "        \"subjectivity\": subjectivity,\n",
    "        \"context_subjectivity\":context_subjectivity,\n",
    "        'num_chars': len(row['text']),\n",
    "        \"capital_error\": capital_error,\n",
    "        \"intersection_bigram\": intersection_bigram,\n",
    "        \"union_bigram\": union_bigram,\n",
    "        \"jaccard_bigram\": jaccard_bigram,\n",
    "        \"precision_bigram\": precision_bigram,\n",
    "        \"f1_bigram\": f1_bigram,\n",
    "        'sentence': sentence,\n",
    "        \"avg_sentence\": avg_sentence,\n",
    "        'avg_unique_sentence':avg_unique_sentence,\n",
    "        \"error\": error,\n",
    "        \"gunning_fog\": gunning_fog,\n",
    "        \"complex_words\": poly_syllables,\n",
    "        \"avg_use_complex\": avg_use_complex,\n",
    "        'unique_words': unique_words,\n",
    "        'num_entities': num_entities,\n",
    "        \"context_num_entities\": context_num_entities,\n",
    "        'avg_word_len': avg_word_len,\n",
    "        \"stops\": stops,\n",
    "        \"num_nouns\": num_nouns,\n",
    "        \"num_verbs\": num_verbs,\n",
    "        \"num_adverbs\": num_adverbs,\n",
    "        \"num_numerical_entities\": num_numerical_entities,\n",
    "        \"sentiment_polarity\": sentiment_polarity,\n",
    "        \"nsubj\": results['nsubj'],\n",
    "        \"amod\": results['amod'],\n",
    "        \"advmod\": results['advmod'],\n",
    "        \"xcomp\": results['xcomp'],\n",
    "        \"acomp\": results['acomp'],\n",
    "        \"past\": results[\"past\"],\n",
    "        \"present\": results[\"present\"],\n",
    "        \"average_dependency_tree_depth\": average_tree_depth,\n",
    "        \"TTR\": unique_words / (total_tokens + 1e-8),\n",
    "        \"RTTR\": unique_words / (math.sqrt(total_tokens) + 1e-8),\n",
    "        \"CTTR\": unique_words / (math.sqrt(total_tokens / 2) + 1e-8),\n",
    "        \"Herdan's C\": math.log(unique_words) / (math.log(total_tokens) + 1e-8),\n",
    "        \"Dugast's U\": math.log(total_tokens)**2 / ((math.log(total_tokens) - math.log(unique_words)) + 1e-8),\n",
    "        \"Honoré's H\": 100 * math.log(total_tokens) / (1 - once/(unique_words + 1e-8)),\n",
    "        \"Entropy\": -sum(p * math.log(p) for p in prob_word),\n",
    "        \"Sichel’s S\": twice,\n",
    "        \"flesch_reading_ease\": flesch_reading_ease,\n",
    "        \"flesch_kincaid\": flesch_kincaid,\n",
    "        \"smog_grade\": smog_grade,\n",
    "        'intersection': intersection,\n",
    "        'difference': difference,\n",
    "        'union': union,\n",
    "        'overlap_score': overlap_score,\n",
    "        'precision': precision,\n",
    "        'dice_coefficient': dice_coefficient,\n",
    "        'jaccard_similarity': jaccard_similarity,\n",
    "        'f1_score': f1_score,\n",
    "        \"Simpson’s D\": sum((count/(total_tokens + 1e-9))**2 for count in word_counts.values()),\n",
    "        \"embedding_similarity\": embedding_similarity,\n",
    "        \"euclidean\": euclidean,\n",
    "        \"pearson\": pearson,\n",
    "    }\n",
    "    \n",
    "    return features\n",
    "\n",
    "def get_embeddings(text):\n",
    "    sents = [sent.text for sent in nlp(text).sents]\n",
    "    sents = tf.constant(sents, dtype=tf.string)\n",
    "    embeddings = embed(sents)\n",
    "\n",
    "    return np.sum(embeddings, axis=0)"
   ]
  },
  {
   "cell_type": "code",
   "execution_count": 5,
   "id": "922228df",
   "metadata": {
    "execution": {
     "iopub.execute_input": "2023-09-07T13:18:33.051268Z",
     "iopub.status.busy": "2023-09-07T13:18:33.050662Z",
     "iopub.status.idle": "2023-09-07T13:18:33.118436Z",
     "shell.execute_reply": "2023-09-07T13:18:33.117457Z"
    },
    "papermill": {
     "duration": 0.080565,
     "end_time": "2023-09-07T13:18:33.120930",
     "exception": false,
     "start_time": "2023-09-07T13:18:33.040365",
     "status": "completed"
    },
    "tags": []
   },
   "outputs": [],
   "source": [
    "from sklearn.feature_extraction.text import CountVectorizer, TfidfTransformer\n",
    "from sklearn.preprocessing import StandardScaler, MinMaxScaler\n",
    "from sklearn.decomposition import TruncatedSVD,PCA\n",
    "from sklearn.metrics.pairwise import cosine_similarity, euclidean_distances\n",
    "\n",
    "def preprocess_data(summary_df, prompt_df):\n",
    "    train_df = summary_df.merge(right=prompt_df, how='inner', on='prompt_id')\n",
    "\n",
    "    print('processing text embeddings......')\n",
    "    train_df = train_df.assign(\n",
    "      full_text='Title:\\n' + train_df['prompt_title'] +\n",
    "                '\\nQuestion:\\n' + train_df['prompt_question'] +\n",
    "                '\\nText:\\n' + train_df['prompt_text']\n",
    "      )\n",
    "    \n",
    "    # processing lemmas\n",
    "    print('extracting features.....')\n",
    "    data = pd.DataFrame(train_df.apply(extract_features, axis=1).tolist())\n",
    "    \n",
    "    print('processing features.....')\n",
    "    # Process other columns\n",
    "    train_df['lemmas'] = train_df['text'].apply(extract_lemmas)\n",
    "    train_df['full_text'] = train_df['full_text'].apply(extract_lemmas)\n",
    "\n",
    "    cols = ['content', 'wording']\n",
    "\n",
    "#     print('Extracting embeddings')\n",
    "    text_embeddings = np.asarray(train_df['lemmas'].apply(get_embeddings).tolist(), dtype=np.float32)\n",
    "    context_embeddings = np.asarray(train_df['full_text'].apply(get_embeddings).tolist(), dtype=np.float32)\n",
    "    embeddings = text_embeddings + context_embeddings\n",
    "    \n",
    "    \n",
    "    print('applying vectorizer.....')\n",
    "    # Vectorization\n",
    "    global vectorizer, pca\n",
    "    vectorizer = CountVectorizer(ngram_range=(1,1))\n",
    "    transformer = TfidfTransformer()\n",
    "    transformed_df = transformer.fit_transform(vectorizer.fit_transform(train_df['full_text']))\n",
    "    summary_transformed = transformer.fit_transform(vectorizer.transform(train_df['lemmas']))\n",
    "\n",
    "    print('scaling features.....')\n",
    "    # Scaling\n",
    "    scaler = MinMaxScaler(feature_range=(0, 10))\n",
    "    X_summary_scaled = scaler.fit_transform(transformed_df.toarray())\n",
    "    summary_scaled = scaler.transform(summary_transformed.toarray())\n",
    "\n",
    "    print('decomposing features.......')\n",
    "    # PCA Decomposition\n",
    "    components = round(transformed_df.shape[1] * (40/100))\n",
    "    pca = TruncatedSVD(n_components=components,algorithm='arpack', random_state=42)\n",
    "    pca_bag = pca.fit_transform(X_summary_scaled)\n",
    "    summary_bag = pca.transform(summary_scaled)\n",
    "    \n",
    "    stacked_bag = np.hstack((pca_bag,summary_bag, embeddings,data.values, train_df[cols].values))\n",
    "\n",
    "    print('collecting outputs.........')\n",
    "    student_ids = train_df['student_id'].values\n",
    "\n",
    "    return stacked_bag, student_ids"
   ]
  },
  {
   "cell_type": "code",
   "execution_count": 6,
   "id": "2c6617e6",
   "metadata": {
    "execution": {
     "iopub.execute_input": "2023-09-07T13:18:33.140113Z",
     "iopub.status.busy": "2023-09-07T13:18:33.139779Z",
     "iopub.status.idle": "2023-09-07T13:18:33.261220Z",
     "shell.execute_reply": "2023-09-07T13:18:33.260215Z"
    },
    "papermill": {
     "duration": 0.133779,
     "end_time": "2023-09-07T13:18:33.263663",
     "exception": false,
     "start_time": "2023-09-07T13:18:33.129884",
     "status": "completed"
    },
    "tags": []
   },
   "outputs": [],
   "source": [
    "from nltk.corpus import words\n",
    "english = set(words.words())"
   ]
  },
  {
   "cell_type": "code",
   "execution_count": 7,
   "id": "6876451a",
   "metadata": {
    "execution": {
     "iopub.execute_input": "2023-09-07T13:18:33.283318Z",
     "iopub.status.busy": "2023-09-07T13:18:33.282959Z",
     "iopub.status.idle": "2023-09-07T14:05:58.636420Z",
     "shell.execute_reply": "2023-09-07T14:05:58.634357Z"
    },
    "papermill": {
     "duration": 2845.365547,
     "end_time": "2023-09-07T14:05:58.638765",
     "exception": false,
     "start_time": "2023-09-07T13:18:33.273218",
     "status": "completed"
    },
    "tags": []
   },
   "outputs": [
    {
     "name": "stdout",
     "output_type": "stream",
     "text": [
      "processing text embeddings......\n",
      "extracting features.....\n",
      "processing features.....\n",
      "applying vectorizer.....\n",
      "scaling features.....\n",
      "decomposing features.......\n",
      "collecting outputs.........\n",
      "Preprocessed function executed in: 2845.35 seconds\n"
     ]
    }
   ],
   "source": [
    "from sklearn.preprocessing import StandardScaler\n",
    "from sklearn.decomposition import PCA\n",
    "import time\n",
    "\n",
    "start_time = time.time()\n",
    "\n",
    "stacked_bag, student_ids = preprocess_data(summary_df,prompt_df)\n",
    "\n",
    "end_time = time.time()\n",
    "elapsed_time = end_time - start_time\n",
    "\n",
    "print(f\"Preprocessed function executed in: {elapsed_time:.2f} seconds\")"
   ]
  },
  {
   "cell_type": "code",
   "execution_count": 8,
   "id": "2f0f140b",
   "metadata": {
    "execution": {
     "iopub.execute_input": "2023-09-07T14:05:58.659665Z",
     "iopub.status.busy": "2023-09-07T14:05:58.659348Z",
     "iopub.status.idle": "2023-09-07T14:05:58.684957Z",
     "shell.execute_reply": "2023-09-07T14:05:58.683976Z"
    },
    "papermill": {
     "duration": 0.038253,
     "end_time": "2023-09-07T14:05:58.687227",
     "exception": false,
     "start_time": "2023-09-07T14:05:58.648974",
     "status": "completed"
    },
    "tags": []
   },
   "outputs": [],
   "source": [
    "X_train,X_test,y_train,y_test = train_test_split(stacked_bag[:,:-2] ,stacked_bag[:,-2:],test_size=0.1,shuffle=True,random_state=11)"
   ]
  },
  {
   "cell_type": "code",
   "execution_count": 9,
   "id": "fff851da",
   "metadata": {
    "execution": {
     "iopub.execute_input": "2023-09-07T14:05:58.707418Z",
     "iopub.status.busy": "2023-09-07T14:05:58.707121Z",
     "iopub.status.idle": "2023-09-07T14:05:58.713150Z",
     "shell.execute_reply": "2023-09-07T14:05:58.712240Z"
    },
    "papermill": {
     "duration": 0.018347,
     "end_time": "2023-09-07T14:05:58.715191",
     "exception": false,
     "start_time": "2023-09-07T14:05:58.696844",
     "status": "completed"
    },
    "tags": []
   },
   "outputs": [
    {
     "name": "stdout",
     "output_type": "stream",
     "text": [
      "done\n"
     ]
    }
   ],
   "source": [
    "print('done')"
   ]
  },
  {
   "cell_type": "code",
   "execution_count": 10,
   "id": "c9ac55b8",
   "metadata": {
    "execution": {
     "iopub.execute_input": "2023-09-07T14:05:58.734393Z",
     "iopub.status.busy": "2023-09-07T14:05:58.734128Z",
     "iopub.status.idle": "2023-09-07T14:05:58.739639Z",
     "shell.execute_reply": "2023-09-07T14:05:58.738742Z"
    },
    "papermill": {
     "duration": 0.017504,
     "end_time": "2023-09-07T14:05:58.741643",
     "exception": false,
     "start_time": "2023-09-07T14:05:58.724139",
     "status": "completed"
    },
    "tags": []
   },
   "outputs": [],
   "source": [
    "def mcrmse(y_true, y_pred):\n",
    "    return np.mean(np.sqrt(np.mean((y_true - y_pred)**2, axis=0).tolist()))"
   ]
  },
  {
   "cell_type": "code",
   "execution_count": 11,
   "id": "754dca16",
   "metadata": {
    "execution": {
     "iopub.execute_input": "2023-09-07T14:05:58.760900Z",
     "iopub.status.busy": "2023-09-07T14:05:58.760644Z",
     "iopub.status.idle": "2023-09-07T14:05:58.767082Z",
     "shell.execute_reply": "2023-09-07T14:05:58.766215Z"
    },
    "papermill": {
     "duration": 0.018475,
     "end_time": "2023-09-07T14:05:58.769133",
     "exception": false,
     "start_time": "2023-09-07T14:05:58.750658",
     "status": "completed"
    },
    "tags": []
   },
   "outputs": [
    {
     "data": {
      "text/plain": [
       "(6448, 1143)"
      ]
     },
     "execution_count": 11,
     "metadata": {},
     "output_type": "execute_result"
    }
   ],
   "source": [
    "X_train.shape"
   ]
  },
  {
   "cell_type": "code",
   "execution_count": 12,
   "id": "f760432a",
   "metadata": {
    "execution": {
     "iopub.execute_input": "2023-09-07T14:05:58.789368Z",
     "iopub.status.busy": "2023-09-07T14:05:58.788647Z",
     "iopub.status.idle": "2023-09-07T14:34:56.603426Z",
     "shell.execute_reply": "2023-09-07T14:34:56.602162Z"
    },
    "papermill": {
     "duration": 1737.837322,
     "end_time": "2023-09-07T14:34:56.615680",
     "exception": false,
     "start_time": "2023-09-07T14:05:58.778358",
     "status": "completed"
    },
    "tags": []
   },
   "outputs": [
    {
     "name": "stderr",
     "output_type": "stream",
     "text": [
      "training model: 0it [00:00, ?it/s]/opt/conda/lib/python3.10/site-packages/scipy/__init__.py:146: UserWarning: A NumPy version >=1.16.5 and <1.23.0 is required for this version of SciPy (detected version 1.23.5\n",
      "  warnings.warn(f\"A NumPy version >={np_minversion} and <{np_maxversion}\"\n",
      "/opt/conda/lib/python3.10/site-packages/scipy/__init__.py:146: UserWarning: A NumPy version >=1.16.5 and <1.23.0 is required for this version of SciPy (detected version 1.23.5\n",
      "  warnings.warn(f\"A NumPy version >={np_minversion} and <{np_maxversion}\"\n",
      "training model: 20it [28:57, 86.85s/it]"
     ]
    },
    {
     "name": "stdout",
     "output_type": "stream",
     "text": [
      "Preprocessed function executed in: 1737.03 seconds\n",
      "Mean Score: 0.48\n"
     ]
    },
    {
     "name": "stderr",
     "output_type": "stream",
     "text": [
      "\n"
     ]
    }
   ],
   "source": [
    "from sklearn.model_selection import KFold\n",
    "import lightgbm as lgb\n",
    "from sklearn.preprocessing import StandardScaler\n",
    "from sklearn.pipeline import make_pipeline\n",
    "start_time = time.time()\n",
    "\n",
    "best_params = {\n",
    "    'learning_rate': 0.01,\n",
    "    'n_estimators': 600,\n",
    "    'max_depth': 11,\n",
    "    'subsample': 0.6,\n",
    "    'colsample_bytree': 0.6,\n",
    "#     'objective': 'reg:squarederror'\n",
    "}\n",
    "\n",
    "best_models = []\n",
    "\n",
    "score = []\n",
    "kfold = KFold(n_splits=20, shuffle=True, random_state=64)\n",
    "for train_idx, test_idx in tqdm(kfold.split(X_train, y_train), desc='training model'):\n",
    "    X, y = X_train[train_idx], y_train[train_idx]\n",
    "    test,test_y = X_train[test_idx], y_train[test_idx]\n",
    "    pipeline = MultiOutputRegressor(make_pipeline(\n",
    "        StandardScaler(),\n",
    "        lgb.LGBMRegressor(**best_params, random_state=64)),\n",
    "        n_jobs=-1\n",
    "        )\n",
    "    pipeline.fit(X, y)\n",
    "    score.append(mcrmse(test_y,pipeline.predict(test)))\n",
    "    best_models.append(pipeline)\n",
    "    \n",
    "end_time = time.time()\n",
    "elapsed_time = end_time - start_time \n",
    "print(f\"Preprocessed function executed in: {elapsed_time:.2f} seconds\")\n",
    "print(f'Mean Score: {np.mean(score):.2f}')"
   ]
  },
  {
   "cell_type": "markdown",
   "id": "7ecd1109",
   "metadata": {
    "papermill": {
     "duration": 0.012924,
     "end_time": "2023-09-07T14:34:56.641760",
     "exception": false,
     "start_time": "2023-09-07T14:34:56.628836",
     "status": "completed"
    },
    "tags": []
   },
   "source": [
    "# Model Evaluation"
   ]
  },
  {
   "cell_type": "code",
   "execution_count": 13,
   "id": "a7fea932",
   "metadata": {
    "execution": {
     "iopub.execute_input": "2023-09-07T14:34:56.666821Z",
     "iopub.status.busy": "2023-09-07T14:34:56.665579Z",
     "iopub.status.idle": "2023-09-07T14:35:06.476893Z",
     "shell.execute_reply": "2023-09-07T14:35:06.475431Z"
    },
    "papermill": {
     "duration": 9.825916,
     "end_time": "2023-09-07T14:35:06.478919",
     "exception": false,
     "start_time": "2023-09-07T14:34:56.653003",
     "status": "completed"
    },
    "tags": []
   },
   "outputs": [
    {
     "name": "stdout",
     "output_type": "stream",
     "text": [
      "Mean Score: 0.47\n"
     ]
    }
   ],
   "source": [
    "best_scores = []\n",
    "for i in range(len(best_models)):\n",
    "    best_model = best_models[i]\n",
    "    y_preds = best_model.predict(X_test)\n",
    "    best_scores.append(mcrmse(y_test,y_preds))\n",
    "print(f'Mean Score: {np.mean(best_scores):.2f}')"
   ]
  },
  {
   "cell_type": "code",
   "execution_count": 14,
   "id": "53b97fe9",
   "metadata": {
    "execution": {
     "iopub.execute_input": "2023-09-07T14:35:06.504411Z",
     "iopub.status.busy": "2023-09-07T14:35:06.504057Z",
     "iopub.status.idle": "2023-09-07T14:35:06.509184Z",
     "shell.execute_reply": "2023-09-07T14:35:06.508116Z"
    },
    "papermill": {
     "duration": 0.020573,
     "end_time": "2023-09-07T14:35:06.511431",
     "exception": false,
     "start_time": "2023-09-07T14:35:06.490858",
     "status": "completed"
    },
    "tags": []
   },
   "outputs": [],
   "source": [
    "best_model_idx = np.argmin(best_scores)\n",
    "best_model = best_models[best_model_idx]"
   ]
  },
  {
   "cell_type": "code",
   "execution_count": 15,
   "id": "33daca63",
   "metadata": {
    "execution": {
     "iopub.execute_input": "2023-09-07T14:35:06.537388Z",
     "iopub.status.busy": "2023-09-07T14:35:06.536502Z",
     "iopub.status.idle": "2023-09-07T14:35:06.996997Z",
     "shell.execute_reply": "2023-09-07T14:35:06.995992Z"
    },
    "papermill": {
     "duration": 0.476269,
     "end_time": "2023-09-07T14:35:06.999644",
     "exception": false,
     "start_time": "2023-09-07T14:35:06.523375",
     "status": "completed"
    },
    "tags": []
   },
   "outputs": [],
   "source": [
    "y_preds = best_model.predict(X_test)"
   ]
  },
  {
   "cell_type": "code",
   "execution_count": 16,
   "id": "47c532c1",
   "metadata": {
    "execution": {
     "iopub.execute_input": "2023-09-07T14:35:07.024127Z",
     "iopub.status.busy": "2023-09-07T14:35:07.023783Z",
     "iopub.status.idle": "2023-09-07T14:35:07.031720Z",
     "shell.execute_reply": "2023-09-07T14:35:07.030619Z"
    },
    "papermill": {
     "duration": 0.022534,
     "end_time": "2023-09-07T14:35:07.033932",
     "exception": false,
     "start_time": "2023-09-07T14:35:07.011398",
     "status": "completed"
    },
    "tags": []
   },
   "outputs": [
    {
     "data": {
      "text/plain": [
       "0.46495620030461604"
      ]
     },
     "execution_count": 16,
     "metadata": {},
     "output_type": "execute_result"
    }
   ],
   "source": [
    "mcrmse(y_test,y_preds)"
   ]
  },
  {
   "cell_type": "markdown",
   "id": "749e8b32",
   "metadata": {
    "papermill": {
     "duration": 0.011054,
     "end_time": "2023-09-07T14:35:07.057212",
     "exception": false,
     "start_time": "2023-09-07T14:35:07.046158",
     "status": "completed"
    },
    "tags": []
   },
   "source": [
    "### Best Model Score: 0.4697948553254168"
   ]
  },
  {
   "cell_type": "markdown",
   "id": "0c38aed2",
   "metadata": {
    "papermill": {
     "duration": 0.011041,
     "end_time": "2023-09-07T14:35:07.079389",
     "exception": false,
     "start_time": "2023-09-07T14:35:07.068348",
     "status": "completed"
    },
    "tags": []
   },
   "source": [
    "### Preprocessing for text data"
   ]
  },
  {
   "cell_type": "code",
   "execution_count": 17,
   "id": "e8ad9e94",
   "metadata": {
    "execution": {
     "iopub.execute_input": "2023-09-07T14:35:07.103356Z",
     "iopub.status.busy": "2023-09-07T14:35:07.103008Z",
     "iopub.status.idle": "2023-09-07T14:35:07.114141Z",
     "shell.execute_reply": "2023-09-07T14:35:07.113221Z"
    },
    "papermill": {
     "duration": 0.025533,
     "end_time": "2023-09-07T14:35:07.116042",
     "exception": false,
     "start_time": "2023-09-07T14:35:07.090509",
     "status": "completed"
    },
    "tags": []
   },
   "outputs": [],
   "source": [
    "def preprocess_data(summary_df, prompt_df):\n",
    "    train_df = summary_df.merge(right=prompt_df, how='inner', on='prompt_id')\n",
    "\n",
    "    print('processing text embeddings......')\n",
    "    train_df = train_df.assign(\n",
    "      full_text='Title:\\n' + train_df['prompt_title'] +\n",
    "                '\\nQuestion:\\n' + train_df['prompt_question'] +\n",
    "                '\\nText:\\n' + train_df['prompt_text']\n",
    "      )\n",
    "    \n",
    "    # processing lemmas\n",
    "    print('extracting features.....')\n",
    "    data = pd.DataFrame(train_df.apply(extract_features, axis=1).tolist())\n",
    "    \n",
    "    print('processing features.....')\n",
    "    # Process other columns\n",
    "    train_df['lemmas'] = train_df['text'].apply(extract_lemmas)\n",
    "    train_df['full_text'] = train_df['full_text'].apply(extract_lemmas)\n",
    "    \n",
    "    print('processing embeddings.......')\n",
    "    text_embeddings = np.asarray(train_df['lemmas'].apply(get_embeddings).tolist(), dtype=np.float32)\n",
    "    context_embeddings = np.asarray(train_df['full_text'].apply(get_embeddings).tolist(), dtype=np.float32)\n",
    "    embeddings = text_embeddings + context_embeddings\n",
    "    \n",
    "    print('applying vectorizer.....')\n",
    "    # Vectorization\n",
    "    transformer = TfidfTransformer()\n",
    "    transformed_df = transformer.fit_transform(vectorizer.transform(train_df['full_text']))\n",
    "    summary_transformed = transformer.fit_transform(vectorizer.transform(train_df['lemmas']))\n",
    "\n",
    "    print('scaling features.....')\n",
    "    # Scaling\n",
    "    scaler = MinMaxScaler(feature_range=(0, 10))\n",
    "    X_summary_scaled = scaler.fit_transform(transformed_df.toarray())\n",
    "    summary_scaled = scaler.fit_transform(summary_transformed.toarray())\n",
    "\n",
    "    print('decomposing features.......')\n",
    "    # PCA Decomposition\n",
    "    pca_bag = pca.transform(X_summary_scaled)\n",
    "    summary_bag = pca.transform(summary_scaled)\n",
    "    \n",
    "    stacked_bag = np.hstack((pca_bag,summary_bag, embeddings,data.values))\n",
    "\n",
    "    print('collecting outputs.........')\n",
    "    student_ids = train_df['student_id'].values\n",
    "\n",
    "    return stacked_bag, student_ids"
   ]
  },
  {
   "cell_type": "code",
   "execution_count": 18,
   "id": "4ceff9f0",
   "metadata": {
    "execution": {
     "iopub.execute_input": "2023-09-07T14:35:07.139947Z",
     "iopub.status.busy": "2023-09-07T14:35:07.139198Z",
     "iopub.status.idle": "2023-09-07T14:35:07.392563Z",
     "shell.execute_reply": "2023-09-07T14:35:07.391305Z"
    },
    "papermill": {
     "duration": 0.267616,
     "end_time": "2023-09-07T14:35:07.394790",
     "exception": false,
     "start_time": "2023-09-07T14:35:07.127174",
     "status": "completed"
    },
    "tags": []
   },
   "outputs": [
    {
     "name": "stdout",
     "output_type": "stream",
     "text": [
      "processing text embeddings......\n",
      "extracting features.....\n",
      "processing features.....\n",
      "processing embeddings.......\n",
      "applying vectorizer.....\n",
      "scaling features.....\n",
      "decomposing features.......\n",
      "collecting outputs.........\n"
     ]
    }
   ],
   "source": [
    "test_df,ids = preprocess_data(test_summary, test_prompts)"
   ]
  },
  {
   "cell_type": "code",
   "execution_count": 19,
   "id": "0fc713a0",
   "metadata": {
    "execution": {
     "iopub.execute_input": "2023-09-07T14:35:07.419892Z",
     "iopub.status.busy": "2023-09-07T14:35:07.418932Z",
     "iopub.status.idle": "2023-09-07T14:35:07.679084Z",
     "shell.execute_reply": "2023-09-07T14:35:07.678352Z"
    },
    "papermill": {
     "duration": 0.274824,
     "end_time": "2023-09-07T14:35:07.681335",
     "exception": false,
     "start_time": "2023-09-07T14:35:07.406511",
     "status": "completed"
    },
    "tags": []
   },
   "outputs": [],
   "source": [
    "y_preds = best_model.predict(test_df)"
   ]
  },
  {
   "cell_type": "code",
   "execution_count": 20,
   "id": "ebe259de",
   "metadata": {
    "execution": {
     "iopub.execute_input": "2023-09-07T14:35:07.709447Z",
     "iopub.status.busy": "2023-09-07T14:35:07.709125Z",
     "iopub.status.idle": "2023-09-07T14:35:07.716324Z",
     "shell.execute_reply": "2023-09-07T14:35:07.715386Z"
    },
    "papermill": {
     "duration": 0.021857,
     "end_time": "2023-09-07T14:35:07.718345",
     "exception": false,
     "start_time": "2023-09-07T14:35:07.696488",
     "status": "completed"
    },
    "tags": []
   },
   "outputs": [],
   "source": [
    "df_test = pd.DataFrame(y_preds,columns=['content','wording'],index=ids).reset_index()\n",
    "df_test = df_test.rename({'index':'student_id'},axis=1)"
   ]
  },
  {
   "cell_type": "code",
   "execution_count": 21,
   "id": "196667c0",
   "metadata": {
    "execution": {
     "iopub.execute_input": "2023-09-07T14:35:07.743746Z",
     "iopub.status.busy": "2023-09-07T14:35:07.742809Z",
     "iopub.status.idle": "2023-09-07T14:35:07.754714Z",
     "shell.execute_reply": "2023-09-07T14:35:07.753754Z"
    },
    "papermill": {
     "duration": 0.026475,
     "end_time": "2023-09-07T14:35:07.756812",
     "exception": false,
     "start_time": "2023-09-07T14:35:07.730337",
     "status": "completed"
    },
    "tags": []
   },
   "outputs": [],
   "source": [
    "def is_valid_float(x):\n",
    "    return isinstance(x, float) and x == x  # This checks that x is not NaN since NaN != NaN in Python.\n",
    "\n",
    "cols_to_check = ['wording', 'content']\n",
    "df_test[cols_to_check] = df_test[cols_to_check].applymap(lambda x: x if is_valid_float(x) else 0.0)\n",
    "\n",
    "df_test.to_csv(\"submission.csv\", index=False)"
   ]
  }
 ],
 "kernelspec": {
  "display_name": "Python 3",
  "language": "python",
  "name": "python3"
 },
 "language_info": {
  "codemirror_mode": {
   "name": "ipython",
   "version": 3
  },
  "file_extension": ".py",
  "mimetype": "text/x-python",
  "name": "python",
  "nbconvert_exporter": "python",
  "pygments_lexer": "ipython3",
  "version": "3.6.4"
 },
 "metadata": {
  "kernelspec": {
   "display_name": "Python 3",
   "language": "python",
   "name": "python3"
  },
  "language_info": {
   "codemirror_mode": {
    "name": "ipython",
    "version": 3
   },
   "file_extension": ".py",
   "mimetype": "text/x-python",
   "name": "python",
   "nbconvert_exporter": "python",
   "pygments_lexer": "ipython3",
   "version": "3.10.12"
  },
  "papermill": {
   "default_parameters": {},
   "duration": 4652.041134,
   "end_time": "2023-09-07T14:35:10.698097",
   "environment_variables": {},
   "exception": null,
   "input_path": "__notebook__.ipynb",
   "output_path": "__notebook__.ipynb",
   "parameters": {},
   "start_time": "2023-09-07T13:17:38.656963",
   "version": "2.4.0"
  }
 },
 "nbformat": 4,
 "nbformat_minor": 5
}
