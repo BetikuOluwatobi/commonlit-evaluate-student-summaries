{
 "cells": [
  {
   "cell_type": "code",
   "execution_count": 1,
   "id": "b3f159dd",
   "metadata": {
    "_cell_guid": "b1076dfc-b9ad-4769-8c92-a6c4dae69d19",
    "_uuid": "8f2839f25d086af736a60e9eeb907d3b93b6e0e5",
    "execution": {
     "iopub.execute_input": "2023-09-05T18:57:54.253161Z",
     "iopub.status.busy": "2023-09-05T18:57:54.252609Z",
     "iopub.status.idle": "2023-09-05T18:57:54.334168Z",
     "shell.execute_reply": "2023-09-05T18:57:54.332932Z"
    },
    "papermill": {
     "duration": 0.099248,
     "end_time": "2023-09-05T18:57:54.337371",
     "exception": false,
     "start_time": "2023-09-05T18:57:54.238123",
     "status": "completed"
    },
    "tags": []
   },
   "outputs": [
    {
     "name": "stdout",
     "output_type": "stream",
     "text": [
      "/kaggle/input/nnlm/tensorflow2/en-dim50-with-normalization/1/saved_model.pb\n",
      "/kaggle/input/nnlm/tensorflow2/en-dim50-with-normalization/1/assets/tokens.txt\n",
      "/kaggle/input/nnlm/tensorflow2/en-dim50-with-normalization/1/variables/variables.index\n",
      "/kaggle/input/nnlm/tensorflow2/en-dim50-with-normalization/1/variables/variables.data-00000-of-00001\n",
      "/kaggle/input/nnlm/tensorflow2/en-dim128-with-normalization/1/saved_model.pb\n",
      "/kaggle/input/nnlm/tensorflow2/en-dim128-with-normalization/1/assets/tokens.txt\n",
      "/kaggle/input/nnlm/tensorflow2/en-dim128-with-normalization/1/variables/variables.index\n",
      "/kaggle/input/nnlm/tensorflow2/en-dim128-with-normalization/1/variables/variables.data-00000-of-00001\n",
      "/kaggle/input/commonlit-evaluate-student-summaries/sample_submission.csv\n",
      "/kaggle/input/commonlit-evaluate-student-summaries/prompts_train.csv\n",
      "/kaggle/input/commonlit-evaluate-student-summaries/summaries_test.csv\n",
      "/kaggle/input/commonlit-evaluate-student-summaries/summaries_train.csv\n",
      "/kaggle/input/commonlit-evaluate-student-summaries/prompts_test.csv\n",
      "/kaggle/input/en-core-web-md/en_core_web_md/meta.json\n",
      "/kaggle/input/en-core-web-md/en_core_web_md/__init__.py\n",
      "/kaggle/input/en-core-web-md/en_core_web_md/en_core_web_md-3.4.1/tokenizer\n",
      "/kaggle/input/en-core-web-md/en_core_web_md/en_core_web_md-3.4.1/LICENSES_SOURCES\n",
      "/kaggle/input/en-core-web-md/en_core_web_md/en_core_web_md-3.4.1/LICENSE\n",
      "/kaggle/input/en-core-web-md/en_core_web_md/en_core_web_md-3.4.1/README.md\n",
      "/kaggle/input/en-core-web-md/en_core_web_md/en_core_web_md-3.4.1/meta.json\n",
      "/kaggle/input/en-core-web-md/en_core_web_md/en_core_web_md-3.4.1/accuracy.json\n",
      "/kaggle/input/en-core-web-md/en_core_web_md/en_core_web_md-3.4.1/config.cfg\n",
      "/kaggle/input/en-core-web-md/en_core_web_md/en_core_web_md-3.4.1/attribute_ruler/patterns\n",
      "/kaggle/input/en-core-web-md/en_core_web_md/en_core_web_md-3.4.1/vocab/vectors\n",
      "/kaggle/input/en-core-web-md/en_core_web_md/en_core_web_md-3.4.1/vocab/key2row\n",
      "/kaggle/input/en-core-web-md/en_core_web_md/en_core_web_md-3.4.1/vocab/vectors.cfg\n",
      "/kaggle/input/en-core-web-md/en_core_web_md/en_core_web_md-3.4.1/vocab/strings.json\n",
      "/kaggle/input/en-core-web-md/en_core_web_md/en_core_web_md-3.4.1/vocab/lookups.bin\n",
      "/kaggle/input/en-core-web-md/en_core_web_md/en_core_web_md-3.4.1/parser/model\n",
      "/kaggle/input/en-core-web-md/en_core_web_md/en_core_web_md-3.4.1/parser/moves\n",
      "/kaggle/input/en-core-web-md/en_core_web_md/en_core_web_md-3.4.1/parser/cfg\n",
      "/kaggle/input/en-core-web-md/en_core_web_md/en_core_web_md-3.4.1/senter/model\n",
      "/kaggle/input/en-core-web-md/en_core_web_md/en_core_web_md-3.4.1/senter/cfg\n",
      "/kaggle/input/en-core-web-md/en_core_web_md/en_core_web_md-3.4.1/ner/model\n",
      "/kaggle/input/en-core-web-md/en_core_web_md/en_core_web_md-3.4.1/ner/moves\n",
      "/kaggle/input/en-core-web-md/en_core_web_md/en_core_web_md-3.4.1/ner/cfg\n",
      "/kaggle/input/en-core-web-md/en_core_web_md/en_core_web_md-3.4.1/lemmatizer/lookups/lookups.bin\n",
      "/kaggle/input/en-core-web-md/en_core_web_md/en_core_web_md-3.4.1/tagger/model\n",
      "/kaggle/input/en-core-web-md/en_core_web_md/en_core_web_md-3.4.1/tagger/cfg\n",
      "/kaggle/input/en-core-web-md/en_core_web_md/en_core_web_md-3.4.1/tok2vec/model\n",
      "/kaggle/input/en-core-web-md/en_core_web_md/en_core_web_md-3.4.1/tok2vec/cfg\n"
     ]
    }
   ],
   "source": [
    "# This Python 3 environment comes with many helpful analytics libraries installed\n",
    "# It is defined by the kaggle/python Docker image: https://github.com/kaggle/docker-python\n",
    "# For example, here's several helpful packages to load\n",
    "\n",
    "import numpy as np # linear algebra\n",
    "import pandas as pd # data processing, CSV file I/O (e.g. pd.read_csv)\n",
    "\n",
    "# Input data files are available in the read-only \"../input/\" directory\n",
    "# For example, running this (by clicking run or pressing Shift+Enter) will list all files under the input directory\n",
    "\n",
    "import os\n",
    "for dirname, _, filenames in os.walk('/kaggle/input'):\n",
    "    for filename in filenames:\n",
    "        print(os.path.join(dirname, filename))\n",
    "\n",
    "# You can write up to 20GB to the current directory (/kaggle/working/) that gets preserved as output when you create a version using \"Save & Run All\" \n",
    "# You can also write temporary files to /kaggle/temp/, but they won't be saved outside of the current session"
   ]
  },
  {
   "cell_type": "code",
   "execution_count": 2,
   "id": "d06055d3",
   "metadata": {
    "execution": {
     "iopub.execute_input": "2023-09-05T18:57:54.359946Z",
     "iopub.status.busy": "2023-09-05T18:57:54.359441Z",
     "iopub.status.idle": "2023-09-05T18:58:18.307577Z",
     "shell.execute_reply": "2023-09-05T18:58:18.305742Z"
    },
    "papermill": {
     "duration": 23.963603,
     "end_time": "2023-09-05T18:58:18.311417",
     "exception": false,
     "start_time": "2023-09-05T18:57:54.347814",
     "status": "completed"
    },
    "tags": []
   },
   "outputs": [
    {
     "name": "stderr",
     "output_type": "stream",
     "text": [
      "/opt/conda/lib/python3.10/site-packages/scipy/__init__.py:146: UserWarning: A NumPy version >=1.16.5 and <1.23.0 is required for this version of SciPy (detected version 1.23.5\n",
      "  warnings.warn(f\"A NumPy version >={np_minversion} and <{np_maxversion}\"\n",
      "/opt/conda/lib/python3.10/site-packages/tensorflow_io/python/ops/__init__.py:98: UserWarning: unable to load libtensorflow_io_plugins.so: unable to open file: libtensorflow_io_plugins.so, from paths: ['/opt/conda/lib/python3.10/site-packages/tensorflow_io/python/ops/libtensorflow_io_plugins.so']\n",
      "caused by: ['/opt/conda/lib/python3.10/site-packages/tensorflow_io/python/ops/libtensorflow_io_plugins.so: undefined symbol: _ZN3tsl6StatusC1EN10tensorflow5error4CodeESt17basic_string_viewIcSt11char_traitsIcEENS_14SourceLocationE']\n",
      "  warnings.warn(f\"unable to load libtensorflow_io_plugins.so: {e}\")\n",
      "/opt/conda/lib/python3.10/site-packages/tensorflow_io/python/ops/__init__.py:104: UserWarning: file system plugins are not loaded: unable to open file: libtensorflow_io.so, from paths: ['/opt/conda/lib/python3.10/site-packages/tensorflow_io/python/ops/libtensorflow_io.so']\n",
      "caused by: ['/opt/conda/lib/python3.10/site-packages/tensorflow_io/python/ops/libtensorflow_io.so: undefined symbol: _ZTVN10tensorflow13GcsFileSystemE']\n",
      "  warnings.warn(f\"file system plugins are not loaded: {e}\")\n"
     ]
    }
   ],
   "source": [
    "import numpy as np # linear algebra\n",
    "import pandas as pd # data processing, CSV file I/O (e.g. pd.read_csv)\n",
    "from sklearn.feature_extraction.text import CountVectorizer, TfidfTransformer\n",
    "from sklearn.ensemble import RandomForestRegressor\n",
    "from sklearn.multioutput import MultiOutputRegressor\n",
    "from sklearn.metrics import make_scorer\n",
    "from sklearn.model_selection import train_test_split, GridSearchCV\n",
    "import spacy\n",
    "\n",
    "nlp = spacy.load(\"en_core_web_lg\")"
   ]
  },
  {
   "cell_type": "code",
   "execution_count": 3,
   "id": "87028133",
   "metadata": {
    "execution": {
     "iopub.execute_input": "2023-09-05T18:58:18.340807Z",
     "iopub.status.busy": "2023-09-05T18:58:18.339645Z",
     "iopub.status.idle": "2023-09-05T18:58:18.514478Z",
     "shell.execute_reply": "2023-09-05T18:58:18.513427Z"
    },
    "papermill": {
     "duration": 0.194154,
     "end_time": "2023-09-05T18:58:18.517845",
     "exception": false,
     "start_time": "2023-09-05T18:58:18.323691",
     "status": "completed"
    },
    "tags": []
   },
   "outputs": [],
   "source": [
    "summary_df = pd.read_csv('/kaggle/input/commonlit-evaluate-student-summaries/summaries_train.csv')\n",
    "prompt_df = pd.read_csv('/kaggle/input/commonlit-evaluate-student-summaries/prompts_train.csv')\n",
    "test_summary = pd.read_csv('/kaggle/input/commonlit-evaluate-student-summaries/summaries_test.csv')\n",
    "test_prompts = pd.read_csv('/kaggle/input/commonlit-evaluate-student-summaries/prompts_test.csv')"
   ]
  },
  {
   "cell_type": "code",
   "execution_count": 4,
   "id": "b28a6ad7",
   "metadata": {
    "execution": {
     "iopub.execute_input": "2023-09-05T18:58:18.542508Z",
     "iopub.status.busy": "2023-09-05T18:58:18.542004Z",
     "iopub.status.idle": "2023-09-05T18:58:24.269372Z",
     "shell.execute_reply": "2023-09-05T18:58:24.268106Z"
    },
    "papermill": {
     "duration": 5.742994,
     "end_time": "2023-09-05T18:58:24.272315",
     "exception": false,
     "start_time": "2023-09-05T18:58:18.529321",
     "status": "completed"
    },
    "tags": []
   },
   "outputs": [],
   "source": [
    "from string import punctuation as punc\n",
    "from collections import defaultdict\n",
    "import spacy\n",
    "from string import punctuation as punc\n",
    "from tqdm import tqdm\n",
    "from gensim.models import Word2Vec\n",
    "from sklearn.metrics.pairwise import cosine_similarity, euclidean_distances\n",
    "import spacy\n",
    "from textblob import TextBlob\n",
    "import math\n",
    "from collections import Counter\n",
    "from nltk.util import ngrams\n",
    "import tensorflow_hub as hub\n",
    "import tensorflow as tf\n",
    "\n",
    "\n",
    "embed = hub.load(\"/kaggle/input/nnlm/tensorflow2/en-dim50-with-normalization/1\")\n",
    "\n",
    "def extract_lemmas(text):\n",
    "    doc = nlp(text)\n",
    "    lemmas = []\n",
    "\n",
    "    for token in doc:\n",
    "        if not token.is_stop:\n",
    "            lemmas.append(token.lemma_.lower())\n",
    "    return ' '.join(lemmas)\n",
    "\n",
    "\n",
    "def count_punc(text):\n",
    "    return len([p for p in text if p in punc])\n",
    "\n",
    "# Overlap Score\n",
    "\n",
    "def tree_depth_from_token(token):\n",
    "    \"\"\"Calculate the depth of a subtree rooted at a token.\"\"\"\n",
    "    if not list(token.children):\n",
    "        return 1\n",
    "    else:\n",
    "        return 1 + max(tree_depth_from_token(child) for child in token.children)\n",
    "\n",
    "def average_dependency_tree_depth(doc):\n",
    "    \"\"\"Compute the average depth of the dependency tree.\"\"\"\n",
    "    root_tokens = [tok for tok in doc if tok.dep_ == 'ROOT']\n",
    "    if not root_tokens:\n",
    "        return 0\n",
    "    depths = [tree_depth_from_token(token) for token in root_tokens]\n",
    "    return sum(depths) / len(depths)\n",
    "\n",
    "def process_text(doc):\n",
    "    stops = 0\n",
    "    num_nouns = 0\n",
    "    num_verbs = 0\n",
    "    num_adverbs = 0\n",
    "    \n",
    "    for token in doc:\n",
    "        if token.is_stop:\n",
    "            stops += 1\n",
    "        else:\n",
    "            if token.pos_ == \"VERB\":\n",
    "                num_verbs += 1\n",
    "            elif token.pos_ == \"NOUN\":\n",
    "                num_nouns += 1\n",
    "            elif token.pos_ == \"ADV\":\n",
    "                num_adverbs += 1\n",
    "                \n",
    "    return stops, num_nouns, num_verbs, num_adverbs\n",
    "\n",
    "def extract_features(row):\n",
    "    doc = nlp(row['text'])\n",
    "    context = nlp(row['prompt_text'])\n",
    "    capital_error = sum(1 for sent in doc.sents if not sent.text[0].isupper())\n",
    "    \n",
    "    # 1. Length of the summary\n",
    "    length = len(row['text'].split())\n",
    "    \n",
    "    # 2. Number of unique words\n",
    "    unique_words = len(set([token.lemma_.lower() for token in doc]))\n",
    "    \n",
    "    #3. counter\n",
    "    tokens = [token.lemma_.lower() for token in doc]\n",
    "    total_tokens = len(tokens)\n",
    "    word_counts = Counter(tokens)\n",
    "    once = sum(1 for word, count in word_counts.items() if count == 1)\n",
    "    twice = sum(1 for word, count in word_counts.items() if count == 2)\n",
    "    \n",
    "    # 4. Named entities\n",
    "    num_entities = len(doc.ents)\n",
    "    context_num_entities = len(context.ents)\n",
    "    \n",
    "    # 5. Average word length\n",
    "    avg_word_len = round(sum([len(token.text) for token in doc])/length, ndigits=4)\n",
    "    context_avg_word_len = round(sum([len(token.text) for token in context])/length, ndigits=4)\n",
    "    \n",
    "    # 6. Summary Polarity\n",
    "    sentiment_polarity = TextBlob(row['text']).sentiment.polarity\n",
    "    error = sum(1 for token in doc if token.text.lower() not in english)\n",
    "    \n",
    "    # 7. Stopwords verbs and nouns\n",
    "    stops,num_nouns, num_verbs, num_adverbs = process_text(doc)\n",
    "    context_stops,context_nouns, context_verbs, context_adverbs = process_text(context)\n",
    "    \n",
    "    # 8. Numerical entities\n",
    "    num_numerical_entities = len([ent for ent in doc.ents if ent.label_ == \"CARDINAL\"])\n",
    "    \n",
    "    # 9. Sentece count\n",
    "    sentence = len([sent for sent in doc.sents])\n",
    "    context_sentence = len([sent for sent in context.sents])\n",
    "    avg_sentence = float(sentence / total_tokens)\n",
    "    avg_unique_sentence = float(sentence / unique_words)\n",
    "    context_unique_words = len(set([token for token in context]))\n",
    "    avg_context_sentence = float(context_sentence / context_unique_words)\n",
    "    \n",
    "    # 10 Tree Depth\n",
    "    average_tree_depth = average_dependency_tree_depth(doc)\n",
    "    prob_word = [count/total_tokens for word, count in word_counts.items()]\n",
    "    results = {\n",
    "        \"nsubj\": 0,\n",
    "        \"amod\": 0,\n",
    "        \"advmod\": 0,\n",
    "        \"xcomp\": 0,\n",
    "        \"acomp\": 0,\n",
    "        \"past\": 0,\n",
    "        \"present\": 0\n",
    "    }\n",
    "    \n",
    "    for token in doc:\n",
    "        if \"VERB\" in token.pos_:\n",
    "            if \"VBD\" in token.tag_ or \"VBN\" in token.tag_:\n",
    "                results[\"past\"] += 1\n",
    "            elif \"VBG\" in token.tag_ or \"VBP\" in token.tag_ or \"VBZ\" in token.tag_:\n",
    "                results[\"present\"] += 1\n",
    "        # Check if the token's dependency is one of the desired dependencies\n",
    "        if token.dep_ in results:\n",
    "            results[token.dep_] += 1\n",
    "\n",
    "    # similarity\n",
    "    pearson = np.corrcoef(context.vector.ravel(), doc.vector.ravel())[0, 1]\n",
    "    \n",
    "    # Bigram Similarity\n",
    "    answer_bigrams = set(list(ngrams(row['text'].lower().split(), 2)))\n",
    "    context_bigrams = set(list(ngrams(row['prompt_text'].lower().split(), 2)))\n",
    "    intersection_bigram = len(answer_bigrams.intersection(context_bigrams))\n",
    "    union_bigram = len(answer_bigrams.union(context_bigrams))\n",
    "    precision_bigram = intersection_bigram / (len(answer_bigrams) + 1e-9)\n",
    "    recall_bigram = intersection_bigram / (len(context_bigrams)+ 1e-9)\n",
    "    jaccard_bigram = intersection_bigram/(union_bigram + 1e-9)\n",
    "    f1_bigram = 2 * ((precision_bigram * jaccard_bigram)/(precision_bigram + jaccard_bigram + 1e-8))\n",
    "    \n",
    "    # Organizing features in a dictionary\n",
    "    features = {\n",
    "        'length': length,\n",
    "        'num_chars': len(row['text']),\n",
    "        \"capital_error\": capital_error,\n",
    "        \"intersection_bigram\": intersection_bigram,\n",
    "        \"union_bigram\": union_bigram,\n",
    "        \"jaccard_bigram\": jaccard_bigram,\n",
    "        \"precision_bigram\": precision_bigram,\n",
    "        \"f1_bigram\": f1_bigram,\n",
    "        'sentence': sentence,\n",
    "        \"context_sentence\": context_sentence,\n",
    "        \"avg_sentence\": avg_sentence,\n",
    "        'avg_unique_sentence':avg_unique_sentence,\n",
    "        \"error\": error,\n",
    "        'unique_words': unique_words,\n",
    "        'num_entities': num_entities,\n",
    "        \"context_num_entities\": context_num_entities,\n",
    "        'avg_word_len': avg_word_len,\n",
    "        \"context_avg_word_len\": context_avg_word_len,\n",
    "        \"stops\": stops,\n",
    "        \"num_nouns\": num_nouns,\n",
    "        \"num_verbs\": num_verbs,\n",
    "        \"num_adverbs\": num_adverbs,\n",
    "        \"context_nouns\": context_nouns,\n",
    "        \"num_numerical_entities\": num_numerical_entities,\n",
    "        \"sentiment_polarity\": sentiment_polarity,\n",
    "        \"nsubj\": results['nsubj'],\n",
    "        \"amod\": results['amod'],\n",
    "        \"advmod\": results['advmod'],\n",
    "        \"xcomp\": results['xcomp'],\n",
    "        \"acomp\": results['acomp'],\n",
    "        \"past\": results[\"past\"],\n",
    "        \"present\": results[\"present\"],\n",
    "        \"average_dependency_tree_depth\": average_tree_depth,\n",
    "        \"TTR\": unique_words / (total_tokens + 1e-8),\n",
    "        \"RTTR\": unique_words / (math.sqrt(total_tokens) + 1e-8),\n",
    "        \"CTTR\": unique_words / (math.sqrt(total_tokens / 2) + 1e-8),\n",
    "        # MATTR would require a window-based approach and is thus more involved\n",
    "        \"Herdan's C\": math.log(unique_words) / (math.log(total_tokens) + 1e-8),\n",
    "        \"Dugast's U\": math.log(total_tokens)**2 / ((math.log(total_tokens) - math.log(unique_words)) + 1e-8),\n",
    "        \"Honoré's H\": 100 * math.log(total_tokens) / (1 - once/(unique_words + 1e-8)),\n",
    "        \"Entropy\": -sum(p * math.log(p) for p in prob_word),\n",
    "        \"Sichel’s S\": twice,\n",
    "        \"Simpson’s D\": sum((count/total_tokens)**2 for count in word_counts.values()),\n",
    "        \"pearson\": pearson\n",
    "    }\n",
    "    \n",
    "    return features\n",
    "\n",
    "def get_embeddings(text):\n",
    "    sents = [sent.text for sent in nlp(text).sents]\n",
    "    sents = tf.constant(sents, dtype=tf.string)\n",
    "    embeddings = embed(sents)\n",
    "\n",
    "    return np.sum(embeddings, axis=0)"
   ]
  },
  {
   "cell_type": "code",
   "execution_count": 5,
   "id": "5771aaee",
   "metadata": {
    "execution": {
     "iopub.execute_input": "2023-09-05T18:58:24.295599Z",
     "iopub.status.busy": "2023-09-05T18:58:24.294738Z",
     "iopub.status.idle": "2023-09-05T18:58:24.312070Z",
     "shell.execute_reply": "2023-09-05T18:58:24.311052Z"
    },
    "papermill": {
     "duration": 0.031983,
     "end_time": "2023-09-05T18:58:24.314737",
     "exception": false,
     "start_time": "2023-09-05T18:58:24.282754",
     "status": "completed"
    },
    "tags": []
   },
   "outputs": [],
   "source": [
    "from sklearn.feature_extraction.text import CountVectorizer, TfidfTransformer\n",
    "from sklearn.preprocessing import StandardScaler, MinMaxScaler\n",
    "from sklearn.decomposition import TruncatedSVD,PCA\n",
    "from sklearn.metrics.pairwise import cosine_similarity, euclidean_distances\n",
    "\n",
    "def preprocess_data(summary_df, prompt_df):\n",
    "    train_df = summary_df.merge(right=prompt_df, how='inner', on='prompt_id')\n",
    "\n",
    "    print('processing text embeddings......')\n",
    "    train_df = train_df.assign(\n",
    "      full_text='Title:\\n' + train_df['prompt_title'] +\n",
    "                '\\nQuestion:\\n' + train_df['prompt_question'] +\n",
    "                '\\nText:\\n' + train_df['prompt_text']\n",
    "      )\n",
    "    \n",
    "    # processing lemmas\n",
    "    print('extracting features.....')\n",
    "    data = pd.DataFrame(train_df.apply(extract_features, axis=1).tolist())\n",
    "    \n",
    "    print('processing features.....')\n",
    "    # Process other columns\n",
    "    train_df['summary_punctuation'] = train_df['text'].apply(count_punc)\n",
    "    train_df['lemmas'] = train_df['text'].apply(extract_lemmas)\n",
    "    train_df['full_text'] = train_df['full_text'].apply(extract_lemmas)\n",
    "\n",
    "    cols = ['summary_punctuation',\n",
    "            'content', 'wording']\n",
    "\n",
    "    print('Extracting embeddings')\n",
    "    embeddings = np.asarray(train_df['lemmas'].apply(get_embeddings).tolist(), dtype=np.float32)\n",
    "    \n",
    "    print('applying vectorizer.....')\n",
    "    # Vectorization\n",
    "    global vectorizer, pca\n",
    "    vectorizer = CountVectorizer(ngram_range=(1,1))\n",
    "    transformer = TfidfTransformer()\n",
    "    transformed_df = transformer.fit_transform(vectorizer.fit_transform(train_df['full_text']))\n",
    "    summary_transformed = transformer.fit_transform(vectorizer.transform(train_df['lemmas']))\n",
    "\n",
    "    print('scaling features.....')\n",
    "    # Scaling\n",
    "    scaler = MinMaxScaler(feature_range=(0, 10))\n",
    "    X_summary_scaled = scaler.fit_transform(transformed_df.toarray())\n",
    "    summary_scaled = scaler.transform(summary_transformed.toarray())\n",
    "\n",
    "    print('decomposing features.......')\n",
    "    # PCA Decomposition\n",
    "    components = round(transformed_df.shape[1] * (40/100))\n",
    "    pca = TruncatedSVD(n_components=components,algorithm='arpack', random_state=42)\n",
    "    pca_bag = pca.fit_transform(X_summary_scaled)\n",
    "    summary_bag = pca.transform(summary_scaled)\n",
    "    \n",
    "    stacked_bag = np.hstack((pca_bag,summary_bag,embeddings,data.values,train_df[cols].values))\n",
    "\n",
    "    print('collecting outputs.........')\n",
    "    student_ids = train_df['student_id'].values\n",
    "\n",
    "    return stacked_bag, student_ids"
   ]
  },
  {
   "cell_type": "code",
   "execution_count": 6,
   "id": "35aa7aae",
   "metadata": {
    "execution": {
     "iopub.execute_input": "2023-09-05T18:58:24.338764Z",
     "iopub.status.busy": "2023-09-05T18:58:24.337632Z",
     "iopub.status.idle": "2023-09-05T18:58:24.500505Z",
     "shell.execute_reply": "2023-09-05T18:58:24.498778Z"
    },
    "papermill": {
     "duration": 0.177936,
     "end_time": "2023-09-05T18:58:24.503599",
     "exception": false,
     "start_time": "2023-09-05T18:58:24.325663",
     "status": "completed"
    },
    "tags": []
   },
   "outputs": [],
   "source": [
    "from nltk.corpus import words\n",
    "english = set(words.words())"
   ]
  },
  {
   "cell_type": "code",
   "execution_count": 7,
   "id": "772fdf29",
   "metadata": {
    "execution": {
     "iopub.execute_input": "2023-09-05T18:58:24.526571Z",
     "iopub.status.busy": "2023-09-05T18:58:24.526006Z",
     "iopub.status.idle": "2023-09-05T19:41:19.015527Z",
     "shell.execute_reply": "2023-09-05T19:41:19.014148Z"
    },
    "papermill": {
     "duration": 2574.504336,
     "end_time": "2023-09-05T19:41:19.018537",
     "exception": false,
     "start_time": "2023-09-05T18:58:24.514201",
     "status": "completed"
    },
    "tags": []
   },
   "outputs": [
    {
     "name": "stdout",
     "output_type": "stream",
     "text": [
      "processing text embeddings......\n",
      "extracting features.....\n",
      "processing features.....\n",
      "Extracting embeddings\n",
      "applying vectorizer.....\n",
      "scaling features.....\n",
      "decomposing features.......\n",
      "collecting outputs.........\n",
      "Preprocessed function executed in: 2574.48 seconds\n"
     ]
    }
   ],
   "source": [
    "from sklearn.preprocessing import StandardScaler\n",
    "from sklearn.decomposition import PCA\n",
    "import time\n",
    "\n",
    "start_time = time.time()\n",
    "\n",
    "stacked_bag, student_ids = preprocess_data(summary_df,prompt_df)\n",
    "\n",
    "end_time = time.time()\n",
    "elapsed_time = end_time - start_time\n",
    "\n",
    "print(f\"Preprocessed function executed in: {elapsed_time:.2f} seconds\")"
   ]
  },
  {
   "cell_type": "code",
   "execution_count": 8,
   "id": "b09e7e3d",
   "metadata": {
    "execution": {
     "iopub.execute_input": "2023-09-05T19:41:19.044020Z",
     "iopub.status.busy": "2023-09-05T19:41:19.042797Z",
     "iopub.status.idle": "2023-09-05T19:41:19.064090Z",
     "shell.execute_reply": "2023-09-05T19:41:19.062666Z"
    },
    "papermill": {
     "duration": 0.037483,
     "end_time": "2023-09-05T19:41:19.067183",
     "exception": false,
     "start_time": "2023-09-05T19:41:19.029700",
     "status": "completed"
    },
    "tags": []
   },
   "outputs": [],
   "source": [
    "X_train,X_test,y_train,y_test = train_test_split(stacked_bag[:,:-2] ,stacked_bag[:,-2:],test_size=0.1,shuffle=True,random_state=11)"
   ]
  },
  {
   "cell_type": "code",
   "execution_count": 9,
   "id": "f9c0de4e",
   "metadata": {
    "execution": {
     "iopub.execute_input": "2023-09-05T19:41:19.092012Z",
     "iopub.status.busy": "2023-09-05T19:41:19.090608Z",
     "iopub.status.idle": "2023-09-05T19:41:19.096653Z",
     "shell.execute_reply": "2023-09-05T19:41:19.095422Z"
    },
    "papermill": {
     "duration": 0.020491,
     "end_time": "2023-09-05T19:41:19.098919",
     "exception": false,
     "start_time": "2023-09-05T19:41:19.078428",
     "status": "completed"
    },
    "tags": []
   },
   "outputs": [
    {
     "name": "stdout",
     "output_type": "stream",
     "text": [
      "done\n"
     ]
    }
   ],
   "source": [
    "print('done')"
   ]
  },
  {
   "cell_type": "code",
   "execution_count": 10,
   "id": "0390505c",
   "metadata": {
    "execution": {
     "iopub.execute_input": "2023-09-05T19:41:19.123892Z",
     "iopub.status.busy": "2023-09-05T19:41:19.122783Z",
     "iopub.status.idle": "2023-09-05T19:41:19.129246Z",
     "shell.execute_reply": "2023-09-05T19:41:19.128201Z"
    },
    "papermill": {
     "duration": 0.021407,
     "end_time": "2023-09-05T19:41:19.131687",
     "exception": false,
     "start_time": "2023-09-05T19:41:19.110280",
     "status": "completed"
    },
    "tags": []
   },
   "outputs": [],
   "source": [
    "def mcrmse(y_true, y_pred):\n",
    "    return np.mean(np.sqrt(np.mean((y_true - y_pred)**2, axis=0)))\n",
    "\n",
    "mcrmse_scorer = make_scorer(mcrmse, greater_is_better=False)"
   ]
  },
  {
   "cell_type": "code",
   "execution_count": 11,
   "id": "e21f44fa",
   "metadata": {
    "execution": {
     "iopub.execute_input": "2023-09-05T19:41:19.156281Z",
     "iopub.status.busy": "2023-09-05T19:41:19.155830Z",
     "iopub.status.idle": "2023-09-05T19:41:19.164109Z",
     "shell.execute_reply": "2023-09-05T19:41:19.162930Z"
    },
    "papermill": {
     "duration": 0.02322,
     "end_time": "2023-09-05T19:41:19.166557",
     "exception": false,
     "start_time": "2023-09-05T19:41:19.143337",
     "status": "completed"
    },
    "tags": []
   },
   "outputs": [
    {
     "data": {
      "text/plain": [
       "(6448, 666)"
      ]
     },
     "execution_count": 11,
     "metadata": {},
     "output_type": "execute_result"
    }
   ],
   "source": [
    "X_train.shape"
   ]
  },
  {
   "cell_type": "code",
   "execution_count": 12,
   "id": "78ebe061",
   "metadata": {
    "execution": {
     "iopub.execute_input": "2023-09-05T19:41:19.191602Z",
     "iopub.status.busy": "2023-09-05T19:41:19.191184Z",
     "iopub.status.idle": "2023-09-05T20:05:00.205910Z",
     "shell.execute_reply": "2023-09-05T20:05:00.204090Z"
    },
    "papermill": {
     "duration": 1421.040704,
     "end_time": "2023-09-05T20:05:00.218704",
     "exception": false,
     "start_time": "2023-09-05T19:41:19.178000",
     "status": "completed"
    },
    "tags": []
   },
   "outputs": [
    {
     "name": "stderr",
     "output_type": "stream",
     "text": [
      "training model: 0it [00:00, ?it/s]/opt/conda/lib/python3.10/site-packages/scipy/__init__.py:146: UserWarning: A NumPy version >=1.16.5 and <1.23.0 is required for this version of SciPy (detected version 1.23.5\n",
      "  warnings.warn(f\"A NumPy version >={np_minversion} and <{np_maxversion}\"\n",
      "/opt/conda/lib/python3.10/site-packages/scipy/__init__.py:146: UserWarning: A NumPy version >=1.16.5 and <1.23.0 is required for this version of SciPy (detected version 1.23.5\n",
      "  warnings.warn(f\"A NumPy version >={np_minversion} and <{np_maxversion}\"\n",
      "/opt/conda/lib/python3.10/site-packages/scipy/__init__.py:146: UserWarning: A NumPy version >=1.16.5 and <1.23.0 is required for this version of SciPy (detected version 1.23.5\n",
      "  warnings.warn(f\"A NumPy version >={np_minversion} and <{np_maxversion}\"\n",
      "/opt/conda/lib/python3.10/site-packages/scipy/__init__.py:146: UserWarning: A NumPy version >=1.16.5 and <1.23.0 is required for this version of SciPy (detected version 1.23.5\n",
      "  warnings.warn(f\"A NumPy version >={np_minversion} and <{np_maxversion}\"\n",
      "training model: 20it [23:39, 70.99s/it]"
     ]
    },
    {
     "name": "stdout",
     "output_type": "stream",
     "text": [
      "Preprocessed function executed in: 1419.87 seconds\n",
      "Mean Score: 0.48\n"
     ]
    },
    {
     "name": "stderr",
     "output_type": "stream",
     "text": [
      "\n"
     ]
    }
   ],
   "source": [
    "from sklearn.model_selection import KFold\n",
    "import lightgbm as lgb\n",
    "start_time = time.time()\n",
    "\n",
    "best_params = {\n",
    "    'learning_rate': 0.01,\n",
    "    'n_estimators': 600,\n",
    "    'max_depth': 11,\n",
    "    'subsample': 0.6,\n",
    "    'colsample_bytree': 0.6,\n",
    "#     'objective': 'reg:squarederror'\n",
    "}\n",
    "\n",
    "model_lgb = MultiOutputRegressor(lgb.LGBMRegressor(**best_params, random_state=64),n_jobs=-1)\n",
    "score = []\n",
    "kfold = KFold(n_splits=20, shuffle=True, random_state=64)\n",
    "for train_idx, test_idx in tqdm(kfold.split(X_train, y_train), desc='training model'):\n",
    "    X, y = X_train[train_idx], y_train[train_idx]\n",
    "    test,test_y = X_train[test_idx], y_train[test_idx]\n",
    "    model_lgb.fit(X, y)\n",
    "    score.append(mcrmse(test_y,model_lgb.predict(test)))\n",
    "    \n",
    "end_time = time.time()\n",
    "elapsed_time = end_time - start_time \n",
    "print(f\"Preprocessed function executed in: {elapsed_time:.2f} seconds\")\n",
    "print(f'Mean Score: {np.mean(score):.2f}')"
   ]
  },
  {
   "cell_type": "code",
   "execution_count": 13,
   "id": "f6142050",
   "metadata": {
    "execution": {
     "iopub.execute_input": "2023-09-05T20:05:00.248711Z",
     "iopub.status.busy": "2023-09-05T20:05:00.248179Z",
     "iopub.status.idle": "2023-09-05T20:05:00.257837Z",
     "shell.execute_reply": "2023-09-05T20:05:00.256937Z"
    },
    "papermill": {
     "duration": 0.027863,
     "end_time": "2023-09-05T20:05:00.260101",
     "exception": false,
     "start_time": "2023-09-05T20:05:00.232238",
     "status": "completed"
    },
    "tags": []
   },
   "outputs": [
    {
     "data": {
      "text/plain": [
       "[0.4768224020527849,\n",
       " 0.4912520055647341,\n",
       " 0.473768523576181,\n",
       " 0.4511192436373439,\n",
       " 0.4812949485533988,\n",
       " 0.44935108165734144,\n",
       " 0.4711113237331024,\n",
       " 0.4572078948334921,\n",
       " 0.48583033063982917,\n",
       " 0.47840799340235396,\n",
       " 0.5095173131862175,\n",
       " 0.4767570087265909,\n",
       " 0.5194328949709978,\n",
       " 0.5198900402306638,\n",
       " 0.4921314795039703,\n",
       " 0.4704512156330307,\n",
       " 0.474513285431522,\n",
       " 0.4583501720805049,\n",
       " 0.48551275085309553,\n",
       " 0.487059913877701]"
      ]
     },
     "execution_count": 13,
     "metadata": {},
     "output_type": "execute_result"
    }
   ],
   "source": [
    "score"
   ]
  },
  {
   "cell_type": "code",
   "execution_count": 14,
   "id": "d437c3a0",
   "metadata": {
    "execution": {
     "iopub.execute_input": "2023-09-05T20:05:00.290575Z",
     "iopub.status.busy": "2023-09-05T20:05:00.289271Z",
     "iopub.status.idle": "2023-09-05T20:05:00.659375Z",
     "shell.execute_reply": "2023-09-05T20:05:00.658393Z"
    },
    "papermill": {
     "duration": 0.388452,
     "end_time": "2023-09-05T20:05:00.662301",
     "exception": false,
     "start_time": "2023-09-05T20:05:00.273849",
     "status": "completed"
    },
    "tags": []
   },
   "outputs": [],
   "source": [
    "y_preds = model_lgb.predict(X_test)"
   ]
  },
  {
   "cell_type": "code",
   "execution_count": 15,
   "id": "cdb9f45b",
   "metadata": {
    "execution": {
     "iopub.execute_input": "2023-09-05T20:05:00.693788Z",
     "iopub.status.busy": "2023-09-05T20:05:00.693358Z",
     "iopub.status.idle": "2023-09-05T20:05:00.700903Z",
     "shell.execute_reply": "2023-09-05T20:05:00.699871Z"
    },
    "papermill": {
     "duration": 0.026026,
     "end_time": "2023-09-05T20:05:00.703156",
     "exception": false,
     "start_time": "2023-09-05T20:05:00.677130",
     "status": "completed"
    },
    "tags": []
   },
   "outputs": [
    {
     "data": {
      "text/plain": [
       "0.47095702642341264"
      ]
     },
     "execution_count": 15,
     "metadata": {},
     "output_type": "execute_result"
    }
   ],
   "source": [
    "mcrmse(y_test,y_preds)"
   ]
  },
  {
   "cell_type": "markdown",
   "id": "de6fc614",
   "metadata": {
    "papermill": {
     "duration": 0.015336,
     "end_time": "2023-09-05T20:05:00.733182",
     "exception": false,
     "start_time": "2023-09-05T20:05:00.717846",
     "status": "completed"
    },
    "tags": []
   },
   "source": [
    "### Best Model Score: 0.47106725403298705"
   ]
  },
  {
   "cell_type": "markdown",
   "id": "c154171c",
   "metadata": {
    "papermill": {
     "duration": 0.01366,
     "end_time": "2023-09-05T20:05:00.761026",
     "exception": false,
     "start_time": "2023-09-05T20:05:00.747366",
     "status": "completed"
    },
    "tags": []
   },
   "source": [
    "### Preprocessing for text data"
   ]
  },
  {
   "cell_type": "code",
   "execution_count": 16,
   "id": "e0a481fb",
   "metadata": {
    "execution": {
     "iopub.execute_input": "2023-09-05T20:05:00.790538Z",
     "iopub.status.busy": "2023-09-05T20:05:00.790140Z",
     "iopub.status.idle": "2023-09-05T20:05:00.806609Z",
     "shell.execute_reply": "2023-09-05T20:05:00.805261Z"
    },
    "papermill": {
     "duration": 0.034928,
     "end_time": "2023-09-05T20:05:00.809678",
     "exception": false,
     "start_time": "2023-09-05T20:05:00.774750",
     "status": "completed"
    },
    "tags": []
   },
   "outputs": [],
   "source": [
    "def preprocess_data(summary_df, prompt_df):\n",
    "    train_df = summary_df.merge(right=prompt_df, how='inner', on='prompt_id')\n",
    "\n",
    "    print('processing text embeddings......')\n",
    "    train_df = train_df.assign(\n",
    "      full_text='Title:\\n' + train_df['prompt_title'] +\n",
    "                '\\nQuestion:\\n' + train_df['prompt_question'] +\n",
    "                '\\nText:\\n' + train_df['prompt_text']\n",
    "      )\n",
    "    \n",
    "    # processing lemmas\n",
    "    print('extracting features.....')\n",
    "    data = pd.DataFrame(train_df.apply(extract_features, axis=1).tolist())\n",
    "    \n",
    "    print('processing features.....')\n",
    "    # Process other columns\n",
    "    train_df['summary_punctuation'] = train_df['text'].apply(count_punc)\n",
    "    train_df['lemmas'] = train_df['text'].apply(extract_lemmas)\n",
    "    train_df['full_text'] = train_df['full_text'].apply(extract_lemmas)\n",
    "\n",
    "    cols = ['summary_punctuation']\n",
    "\n",
    "    print('extracting embeddings....')\n",
    "    embeddings = np.asarray(train_df['lemmas'].apply(get_embeddings).tolist(), dtype=np.float32)\n",
    "    \n",
    "    print('applying vectorizer.....')\n",
    "    # Vectorization\n",
    "    transformer = TfidfTransformer()\n",
    "    transformed_df = transformer.fit_transform(vectorizer.transform(train_df['full_text']))\n",
    "    summary_transformed = transformer.fit_transform(vectorizer.transform(train_df['lemmas']))\n",
    "\n",
    "    print('scaling features.....')\n",
    "    # Scaling\n",
    "    scaler = MinMaxScaler(feature_range=(0, 10))\n",
    "    X_summary_scaled = scaler.fit_transform(transformed_df.toarray())\n",
    "    summary_scaled = scaler.fit_transform(summary_transformed.toarray())\n",
    "\n",
    "    print('decomposing features.......')\n",
    "    # PCA Decomposition\n",
    "    pca_bag = pca.transform(X_summary_scaled)\n",
    "    summary_bag = pca.transform(summary_scaled)\n",
    "    \n",
    "    stacked_bag = np.hstack((pca_bag,summary_bag,embeddings,data.values,train_df[cols].values))\n",
    "\n",
    "    print('collecting outputs.........')\n",
    "    student_ids = train_df['student_id'].values\n",
    "\n",
    "    return stacked_bag, student_ids"
   ]
  },
  {
   "cell_type": "code",
   "execution_count": 17,
   "id": "1675f6d7",
   "metadata": {
    "execution": {
     "iopub.execute_input": "2023-09-05T20:05:00.839186Z",
     "iopub.status.busy": "2023-09-05T20:05:00.838752Z",
     "iopub.status.idle": "2023-09-05T20:05:01.068881Z",
     "shell.execute_reply": "2023-09-05T20:05:01.067513Z"
    },
    "papermill": {
     "duration": 0.248426,
     "end_time": "2023-09-05T20:05:01.072065",
     "exception": false,
     "start_time": "2023-09-05T20:05:00.823639",
     "status": "completed"
    },
    "tags": []
   },
   "outputs": [
    {
     "name": "stdout",
     "output_type": "stream",
     "text": [
      "processing text embeddings......\n",
      "extracting features.....\n",
      "processing features.....\n",
      "extracting embeddings....\n",
      "applying vectorizer.....\n",
      "scaling features.....\n",
      "decomposing features.......\n",
      "collecting outputs.........\n"
     ]
    }
   ],
   "source": [
    "test_df,ids = preprocess_data(test_summary, test_prompts)"
   ]
  },
  {
   "cell_type": "code",
   "execution_count": 18,
   "id": "57bda5f7",
   "metadata": {
    "execution": {
     "iopub.execute_input": "2023-09-05T20:05:01.103176Z",
     "iopub.status.busy": "2023-09-05T20:05:01.101999Z",
     "iopub.status.idle": "2023-09-05T20:05:01.303884Z",
     "shell.execute_reply": "2023-09-05T20:05:01.302877Z"
    },
    "papermill": {
     "duration": 0.220161,
     "end_time": "2023-09-05T20:05:01.306590",
     "exception": false,
     "start_time": "2023-09-05T20:05:01.086429",
     "status": "completed"
    },
    "tags": []
   },
   "outputs": [],
   "source": [
    "y_preds = model_lgb.predict(test_df)"
   ]
  },
  {
   "cell_type": "code",
   "execution_count": 19,
   "id": "e6d51262",
   "metadata": {
    "execution": {
     "iopub.execute_input": "2023-09-05T20:05:01.337803Z",
     "iopub.status.busy": "2023-09-05T20:05:01.337370Z",
     "iopub.status.idle": "2023-09-05T20:05:01.345636Z",
     "shell.execute_reply": "2023-09-05T20:05:01.344735Z"
    },
    "papermill": {
     "duration": 0.026902,
     "end_time": "2023-09-05T20:05:01.348233",
     "exception": false,
     "start_time": "2023-09-05T20:05:01.321331",
     "status": "completed"
    },
    "tags": []
   },
   "outputs": [],
   "source": [
    "df_test = pd.DataFrame(y_preds,columns=['content','wording'],index=ids).reset_index()\n",
    "df_test = df_test.rename({'index':'student_id'},axis=1)"
   ]
  },
  {
   "cell_type": "code",
   "execution_count": 20,
   "id": "b0cf473d",
   "metadata": {
    "execution": {
     "iopub.execute_input": "2023-09-05T20:05:01.379887Z",
     "iopub.status.busy": "2023-09-05T20:05:01.378794Z",
     "iopub.status.idle": "2023-09-05T20:05:01.394604Z",
     "shell.execute_reply": "2023-09-05T20:05:01.393442Z"
    },
    "papermill": {
     "duration": 0.03419,
     "end_time": "2023-09-05T20:05:01.397271",
     "exception": false,
     "start_time": "2023-09-05T20:05:01.363081",
     "status": "completed"
    },
    "tags": []
   },
   "outputs": [],
   "source": [
    "def is_valid_float(x):\n",
    "    return isinstance(x, float) and x == x  # This checks that x is not NaN since NaN != NaN in Python.\n",
    "\n",
    "cols_to_check = ['wording', 'content']\n",
    "df_test[cols_to_check] = df_test[cols_to_check].applymap(lambda x: x if is_valid_float(x) else 0.0)\n",
    "\n",
    "df_test.to_csv(\"submission.csv\", index=False)"
   ]
  }
 ],
 "kernelspec": {
  "display_name": "Python 3",
  "language": "python",
  "name": "python3"
 },
 "language_info": {
  "codemirror_mode": {
   "name": "ipython",
   "version": 3
  },
  "file_extension": ".py",
  "mimetype": "text/x-python",
  "name": "python",
  "nbconvert_exporter": "python",
  "pygments_lexer": "ipython3",
  "version": "3.6.4"
 },
 "metadata": {
  "kernelspec": {
   "display_name": "Python 3",
   "language": "python",
   "name": "python3"
  },
  "language_info": {
   "codemirror_mode": {
    "name": "ipython",
    "version": 3
   },
   "file_extension": ".py",
   "mimetype": "text/x-python",
   "name": "python",
   "nbconvert_exporter": "python",
   "pygments_lexer": "ipython3",
   "version": "3.10.12"
  },
  "papermill": {
   "default_parameters": {},
   "duration": 4043.247329,
   "end_time": "2023-09-05T20:05:04.250093",
   "environment_variables": {},
   "exception": null,
   "input_path": "__notebook__.ipynb",
   "output_path": "__notebook__.ipynb",
   "parameters": {},
   "start_time": "2023-09-05T18:57:41.002764",
   "version": "2.4.0"
  }
 },
 "nbformat": 4,
 "nbformat_minor": 5
}
