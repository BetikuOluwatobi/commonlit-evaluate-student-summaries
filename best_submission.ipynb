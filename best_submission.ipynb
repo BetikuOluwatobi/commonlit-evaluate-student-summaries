{
 "cells": [
  {
   "cell_type": "code",
   "execution_count": 1,
   "id": "c2e98ebe",
   "metadata": {
    "_cell_guid": "b1076dfc-b9ad-4769-8c92-a6c4dae69d19",
    "_uuid": "8f2839f25d086af736a60e9eeb907d3b93b6e0e5",
    "execution": {
     "iopub.execute_input": "2023-08-25T21:31:35.930361Z",
     "iopub.status.busy": "2023-08-25T21:31:35.929850Z",
     "iopub.status.idle": "2023-08-25T21:31:36.005554Z",
     "shell.execute_reply": "2023-08-25T21:31:36.004543Z"
    },
    "papermill": {
     "duration": 0.088967,
     "end_time": "2023-08-25T21:31:36.008553",
     "exception": false,
     "start_time": "2023-08-25T21:31:35.919586",
     "status": "completed"
    },
    "tags": []
   },
   "outputs": [
    {
     "name": "stdout",
     "output_type": "stream",
     "text": [
      "/kaggle/input/en-core-web-md/en_core_web_md/meta.json\n",
      "/kaggle/input/en-core-web-md/en_core_web_md/__init__.py\n",
      "/kaggle/input/en-core-web-md/en_core_web_md/en_core_web_md-3.4.1/tokenizer\n",
      "/kaggle/input/en-core-web-md/en_core_web_md/en_core_web_md-3.4.1/LICENSES_SOURCES\n",
      "/kaggle/input/en-core-web-md/en_core_web_md/en_core_web_md-3.4.1/LICENSE\n",
      "/kaggle/input/en-core-web-md/en_core_web_md/en_core_web_md-3.4.1/README.md\n",
      "/kaggle/input/en-core-web-md/en_core_web_md/en_core_web_md-3.4.1/meta.json\n",
      "/kaggle/input/en-core-web-md/en_core_web_md/en_core_web_md-3.4.1/accuracy.json\n",
      "/kaggle/input/en-core-web-md/en_core_web_md/en_core_web_md-3.4.1/config.cfg\n",
      "/kaggle/input/en-core-web-md/en_core_web_md/en_core_web_md-3.4.1/attribute_ruler/patterns\n",
      "/kaggle/input/en-core-web-md/en_core_web_md/en_core_web_md-3.4.1/vocab/vectors\n",
      "/kaggle/input/en-core-web-md/en_core_web_md/en_core_web_md-3.4.1/vocab/key2row\n",
      "/kaggle/input/en-core-web-md/en_core_web_md/en_core_web_md-3.4.1/vocab/vectors.cfg\n",
      "/kaggle/input/en-core-web-md/en_core_web_md/en_core_web_md-3.4.1/vocab/strings.json\n",
      "/kaggle/input/en-core-web-md/en_core_web_md/en_core_web_md-3.4.1/vocab/lookups.bin\n",
      "/kaggle/input/en-core-web-md/en_core_web_md/en_core_web_md-3.4.1/parser/model\n",
      "/kaggle/input/en-core-web-md/en_core_web_md/en_core_web_md-3.4.1/parser/moves\n",
      "/kaggle/input/en-core-web-md/en_core_web_md/en_core_web_md-3.4.1/parser/cfg\n",
      "/kaggle/input/en-core-web-md/en_core_web_md/en_core_web_md-3.4.1/senter/model\n",
      "/kaggle/input/en-core-web-md/en_core_web_md/en_core_web_md-3.4.1/senter/cfg\n",
      "/kaggle/input/en-core-web-md/en_core_web_md/en_core_web_md-3.4.1/ner/model\n",
      "/kaggle/input/en-core-web-md/en_core_web_md/en_core_web_md-3.4.1/ner/moves\n",
      "/kaggle/input/en-core-web-md/en_core_web_md/en_core_web_md-3.4.1/ner/cfg\n",
      "/kaggle/input/en-core-web-md/en_core_web_md/en_core_web_md-3.4.1/lemmatizer/lookups/lookups.bin\n",
      "/kaggle/input/en-core-web-md/en_core_web_md/en_core_web_md-3.4.1/tagger/model\n",
      "/kaggle/input/en-core-web-md/en_core_web_md/en_core_web_md-3.4.1/tagger/cfg\n",
      "/kaggle/input/en-core-web-md/en_core_web_md/en_core_web_md-3.4.1/tok2vec/model\n",
      "/kaggle/input/en-core-web-md/en_core_web_md/en_core_web_md-3.4.1/tok2vec/cfg\n",
      "/kaggle/input/commonlit-evaluate-student-summaries/sample_submission.csv\n",
      "/kaggle/input/commonlit-evaluate-student-summaries/prompts_train.csv\n",
      "/kaggle/input/commonlit-evaluate-student-summaries/summaries_test.csv\n",
      "/kaggle/input/commonlit-evaluate-student-summaries/summaries_train.csv\n",
      "/kaggle/input/commonlit-evaluate-student-summaries/prompts_test.csv\n"
     ]
    }
   ],
   "source": [
    "# This Python 3 environment comes with many helpful analytics libraries installed\n",
    "# It is defined by the kaggle/python Docker image: https://github.com/kaggle/docker-python\n",
    "# For example, here's several helpful packages to load\n",
    "\n",
    "import numpy as np # linear algebra\n",
    "import pandas as pd # data processing, CSV file I/O (e.g. pd.read_csv)\n",
    "\n",
    "# Input data files are available in the read-only \"../input/\" directory\n",
    "# For example, running this (by clicking run or pressing Shift+Enter) will list all files under the input directory\n",
    "\n",
    "import os\n",
    "for dirname, _, filenames in os.walk('/kaggle/input'):\n",
    "    for filename in filenames:\n",
    "        print(os.path.join(dirname, filename))\n",
    "\n",
    "# You can write up to 20GB to the current directory (/kaggle/working/) that gets preserved as output when you create a version using \"Save & Run All\" \n",
    "# You can also write temporary files to /kaggle/temp/, but they won't be saved outside of the current session"
   ]
  },
  {
   "cell_type": "code",
   "execution_count": 2,
   "id": "865f4233",
   "metadata": {
    "execution": {
     "iopub.execute_input": "2023-08-25T21:31:36.024048Z",
     "iopub.status.busy": "2023-08-25T21:31:36.023122Z",
     "iopub.status.idle": "2023-08-25T21:31:56.928713Z",
     "shell.execute_reply": "2023-08-25T21:31:56.927618Z"
    },
    "papermill": {
     "duration": 20.915932,
     "end_time": "2023-08-25T21:31:56.931548",
     "exception": false,
     "start_time": "2023-08-25T21:31:36.015616",
     "status": "completed"
    },
    "tags": []
   },
   "outputs": [
    {
     "name": "stderr",
     "output_type": "stream",
     "text": [
      "/opt/conda/lib/python3.10/site-packages/scipy/__init__.py:146: UserWarning: A NumPy version >=1.16.5 and <1.23.0 is required for this version of SciPy (detected version 1.23.5\n",
      "  warnings.warn(f\"A NumPy version >={np_minversion} and <{np_maxversion}\"\n",
      "/opt/conda/lib/python3.10/site-packages/tensorflow_io/python/ops/__init__.py:98: UserWarning: unable to load libtensorflow_io_plugins.so: unable to open file: libtensorflow_io_plugins.so, from paths: ['/opt/conda/lib/python3.10/site-packages/tensorflow_io/python/ops/libtensorflow_io_plugins.so']\n",
      "caused by: ['/opt/conda/lib/python3.10/site-packages/tensorflow_io/python/ops/libtensorflow_io_plugins.so: undefined symbol: _ZN3tsl6StatusC1EN10tensorflow5error4CodeESt17basic_string_viewIcSt11char_traitsIcEENS_14SourceLocationE']\n",
      "  warnings.warn(f\"unable to load libtensorflow_io_plugins.so: {e}\")\n",
      "/opt/conda/lib/python3.10/site-packages/tensorflow_io/python/ops/__init__.py:104: UserWarning: file system plugins are not loaded: unable to open file: libtensorflow_io.so, from paths: ['/opt/conda/lib/python3.10/site-packages/tensorflow_io/python/ops/libtensorflow_io.so']\n",
      "caused by: ['/opt/conda/lib/python3.10/site-packages/tensorflow_io/python/ops/libtensorflow_io.so: undefined symbol: _ZTVN10tensorflow13GcsFileSystemE']\n",
      "  warnings.warn(f\"file system plugins are not loaded: {e}\")\n",
      "/opt/conda/lib/python3.10/site-packages/spacy/util.py:887: UserWarning: [W095] Model 'en_core_web_md' (3.4.1) was trained with spaCy v3.4 and may not be 100% compatible with the current version (3.5.4). If you see errors or degraded performance, download a newer compatible model or retrain your custom model with the current spaCy version. For more details and available updates, run: python -m spacy validate\n",
      "  warnings.warn(warn_msg)\n"
     ]
    }
   ],
   "source": [
    "import numpy as np # linear algebra\n",
    "import pandas as pd # data processing, CSV file I/O (e.g. pd.read_csv)\n",
    "from sklearn.feature_extraction.text import CountVectorizer, TfidfTransformer\n",
    "from sklearn.ensemble import RandomForestRegressor\n",
    "from sklearn.multioutput import MultiOutputRegressor\n",
    "from sklearn.metrics import make_scorer\n",
    "from sklearn.model_selection import train_test_split, GridSearchCV\n",
    "import spacy\n",
    "\n",
    "nlp = spacy.load(\"../input/en-core-web-md/en_core_web_md/en_core_web_md-3.4.1\")"
   ]
  },
  {
   "cell_type": "code",
   "execution_count": 3,
   "id": "72eafce6",
   "metadata": {
    "execution": {
     "iopub.execute_input": "2023-08-25T21:31:56.947222Z",
     "iopub.status.busy": "2023-08-25T21:31:56.946567Z",
     "iopub.status.idle": "2023-08-25T21:31:57.058173Z",
     "shell.execute_reply": "2023-08-25T21:31:57.056908Z"
    },
    "papermill": {
     "duration": 0.122345,
     "end_time": "2023-08-25T21:31:57.061131",
     "exception": false,
     "start_time": "2023-08-25T21:31:56.938786",
     "status": "completed"
    },
    "tags": []
   },
   "outputs": [],
   "source": [
    "summary_df = pd.read_csv('/kaggle/input/commonlit-evaluate-student-summaries/summaries_train.csv')\n",
    "prompt_df = pd.read_csv('/kaggle/input/commonlit-evaluate-student-summaries/prompts_train.csv')"
   ]
  },
  {
   "cell_type": "code",
   "execution_count": 4,
   "id": "c35b2260",
   "metadata": {
    "execution": {
     "iopub.execute_input": "2023-08-25T21:31:57.076996Z",
     "iopub.status.busy": "2023-08-25T21:31:57.076626Z",
     "iopub.status.idle": "2023-08-25T21:31:57.088623Z",
     "shell.execute_reply": "2023-08-25T21:31:57.087403Z"
    },
    "papermill": {
     "duration": 0.022549,
     "end_time": "2023-08-25T21:31:57.091145",
     "exception": false,
     "start_time": "2023-08-25T21:31:57.068596",
     "status": "completed"
    },
    "tags": []
   },
   "outputs": [],
   "source": [
    "from string import punctuation as punc\n",
    "from collections import defaultdict\n",
    "import spacy\n",
    "from string import punctuation as punc\n",
    "from tqdm import tqdm\n",
    "\n",
    "def process_text(text):\n",
    "    doc = nlp(text)\n",
    "    lemmas = []\n",
    "    stops = 0\n",
    "    pos = defaultdict(int,{'VERB': 0, \"NOUN\": 0})\n",
    "    answer_length = len(text.split())\n",
    "\n",
    "    for token in doc:\n",
    "        if token.is_stop:\n",
    "            stops += 1\n",
    "        else:\n",
    "            if token.pos_ == \"VERB\":\n",
    "                pos[token.pos_] += 1\n",
    "            elif token.pos_ == \"NOUN\":\n",
    "                pos[token.pos_] += 1\n",
    "            lemmas.append(token.lemma_.lower())\n",
    "    pos = dict(pos)\n",
    "    return ' '.join(lemmas), stops, pos['VERB'], pos['NOUN'], answer_length\n",
    "\n",
    "def count_punc(text):\n",
    "    return len([p for p in text if p in punc])\n",
    "\n",
    "# Overlap Score\n",
    "def overlap(sample):\n",
    "    answer = set(sample['text'].lower().split())\n",
    "    context = set(sample['prompt_text'].lower().split())\n",
    "    intersection = len(context.intersection(answer))\n",
    "    difference = len(context.difference(answer))\n",
    "    union = len(context.union(answer))\n",
    "    overlap_score = intersection/float(len(context))\n",
    "    jaccard_similarity = intersection/union\n",
    "    return intersection, difference, union, overlap_score, jaccard_similarity\n"
   ]
  },
  {
   "cell_type": "code",
   "execution_count": 5,
   "id": "13d3cb88",
   "metadata": {
    "execution": {
     "iopub.execute_input": "2023-08-25T21:31:57.108556Z",
     "iopub.status.busy": "2023-08-25T21:31:57.106700Z",
     "iopub.status.idle": "2023-08-25T21:31:57.123142Z",
     "shell.execute_reply": "2023-08-25T21:31:57.122039Z"
    },
    "papermill": {
     "duration": 0.027441,
     "end_time": "2023-08-25T21:31:57.125642",
     "exception": false,
     "start_time": "2023-08-25T21:31:57.098201",
     "status": "completed"
    },
    "tags": []
   },
   "outputs": [],
   "source": [
    "from sklearn.feature_extraction.text import CountVectorizer, TfidfTransformer\n",
    "from sklearn.preprocessing import StandardScaler, MinMaxScaler\n",
    "from sklearn.decomposition import TruncatedSVD,PCA\n",
    "\n",
    "def preprocess_data(summary_df, prompt_df, ngram_range=(1,1)):\n",
    "    train_df = summary_df.merge(right=prompt_df, how='inner', on='prompt_id')\n",
    "    train_df = train_df.assign(\n",
    "    full_text='Title:\\n' + train_df['prompt_title'] +\n",
    "              '\\nQuestion:\\n' + train_df['prompt_question'] +\n",
    "              '\\nText:\\n' + train_df['prompt_text']\n",
    "    )\n",
    "\n",
    "    print('processing text data')\n",
    "\n",
    "    # Refactored text processing\n",
    "    def process_texts(column_name):\n",
    "        return zip(*train_df[column_name].apply(process_text).tolist())\n",
    "\n",
    "    train_df['intersection'], train_df['difference'], train_df['union'], train_df['overlap_score'], train_df['jaccard_similarity'] = zip(*train_df.apply(overlap, axis=1).tolist())\n",
    "\n",
    "    train_df['lemmas'],train_df['summary_stopwords'],train_df['summary_verbs'], train_df['summary_nouns'], train_df['length_of_summary'] = process_texts('text')\n",
    "    train_df['full_text'], train_df['full_text_stopwords'],train_df['full_text_verbs'], train_df['full_text_nouns'], train_df['length_of_full_text'] = process_texts('full_text')\n",
    "\n",
    "    print('processing features.....')\n",
    "    # Process other columns\n",
    "    train_df['summary_punctuation'] = train_df['text'].apply(count_punc)\n",
    "\n",
    "    cols = ['length_of_summary', 'summary_punctuation','summary_stopwords','summary_verbs','summary_nouns',\n",
    "            'intersection','difference','union', 'overlap_score', 'jaccard_similarity',\n",
    "            'full_text_stopwords','full_text_verbs','full_text_nouns','length_of_full_text','content', 'wording']\n",
    "    \n",
    "    print('applying vectorizer.....')\n",
    "    # Vectorization\n",
    "    global vectorizer, pca\n",
    "    vectorizer = CountVectorizer(ngram_range=ngram_range)\n",
    "    transformer = TfidfTransformer()\n",
    "    transformed_df = transformer.fit_transform(vectorizer.fit_transform(train_df['full_text']))\n",
    "    summary_transformed = transformer.fit_transform(vectorizer.transform(train_df['lemmas']))\n",
    "\n",
    "    print('scaling features.....')\n",
    "    # Scaling\n",
    "    scaler = MinMaxScaler(feature_range=(0, 10))\n",
    "    X_summary_scaled = scaler.fit_transform(transformed_df.toarray())\n",
    "    summary_scaled = scaler.transform(summary_transformed.toarray())\n",
    "\n",
    "    print('decomposing features.......')\n",
    "    # PCA Decomposition\n",
    "    components = round(transformed_df.shape[1] * (40/100))\n",
    "    pca = TruncatedSVD(n_components=components,algorithm='arpack', random_state=42)\n",
    "    pca_bag = pca.fit_transform(X_summary_scaled)\n",
    "    summary_bag = pca.transform(summary_scaled)\n",
    "    stacked_bag = np.hstack((pca_bag, summary_bag, train_df[cols].values))\n",
    "\n",
    "    print('collecting outputs.........')\n",
    "    student_ids = train_df['student_id'].values\n",
    "\n",
    "    return stacked_bag, student_ids"
   ]
  },
  {
   "cell_type": "code",
   "execution_count": 6,
   "id": "03fef0ce",
   "metadata": {
    "execution": {
     "iopub.execute_input": "2023-08-25T21:31:57.141972Z",
     "iopub.status.busy": "2023-08-25T21:31:57.140922Z",
     "iopub.status.idle": "2023-08-25T21:52:25.974436Z",
     "shell.execute_reply": "2023-08-25T21:52:25.973183Z"
    },
    "papermill": {
     "duration": 1228.844517,
     "end_time": "2023-08-25T21:52:25.977187",
     "exception": false,
     "start_time": "2023-08-25T21:31:57.132670",
     "status": "completed"
    },
    "tags": []
   },
   "outputs": [
    {
     "name": "stdout",
     "output_type": "stream",
     "text": [
      "processing text data\n",
      "processing features.....\n",
      "applying vectorizer.....\n",
      "scaling features.....\n",
      "decomposing features.......\n",
      "collecting outputs.........\n",
      "Preprocessed function executed in: 1228.82 seconds\n"
     ]
    }
   ],
   "source": [
    "from sklearn.preprocessing import StandardScaler\n",
    "from sklearn.decomposition import PCA\n",
    "import time\n",
    "\n",
    "start_time = time.time()\n",
    "\n",
    "stacked_bag, student_ids = preprocess_data(summary_df,prompt_df,ngram_range=(1,1))\n",
    "\n",
    "end_time = time.time()\n",
    "elapsed_time = end_time - start_time\n",
    "\n",
    "print(f\"Preprocessed function executed in: {elapsed_time:.2f} seconds\")"
   ]
  },
  {
   "cell_type": "code",
   "execution_count": 7,
   "id": "3e97a29c",
   "metadata": {
    "execution": {
     "iopub.execute_input": "2023-08-25T21:52:25.995314Z",
     "iopub.status.busy": "2023-08-25T21:52:25.994112Z",
     "iopub.status.idle": "2023-08-25T21:52:26.009650Z",
     "shell.execute_reply": "2023-08-25T21:52:26.008595Z"
    },
    "papermill": {
     "duration": 0.027291,
     "end_time": "2023-08-25T21:52:26.012087",
     "exception": false,
     "start_time": "2023-08-25T21:52:25.984796",
     "status": "completed"
    },
    "tags": []
   },
   "outputs": [],
   "source": [
    "X_train,X_test,y_train,y_test = train_test_split(stacked_bag[:,:-2] ,stacked_bag[:,-2:],test_size=0.1,shuffle=True,random_state=11)"
   ]
  },
  {
   "cell_type": "code",
   "execution_count": 8,
   "id": "f9e2b8ad",
   "metadata": {
    "execution": {
     "iopub.execute_input": "2023-08-25T21:52:26.029176Z",
     "iopub.status.busy": "2023-08-25T21:52:26.028743Z",
     "iopub.status.idle": "2023-08-25T21:52:26.035667Z",
     "shell.execute_reply": "2023-08-25T21:52:26.034575Z"
    },
    "papermill": {
     "duration": 0.018241,
     "end_time": "2023-08-25T21:52:26.038078",
     "exception": false,
     "start_time": "2023-08-25T21:52:26.019837",
     "status": "completed"
    },
    "tags": []
   },
   "outputs": [],
   "source": [
    "def mcrmse(y_true, y_pred):\n",
    "    return np.mean(np.sqrt(np.mean((y_true - y_pred)**2, axis=0)))\n",
    "\n",
    "mcrmse_scorer = make_scorer(mcrmse, greater_is_better=False)\n",
    "best_params = {'max_depth': 10,'max_features': 0.55,'min_samples_split': 10,'n_estimators': 300}\n",
    "model_rf = MultiOutputRegressor(RandomForestRegressor(**best_params,n_jobs=-1, random_state=64),n_jobs=-1)"
   ]
  },
  {
   "cell_type": "code",
   "execution_count": 9,
   "id": "e1f3ad3c",
   "metadata": {
    "execution": {
     "iopub.execute_input": "2023-08-25T21:52:26.054886Z",
     "iopub.status.busy": "2023-08-25T21:52:26.054498Z",
     "iopub.status.idle": "2023-08-25T21:57:17.334685Z",
     "shell.execute_reply": "2023-08-25T21:57:17.333440Z"
    },
    "papermill": {
     "duration": 291.298895,
     "end_time": "2023-08-25T21:57:17.344494",
     "exception": false,
     "start_time": "2023-08-25T21:52:26.045599",
     "status": "completed"
    },
    "tags": []
   },
   "outputs": [
    {
     "name": "stderr",
     "output_type": "stream",
     "text": [
      "/opt/conda/lib/python3.10/site-packages/scipy/__init__.py:146: UserWarning: A NumPy version >=1.16.5 and <1.23.0 is required for this version of SciPy (detected version 1.23.5\n",
      "  warnings.warn(f\"A NumPy version >={np_minversion} and <{np_maxversion}\"\n",
      "/opt/conda/lib/python3.10/site-packages/scipy/__init__.py:146: UserWarning: A NumPy version >=1.16.5 and <1.23.0 is required for this version of SciPy (detected version 1.23.5\n",
      "  warnings.warn(f\"A NumPy version >={np_minversion} and <{np_maxversion}\"\n"
     ]
    },
    {
     "data": {
      "text/html": [
       "<style>#sk-container-id-1 {color: black;background-color: white;}#sk-container-id-1 pre{padding: 0;}#sk-container-id-1 div.sk-toggleable {background-color: white;}#sk-container-id-1 label.sk-toggleable__label {cursor: pointer;display: block;width: 100%;margin-bottom: 0;padding: 0.3em;box-sizing: border-box;text-align: center;}#sk-container-id-1 label.sk-toggleable__label-arrow:before {content: \"▸\";float: left;margin-right: 0.25em;color: #696969;}#sk-container-id-1 label.sk-toggleable__label-arrow:hover:before {color: black;}#sk-container-id-1 div.sk-estimator:hover label.sk-toggleable__label-arrow:before {color: black;}#sk-container-id-1 div.sk-toggleable__content {max-height: 0;max-width: 0;overflow: hidden;text-align: left;background-color: #f0f8ff;}#sk-container-id-1 div.sk-toggleable__content pre {margin: 0.2em;color: black;border-radius: 0.25em;background-color: #f0f8ff;}#sk-container-id-1 input.sk-toggleable__control:checked~div.sk-toggleable__content {max-height: 200px;max-width: 100%;overflow: auto;}#sk-container-id-1 input.sk-toggleable__control:checked~label.sk-toggleable__label-arrow:before {content: \"▾\";}#sk-container-id-1 div.sk-estimator input.sk-toggleable__control:checked~label.sk-toggleable__label {background-color: #d4ebff;}#sk-container-id-1 div.sk-label input.sk-toggleable__control:checked~label.sk-toggleable__label {background-color: #d4ebff;}#sk-container-id-1 input.sk-hidden--visually {border: 0;clip: rect(1px 1px 1px 1px);clip: rect(1px, 1px, 1px, 1px);height: 1px;margin: -1px;overflow: hidden;padding: 0;position: absolute;width: 1px;}#sk-container-id-1 div.sk-estimator {font-family: monospace;background-color: #f0f8ff;border: 1px dotted black;border-radius: 0.25em;box-sizing: border-box;margin-bottom: 0.5em;}#sk-container-id-1 div.sk-estimator:hover {background-color: #d4ebff;}#sk-container-id-1 div.sk-parallel-item::after {content: \"\";width: 100%;border-bottom: 1px solid gray;flex-grow: 1;}#sk-container-id-1 div.sk-label:hover label.sk-toggleable__label {background-color: #d4ebff;}#sk-container-id-1 div.sk-serial::before {content: \"\";position: absolute;border-left: 1px solid gray;box-sizing: border-box;top: 0;bottom: 0;left: 50%;z-index: 0;}#sk-container-id-1 div.sk-serial {display: flex;flex-direction: column;align-items: center;background-color: white;padding-right: 0.2em;padding-left: 0.2em;position: relative;}#sk-container-id-1 div.sk-item {position: relative;z-index: 1;}#sk-container-id-1 div.sk-parallel {display: flex;align-items: stretch;justify-content: center;background-color: white;position: relative;}#sk-container-id-1 div.sk-item::before, #sk-container-id-1 div.sk-parallel-item::before {content: \"\";position: absolute;border-left: 1px solid gray;box-sizing: border-box;top: 0;bottom: 0;left: 50%;z-index: -1;}#sk-container-id-1 div.sk-parallel-item {display: flex;flex-direction: column;z-index: 1;position: relative;background-color: white;}#sk-container-id-1 div.sk-parallel-item:first-child::after {align-self: flex-end;width: 50%;}#sk-container-id-1 div.sk-parallel-item:last-child::after {align-self: flex-start;width: 50%;}#sk-container-id-1 div.sk-parallel-item:only-child::after {width: 0;}#sk-container-id-1 div.sk-dashed-wrapped {border: 1px dashed gray;margin: 0 0.4em 0.5em 0.4em;box-sizing: border-box;padding-bottom: 0.4em;background-color: white;}#sk-container-id-1 div.sk-label label {font-family: monospace;font-weight: bold;display: inline-block;line-height: 1.2em;}#sk-container-id-1 div.sk-label-container {text-align: center;}#sk-container-id-1 div.sk-container {/* jupyter's `normalize.less` sets `[hidden] { display: none; }` but bootstrap.min.css set `[hidden] { display: none !important; }` so we also need the `!important` here to be able to override the default hidden behavior on the sphinx rendered scikit-learn.org. See: https://github.com/scikit-learn/scikit-learn/issues/21755 */display: inline-block !important;position: relative;}#sk-container-id-1 div.sk-text-repr-fallback {display: none;}</style><div id=\"sk-container-id-1\" class=\"sk-top-container\"><div class=\"sk-text-repr-fallback\"><pre>MultiOutputRegressor(estimator=RandomForestRegressor(max_depth=10,\n",
       "                                                     max_features=0.55,\n",
       "                                                     min_samples_split=10,\n",
       "                                                     n_estimators=300,\n",
       "                                                     n_jobs=-1,\n",
       "                                                     random_state=64),\n",
       "                     n_jobs=-1)</pre><b>In a Jupyter environment, please rerun this cell to show the HTML representation or trust the notebook. <br />On GitHub, the HTML representation is unable to render, please try loading this page with nbviewer.org.</b></div><div class=\"sk-container\" hidden><div class=\"sk-item sk-dashed-wrapped\"><div class=\"sk-label-container\"><div class=\"sk-label sk-toggleable\"><input class=\"sk-toggleable__control sk-hidden--visually\" id=\"sk-estimator-id-1\" type=\"checkbox\" ><label for=\"sk-estimator-id-1\" class=\"sk-toggleable__label sk-toggleable__label-arrow\">MultiOutputRegressor</label><div class=\"sk-toggleable__content\"><pre>MultiOutputRegressor(estimator=RandomForestRegressor(max_depth=10,\n",
       "                                                     max_features=0.55,\n",
       "                                                     min_samples_split=10,\n",
       "                                                     n_estimators=300,\n",
       "                                                     n_jobs=-1,\n",
       "                                                     random_state=64),\n",
       "                     n_jobs=-1)</pre></div></div></div><div class=\"sk-parallel\"><div class=\"sk-parallel-item\"><div class=\"sk-item\"><div class=\"sk-label-container\"><div class=\"sk-label sk-toggleable\"><input class=\"sk-toggleable__control sk-hidden--visually\" id=\"sk-estimator-id-2\" type=\"checkbox\" ><label for=\"sk-estimator-id-2\" class=\"sk-toggleable__label sk-toggleable__label-arrow\">estimator: RandomForestRegressor</label><div class=\"sk-toggleable__content\"><pre>RandomForestRegressor(max_depth=10, max_features=0.55, min_samples_split=10,\n",
       "                      n_estimators=300, n_jobs=-1, random_state=64)</pre></div></div></div><div class=\"sk-serial\"><div class=\"sk-item\"><div class=\"sk-estimator sk-toggleable\"><input class=\"sk-toggleable__control sk-hidden--visually\" id=\"sk-estimator-id-3\" type=\"checkbox\" ><label for=\"sk-estimator-id-3\" class=\"sk-toggleable__label sk-toggleable__label-arrow\">RandomForestRegressor</label><div class=\"sk-toggleable__content\"><pre>RandomForestRegressor(max_depth=10, max_features=0.55, min_samples_split=10,\n",
       "                      n_estimators=300, n_jobs=-1, random_state=64)</pre></div></div></div></div></div></div></div></div></div></div>"
      ],
      "text/plain": [
       "MultiOutputRegressor(estimator=RandomForestRegressor(max_depth=10,\n",
       "                                                     max_features=0.55,\n",
       "                                                     min_samples_split=10,\n",
       "                                                     n_estimators=300,\n",
       "                                                     n_jobs=-1,\n",
       "                                                     random_state=64),\n",
       "                     n_jobs=-1)"
      ]
     },
     "execution_count": 9,
     "metadata": {},
     "output_type": "execute_result"
    }
   ],
   "source": [
    "model_rf.fit(X_train,y_train)"
   ]
  },
  {
   "cell_type": "code",
   "execution_count": 10,
   "id": "b7958e69",
   "metadata": {
    "execution": {
     "iopub.execute_input": "2023-08-25T21:57:17.364023Z",
     "iopub.status.busy": "2023-08-25T21:57:17.362712Z",
     "iopub.status.idle": "2023-08-25T21:57:17.872416Z",
     "shell.execute_reply": "2023-08-25T21:57:17.871215Z"
    },
    "papermill": {
     "duration": 0.522607,
     "end_time": "2023-08-25T21:57:17.875378",
     "exception": false,
     "start_time": "2023-08-25T21:57:17.352771",
     "status": "completed"
    },
    "tags": []
   },
   "outputs": [],
   "source": [
    "y_preds = model_rf.predict(X_test)"
   ]
  },
  {
   "cell_type": "code",
   "execution_count": 11,
   "id": "0b711e08",
   "metadata": {
    "execution": {
     "iopub.execute_input": "2023-08-25T21:57:17.893919Z",
     "iopub.status.busy": "2023-08-25T21:57:17.892900Z",
     "iopub.status.idle": "2023-08-25T21:57:17.901309Z",
     "shell.execute_reply": "2023-08-25T21:57:17.900029Z"
    },
    "papermill": {
     "duration": 0.020416,
     "end_time": "2023-08-25T21:57:17.903922",
     "exception": false,
     "start_time": "2023-08-25T21:57:17.883506",
     "status": "completed"
    },
    "tags": []
   },
   "outputs": [
    {
     "data": {
      "text/plain": [
       "0.5338831158761024"
      ]
     },
     "execution_count": 11,
     "metadata": {},
     "output_type": "execute_result"
    }
   ],
   "source": [
    "mcrmse(y_test,y_preds)"
   ]
  },
  {
   "cell_type": "code",
   "execution_count": 12,
   "id": "d5a376ef",
   "metadata": {
    "execution": {
     "iopub.execute_input": "2023-08-25T21:57:17.922952Z",
     "iopub.status.busy": "2023-08-25T21:57:17.922571Z",
     "iopub.status.idle": "2023-08-25T21:57:17.927489Z",
     "shell.execute_reply": "2023-08-25T21:57:17.926371Z"
    },
    "papermill": {
     "duration": 0.016945,
     "end_time": "2023-08-25T21:57:17.929858",
     "exception": false,
     "start_time": "2023-08-25T21:57:17.912913",
     "status": "completed"
    },
    "tags": []
   },
   "outputs": [],
   "source": [
    "# model_rf.fit(stacked_bag[:,:-2], stacked_bag[:,-2:])"
   ]
  },
  {
   "cell_type": "code",
   "execution_count": 13,
   "id": "830b2947",
   "metadata": {
    "execution": {
     "iopub.execute_input": "2023-08-25T21:57:17.948737Z",
     "iopub.status.busy": "2023-08-25T21:57:17.947724Z",
     "iopub.status.idle": "2023-08-25T21:57:17.962605Z",
     "shell.execute_reply": "2023-08-25T21:57:17.961544Z"
    },
    "papermill": {
     "duration": 0.02729,
     "end_time": "2023-08-25T21:57:17.965407",
     "exception": false,
     "start_time": "2023-08-25T21:57:17.938117",
     "status": "completed"
    },
    "tags": []
   },
   "outputs": [],
   "source": [
    "def preprocess_data(summary_df, prompt_df, vectorizer=vectorizer, pca=pca):\n",
    "    train_df = summary_df.merge(right=prompt_df, how='inner', on='prompt_id')\n",
    "    train_df = train_df.assign(\n",
    "    full_text='Title:\\n' + train_df['prompt_title'] +\n",
    "              '\\nQuestion:\\n' + train_df['prompt_question'] +\n",
    "              '\\nText:\\n' + train_df['prompt_text']\n",
    "    )\n",
    "\n",
    "    print('processing text data')\n",
    "\n",
    "    # Refactored text processing\n",
    "    def process_texts(column_name):\n",
    "        return zip(*train_df[column_name].apply(process_text).tolist())\n",
    "\n",
    "    train_df['intersection'], train_df['difference'], train_df['union'], train_df['overlap_score'], train_df['jaccard_similarity'] = zip(*train_df.apply(overlap, axis=1).tolist())\n",
    "\n",
    "    train_df['lemmas'],train_df['summary_stopwords'],train_df['summary_verbs'], train_df['summary_nouns'], train_df['length_of_summary'] = process_texts('text')\n",
    "    train_df['full_text'], train_df['full_text_stopwords'],train_df['full_text_verbs'], train_df['full_text_nouns'], train_df['length_of_full_text'] = process_texts('full_text')\n",
    "\n",
    "    print('processing features.....')\n",
    "    # Process other columns\n",
    "    train_df['summary_punctuation'] = train_df['text'].apply(count_punc)\n",
    "\n",
    "    cols = ['length_of_summary', 'summary_punctuation','summary_stopwords','summary_verbs',\n",
    "            'summary_nouns','intersection','difference','union', 'overlap_score', \n",
    "            'jaccard_similarity','full_text_stopwords','full_text_verbs',\n",
    "            'full_text_nouns','length_of_full_text']\n",
    "    \n",
    "    print('applying vectorizer.....')\n",
    "    # Vectorization\n",
    "    transformer = TfidfTransformer()\n",
    "    transformed_df = transformer.fit_transform(vectorizer.transform(train_df['full_text']))\n",
    "    summary_transformed = transformer.fit_transform(vectorizer.transform(train_df['lemmas']))\n",
    "\n",
    "    print('scaling features.....')\n",
    "    # Scaling\n",
    "    scaler = MinMaxScaler(feature_range=(0, 10))\n",
    "    X_summary_scaled = scaler.fit_transform(transformed_df.toarray())\n",
    "    summary_scaled = scaler.fit_transform(summary_transformed.toarray())\n",
    "\n",
    "    print('decomposing features.......')\n",
    "    # PCA Decomposition\n",
    "    pca_bag = pca.transform(X_summary_scaled)\n",
    "    summary_bag = pca.transform(summary_scaled)\n",
    "    stacked_bag = np.hstack((pca_bag, summary_bag, train_df[cols].values))\n",
    "\n",
    "    print('collecting outputs.........')\n",
    "    student_ids = train_df['student_id'].values\n",
    "\n",
    "    return stacked_bag, student_ids"
   ]
  },
  {
   "cell_type": "code",
   "execution_count": 14,
   "id": "f6581495",
   "metadata": {
    "execution": {
     "iopub.execute_input": "2023-08-25T21:57:17.984734Z",
     "iopub.status.busy": "2023-08-25T21:57:17.984025Z",
     "iopub.status.idle": "2023-08-25T21:57:18.008544Z",
     "shell.execute_reply": "2023-08-25T21:57:18.007475Z"
    },
    "papermill": {
     "duration": 0.036832,
     "end_time": "2023-08-25T21:57:18.011291",
     "exception": false,
     "start_time": "2023-08-25T21:57:17.974459",
     "status": "completed"
    },
    "tags": []
   },
   "outputs": [],
   "source": [
    "test_summary = pd.read_csv('/kaggle/input/commonlit-evaluate-student-summaries/summaries_test.csv')\n",
    "test_prompts = pd.read_csv('/kaggle/input/commonlit-evaluate-student-summaries/prompts_test.csv')"
   ]
  },
  {
   "cell_type": "code",
   "execution_count": 15,
   "id": "de474d45",
   "metadata": {
    "execution": {
     "iopub.execute_input": "2023-08-25T21:57:18.030566Z",
     "iopub.status.busy": "2023-08-25T21:57:18.029400Z",
     "iopub.status.idle": "2023-08-25T21:57:18.134148Z",
     "shell.execute_reply": "2023-08-25T21:57:18.132425Z"
    },
    "papermill": {
     "duration": 0.117092,
     "end_time": "2023-08-25T21:57:18.136777",
     "exception": false,
     "start_time": "2023-08-25T21:57:18.019685",
     "status": "completed"
    },
    "tags": []
   },
   "outputs": [
    {
     "name": "stdout",
     "output_type": "stream",
     "text": [
      "processing text data\n",
      "processing features.....\n",
      "applying vectorizer.....\n",
      "scaling features.....\n",
      "decomposing features.......\n",
      "collecting outputs.........\n"
     ]
    }
   ],
   "source": [
    "test_df,ids = preprocess_data(test_summary, test_prompts)"
   ]
  },
  {
   "cell_type": "code",
   "execution_count": 16,
   "id": "5fb08f08",
   "metadata": {
    "execution": {
     "iopub.execute_input": "2023-08-25T21:57:18.157357Z",
     "iopub.status.busy": "2023-08-25T21:57:18.156957Z",
     "iopub.status.idle": "2023-08-25T21:57:18.462099Z",
     "shell.execute_reply": "2023-08-25T21:57:18.460808Z"
    },
    "papermill": {
     "duration": 0.319433,
     "end_time": "2023-08-25T21:57:18.465056",
     "exception": false,
     "start_time": "2023-08-25T21:57:18.145623",
     "status": "completed"
    },
    "tags": []
   },
   "outputs": [],
   "source": [
    "y_preds = model_rf.predict(test_df)"
   ]
  },
  {
   "cell_type": "code",
   "execution_count": 17,
   "id": "b33ceb97",
   "metadata": {
    "execution": {
     "iopub.execute_input": "2023-08-25T21:57:18.483310Z",
     "iopub.status.busy": "2023-08-25T21:57:18.482318Z",
     "iopub.status.idle": "2023-08-25T21:57:18.490270Z",
     "shell.execute_reply": "2023-08-25T21:57:18.489110Z"
    },
    "papermill": {
     "duration": 0.019398,
     "end_time": "2023-08-25T21:57:18.492692",
     "exception": false,
     "start_time": "2023-08-25T21:57:18.473294",
     "status": "completed"
    },
    "tags": []
   },
   "outputs": [],
   "source": [
    "df_test = pd.DataFrame(y_preds,columns=['content','wording'],index=ids).reset_index()\n",
    "df_test = df_test.rename({'index':'student_id'},axis=1)"
   ]
  },
  {
   "cell_type": "code",
   "execution_count": 18,
   "id": "e4736613",
   "metadata": {
    "execution": {
     "iopub.execute_input": "2023-08-25T21:57:18.510299Z",
     "iopub.status.busy": "2023-08-25T21:57:18.509909Z",
     "iopub.status.idle": "2023-08-25T21:57:18.526727Z",
     "shell.execute_reply": "2023-08-25T21:57:18.525395Z"
    },
    "papermill": {
     "duration": 0.029292,
     "end_time": "2023-08-25T21:57:18.529705",
     "exception": false,
     "start_time": "2023-08-25T21:57:18.500413",
     "status": "completed"
    },
    "tags": []
   },
   "outputs": [
    {
     "data": {
      "text/html": [
       "<div>\n",
       "<style scoped>\n",
       "    .dataframe tbody tr th:only-of-type {\n",
       "        vertical-align: middle;\n",
       "    }\n",
       "\n",
       "    .dataframe tbody tr th {\n",
       "        vertical-align: top;\n",
       "    }\n",
       "\n",
       "    .dataframe thead th {\n",
       "        text-align: right;\n",
       "    }\n",
       "</style>\n",
       "<table border=\"1\" class=\"dataframe\">\n",
       "  <thead>\n",
       "    <tr style=\"text-align: right;\">\n",
       "      <th></th>\n",
       "      <th>student_id</th>\n",
       "      <th>content</th>\n",
       "      <th>wording</th>\n",
       "    </tr>\n",
       "  </thead>\n",
       "  <tbody>\n",
       "    <tr>\n",
       "      <th>0</th>\n",
       "      <td>000000ffffff</td>\n",
       "      <td>-1.291684</td>\n",
       "      <td>-1.167582</td>\n",
       "    </tr>\n",
       "    <tr>\n",
       "      <th>1</th>\n",
       "      <td>222222cccccc</td>\n",
       "      <td>-1.291684</td>\n",
       "      <td>-1.167582</td>\n",
       "    </tr>\n",
       "    <tr>\n",
       "      <th>2</th>\n",
       "      <td>111111eeeeee</td>\n",
       "      <td>-1.291684</td>\n",
       "      <td>-1.167582</td>\n",
       "    </tr>\n",
       "    <tr>\n",
       "      <th>3</th>\n",
       "      <td>333333dddddd</td>\n",
       "      <td>-1.291684</td>\n",
       "      <td>-1.167582</td>\n",
       "    </tr>\n",
       "  </tbody>\n",
       "</table>\n",
       "</div>"
      ],
      "text/plain": [
       "     student_id   content   wording\n",
       "0  000000ffffff -1.291684 -1.167582\n",
       "1  222222cccccc -1.291684 -1.167582\n",
       "2  111111eeeeee -1.291684 -1.167582\n",
       "3  333333dddddd -1.291684 -1.167582"
      ]
     },
     "execution_count": 18,
     "metadata": {},
     "output_type": "execute_result"
    }
   ],
   "source": [
    "df_test"
   ]
  },
  {
   "cell_type": "code",
   "execution_count": 19,
   "id": "7d8ed100",
   "metadata": {
    "execution": {
     "iopub.execute_input": "2023-08-25T21:57:18.550669Z",
     "iopub.status.busy": "2023-08-25T21:57:18.548809Z",
     "iopub.status.idle": "2023-08-25T21:57:18.558585Z",
     "shell.execute_reply": "2023-08-25T21:57:18.557417Z"
    },
    "papermill": {
     "duration": 0.022575,
     "end_time": "2023-08-25T21:57:18.561454",
     "exception": false,
     "start_time": "2023-08-25T21:57:18.538879",
     "status": "completed"
    },
    "tags": []
   },
   "outputs": [],
   "source": [
    "df_test.to_csv(\"submission.csv\", index=False)"
   ]
  },
  {
   "cell_type": "code",
   "execution_count": null,
   "id": "81058519",
   "metadata": {
    "papermill": {
     "duration": 0.008541,
     "end_time": "2023-08-25T21:57:18.579816",
     "exception": false,
     "start_time": "2023-08-25T21:57:18.571275",
     "status": "completed"
    },
    "tags": []
   },
   "outputs": [],
   "source": []
  }
 ],
 "metadata": {
  "kernelspec": {
   "display_name": "Python 3",
   "language": "python",
   "name": "python3"
  },
  "language_info": {
   "codemirror_mode": {
    "name": "ipython",
    "version": 3
   },
   "file_extension": ".py",
   "mimetype": "text/x-python",
   "name": "python",
   "nbconvert_exporter": "python",
   "pygments_lexer": "ipython3",
   "version": "3.10.12"
  },
  "papermill": {
   "default_parameters": {},
   "duration": 1556.42711,
   "end_time": "2023-08-25T21:57:21.320297",
   "environment_variables": {},
   "exception": null,
   "input_path": "__notebook__.ipynb",
   "output_path": "__notebook__.ipynb",
   "parameters": {},
   "start_time": "2023-08-25T21:31:24.893187",
   "version": "2.4.0"
  }
 },
 "nbformat": 4,
 "nbformat_minor": 5
}
