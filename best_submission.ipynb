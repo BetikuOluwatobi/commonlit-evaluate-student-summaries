{
 "cells": [
  {
   "cell_type": "code",
   "execution_count": 1,
   "id": "a388a688",
   "metadata": {
    "_cell_guid": "b1076dfc-b9ad-4769-8c92-a6c4dae69d19",
    "_uuid": "8f2839f25d086af736a60e9eeb907d3b93b6e0e5",
    "execution": {
     "iopub.execute_input": "2023-08-28T11:51:40.797653Z",
     "iopub.status.busy": "2023-08-28T11:51:40.797189Z",
     "iopub.status.idle": "2023-08-28T11:51:40.882913Z",
     "shell.execute_reply": "2023-08-28T11:51:40.881377Z"
    },
    "papermill": {
     "duration": 0.099539,
     "end_time": "2023-08-28T11:51:40.885951",
     "exception": false,
     "start_time": "2023-08-28T11:51:40.786412",
     "status": "completed"
    },
    "tags": []
   },
   "outputs": [
    {
     "name": "stdout",
     "output_type": "stream",
     "text": [
      "/kaggle/input/commonlit-evaluate-student-summaries/sample_submission.csv\n",
      "/kaggle/input/commonlit-evaluate-student-summaries/prompts_train.csv\n",
      "/kaggle/input/commonlit-evaluate-student-summaries/summaries_test.csv\n",
      "/kaggle/input/commonlit-evaluate-student-summaries/summaries_train.csv\n",
      "/kaggle/input/commonlit-evaluate-student-summaries/prompts_test.csv\n",
      "/kaggle/input/en-core-web-md/en_core_web_md/meta.json\n",
      "/kaggle/input/en-core-web-md/en_core_web_md/__init__.py\n",
      "/kaggle/input/en-core-web-md/en_core_web_md/en_core_web_md-3.4.1/tokenizer\n",
      "/kaggle/input/en-core-web-md/en_core_web_md/en_core_web_md-3.4.1/LICENSES_SOURCES\n",
      "/kaggle/input/en-core-web-md/en_core_web_md/en_core_web_md-3.4.1/LICENSE\n",
      "/kaggle/input/en-core-web-md/en_core_web_md/en_core_web_md-3.4.1/README.md\n",
      "/kaggle/input/en-core-web-md/en_core_web_md/en_core_web_md-3.4.1/meta.json\n",
      "/kaggle/input/en-core-web-md/en_core_web_md/en_core_web_md-3.4.1/accuracy.json\n",
      "/kaggle/input/en-core-web-md/en_core_web_md/en_core_web_md-3.4.1/config.cfg\n",
      "/kaggle/input/en-core-web-md/en_core_web_md/en_core_web_md-3.4.1/attribute_ruler/patterns\n",
      "/kaggle/input/en-core-web-md/en_core_web_md/en_core_web_md-3.4.1/vocab/vectors\n",
      "/kaggle/input/en-core-web-md/en_core_web_md/en_core_web_md-3.4.1/vocab/key2row\n",
      "/kaggle/input/en-core-web-md/en_core_web_md/en_core_web_md-3.4.1/vocab/vectors.cfg\n",
      "/kaggle/input/en-core-web-md/en_core_web_md/en_core_web_md-3.4.1/vocab/strings.json\n",
      "/kaggle/input/en-core-web-md/en_core_web_md/en_core_web_md-3.4.1/vocab/lookups.bin\n",
      "/kaggle/input/en-core-web-md/en_core_web_md/en_core_web_md-3.4.1/parser/model\n",
      "/kaggle/input/en-core-web-md/en_core_web_md/en_core_web_md-3.4.1/parser/moves\n",
      "/kaggle/input/en-core-web-md/en_core_web_md/en_core_web_md-3.4.1/parser/cfg\n",
      "/kaggle/input/en-core-web-md/en_core_web_md/en_core_web_md-3.4.1/senter/model\n",
      "/kaggle/input/en-core-web-md/en_core_web_md/en_core_web_md-3.4.1/senter/cfg\n",
      "/kaggle/input/en-core-web-md/en_core_web_md/en_core_web_md-3.4.1/ner/model\n",
      "/kaggle/input/en-core-web-md/en_core_web_md/en_core_web_md-3.4.1/ner/moves\n",
      "/kaggle/input/en-core-web-md/en_core_web_md/en_core_web_md-3.4.1/ner/cfg\n",
      "/kaggle/input/en-core-web-md/en_core_web_md/en_core_web_md-3.4.1/lemmatizer/lookups/lookups.bin\n",
      "/kaggle/input/en-core-web-md/en_core_web_md/en_core_web_md-3.4.1/tagger/model\n",
      "/kaggle/input/en-core-web-md/en_core_web_md/en_core_web_md-3.4.1/tagger/cfg\n",
      "/kaggle/input/en-core-web-md/en_core_web_md/en_core_web_md-3.4.1/tok2vec/model\n",
      "/kaggle/input/en-core-web-md/en_core_web_md/en_core_web_md-3.4.1/tok2vec/cfg\n"
     ]
    }
   ],
   "source": [
    "# This Python 3 environment comes with many helpful analytics libraries installed\n",
    "# It is defined by the kaggle/python Docker image: https://github.com/kaggle/docker-python\n",
    "# For example, here's several helpful packages to load\n",
    "\n",
    "import numpy as np # linear algebra\n",
    "import pandas as pd # data processing, CSV file I/O (e.g. pd.read_csv)\n",
    "\n",
    "# Input data files are available in the read-only \"../input/\" directory\n",
    "# For example, running this (by clicking run or pressing Shift+Enter) will list all files under the input directory\n",
    "\n",
    "import os\n",
    "for dirname, _, filenames in os.walk('/kaggle/input'):\n",
    "    for filename in filenames:\n",
    "        print(os.path.join(dirname, filename))\n",
    "\n",
    "# You can write up to 20GB to the current directory (/kaggle/working/) that gets preserved as output when you create a version using \"Save & Run All\" \n",
    "# You can also write temporary files to /kaggle/temp/, but they won't be saved outside of the current session"
   ]
  },
  {
   "cell_type": "code",
   "execution_count": 2,
   "id": "13251aab",
   "metadata": {
    "execution": {
     "iopub.execute_input": "2023-08-28T11:51:40.903827Z",
     "iopub.status.busy": "2023-08-28T11:51:40.903290Z",
     "iopub.status.idle": "2023-08-28T11:52:03.987904Z",
     "shell.execute_reply": "2023-08-28T11:52:03.986734Z"
    },
    "papermill": {
     "duration": 23.097041,
     "end_time": "2023-08-28T11:52:03.990827",
     "exception": false,
     "start_time": "2023-08-28T11:51:40.893786",
     "status": "completed"
    },
    "tags": []
   },
   "outputs": [
    {
     "name": "stderr",
     "output_type": "stream",
     "text": [
      "/opt/conda/lib/python3.10/site-packages/scipy/__init__.py:146: UserWarning: A NumPy version >=1.16.5 and <1.23.0 is required for this version of SciPy (detected version 1.23.5\n",
      "  warnings.warn(f\"A NumPy version >={np_minversion} and <{np_maxversion}\"\n",
      "/opt/conda/lib/python3.10/site-packages/tensorflow_io/python/ops/__init__.py:98: UserWarning: unable to load libtensorflow_io_plugins.so: unable to open file: libtensorflow_io_plugins.so, from paths: ['/opt/conda/lib/python3.10/site-packages/tensorflow_io/python/ops/libtensorflow_io_plugins.so']\n",
      "caused by: ['/opt/conda/lib/python3.10/site-packages/tensorflow_io/python/ops/libtensorflow_io_plugins.so: undefined symbol: _ZN3tsl6StatusC1EN10tensorflow5error4CodeESt17basic_string_viewIcSt11char_traitsIcEENS_14SourceLocationE']\n",
      "  warnings.warn(f\"unable to load libtensorflow_io_plugins.so: {e}\")\n",
      "/opt/conda/lib/python3.10/site-packages/tensorflow_io/python/ops/__init__.py:104: UserWarning: file system plugins are not loaded: unable to open file: libtensorflow_io.so, from paths: ['/opt/conda/lib/python3.10/site-packages/tensorflow_io/python/ops/libtensorflow_io.so']\n",
      "caused by: ['/opt/conda/lib/python3.10/site-packages/tensorflow_io/python/ops/libtensorflow_io.so: undefined symbol: _ZTVN10tensorflow13GcsFileSystemE']\n",
      "  warnings.warn(f\"file system plugins are not loaded: {e}\")\n",
      "/opt/conda/lib/python3.10/site-packages/spacy/util.py:910: UserWarning: [W095] Model 'en_core_web_md' (3.4.1) was trained with spaCy v3.4 and may not be 100% compatible with the current version (3.6.0). If you see errors or degraded performance, download a newer compatible model or retrain your custom model with the current spaCy version. For more details and available updates, run: python -m spacy validate\n",
      "  warnings.warn(warn_msg)\n"
     ]
    }
   ],
   "source": [
    "import numpy as np # linear algebra\n",
    "import pandas as pd # data processing, CSV file I/O (e.g. pd.read_csv)\n",
    "from sklearn.feature_extraction.text import CountVectorizer, TfidfTransformer\n",
    "from sklearn.ensemble import RandomForestRegressor\n",
    "from sklearn.multioutput import MultiOutputRegressor\n",
    "from sklearn.metrics import make_scorer\n",
    "from sklearn.model_selection import train_test_split, GridSearchCV\n",
    "import spacy\n",
    "\n",
    "nlp = spacy.load(\"../input/en-core-web-md/en_core_web_md/en_core_web_md-3.4.1\")"
   ]
  },
  {
   "cell_type": "code",
   "execution_count": 3,
   "id": "2ea122b5",
   "metadata": {
    "execution": {
     "iopub.execute_input": "2023-08-28T11:52:04.011166Z",
     "iopub.status.busy": "2023-08-28T11:52:04.009878Z",
     "iopub.status.idle": "2023-08-28T11:52:04.136031Z",
     "shell.execute_reply": "2023-08-28T11:52:04.134599Z"
    },
    "papermill": {
     "duration": 0.140013,
     "end_time": "2023-08-28T11:52:04.139335",
     "exception": false,
     "start_time": "2023-08-28T11:52:03.999322",
     "status": "completed"
    },
    "tags": []
   },
   "outputs": [],
   "source": [
    "summary_df = pd.read_csv('/kaggle/input/commonlit-evaluate-student-summaries/summaries_train.csv')\n",
    "prompt_df = pd.read_csv('/kaggle/input/commonlit-evaluate-student-summaries/prompts_train.csv')"
   ]
  },
  {
   "cell_type": "code",
   "execution_count": 4,
   "id": "ef27cc79",
   "metadata": {
    "execution": {
     "iopub.execute_input": "2023-08-28T11:52:04.158671Z",
     "iopub.status.busy": "2023-08-28T11:52:04.157874Z",
     "iopub.status.idle": "2023-08-28T11:52:04.410951Z",
     "shell.execute_reply": "2023-08-28T11:52:04.409445Z"
    },
    "papermill": {
     "duration": 0.267054,
     "end_time": "2023-08-28T11:52:04.414527",
     "exception": false,
     "start_time": "2023-08-28T11:52:04.147473",
     "status": "completed"
    },
    "tags": []
   },
   "outputs": [],
   "source": [
    "from string import punctuation as punc\n",
    "from collections import defaultdict\n",
    "import spacy\n",
    "from string import punctuation as punc\n",
    "from tqdm import tqdm\n",
    "from gensim.models import Word2Vec\n",
    "from sklearn.metrics.pairwise import cosine_similarity, euclidean_distances\n",
    "\n",
    "\n",
    "def process_text(text):\n",
    "    doc = nlp(text)\n",
    "    lemmas = []\n",
    "    stops = 0\n",
    "    pos = defaultdict(int,{'VERB': 0, \"NOUN\": 0})\n",
    "    char_length = len(text)\n",
    "    word_vec = []\n",
    "\n",
    "    for token in doc:\n",
    "        if token.is_stop:\n",
    "            stops += 1\n",
    "        else:\n",
    "            if token.pos_ == \"VERB\":\n",
    "                pos[token.pos_] += 1\n",
    "            elif token.pos_ == \"NOUN\":\n",
    "                pos[token.pos_] += 1\n",
    "            lemmas.append(token.lemma_.lower())\n",
    "            word_vec.append(token.vector)\n",
    "\n",
    "    word_vec = np.mean(word_vec, axis=0)\n",
    "    pos = dict(pos)\n",
    "    return ' '.join(lemmas), stops, pos['VERB'], pos['NOUN'], char_length, word_vec\n",
    "\n",
    "def count_punc(text):\n",
    "    return len([p for p in text if p in punc])\n",
    "\n",
    "# Overlap Score\n",
    "def overlap(sample):\n",
    "    answer = set(sample['text'].lower().split())\n",
    "    context = set(sample['prompt_text'].lower().split())\n",
    "    intersection = len(context.intersection(answer))\n",
    "    difference = len(context.difference(answer))\n",
    "    union = len(context.union(answer))\n",
    "    overlap_score = intersection/float(len(context))\n",
    "    jaccard_similarity = intersection/union\n",
    "    return intersection, difference, union, overlap_score, jaccard_similarity\n",
    "\n",
    "def word2vec_similarity(sample, model):\n",
    "    vector1 = np.mean([model.wv[word] for word in sample['context'].split() if word in model.wv.index_to_key], axis=0)\n",
    "    vector2 = np.mean([model.wv[word] for word in sample['lemmas'].split() if word in model.wv.index_to_key], axis=0)\n",
    "    dot_product = vector1.dot(vector2)\n",
    "    similarity = cosine_similarity([vector1], [vector2])[0][0]\n",
    "    distance = euclidean_distances([vector1], [vector2])[0][0]\n",
    "    coef = np.corrcoef([vector1], [vector2])[0][1]\n",
    "    return similarity, distance, dot_product, coef\n",
    "\n",
    "def compute_similarity(row, vectorizer):\n",
    "    full_bags = vectorizer.transform([row['context']])\n",
    "    summary_bags = vectorizer.transform([row['lemmas']])\n",
    "    \n",
    "    cosine = cosine_similarity(full_bags, summary_bags)[0][0]\n",
    "    euclidean = euclidean_distances(full_bags, summary_bags)[0][0]\n",
    "    pearson = np.corrcoef(full_bags.toarray().ravel(), summary_bags.toarray().ravel())[0, 1]\n",
    "    \n",
    "    return pd.Series([cosine, euclidean, pearson])\n",
    "\n"
   ]
  },
  {
   "cell_type": "code",
   "execution_count": 5,
   "id": "74bb7bdf",
   "metadata": {
    "execution": {
     "iopub.execute_input": "2023-08-28T11:52:04.433427Z",
     "iopub.status.busy": "2023-08-28T11:52:04.432902Z",
     "iopub.status.idle": "2023-08-28T11:52:04.453753Z",
     "shell.execute_reply": "2023-08-28T11:52:04.452195Z"
    },
    "papermill": {
     "duration": 0.033998,
     "end_time": "2023-08-28T11:52:04.456724",
     "exception": false,
     "start_time": "2023-08-28T11:52:04.422726",
     "status": "completed"
    },
    "tags": []
   },
   "outputs": [],
   "source": [
    "from sklearn.feature_extraction.text import TfidfVectorizer\n",
    "from sklearn.preprocessing import StandardScaler, MinMaxScaler\n",
    "from sklearn.decomposition import TruncatedSVD,PCA\n",
    "from scipy.sparse import csr_matrix\n",
    "\n",
    "def preprocess_data(summary_df, prompt_df, ngram_range=(1,1)):\n",
    "    train_df = summary_df.merge(right=prompt_df, how='inner', on='prompt_id')\n",
    "\n",
    "    print('processing text data')\n",
    "    global vectorizer, model\n",
    "\n",
    "    # Refactored text processing\n",
    "    def process_texts(column_name):\n",
    "        return zip(*train_df[column_name].apply(process_text).tolist())\n",
    "\n",
    "    word_vec = np.zeros((train_df.shape[0], 300))\n",
    "    context_word_vec = np.zeros((train_df.shape[0], 300))\n",
    "    train_df['intersection'], train_df['difference'], train_df['union'], train_df['overlap_score'], train_df['jaccard_similarity'] = zip(*train_df.apply(overlap, axis=1).tolist())\n",
    "\n",
    "    train_df['lemmas'],train_df['summary_stopwords'],train_df['summary_verbs'], train_df['summary_nouns'], train_df['length_of_summary'], word_vec[:] = process_texts('text')\n",
    "    train_df['context'], train_df['context_stopwords'],train_df['context_verbs'], train_df['context_nouns'], train_df['length_of_context'], context_word_vec[:] = process_texts('prompt_text')\n",
    "    train_df['length_of_summary'] = train_df['text'].str.count(' ')\n",
    "\n",
    "    print('loading word2vec model......')\n",
    "    sentences = train_df.apply(lambda x: x['context'].split() + x['lemmas'].split(), axis=1)\n",
    "    model = Word2Vec(sentences, vector_size=512, window=5, min_count=1, workers=4)\n",
    "\n",
    "    print('processing features.....')\n",
    "    # Process other columns\n",
    "    train_df['summary_punctuation'] = train_df['text'].apply(count_punc)\n",
    "\n",
    "    cols = ['length_of_summary', 'summary_punctuation','summary_stopwords','summary_verbs','summary_nouns',\n",
    "        'intersection','difference','union', 'overlap_score', 'jaccard_similarity',\n",
    "        'context_stopwords','context_verbs','context_nouns','length_of_context','content', 'wording']\n",
    "\n",
    "    print('applying vectorizer.....')\n",
    "    # Vectorization\n",
    "    vectorizer = TfidfVectorizer(sublinear_tf=True,lowercase=True,dtype=np.float32,stop_words='english',ngram_range=ngram_range)\n",
    "    summary_transformed = vectorizer.fit_transform(train_df['lemmas'])\n",
    "\n",
    "    print('decomposing features.......')\n",
    "    word2vec = np.asarray(train_df.apply(word2vec_similarity, axis=1, args=(model,)).to_list(),dtype=np.float32)\n",
    "    # Compute similarity for all rows\n",
    "    similarity_df = train_df.apply(compute_similarity, axis=1, args=(vectorizer,))\n",
    "    similarity = similarity_df.values\n",
    "\n",
    "    stacked_bag = np.hstack((context_word_vec, word_vec, similarity, word2vec, train_df[cols].values))\n",
    "\n",
    "    print('collecting outputs.........')\n",
    "    student_ids = train_df['student_id'].values\n",
    "\n",
    "    return stacked_bag, student_ids"
   ]
  },
  {
   "cell_type": "code",
   "execution_count": 6,
   "id": "0171b283",
   "metadata": {
    "execution": {
     "iopub.execute_input": "2023-08-28T11:52:04.477514Z",
     "iopub.status.busy": "2023-08-28T11:52:04.476652Z",
     "iopub.status.idle": "2023-08-28T12:14:43.535749Z",
     "shell.execute_reply": "2023-08-28T12:14:43.534552Z"
    },
    "papermill": {
     "duration": 1359.07955,
     "end_time": "2023-08-28T12:14:43.546392",
     "exception": false,
     "start_time": "2023-08-28T11:52:04.466842",
     "status": "completed"
    },
    "tags": []
   },
   "outputs": [
    {
     "name": "stdout",
     "output_type": "stream",
     "text": [
      "processing text data\n",
      "loading word2vec model......\n",
      "processing features.....\n",
      "applying vectorizer.....\n",
      "decomposing features.......\n",
      "collecting outputs.........\n",
      "Preprocessed function executed in: 1359.05 seconds\n"
     ]
    }
   ],
   "source": [
    "from sklearn.preprocessing import StandardScaler\n",
    "from sklearn.decomposition import PCA\n",
    "import time\n",
    "\n",
    "start_time = time.time()\n",
    "\n",
    "stacked_bag, student_ids = preprocess_data(summary_df,prompt_df,ngram_range=(1,1))\n",
    "\n",
    "end_time = time.time()\n",
    "elapsed_time = end_time - start_time\n",
    "\n",
    "print(f\"Preprocessed function executed in: {elapsed_time:.2f} seconds\")"
   ]
  },
  {
   "cell_type": "code",
   "execution_count": 7,
   "id": "ce72240a",
   "metadata": {
    "execution": {
     "iopub.execute_input": "2023-08-28T12:14:43.565123Z",
     "iopub.status.busy": "2023-08-28T12:14:43.564620Z",
     "iopub.status.idle": "2023-08-28T12:14:43.584974Z",
     "shell.execute_reply": "2023-08-28T12:14:43.583898Z"
    },
    "papermill": {
     "duration": 0.033212,
     "end_time": "2023-08-28T12:14:43.587871",
     "exception": false,
     "start_time": "2023-08-28T12:14:43.554659",
     "status": "completed"
    },
    "tags": []
   },
   "outputs": [],
   "source": [
    "X_train,X_test,y_train,y_test = train_test_split(stacked_bag[:,:-2] ,stacked_bag[:,-2:],test_size=0.1,shuffle=True,random_state=11)"
   ]
  },
  {
   "cell_type": "code",
   "execution_count": 8,
   "id": "4f02bb4d",
   "metadata": {
    "execution": {
     "iopub.execute_input": "2023-08-28T12:14:43.607381Z",
     "iopub.status.busy": "2023-08-28T12:14:43.606869Z",
     "iopub.status.idle": "2023-08-28T12:14:43.612777Z",
     "shell.execute_reply": "2023-08-28T12:14:43.611656Z"
    },
    "papermill": {
     "duration": 0.019006,
     "end_time": "2023-08-28T12:14:43.615511",
     "exception": false,
     "start_time": "2023-08-28T12:14:43.596505",
     "status": "completed"
    },
    "tags": []
   },
   "outputs": [
    {
     "name": "stdout",
     "output_type": "stream",
     "text": [
      "done\n"
     ]
    }
   ],
   "source": [
    "print('done')"
   ]
  },
  {
   "cell_type": "code",
   "execution_count": 9,
   "id": "3b86fdbb",
   "metadata": {
    "execution": {
     "iopub.execute_input": "2023-08-28T12:14:43.635896Z",
     "iopub.status.busy": "2023-08-28T12:14:43.635415Z",
     "iopub.status.idle": "2023-08-28T12:14:43.643480Z",
     "shell.execute_reply": "2023-08-28T12:14:43.642054Z"
    },
    "papermill": {
     "duration": 0.021331,
     "end_time": "2023-08-28T12:14:43.646224",
     "exception": false,
     "start_time": "2023-08-28T12:14:43.624893",
     "status": "completed"
    },
    "tags": []
   },
   "outputs": [],
   "source": [
    "def mcrmse(y_true, y_pred):\n",
    "    return np.mean(np.sqrt(np.mean((y_true - y_pred)**2, axis=0)))\n",
    "\n",
    "mcrmse_scorer = make_scorer(mcrmse, greater_is_better=False)\n",
    "best_params = {'max_depth': 11,'max_features': 0.6,'min_samples_split': 10,'n_estimators': 400}\n",
    "model_rf = MultiOutputRegressor(RandomForestRegressor(**best_params,n_jobs=-1, random_state=42),n_jobs=-1)"
   ]
  },
  {
   "cell_type": "code",
   "execution_count": 10,
   "id": "fb279f2d",
   "metadata": {
    "execution": {
     "iopub.execute_input": "2023-08-28T12:14:43.666950Z",
     "iopub.status.busy": "2023-08-28T12:14:43.665725Z",
     "iopub.status.idle": "2023-08-28T12:19:22.631036Z",
     "shell.execute_reply": "2023-08-28T12:19:22.629458Z"
    },
    "papermill": {
     "duration": 278.987819,
     "end_time": "2023-08-28T12:19:22.642924",
     "exception": false,
     "start_time": "2023-08-28T12:14:43.655105",
     "status": "completed"
    },
    "tags": []
   },
   "outputs": [
    {
     "name": "stderr",
     "output_type": "stream",
     "text": [
      "/opt/conda/lib/python3.10/site-packages/scipy/__init__.py:146: UserWarning: A NumPy version >=1.16.5 and <1.23.0 is required for this version of SciPy (detected version 1.23.5\n",
      "  warnings.warn(f\"A NumPy version >={np_minversion} and <{np_maxversion}\"\n",
      "/opt/conda/lib/python3.10/site-packages/scipy/__init__.py:146: UserWarning: A NumPy version >=1.16.5 and <1.23.0 is required for this version of SciPy (detected version 1.23.5\n",
      "  warnings.warn(f\"A NumPy version >={np_minversion} and <{np_maxversion}\"\n"
     ]
    },
    {
     "data": {
      "text/html": [
       "<style>#sk-container-id-1 {color: black;background-color: white;}#sk-container-id-1 pre{padding: 0;}#sk-container-id-1 div.sk-toggleable {background-color: white;}#sk-container-id-1 label.sk-toggleable__label {cursor: pointer;display: block;width: 100%;margin-bottom: 0;padding: 0.3em;box-sizing: border-box;text-align: center;}#sk-container-id-1 label.sk-toggleable__label-arrow:before {content: \"▸\";float: left;margin-right: 0.25em;color: #696969;}#sk-container-id-1 label.sk-toggleable__label-arrow:hover:before {color: black;}#sk-container-id-1 div.sk-estimator:hover label.sk-toggleable__label-arrow:before {color: black;}#sk-container-id-1 div.sk-toggleable__content {max-height: 0;max-width: 0;overflow: hidden;text-align: left;background-color: #f0f8ff;}#sk-container-id-1 div.sk-toggleable__content pre {margin: 0.2em;color: black;border-radius: 0.25em;background-color: #f0f8ff;}#sk-container-id-1 input.sk-toggleable__control:checked~div.sk-toggleable__content {max-height: 200px;max-width: 100%;overflow: auto;}#sk-container-id-1 input.sk-toggleable__control:checked~label.sk-toggleable__label-arrow:before {content: \"▾\";}#sk-container-id-1 div.sk-estimator input.sk-toggleable__control:checked~label.sk-toggleable__label {background-color: #d4ebff;}#sk-container-id-1 div.sk-label input.sk-toggleable__control:checked~label.sk-toggleable__label {background-color: #d4ebff;}#sk-container-id-1 input.sk-hidden--visually {border: 0;clip: rect(1px 1px 1px 1px);clip: rect(1px, 1px, 1px, 1px);height: 1px;margin: -1px;overflow: hidden;padding: 0;position: absolute;width: 1px;}#sk-container-id-1 div.sk-estimator {font-family: monospace;background-color: #f0f8ff;border: 1px dotted black;border-radius: 0.25em;box-sizing: border-box;margin-bottom: 0.5em;}#sk-container-id-1 div.sk-estimator:hover {background-color: #d4ebff;}#sk-container-id-1 div.sk-parallel-item::after {content: \"\";width: 100%;border-bottom: 1px solid gray;flex-grow: 1;}#sk-container-id-1 div.sk-label:hover label.sk-toggleable__label {background-color: #d4ebff;}#sk-container-id-1 div.sk-serial::before {content: \"\";position: absolute;border-left: 1px solid gray;box-sizing: border-box;top: 0;bottom: 0;left: 50%;z-index: 0;}#sk-container-id-1 div.sk-serial {display: flex;flex-direction: column;align-items: center;background-color: white;padding-right: 0.2em;padding-left: 0.2em;position: relative;}#sk-container-id-1 div.sk-item {position: relative;z-index: 1;}#sk-container-id-1 div.sk-parallel {display: flex;align-items: stretch;justify-content: center;background-color: white;position: relative;}#sk-container-id-1 div.sk-item::before, #sk-container-id-1 div.sk-parallel-item::before {content: \"\";position: absolute;border-left: 1px solid gray;box-sizing: border-box;top: 0;bottom: 0;left: 50%;z-index: -1;}#sk-container-id-1 div.sk-parallel-item {display: flex;flex-direction: column;z-index: 1;position: relative;background-color: white;}#sk-container-id-1 div.sk-parallel-item:first-child::after {align-self: flex-end;width: 50%;}#sk-container-id-1 div.sk-parallel-item:last-child::after {align-self: flex-start;width: 50%;}#sk-container-id-1 div.sk-parallel-item:only-child::after {width: 0;}#sk-container-id-1 div.sk-dashed-wrapped {border: 1px dashed gray;margin: 0 0.4em 0.5em 0.4em;box-sizing: border-box;padding-bottom: 0.4em;background-color: white;}#sk-container-id-1 div.sk-label label {font-family: monospace;font-weight: bold;display: inline-block;line-height: 1.2em;}#sk-container-id-1 div.sk-label-container {text-align: center;}#sk-container-id-1 div.sk-container {/* jupyter's `normalize.less` sets `[hidden] { display: none; }` but bootstrap.min.css set `[hidden] { display: none !important; }` so we also need the `!important` here to be able to override the default hidden behavior on the sphinx rendered scikit-learn.org. See: https://github.com/scikit-learn/scikit-learn/issues/21755 */display: inline-block !important;position: relative;}#sk-container-id-1 div.sk-text-repr-fallback {display: none;}</style><div id=\"sk-container-id-1\" class=\"sk-top-container\"><div class=\"sk-text-repr-fallback\"><pre>MultiOutputRegressor(estimator=RandomForestRegressor(max_depth=11,\n",
       "                                                     max_features=0.6,\n",
       "                                                     min_samples_split=10,\n",
       "                                                     n_estimators=400,\n",
       "                                                     n_jobs=-1,\n",
       "                                                     random_state=42),\n",
       "                     n_jobs=-1)</pre><b>In a Jupyter environment, please rerun this cell to show the HTML representation or trust the notebook. <br />On GitHub, the HTML representation is unable to render, please try loading this page with nbviewer.org.</b></div><div class=\"sk-container\" hidden><div class=\"sk-item sk-dashed-wrapped\"><div class=\"sk-label-container\"><div class=\"sk-label sk-toggleable\"><input class=\"sk-toggleable__control sk-hidden--visually\" id=\"sk-estimator-id-1\" type=\"checkbox\" ><label for=\"sk-estimator-id-1\" class=\"sk-toggleable__label sk-toggleable__label-arrow\">MultiOutputRegressor</label><div class=\"sk-toggleable__content\"><pre>MultiOutputRegressor(estimator=RandomForestRegressor(max_depth=11,\n",
       "                                                     max_features=0.6,\n",
       "                                                     min_samples_split=10,\n",
       "                                                     n_estimators=400,\n",
       "                                                     n_jobs=-1,\n",
       "                                                     random_state=42),\n",
       "                     n_jobs=-1)</pre></div></div></div><div class=\"sk-parallel\"><div class=\"sk-parallel-item\"><div class=\"sk-item\"><div class=\"sk-label-container\"><div class=\"sk-label sk-toggleable\"><input class=\"sk-toggleable__control sk-hidden--visually\" id=\"sk-estimator-id-2\" type=\"checkbox\" ><label for=\"sk-estimator-id-2\" class=\"sk-toggleable__label sk-toggleable__label-arrow\">estimator: RandomForestRegressor</label><div class=\"sk-toggleable__content\"><pre>RandomForestRegressor(max_depth=11, max_features=0.6, min_samples_split=10,\n",
       "                      n_estimators=400, n_jobs=-1, random_state=42)</pre></div></div></div><div class=\"sk-serial\"><div class=\"sk-item\"><div class=\"sk-estimator sk-toggleable\"><input class=\"sk-toggleable__control sk-hidden--visually\" id=\"sk-estimator-id-3\" type=\"checkbox\" ><label for=\"sk-estimator-id-3\" class=\"sk-toggleable__label sk-toggleable__label-arrow\">RandomForestRegressor</label><div class=\"sk-toggleable__content\"><pre>RandomForestRegressor(max_depth=11, max_features=0.6, min_samples_split=10,\n",
       "                      n_estimators=400, n_jobs=-1, random_state=42)</pre></div></div></div></div></div></div></div></div></div></div>"
      ],
      "text/plain": [
       "MultiOutputRegressor(estimator=RandomForestRegressor(max_depth=11,\n",
       "                                                     max_features=0.6,\n",
       "                                                     min_samples_split=10,\n",
       "                                                     n_estimators=400,\n",
       "                                                     n_jobs=-1,\n",
       "                                                     random_state=42),\n",
       "                     n_jobs=-1)"
      ]
     },
     "execution_count": 10,
     "metadata": {},
     "output_type": "execute_result"
    }
   ],
   "source": [
    "model_rf.fit(X_train,y_train)"
   ]
  },
  {
   "cell_type": "code",
   "execution_count": 11,
   "id": "6c18aec6",
   "metadata": {
    "execution": {
     "iopub.execute_input": "2023-08-28T12:19:22.664053Z",
     "iopub.status.busy": "2023-08-28T12:19:22.663551Z",
     "iopub.status.idle": "2023-08-28T12:19:23.854131Z",
     "shell.execute_reply": "2023-08-28T12:19:23.852830Z"
    },
    "papermill": {
     "duration": 1.205199,
     "end_time": "2023-08-28T12:19:23.857224",
     "exception": false,
     "start_time": "2023-08-28T12:19:22.652025",
     "status": "completed"
    },
    "tags": []
   },
   "outputs": [
    {
     "name": "stderr",
     "output_type": "stream",
     "text": [
      "/opt/conda/lib/python3.10/site-packages/scipy/__init__.py:146: UserWarning: A NumPy version >=1.16.5 and <1.23.0 is required for this version of SciPy (detected version 1.23.5\n",
      "  warnings.warn(f\"A NumPy version >={np_minversion} and <{np_maxversion}\"\n",
      "/opt/conda/lib/python3.10/site-packages/scipy/__init__.py:146: UserWarning: A NumPy version >=1.16.5 and <1.23.0 is required for this version of SciPy (detected version 1.23.5\n",
      "  warnings.warn(f\"A NumPy version >={np_minversion} and <{np_maxversion}\"\n"
     ]
    }
   ],
   "source": [
    "y_preds = model_rf.predict(X_test)"
   ]
  },
  {
   "cell_type": "code",
   "execution_count": 12,
   "id": "ce185153",
   "metadata": {
    "execution": {
     "iopub.execute_input": "2023-08-28T12:19:23.878637Z",
     "iopub.status.busy": "2023-08-28T12:19:23.877505Z",
     "iopub.status.idle": "2023-08-28T12:19:23.886091Z",
     "shell.execute_reply": "2023-08-28T12:19:23.885038Z"
    },
    "papermill": {
     "duration": 0.022388,
     "end_time": "2023-08-28T12:19:23.888820",
     "exception": false,
     "start_time": "2023-08-28T12:19:23.866432",
     "status": "completed"
    },
    "tags": []
   },
   "outputs": [
    {
     "data": {
      "text/plain": [
       "0.5085099749952815"
      ]
     },
     "execution_count": 12,
     "metadata": {},
     "output_type": "execute_result"
    }
   ],
   "source": [
    "mcrmse(y_test,y_preds)"
   ]
  },
  {
   "cell_type": "code",
   "execution_count": 13,
   "id": "e56aa0e7",
   "metadata": {
    "execution": {
     "iopub.execute_input": "2023-08-28T12:19:23.910294Z",
     "iopub.status.busy": "2023-08-28T12:19:23.909397Z",
     "iopub.status.idle": "2023-08-28T12:19:23.917132Z",
     "shell.execute_reply": "2023-08-28T12:19:23.916021Z"
    },
    "papermill": {
     "duration": 0.021505,
     "end_time": "2023-08-28T12:19:23.919607",
     "exception": false,
     "start_time": "2023-08-28T12:19:23.898102",
     "status": "completed"
    },
    "tags": []
   },
   "outputs": [
    {
     "data": {
      "text/plain": [
       "(6448, 621)"
      ]
     },
     "execution_count": 13,
     "metadata": {},
     "output_type": "execute_result"
    }
   ],
   "source": [
    "X_train.shape"
   ]
  },
  {
   "cell_type": "code",
   "execution_count": 14,
   "id": "75761168",
   "metadata": {
    "execution": {
     "iopub.execute_input": "2023-08-28T12:19:23.940855Z",
     "iopub.status.busy": "2023-08-28T12:19:23.939968Z",
     "iopub.status.idle": "2023-08-28T12:19:23.955783Z",
     "shell.execute_reply": "2023-08-28T12:19:23.954588Z"
    },
    "papermill": {
     "duration": 0.030087,
     "end_time": "2023-08-28T12:19:23.958928",
     "exception": false,
     "start_time": "2023-08-28T12:19:23.928841",
     "status": "completed"
    },
    "tags": []
   },
   "outputs": [],
   "source": [
    "def preprocess_data(summary_df, prompt_df, ngram_range=(1,1),model=model, vectorizer=vectorizer):\n",
    "    train_df = summary_df.merge(right=prompt_df, how='inner', on='prompt_id')\n",
    "\n",
    "    print('processing text data')\n",
    "\n",
    "    # Refactored text processing\n",
    "    def process_texts(column_name):\n",
    "        return zip(*train_df[column_name].apply(process_text).tolist())\n",
    "\n",
    "    word_vec = np.zeros((train_df.shape[0], 300))\n",
    "    context_word_vec = np.zeros((train_df.shape[0], 300))\n",
    "    train_df['intersection'], train_df['difference'], train_df['union'], train_df['overlap_score'], train_df['jaccard_similarity'] = zip(*train_df.apply(overlap, axis=1).tolist())\n",
    "\n",
    "    train_df['lemmas'],train_df['summary_stopwords'],train_df['summary_verbs'], train_df['summary_nouns'], train_df['length_of_summary'], word_vec[:] = process_texts('text')\n",
    "    train_df['context'], train_df['context_stopwords'],train_df['context_verbs'], train_df['context_nouns'], train_df['length_of_context'], context_word_vec[:] = process_texts('prompt_text')\n",
    "    train_df['length_of_summary'] = train_df['text'].str.count(' ')\n",
    "\n",
    "    print('processing features.....')\n",
    "    # Process other columns\n",
    "    train_df['summary_punctuation'] = train_df['text'].apply(count_punc)\n",
    "\n",
    "    cols = ['length_of_summary', 'summary_punctuation','summary_stopwords','summary_verbs','summary_nouns',\n",
    "        'intersection','difference','union', 'overlap_score', 'jaccard_similarity',\n",
    "        'context_stopwords','context_verbs','context_nouns','length_of_context']\n",
    "\n",
    "    print('applying vectorizer.....')\n",
    "    word2vec = np.asarray(train_df.apply(word2vec_similarity, axis=1, args=(model,)).to_list(),dtype=np.float32)\n",
    "    similarity_df = train_df.apply(compute_similarity, axis=1, args=(vectorizer,))\n",
    "    similarity = similarity_df.values\n",
    "\n",
    "    stacked_bag = np.hstack((context_word_vec, word_vec, similarity, word2vec, train_df[cols].values))\n",
    "\n",
    "    print('collecting outputs.........')\n",
    "    student_ids = train_df['student_id'].values\n",
    "\n",
    "    return stacked_bag, student_ids"
   ]
  },
  {
   "cell_type": "code",
   "execution_count": 15,
   "id": "8aaa2fdd",
   "metadata": {
    "execution": {
     "iopub.execute_input": "2023-08-28T12:19:23.980951Z",
     "iopub.status.busy": "2023-08-28T12:19:23.979948Z",
     "iopub.status.idle": "2023-08-28T12:19:23.999094Z",
     "shell.execute_reply": "2023-08-28T12:19:23.997930Z"
    },
    "papermill": {
     "duration": 0.033364,
     "end_time": "2023-08-28T12:19:24.002058",
     "exception": false,
     "start_time": "2023-08-28T12:19:23.968694",
     "status": "completed"
    },
    "tags": []
   },
   "outputs": [],
   "source": [
    "test_summary = pd.read_csv('/kaggle/input/commonlit-evaluate-student-summaries/summaries_test.csv')\n",
    "test_prompts = pd.read_csv('/kaggle/input/commonlit-evaluate-student-summaries/prompts_test.csv')"
   ]
  },
  {
   "cell_type": "code",
   "execution_count": 16,
   "id": "4a83ea27",
   "metadata": {
    "execution": {
     "iopub.execute_input": "2023-08-28T12:19:24.025416Z",
     "iopub.status.busy": "2023-08-28T12:19:24.024655Z",
     "iopub.status.idle": "2023-08-28T12:19:24.145706Z",
     "shell.execute_reply": "2023-08-28T12:19:24.144413Z"
    },
    "papermill": {
     "duration": 0.135686,
     "end_time": "2023-08-28T12:19:24.148619",
     "exception": false,
     "start_time": "2023-08-28T12:19:24.012933",
     "status": "completed"
    },
    "tags": []
   },
   "outputs": [
    {
     "name": "stdout",
     "output_type": "stream",
     "text": [
      "processing text data\n",
      "processing features.....\n",
      "applying vectorizer.....\n",
      "collecting outputs.........\n"
     ]
    }
   ],
   "source": [
    "test_df,ids = preprocess_data(test_summary, test_prompts)"
   ]
  },
  {
   "cell_type": "code",
   "execution_count": 17,
   "id": "505d22a8",
   "metadata": {
    "execution": {
     "iopub.execute_input": "2023-08-28T12:19:24.170594Z",
     "iopub.status.busy": "2023-08-28T12:19:24.169485Z",
     "iopub.status.idle": "2023-08-28T12:19:24.643185Z",
     "shell.execute_reply": "2023-08-28T12:19:24.641967Z"
    },
    "papermill": {
     "duration": 0.48915,
     "end_time": "2023-08-28T12:19:24.647345",
     "exception": false,
     "start_time": "2023-08-28T12:19:24.158195",
     "status": "completed"
    },
    "tags": []
   },
   "outputs": [],
   "source": [
    "y_preds = model_rf.predict(test_df)"
   ]
  },
  {
   "cell_type": "code",
   "execution_count": 18,
   "id": "b3837ae6",
   "metadata": {
    "execution": {
     "iopub.execute_input": "2023-08-28T12:19:24.673013Z",
     "iopub.status.busy": "2023-08-28T12:19:24.672516Z",
     "iopub.status.idle": "2023-08-28T12:19:24.681684Z",
     "shell.execute_reply": "2023-08-28T12:19:24.680438Z"
    },
    "papermill": {
     "duration": 0.023356,
     "end_time": "2023-08-28T12:19:24.684260",
     "exception": false,
     "start_time": "2023-08-28T12:19:24.660904",
     "status": "completed"
    },
    "tags": []
   },
   "outputs": [],
   "source": [
    "df_test = pd.DataFrame(y_preds,columns=['content','wording'],index=ids).reset_index()\n",
    "df_test = df_test.rename({'index':'student_id'},axis=1)"
   ]
  },
  {
   "cell_type": "code",
   "execution_count": 19,
   "id": "76d0c2d3",
   "metadata": {
    "execution": {
     "iopub.execute_input": "2023-08-28T12:19:24.705397Z",
     "iopub.status.busy": "2023-08-28T12:19:24.704887Z",
     "iopub.status.idle": "2023-08-28T12:19:24.720134Z",
     "shell.execute_reply": "2023-08-28T12:19:24.719069Z"
    },
    "papermill": {
     "duration": 0.029015,
     "end_time": "2023-08-28T12:19:24.722966",
     "exception": false,
     "start_time": "2023-08-28T12:19:24.693951",
     "status": "completed"
    },
    "tags": []
   },
   "outputs": [],
   "source": [
    "def is_valid_float(x):\n",
    "    return isinstance(x, float) and x == x  # This checks that x is not NaN since NaN != NaN in Python.\n",
    "\n",
    "cols_to_check = ['wording', 'content']\n",
    "df_test[cols_to_check] = df_test[cols_to_check].applymap(lambda x: x if is_valid_float(x) else 0.0)\n",
    "\n",
    "df_test.to_csv(\"submission.csv\", index=False)"
   ]
  }
 ],
 "metadata": {
  "kernelspec": {
   "display_name": "Python 3",
   "language": "python",
   "name": "python3"
  },
  "language_info": {
   "codemirror_mode": {
    "name": "ipython",
    "version": 3
   },
   "file_extension": ".py",
   "mimetype": "text/x-python",
   "name": "python",
   "nbconvert_exporter": "python",
   "pygments_lexer": "ipython3",
   "version": "3.10.12"
  },
  "papermill": {
   "default_parameters": {},
   "duration": 1681.291024,
   "end_time": "2023-08-28T12:19:27.460517",
   "environment_variables": {},
   "exception": null,
   "input_path": "__notebook__.ipynb",
   "output_path": "__notebook__.ipynb",
   "parameters": {},
   "start_time": "2023-08-28T11:51:26.169493",
   "version": "2.4.0"
  }
 },
 "nbformat": 4,
 "nbformat_minor": 5
}
