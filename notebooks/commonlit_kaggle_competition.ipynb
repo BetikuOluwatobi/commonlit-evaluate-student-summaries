{
  "cells": [
    {
      "cell_type": "markdown",
      "metadata": {
        "id": "view-in-github",
        "colab_type": "text"
      },
      "source": [
        "<a href=\"https://colab.research.google.com/github/BetikuOluwatobi/commonlit-evaluate-student-summaries/blob/main/commonlit_kaggle_competition.ipynb\" target=\"_parent\"><img src=\"https://colab.research.google.com/assets/colab-badge.svg\" alt=\"Open In Colab\"/></a>"
      ]
    },
    {
      "cell_type": "code",
      "execution_count": null,
      "metadata": {
        "colab": {
          "base_uri": "https://localhost:8080/"
        },
        "id": "_4VOq3kkPNIz",
        "outputId": "48b9c834-ecad-4330-b41e-7482dad84e74"
      },
      "outputs": [
        {
          "output_type": "stream",
          "name": "stdout",
          "text": [
            "Sun Oct  8 16:10:22 2023       \n",
            "+-----------------------------------------------------------------------------+\n",
            "| NVIDIA-SMI 525.105.17   Driver Version: 525.105.17   CUDA Version: 12.0     |\n",
            "|-------------------------------+----------------------+----------------------+\n",
            "| GPU  Name        Persistence-M| Bus-Id        Disp.A | Volatile Uncorr. ECC |\n",
            "| Fan  Temp  Perf  Pwr:Usage/Cap|         Memory-Usage | GPU-Util  Compute M. |\n",
            "|                               |                      |               MIG M. |\n",
            "|===============================+======================+======================|\n",
            "|   0  Tesla T4            Off  | 00000000:00:04.0 Off |                    0 |\n",
            "| N/A   65C    P8    11W /  70W |      0MiB / 15360MiB |      0%      Default |\n",
            "|                               |                      |                  N/A |\n",
            "+-------------------------------+----------------------+----------------------+\n",
            "                                                                               \n",
            "+-----------------------------------------------------------------------------+\n",
            "| Processes:                                                                  |\n",
            "|  GPU   GI   CI        PID   Type   Process name                  GPU Memory |\n",
            "|        ID   ID                                                   Usage      |\n",
            "|=============================================================================|\n",
            "|  No running processes found                                                 |\n",
            "+-----------------------------------------------------------------------------+\n"
          ]
        }
      ],
      "source": [
        "!nvidia-smi"
      ]
    },
    {
      "cell_type": "code",
      "execution_count": null,
      "metadata": {
        "colab": {
          "base_uri": "https://localhost:8080/"
        },
        "id": "Rscb7MHuCh0D",
        "outputId": "b8a5c002-a477-4604-fdb3-5d1b7547e515"
      },
      "outputs": [
        {
          "output_type": "stream",
          "name": "stdout",
          "text": [
            "Requirement already satisfied: spacy in /usr/local/lib/python3.10/dist-packages (3.6.1)\n",
            "Requirement already satisfied: spacy-legacy<3.1.0,>=3.0.11 in /usr/local/lib/python3.10/dist-packages (from spacy) (3.0.12)\n",
            "Requirement already satisfied: spacy-loggers<2.0.0,>=1.0.0 in /usr/local/lib/python3.10/dist-packages (from spacy) (1.0.5)\n",
            "Requirement already satisfied: murmurhash<1.1.0,>=0.28.0 in /usr/local/lib/python3.10/dist-packages (from spacy) (1.0.10)\n",
            "Requirement already satisfied: cymem<2.1.0,>=2.0.2 in /usr/local/lib/python3.10/dist-packages (from spacy) (2.0.8)\n",
            "Requirement already satisfied: preshed<3.1.0,>=3.0.2 in /usr/local/lib/python3.10/dist-packages (from spacy) (3.0.9)\n",
            "Requirement already satisfied: thinc<8.2.0,>=8.1.8 in /usr/local/lib/python3.10/dist-packages (from spacy) (8.1.12)\n",
            "Requirement already satisfied: wasabi<1.2.0,>=0.9.1 in /usr/local/lib/python3.10/dist-packages (from spacy) (1.1.2)\n",
            "Requirement already satisfied: srsly<3.0.0,>=2.4.3 in /usr/local/lib/python3.10/dist-packages (from spacy) (2.4.8)\n",
            "Requirement already satisfied: catalogue<2.1.0,>=2.0.6 in /usr/local/lib/python3.10/dist-packages (from spacy) (2.0.10)\n",
            "Requirement already satisfied: typer<0.10.0,>=0.3.0 in /usr/local/lib/python3.10/dist-packages (from spacy) (0.9.0)\n",
            "Requirement already satisfied: pathy>=0.10.0 in /usr/local/lib/python3.10/dist-packages (from spacy) (0.10.2)\n",
            "Requirement already satisfied: smart-open<7.0.0,>=5.2.1 in /usr/local/lib/python3.10/dist-packages (from spacy) (6.4.0)\n",
            "Requirement already satisfied: tqdm<5.0.0,>=4.38.0 in /usr/local/lib/python3.10/dist-packages (from spacy) (4.66.1)\n",
            "Requirement already satisfied: numpy>=1.15.0 in /usr/local/lib/python3.10/dist-packages (from spacy) (1.23.5)\n",
            "Requirement already satisfied: requests<3.0.0,>=2.13.0 in /usr/local/lib/python3.10/dist-packages (from spacy) (2.31.0)\n",
            "Requirement already satisfied: pydantic!=1.8,!=1.8.1,<3.0.0,>=1.7.4 in /usr/local/lib/python3.10/dist-packages (from spacy) (1.10.13)\n",
            "Requirement already satisfied: jinja2 in /usr/local/lib/python3.10/dist-packages (from spacy) (3.1.2)\n",
            "Requirement already satisfied: setuptools in /usr/local/lib/python3.10/dist-packages (from spacy) (67.7.2)\n",
            "Requirement already satisfied: packaging>=20.0 in /usr/local/lib/python3.10/dist-packages (from spacy) (23.2)\n",
            "Requirement already satisfied: langcodes<4.0.0,>=3.2.0 in /usr/local/lib/python3.10/dist-packages (from spacy) (3.3.0)\n",
            "Requirement already satisfied: typing-extensions>=4.2.0 in /usr/local/lib/python3.10/dist-packages (from pydantic!=1.8,!=1.8.1,<3.0.0,>=1.7.4->spacy) (4.5.0)\n",
            "Requirement already satisfied: charset-normalizer<4,>=2 in /usr/local/lib/python3.10/dist-packages (from requests<3.0.0,>=2.13.0->spacy) (3.3.0)\n",
            "Requirement already satisfied: idna<4,>=2.5 in /usr/local/lib/python3.10/dist-packages (from requests<3.0.0,>=2.13.0->spacy) (3.4)\n",
            "Requirement already satisfied: urllib3<3,>=1.21.1 in /usr/local/lib/python3.10/dist-packages (from requests<3.0.0,>=2.13.0->spacy) (2.0.6)\n",
            "Requirement already satisfied: certifi>=2017.4.17 in /usr/local/lib/python3.10/dist-packages (from requests<3.0.0,>=2.13.0->spacy) (2023.7.22)\n",
            "Requirement already satisfied: blis<0.8.0,>=0.7.8 in /usr/local/lib/python3.10/dist-packages (from thinc<8.2.0,>=8.1.8->spacy) (0.7.11)\n",
            "Requirement already satisfied: confection<1.0.0,>=0.0.1 in /usr/local/lib/python3.10/dist-packages (from thinc<8.2.0,>=8.1.8->spacy) (0.1.3)\n",
            "Requirement already satisfied: click<9.0.0,>=7.1.1 in /usr/local/lib/python3.10/dist-packages (from typer<0.10.0,>=0.3.0->spacy) (8.1.7)\n",
            "Requirement already satisfied: MarkupSafe>=2.0 in /usr/local/lib/python3.10/dist-packages (from jinja2->spacy) (2.1.3)\n"
          ]
        }
      ],
      "source": [
        "!pip install spacy"
      ]
    },
    {
      "cell_type": "code",
      "execution_count": null,
      "metadata": {
        "colab": {
          "base_uri": "https://localhost:8080/"
        },
        "id": "fetO1MopCkO-",
        "outputId": "bc1389d1-fbdb-4f27-e447-2b6f4b1c0813"
      },
      "outputs": [
        {
          "output_type": "stream",
          "name": "stdout",
          "text": [
            "2023-10-08 16:10:32.234134: I tensorflow/core/platform/cpu_feature_guard.cc:182] This TensorFlow binary is optimized to use available CPU instructions in performance-critical operations.\n",
            "To enable the following instructions: AVX2 FMA, in other operations, rebuild TensorFlow with the appropriate compiler flags.\n",
            "2023-10-08 16:10:33.219399: W tensorflow/compiler/tf2tensorrt/utils/py_utils.cc:38] TF-TRT Warning: Could not find TensorRT\n",
            "2023-10-08 16:10:34.570068: I tensorflow/compiler/xla/stream_executor/cuda/cuda_gpu_executor.cc:995] successful NUMA node read from SysFS had negative value (-1), but there must be at least one NUMA node, so returning NUMA node zero. See more at https://github.com/torvalds/linux/blob/v6.0/Documentation/ABI/testing/sysfs-bus-pci#L344-L355\n",
            "2023-10-08 16:10:34.570557: I tensorflow/compiler/xla/stream_executor/cuda/cuda_gpu_executor.cc:995] successful NUMA node read from SysFS had negative value (-1), but there must be at least one NUMA node, so returning NUMA node zero. See more at https://github.com/torvalds/linux/blob/v6.0/Documentation/ABI/testing/sysfs-bus-pci#L344-L355\n",
            "2023-10-08 16:10:34.570730: I tensorflow/compiler/xla/stream_executor/cuda/cuda_gpu_executor.cc:995] successful NUMA node read from SysFS had negative value (-1), but there must be at least one NUMA node, so returning NUMA node zero. See more at https://github.com/torvalds/linux/blob/v6.0/Documentation/ABI/testing/sysfs-bus-pci#L344-L355\n",
            "Collecting en-core-web-md==3.6.0\n",
            "  Downloading https://github.com/explosion/spacy-models/releases/download/en_core_web_md-3.6.0/en_core_web_md-3.6.0-py3-none-any.whl (42.8 MB)\n",
            "\u001b[2K     \u001b[90m━━━━━━━━━━━━━━━━━━━━━━━━━━━━━━━━━━━━━━━━\u001b[0m \u001b[32m42.8/42.8 MB\u001b[0m \u001b[31m17.7 MB/s\u001b[0m eta \u001b[36m0:00:00\u001b[0m\n",
            "\u001b[?25hRequirement already satisfied: spacy<3.7.0,>=3.6.0 in /usr/local/lib/python3.10/dist-packages (from en-core-web-md==3.6.0) (3.6.1)\n",
            "Requirement already satisfied: spacy-legacy<3.1.0,>=3.0.11 in /usr/local/lib/python3.10/dist-packages (from spacy<3.7.0,>=3.6.0->en-core-web-md==3.6.0) (3.0.12)\n",
            "Requirement already satisfied: spacy-loggers<2.0.0,>=1.0.0 in /usr/local/lib/python3.10/dist-packages (from spacy<3.7.0,>=3.6.0->en-core-web-md==3.6.0) (1.0.5)\n",
            "Requirement already satisfied: murmurhash<1.1.0,>=0.28.0 in /usr/local/lib/python3.10/dist-packages (from spacy<3.7.0,>=3.6.0->en-core-web-md==3.6.0) (1.0.10)\n",
            "Requirement already satisfied: cymem<2.1.0,>=2.0.2 in /usr/local/lib/python3.10/dist-packages (from spacy<3.7.0,>=3.6.0->en-core-web-md==3.6.0) (2.0.8)\n",
            "Requirement already satisfied: preshed<3.1.0,>=3.0.2 in /usr/local/lib/python3.10/dist-packages (from spacy<3.7.0,>=3.6.0->en-core-web-md==3.6.0) (3.0.9)\n",
            "Requirement already satisfied: thinc<8.2.0,>=8.1.8 in /usr/local/lib/python3.10/dist-packages (from spacy<3.7.0,>=3.6.0->en-core-web-md==3.6.0) (8.1.12)\n",
            "Requirement already satisfied: wasabi<1.2.0,>=0.9.1 in /usr/local/lib/python3.10/dist-packages (from spacy<3.7.0,>=3.6.0->en-core-web-md==3.6.0) (1.1.2)\n",
            "Requirement already satisfied: srsly<3.0.0,>=2.4.3 in /usr/local/lib/python3.10/dist-packages (from spacy<3.7.0,>=3.6.0->en-core-web-md==3.6.0) (2.4.8)\n",
            "Requirement already satisfied: catalogue<2.1.0,>=2.0.6 in /usr/local/lib/python3.10/dist-packages (from spacy<3.7.0,>=3.6.0->en-core-web-md==3.6.0) (2.0.10)\n",
            "Requirement already satisfied: typer<0.10.0,>=0.3.0 in /usr/local/lib/python3.10/dist-packages (from spacy<3.7.0,>=3.6.0->en-core-web-md==3.6.0) (0.9.0)\n",
            "Requirement already satisfied: pathy>=0.10.0 in /usr/local/lib/python3.10/dist-packages (from spacy<3.7.0,>=3.6.0->en-core-web-md==3.6.0) (0.10.2)\n",
            "Requirement already satisfied: smart-open<7.0.0,>=5.2.1 in /usr/local/lib/python3.10/dist-packages (from spacy<3.7.0,>=3.6.0->en-core-web-md==3.6.0) (6.4.0)\n",
            "Requirement already satisfied: tqdm<5.0.0,>=4.38.0 in /usr/local/lib/python3.10/dist-packages (from spacy<3.7.0,>=3.6.0->en-core-web-md==3.6.0) (4.66.1)\n",
            "Requirement already satisfied: numpy>=1.15.0 in /usr/local/lib/python3.10/dist-packages (from spacy<3.7.0,>=3.6.0->en-core-web-md==3.6.0) (1.23.5)\n",
            "Requirement already satisfied: requests<3.0.0,>=2.13.0 in /usr/local/lib/python3.10/dist-packages (from spacy<3.7.0,>=3.6.0->en-core-web-md==3.6.0) (2.31.0)\n",
            "Requirement already satisfied: pydantic!=1.8,!=1.8.1,<3.0.0,>=1.7.4 in /usr/local/lib/python3.10/dist-packages (from spacy<3.7.0,>=3.6.0->en-core-web-md==3.6.0) (1.10.13)\n",
            "Requirement already satisfied: jinja2 in /usr/local/lib/python3.10/dist-packages (from spacy<3.7.0,>=3.6.0->en-core-web-md==3.6.0) (3.1.2)\n",
            "Requirement already satisfied: setuptools in /usr/local/lib/python3.10/dist-packages (from spacy<3.7.0,>=3.6.0->en-core-web-md==3.6.0) (67.7.2)\n",
            "Requirement already satisfied: packaging>=20.0 in /usr/local/lib/python3.10/dist-packages (from spacy<3.7.0,>=3.6.0->en-core-web-md==3.6.0) (23.2)\n",
            "Requirement already satisfied: langcodes<4.0.0,>=3.2.0 in /usr/local/lib/python3.10/dist-packages (from spacy<3.7.0,>=3.6.0->en-core-web-md==3.6.0) (3.3.0)\n",
            "Requirement already satisfied: typing-extensions>=4.2.0 in /usr/local/lib/python3.10/dist-packages (from pydantic!=1.8,!=1.8.1,<3.0.0,>=1.7.4->spacy<3.7.0,>=3.6.0->en-core-web-md==3.6.0) (4.5.0)\n",
            "Requirement already satisfied: charset-normalizer<4,>=2 in /usr/local/lib/python3.10/dist-packages (from requests<3.0.0,>=2.13.0->spacy<3.7.0,>=3.6.0->en-core-web-md==3.6.0) (3.3.0)\n",
            "Requirement already satisfied: idna<4,>=2.5 in /usr/local/lib/python3.10/dist-packages (from requests<3.0.0,>=2.13.0->spacy<3.7.0,>=3.6.0->en-core-web-md==3.6.0) (3.4)\n",
            "Requirement already satisfied: urllib3<3,>=1.21.1 in /usr/local/lib/python3.10/dist-packages (from requests<3.0.0,>=2.13.0->spacy<3.7.0,>=3.6.0->en-core-web-md==3.6.0) (2.0.6)\n",
            "Requirement already satisfied: certifi>=2017.4.17 in /usr/local/lib/python3.10/dist-packages (from requests<3.0.0,>=2.13.0->spacy<3.7.0,>=3.6.0->en-core-web-md==3.6.0) (2023.7.22)\n",
            "Requirement already satisfied: blis<0.8.0,>=0.7.8 in /usr/local/lib/python3.10/dist-packages (from thinc<8.2.0,>=8.1.8->spacy<3.7.0,>=3.6.0->en-core-web-md==3.6.0) (0.7.11)\n",
            "Requirement already satisfied: confection<1.0.0,>=0.0.1 in /usr/local/lib/python3.10/dist-packages (from thinc<8.2.0,>=8.1.8->spacy<3.7.0,>=3.6.0->en-core-web-md==3.6.0) (0.1.3)\n",
            "Requirement already satisfied: click<9.0.0,>=7.1.1 in /usr/local/lib/python3.10/dist-packages (from typer<0.10.0,>=0.3.0->spacy<3.7.0,>=3.6.0->en-core-web-md==3.6.0) (8.1.7)\n",
            "Requirement already satisfied: MarkupSafe>=2.0 in /usr/local/lib/python3.10/dist-packages (from jinja2->spacy<3.7.0,>=3.6.0->en-core-web-md==3.6.0) (2.1.3)\n",
            "Installing collected packages: en-core-web-md\n",
            "Successfully installed en-core-web-md-3.6.0\n",
            "\u001b[38;5;2m✔ Download and installation successful\u001b[0m\n",
            "You can now load the package via spacy.load('en_core_web_md')\n"
          ]
        }
      ],
      "source": [
        "!python -m spacy download en_core_web_md"
      ]
    },
    {
      "cell_type": "code",
      "execution_count": null,
      "metadata": {
        "colab": {
          "base_uri": "https://localhost:8080/"
        },
        "id": "VYWxyKQZQ-vy",
        "outputId": "63e0c4a9-71b5-4e8f-d226-4e9e21d29617"
      },
      "outputs": [
        {
          "output_type": "stream",
          "name": "stdout",
          "text": [
            "Requirement already satisfied: kaggle in /usr/local/lib/python3.10/dist-packages (1.5.16)\n",
            "Requirement already satisfied: six>=1.10 in /usr/local/lib/python3.10/dist-packages (from kaggle) (1.16.0)\n",
            "Requirement already satisfied: certifi in /usr/local/lib/python3.10/dist-packages (from kaggle) (2023.7.22)\n",
            "Requirement already satisfied: python-dateutil in /usr/local/lib/python3.10/dist-packages (from kaggle) (2.8.2)\n",
            "Requirement already satisfied: requests in /usr/local/lib/python3.10/dist-packages (from kaggle) (2.31.0)\n",
            "Requirement already satisfied: tqdm in /usr/local/lib/python3.10/dist-packages (from kaggle) (4.66.1)\n",
            "Requirement already satisfied: python-slugify in /usr/local/lib/python3.10/dist-packages (from kaggle) (8.0.1)\n",
            "Requirement already satisfied: urllib3 in /usr/local/lib/python3.10/dist-packages (from kaggle) (2.0.6)\n",
            "Requirement already satisfied: bleach in /usr/local/lib/python3.10/dist-packages (from kaggle) (6.0.0)\n",
            "Requirement already satisfied: webencodings in /usr/local/lib/python3.10/dist-packages (from bleach->kaggle) (0.5.1)\n",
            "Requirement already satisfied: text-unidecode>=1.3 in /usr/local/lib/python3.10/dist-packages (from python-slugify->kaggle) (1.3)\n",
            "Requirement already satisfied: charset-normalizer<4,>=2 in /usr/local/lib/python3.10/dist-packages (from requests->kaggle) (3.3.0)\n",
            "Requirement already satisfied: idna<4,>=2.5 in /usr/local/lib/python3.10/dist-packages (from requests->kaggle) (3.4)\n"
          ]
        }
      ],
      "source": [
        "!pip install kaggle #Install the kaggle api if you don't have it installed"
      ]
    },
    {
      "cell_type": "code",
      "execution_count": null,
      "metadata": {
        "colab": {
          "base_uri": "https://localhost:8080/"
        },
        "id": "QyR-SBPSBy08",
        "outputId": "956e5174-c524-4397-c72f-a374dbb99bea"
      },
      "outputs": [
        {
          "output_type": "stream",
          "name": "stdout",
          "text": [
            "Collecting transformers\n",
            "  Downloading transformers-4.34.0-py3-none-any.whl (7.7 MB)\n",
            "\u001b[2K     \u001b[90m━━━━━━━━━━━━━━━━━━━━━━━━━━━━━━━━━━━━━━━━\u001b[0m \u001b[32m7.7/7.7 MB\u001b[0m \u001b[31m21.4 MB/s\u001b[0m eta \u001b[36m0:00:00\u001b[0m\n",
            "\u001b[?25hCollecting sentencepiece\n",
            "  Downloading sentencepiece-0.1.99-cp310-cp310-manylinux_2_17_x86_64.manylinux2014_x86_64.whl (1.3 MB)\n",
            "\u001b[2K     \u001b[90m━━━━━━━━━━━━━━━━━━━━━━━━━━━━━━━━━━━━━━━━\u001b[0m \u001b[32m1.3/1.3 MB\u001b[0m \u001b[31m61.2 MB/s\u001b[0m eta \u001b[36m0:00:00\u001b[0m\n",
            "\u001b[?25hRequirement already satisfied: filelock in /usr/local/lib/python3.10/dist-packages (from transformers) (3.12.4)\n",
            "Collecting huggingface-hub<1.0,>=0.16.4 (from transformers)\n",
            "  Downloading huggingface_hub-0.17.3-py3-none-any.whl (295 kB)\n",
            "\u001b[2K     \u001b[90m━━━━━━━━━━━━━━━━━━━━━━━━━━━━━━━━━━━━━\u001b[0m \u001b[32m295.0/295.0 kB\u001b[0m \u001b[31m213.3 MB/s\u001b[0m eta \u001b[36m0:00:00\u001b[0m\n",
            "\u001b[?25hRequirement already satisfied: numpy>=1.17 in /usr/local/lib/python3.10/dist-packages (from transformers) (1.23.5)\n",
            "Requirement already satisfied: packaging>=20.0 in /usr/local/lib/python3.10/dist-packages (from transformers) (23.2)\n",
            "Requirement already satisfied: pyyaml>=5.1 in /usr/local/lib/python3.10/dist-packages (from transformers) (6.0.1)\n",
            "Requirement already satisfied: regex!=2019.12.17 in /usr/local/lib/python3.10/dist-packages (from transformers) (2023.6.3)\n",
            "Requirement already satisfied: requests in /usr/local/lib/python3.10/dist-packages (from transformers) (2.31.0)\n",
            "Collecting tokenizers<0.15,>=0.14 (from transformers)\n",
            "  Downloading tokenizers-0.14.1-cp310-cp310-manylinux_2_17_x86_64.manylinux2014_x86_64.whl (3.8 MB)\n",
            "\u001b[2K     \u001b[90m━━━━━━━━━━━━━━━━━━━━━━━━━━━━━━━━━━━━━━━━\u001b[0m \u001b[32m3.8/3.8 MB\u001b[0m \u001b[31m73.0 MB/s\u001b[0m eta \u001b[36m0:00:00\u001b[0m\n",
            "\u001b[?25hCollecting safetensors>=0.3.1 (from transformers)\n",
            "  Downloading safetensors-0.4.0-cp310-cp310-manylinux_2_17_x86_64.manylinux2014_x86_64.whl (1.3 MB)\n",
            "\u001b[2K     \u001b[90m━━━━━━━━━━━━━━━━━━━━━━━━━━━━━━━━━━━━━━━━\u001b[0m \u001b[32m1.3/1.3 MB\u001b[0m \u001b[31m99.2 MB/s\u001b[0m eta \u001b[36m0:00:00\u001b[0m\n",
            "\u001b[?25hRequirement already satisfied: tqdm>=4.27 in /usr/local/lib/python3.10/dist-packages (from transformers) (4.66.1)\n",
            "Requirement already satisfied: fsspec in /usr/local/lib/python3.10/dist-packages (from huggingface-hub<1.0,>=0.16.4->transformers) (2023.6.0)\n",
            "Requirement already satisfied: typing-extensions>=3.7.4.3 in /usr/local/lib/python3.10/dist-packages (from huggingface-hub<1.0,>=0.16.4->transformers) (4.5.0)\n",
            "Requirement already satisfied: charset-normalizer<4,>=2 in /usr/local/lib/python3.10/dist-packages (from requests->transformers) (3.3.0)\n",
            "Requirement already satisfied: idna<4,>=2.5 in /usr/local/lib/python3.10/dist-packages (from requests->transformers) (3.4)\n",
            "Requirement already satisfied: urllib3<3,>=1.21.1 in /usr/local/lib/python3.10/dist-packages (from requests->transformers) (2.0.6)\n",
            "Requirement already satisfied: certifi>=2017.4.17 in /usr/local/lib/python3.10/dist-packages (from requests->transformers) (2023.7.22)\n",
            "Installing collected packages: sentencepiece, safetensors, huggingface-hub, tokenizers, transformers\n",
            "Successfully installed huggingface-hub-0.17.3 safetensors-0.4.0 sentencepiece-0.1.99 tokenizers-0.14.1 transformers-4.34.0\n"
          ]
        }
      ],
      "source": [
        "!pip install --no-cache-dir transformers sentencepiece"
      ]
    },
    {
      "cell_type": "code",
      "execution_count": null,
      "metadata": {
        "colab": {
          "base_uri": "https://localhost:8080/"
        },
        "id": "u6WIrTaL_Qgm",
        "outputId": "e1f2dfdb-59ea-4967-f1dd-a1e9b0ef4cb0"
      },
      "outputs": [
        {
          "output_type": "stream",
          "name": "stdout",
          "text": [
            "Collecting autocorrect\n",
            "  Downloading autocorrect-2.6.1.tar.gz (622 kB)\n",
            "\u001b[2K     \u001b[90m━━━━━━━━━━━━━━━━━━━━━━━━━━━━━━━━━━━━━━━\u001b[0m \u001b[32m622.8/622.8 kB\u001b[0m \u001b[31m5.7 MB/s\u001b[0m eta \u001b[36m0:00:00\u001b[0m\n",
            "\u001b[?25h  Preparing metadata (setup.py) ... \u001b[?25l\u001b[?25hdone\n",
            "Building wheels for collected packages: autocorrect\n",
            "  Building wheel for autocorrect (setup.py) ... \u001b[?25l\u001b[?25hdone\n",
            "  Created wheel for autocorrect: filename=autocorrect-2.6.1-py3-none-any.whl size=622363 sha256=0c2bf51a46e1a3d6a688318c8e9184abfe1867cfe8a91c71870bb084187062f8\n",
            "  Stored in directory: /root/.cache/pip/wheels/b5/7b/6d/b76b29ce11ff8e2521c8c7dd0e5bfee4fb1789d76193124343\n",
            "Successfully built autocorrect\n",
            "Installing collected packages: autocorrect\n",
            "Successfully installed autocorrect-2.6.1\n",
            "Collecting pyspellchecker\n",
            "  Downloading pyspellchecker-0.7.2-py3-none-any.whl (3.4 MB)\n",
            "\u001b[2K     \u001b[90m━━━━━━━━━━━━━━━━━━━━━━━━━━━━━━━━━━━━━━━━\u001b[0m \u001b[32m3.4/3.4 MB\u001b[0m \u001b[31m9.7 MB/s\u001b[0m eta \u001b[36m0:00:00\u001b[0m\n",
            "\u001b[?25hInstalling collected packages: pyspellchecker\n",
            "Successfully installed pyspellchecker-0.7.2\n"
          ]
        }
      ],
      "source": [
        "!pip install autocorrect\n",
        "!pip install pyspellchecker"
      ]
    },
    {
      "cell_type": "code",
      "execution_count": null,
      "metadata": {
        "colab": {
          "base_uri": "https://localhost:8080/"
        },
        "id": "hcFk-cHlUnTY",
        "outputId": "a4a7d995-3acf-4a73-a558-f7d231ee9f92"
      },
      "outputs": [
        {
          "output_type": "stream",
          "name": "stderr",
          "text": [
            "[nltk_data] Downloading package words to /root/nltk_data...\n",
            "[nltk_data]   Unzipping corpora/words.zip.\n"
          ]
        },
        {
          "output_type": "execute_result",
          "data": {
            "text/plain": [
              "True"
            ]
          },
          "metadata": {},
          "execution_count": 7
        }
      ],
      "source": [
        "import nltk\n",
        "nltk.download('words')"
      ]
    },
    {
      "cell_type": "code",
      "execution_count": null,
      "metadata": {
        "id": "n2dEMpDsPpfv"
      },
      "outputs": [],
      "source": [
        "import pathlib, os, json\n",
        "api_key = {\"username\":\"oluwatobibetiku\",\"key\":\"1a3294d30578dc489703e1a36a680dc5\"} #Get your api key from kaggle settings\n",
        "kaggle_path = pathlib.Path('/root/.kaggle') #specify the root directory using pathlib\n",
        "os.makedirs(kaggle_path,exist_ok=True)\n",
        "with open(kaggle_path/'kaggle.json','w') as handl:\n",
        "  json.dump(api_key,handl) #dump a kaggle.json file containi g your credentials in the root directory, this is essential for the kaggle api\n",
        "\n",
        "os.chmod(kaggle_path/'kaggle.json', 600)"
      ]
    },
    {
      "cell_type": "code",
      "execution_count": null,
      "metadata": {
        "id": "jJaDfRfFPpI0"
      },
      "outputs": [],
      "source": [
        "from kaggle.api.kaggle_api_extended import KaggleApi\n",
        "api = KaggleApi()\n",
        "api.authenticate()"
      ]
    },
    {
      "cell_type": "code",
      "execution_count": null,
      "metadata": {
        "colab": {
          "base_uri": "https://localhost:8080/"
        },
        "id": "DdFy7KeMQdBR",
        "outputId": "f03b875d-de5f-4577-d637-56d1e11e6fb2"
      },
      "outputs": [
        {
          "output_type": "stream",
          "name": "stdout",
          "text": [
            "Downloading summaries_train.csv.zip to .\n"
          ]
        },
        {
          "output_type": "stream",
          "name": "stderr",
          "text": [
            "100%|██████████| 1.04M/1.04M [00:00<00:00, 74.1MB/s]"
          ]
        },
        {
          "output_type": "stream",
          "name": "stdout",
          "text": [
            "\n"
          ]
        },
        {
          "output_type": "stream",
          "name": "stderr",
          "text": [
            "\n"
          ]
        },
        {
          "output_type": "stream",
          "name": "stdout",
          "text": [
            "Downloading prompts_train.csv to .\n"
          ]
        },
        {
          "output_type": "stream",
          "name": "stderr",
          "text": [
            "100%|██████████| 15.8k/15.8k [00:00<00:00, 7.93MB/s]"
          ]
        },
        {
          "output_type": "stream",
          "name": "stdout",
          "text": [
            "\n"
          ]
        },
        {
          "output_type": "stream",
          "name": "stderr",
          "text": [
            "\n"
          ]
        }
      ],
      "source": [
        "api.competition_download_file('commonlit-evaluate-student-summaries','summaries_train.csv','./')\n",
        "api.competition_download_file('commonlit-evaluate-student-summaries','prompts_train.csv','./')"
      ]
    },
    {
      "cell_type": "code",
      "execution_count": null,
      "metadata": {
        "id": "z8GEtMm0PJHZ"
      },
      "outputs": [],
      "source": [
        "import numpy as np # linear algebra\n",
        "import pandas as pd # data processing, CSV file I/O (e.g. pd.read_csv)\n",
        "from sklearn.feature_extraction.text import CountVectorizer, TfidfTransformer\n",
        "from sklearn.model_selection import train_test_split\n",
        "import tensorflow as tf\n",
        "import torch\n",
        "import spacy\n",
        "from tqdm import tqdm\n",
        "from spacy.tokens import Doc\n",
        "from nltk.tokenize import word_tokenize\n",
        "from spellchecker import SpellChecker\n",
        "import re\n",
        "from autocorrect import Speller\n",
        "from string import punctuation as punc\n",
        "from collections import defaultdict\n",
        "from sklearn.metrics.pairwise import cosine_similarity, euclidean_distances\n",
        "from textblob import TextBlob\n",
        "import math\n",
        "from collections import Counter\n",
        "from nltk.util import ngrams\n",
        "from nltk.tokenize import word_tokenize\n",
        "from nltk.corpus import words\n",
        "from sklearn.preprocessing import StandardScaler, MinMaxScaler\n",
        "from tensorflow.keras import backend as K\n",
        "from transformers import AutoTokenizer,TFAutoModel, pipeline\n",
        "from scipy.special import softmax\n",
        "from sklearn.model_selection import KFold\n",
        "import lightgbm as lgb\n",
        "from sklearn.metrics import mean_squared_error\n",
        "from scipy.stats import skew, kurtosis\n",
        "\n",
        "\n",
        "class NLTKTokenizer(object):\n",
        "    def __init__(self, vocab):\n",
        "        self.vocab = vocab\n",
        "\n",
        "    def __call__(self, text):\n",
        "        # Tokenize the text using nltk's word_tokenize\n",
        "        words = word_tokenize(text)\n",
        "\n",
        "        # Convert the list of words to a spaCy Doc object\n",
        "        return Doc(self.vocab, words=words)\n",
        "\n",
        "\n",
        "nlp = spacy.load(\"en_core_web_md\")\n",
        "# Set spaCy's tokenizer to the custom tokenizer\n",
        "nlp.tokenizer = NLTKTokenizer(nlp.vocab)\n",
        "checker = SpellChecker()\n",
        "speller = Speller(lang='en')\n",
        "english = set(words.words())"
      ]
    },
    {
      "cell_type": "code",
      "execution_count": null,
      "metadata": {
        "id": "-Fk_tXHGR0BE"
      },
      "outputs": [],
      "source": [
        "summary_df = pd.read_csv('summaries_train.csv.zip',compression='zip')\n",
        "prompt_df = pd.read_csv('prompts_train.csv')"
      ]
    },
    {
      "cell_type": "code",
      "execution_count": null,
      "metadata": {
        "colab": {
          "base_uri": "https://localhost:8080/"
        },
        "id": "9ilnuci6Rz8v",
        "outputId": "04da1af5-3185-445c-ffa2-0720f8f338a2"
      },
      "outputs": [
        {
          "output_type": "stream",
          "name": "stdout",
          "text": [
            "<class 'pandas.core.frame.DataFrame'>\n",
            "RangeIndex: 7165 entries, 0 to 7164\n",
            "Data columns (total 5 columns):\n",
            " #   Column      Non-Null Count  Dtype  \n",
            "---  ------      --------------  -----  \n",
            " 0   student_id  7165 non-null   object \n",
            " 1   prompt_id   7165 non-null   object \n",
            " 2   text        7165 non-null   object \n",
            " 3   content     7165 non-null   float64\n",
            " 4   wording     7165 non-null   float64\n",
            "dtypes: float64(2), object(3)\n",
            "memory usage: 280.0+ KB\n"
          ]
        }
      ],
      "source": [
        "summary_df.info()"
      ]
    },
    {
      "cell_type": "code",
      "execution_count": null,
      "metadata": {
        "id": "ADMASCvodncr"
      },
      "outputs": [],
      "source": [
        "import matplotlib.pyplot as plt\n",
        "plt.rcParams['figure.figsize'] = (7,5)"
      ]
    },
    {
      "cell_type": "code",
      "execution_count": null,
      "metadata": {
        "id": "NmqRG4lceVrN"
      },
      "outputs": [],
      "source": [
        "# d_99 = np.argmax(cumsum >= 0.99) + 1\n",
        "# d_95 = np.argmax(cumsum >= 0.95) + 1"
      ]
    },
    {
      "cell_type": "code",
      "execution_count": null,
      "metadata": {
        "id": "zmd1qwK6eYNj"
      },
      "outputs": [],
      "source": [
        "# d_99"
      ]
    },
    {
      "cell_type": "code",
      "execution_count": null,
      "metadata": {
        "id": "vZKDri1reZRz",
        "cellView": "form"
      },
      "outputs": [],
      "source": [
        "#@title plot for comparing matplotlib pyplot\n",
        "def get_plot(d_lower,d_higher,cumsum):\n",
        "    fig, axis = plt.subplots()\n",
        "    axis.step(range(len(cumsum)),cumsum, where='mid', c='b',linestyle='--',label='Explained Ration')\n",
        "    axis.vlines(d_higher, 0, cumsum[d_higher], colors='orange', linestyles='--',label=f'{d_higher} components')\n",
        "    axis.vlines(d_lower, 0, cumsum[d_lower],colors='red', linestyles='--', label=f'{d_lower} components')\n",
        "    axis.hlines(cumsum[d_higher], -200, 5000, colors='orange', linestyles='--', label=f'{cumsum[d_higher]:.2f} cumsum')\n",
        "    axis.hlines(cumsum[d_lower], -200, 5000,colors='red', linestyles='--', label=f'{cumsum[d_lower]:.2f} cumsum')\n",
        "    axis.set_xlim([-200, 5000])\n",
        "    axis.set_xlabel('Principal Components Index')\n",
        "    axis.set_ylabel('Explained Variance Ratio')\n",
        "    axis.grid(True)\n",
        "    plt.legend(loc='best')\n",
        "    plt.show()"
      ]
    },
    {
      "cell_type": "code",
      "execution_count": null,
      "metadata": {
        "id": "WrL1tvRhefwm"
      },
      "outputs": [],
      "source": [
        "# get_plot(d_lower=d_95,d_higher=d_99,cumsum=cumsum)"
      ]
    },
    {
      "cell_type": "code",
      "execution_count": null,
      "metadata": {
        "colab": {
          "base_uri": "https://localhost:8080/",
          "height": 252,
          "referenced_widgets": [
            "de40a812c0214e269427a75e892be421",
            "a3ec59ba9b614422b6dc2be2b8766318",
            "42c384a314ea429d92a34bca00680753",
            "096117ebc335402283685b8adf0ed61e",
            "87da8308ecf54b748b367b5a31b2951c",
            "bd6839665862425bbee965c574ebc011",
            "8dc4594bdd2e4980b10cc63d13d3d853",
            "32c321b956474f56bd03858042573b5f",
            "94a0569503b443a4b6a66bde9e077d68",
            "d3e741033af241f2ba80eac93f0807c4",
            "aeec0630379241b5acf1bf35eb83bbb6",
            "1479108dbd044e3da9a97ec916e73d08",
            "ef9e080ae8fb40db8d65ee775b0ab383",
            "9c4c0625efb84397aeef32955ef5e680",
            "2a96c1b3ecb04fa08ab797f56dbdeb9f",
            "1a937931bd3f4612b267dc6c1c902502",
            "850e708ca8f54332b5a1b1b8abb5d976",
            "82f295822c9f4642ac39c3acd33bbec7",
            "82c73a14b6644b19bd77d2be3ebefd17",
            "28e31b7f96ee4d679e02f84c06058b26",
            "4dbf2fe1fdbd4739be31cde1c23f9645",
            "33f9097033ae4e16bf4681a8a297cdd6",
            "04bdfe5a8a464ad2bb8b1b9f094b3f12",
            "d9ccf9c38a3c47d68a987bf419fd7a93",
            "fc857a5cfa0440b7afc620443e3ee2c4",
            "825dd907b8454908b4b8059a7c867919",
            "1979a3e337c14110b1ce79a4a933db21",
            "0419fa194f7447eb9f7efb9c89e18996",
            "48c56029109d46d7927a2e7c5db0e768",
            "5293f71c7d1d4067a600744e57d0ec71",
            "f8b0dd809ee14fe78e174a4b3488cf54",
            "203bd0ae22ef437f97f5c65e769655ad",
            "5350bb2dd3f149d5952da1552553ce28",
            "09118f9f52ac45d4bba10c1768effd0d",
            "e636d4c0028647e7a7149020d3bad476",
            "4f81be4d8f4046f5b6cba4818af668d1",
            "3813d9f9b700420f902ea2a9e8bb929a",
            "f6e46a7ad3d845c7aae9d7d5a902f037",
            "8e55bdc761bd434f83646a439a92ec06",
            "5f6bc96737e14b9c89c9f0e10db3afee",
            "cf0c9910d4ba4a7a82b81344cfff740b",
            "11fa164f6b3a4b03907a4511b5ffe117",
            "d803c9611c61427696f4c7f1ff487f3a",
            "56e31cbc7f5d436f8c9e61319c33acc4"
          ]
        },
        "id": "MHrFzmo1AFln",
        "outputId": "4a943c30-3043-4c79-b99c-3068eb3dc872"
      },
      "outputs": [
        {
          "output_type": "display_data",
          "data": {
            "text/plain": [
              "Downloading (…)okenizer_config.json:   0%|          | 0.00/52.0 [00:00<?, ?B/s]"
            ],
            "application/vnd.jupyter.widget-view+json": {
              "version_major": 2,
              "version_minor": 0,
              "model_id": "de40a812c0214e269427a75e892be421"
            }
          },
          "metadata": {}
        },
        {
          "output_type": "display_data",
          "data": {
            "text/plain": [
              "Downloading (…)lve/main/config.json:   0%|          | 0.00/578 [00:00<?, ?B/s]"
            ],
            "application/vnd.jupyter.widget-view+json": {
              "version_major": 2,
              "version_minor": 0,
              "model_id": "1479108dbd044e3da9a97ec916e73d08"
            }
          },
          "metadata": {}
        },
        {
          "output_type": "display_data",
          "data": {
            "text/plain": [
              "Downloading spm.model:   0%|          | 0.00/2.46M [00:00<?, ?B/s]"
            ],
            "application/vnd.jupyter.widget-view+json": {
              "version_major": 2,
              "version_minor": 0,
              "model_id": "04bdfe5a8a464ad2bb8b1b9f094b3f12"
            }
          },
          "metadata": {}
        },
        {
          "output_type": "display_data",
          "data": {
            "text/plain": [
              "Downloading pytorch_model.bin:   0%|          | 0.00/286M [00:00<?, ?B/s]"
            ],
            "application/vnd.jupyter.widget-view+json": {
              "version_major": 2,
              "version_minor": 0,
              "model_id": "09118f9f52ac45d4bba10c1768effd0d"
            }
          },
          "metadata": {}
        },
        {
          "output_type": "stream",
          "name": "stderr",
          "text": [
            "Some weights of the PyTorch model were not used when initializing the TF 2.0 model TFDebertaV2Model: ['lm_predictions.lm_head.bias', 'lm_predictions.lm_head.dense.weight', 'mask_predictions.dense.weight', 'lm_predictions.lm_head.dense.bias', 'mask_predictions.dense.bias', 'mask_predictions.classifier.weight', 'lm_predictions.lm_head.LayerNorm.weight', 'mask_predictions.classifier.bias', 'deberta.embeddings.position_embeddings.weight', 'mask_predictions.LayerNorm.weight', 'mask_predictions.LayerNorm.bias', 'lm_predictions.lm_head.LayerNorm.bias']\n",
            "- This IS expected if you are initializing TFDebertaV2Model from a PyTorch model trained on another task or with another architecture (e.g. initializing a TFBertForSequenceClassification model from a BertForPreTraining model).\n",
            "- This IS NOT expected if you are initializing TFDebertaV2Model from a PyTorch model that you expect to be exactly identical (e.g. initializing a TFBertForSequenceClassification model from a BertForSequenceClassification model).\n",
            "All the weights of TFDebertaV2Model were initialized from the PyTorch model.\n",
            "If your task is similar to the task the model of the checkpoint was trained on, you can already use TFDebertaV2Model for predictions without further training.\n"
          ]
        }
      ],
      "source": [
        "SAVED_MODEL_DIR = 'microsoft/deberta-v3-small'\n",
        "tokenizer = AutoTokenizer.from_pretrained(SAVED_MODEL_DIR,use_fast=False)\n",
        "# model = DebertaModel.from_pretrained(SAVED_MODEL_DIR,ignore_mismatched_sizes=True)\n",
        "model = TFAutoModel.from_pretrained(SAVED_MODEL_DIR, from_pt=True)\n",
        "\n",
        "\n",
        "# fe = pipeline('feature-extraction', tokenizer=tokenizer,model=model,torch_dtype=torch.float16,device=0)"
      ]
    },
    {
      "cell_type": "code",
      "execution_count": null,
      "metadata": {
        "id": "qtO-cOtOz4H3"
      },
      "outputs": [],
      "source": [
        "def extract_lemmas(text):\n",
        "    doc = nlp(text)\n",
        "    lemmas = []\n",
        "\n",
        "    for token in doc:\n",
        "        if not token.is_stop:\n",
        "            lemmas.append(token.lemma_.lower())\n",
        "    return ' '.join(lemmas)\n",
        "\n",
        "\n",
        "def count_punc(text):\n",
        "    return len([p for p in text if p in punc])\n",
        "\n",
        "# Overlap Score\n",
        "\n",
        "def tree_depth_from_token(token):\n",
        "    \"\"\"Calculate the depth of a subtree rooted at a token.\"\"\"\n",
        "    if not list(token.children):\n",
        "        return 1\n",
        "    else:\n",
        "        return 1 + max(tree_depth_from_token(child) for child in token.children)\n",
        "\n",
        "def average_dependency_tree_depth(doc):\n",
        "    \"\"\"Compute the average depth of the dependency tree.\"\"\"\n",
        "    root_tokens = [tok for tok in doc if tok.dep_ == 'ROOT']\n",
        "    if not root_tokens:\n",
        "        return 0\n",
        "    depths = [tree_depth_from_token(token) for token in root_tokens]\n",
        "    return sum(depths) / len(depths)\n",
        "\n",
        "def process_text(doc):\n",
        "    # Using collections.Counter to count the occurrences efficiently\n",
        "    pos_counts = Counter([token.pos_ for token in doc if not token.is_stop])\n",
        "\n",
        "    # Extract counts directly using the dictionary\n",
        "    num_nouns = pos_counts.get(\"NOUN\", 0)\n",
        "    num_verbs = pos_counts.get(\"VERB\", 0)\n",
        "    num_adverbs = pos_counts.get(\"ADV\", 0)\n",
        "    stops = sum(1 for token in doc if token.is_stop)\n",
        "\n",
        "    return stops, num_nouns, num_verbs, num_adverbs\n",
        "\n",
        "\n",
        "def syllable_count(word):\n",
        "    word = word.lower()\n",
        "    vowels = set(\"aeiouy\")\n",
        "    count = sum(1 for idx, char in enumerate(word)\n",
        "                if char in vowels and (idx == 0 or word[idx-1] not in vowels))\n",
        "\n",
        "    # Decrease count if word ends with an 'e' but is not preceded by a vowel\n",
        "    if word.endswith(\"e\") and (len(word) == 1 or word[-2] not in vowels):\n",
        "        count -= 1\n",
        "\n",
        "    # Ensure at least one syllable\n",
        "    count = max(1, count)\n",
        "\n",
        "    return count\n",
        "\n",
        "def extract_features(row, docs, context_docs):\n",
        "    idx = row.name\n",
        "    doc = docs[idx]\n",
        "    context = context_docs[idx]\n",
        "\n",
        "    # Word Tokenize\n",
        "    tokens = [tok.text.lower() for tok in doc]\n",
        "    context_tokens = [tok.text.lower() for tok in context]\n",
        "\n",
        "    # Capital Error\n",
        "    capital_error = sum(1 for sent in doc.sents if not sent.text[0].isupper())\n",
        "\n",
        "    # 1. Length of the summary\n",
        "    length = len(tokens)\n",
        "\n",
        "    # 2. Number of unique words\n",
        "    unique_words = len(set(tokens))\n",
        "\n",
        "    #3. counter\n",
        "    total_tokens = len(tokens) if length > 0 else 1\n",
        "    word_counts = Counter(tokens)\n",
        "    once = sum(1 for word, count in word_counts.items() if count == 1)\n",
        "    twice = sum(1 for word, count in word_counts.items() if count == 2)\n",
        "\n",
        "    # 4. Named entities\n",
        "    entities = set(ent.text.lower() for ent in doc.ents)\n",
        "    context_entities = set(ent.text.lower() for ent in context.ents)\n",
        "    num_entities = len(entities)\n",
        "    context_num_entities = len(context_entities)\n",
        "\n",
        "    # Calculate the overlap between the two sets\n",
        "    overlap_entities = context_entities.intersection(entities)\n",
        "\n",
        "    # Calculate the coverage score: (number of overlapping entities) / (number of entities in original text)\n",
        "    coverage_score = len(overlap_entities) / len(context_entities) if len(context_entities) > 0 else 0\n",
        "    num_overlap_entities = len(overlap_entities)\n",
        "\n",
        "    named_entity_ratio = float(num_entities/total_tokens)\n",
        "    context_entity_ratio = float(context_num_entities/len(context_tokens))\n",
        "\n",
        "    # 5. Average word length\n",
        "    avg_word_len = round(sum([len(token) for token in tokens])/total_tokens, ndigits=4)\n",
        "    context_avg_word_len = round(sum([len(token) for token in context_tokens])/len(context_tokens), ndigits=4)\n",
        "\n",
        "    # 6. Summary Polarity\n",
        "    text_blob = TextBlob(row['text'])\n",
        "    context_blob = TextBlob(row['prompt_text'])\n",
        "    sentiment_polarity = text_blob.sentiment.polarity\n",
        "    subjectivity = text_blob.subjectivity\n",
        "    context_subjectivity = context_blob.subjectivity\n",
        "    context_polarity = context_blob.sentiment.polarity\n",
        "    error = sum(1 for token in tokens if token not in english)\n",
        "    error_ratio = error/total_tokens\n",
        "\n",
        "\n",
        "    # 7. Stopwords verbs and nouns\n",
        "    stops,num_nouns, num_verbs, num_adverbs = process_text(doc)\n",
        "    context_stops,context_nouns, context_verbs, context_adverbs = process_text(context)\n",
        "\n",
        "    # 8. Numerical entities\n",
        "    num_numerical_entities = len([ent for ent in doc.ents if ent.label_ == \"CARDINAL\"])\n",
        "\n",
        "\n",
        "    # 9. Sentece count\n",
        "    sentences = [sent.text for sent in doc.sents]\n",
        "    sentence = len(sentences) if len(sentences) > 0 else 1\n",
        "    avg_sentence = float(sentence / total_tokens)\n",
        "    avg_unique_sentence = float(sentence /unique_words) if unique_words > 0 else 0.0\n",
        "\n",
        "    avg_sentence_length = sum(len(sent) for sent in sentences) / sentence\n",
        "    max_sentence_length = max(len(sent) for sent in sentences)\n",
        "    min_sentence_length = min(len(sent) for sent in sentences)\n",
        "    std_sentence_length = (sum((len(sent) - avg_sentence_length)**2 for sent in sentences) / sentence)**0.5\n",
        "\n",
        "    # 10 Tree Depth\n",
        "    average_tree_depth = average_dependency_tree_depth(doc)\n",
        "    prob_word = [count/total_tokens for word, count in word_counts.items()]\n",
        "    results = {\n",
        "        \"nsubj\": 0,\n",
        "        \"amod\": 0,\n",
        "        \"advmod\": 0,\n",
        "        \"xcomp\": 0,\n",
        "        \"acomp\": 0,\n",
        "        \"past\": 0,\n",
        "        \"present\": 0\n",
        "    }\n",
        "\n",
        "    num_syllables = 0\n",
        "\n",
        "    summary_punc = 0\n",
        "    for token in doc:\n",
        "        if \"VERB\" == token.pos_:\n",
        "            if \"VBD\" == token.tag_ or \"VBN\" == token.tag_:\n",
        "                results[\"past\"] += 1\n",
        "            elif token.tag_ in {\"VBG\", \"VBP\", \"VBZ\"}:\n",
        "                results[\"present\"] += 1\n",
        "        # Check if the token's dependency is one of the desired dependencies\n",
        "        if token.dep_ in results:\n",
        "            results[token.dep_] += 1\n",
        "\n",
        "        if token.is_alpha:\n",
        "            num_syllables += syllable_count(token.text.lower())\n",
        "\n",
        "        if token.is_punct:\n",
        "            summary_punc += 0\n",
        "\n",
        "    # Unigram similarity\n",
        "    summary_set = set(tokens) if length > 0 else set()\n",
        "    context_set = set(context_tokens) if len(context_tokens) > 0 else set()\n",
        "    intersection = len(context_set.intersection(summary_set))\n",
        "    difference = len(context_set.difference(summary_set))\n",
        "    union = len(context_set.union(summary_set))\n",
        "    precision = float(intersection /unique_words) if unique_words > 0 else 0.0\n",
        "    recall = float(intersection / len(context_set)) if len(context_set) > 0 else 0.0\n",
        "    jaccard_similarity = float(intersection/union) if union > 0 else 0.0\n",
        "    overlap_score = intersection/float(min(len(context_set), len(summary_set)) + 1e-11)\n",
        "    f1_score = float(2 * ((precision * recall)/(precision + recall + 1e-11)))\n",
        "\n",
        "\n",
        "    # Bigram Similarity\n",
        "    answer_bigrams = set(list(ngrams(tokens, 2))) if length > 1 else set()\n",
        "    context_bigrams = set(list(ngrams(context_tokens, 2))) if len(context_tokens) > 1 else set()\n",
        "    intersection_bigram = len(answer_bigrams.intersection(context_bigrams))\n",
        "    union_bigram = len(answer_bigrams.union(context_bigrams))\n",
        "    precision_bigram = intersection_bigram /len(answer_bigrams) if len(answer_bigrams) > 0 else 0.0\n",
        "    recall_bigram = intersection_bigram / len(context_bigrams) if len(context_bigrams) > 0 else 0.0\n",
        "    jaccard_bigram = intersection_bigram/union_bigram if union_bigram > 0 else 0.0\n",
        "    bigram_overlap = intersection_bigram/float(min(len(context_bigrams), len(answer_bigrams)) + 1e-11)\n",
        "    f1_bigram = 2 * ((precision_bigram * recall_bigram)/(precision_bigram + recall_bigram + 1e-11))\n",
        "\n",
        "    # Trigram Similarity\n",
        "    answer_trigrams = set(list(ngrams(tokens, 3))) if length > 1 else set()\n",
        "    context_trigrams = set(list(ngrams(context_tokens, 3))) if len(context_tokens) > 1 else set()\n",
        "    intersection_trigram = len(answer_trigrams.intersection(context_trigrams))\n",
        "    union_trigram = len(answer_trigrams.union(context_trigrams))\n",
        "    precision_trigram = intersection_trigram / len(answer_trigrams) if len(answer_trigrams) > 0 else 0.0\n",
        "    recall_trigram = intersection_trigram / len(context_trigrams) if len(context_trigrams) > 0 else 0.0\n",
        "    jaccard_trigram = intersection_trigram/union_trigram if union_trigram > 0 else 0.0\n",
        "    trigram_overlap = intersection_trigram/float(min(len(context_trigrams), len(answer_trigrams)) + 1e-11)\n",
        "    f1_trigram = 2 * ((precision_trigram * recall_trigram)/(precision_trigram + recall_trigram + 1e-11))\n",
        "\n",
        "    # Readability\n",
        "    ASL = float(total_tokens / sentence)\n",
        "    ASW = float(num_syllables / total_tokens)\n",
        "\n",
        "    flesch_reading_ease = 206.835 - (1.015 * ASL) - (84.6 * ASW)\n",
        "    flesch_kincaid = (0.39 * ASL) + (11.8 * ASW) - 15.59\n",
        "\n",
        "    # Automated Reading Index\n",
        "    characters = len(\"\".join(tokens))\n",
        "    summary_ari = 4.71 * (characters / total_tokens) + 0.5 * (total_tokens / sentence) - 21.43\n",
        "\n",
        "    # Coleman-Liau Index Readability\n",
        "    # Where: L is the average number of letters per 100 words, S is the average number of sentences per 100 words\n",
        "    L = (characters / total_tokens) * 100\n",
        "    S = (sentence / total_tokens) * 100\n",
        "    coleman_index = (0.0588 * L) - (0.296 * S) - 15.8\n",
        "\n",
        "    # Mispelt\n",
        "    mis_tokens = [token for token in checker.unknown(tokens) if token.isalpha()]\n",
        "    mispell_ratio = len(mis_tokens)/total_tokens\n",
        "    quotes = len(re.findall(r'\"(.*?)\"|\\'(.*?)\\'|“(.*?)”|‘(.*?)’|«(.*?)»|‹(.*?)›', row['text']))\n",
        "\n",
        "    source_vector = context.vector\n",
        "    answer_vector = doc.vector\n",
        "\n",
        "    embedding_similarity, euclidean, pearson = compute_similarity_score(source_vector, answer_vector)\n",
        "\n",
        "\n",
        "    # Organizing features in a dictionary\n",
        "    features = {\n",
        "        'length': length,\n",
        "        'num_chars': len(row['text']),\n",
        "        \"mispelt_tokens\": len(mis_tokens),\n",
        "        \"capital_error\": capital_error,\n",
        "        \"mispell_ratio\": mispell_ratio,\n",
        "        \"quotes\": quotes,\n",
        "        \"intersection_bigram\": intersection_bigram,\n",
        "        \"union_bigram\": union_bigram,\n",
        "        \"jaccard_bigram\": jaccard_bigram,\n",
        "        'recall_bigram': recall_bigram,\n",
        "        \"precision_bigram\": precision_bigram,\n",
        "        \"f1_bigram\": f1_bigram,\n",
        "        'bigram_overlap': bigram_overlap,\n",
        "        'sentence': sentence,\n",
        "        'avg_sentence_length': avg_sentence_length,\n",
        "        'max_sentence_length': max_sentence_length,\n",
        "        'min_sentence_length':min_sentence_length,\n",
        "        \"std_sentence_length\": std_sentence_length,\n",
        "        \"avg_sentence\": avg_sentence,\n",
        "        'avg_unique_sentence':avg_unique_sentence,\n",
        "        \"context_avg_word_len\": context_avg_word_len,\n",
        "        \"error\": error,\n",
        "        'error_ratio': error_ratio,\n",
        "        'unique_words': unique_words,\n",
        "        'num_entities': num_entities,\n",
        "        \"context_num_entities\": context_num_entities,\n",
        "        'coverage_score': coverage_score,\n",
        "        'num_overlap_entities': num_overlap_entities,\n",
        "        'avg_word_len': avg_word_len,\n",
        "        'intersection_trigram': intersection_trigram,\n",
        "        'union_trigram': union_trigram,\n",
        "        'recall_trigram': recall_trigram,\n",
        "        'precision_trigram': precision_trigram,\n",
        "        'jaccard_trigram': jaccard_trigram,\n",
        "        'trigram_overlap': trigram_overlap,\n",
        "        'f1_trigram': f1_trigram,\n",
        "        \"stops\": stops,\n",
        "        \"num_nouns\": num_nouns,\n",
        "        \"num_verbs\": num_verbs,\n",
        "        \"num_adverbs\": num_adverbs,\n",
        "        \"context_nouns\": context_nouns,\n",
        "        \"context_stops\": context_stops,\n",
        "        'context_verbs': context_verbs,\n",
        "        'context_adverbs': context_adverbs,\n",
        "        \"num_numerical_entities\": num_numerical_entities,\n",
        "        \"sentiment_polarity\": sentiment_polarity,\n",
        "        'context_polarity': context_polarity,\n",
        "        \"nsubj\": results['nsubj'],\n",
        "        \"amod\": results['amod'],\n",
        "        \"advmod\": results['advmod'],\n",
        "        \"xcomp\": results['xcomp'],\n",
        "        \"acomp\": results['acomp'],\n",
        "        \"past\": results[\"past\"],\n",
        "        \"present\": results[\"present\"],\n",
        "        \"average_dependency_tree_depth\": average_tree_depth,\n",
        "        \"TTR\": unique_words / (total_tokens + 1e-8),\n",
        "        \"RTTR\": unique_words / (math.sqrt(total_tokens) + 1e-8),\n",
        "        \"CTTR\": unique_words / (math.sqrt(total_tokens / 2) + 1e-8),\n",
        "        # MATTR would require a window-based approach and is thus more involved\n",
        "        \"Herdan's C\": math.log(unique_words) / (math.log(total_tokens) + 1e-8),\n",
        "        \"Dugast's U\": math.log(total_tokens)**2 / ((math.log(total_tokens) - math.log(unique_words)) + 1e-8),\n",
        "        \"Honoré's H\": 100 * math.log(total_tokens) / (1 - once/(unique_words + 1e-8)),\n",
        "        \"Entropy\": -sum(p * math.log(p) for p in prob_word),\n",
        "        \"Sichel’s S\": twice,\n",
        "        'named_entity_ratio': named_entity_ratio,\n",
        "        'context_entity_ratio': context_entity_ratio,\n",
        "        'flesch_reading_ease': flesch_reading_ease,\n",
        "        'flesch_kincaid': flesch_kincaid,\n",
        "        'summary_ari':summary_ari,\n",
        "        'coleman_index': coleman_index,\n",
        "        \"Simpson’s D\": sum((count/total_tokens)**2 for count in word_counts.values()),\n",
        "        'intersection': intersection,\n",
        "        \"subjectivity\": subjectivity,\n",
        "        \"context_subjectivity\": context_subjectivity,\n",
        "        'difference': difference,\n",
        "        'union': union,\n",
        "        'overlap_score': overlap_score,\n",
        "        'recall': recall,\n",
        "        'precision': precision,\n",
        "        'f1_score': f1_score,\n",
        "        'jaccard_similarity': jaccard_similarity,\n",
        "        'embedding_similarity': embedding_similarity,\n",
        "        'euclidean': euclidean,\n",
        "        'pearson': pearson,\n",
        "        'summary_punc': summary_punc,\n",
        "    }\n",
        "\n",
        "    return features\n",
        "\n",
        "def compute_similarity_score(source_vector, answer_vector):\n",
        "    embedding_similarity = cosine_similarity([source_vector], [answer_vector])[0][0]\n",
        "    euclidean = euclidean_distances([source_vector], [answer_vector])[0][0]\n",
        "    pearson = np.corrcoef(source_vector.ravel(), answer_vector.ravel())[0, 1]\n",
        "\n",
        "    return embedding_similarity, euclidean, pearson\n",
        "\n",
        "def compute_statistical_measures(embedding):\n",
        "    negatives_count = np.sum(embedding < 0, axis=1)\n",
        "    negatives_count_ratio = negatives_count/768\n",
        "    pos = 768 - negatives_count\n",
        "    pos_ratio = pos/768\n",
        "    neg_pos_ratio = negatives_count/pos\n",
        "    embed_sum = np.sum(embedding, axis=1)\n",
        "    embed_mean = np.mean(embedding, axis=1)\n",
        "    embed_var = np.var(embedding, axis=1)\n",
        "    embed_std = np.std(embedding, axis=1)\n",
        "    quantile_1 = np.quantile(embedding,0.25,axis=1)\n",
        "    quantile_2 = np.quantile(embedding,0.5,axis=1)\n",
        "    quantile_3 = np.quantile(embedding,0.75,axis=1)\n",
        "    quantile_4 = np.quantile(embedding,1,axis=1)\n",
        "    embed_range = np.max(embedding,axis=1) - np.min(embedding,axis=1)\n",
        "    p2p = np.ptp(embedding, axis=1)\n",
        "    skewed_bag = skew(embedding, axis=1)\n",
        "    kurtosis_bag = kurtosis(embedding, axis=1)\n",
        "    output =  np.asarray([embed_range,embed_sum, embed_mean, embed_var, embed_std,\n",
        "                          pos, pos_ratio, negatives_count,negatives_count_ratio,\n",
        "                          neg_pos_ratio, quantile_1,quantile_2, quantile_3,\n",
        "                          quantile_4,p2p,skewed_bag,kurtosis_bag],dtype=np.float32).T\n",
        "    return output\n",
        "\n",
        "def compute_tensor(texts, max_len=128):\n",
        "    outputs = tokenizer(texts,  max_length=max_len,padding='max_length',\n",
        "                    truncation=True,return_tensors='tf')\n",
        "    tensor = model(**outputs)['last_hidden_state']\n",
        "    return tensor\n",
        "def compute_scores(batch_texts,max_len):\n",
        "    tensor = compute_tensor(batch_texts, max_len)\n",
        "    embed_mean = tf.reduce_mean(tensor, axis=1).cpu().numpy()\n",
        "    embed_max = tf.reduce_max(tensor, axis=1).cpu().numpy()\n",
        "    embed_first = tensor[:,0,:].cpu().numpy()\n",
        "\n",
        "    features_batch = np.hstack((embed_mean, embed_max, embed_first))\n",
        "    return features_batch"
      ]
    },
    {
      "cell_type": "code",
      "execution_count": null,
      "metadata": {
        "colab": {
          "base_uri": "https://localhost:8080/"
        },
        "id": "dEZ2VbfNJET3",
        "outputId": "b45e79e3-ead8-4272-b6d0-a6d841fab854"
      },
      "outputs": [
        {
          "output_type": "stream",
          "name": "stderr",
          "text": [
            "[nltk_data] Downloading package punkt to /root/nltk_data...\n",
            "[nltk_data]   Unzipping tokenizers/punkt.zip.\n"
          ]
        },
        {
          "output_type": "execute_result",
          "data": {
            "text/plain": [
              "True"
            ]
          },
          "metadata": {},
          "execution_count": 21
        }
      ],
      "source": [
        "import nltk\n",
        "nltk.download('punkt')"
      ]
    },
    {
      "cell_type": "code",
      "execution_count": null,
      "metadata": {
        "id": "E_jM5N9JDOGI"
      },
      "outputs": [],
      "source": [
        "train_df = summary_df.merge(right=prompt_df,how='inner', on='prompt_id')"
      ]
    },
    {
      "cell_type": "code",
      "execution_count": null,
      "metadata": {
        "colab": {
          "base_uri": "https://localhost:8080/"
        },
        "id": "MMo2Ml_5C-sY",
        "outputId": "f18cd187-d11d-4c50-c915-dc8c951523f2"
      },
      "outputs": [
        {
          "output_type": "stream",
          "name": "stderr",
          "text": [
            "processing feature extraction:   0%|          | 0/598 [00:00<?, ?it/s]WARNING:tensorflow:From <ipython-input-20-c2aef38e6591>:357: _EagerTensorBase.cpu (from tensorflow.python.framework.ops) is deprecated and will be removed in a future version.\n",
            "Instructions for updating:\n",
            "Use tf.identity with explicit device placement instead.\n",
            "processing feature extraction: 100%|██████████| 598/598 [13:25<00:00,  1.35s/it]\n"
          ]
        },
        {
          "output_type": "stream",
          "name": "stdout",
          "text": [
            "time ellapsed is: 807.79ms\n"
          ]
        }
      ],
      "source": [
        "# @title run bert\n",
        "import time\n",
        "\n",
        "BATCH_SIZE = 12\n",
        "\n",
        "start = time.time()\n",
        "scores = []\n",
        "num_samples = len(train_df)\n",
        "for start_idx in tqdm(range(0, num_samples, BATCH_SIZE), desc=\"processing feature extraction\"):\n",
        "    end_idx = min(start_idx + BATCH_SIZE, num_samples)\n",
        "    batch_texts = train_df.iloc[start_idx:end_idx]['text'].apply(speller).tolist()\n",
        "\n",
        "    with tf.device('/GPU:0'):\n",
        "        scores_batch = compute_scores(batch_texts, max_len=256)\n",
        "        scores.extend(scores_batch)\n",
        "\n",
        "        K.clear_session()\n",
        "\n",
        "bert_features = np.asarray(scores, dtype=np.float32)\n",
        "stats_mean = compute_statistical_measures(bert_features[:,:768])\n",
        "stats_max = compute_statistical_measures(bert_features[:,768:1536])\n",
        "stats_first = compute_statistical_measures(bert_features[:,1536:])\n",
        "\n",
        "bert_bag = np.hstack((bert_features[:,:768],stats_mean,stats_max,stats_first))\n",
        "end = time.time()\n",
        "ellapsed_time = end - start\n",
        "print(f'time ellapsed is: {ellapsed_time:.2f}ms')"
      ]
    },
    {
      "cell_type": "markdown",
      "source": [
        "###### embed_range,embed_sum, embed_mean, embed_var, embed_std,pos, pos_ratio, negatives_count,negatives_count_ratio,neg_pos_ratio, quantile_1,quantile_2, quantile_3,quantile_4,p2p,skewed_bag,kurtosis_bag"
      ],
      "metadata": {
        "id": "saxlzPSFCN0i"
      }
    },
    {
      "cell_type": "code",
      "source": [
        "from scipy import stats\n",
        "sample = stats_max[:,5] #neg_ratio\n",
        "# sample = np.log2(np.log2(sample)) ** 2"
      ],
      "metadata": {
        "id": "dmi8GShlB8VA"
      },
      "execution_count": null,
      "outputs": []
    },
    {
      "cell_type": "code",
      "source": [
        "np.sum(np.isnan(sample))"
      ],
      "metadata": {
        "colab": {
          "base_uri": "https://localhost:8080/"
        },
        "id": "fnqh1bnCNjDW",
        "outputId": "f948d0cb-9a47-4235-980c-dc7927471803"
      },
      "execution_count": null,
      "outputs": [
        {
          "output_type": "execute_result",
          "data": {
            "text/plain": [
              "0"
            ]
          },
          "metadata": {},
          "execution_count": 240
        }
      ]
    },
    {
      "cell_type": "code",
      "source": [
        "import numpy as np\n",
        "import matplotlib.pyplot as plt\n",
        "import seaborn as sns\n",
        "\n",
        "# Generate random data for demonstration\n",
        "\n",
        "# Set style\n",
        "sns.set(style=\"whitegrid\")\n",
        "\n",
        "# Create a figure and a set of subplots\n",
        "fig, ax = plt.subplots(nrows=2, ncols=1, figsize=(10, 8))\n",
        "\n",
        "# Plot histogram\n",
        "sns.histplot(sample, kde=False, bins=30, ax=ax[0], color='blue')\n",
        "ax[0].set_title('Histogram')\n",
        "ax[0].set_xlabel('Feature Value')\n",
        "ax[0].set_ylabel('Count')\n",
        "\n",
        "# Plot KDE (Kernel Density Estimation)\n",
        "sns.kdeplot(sample, ax=ax[1], color='red', fill=True)\n",
        "ax[1].set_title('Kernel Density Estimation')\n",
        "ax[1].set_xlabel('Feature Value')\n",
        "ax[1].set_ylabel('Density')\n",
        "\n",
        "# Display plots\n",
        "plt.tight_layout()\n",
        "plt.show()"
      ],
      "metadata": {
        "colab": {
          "base_uri": "https://localhost:8080/",
          "height": 801
        },
        "id": "xoURe3F0BV57",
        "outputId": "96b56836-bc57-4f17-80cb-0bc3ca58452d"
      },
      "execution_count": null,
      "outputs": [
        {
          "output_type": "display_data",
          "data": {
            "text/plain": [
              "<Figure size 1000x800 with 2 Axes>"
            ],
            "image/png": "[encoded data removed]"
          },
          "metadata": {}
        }
      ]
    },
    {
      "cell_type": "code",
      "execution_count": null,
      "metadata": {
        "id": "7bk0dRGShmiT"
      },
      "outputs": [],
      "source": [
        "def preprocess_data(summary_df, prompt_df, BATCH_SIZE=8, max_len=256):\n",
        "    train_df = summary_df.merge(right=prompt_df, how='inner', on='prompt_id')\n",
        "\n",
        "    print('processing text embeddings......')\n",
        "    docs = list(nlp.pipe(train_df['text']))\n",
        "    context_docs = list(nlp.pipe(train_df['prompt_text']))\n",
        "\n",
        "    # processing lemmas\n",
        "    print('extracting features.....')\n",
        "    drop_cols = [\n",
        "                \"mispelt_tokens\",\"mispell_ratio\",'error_ratio',\n",
        "                'context_nouns','context_entity_ratio',\n",
        "                'context_verbs', 'context_adverbs','context_subjectivity'\n",
        "    ]\n",
        "    data_cols = ['context_subjectivity', 'difference', 'recall',\n",
        "        'union','union_trigram', 'recall_trigram',\n",
        "        'union_bigram', 'recall_bigram',\n",
        "        'context_nouns','context_entity_ratio',\n",
        "        'context_verbs', 'context_adverbs']\n",
        "\n",
        "    data = pd.DataFrame(train_df.apply(extract_features, args=(docs, context_docs), axis=1).tolist())\n",
        "    content_data = data.drop(drop_cols, axis=1)\n",
        "    data = data.drop(data_cols, axis=1)\n",
        "\n",
        "    print('processing features.....')\n",
        "    # Process other columns\n",
        "    scores = []\n",
        "    num_samples = len(train_df)\n",
        "    for start_idx in tqdm(range(0, num_samples, BATCH_SIZE), desc=\"processing feature extraction\"):\n",
        "        end_idx = min(start_idx + BATCH_SIZE, num_samples)\n",
        "        batch_texts = train_df.iloc[start_idx:end_idx]['text'].apply(speller).tolist()\n",
        "\n",
        "        with tf.device('/GPU:0'):\n",
        "            scores_batch = compute_scores(batch_texts, max_len=max_len)\n",
        "            scores.extend(scores_batch)\n",
        "\n",
        "            K.clear_session()\n",
        "\n",
        "    bert_features = np.asarray(scores, dtype=np.float32)\n",
        "    stats_mean = compute_statistical_measures(bert_features[:,:768])\n",
        "    stats_max = compute_statistical_measures(bert_features[:,768:1536])\n",
        "    stats_first = compute_statistical_measures(bert_features[:,1536:])\n",
        "\n",
        "    bags = np.hstack((bert_features[:,:768],stats_mean,stats_max,stats_first,\n",
        "                             content_data.values, train_df[['content','wording']].values))\n",
        "\n",
        "    print('collecting outputs.........')\n",
        "    student_ids = train_df['student_id'].values\n",
        "\n",
        "    return bags, student_ids"
      ]
    },
    {
      "cell_type": "code",
      "execution_count": null,
      "metadata": {
        "id": "vKQ2K9clUfJf"
      },
      "outputs": [],
      "source": [
        "from nltk.corpus import words\n",
        "english = set(words.words())"
      ]
    },
    {
      "cell_type": "code",
      "source": [
        "import time\n",
        "\n",
        "start_time = time.time()\n",
        "\n",
        "stacked_bag, student_ids = preprocess_data(summary_df,prompt_df,BATCH_SIZE=8,\n",
        "                                                        max_len=256)\n",
        "\n",
        "end_time = time.time()\n",
        "elapsed_time = end_time - start_time\n",
        "\n",
        "print(f\"Preprocessed function executed in: {elapsed_time:.2f} seconds\")"
      ],
      "metadata": {
        "colab": {
          "base_uri": "https://localhost:8080/"
        },
        "id": "MkjoCUfyOaEe",
        "outputId": "74c9c1d1-98e0-432e-be38-0cb82294e6ae"
      },
      "execution_count": null,
      "outputs": [
        {
          "output_type": "stream",
          "name": "stdout",
          "text": [
            "processing text embeddings......\n",
            "extracting features.....\n",
            "processing features.....\n"
          ]
        },
        {
          "output_type": "stream",
          "name": "stderr",
          "text": [
            "\rprocessing feature extraction:   0%|          | 0/896 [00:00<?, ?it/s]WARNING:tensorflow:From <ipython-input-20-77dad51e6181>:357: _EagerTensorBase.cpu (from tensorflow.python.framework.ops) is deprecated and will be removed in a future version.\n",
            "Instructions for updating:\n",
            "Use tf.identity with explicit device placement instead.\n",
            "processing feature extraction: 100%|██████████| 896/896 [17:32<00:00,  1.17s/it]\n"
          ]
        },
        {
          "output_type": "stream",
          "name": "stdout",
          "text": [
            "collecting outputs.........\n",
            "Preprocessed function executed in: 2057.86 seconds\n"
          ]
        }
      ]
    },
    {
      "cell_type": "code",
      "execution_count": null,
      "metadata": {
        "id": "5uIh0HEyngu0"
      },
      "outputs": [],
      "source": [
        "X_train,X_test,y_train,y_test = train_test_split(stacked_bag[:,:-2] ,stacked_bag[:,-2:],test_size=0.1,shuffle=True,random_state=11)"
      ]
    },
    {
      "cell_type": "code",
      "execution_count": null,
      "metadata": {
        "id": "s1sUfeGRsCIE",
        "colab": {
          "base_uri": "https://localhost:8080/"
        },
        "outputId": "ba3ab356-11ea-4574-f2eb-e7f0659556d4"
      },
      "outputs": [
        {
          "output_type": "execute_result",
          "data": {
            "text/plain": [
              "((6448, 895), (6448, 2))"
            ]
          },
          "metadata": {},
          "execution_count": 28
        }
      ],
      "source": [
        "X_train.shape, y_train.shape"
      ]
    },
    {
      "cell_type": "code",
      "execution_count": null,
      "metadata": {
        "id": "7rwfCFVwof_k"
      },
      "outputs": [],
      "source": [
        "def mcrmse(y_true, y_pred):\n",
        "    return np.mean(np.sqrt(np.mean((y_true - y_pred)**2, axis=0)))"
      ]
    },
    {
      "cell_type": "code",
      "execution_count": null,
      "metadata": {
        "id": "-kQbRkP0DV8g",
        "colab": {
          "base_uri": "https://localhost:8080/"
        },
        "outputId": "33205a48-7883-46c6-c93f-745f08dabd68"
      },
      "outputs": [
        {
          "output_type": "stream",
          "name": "stderr",
          "text": [
            "training model: 20it [29:39, 88.98s/it]"
          ]
        },
        {
          "output_type": "stream",
          "name": "stdout",
          "text": [
            "Preprocessed function executed in: 1779.61 seconds\n",
            "Mean Score: 0.47\n"
          ]
        },
        {
          "output_type": "stream",
          "name": "stderr",
          "text": [
            "\n"
          ]
        }
      ],
      "source": [
        "from sklearn.model_selection import KFold\n",
        "import lightgbm as lgb\n",
        "from sklearn.preprocessing import StandardScaler\n",
        "from sklearn.pipeline import make_pipeline\n",
        "from sklearn.multioutput import MultiOutputRegressor\n",
        "start_time = time.time()\n",
        "\n",
        "best_params = {\n",
        "    'learning_rate': 0.01,\n",
        "    'n_estimators': 500,\n",
        "    'max_depth': 11,\n",
        "    'subsample': 0.6,\n",
        "    'colsample_bytree': 0.6,\n",
        "#     'objective': 'reg:squarederror'\n",
        "}\n",
        "\n",
        "best_models = []\n",
        "\n",
        "score = []\n",
        "kfold = KFold(n_splits=20, shuffle=True, random_state=64)\n",
        "for train_idx, test_idx in tqdm(kfold.split(X_train, y_train), desc='training model'):\n",
        "    X, y = X_train[train_idx], y_train[train_idx]\n",
        "    test,test_y = X_train[test_idx], y_train[test_idx]\n",
        "    pipeline = MultiOutputRegressor(make_pipeline(\n",
        "        MinMaxScaler(feature_range=(-1,10)),\n",
        "        lgb.LGBMRegressor(**best_params, random_state=64)),\n",
        "        n_jobs=-1\n",
        "        )\n",
        "    pipeline.fit(X, y)\n",
        "    score.append(mcrmse(test_y,pipeline.predict(test)))\n",
        "    best_models.append(pipeline)\n",
        "\n",
        "end_time = time.time()\n",
        "elapsed_time = end_time - start_time\n",
        "print(f\"Preprocessed function executed in: {elapsed_time:.2f} seconds\")\n",
        "print(f'Mean Score: {np.mean(score):.2f}')"
      ]
    },
    {
      "cell_type": "code",
      "execution_count": null,
      "metadata": {
        "id": "rJ9SVyig8xoW",
        "colab": {
          "base_uri": "https://localhost:8080/"
        },
        "outputId": "380db337-0261-4eb4-c4d3-53fe923a164a"
      },
      "outputs": [
        {
          "output_type": "stream",
          "name": "stdout",
          "text": [
            "Mean Score: 0.46\n"
          ]
        }
      ],
      "source": [
        "best_scores = []\n",
        "for i in range(len(best_models)):\n",
        "    best_model = best_models[i]\n",
        "    y_preds = best_model.predict(X_test)\n",
        "    best_scores.append(mcrmse(y_test,y_preds))\n",
        "print(f'Mean Score: {np.mean(best_scores):.2f}')"
      ]
    },
    {
      "cell_type": "code",
      "execution_count": null,
      "metadata": {
        "id": "oHZbNtLf80Sp",
        "colab": {
          "base_uri": "https://localhost:8080/"
        },
        "outputId": "a88ab35f-455a-49f0-9fcf-9a9a9e0eb1e6"
      },
      "outputs": [
        {
          "output_type": "execute_result",
          "data": {
            "text/plain": [
              "0.45698224691776046"
            ]
          },
          "metadata": {},
          "execution_count": 32
        }
      ],
      "source": [
        "best_model_idx = np.argmin(best_scores)\n",
        "best_model = best_models[best_model_idx]\n",
        "y_preds = best_model.predict(X_test)\n",
        "mcrmse(y_test,y_preds)"
      ]
    },
    {
      "cell_type": "markdown",
      "metadata": {
        "id": "3XoTqi3hk_Tz"
      },
      "source": [
        "0.51, 0.50, 0.4957858841087569 / 0.5045887382622728"
      ]
    },
    {
      "cell_type": "markdown",
      "metadata": {
        "id": "legpd4vZk_QP"
      },
      "source": []
    },
    {
      "cell_type": "code",
      "execution_count": null,
      "metadata": {
        "id": "K0NAOAvtSRAj"
      },
      "outputs": [],
      "source": [
        "# import tensorflow_decision_forests as tfds\n",
        "import tensorflow as tf\n",
        "from tensorflow.keras.layers import Dense,LSTM, Input, Embedding\n",
        "from tensorflow.keras.models import Sequential"
      ]
    },
    {
      "cell_type": "code",
      "execution_count": null,
      "metadata": {
        "id": "sdYwONfJM4bX"
      },
      "outputs": [],
      "source": [
        "tf.keras.backend.clear_session()"
      ]
    },
    {
      "cell_type": "code",
      "execution_count": null,
      "metadata": {
        "id": "qQ-Z2RmzFovV"
      },
      "outputs": [],
      "source": [
        "def expand_dims(features, labels):\n",
        "    features = tf.expand_dims(features, axis=0)\n",
        "    features = tf.cast(features, tf.float32, name='input_features')\n",
        "    labels = tf.cast(labels, tf.float32, name='labels')\n",
        "    return {'input_features':features}, labels"
      ]
    },
    {
      "cell_type": "code",
      "execution_count": null,
      "metadata": {
        "id": "NNOkCekUD6Xt"
      },
      "outputs": [],
      "source": [
        "f_shape = X_train.shape[1]\n",
        "batch_size = 64\n",
        "\n",
        "dataset = tf.data.Dataset.from_tensor_slices((X_train,y_train))\n",
        "dataset = dataset.map(expand_dims,num_parallel_calls=tf.data.AUTOTUNE,deterministic=False)\n",
        "dataset = dataset.cache()\n",
        "dataset = dataset.batch(batch_size=batch_size, drop_remainder=True, num_parallel_calls=tf.data.AUTOTUNE).shuffle(X_train.shape[0])\n",
        "dataset = dataset.prefetch(tf.data.AUTOTUNE)"
      ]
    },
    {
      "cell_type": "code",
      "execution_count": null,
      "metadata": {
        "colab": {
          "base_uri": "https://localhost:8080/"
        },
        "id": "ekhsm6y2KlE6",
        "outputId": "a3794914-dd91-45bf-c956-a2b1971ba2b3"
      },
      "outputs": [
        {
          "output_type": "execute_result",
          "data": {
            "text/plain": [
              "({'input_features': TensorSpec(shape=(64, 1, 834), dtype=tf.float32, name=None)},\n",
              " TensorSpec(shape=(64, 2), dtype=tf.float32, name=None))"
            ]
          },
          "metadata": {},
          "execution_count": 40
        }
      ],
      "source": [
        "dataset.element_spec"
      ]
    },
    {
      "cell_type": "code",
      "execution_count": null,
      "metadata": {
        "id": "RAarFN5PD-ev"
      },
      "outputs": [],
      "source": [
        "def build_model():\n",
        "    model = Sequential([\n",
        "        Input(shape=(None,f_shape),batch_size=batch_size,name='input_features',dtype=tf.float32),\n",
        "        tf.keras.layers.Bidirectional(tf.keras.layers.LSTM(256,activation='relu',return_sequences=True)),\n",
        "        tf.keras.layers.Dropout(0.2),\n",
        "        tf.keras.layers.Bidirectional(tf.keras.layers.LSTM(128,activation='sigmoid',return_sequences=True)),\n",
        "        tf.keras.layers.Bidirectional(tf.keras.layers.LSTM(128,activation='relu')),\n",
        "        tf.keras.layers.Dropout(0.1),\n",
        "        Dense(64,activation='sigmoid'),\n",
        "        Dense(32, activation='relu'),\n",
        "        Dense(2, activation='tanh')\n",
        "    ])\n",
        "\n",
        "    model.compile(optimizer=tf.keras.optimizers.Adam(learning_rate=2e-4),\n",
        "                 loss=tf.keras.losses.MeanSquaredError(), metrics=['mse'])\n",
        "    return model"
      ]
    },
    {
      "cell_type": "code",
      "execution_count": null,
      "metadata": {
        "id": "Ao7Oeo1vEGSO"
      },
      "outputs": [],
      "source": [
        "val_dataset = tf.data.Dataset.from_tensor_slices((X_test,y_test))\n",
        "val_dataset = val_dataset.map(expand_dims,num_parallel_calls=tf.data.AUTOTUNE,deterministic=False)\n",
        "val_dataset = val_dataset.cache()\n",
        "val_dataset = val_dataset.batch(batch_size=batch_size, drop_remainder=True, num_parallel_calls=tf.data.AUTOTUNE).shuffle(100000)\n",
        "val_dataset = val_dataset.prefetch(tf.data.AUTOTUNE)"
      ]
    },
    {
      "cell_type": "code",
      "execution_count": null,
      "metadata": {
        "colab": {
          "base_uri": "https://localhost:8080/"
        },
        "id": "CGV8QE55EIga",
        "outputId": "861b1140-c442-4253-d9a7-43df582786ae"
      },
      "outputs": [
        {
          "output_type": "stream",
          "name": "stderr",
          "text": [
            "WARNING:tensorflow:Layer lstm will not use cuDNN kernels since it doesn't meet the criteria. It will use a generic GPU kernel as fallback when running on GPU.\n",
            "WARNING:tensorflow:Layer lstm will not use cuDNN kernels since it doesn't meet the criteria. It will use a generic GPU kernel as fallback when running on GPU.\n",
            "WARNING:tensorflow:Layer lstm will not use cuDNN kernels since it doesn't meet the criteria. It will use a generic GPU kernel as fallback when running on GPU.\n",
            "WARNING:tensorflow:Layer lstm_1 will not use cuDNN kernels since it doesn't meet the criteria. It will use a generic GPU kernel as fallback when running on GPU.\n",
            "WARNING:tensorflow:Layer lstm_1 will not use cuDNN kernels since it doesn't meet the criteria. It will use a generic GPU kernel as fallback when running on GPU.\n",
            "WARNING:tensorflow:Layer lstm_1 will not use cuDNN kernels since it doesn't meet the criteria. It will use a generic GPU kernel as fallback when running on GPU.\n",
            "WARNING:tensorflow:Layer lstm_2 will not use cuDNN kernels since it doesn't meet the criteria. It will use a generic GPU kernel as fallback when running on GPU.\n",
            "WARNING:tensorflow:Layer lstm_2 will not use cuDNN kernels since it doesn't meet the criteria. It will use a generic GPU kernel as fallback when running on GPU.\n",
            "WARNING:tensorflow:Layer lstm_2 will not use cuDNN kernels since it doesn't meet the criteria. It will use a generic GPU kernel as fallback when running on GPU.\n"
          ]
        },
        {
          "output_type": "stream",
          "name": "stdout",
          "text": [
            "Epoch 1/100\n",
            "100/100 [==============================] - 26s 45ms/step - loss: 1.0336 - mse: 1.0336 - val_loss: 0.6512 - val_mse: 0.6512\n",
            "Epoch 2/100\n",
            "100/100 [==============================] - 3s 25ms/step - loss: 0.6400 - mse: 0.6400 - val_loss: 0.5703 - val_mse: 0.5703\n",
            "Epoch 3/100\n",
            "100/100 [==============================] - 3s 27ms/step - loss: 0.6159 - mse: 0.6159 - val_loss: 0.5626 - val_mse: 0.5626\n",
            "Epoch 4/100\n",
            "100/100 [==============================] - 3s 33ms/step - loss: 0.6117 - mse: 0.6117 - val_loss: 0.6060 - val_mse: 0.6060\n",
            "Epoch 5/100\n",
            "100/100 [==============================] - 1s 12ms/step - loss: 0.6028 - mse: 0.6028 - val_loss: 0.5677 - val_mse: 0.5677\n",
            "Epoch 6/100\n",
            "100/100 [==============================] - 1s 11ms/step - loss: 0.5975 - mse: 0.5975 - val_loss: 0.5649 - val_mse: 0.5649\n",
            "Epoch 7/100\n",
            "100/100 [==============================] - 1s 11ms/step - loss: 0.5956 - mse: 0.5956 - val_loss: 0.5612 - val_mse: 0.5612\n",
            "Epoch 8/100\n",
            "100/100 [==============================] - 1s 11ms/step - loss: 0.5923 - mse: 0.5923 - val_loss: 0.5621 - val_mse: 0.5621\n",
            "Epoch 9/100\n",
            "100/100 [==============================] - 1s 12ms/step - loss: 0.5971 - mse: 0.5971 - val_loss: 0.5524 - val_mse: 0.5524\n",
            "Epoch 10/100\n",
            "100/100 [==============================] - 1s 12ms/step - loss: 0.5877 - mse: 0.5877 - val_loss: 0.5706 - val_mse: 0.5706\n",
            "Epoch 11/100\n",
            "100/100 [==============================] - 1s 11ms/step - loss: 0.5825 - mse: 0.5825 - val_loss: 0.5425 - val_mse: 0.5425\n",
            "Epoch 12/100\n",
            "100/100 [==============================] - 1s 11ms/step - loss: 0.5856 - mse: 0.5856 - val_loss: 0.5514 - val_mse: 0.5514\n",
            "Epoch 13/100\n",
            "100/100 [==============================] - 2s 17ms/step - loss: 0.5837 - mse: 0.5837 - val_loss: 0.5519 - val_mse: 0.5519\n",
            "Epoch 14/100\n",
            "100/100 [==============================] - 2s 19ms/step - loss: 0.5849 - mse: 0.5849 - val_loss: 0.5449 - val_mse: 0.5449\n",
            "Epoch 15/100\n",
            "100/100 [==============================] - 1s 11ms/step - loss: 0.5775 - mse: 0.5775 - val_loss: 0.5367 - val_mse: 0.5367\n",
            "Epoch 16/100\n",
            "100/100 [==============================] - 1s 11ms/step - loss: 0.5832 - mse: 0.5832 - val_loss: 0.5519 - val_mse: 0.5519\n",
            "Epoch 17/100\n",
            "100/100 [==============================] - 1s 11ms/step - loss: 0.5755 - mse: 0.5755 - val_loss: 0.5421 - val_mse: 0.5421\n",
            "Epoch 18/100\n",
            "100/100 [==============================] - 1s 11ms/step - loss: 0.5724 - mse: 0.5724 - val_loss: 0.5393 - val_mse: 0.5393\n",
            "Epoch 19/100\n",
            "100/100 [==============================] - 1s 11ms/step - loss: 0.5706 - mse: 0.5706 - val_loss: 0.5451 - val_mse: 0.5451\n",
            "Epoch 20/100\n",
            "100/100 [==============================] - 1s 11ms/step - loss: 0.5687 - mse: 0.5687 - val_loss: 0.5601 - val_mse: 0.5601\n",
            "Epoch 21/100\n",
            "100/100 [==============================] - 1s 11ms/step - loss: 0.5719 - mse: 0.5719 - val_loss: 0.5498 - val_mse: 0.5498\n",
            "Epoch 22/100\n",
            "100/100 [==============================] - 1s 11ms/step - loss: 0.5730 - mse: 0.5730 - val_loss: 0.5421 - val_mse: 0.5421\n",
            "Epoch 23/100\n",
            "100/100 [==============================] - 2s 16ms/step - loss: 0.5752 - mse: 0.5752 - val_loss: 0.5542 - val_mse: 0.5542\n",
            "Epoch 24/100\n",
            "100/100 [==============================] - 2s 20ms/step - loss: 0.5695 - mse: 0.5695 - val_loss: 0.5322 - val_mse: 0.5322\n",
            "Epoch 25/100\n",
            "100/100 [==============================] - 1s 12ms/step - loss: 0.5649 - mse: 0.5649 - val_loss: 0.5527 - val_mse: 0.5527\n",
            "Epoch 26/100\n",
            "100/100 [==============================] - 1s 11ms/step - loss: 0.5647 - mse: 0.5647 - val_loss: 0.5457 - val_mse: 0.5457\n",
            "Epoch 27/100\n",
            "100/100 [==============================] - 1s 11ms/step - loss: 0.5611 - mse: 0.5611 - val_loss: 0.5384 - val_mse: 0.5384\n",
            "Epoch 28/100\n",
            "100/100 [==============================] - 1s 12ms/step - loss: 0.5627 - mse: 0.5627 - val_loss: 0.5250 - val_mse: 0.5250\n",
            "Epoch 29/100\n",
            "100/100 [==============================] - 1s 12ms/step - loss: 0.5627 - mse: 0.5627 - val_loss: 0.5314 - val_mse: 0.5314\n",
            "Epoch 30/100\n",
            "100/100 [==============================] - 1s 12ms/step - loss: 0.5590 - mse: 0.5590 - val_loss: 0.5256 - val_mse: 0.5256\n",
            "Epoch 31/100\n",
            "100/100 [==============================] - 1s 12ms/step - loss: 0.5599 - mse: 0.5599 - val_loss: 0.5320 - val_mse: 0.5320\n",
            "Epoch 32/100\n",
            "100/100 [==============================] - 1s 11ms/step - loss: 0.5584 - mse: 0.5584 - val_loss: 0.5192 - val_mse: 0.5192\n",
            "Epoch 33/100\n",
            "100/100 [==============================] - 2s 15ms/step - loss: 0.5606 - mse: 0.5606 - val_loss: 0.5272 - val_mse: 0.5272\n",
            "Epoch 34/100\n",
            "100/100 [==============================] - 2s 19ms/step - loss: 0.5532 - mse: 0.5532 - val_loss: 0.5301 - val_mse: 0.5301\n",
            "Epoch 35/100\n",
            "100/100 [==============================] - 1s 12ms/step - loss: 0.5560 - mse: 0.5560 - val_loss: 0.5195 - val_mse: 0.5195\n",
            "Epoch 36/100\n",
            "100/100 [==============================] - 2s 18ms/step - loss: 0.5556 - mse: 0.5556 - val_loss: 0.5196 - val_mse: 0.5196\n",
            "Epoch 37/100\n",
            "100/100 [==============================] - 2s 21ms/step - loss: 0.5511 - mse: 0.5511 - val_loss: 0.5220 - val_mse: 0.5220\n",
            "Epoch 38/100\n",
            "100/100 [==============================] - 1s 11ms/step - loss: 0.5494 - mse: 0.5494 - val_loss: 0.5200 - val_mse: 0.5200\n",
            "Epoch 39/100\n",
            "100/100 [==============================] - 1s 12ms/step - loss: 0.5491 - mse: 0.5491 - val_loss: 0.5495 - val_mse: 0.5495\n",
            "Epoch 40/100\n",
            "100/100 [==============================] - 1s 11ms/step - loss: 0.5451 - mse: 0.5451 - val_loss: 0.5210 - val_mse: 0.5210\n",
            "Epoch 41/100\n",
            "100/100 [==============================] - 1s 12ms/step - loss: 0.5505 - mse: 0.5505 - val_loss: 0.5197 - val_mse: 0.5197\n",
            "Epoch 42/100\n",
            "100/100 [==============================] - 2s 20ms/step - loss: 0.5493 - mse: 0.5493 - val_loss: 0.5202 - val_mse: 0.5202\n"
          ]
        }
      ],
      "source": [
        "from tensorflow.keras.callbacks import EarlyStopping\n",
        "\n",
        "early_stopping = EarlyStopping(monitor='val_loss', patience=10, restore_best_weights=True)\n",
        "dl_model = build_model()\n",
        "history = dl_model.fit(dataset,validation_data=val_dataset,batch_size=batch_size,epochs=100,callbacks=[early_stopping])"
      ]
    },
    {
      "cell_type": "code",
      "execution_count": null,
      "metadata": {
        "colab": {
          "base_uri": "https://localhost:8080/",
          "height": 564
        },
        "id": "GeBZ8rEAEMG7",
        "outputId": "76fa827f-913d-4a8f-f744-8ec82fb5a5f2"
      },
      "outputs": [
        {
          "output_type": "display_data",
          "data": {
            "text/plain": [
              "<Figure size 1000x600 with 1 Axes>"
            ],
            "image/png": "[encoded data removed]"
          },
          "metadata": {}
        }
      ],
      "source": [
        "import matplotlib.pyplot as plt\n",
        "\n",
        "# Extract learning rates and losses from the training history\n",
        "epochs = range(len(history.history['loss']))\n",
        "losses = history.history['loss']\n",
        "val_losses = history.history['val_loss']\n",
        "\n",
        "plt.figure(figsize=(10, 6))\n",
        "plt.plot(epochs, losses)\n",
        "plt.plot(epochs, val_losses)\n",
        "plt.xlabel('Epoch')\n",
        "plt.ylabel('Loss')\n",
        "plt.title('Loss vs epochs')\n",
        "plt.grid(True)\n",
        "plt.show()"
      ]
    },
    {
      "cell_type": "code",
      "execution_count": null,
      "metadata": {
        "colab": {
          "base_uri": "https://localhost:8080/"
        },
        "id": "gOouHAIuEPH-",
        "outputId": "317c0f37-ed76-440d-9bcd-46498ead7016"
      },
      "outputs": [
        {
          "output_type": "stream",
          "name": "stdout",
          "text": [
            "717/717 [==============================] - 3s 3ms/step\n"
          ]
        }
      ],
      "source": [
        "val_dataset = tf.data.Dataset.from_tensor_slices((X_test,y_test))\n",
        "val_dataset = val_dataset.map(expand_dims,num_parallel_calls=tf.data.AUTOTUNE,deterministic=False)\n",
        "val_dataset = val_dataset.cache()\n",
        "val_dataset = val_dataset.batch(batch_size=1, drop_remainder=True, num_parallel_calls=tf.data.AUTOTUNE)\n",
        "val_dataset = val_dataset.prefetch(tf.data.AUTOTUNE)\n",
        "preds = dl_model.predict(val_dataset)"
      ]
    },
    {
      "cell_type": "code",
      "execution_count": null,
      "metadata": {
        "id": "vndoO2ekERzi"
      },
      "outputs": [],
      "source": [
        "def mcrmse(y_true, y_pred):\n",
        "    return np.mean(np.sqrt(np.mean((y_true - y_pred)**2, axis=0)))"
      ]
    },
    {
      "cell_type": "code",
      "execution_count": null,
      "metadata": {
        "colab": {
          "base_uri": "https://localhost:8080/"
        },
        "id": "QzxkHG_YYUgs",
        "outputId": "2f91f71d-48fd-4ea1-b0b9-496b2c5a6575"
      },
      "outputs": [
        {
          "output_type": "execute_result",
          "data": {
            "text/plain": [
              "0.7094553480773613"
            ]
          },
          "metadata": {},
          "execution_count": 47
        }
      ],
      "source": [
        "mcrmse(y_test,preds)"
      ]
    },
    {
      "cell_type": "markdown",
      "metadata": {
        "id": "3w04B-K8rEXu"
      },
      "source": [
        "**0.5742792070901599**"
      ]
    },
    {
      "cell_type": "code",
      "execution_count": null,
      "metadata": {
        "colab": {
          "base_uri": "https://localhost:8080/",
          "height": 446
        },
        "id": "1v2rmeJbbPMb",
        "outputId": "3935540a-6cc7-4d7a-8b41-4c22d037e432"
      },
      "outputs": [
        {
          "output_type": "display_data",
          "data": {
            "text/plain": [
              "<Figure size 1200x500 with 2 Axes>"
            ],
            "image/png": "[encoded data removed]"
          },
          "metadata": {}
        }
      ],
      "source": [
        "import matplotlib.pyplot as plt\n",
        "fig, ax = plt.subplots(nrows=1,ncols=2, figsize=(12,5))\n",
        "ax[0].hist(y_test[:,0],bins=50,)\n",
        "ax[1].hist(preds[:,0],bins=50)\n",
        "\n",
        "plt.grid(True)"
      ]
    },
    {
      "cell_type": "code",
      "execution_count": null,
      "metadata": {
        "id": "g-TuEFsGEfHi"
      },
      "outputs": [],
      "source": [
        "from google.colab import drive"
      ]
    },
    {
      "cell_type": "code",
      "execution_count": null,
      "metadata": {
        "colab": {
          "base_uri": "https://localhost:8080/"
        },
        "id": "DCyLP9LMEUrA",
        "outputId": "15c76b24-c266-4fdd-dc55-56cb9bee671f"
      },
      "outputs": [
        {
          "name": "stdout",
          "output_type": "stream",
          "text": [
            "Mounted at content\n"
          ]
        }
      ],
      "source": [
        "drive.mount('content')"
      ]
    },
    {
      "cell_type": "code",
      "execution_count": null,
      "metadata": {
        "id": "DLVhUsS1EWrT"
      },
      "outputs": [],
      "source": [
        "tf.saved_model.save(model, '/content/content/MyDrive/adder/model')"
      ]
    },
    {
      "cell_type": "code",
      "execution_count": null,
      "metadata": {
        "id": "8TtSN9eRcNf0"
      },
      "outputs": [],
      "source": [
        "np.savez()"
      ]
    },
    {
      "cell_type": "code",
      "execution_count": null,
      "metadata": {
        "id": "qxt6D2PEcGX-"
      },
      "outputs": [],
      "source": [
        "tf.saved_model.save(model, '/content/content/MyDrive/adder/model')"
      ]
    }
  ],
  "metadata": {
    "accelerator": "GPU",
    "colab": {
      "provenance": [],
      "include_colab_link": true
    },
    "kernelspec": {
      "display_name": "Python 3",
      "name": "python3"
    },
    "language_info": {
      "name": "python"
    },
    "widgets": {
      "application/vnd.jupyter.widget-state+json": {
        "de40a812c0214e269427a75e892be421": {
          "model_module": "@jupyter-widgets/controls",
          "model_name": "HBoxModel",
          "model_module_version": "1.5.0",
          "state": {
            "_dom_classes": [],
            "_model_module": "@jupyter-widgets/controls",
            "_model_module_version": "1.5.0",
            "_model_name": "HBoxModel",
            "_view_count": null,
            "_view_module": "@jupyter-widgets/controls",
            "_view_module_version": "1.5.0",
            "_view_name": "HBoxView",
            "box_style": "",
            "children": [
              "IPY_MODEL_a3ec59ba9b614422b6dc2be2b8766318",
              "IPY_MODEL_42c384a314ea429d92a34bca00680753",
              "IPY_MODEL_096117ebc335402283685b8adf0ed61e"
            ],
            "layout": "IPY_MODEL_87da8308ecf54b748b367b5a31b2951c"
          }
        },
        "a3ec59ba9b614422b6dc2be2b8766318": {
          "model_module": "@jupyter-widgets/controls",
          "model_name": "HTMLModel",
          "model_module_version": "1.5.0",
          "state": {
            "_dom_classes": [],
            "_model_module": "@jupyter-widgets/controls",
            "_model_module_version": "1.5.0",
            "_model_name": "HTMLModel",
            "_view_count": null,
            "_view_module": "@jupyter-widgets/controls",
            "_view_module_version": "1.5.0",
            "_view_name": "HTMLView",
            "description": "",
            "description_tooltip": null,
            "layout": "IPY_MODEL_bd6839665862425bbee965c574ebc011",
            "placeholder": "​",
            "style": "IPY_MODEL_8dc4594bdd2e4980b10cc63d13d3d853",
            "value": "Downloading (…)okenizer_config.json: 100%"
          }
        },
        "42c384a314ea429d92a34bca00680753": {
          "model_module": "@jupyter-widgets/controls",
          "model_name": "FloatProgressModel",
          "model_module_version": "1.5.0",
          "state": {
            "_dom_classes": [],
            "_model_module": "@jupyter-widgets/controls",
            "_model_module_version": "1.5.0",
            "_model_name": "FloatProgressModel",
            "_view_count": null,
            "_view_module": "@jupyter-widgets/controls",
            "_view_module_version": "1.5.0",
            "_view_name": "ProgressView",
            "bar_style": "success",
            "description": "",
            "description_tooltip": null,
            "layout": "IPY_MODEL_32c321b956474f56bd03858042573b5f",
            "max": 52,
            "min": 0,
            "orientation": "horizontal",
            "style": "IPY_MODEL_94a0569503b443a4b6a66bde9e077d68",
            "value": 52
          }
        },
        "096117ebc335402283685b8adf0ed61e": {
          "model_module": "@jupyter-widgets/controls",
          "model_name": "HTMLModel",
          "model_module_version": "1.5.0",
          "state": {
            "_dom_classes": [],
            "_model_module": "@jupyter-widgets/controls",
            "_model_module_version": "1.5.0",
            "_model_name": "HTMLModel",
            "_view_count": null,
            "_view_module": "@jupyter-widgets/controls",
            "_view_module_version": "1.5.0",
            "_view_name": "HTMLView",
            "description": "",
            "description_tooltip": null,
            "layout": "IPY_MODEL_d3e741033af241f2ba80eac93f0807c4",
            "placeholder": "​",
            "style": "IPY_MODEL_aeec0630379241b5acf1bf35eb83bbb6",
            "value": " 52.0/52.0 [00:00&lt;00:00, 686B/s]"
          }
        },
        "87da8308ecf54b748b367b5a31b2951c": {
          "model_module": "@jupyter-widgets/base",
          "model_name": "LayoutModel",
          "model_module_version": "1.2.0",
          "state": {
            "_model_module": "@jupyter-widgets/base",
            "_model_module_version": "1.2.0",
            "_model_name": "LayoutModel",
            "_view_count": null,
            "_view_module": "@jupyter-widgets/base",
            "_view_module_version": "1.2.0",
            "_view_name": "LayoutView",
            "align_content": null,
            "align_items": null,
            "align_self": null,
            "border": null,
            "bottom": null,
            "display": null,
            "flex": null,
            "flex_flow": null,
            "grid_area": null,
            "grid_auto_columns": null,
            "grid_auto_flow": null,
            "grid_auto_rows": null,
            "grid_column": null,
            "grid_gap": null,
            "grid_row": null,
            "grid_template_areas": null,
            "grid_template_columns": null,
            "grid_template_rows": null,
            "height": null,
            "justify_content": null,
            "justify_items": null,
            "left": null,
            "margin": null,
            "max_height": null,
            "max_width": null,
            "min_height": null,
            "min_width": null,
            "object_fit": null,
            "object_position": null,
            "order": null,
            "overflow": null,
            "overflow_x": null,
            "overflow_y": null,
            "padding": null,
            "right": null,
            "top": null,
            "visibility": null,
            "width": null
          }
        },
        "bd6839665862425bbee965c574ebc011": {
          "model_module": "@jupyter-widgets/base",
          "model_name": "LayoutModel",
          "model_module_version": "1.2.0",
          "state": {
            "_model_module": "@jupyter-widgets/base",
            "_model_module_version": "1.2.0",
            "_model_name": "LayoutModel",
            "_view_count": null,
            "_view_module": "@jupyter-widgets/base",
            "_view_module_version": "1.2.0",
            "_view_name": "LayoutView",
            "align_content": null,
            "align_items": null,
            "align_self": null,
            "border": null,
            "bottom": null,
            "display": null,
            "flex": null,
            "flex_flow": null,
            "grid_area": null,
            "grid_auto_columns": null,
            "grid_auto_flow": null,
            "grid_auto_rows": null,
            "grid_column": null,
            "grid_gap": null,
            "grid_row": null,
            "grid_template_areas": null,
            "grid_template_columns": null,
            "grid_template_rows": null,
            "height": null,
            "justify_content": null,
            "justify_items": null,
            "left": null,
            "margin": null,
            "max_height": null,
            "max_width": null,
            "min_height": null,
            "min_width": null,
            "object_fit": null,
            "object_position": null,
            "order": null,
            "overflow": null,
            "overflow_x": null,
            "overflow_y": null,
            "padding": null,
            "right": null,
            "top": null,
            "visibility": null,
            "width": null
          }
        },
        "8dc4594bdd2e4980b10cc63d13d3d853": {
          "model_module": "@jupyter-widgets/controls",
          "model_name": "DescriptionStyleModel",
          "model_module_version": "1.5.0",
          "state": {
            "_model_module": "@jupyter-widgets/controls",
            "_model_module_version": "1.5.0",
            "_model_name": "DescriptionStyleModel",
            "_view_count": null,
            "_view_module": "@jupyter-widgets/base",
            "_view_module_version": "1.2.0",
            "_view_name": "StyleView",
            "description_width": ""
          }
        },
        "32c321b956474f56bd03858042573b5f": {
          "model_module": "@jupyter-widgets/base",
          "model_name": "LayoutModel",
          "model_module_version": "1.2.0",
          "state": {
            "_model_module": "@jupyter-widgets/base",
            "_model_module_version": "1.2.0",
            "_model_name": "LayoutModel",
            "_view_count": null,
            "_view_module": "@jupyter-widgets/base",
            "_view_module_version": "1.2.0",
            "_view_name": "LayoutView",
            "align_content": null,
            "align_items": null,
            "align_self": null,
            "border": null,
            "bottom": null,
            "display": null,
            "flex": null,
            "flex_flow": null,
            "grid_area": null,
            "grid_auto_columns": null,
            "grid_auto_flow": null,
            "grid_auto_rows": null,
            "grid_column": null,
            "grid_gap": null,
            "grid_row": null,
            "grid_template_areas": null,
            "grid_template_columns": null,
            "grid_template_rows": null,
            "height": null,
            "justify_content": null,
            "justify_items": null,
            "left": null,
            "margin": null,
            "max_height": null,
            "max_width": null,
            "min_height": null,
            "min_width": null,
            "object_fit": null,
            "object_position": null,
            "order": null,
            "overflow": null,
            "overflow_x": null,
            "overflow_y": null,
            "padding": null,
            "right": null,
            "top": null,
            "visibility": null,
            "width": null
          }
        },
        "94a0569503b443a4b6a66bde9e077d68": {
          "model_module": "@jupyter-widgets/controls",
          "model_name": "ProgressStyleModel",
          "model_module_version": "1.5.0",
          "state": {
            "_model_module": "@jupyter-widgets/controls",
            "_model_module_version": "1.5.0",
            "_model_name": "ProgressStyleModel",
            "_view_count": null,
            "_view_module": "@jupyter-widgets/base",
            "_view_module_version": "1.2.0",
            "_view_name": "StyleView",
            "bar_color": null,
            "description_width": ""
          }
        },
        "d3e741033af241f2ba80eac93f0807c4": {
          "model_module": "@jupyter-widgets/base",
          "model_name": "LayoutModel",
          "model_module_version": "1.2.0",
          "state": {
            "_model_module": "@jupyter-widgets/base",
            "_model_module_version": "1.2.0",
            "_model_name": "LayoutModel",
            "_view_count": null,
            "_view_module": "@jupyter-widgets/base",
            "_view_module_version": "1.2.0",
            "_view_name": "LayoutView",
            "align_content": null,
            "align_items": null,
            "align_self": null,
            "border": null,
            "bottom": null,
            "display": null,
            "flex": null,
            "flex_flow": null,
            "grid_area": null,
            "grid_auto_columns": null,
            "grid_auto_flow": null,
            "grid_auto_rows": null,
            "grid_column": null,
            "grid_gap": null,
            "grid_row": null,
            "grid_template_areas": null,
            "grid_template_columns": null,
            "grid_template_rows": null,
            "height": null,
            "justify_content": null,
            "justify_items": null,
            "left": null,
            "margin": null,
            "max_height": null,
            "max_width": null,
            "min_height": null,
            "min_width": null,
            "object_fit": null,
            "object_position": null,
            "order": null,
            "overflow": null,
            "overflow_x": null,
            "overflow_y": null,
            "padding": null,
            "right": null,
            "top": null,
            "visibility": null,
            "width": null
          }
        },
        "aeec0630379241b5acf1bf35eb83bbb6": {
          "model_module": "@jupyter-widgets/controls",
          "model_name": "DescriptionStyleModel",
          "model_module_version": "1.5.0",
          "state": {
            "_model_module": "@jupyter-widgets/controls",
            "_model_module_version": "1.5.0",
            "_model_name": "DescriptionStyleModel",
            "_view_count": null,
            "_view_module": "@jupyter-widgets/base",
            "_view_module_version": "1.2.0",
            "_view_name": "StyleView",
            "description_width": ""
          }
        },
        "1479108dbd044e3da9a97ec916e73d08": {
          "model_module": "@jupyter-widgets/controls",
          "model_name": "HBoxModel",
          "model_module_version": "1.5.0",
          "state": {
            "_dom_classes": [],
            "_model_module": "@jupyter-widgets/controls",
            "_model_module_version": "1.5.0",
            "_model_name": "HBoxModel",
            "_view_count": null,
            "_view_module": "@jupyter-widgets/controls",
            "_view_module_version": "1.5.0",
            "_view_name": "HBoxView",
            "box_style": "",
            "children": [
              "IPY_MODEL_ef9e080ae8fb40db8d65ee775b0ab383",
              "IPY_MODEL_9c4c0625efb84397aeef32955ef5e680",
              "IPY_MODEL_2a96c1b3ecb04fa08ab797f56dbdeb9f"
            ],
            "layout": "IPY_MODEL_1a937931bd3f4612b267dc6c1c902502"
          }
        },
        "ef9e080ae8fb40db8d65ee775b0ab383": {
          "model_module": "@jupyter-widgets/controls",
          "model_name": "HTMLModel",
          "model_module_version": "1.5.0",
          "state": {
            "_dom_classes": [],
            "_model_module": "@jupyter-widgets/controls",
            "_model_module_version": "1.5.0",
            "_model_name": "HTMLModel",
            "_view_count": null,
            "_view_module": "@jupyter-widgets/controls",
            "_view_module_version": "1.5.0",
            "_view_name": "HTMLView",
            "description": "",
            "description_tooltip": null,
            "layout": "IPY_MODEL_850e708ca8f54332b5a1b1b8abb5d976",
            "placeholder": "​",
            "style": "IPY_MODEL_82f295822c9f4642ac39c3acd33bbec7",
            "value": "Downloading (…)lve/main/config.json: 100%"
          }
        },
        "9c4c0625efb84397aeef32955ef5e680": {
          "model_module": "@jupyter-widgets/controls",
          "model_name": "FloatProgressModel",
          "model_module_version": "1.5.0",
          "state": {
            "_dom_classes": [],
            "_model_module": "@jupyter-widgets/controls",
            "_model_module_version": "1.5.0",
            "_model_name": "FloatProgressModel",
            "_view_count": null,
            "_view_module": "@jupyter-widgets/controls",
            "_view_module_version": "1.5.0",
            "_view_name": "ProgressView",
            "bar_style": "success",
            "description": "",
            "description_tooltip": null,
            "layout": "IPY_MODEL_82c73a14b6644b19bd77d2be3ebefd17",
            "max": 578,
            "min": 0,
            "orientation": "horizontal",
            "style": "IPY_MODEL_28e31b7f96ee4d679e02f84c06058b26",
            "value": 578
          }
        },
        "2a96c1b3ecb04fa08ab797f56dbdeb9f": {
          "model_module": "@jupyter-widgets/controls",
          "model_name": "HTMLModel",
          "model_module_version": "1.5.0",
          "state": {
            "_dom_classes": [],
            "_model_module": "@jupyter-widgets/controls",
            "_model_module_version": "1.5.0",
            "_model_name": "HTMLModel",
            "_view_count": null,
            "_view_module": "@jupyter-widgets/controls",
            "_view_module_version": "1.5.0",
            "_view_name": "HTMLView",
            "description": "",
            "description_tooltip": null,
            "layout": "IPY_MODEL_4dbf2fe1fdbd4739be31cde1c23f9645",
            "placeholder": "​",
            "style": "IPY_MODEL_33f9097033ae4e16bf4681a8a297cdd6",
            "value": " 578/578 [00:00&lt;00:00, 23.1kB/s]"
          }
        },
        "1a937931bd3f4612b267dc6c1c902502": {
          "model_module": "@jupyter-widgets/base",
          "model_name": "LayoutModel",
          "model_module_version": "1.2.0",
          "state": {
            "_model_module": "@jupyter-widgets/base",
            "_model_module_version": "1.2.0",
            "_model_name": "LayoutModel",
            "_view_count": null,
            "_view_module": "@jupyter-widgets/base",
            "_view_module_version": "1.2.0",
            "_view_name": "LayoutView",
            "align_content": null,
            "align_items": null,
            "align_self": null,
            "border": null,
            "bottom": null,
            "display": null,
            "flex": null,
            "flex_flow": null,
            "grid_area": null,
            "grid_auto_columns": null,
            "grid_auto_flow": null,
            "grid_auto_rows": null,
            "grid_column": null,
            "grid_gap": null,
            "grid_row": null,
            "grid_template_areas": null,
            "grid_template_columns": null,
            "grid_template_rows": null,
            "height": null,
            "justify_content": null,
            "justify_items": null,
            "left": null,
            "margin": null,
            "max_height": null,
            "max_width": null,
            "min_height": null,
            "min_width": null,
            "object_fit": null,
            "object_position": null,
            "order": null,
            "overflow": null,
            "overflow_x": null,
            "overflow_y": null,
            "padding": null,
            "right": null,
            "top": null,
            "visibility": null,
            "width": null
          }
        },
        "850e708ca8f54332b5a1b1b8abb5d976": {
          "model_module": "@jupyter-widgets/base",
          "model_name": "LayoutModel",
          "model_module_version": "1.2.0",
          "state": {
            "_model_module": "@jupyter-widgets/base",
            "_model_module_version": "1.2.0",
            "_model_name": "LayoutModel",
            "_view_count": null,
            "_view_module": "@jupyter-widgets/base",
            "_view_module_version": "1.2.0",
            "_view_name": "LayoutView",
            "align_content": null,
            "align_items": null,
            "align_self": null,
            "border": null,
            "bottom": null,
            "display": null,
            "flex": null,
            "flex_flow": null,
            "grid_area": null,
            "grid_auto_columns": null,
            "grid_auto_flow": null,
            "grid_auto_rows": null,
            "grid_column": null,
            "grid_gap": null,
            "grid_row": null,
            "grid_template_areas": null,
            "grid_template_columns": null,
            "grid_template_rows": null,
            "height": null,
            "justify_content": null,
            "justify_items": null,
            "left": null,
            "margin": null,
            "max_height": null,
            "max_width": null,
            "min_height": null,
            "min_width": null,
            "object_fit": null,
            "object_position": null,
            "order": null,
            "overflow": null,
            "overflow_x": null,
            "overflow_y": null,
            "padding": null,
            "right": null,
            "top": null,
            "visibility": null,
            "width": null
          }
        },
        "82f295822c9f4642ac39c3acd33bbec7": {
          "model_module": "@jupyter-widgets/controls",
          "model_name": "DescriptionStyleModel",
          "model_module_version": "1.5.0",
          "state": {
            "_model_module": "@jupyter-widgets/controls",
            "_model_module_version": "1.5.0",
            "_model_name": "DescriptionStyleModel",
            "_view_count": null,
            "_view_module": "@jupyter-widgets/base",
            "_view_module_version": "1.2.0",
            "_view_name": "StyleView",
            "description_width": ""
          }
        },
        "82c73a14b6644b19bd77d2be3ebefd17": {
          "model_module": "@jupyter-widgets/base",
          "model_name": "LayoutModel",
          "model_module_version": "1.2.0",
          "state": {
            "_model_module": "@jupyter-widgets/base",
            "_model_module_version": "1.2.0",
            "_model_name": "LayoutModel",
            "_view_count": null,
            "_view_module": "@jupyter-widgets/base",
            "_view_module_version": "1.2.0",
            "_view_name": "LayoutView",
            "align_content": null,
            "align_items": null,
            "align_self": null,
            "border": null,
            "bottom": null,
            "display": null,
            "flex": null,
            "flex_flow": null,
            "grid_area": null,
            "grid_auto_columns": null,
            "grid_auto_flow": null,
            "grid_auto_rows": null,
            "grid_column": null,
            "grid_gap": null,
            "grid_row": null,
            "grid_template_areas": null,
            "grid_template_columns": null,
            "grid_template_rows": null,
            "height": null,
            "justify_content": null,
            "justify_items": null,
            "left": null,
            "margin": null,
            "max_height": null,
            "max_width": null,
            "min_height": null,
            "min_width": null,
            "object_fit": null,
            "object_position": null,
            "order": null,
            "overflow": null,
            "overflow_x": null,
            "overflow_y": null,
            "padding": null,
            "right": null,
            "top": null,
            "visibility": null,
            "width": null
          }
        },
        "28e31b7f96ee4d679e02f84c06058b26": {
          "model_module": "@jupyter-widgets/controls",
          "model_name": "ProgressStyleModel",
          "model_module_version": "1.5.0",
          "state": {
            "_model_module": "@jupyter-widgets/controls",
            "_model_module_version": "1.5.0",
            "_model_name": "ProgressStyleModel",
            "_view_count": null,
            "_view_module": "@jupyter-widgets/base",
            "_view_module_version": "1.2.0",
            "_view_name": "StyleView",
            "bar_color": null,
            "description_width": ""
          }
        },
        "4dbf2fe1fdbd4739be31cde1c23f9645": {
          "model_module": "@jupyter-widgets/base",
          "model_name": "LayoutModel",
          "model_module_version": "1.2.0",
          "state": {
            "_model_module": "@jupyter-widgets/base",
            "_model_module_version": "1.2.0",
            "_model_name": "LayoutModel",
            "_view_count": null,
            "_view_module": "@jupyter-widgets/base",
            "_view_module_version": "1.2.0",
            "_view_name": "LayoutView",
            "align_content": null,
            "align_items": null,
            "align_self": null,
            "border": null,
            "bottom": null,
            "display": null,
            "flex": null,
            "flex_flow": null,
            "grid_area": null,
            "grid_auto_columns": null,
            "grid_auto_flow": null,
            "grid_auto_rows": null,
            "grid_column": null,
            "grid_gap": null,
            "grid_row": null,
            "grid_template_areas": null,
            "grid_template_columns": null,
            "grid_template_rows": null,
            "height": null,
            "justify_content": null,
            "justify_items": null,
            "left": null,
            "margin": null,
            "max_height": null,
            "max_width": null,
            "min_height": null,
            "min_width": null,
            "object_fit": null,
            "object_position": null,
            "order": null,
            "overflow": null,
            "overflow_x": null,
            "overflow_y": null,
            "padding": null,
            "right": null,
            "top": null,
            "visibility": null,
            "width": null
          }
        },
        "33f9097033ae4e16bf4681a8a297cdd6": {
          "model_module": "@jupyter-widgets/controls",
          "model_name": "DescriptionStyleModel",
          "model_module_version": "1.5.0",
          "state": {
            "_model_module": "@jupyter-widgets/controls",
            "_model_module_version": "1.5.0",
            "_model_name": "DescriptionStyleModel",
            "_view_count": null,
            "_view_module": "@jupyter-widgets/base",
            "_view_module_version": "1.2.0",
            "_view_name": "StyleView",
            "description_width": ""
          }
        },
        "04bdfe5a8a464ad2bb8b1b9f094b3f12": {
          "model_module": "@jupyter-widgets/controls",
          "model_name": "HBoxModel",
          "model_module_version": "1.5.0",
          "state": {
            "_dom_classes": [],
            "_model_module": "@jupyter-widgets/controls",
            "_model_module_version": "1.5.0",
            "_model_name": "HBoxModel",
            "_view_count": null,
            "_view_module": "@jupyter-widgets/controls",
            "_view_module_version": "1.5.0",
            "_view_name": "HBoxView",
            "box_style": "",
            "children": [
              "IPY_MODEL_d9ccf9c38a3c47d68a987bf419fd7a93",
              "IPY_MODEL_fc857a5cfa0440b7afc620443e3ee2c4",
              "IPY_MODEL_825dd907b8454908b4b8059a7c867919"
            ],
            "layout": "IPY_MODEL_1979a3e337c14110b1ce79a4a933db21"
          }
        },
        "d9ccf9c38a3c47d68a987bf419fd7a93": {
          "model_module": "@jupyter-widgets/controls",
          "model_name": "HTMLModel",
          "model_module_version": "1.5.0",
          "state": {
            "_dom_classes": [],
            "_model_module": "@jupyter-widgets/controls",
            "_model_module_version": "1.5.0",
            "_model_name": "HTMLModel",
            "_view_count": null,
            "_view_module": "@jupyter-widgets/controls",
            "_view_module_version": "1.5.0",
            "_view_name": "HTMLView",
            "description": "",
            "description_tooltip": null,
            "layout": "IPY_MODEL_0419fa194f7447eb9f7efb9c89e18996",
            "placeholder": "​",
            "style": "IPY_MODEL_48c56029109d46d7927a2e7c5db0e768",
            "value": "Downloading spm.model: 100%"
          }
        },
        "fc857a5cfa0440b7afc620443e3ee2c4": {
          "model_module": "@jupyter-widgets/controls",
          "model_name": "FloatProgressModel",
          "model_module_version": "1.5.0",
          "state": {
            "_dom_classes": [],
            "_model_module": "@jupyter-widgets/controls",
            "_model_module_version": "1.5.0",
            "_model_name": "FloatProgressModel",
            "_view_count": null,
            "_view_module": "@jupyter-widgets/controls",
            "_view_module_version": "1.5.0",
            "_view_name": "ProgressView",
            "bar_style": "success",
            "description": "",
            "description_tooltip": null,
            "layout": "IPY_MODEL_5293f71c7d1d4067a600744e57d0ec71",
            "max": 2464616,
            "min": 0,
            "orientation": "horizontal",
            "style": "IPY_MODEL_f8b0dd809ee14fe78e174a4b3488cf54",
            "value": 2464616
          }
        },
        "825dd907b8454908b4b8059a7c867919": {
          "model_module": "@jupyter-widgets/controls",
          "model_name": "HTMLModel",
          "model_module_version": "1.5.0",
          "state": {
            "_dom_classes": [],
            "_model_module": "@jupyter-widgets/controls",
            "_model_module_version": "1.5.0",
            "_model_name": "HTMLModel",
            "_view_count": null,
            "_view_module": "@jupyter-widgets/controls",
            "_view_module_version": "1.5.0",
            "_view_name": "HTMLView",
            "description": "",
            "description_tooltip": null,
            "layout": "IPY_MODEL_203bd0ae22ef437f97f5c65e769655ad",
            "placeholder": "​",
            "style": "IPY_MODEL_5350bb2dd3f149d5952da1552553ce28",
            "value": " 2.46M/2.46M [00:00&lt;00:00, 10.2MB/s]"
          }
        },
        "1979a3e337c14110b1ce79a4a933db21": {
          "model_module": "@jupyter-widgets/base",
          "model_name": "LayoutModel",
          "model_module_version": "1.2.0",
          "state": {
            "_model_module": "@jupyter-widgets/base",
            "_model_module_version": "1.2.0",
            "_model_name": "LayoutModel",
            "_view_count": null,
            "_view_module": "@jupyter-widgets/base",
            "_view_module_version": "1.2.0",
            "_view_name": "LayoutView",
            "align_content": null,
            "align_items": null,
            "align_self": null,
            "border": null,
            "bottom": null,
            "display": null,
            "flex": null,
            "flex_flow": null,
            "grid_area": null,
            "grid_auto_columns": null,
            "grid_auto_flow": null,
            "grid_auto_rows": null,
            "grid_column": null,
            "grid_gap": null,
            "grid_row": null,
            "grid_template_areas": null,
            "grid_template_columns": null,
            "grid_template_rows": null,
            "height": null,
            "justify_content": null,
            "justify_items": null,
            "left": null,
            "margin": null,
            "max_height": null,
            "max_width": null,
            "min_height": null,
            "min_width": null,
            "object_fit": null,
            "object_position": null,
            "order": null,
            "overflow": null,
            "overflow_x": null,
            "overflow_y": null,
            "padding": null,
            "right": null,
            "top": null,
            "visibility": null,
            "width": null
          }
        },
        "0419fa194f7447eb9f7efb9c89e18996": {
          "model_module": "@jupyter-widgets/base",
          "model_name": "LayoutModel",
          "model_module_version": "1.2.0",
          "state": {
            "_model_module": "@jupyter-widgets/base",
            "_model_module_version": "1.2.0",
            "_model_name": "LayoutModel",
            "_view_count": null,
            "_view_module": "@jupyter-widgets/base",
            "_view_module_version": "1.2.0",
            "_view_name": "LayoutView",
            "align_content": null,
            "align_items": null,
            "align_self": null,
            "border": null,
            "bottom": null,
            "display": null,
            "flex": null,
            "flex_flow": null,
            "grid_area": null,
            "grid_auto_columns": null,
            "grid_auto_flow": null,
            "grid_auto_rows": null,
            "grid_column": null,
            "grid_gap": null,
            "grid_row": null,
            "grid_template_areas": null,
            "grid_template_columns": null,
            "grid_template_rows": null,
            "height": null,
            "justify_content": null,
            "justify_items": null,
            "left": null,
            "margin": null,
            "max_height": null,
            "max_width": null,
            "min_height": null,
            "min_width": null,
            "object_fit": null,
            "object_position": null,
            "order": null,
            "overflow": null,
            "overflow_x": null,
            "overflow_y": null,
            "padding": null,
            "right": null,
            "top": null,
            "visibility": null,
            "width": null
          }
        },
        "48c56029109d46d7927a2e7c5db0e768": {
          "model_module": "@jupyter-widgets/controls",
          "model_name": "DescriptionStyleModel",
          "model_module_version": "1.5.0",
          "state": {
            "_model_module": "@jupyter-widgets/controls",
            "_model_module_version": "1.5.0",
            "_model_name": "DescriptionStyleModel",
            "_view_count": null,
            "_view_module": "@jupyter-widgets/base",
            "_view_module_version": "1.2.0",
            "_view_name": "StyleView",
            "description_width": ""
          }
        },
        "5293f71c7d1d4067a600744e57d0ec71": {
          "model_module": "@jupyter-widgets/base",
          "model_name": "LayoutModel",
          "model_module_version": "1.2.0",
          "state": {
            "_model_module": "@jupyter-widgets/base",
            "_model_module_version": "1.2.0",
            "_model_name": "LayoutModel",
            "_view_count": null,
            "_view_module": "@jupyter-widgets/base",
            "_view_module_version": "1.2.0",
            "_view_name": "LayoutView",
            "align_content": null,
            "align_items": null,
            "align_self": null,
            "border": null,
            "bottom": null,
            "display": null,
            "flex": null,
            "flex_flow": null,
            "grid_area": null,
            "grid_auto_columns": null,
            "grid_auto_flow": null,
            "grid_auto_rows": null,
            "grid_column": null,
            "grid_gap": null,
            "grid_row": null,
            "grid_template_areas": null,
            "grid_template_columns": null,
            "grid_template_rows": null,
            "height": null,
            "justify_content": null,
            "justify_items": null,
            "left": null,
            "margin": null,
            "max_height": null,
            "max_width": null,
            "min_height": null,
            "min_width": null,
            "object_fit": null,
            "object_position": null,
            "order": null,
            "overflow": null,
            "overflow_x": null,
            "overflow_y": null,
            "padding": null,
            "right": null,
            "top": null,
            "visibility": null,
            "width": null
          }
        },
        "f8b0dd809ee14fe78e174a4b3488cf54": {
          "model_module": "@jupyter-widgets/controls",
          "model_name": "ProgressStyleModel",
          "model_module_version": "1.5.0",
          "state": {
            "_model_module": "@jupyter-widgets/controls",
            "_model_module_version": "1.5.0",
            "_model_name": "ProgressStyleModel",
            "_view_count": null,
            "_view_module": "@jupyter-widgets/base",
            "_view_module_version": "1.2.0",
            "_view_name": "StyleView",
            "bar_color": null,
            "description_width": ""
          }
        },
        "203bd0ae22ef437f97f5c65e769655ad": {
          "model_module": "@jupyter-widgets/base",
          "model_name": "LayoutModel",
          "model_module_version": "1.2.0",
          "state": {
            "_model_module": "@jupyter-widgets/base",
            "_model_module_version": "1.2.0",
            "_model_name": "LayoutModel",
            "_view_count": null,
            "_view_module": "@jupyter-widgets/base",
            "_view_module_version": "1.2.0",
            "_view_name": "LayoutView",
            "align_content": null,
            "align_items": null,
            "align_self": null,
            "border": null,
            "bottom": null,
            "display": null,
            "flex": null,
            "flex_flow": null,
            "grid_area": null,
            "grid_auto_columns": null,
            "grid_auto_flow": null,
            "grid_auto_rows": null,
            "grid_column": null,
            "grid_gap": null,
            "grid_row": null,
            "grid_template_areas": null,
            "grid_template_columns": null,
            "grid_template_rows": null,
            "height": null,
            "justify_content": null,
            "justify_items": null,
            "left": null,
            "margin": null,
            "max_height": null,
            "max_width": null,
            "min_height": null,
            "min_width": null,
            "object_fit": null,
            "object_position": null,
            "order": null,
            "overflow": null,
            "overflow_x": null,
            "overflow_y": null,
            "padding": null,
            "right": null,
            "top": null,
            "visibility": null,
            "width": null
          }
        },
        "5350bb2dd3f149d5952da1552553ce28": {
          "model_module": "@jupyter-widgets/controls",
          "model_name": "DescriptionStyleModel",
          "model_module_version": "1.5.0",
          "state": {
            "_model_module": "@jupyter-widgets/controls",
            "_model_module_version": "1.5.0",
            "_model_name": "DescriptionStyleModel",
            "_view_count": null,
            "_view_module": "@jupyter-widgets/base",
            "_view_module_version": "1.2.0",
            "_view_name": "StyleView",
            "description_width": ""
          }
        },
        "09118f9f52ac45d4bba10c1768effd0d": {
          "model_module": "@jupyter-widgets/controls",
          "model_name": "HBoxModel",
          "model_module_version": "1.5.0",
          "state": {
            "_dom_classes": [],
            "_model_module": "@jupyter-widgets/controls",
            "_model_module_version": "1.5.0",
            "_model_name": "HBoxModel",
            "_view_count": null,
            "_view_module": "@jupyter-widgets/controls",
            "_view_module_version": "1.5.0",
            "_view_name": "HBoxView",
            "box_style": "",
            "children": [
              "IPY_MODEL_e636d4c0028647e7a7149020d3bad476",
              "IPY_MODEL_4f81be4d8f4046f5b6cba4818af668d1",
              "IPY_MODEL_3813d9f9b700420f902ea2a9e8bb929a"
            ],
            "layout": "IPY_MODEL_f6e46a7ad3d845c7aae9d7d5a902f037"
          }
        },
        "e636d4c0028647e7a7149020d3bad476": {
          "model_module": "@jupyter-widgets/controls",
          "model_name": "HTMLModel",
          "model_module_version": "1.5.0",
          "state": {
            "_dom_classes": [],
            "_model_module": "@jupyter-widgets/controls",
            "_model_module_version": "1.5.0",
            "_model_name": "HTMLModel",
            "_view_count": null,
            "_view_module": "@jupyter-widgets/controls",
            "_view_module_version": "1.5.0",
            "_view_name": "HTMLView",
            "description": "",
            "description_tooltip": null,
            "layout": "IPY_MODEL_8e55bdc761bd434f83646a439a92ec06",
            "placeholder": "​",
            "style": "IPY_MODEL_5f6bc96737e14b9c89c9f0e10db3afee",
            "value": "Downloading pytorch_model.bin: 100%"
          }
        },
        "4f81be4d8f4046f5b6cba4818af668d1": {
          "model_module": "@jupyter-widgets/controls",
          "model_name": "FloatProgressModel",
          "model_module_version": "1.5.0",
          "state": {
            "_dom_classes": [],
            "_model_module": "@jupyter-widgets/controls",
            "_model_module_version": "1.5.0",
            "_model_name": "FloatProgressModel",
            "_view_count": null,
            "_view_module": "@jupyter-widgets/controls",
            "_view_module_version": "1.5.0",
            "_view_name": "ProgressView",
            "bar_style": "success",
            "description": "",
            "description_tooltip": null,
            "layout": "IPY_MODEL_cf0c9910d4ba4a7a82b81344cfff740b",
            "max": 286059269,
            "min": 0,
            "orientation": "horizontal",
            "style": "IPY_MODEL_11fa164f6b3a4b03907a4511b5ffe117",
            "value": 286059269
          }
        },
        "3813d9f9b700420f902ea2a9e8bb929a": {
          "model_module": "@jupyter-widgets/controls",
          "model_name": "HTMLModel",
          "model_module_version": "1.5.0",
          "state": {
            "_dom_classes": [],
            "_model_module": "@jupyter-widgets/controls",
            "_model_module_version": "1.5.0",
            "_model_name": "HTMLModel",
            "_view_count": null,
            "_view_module": "@jupyter-widgets/controls",
            "_view_module_version": "1.5.0",
            "_view_name": "HTMLView",
            "description": "",
            "description_tooltip": null,
            "layout": "IPY_MODEL_d803c9611c61427696f4c7f1ff487f3a",
            "placeholder": "​",
            "style": "IPY_MODEL_56e31cbc7f5d436f8c9e61319c33acc4",
            "value": " 286M/286M [00:01&lt;00:00, 156MB/s]"
          }
        },
        "f6e46a7ad3d845c7aae9d7d5a902f037": {
          "model_module": "@jupyter-widgets/base",
          "model_name": "LayoutModel",
          "model_module_version": "1.2.0",
          "state": {
            "_model_module": "@jupyter-widgets/base",
            "_model_module_version": "1.2.0",
            "_model_name": "LayoutModel",
            "_view_count": null,
            "_view_module": "@jupyter-widgets/base",
            "_view_module_version": "1.2.0",
            "_view_name": "LayoutView",
            "align_content": null,
            "align_items": null,
            "align_self": null,
            "border": null,
            "bottom": null,
            "display": null,
            "flex": null,
            "flex_flow": null,
            "grid_area": null,
            "grid_auto_columns": null,
            "grid_auto_flow": null,
            "grid_auto_rows": null,
            "grid_column": null,
            "grid_gap": null,
            "grid_row": null,
            "grid_template_areas": null,
            "grid_template_columns": null,
            "grid_template_rows": null,
            "height": null,
            "justify_content": null,
            "justify_items": null,
            "left": null,
            "margin": null,
            "max_height": null,
            "max_width": null,
            "min_height": null,
            "min_width": null,
            "object_fit": null,
            "object_position": null,
            "order": null,
            "overflow": null,
            "overflow_x": null,
            "overflow_y": null,
            "padding": null,
            "right": null,
            "top": null,
            "visibility": null,
            "width": null
          }
        },
        "8e55bdc761bd434f83646a439a92ec06": {
          "model_module": "@jupyter-widgets/base",
          "model_name": "LayoutModel",
          "model_module_version": "1.2.0",
          "state": {
            "_model_module": "@jupyter-widgets/base",
            "_model_module_version": "1.2.0",
            "_model_name": "LayoutModel",
            "_view_count": null,
            "_view_module": "@jupyter-widgets/base",
            "_view_module_version": "1.2.0",
            "_view_name": "LayoutView",
            "align_content": null,
            "align_items": null,
            "align_self": null,
            "border": null,
            "bottom": null,
            "display": null,
            "flex": null,
            "flex_flow": null,
            "grid_area": null,
            "grid_auto_columns": null,
            "grid_auto_flow": null,
            "grid_auto_rows": null,
            "grid_column": null,
            "grid_gap": null,
            "grid_row": null,
            "grid_template_areas": null,
            "grid_template_columns": null,
            "grid_template_rows": null,
            "height": null,
            "justify_content": null,
            "justify_items": null,
            "left": null,
            "margin": null,
            "max_height": null,
            "max_width": null,
            "min_height": null,
            "min_width": null,
            "object_fit": null,
            "object_position": null,
            "order": null,
            "overflow": null,
            "overflow_x": null,
            "overflow_y": null,
            "padding": null,
            "right": null,
            "top": null,
            "visibility": null,
            "width": null
          }
        },
        "5f6bc96737e14b9c89c9f0e10db3afee": {
          "model_module": "@jupyter-widgets/controls",
          "model_name": "DescriptionStyleModel",
          "model_module_version": "1.5.0",
          "state": {
            "_model_module": "@jupyter-widgets/controls",
            "_model_module_version": "1.5.0",
            "_model_name": "DescriptionStyleModel",
            "_view_count": null,
            "_view_module": "@jupyter-widgets/base",
            "_view_module_version": "1.2.0",
            "_view_name": "StyleView",
            "description_width": ""
          }
        },
        "cf0c9910d4ba4a7a82b81344cfff740b": {
          "model_module": "@jupyter-widgets/base",
          "model_name": "LayoutModel",
          "model_module_version": "1.2.0",
          "state": {
            "_model_module": "@jupyter-widgets/base",
            "_model_module_version": "1.2.0",
            "_model_name": "LayoutModel",
            "_view_count": null,
            "_view_module": "@jupyter-widgets/base",
            "_view_module_version": "1.2.0",
            "_view_name": "LayoutView",
            "align_content": null,
            "align_items": null,
            "align_self": null,
            "border": null,
            "bottom": null,
            "display": null,
            "flex": null,
            "flex_flow": null,
            "grid_area": null,
            "grid_auto_columns": null,
            "grid_auto_flow": null,
            "grid_auto_rows": null,
            "grid_column": null,
            "grid_gap": null,
            "grid_row": null,
            "grid_template_areas": null,
            "grid_template_columns": null,
            "grid_template_rows": null,
            "height": null,
            "justify_content": null,
            "justify_items": null,
            "left": null,
            "margin": null,
            "max_height": null,
            "max_width": null,
            "min_height": null,
            "min_width": null,
            "object_fit": null,
            "object_position": null,
            "order": null,
            "overflow": null,
            "overflow_x": null,
            "overflow_y": null,
            "padding": null,
            "right": null,
            "top": null,
            "visibility": null,
            "width": null
          }
        },
        "11fa164f6b3a4b03907a4511b5ffe117": {
          "model_module": "@jupyter-widgets/controls",
          "model_name": "ProgressStyleModel",
          "model_module_version": "1.5.0",
          "state": {
            "_model_module": "@jupyter-widgets/controls",
            "_model_module_version": "1.5.0",
            "_model_name": "ProgressStyleModel",
            "_view_count": null,
            "_view_module": "@jupyter-widgets/base",
            "_view_module_version": "1.2.0",
            "_view_name": "StyleView",
            "bar_color": null,
            "description_width": ""
          }
        },
        "d803c9611c61427696f4c7f1ff487f3a": {
          "model_module": "@jupyter-widgets/base",
          "model_name": "LayoutModel",
          "model_module_version": "1.2.0",
          "state": {
            "_model_module": "@jupyter-widgets/base",
            "_model_module_version": "1.2.0",
            "_model_name": "LayoutModel",
            "_view_count": null,
            "_view_module": "@jupyter-widgets/base",
            "_view_module_version": "1.2.0",
            "_view_name": "LayoutView",
            "align_content": null,
            "align_items": null,
            "align_self": null,
            "border": null,
            "bottom": null,
            "display": null,
            "flex": null,
            "flex_flow": null,
            "grid_area": null,
            "grid_auto_columns": null,
            "grid_auto_flow": null,
            "grid_auto_rows": null,
            "grid_column": null,
            "grid_gap": null,
            "grid_row": null,
            "grid_template_areas": null,
            "grid_template_columns": null,
            "grid_template_rows": null,
            "height": null,
            "justify_content": null,
            "justify_items": null,
            "left": null,
            "margin": null,
            "max_height": null,
            "max_width": null,
            "min_height": null,
            "min_width": null,
            "object_fit": null,
            "object_position": null,
            "order": null,
            "overflow": null,
            "overflow_x": null,
            "overflow_y": null,
            "padding": null,
            "right": null,
            "top": null,
            "visibility": null,
            "width": null
          }
        },
        "56e31cbc7f5d436f8c9e61319c33acc4": {
          "model_module": "@jupyter-widgets/controls",
          "model_name": "DescriptionStyleModel",
          "model_module_version": "1.5.0",
          "state": {
            "_model_module": "@jupyter-widgets/controls",
            "_model_module_version": "1.5.0",
            "_model_name": "DescriptionStyleModel",
            "_view_count": null,
            "_view_module": "@jupyter-widgets/base",
            "_view_module_version": "1.2.0",
            "_view_name": "StyleView",
            "description_width": ""
          }
        }
      }
    }
  },
  "nbformat": 4,
  "nbformat_minor": 0
}